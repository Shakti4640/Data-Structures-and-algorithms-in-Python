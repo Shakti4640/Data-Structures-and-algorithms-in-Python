{
 "cells": [
  {
   "cell_type": "markdown",
   "id": "5dc52705",
   "metadata": {},
   "source": [
    "# 1071 Easy 1071 Greatest Common Divisor of Strings"
   ]
  },
  {
   "cell_type": "code",
   "execution_count": null,
   "id": "c6b9b9ed",
   "metadata": {},
   "outputs": [],
   "source": [
    "class Solution:\n",
    "    def gcdOfStrings(self, str1: str, str2: str) -> str:\n",
    "        if len(str1) == len(str2):\n",
    "            return str1 if str1==str2 else ''\n",
    "        else:\n",
    "            if len(str1) < len(str2):\n",
    "                str1,str2 = str2,str1\n",
    "            if str1[:len(str2)] == str2:\n",
    "                return self.gcdOfStrings(str1[len(str2):],str2)\n",
    "            else:\n",
    "                return ''"
   ]
  },
  {
   "cell_type": "markdown",
   "id": "d18e0574",
   "metadata": {},
   "source": [
    "# 1078 Easy 1078 Occurrences After Bigram"
   ]
  },
  {
   "cell_type": "code",
   "execution_count": null,
   "id": "8667d327",
   "metadata": {},
   "outputs": [],
   "source": [
    "# Time:  O(n)\n",
    "# Space: O(1)\n",
    "\n",
    "class Solution(object):\n",
    "    def findOcurrences(self, text, first, second):\n",
    "        \"\"\"\n",
    "        :type text: str\n",
    "        :type first: str\n",
    "        :type second: str\n",
    "        :rtype: List[str]\n",
    "        \"\"\"\n",
    "        result = []\n",
    "        first += ' '\n",
    "        second += ' '\n",
    "        third = []\n",
    "        i, j, k = 0, 0, 0\n",
    "        while k < len(text):\n",
    "            c = text[k]\n",
    "            k += 1\n",
    "            if i != len(first):\n",
    "                if c == first[i]:\n",
    "                    i += 1\n",
    "                else:\n",
    "                    i = 0\n",
    "                continue\n",
    "            if j != len(second):\n",
    "                if c == second[j]:\n",
    "                    j += 1\n",
    "                else:\n",
    "                    k -= j+1\n",
    "                    i, j = 0, 0\n",
    "                continue\n",
    "            if c != ' ':\n",
    "                third.append(c)\n",
    "                continue\n",
    "            k -= len(second) + len(third) + 1\n",
    "            i, j = 0, 0\n",
    "            result.append(\"\".join(third))\n",
    "            third = []\n",
    "        if third:\n",
    "            result.append(\"\".join(third))\n",
    "        return result"
   ]
  },
  {
   "cell_type": "markdown",
   "id": "9249dc95",
   "metadata": {},
   "source": [
    "# 1078 Easy 1078 Occurrences After Bigram"
   ]
  },
  {
   "cell_type": "code",
   "execution_count": null,
   "id": "55d6da84",
   "metadata": {},
   "outputs": [],
   "source": [
    "class Solution:\n",
    "    def findOcurrences(self, text: str, first: str, second: str) -> List[str]:\n",
    "        text = text.split()\n",
    "        return [text[i] for i in range(2, len(text)) if text[i-1] == second and text[i-2] == first]                         "
   ]
  },
  {
   "cell_type": "markdown",
   "id": "87e3cf59",
   "metadata": {},
   "source": [
    "# 1085 Easy 1085 Sum of Digits in the Minimum Number"
   ]
  },
  {
   "cell_type": "code",
   "execution_count": null,
   "id": "6c55044d",
   "metadata": {},
   "outputs": [],
   "source": [
    "# Time:  O(n * l)\n",
    "# Space: O(l)\n",
    "\n",
    "class Solution(object):\n",
    "    def sumOfDigits(self, A):\n",
    "        \"\"\"\n",
    "        :type A: List[int]\n",
    "        :rtype: int\n",
    "        \"\"\"\n",
    "        total = sum([int(c) for c in str(min(A))])\n",
    "        return 1 if total % 2 == 0 else 0"
   ]
  },
  {
   "cell_type": "markdown",
   "id": "3ca3d55b",
   "metadata": {},
   "source": [
    "# 1085 Easy 1085 Sum of Digits in the Minimum Number"
   ]
  },
  {
   "cell_type": "code",
   "execution_count": null,
   "id": "5de67cbe",
   "metadata": {},
   "outputs": [],
   "source": [
    "class Solution:\n",
    "    def sumOfDigits(self, A: List[int]) -> int:\n",
    "        return 1 - sum(map(int, str(min(A)))) % 2\n",
    "        return 1 - sum(int(c) for c in str(min(A))) % 2"
   ]
  },
  {
   "cell_type": "markdown",
   "id": "7eee664d",
   "metadata": {},
   "source": [
    "# 1086 Easy 1086 High Five"
   ]
  },
  {
   "cell_type": "code",
   "execution_count": null,
   "id": "d1946a24",
   "metadata": {},
   "outputs": [],
   "source": [
    "# Time:  O(nlogn)\n",
    "# Space: O(n)\n",
    "\n",
    "import collections\n",
    "import heapq\n",
    "\n",
    "\n",
    "class Solution(object):\n",
    "    def highFive(self, items):\n",
    "        \"\"\"\n",
    "        :type items: List[List[int]]\n",
    "        :rtype: List[List[int]]\n",
    "        \"\"\"\n",
    "        min_heaps = collections.defaultdict(list)\n",
    "        for i, val in items:\n",
    "            heapq.heappush(min_heaps[i], val)\n",
    "            if len(min_heaps[i]) > 5:\n",
    "                heapq.heappop(min_heaps[i])\n",
    "        return [[i, sum(min_heaps[i]) // len(min_heaps[i])] for i in sorted(min_heaps)]"
   ]
  },
  {
   "cell_type": "markdown",
   "id": "6ca31c73",
   "metadata": {},
   "source": [
    "# 1086 Easy 1086 High Five"
   ]
  },
  {
   "cell_type": "code",
   "execution_count": null,
   "id": "4200bdca",
   "metadata": {},
   "outputs": [],
   "source": [
    "class Solution:\n",
    "    def highFive(self, items: List[List[int]]) -> List[List[int]]:\n",
    "        res = []\n",
    "        items.sort(key = lambda x: (-x[0], x[1]))\n",
    "        while items:\n",
    "            res.append([items[-1][0], sum(b for a, b in items[-5:]) // 5])\n",
    "            while items and items[-1][0] == res[-1][0]:\n",
    "                items.pop()\n",
    "        return res"
   ]
  },
  {
   "cell_type": "markdown",
   "id": "182a8080",
   "metadata": {},
   "source": [
    "# 1089 Easy 1089 Duplicate Zeros"
   ]
  },
  {
   "cell_type": "code",
   "execution_count": null,
   "id": "c310e769",
   "metadata": {},
   "outputs": [],
   "source": [
    "# Time:  O(n)\n",
    "# Space: O(1)\n",
    "\n",
    "class Solution(object):\n",
    "    def duplicateZeros(self, arr):\n",
    "        \"\"\"\n",
    "        :type arr: List[int]\n",
    "        :rtype: None Do not return anything, modify arr in-place instead.\n",
    "        \"\"\"\n",
    "        shift, i = 0, 0\n",
    "        while i+shift < len(arr):\n",
    "            shift += int(arr[i] == 0)\n",
    "            i += 1\n",
    "        i -= 1\n",
    "        while shift:\n",
    "            if i+shift < len(arr):\n",
    "                arr[i+shift] = arr[i]\n",
    "            if arr[i] == 0:\n",
    "                shift -= 1\n",
    "                arr[i+shift] = arr[i]\n",
    "            i -= 1"
   ]
  },
  {
   "cell_type": "markdown",
   "id": "818090ce",
   "metadata": {},
   "source": [
    "# 1089 Easy 1089 Duplicate Zeros"
   ]
  },
  {
   "cell_type": "code",
   "execution_count": null,
   "id": "79545414",
   "metadata": {},
   "outputs": [],
   "source": [
    "class Solution:\n",
    "    def duplicateZeros(self, arr: List[int]) -> None:\n",
    "        \"\"\"\n",
    "        Do not return anything, modify arr in-place instead.\n",
    "        \"\"\"\n",
    "        move_pos = 0\n",
    "        last_pos = len(arr) - 1\n",
    "        for i in range(last_pos + 1):\n",
    "            # Only check [0, lastPos - movePos]\n",
    "            if i > last_pos - move_pos:\n",
    "                break\n",
    "            if arr[i] == 0:\n",
    "                # Special case\n",
    "                if i == last_pos - move_pos:\n",
    "                    arr[last_pos] = 0\n",
    "                    last_pos -= 1\n",
    "                    break\n",
    "                move_pos += 1\n",
    "        last_pos -= move_pos\n",
    "        for i in range(last, -1, -1):\n",
    "            if arr[i] == 0:\n",
    "                arr[i + move_pos] = 0\n",
    "                move_pos -= 1\n",
    "                arr[i + move_pos] = 0\n",
    "            else:\n",
    "                arr[i + move_pos] = arr[i]"
   ]
  },
  {
   "cell_type": "markdown",
   "id": "81abe063",
   "metadata": {},
   "source": [
    "# 1089 Easy 1089 Duplicate Zeros"
   ]
  },
  {
   "cell_type": "code",
   "execution_count": null,
   "id": "8b9a42c5",
   "metadata": {},
   "outputs": [],
   "source": [
    "class Solution:\n",
    "    def duplicateZeros(self, arr: List[int]) -> None:\n",
    "        \"\"\"\n",
    "        Do not return anything, modify arr in-place instead.\n",
    "        \"\"\"\n",
    "        i = 0\n",
    "        for num in list(arr):\n",
    "            if i >= len(arr): break\n",
    "            arr[i] = num\n",
    "            if not num:\n",
    "                i += 1\n",
    "                if i < len(arr):\n",
    "                    arr[i] = num\n",
    "            i += 1"
   ]
  },
  {
   "cell_type": "markdown",
   "id": "56e2f5bf",
   "metadata": {},
   "source": [
    "# 1099 Easy 1099 Two Sum Less Than K"
   ]
  },
  {
   "cell_type": "code",
   "execution_count": null,
   "id": "5d938dc7",
   "metadata": {},
   "outputs": [],
   "source": [
    "# Time:  O(nlogn)\n",
    "# Space: O(1)\n",
    "\n",
    "class Solution(object):\n",
    "    def twoSumLessThanK(self, A, K):\n",
    "        \"\"\"\n",
    "        :type A: List[int]\n",
    "        :type K: int\n",
    "        :rtype: int\n",
    "        \"\"\"\n",
    "        A.sort()\n",
    "        result = -1\n",
    "        left, right = 0, len(A)-1\n",
    "        while left < right:\n",
    "            if A[left]+A[right] >= K:\n",
    "                right -= 1\n",
    "            else:\n",
    "                result = max(result, A[left]+A[right])\n",
    "                left += 1\n",
    "        return result"
   ]
  },
  {
   "cell_type": "markdown",
   "id": "f75de93a",
   "metadata": {},
   "source": [
    "# 1099 Easy 1099 Two Sum Less Than K"
   ]
  },
  {
   "cell_type": "code",
   "execution_count": null,
   "id": "8cfb4a4f",
   "metadata": {},
   "outputs": [],
   "source": [
    "class Solution:\n",
    "    def twoSumLessThanK(self, A: List[int], K: int) -> int:\n",
    "        A.sort()\n",
    "        res, l, r = -1, 0, len(A) - 1\n",
    "        while l < r:\n",
    "            if A[l] + A[r] >= K:\n",
    "                r -= 1\n",
    "            else:\n",
    "                res = max(res, A[l] + A[r])\n",
    "                l += 1\n",
    "        return res"
   ]
  },
  {
   "cell_type": "markdown",
   "id": "ebd43854",
   "metadata": {},
   "source": [
    "# 1103 Easy 1103 Distribute Candies to People"
   ]
  },
  {
   "cell_type": "code",
   "execution_count": null,
   "id": "6b0b8bf3",
   "metadata": {},
   "outputs": [],
   "source": [
    "# Time:  O(n + logc), c is the number of candies\n",
    "# Space: O(1)\n",
    "\n",
    "class Solution(object):\n",
    "    def distributeCandies(self, candies, num_people):\n",
    "        \"\"\"\n",
    "        :type candies: int\n",
    "        :type num_people: int\n",
    "        :rtype: List[int]\n",
    "        \"\"\"\n",
    "        # find max integer p s.t. sum(1 + 2 + ... + p) <= C\n",
    "        # => remaining : 0 <= C-(1+p)*p/2 < p+1\n",
    "        # => -2p-2 < p^2+p-2C <= 0\n",
    "        # => 2C+1/4 < (p+3/2)^2 and (p+1/2)^2 <= 2C+1/4\n",
    "        # => sqrt(2C+1/4)-3/2 < p <= sqrt(2C+1/4)-1/2\n",
    "        # => p = floor(sqrt(2C+1/4)-1/2)\n",
    "        p = int((2*candies + 0.25)**0.5 - 0.5) \n",
    "        remaining = candies - (p+1)*p//2\n",
    "        rows, cols = divmod(p, num_people)\n",
    "        \n",
    "        result = [0]*num_people\n",
    "        for i in xrange(num_people):\n",
    "            result[i] = (i+1)*(rows+1) + (rows*(rows+1)//2)*num_people if i < cols else \\\n",
    "                        (i+1)*rows + ((rows-1)*rows//2)*num_people\n",
    "        result[cols] += remaining\n",
    "        return result\n",
    "\n",
    "\n",
    "# Time:  O(n + logc), c is the number of candies\n",
    "# Space: O(1)\n",
    "class Solution2(object):\n",
    "    def distributeCandies(self, candies, num_people):\n",
    "        \"\"\"\n",
    "        :type candies: int\n",
    "        :type num_people: int\n",
    "        :rtype: List[int]\n",
    "        \"\"\"\n",
    "        # find max integer p s.t. sum(1 + 2 + ... + p) <= C\n",
    "        left, right = 1, candies\n",
    "        while left <= right:\n",
    "            mid = left + (right-left)//2\n",
    "            if not ((mid <= candies*2 // (mid+1))):\n",
    "                right = mid-1\n",
    "            else:\n",
    "                left = mid+1\n",
    "        p = right\n",
    "        remaining = candies - (p+1)*p//2\n",
    "        rows, cols = divmod(p, num_people)\n",
    "        \n",
    "        result = [0]*num_people\n",
    "        for i in xrange(num_people):\n",
    "            result[i] = (i+1)*(rows+1) + (rows*(rows+1)//2)*num_people if i < cols else \\\n",
    "                        (i+1)*rows + ((rows-1)*rows//2)*num_people\n",
    "        result[cols] += remaining\n",
    "        return result\n",
    "\n",
    "\n",
    "# Time:  O(sqrt(c)), c is the number of candies\n",
    "# Space: O(1)\n",
    "class Solution3(object):\n",
    "    def distributeCandies(self, candies, num_people):\n",
    "        \"\"\"\n",
    "        :type candies: int\n",
    "        :type num_people: int\n",
    "        :rtype: List[int]\n",
    "        \"\"\"\n",
    "        result = [0]*num_people\n",
    "        i = 0\n",
    "        while candies != 0:\n",
    "            result[i % num_people] += min(candies, i+1)\n",
    "            candies -= min(candies, i+1)\n",
    "            i += 1\n",
    "        return result"
   ]
  },
  {
   "cell_type": "markdown",
   "id": "b661c3da",
   "metadata": {},
   "source": [
    "# 1103 Easy 1103 Distribute Candies to People"
   ]
  },
  {
   "cell_type": "code",
   "execution_count": null,
   "id": "ee24b372",
   "metadata": {},
   "outputs": [],
   "source": [
    "class Solution:\n",
    "    def distributeCandies(self, candies: int, num_people: int) -> List[int]:\n",
    "        res = [0] * num_people\n",
    "        i = 0\n",
    "        while candies > 0:\n",
    "            res[i % num_people] += min(candies, i + 1)\n",
    "            i += 1\n",
    "            candies -= i\n",
    "        return res"
   ]
  },
  {
   "cell_type": "markdown",
   "id": "3a350fef",
   "metadata": {},
   "source": [
    "# 1108 Easy 1108 Defanging an IP Address"
   ]
  },
  {
   "cell_type": "code",
   "execution_count": null,
   "id": "840da2a3",
   "metadata": {},
   "outputs": [],
   "source": [
    "# Time:  O(n)\n",
    "# Space: O(1)\n",
    "\n",
    "class Solution(object):\n",
    "    def defangIPaddr(self, address):\n",
    "        \"\"\"\n",
    "        :type address: str\n",
    "        :rtype: str\n",
    "        \"\"\"\n",
    "        result = []\n",
    "        for c in address:\n",
    "            if c == '.':\n",
    "                result.append(\"[.]\")\n",
    "            else:\n",
    "                result.append(c)\n",
    "        return \"\".join(result)"
   ]
  },
  {
   "cell_type": "markdown",
   "id": "54e2b4fb",
   "metadata": {},
   "source": [
    "# 1108 Easy 1108 Defanging an IP Address"
   ]
  },
  {
   "cell_type": "code",
   "execution_count": null,
   "id": "197b8756",
   "metadata": {},
   "outputs": [],
   "source": [
    "class Solution:\n",
    "    def defangIPaddr(self, address: str) -> str:\n",
    "        # replace\n",
    "        return address.replace('.', '[.]')\n",
    "    # def defangIPaddr(self, address: str) -> str:\n",
    "    #     # split and join\n",
    "    #     return '[.]'.join(address.split('.'))\n",
    "    # def defangIPaddr(self, address: str) -> str:\n",
    "    #     # replace\n",
    "    #     return re.sub('\\.', '[.]', address)\n",
    "    # def defangIPaddr(self, address: str) -> str:\n",
    "    #     return ''.join('[.]' if c == '.' else c for c in address)"
   ]
  },
  {
   "cell_type": "markdown",
   "id": "f614a36c",
   "metadata": {},
   "source": [
    "# 1108 Easy 1108 Defanging an IP Address"
   ]
  },
  {
   "cell_type": "code",
   "execution_count": null,
   "id": "986b1b39",
   "metadata": {},
   "outputs": [],
   "source": [
    "class Solution:\n",
    "    def defangIPaddr(self, address: str) -> str:\n",
    "        return address.replace(\".\", \"[.]\")"
   ]
  },
  {
   "cell_type": "markdown",
   "id": "c1922316",
   "metadata": {},
   "source": [
    "# 1114 Easy 1114 Print in Order"
   ]
  },
  {
   "cell_type": "code",
   "execution_count": null,
   "id": "ec5dae4e",
   "metadata": {},
   "outputs": [],
   "source": [
    "# Time:  O(n)\n",
    "# Space: O(1)\n",
    "\n",
    "import threading\n",
    "\n",
    "\n",
    "class Foo(object):\n",
    "    def __init__(self):\n",
    "        self.__cv = threading.Condition()\n",
    "        self.__has_first = False\n",
    "        self.__has_second = False\n",
    "\n",
    "    def first(self, printFirst):\n",
    "        \"\"\"\n",
    "        :type printFirst: method\n",
    "        :rtype: void\n",
    "        \"\"\"\n",
    "        with self.__cv:\n",
    "            # printFirst() outputs \"first\". Do not change or remove this line.\n",
    "            printFirst()            \n",
    "            self.__has_first = True\n",
    "            self.__cv.notifyAll()\n",
    "\n",
    "    def second(self, printSecond):\n",
    "        \"\"\"\n",
    "        :type printSecond: method\n",
    "        :rtype: void\n",
    "        \"\"\"\n",
    "        with self.__cv:\n",
    "            while not self.__has_first:\n",
    "                self.__cv.wait()\n",
    "            # printSecond() outputs \"second\". Do not change or remove this line.\n",
    "            printSecond()\n",
    "            self.__has_second = True\n",
    "            self.__cv.notifyAll()\n",
    "              \n",
    "    def third(self, printThird):\n",
    "        \"\"\"\n",
    "        :type printThird: method\n",
    "        :rtype: void\n",
    "        \"\"\"\n",
    "        with self.__cv:\n",
    "            while not self.__has_second:\n",
    "                self.__cv.wait()\n",
    "            # printThird() outputs \"third\". Do not change or remove this line.\n",
    "            printThird()\n",
    "            self.__cv.notifyAll()\n",
    "        "
   ]
  },
  {
   "cell_type": "markdown",
   "id": "72e717fb",
   "metadata": {},
   "source": [
    "# 1114 Easy 1114 Print in Order"
   ]
  },
  {
   "cell_type": "code",
   "execution_count": null,
   "id": "eccdf89c",
   "metadata": {},
   "outputs": [],
   "source": [
    "import threading\n",
    "class Foo(object):\n",
    "    def __init__(self):\n",
    "        self.two = threading.Semaphore()\n",
    "        self.three = threading.Semaphore()\n",
    "        self.two.acquire()\n",
    "        self.three.acquire()\n",
    "\n",
    "    def first(self, printFirst):\n",
    "        \"\"\"\n",
    "        :type printFirst: method\n",
    "        :rtype: void\n",
    "        \"\"\"\n",
    "        # printFirst() outputs \"first\". Do not change or remove this line.\n",
    "        printFirst()\n",
    "        self.two.release()\n",
    "\t\t\n",
    "    def second(self, printSecond):\n",
    "        \"\"\"\n",
    "        :type printSecond: method\n",
    "        :rtype: void\n",
    "        \"\"\"\n",
    "        self.two.acquire()\n",
    "        # printSecond() outputs \"second\". Do not change or remove this line.\n",
    "        printSecond()\n",
    "        self.three.release()\n",
    "        \n",
    "    def third(self, printThird):\n",
    "        \"\"\"\n",
    "        :type printThird: method\n",
    "        :rtype: void\n",
    "        \"\"\"\n",
    "        self.three.acquire()\n",
    "        # printThird() outputs \"third\". Do not change or remove this line.\n",
    "        printThird()"
   ]
  },
  {
   "cell_type": "markdown",
   "id": "8df0d46b",
   "metadata": {},
   "source": [
    "# 1118 Easy 1118 Number of Days in a Month"
   ]
  },
  {
   "cell_type": "code",
   "execution_count": null,
   "id": "7271bc6f",
   "metadata": {},
   "outputs": [],
   "source": [
    "# Time:  O(1)\n",
    "# Space: O(1)\n",
    "\n",
    "class Solution(object):\n",
    "    def numberOfDays(self, Y, M):\n",
    "        \"\"\"\n",
    "        :type Y: int\n",
    "        :type M: int\n",
    "        :rtype: int\n",
    "        \"\"\"\n",
    "        leap = 1 if ((Y % 4 == 0) and (Y % 100 != 0)) or (Y % 400 == 0) else 0\n",
    "        return (28+leap if (M == 2) else 31-(M-1)%7%2)\n",
    "        "
   ]
  },
  {
   "cell_type": "markdown",
   "id": "ba6dac22",
   "metadata": {},
   "source": [
    "# 1118 Easy 1118 Number of Days in a Month"
   ]
  },
  {
   "cell_type": "code",
   "execution_count": null,
   "id": "55281358",
   "metadata": {},
   "outputs": [],
   "source": [
    "class Solution:\n",
    "    def numberOfDays(self, Y: int, M: int) -> int:\n",
    "        return 29 + {2: Y % (Y % 25 and 4 or 16) and -1}.get(M, ((M % 2) ^ (M > 7)) + 1)"
   ]
  },
  {
   "cell_type": "markdown",
   "id": "6b4a0df0",
   "metadata": {},
   "source": [
    "# 1119 Easy 1119 Remove Vowels from a String"
   ]
  },
  {
   "cell_type": "code",
   "execution_count": null,
   "id": "15333548",
   "metadata": {},
   "outputs": [],
   "source": [
    "# Time:  O(n)\n",
    "# Space: O(1)\n",
    "\n",
    "class Solution(object):\n",
    "    def removeVowels(self, S):\n",
    "        \"\"\"\n",
    "        :type S: str\n",
    "        :rtype: str\n",
    "        \"\"\"\n",
    "        lookup = set(\"aeiou\")\n",
    "        return \"\".join(c for c in S if c not in lookup)"
   ]
  },
  {
   "cell_type": "markdown",
   "id": "1d4b6e03",
   "metadata": {},
   "source": [
    "# 1119 Easy 1119 Remove Vowels from a String"
   ]
  },
  {
   "cell_type": "code",
   "execution_count": null,
   "id": "68f08ea0",
   "metadata": {},
   "outputs": [],
   "source": [
    "class Solution:\n",
    "    def removeVowels(self, S: str) -> str:\n",
    "        return ''.join(filter(lambda x: x not in 'aeiou', S))\n",
    "        return ''.join(c for c in S if c not in 'aeiou')\n",
    "        "
   ]
  },
  {
   "cell_type": "markdown",
   "id": "724f1164",
   "metadata": {},
   "source": [
    "# 1122 Easy 1122 Relative Sort Array"
   ]
  },
  {
   "cell_type": "code",
   "execution_count": null,
   "id": "8f9b8c11",
   "metadata": {},
   "outputs": [],
   "source": [
    "# Time:  O(nlogn)\n",
    "# Space: O(n)\n",
    "\n",
    "class Solution(object):\n",
    "    def relativeSortArray(self, arr1, arr2):\n",
    "        \"\"\"\n",
    "        :type arr1: List[int]\n",
    "        :type arr2: List[int]\n",
    "        :rtype: List[int]\n",
    "        \"\"\"\n",
    "        lookup = {v: i for i, v in enumerate(arr2)}\n",
    "        return sorted(arr1, key=lambda i: lookup.get(i, len(arr2)+i))"
   ]
  },
  {
   "cell_type": "markdown",
   "id": "d6e6d604",
   "metadata": {},
   "source": [
    "# 1122 Easy 1122 Relative Sort Array"
   ]
  },
  {
   "cell_type": "code",
   "execution_count": null,
   "id": "d1585d47",
   "metadata": {},
   "outputs": [],
   "source": [
    "class Solution:\n",
    "    def relativeSortArray(self, arr1: List[int], arr2: List[int]) -> List[int]:\n",
    "        return sorted(arr1, key = lambda x: arr2.index(x) if x in arr2 else len(arr2) + x)"
   ]
  },
  {
   "cell_type": "markdown",
   "id": "33059a6f",
   "metadata": {},
   "source": [
    "# 1128 Easy 1128 Number of Equivalent Domino Pairs"
   ]
  },
  {
   "cell_type": "code",
   "execution_count": null,
   "id": "10150134",
   "metadata": {},
   "outputs": [],
   "source": [
    "# Time:  O(n)\n",
    "# Space: O(n)\n",
    "\n",
    "import collections\n",
    "\n",
    "\n",
    "class Solution(object):\n",
    "    def numEquivDominoPairs(self, dominoes):\n",
    "        \"\"\"\n",
    "        :type dominoes: List[List[int]]\n",
    "        :rtype: int\n",
    "        \"\"\"\n",
    "        counter = collections.Counter((min(x), max(x)) for x in dominoes)\n",
    "        return sum(v*(v-1)//2 for v in counter.itervalues())"
   ]
  },
  {
   "cell_type": "markdown",
   "id": "cf6c2f79",
   "metadata": {},
   "source": [
    "# 1128 Easy 1128 Number of Equivalent Domino Pairs"
   ]
  },
  {
   "cell_type": "code",
   "execution_count": null,
   "id": "94336d55",
   "metadata": {},
   "outputs": [],
   "source": [
    "class Solution:\n",
    "    def numEquivDominoPairs(self, dominoes: List[List[int]]) -> int:\n",
    "        return sum(v * (v - 1) // 2 for v in collections.Counter(tuple(sorted(d)) for d in dominoes).values())"
   ]
  },
  {
   "cell_type": "markdown",
   "id": "3a00c509",
   "metadata": {},
   "source": [
    "# 1133 Easy 1133 Largest Unique Number"
   ]
  },
  {
   "cell_type": "code",
   "execution_count": null,
   "id": "753604a9",
   "metadata": {},
   "outputs": [],
   "source": [
    "# Time:  O(n)\n",
    "# Space: O(n)\n",
    "\n",
    "import collections\n",
    "\n",
    "\n",
    "class Solution(object):\n",
    "    def largestUniqueNumber(self, A):\n",
    "        \"\"\"\n",
    "        :type A: List[int]\n",
    "        :rtype: int\n",
    "        \"\"\"\n",
    "        A.append(-1)\n",
    "        return max(k for k,v in collections.Counter(A).items() if v == 1)"
   ]
  },
  {
   "cell_type": "markdown",
   "id": "2d97f47e",
   "metadata": {},
   "source": [
    "# 1133 Easy 1133 Largest Unique Number"
   ]
  },
  {
   "cell_type": "code",
   "execution_count": null,
   "id": "ec56eb74",
   "metadata": {},
   "outputs": [],
   "source": [
    "class Solution:\n",
    "    def largestUniqueNumber(self, A: List[int]) -> int:\n",
    "        cnt = collections.Counter(A)\n",
    "        a = sorted(k for k, v in cnt.items() if v == 1)\n",
    "        return a[-1] if a else -1\n",
    "        "
   ]
  },
  {
   "cell_type": "markdown",
   "id": "9643b7f4",
   "metadata": {},
   "source": [
    "# 1134 Easy 1134 Armstrong Number"
   ]
  },
  {
   "cell_type": "code",
   "execution_count": null,
   "id": "65a94129",
   "metadata": {},
   "outputs": [],
   "source": [
    "# Time:  O(klogk)\n",
    "# Space: O(k)\n",
    "\n",
    "class Solution(object):\n",
    "    def isArmstrong(self, N):\n",
    "        \"\"\"\n",
    "        :type N: int\n",
    "        :rtype: bool\n",
    "        \"\"\"\n",
    "        n_str = str(N)\n",
    "        return sum(int(i)**len(n_str) for i in n_str) == N"
   ]
  },
  {
   "cell_type": "markdown",
   "id": "59cb9a6f",
   "metadata": {},
   "source": [
    "# 1134 Easy 1134 Armstrong Number"
   ]
  },
  {
   "cell_type": "code",
   "execution_count": null,
   "id": "bfc24e59",
   "metadata": {},
   "outputs": [],
   "source": [
    "class Solution:\n",
    "    def isArmstrong(self, N: int) -> bool:\n",
    "        ns = [(int(c), int(c)) for c in str(N)]\n",
    "        sm = sum(a for a, b in ns)\n",
    "        while sm < N:\n",
    "            ns = [(a * b, b) for a, b in ns]\n",
    "            sm = sum(a for a, b in ns)\n",
    "        return sm == N\n",
    "        "
   ]
  },
  {
   "cell_type": "markdown",
   "id": "cd1f8197",
   "metadata": {},
   "source": [
    "# 1137 Easy 1137 Nth Tribonacci Number"
   ]
  },
  {
   "cell_type": "code",
   "execution_count": null,
   "id": "aa742803",
   "metadata": {},
   "outputs": [],
   "source": [
    "class Solution:\n",
    "    def tribonacci(self, n: int) -> int:\n",
    "        t0, t1, t2 = 0, 1, 1\n",
    "        for _ in range(n):\n",
    "            t0, t1, t2 = t1, t2, t0 + t1 + t2\n",
    "        return t0\n",
    "        "
   ]
  },
  {
   "cell_type": "markdown",
   "id": "8306a9ae",
   "metadata": {},
   "source": [
    "# 1150 Easy 1150 Check If a Number Is Majority Element in a Sorted Array"
   ]
  },
  {
   "cell_type": "code",
   "execution_count": null,
   "id": "99e54f13",
   "metadata": {},
   "outputs": [],
   "source": [
    "# Time:  O(logn)\n",
    "# Space: O(1)\n",
    "\n",
    "import bisect\n",
    "\n",
    "\n",
    "class Solution(object):\n",
    "    def isMajorityElement(self, nums, target):\n",
    "        \"\"\"\n",
    "        :type nums: List[int]\n",
    "        :type target: int\n",
    "        :rtype: bool\n",
    "        \"\"\"\n",
    "        if len(nums) % 2:\n",
    "            if nums[len(nums)//2] != target:\n",
    "                return False\n",
    "        else:\n",
    "            if not (nums[len(nums)//2-1] == nums[len(nums)//2] == target):\n",
    "                return False\n",
    "\n",
    "        left = bisect.bisect_left(nums, target)\n",
    "        right= bisect.bisect_right(nums, target)\n",
    "        return (right-left)*2 > len(nums)"
   ]
  },
  {
   "cell_type": "markdown",
   "id": "a2641f68",
   "metadata": {},
   "source": [
    "# 1150 Easy 1150 Check If a Number Is Majority Element in a Sorted Array"
   ]
  },
  {
   "cell_type": "code",
   "execution_count": null,
   "id": "8d3d8238",
   "metadata": {},
   "outputs": [],
   "source": [
    "class Solution:\n",
    "    def isMajorityElement(self, nums: List[int], target: int) -> bool:\n",
    "        return nums.count(target) > len(nums) // 2\n",
    "        "
   ]
  },
  {
   "cell_type": "markdown",
   "id": "e5ed86a5",
   "metadata": {},
   "source": [
    "# 1154 Easy 1154 Day of the Year"
   ]
  },
  {
   "cell_type": "code",
   "execution_count": null,
   "id": "f86b7106",
   "metadata": {},
   "outputs": [],
   "source": [
    "# Time:  O(1)\n",
    "# Space: O(1)\n",
    "\n",
    "class Solution(object):\n",
    "    def __init__(self):\n",
    "        def dayOfMonth(M):\n",
    "            return (28 if (M == 2) else 31-(M-1)%7%2)\n",
    "\n",
    "        self.__lookup = [0]*12\n",
    "        for M in xrange(1, len(self.__lookup)):\n",
    "            self.__lookup[M] += self.__lookup[M-1]+dayOfMonth(M)\n",
    "            \n",
    "    def dayOfYear(self, date):\n",
    "        \"\"\"\n",
    "        :type date: str\n",
    "        :rtype: int\n",
    "        \"\"\"\n",
    "        Y, M, D = map(int, date.split(\"-\"))\n",
    "        leap = 1 if M > 2 and (((Y % 4 == 0) and (Y % 100 != 0)) or (Y % 400 == 0)) else 0\n",
    "        return self.__lookup[M-1]+D+leap\n",
    "\n",
    "\n",
    "# Time:  O(1)\n",
    "# Space: O(1)\n",
    "class Solution2(object):\n",
    "    def dayOfYear(self, date):\n",
    "        \"\"\"\n",
    "        :type date: str\n",
    "        :rtype: int\n",
    "        \"\"\"\n",
    "        def numberOfDays(Y, M):\n",
    "            leap = 1 if ((Y % 4 == 0) and (Y % 100 != 0)) or (Y % 400 == 0) else 0\n",
    "            return (28+leap if (M == 2) else 31-(M-1)%7%2)\n",
    "\n",
    "        Y, M, result = map(int, date.split(\"-\"))\n",
    "        for i in xrange(1, M):\n",
    "            result += numberOfDays(Y, i)\n",
    "        return result"
   ]
  },
  {
   "cell_type": "markdown",
   "id": "ad875bb1",
   "metadata": {},
   "source": [
    "# 1154 Easy 1154 Day of the Year"
   ]
  },
  {
   "cell_type": "code",
   "execution_count": null,
   "id": "6182aa9c",
   "metadata": {},
   "outputs": [],
   "source": [
    "class Solution:\n",
    "    def dayOfYear(self, date: str) -> int:\n",
    "        cnt = [31, 28, 31, 30, 31, 30, 31, 31, 30, 31, 30, 31]\n",
    "        y, m, d = map(int, date.split('-'))\n",
    "        days = sum(cnt[:m - 1]) + d\n",
    "        if m > 2:\n",
    "            if y % 400 == 0: days += 1\n",
    "            if y % 100 == 0: return days\n",
    "            if y % 4 == 0: days += 1\n",
    "        return days"
   ]
  },
  {
   "cell_type": "markdown",
   "id": "353d52ff",
   "metadata": {},
   "source": [
    "# 1160 Easy 1160 Find Words That Can Be Formed by Characters"
   ]
  },
  {
   "cell_type": "code",
   "execution_count": null,
   "id": "575b4c36",
   "metadata": {},
   "outputs": [],
   "source": [
    "# Time:  O(m * n), m is the length of chars, n is the number of words\n",
    "# Space: O(1)\n",
    "\n",
    "import collections\n",
    "\n",
    "\n",
    "class Solution(object):\n",
    "    def countCharacters(self, words, chars):\n",
    "        \"\"\"\n",
    "        :type words: List[str]\n",
    "        :type chars: str\n",
    "        :rtype: int\n",
    "        \"\"\"\n",
    "        def check(word, chars, count):\n",
    "            if len(word) > len(chars):\n",
    "                return False\n",
    "            curr_count = collections.Counter()\n",
    "            for c in word:\n",
    "                curr_count[c] += 1\n",
    "                if c not in count or count[c] < curr_count[c]:\n",
    "                    return False\n",
    "            return True\n",
    "        \n",
    "        count = collections.Counter(chars)\n",
    "        return sum(len(word) for word in words if check(word, chars, count))"
   ]
  },
  {
   "cell_type": "markdown",
   "id": "7b087db6",
   "metadata": {},
   "source": [
    "# 1160 Easy 1160 Find Words That Can Be Formed by Characters"
   ]
  },
  {
   "cell_type": "code",
   "execution_count": null,
   "id": "b76d6d7e",
   "metadata": {},
   "outputs": [],
   "source": [
    "from collections import Counter as cnt\n",
    "class Solution:\n",
    "    def countCharacters(self, words: List[str], chars: str) -> int:\n",
    "        return sum(not cnt(w) - cnt(chars) and len(w) for w in words)"
   ]
  },
  {
   "cell_type": "markdown",
   "id": "6661eb92",
   "metadata": {},
   "source": [
    "# 1165 Easy 1165 SingleRow Keyboard"
   ]
  },
  {
   "cell_type": "code",
   "execution_count": null,
   "id": "04caa340",
   "metadata": {},
   "outputs": [],
   "source": [
    "class Solution:\n",
    "    def calculateTime(self, k: str, word: str) -> int:\n",
    "        return sum(abs(k.index(a) - k.index(b)) for a, b in zip(k[0] + word, word))"
   ]
  },
  {
   "cell_type": "markdown",
   "id": "75201a5e",
   "metadata": {},
   "source": [
    "# 1175 Easy 1175 Prime Arrangements"
   ]
  },
  {
   "cell_type": "code",
   "execution_count": null,
   "id": "2c455357",
   "metadata": {},
   "outputs": [],
   "source": [
    "# Time:  O(n/2 + n/3 + ... + n/p) = O(nlog(logn)), see https://mathoverflow.net/questions/4596/on-the-series-1-2-1-3-1-5-1-7-1-11\n",
    "# Space: O(n)\n",
    "\n",
    "class Solution(object):\n",
    "    def numPrimeArrangements(self, n):\n",
    "        \"\"\"\n",
    "        :type n: int\n",
    "        :rtype: int\n",
    "        \"\"\"\n",
    "        def count_primes(n):\n",
    "            if n <= 1:\n",
    "                return 0\n",
    "            is_prime = [True]*((n+1)//2)\n",
    "            cnt = len(is_prime)\n",
    "            for i in xrange(3, n+1, 2):\n",
    "                if i*i > n:\n",
    "                    break\n",
    "                if not is_prime[i//2]:\n",
    "                    continue\n",
    "                for j in xrange(i*i, n+1, 2*i):\n",
    "                    if not is_prime[j//2]:\n",
    "                        continue\n",
    "                    cnt -= 1\n",
    "                    is_prime[j//2] = False\n",
    "            return cnt\n",
    "        \n",
    "        def factorial(n):\n",
    "            result = 1\n",
    "            for i in xrange(2, n+1):\n",
    "                result = (result*i)%MOD\n",
    "            return result\n",
    "\n",
    "        MOD = 10**9+7\n",
    "        cnt = count_primes(n)\n",
    "        return factorial(cnt) * factorial(n-cnt) % MOD"
   ]
  },
  {
   "cell_type": "markdown",
   "id": "8649a3e0",
   "metadata": {},
   "source": [
    "# 1175 Easy 1175 Prime Arrangements"
   ]
  },
  {
   "cell_type": "code",
   "execution_count": null,
   "id": "ccad8558",
   "metadata": {},
   "outputs": [],
   "source": [
    "class Solution:\n",
    "    def numPrimeArrangements(self, n: int) -> int:\n",
    "        primes = [2,3,5,7,11,13,17,19,23,29,31,37,41,43,47,53,59,61,67,71,73,79,83,89,97]\n",
    "        cnt = bisect.bisect(primes, n)\n",
    "        return math.factorial(cnt) * math.factorial(n - cnt) % (10 ** 9 + 7)\n",
    "    "
   ]
  },
  {
   "cell_type": "markdown",
   "id": "bdccf550",
   "metadata": {},
   "source": [
    "# 1176 Easy 1176 Diet Plan Performance"
   ]
  },
  {
   "cell_type": "code",
   "execution_count": null,
   "id": "d22f56a0",
   "metadata": {},
   "outputs": [],
   "source": [
    "# Time:  O(n)\n",
    "# Space: O(1)\n",
    "\n",
    "import itertools\n",
    "\n",
    "\n",
    "class Solution(object):\n",
    "    def dietPlanPerformance(self, calories, k, lower, upper):\n",
    "        \"\"\"\n",
    "        :type calories: List[int]\n",
    "        :type k: int\n",
    "        :type lower: int\n",
    "        :type upper: int\n",
    "        :rtype: int\n",
    "        \"\"\"\n",
    "        total = sum(itertools.islice(calories, 0, k))\n",
    "        result = int(total > upper)-int(total < lower)\n",
    "        for i in xrange(k, len(calories)):\n",
    "            total += calories[i]-calories[i-k]\n",
    "            result += int(total > upper)-int(total < lower)\n",
    "        return result"
   ]
  },
  {
   "cell_type": "markdown",
   "id": "2e2079bb",
   "metadata": {},
   "source": [
    "# 1176 Easy 1176 Diet Plan Performance"
   ]
  },
  {
   "cell_type": "code",
   "execution_count": null,
   "id": "971e29d2",
   "metadata": {},
   "outputs": [],
   "source": [
    "class Solution:\n",
    "    def dietPlanPerformance(self, calories: List[int], k: int, lower: int, upper: int) -> int:\n",
    "        sm = sum(calories[:k])\n",
    "        points = (sm > upper) - (sm < lower)\n",
    "        for i in range(k, len(calories)):\n",
    "            sm += calories[i] - calories[i - k]\n",
    "            points += (sm > upper) - (sm < lower)\n",
    "        return points\n",
    "            "
   ]
  },
  {
   "cell_type": "markdown",
   "id": "2f1c704f",
   "metadata": {},
   "source": [
    "# 1180 Easy 1180 Count Substrings with Only One Distinct Letter"
   ]
  },
  {
   "cell_type": "code",
   "execution_count": null,
   "id": "3baef523",
   "metadata": {},
   "outputs": [],
   "source": [
    "# Time:  O(n)\n",
    "# Space: O(1)\n",
    "\n",
    "class Solution(object):\n",
    "    def countLetters(self, S):\n",
    "        \"\"\"\n",
    "        :type S: str\n",
    "        :rtype: int\n",
    "        \"\"\"\n",
    "        result = len(S)\n",
    "        left = 0\n",
    "        for right in xrange(1, len(S)):\n",
    "            if S[right] == S[left]:\n",
    "                result += right-left\n",
    "            else:\n",
    "                left = right\n",
    "        return result"
   ]
  },
  {
   "cell_type": "markdown",
   "id": "ccfe85d6",
   "metadata": {},
   "source": [
    "# 1180 Easy 1180 Count Substrings with Only One Distinct Letter"
   ]
  },
  {
   "cell_type": "code",
   "execution_count": null,
   "id": "9aa091b3",
   "metadata": {},
   "outputs": [],
   "source": [
    "class Solution:\n",
    "    def countLetters(self, S: str) -> int:\n",
    "        cnt = collections.Counter()\n",
    "        i = res = 0\n",
    "        for j, c in enumerate(S):\n",
    "            cnt[c] += 1\n",
    "            while len(cnt) > 1:\n",
    "                cnt[S[i]] -= 1\n",
    "                if not cnt[S[i]]:\n",
    "                    cnt.pop(S[i])\n",
    "                i += 1\n",
    "            res += j - i + 1\n",
    "        return res\n",
    "                \n",
    "            "
   ]
  },
  {
   "cell_type": "markdown",
   "id": "ce890142",
   "metadata": {},
   "source": [
    "# 1184 Easy 1184 Distance Between Bus Stops"
   ]
  },
  {
   "cell_type": "code",
   "execution_count": null,
   "id": "39c9d4ea",
   "metadata": {},
   "outputs": [],
   "source": [
    "# Time:  O(n)\n",
    "# Space: O(1)\n",
    "\n",
    "import itertools\n",
    "\n",
    "\n",
    "class Solution(object):\n",
    "    def distanceBetweenBusStops(self, distance, start, destination):\n",
    "        \"\"\"\n",
    "        :type distance: List[int]\n",
    "        :type start: int\n",
    "        :type destination: int\n",
    "        :rtype: int\n",
    "        \"\"\"\n",
    "        if start > destination:\n",
    "            start, destination = destination, start\n",
    "        s_to_d = sum(itertools.islice(distance, start, destination))\n",
    "        d_to_s = sum(itertools.islice(distance, 0, start)) + \\\n",
    "                 sum(itertools.islice(distance, destination, len(distance)))\n",
    "        return min(s_to_d, d_to_s)"
   ]
  },
  {
   "cell_type": "markdown",
   "id": "0cdb4641",
   "metadata": {},
   "source": [
    "# 1184 Easy 1184 Distance Between Bus Stops"
   ]
  },
  {
   "cell_type": "code",
   "execution_count": null,
   "id": "3e5a0cd8",
   "metadata": {},
   "outputs": [],
   "source": [
    "class Solution:\n",
    "    def distanceBetweenBusStops(self, d: List[int], i: int, j: int) -> int:\n",
    "        return min(sum(d[min(i, j):max(i, j)]), sum(d[:min(i, j)] + d[max(i, j):]))"
   ]
  },
  {
   "cell_type": "markdown",
   "id": "0ddaa45b",
   "metadata": {},
   "source": [
    "# 1185 Easy 1185 Day of the Week"
   ]
  },
  {
   "cell_type": "code",
   "execution_count": null,
   "id": "6a6a0c69",
   "metadata": {},
   "outputs": [],
   "source": [
    "# Time:  O(1)\n",
    "# Space: O(1)\n",
    "\n",
    "class Solution(object):\n",
    "    def dayOfTheWeek(self, day, month, year):\n",
    "        \"\"\"\n",
    "        :type day: int\n",
    "        :type month: int\n",
    "        :type year: int\n",
    "        :rtype: str\n",
    "        \"\"\"\n",
    "        DAYS = [\"Sunday\", \"Monday\", \"Tuesday\", \"Wednesday\", \\\n",
    "                \"Thursday\", \"Friday\", \"Saturday\"]\n",
    "\n",
    "        # Zeller Formula\n",
    "        if month < 3:\n",
    "            month += 12\n",
    "            year -= 1\n",
    "        c, y = divmod(year, 100)\n",
    "        w = (c//4 - 2*c + y + y//4 + 13*(month+1)//5 + day - 1) % 7\n",
    "        return DAYS[w]"
   ]
  },
  {
   "cell_type": "markdown",
   "id": "960414b4",
   "metadata": {},
   "source": [
    "# 1185 Easy 1185 Day of the Week"
   ]
  },
  {
   "cell_type": "code",
   "execution_count": null,
   "id": "735d7f51",
   "metadata": {},
   "outputs": [],
   "source": [
    "from datetime import date\n",
    "class Solution:\n",
    "    def dayOfTheWeek(self, day: int, month: int, year: int) -> str:\n",
    "        return date(year, month, day).strftime(\"%A\")"
   ]
  },
  {
   "cell_type": "markdown",
   "id": "7e6d2592",
   "metadata": {},
   "source": [
    "# 1189 Easy 1189 Maximum Number of Balloons"
   ]
  },
  {
   "cell_type": "code",
   "execution_count": null,
   "id": "8a5f4847",
   "metadata": {},
   "outputs": [],
   "source": [
    "# Time:  O(n)\n",
    "# Space: O(1)\n",
    "\n",
    "import collections\n",
    "\n",
    "\n",
    "class Solution(object):\n",
    "    def maxNumberOfBalloons(self, text):\n",
    "        \"\"\"\n",
    "        :type text: str\n",
    "        :rtype: int\n",
    "        \"\"\"\n",
    "        TARGET = \"balloon\"\n",
    "        source_count = collections.Counter(text)\n",
    "        target_count = collections.Counter(TARGET)\n",
    "        return min(source_count[c]//target_count[c] for c in target_count.iterkeys())"
   ]
  },
  {
   "cell_type": "markdown",
   "id": "4ca5a9b9",
   "metadata": {},
   "source": [
    "# 1189 Easy 1189 Maximum Number of Balloons"
   ]
  },
  {
   "cell_type": "code",
   "execution_count": null,
   "id": "00e99189",
   "metadata": {},
   "outputs": [],
   "source": [
    "class Solution:\n",
    "    def maxNumberOfBalloons(self, t: str) -> int:\n",
    "          return min(t.count(c) // 'balloon'.count(c) for c in 'balon')"
   ]
  },
  {
   "cell_type": "markdown",
   "id": "a9d8f614",
   "metadata": {},
   "source": [
    "# 1196 Easy 1196 How Many Apples Can You Put into the Basket"
   ]
  },
  {
   "cell_type": "code",
   "execution_count": null,
   "id": "12d589e9",
   "metadata": {},
   "outputs": [],
   "source": [
    "# Time:  O(nlogn)\n",
    "# Space: O(n)\n",
    "\n",
    "class Solution(object):\n",
    "    def maxNumberOfApples(self, arr):\n",
    "        \"\"\"\n",
    "        :type arr: List[int]\n",
    "        :rtype: int\n",
    "        \"\"\"\n",
    "        LIMIT = 5000\n",
    "        arr.sort()\n",
    "        result, total = 0, 0\n",
    "        for x in arr:\n",
    "            if total+x > LIMIT:\n",
    "                break\n",
    "            total += x\n",
    "            result += 1\n",
    "        return result"
   ]
  },
  {
   "cell_type": "markdown",
   "id": "b4f950fb",
   "metadata": {},
   "source": [
    "# 1196 Easy 1196 How Many Apples Can You Put into the Basket"
   ]
  },
  {
   "cell_type": "code",
   "execution_count": null,
   "id": "7a29ea8c",
   "metadata": {},
   "outputs": [],
   "source": [
    "class Solution:\n",
    "    def maxNumberOfApples(self, arr: List[int]) -> int:\n",
    "        return bisect.bisect(list(itertools.accumulate(sorted(arr))), 5000)"
   ]
  },
  {
   "cell_type": "markdown",
   "id": "1fe82e70",
   "metadata": {},
   "source": [
    "# 1200 Easy 1200 Minimum Absolute Difference"
   ]
  },
  {
   "cell_type": "code",
   "execution_count": null,
   "id": "6f36f7b2",
   "metadata": {},
   "outputs": [],
   "source": [
    "# Time:  O(nlogn)\n",
    "# Space: O(n)\n",
    "\n",
    "class Solution(object):\n",
    "    def minimumAbsDifference(self, arr):\n",
    "        \"\"\"\n",
    "        :type arr: List[int]\n",
    "        :rtype: List[List[int]]\n",
    "        \"\"\"\n",
    "        result = []\n",
    "        min_diff = float(\"inf\")\n",
    "        arr.sort()\n",
    "        for i in xrange(len(arr)-1):\n",
    "            diff = arr[i+1]-arr[i]\n",
    "            if diff < min_diff:\n",
    "                min_diff = diff\n",
    "                result = [[arr[i], arr[i+1]]]\n",
    "            elif diff == min_diff:\n",
    "                result.append([arr[i], arr[i+1]])\n",
    "        return result"
   ]
  },
  {
   "cell_type": "markdown",
   "id": "ab7a7954",
   "metadata": {},
   "source": [
    "# 1200 Easy 1200 Minimum Absolute Difference"
   ]
  },
  {
   "cell_type": "code",
   "execution_count": null,
   "id": "3d184daa",
   "metadata": {},
   "outputs": [],
   "source": [
    "'''\n",
    "Given an array of distinct integers arr, find all pairs of elements with the minimum absolute difference of any two elements. \n",
    "\n",
    "Return a list of pairs in ascending order(with respect to pairs), each pair [a, b] follows\n",
    "\n",
    "a, b are from arr\n",
    "a < b\n",
    "b - a equals to the minimum absolute difference of any two elements in arr\n",
    " \n",
    "\n",
    "Example 1:\n",
    "\n",
    "Input: arr = [4,2,1,3]\n",
    "Output: [[1,2],[2,3],[3,4]]\n",
    "Explanation: The minimum absolute difference is 1. List all pairs with difference equal to 1 in ascending order.\n",
    "Example 2:\n",
    "\n",
    "Input: arr = [1,3,6,10,15]\n",
    "Output: [[1,3]]\n",
    "Example 3:\n",
    "\n",
    "Input: arr = [3,8,-10,23,19,-4,-14,27]\n",
    "Output: [[-14,-10],[19,23],[23,27]]\n",
    " \n",
    "\n",
    "Constraints:\n",
    "\n",
    "2 <= arr.length <= 10^5\n",
    "-10^6 <= arr[i] <= 10^6\n",
    "'''\n",
    "\n",
    "class Solution(object):\n",
    "    def minimumAbsDifference(self, arr):\n",
    "        \"\"\"\n",
    "        :type arr: List[int]\n",
    "        :rtype: List[List[int]]\n",
    "        \"\"\"\n",
    "        if not arr:\n",
    "            return []\n",
    "        \n",
    "        arr.sort()\n",
    "        mindiff = arr[1] - arr[0]\n",
    "        for index in range(2, len(arr)):\n",
    "            mindiff = min(mindiff, (arr[index] - arr[index-1]))\n",
    "        \n",
    "        result = []\n",
    "        for index in range(1, len(arr)):\n",
    "            if arr[index] - arr[index-1] == mindiff:\n",
    "                result.append([arr[index-1], arr[index]])\n",
    "        return result\n",
    " "
   ]
  },
  {
   "cell_type": "markdown",
   "id": "3cc02e24",
   "metadata": {},
   "source": [
    "# 1207 Easy 1207 Unique Number of Occurrences"
   ]
  },
  {
   "cell_type": "code",
   "execution_count": null,
   "id": "00785ba5",
   "metadata": {},
   "outputs": [],
   "source": [
    "# Time:  O(n)\n",
    "# Space: O(n)\n",
    "\n",
    "import collections\n",
    "\n",
    "\n",
    "class Solution(object):\n",
    "    def uniqueOccurrences(self, arr):\n",
    "        \"\"\"\n",
    "        :type arr: List[int]\n",
    "        :rtype: bool\n",
    "        \"\"\"\n",
    "        count = collections.Counter(arr)\n",
    "        lookup = set()\n",
    "        for v in count.itervalues():\n",
    "            if v in lookup:\n",
    "                return False\n",
    "            lookup.add(v)\n",
    "        return True\n",
    "\n",
    "\n",
    "# Time:  O(n)\n",
    "# Space: O(n)\n",
    "class Solution2(object):\n",
    "    def uniqueOccurrences(self, arr):\n",
    "        \"\"\"\n",
    "        :type arr: List[int]\n",
    "        :rtype: bool\n",
    "        \"\"\"\n",
    "        count = collections.Counter(arr)\n",
    "        return len(count) == len(set(count.itervalues()))"
   ]
  },
  {
   "cell_type": "markdown",
   "id": "51dce896",
   "metadata": {},
   "source": [
    "# 1207 Easy 1207 Unique Number of Occurrences"
   ]
  },
  {
   "cell_type": "code",
   "execution_count": null,
   "id": "038dcd2a",
   "metadata": {},
   "outputs": [],
   "source": [
    "from collections import Counter as cnt\n",
    "class Solution:\n",
    "    def uniqueOccurrences(self, arr: List[int]) -> bool:\n",
    "        return all(v == 1 for v in cnt(cnt(arr).values()).values())"
   ]
  },
  {
   "cell_type": "markdown",
   "id": "ac742b8d",
   "metadata": {},
   "source": [
    "# 1213 Easy 1213 Intersection of Three Sorted Arrays"
   ]
  },
  {
   "cell_type": "code",
   "execution_count": null,
   "id": "f22cfe4a",
   "metadata": {},
   "outputs": [],
   "source": [
    "# Time:  O(n)\n",
    "# Space: O(1)\n",
    "\n",
    "class Solution(object):\n",
    "    def arraysIntersection(self, arr1, arr2, arr3):\n",
    "        \"\"\"\n",
    "        :type arr1: List[int]\n",
    "        :type arr2: List[int]\n",
    "        :type arr3: List[int]\n",
    "        :rtype: List[int]\n",
    "        \"\"\"\n",
    "        result = []\n",
    "        i, j, k = 0, 0, 0\n",
    "        while i != len(arr1) and j != len(arr2) and k != len(arr3):\n",
    "            if arr1[i] == arr2[j] == arr3[k]:\n",
    "                result.append(arr1[i])\n",
    "                i += 1\n",
    "                j += 1\n",
    "                k += 1\n",
    "            else:\n",
    "                curr = max(arr1[i], arr2[j], arr3[k])\n",
    "                while i != len(arr1) and arr1[i] < curr:\n",
    "                    i += 1\n",
    "                while j != len(arr2) and arr2[j] < curr:\n",
    "                    j += 1\n",
    "                while k != len(arr3) and arr3[k] < curr:\n",
    "                    k += 1\n",
    "        return result\n",
    "\n",
    "\n",
    "# Time:  O(n)\n",
    "# Space: O(n)\n",
    "class Solution2(object):\n",
    "    def arraysIntersection(self, arr1, arr2, arr3):\n",
    "        \"\"\"\n",
    "        :type arr1: List[int]\n",
    "        :type arr2: List[int]\n",
    "        :type arr3: List[int]\n",
    "        :rtype: List[int]\n",
    "        \"\"\"\n",
    "        intersect = reduce(set.intersection, map(set, [arr2, arr3]))\n",
    "        return [x for x in arr1 if x in intersect]"
   ]
  },
  {
   "cell_type": "markdown",
   "id": "42be97b3",
   "metadata": {},
   "source": [
    "# 1213 Easy 1213 Intersection of Three Sorted Arrays"
   ]
  },
  {
   "cell_type": "code",
   "execution_count": null,
   "id": "fa8f22b7",
   "metadata": {},
   "outputs": [],
   "source": [
    "class Solution:\n",
    "    def arraysIntersection(self, arr1: List[int], arr2: List[int], arr3: List[int]) -> List[int]:\n",
    "        return sorted(set(arr1) & set(arr2) & set(arr3))"
   ]
  },
  {
   "cell_type": "markdown",
   "id": "2d51fd91",
   "metadata": {},
   "source": [
    "# 1217 Easy 1217 Minimum Cost to Move Chips to The Same Position"
   ]
  },
  {
   "cell_type": "code",
   "execution_count": null,
   "id": "dbe051eb",
   "metadata": {},
   "outputs": [],
   "source": [
    "class Solution:\n",
    "    def minCostToMoveChips(self, chips: List[int]) -> int:\n",
    "        return min(sum((c1 - c2) % 2 for c2 in chips) for c1 in chips)"
   ]
  },
  {
   "cell_type": "markdown",
   "id": "638a2896",
   "metadata": {},
   "source": [
    "# 1221 Easy 1221 Split a String in Balanced Strings"
   ]
  },
  {
   "cell_type": "code",
   "execution_count": null,
   "id": "6c8ca172",
   "metadata": {},
   "outputs": [],
   "source": [
    "# Time:  O(n)\n",
    "# Space: O(1)\n",
    "\n",
    "class Solution(object):\n",
    "    def balancedStringSplit(self, s):\n",
    "        \"\"\"\n",
    "        :type s: str\n",
    "        :rtype: int\n",
    "        \"\"\"\n",
    "        result, count = 0, 0      \n",
    "        for c in s:\n",
    "            count += 1 if c == 'L' else -1            \n",
    "            if count == 0:\n",
    "                result += 1\n",
    "        return result"
   ]
  },
  {
   "cell_type": "markdown",
   "id": "2b3539d7",
   "metadata": {},
   "source": [
    "# 1221 Easy 1221 Split a String in Balanced Strings"
   ]
  },
  {
   "cell_type": "code",
   "execution_count": null,
   "id": "bd31f053",
   "metadata": {},
   "outputs": [],
   "source": [
    "class Solution:\n",
    "    def balancedStringSplit(self, s: str) -> int:\n",
    "        res = cnt = 0         \n",
    "        for c in s:\n",
    "            cnt += c == 'L'\n",
    "            cnt -= c == 'R'\n",
    "            res += cnt == 0\n",
    "        return res  "
   ]
  },
  {
   "cell_type": "markdown",
   "id": "2d2c797a",
   "metadata": {},
   "source": [
    "# 1228 Easy 1228 Missing Number In Arithmetic Progression"
   ]
  },
  {
   "cell_type": "code",
   "execution_count": null,
   "id": "af8480f8",
   "metadata": {},
   "outputs": [],
   "source": [
    "# Time:  O(logn)\n",
    "# Space: O(1)\n",
    "\n",
    "class Solution(object):\n",
    "    def missingNumber(self, arr):\n",
    "        \"\"\"\n",
    "        :type arr: List[int]\n",
    "        :rtype: int\n",
    "        \"\"\"\n",
    "        def check(arr, d, x):\n",
    "            return arr[x] != arr[0] + d*x\n",
    "\n",
    "        d = (arr[-1]-arr[0])//len(arr)\n",
    "        left, right = 0, len(arr)-1\n",
    "        while left <= right:\n",
    "            mid = left + (right-left)//2\n",
    "            if check(arr, d, mid):\n",
    "                right = mid-1\n",
    "            else:\n",
    "                left = mid+1\n",
    "        return arr[0] + d*left\n",
    "\n",
    "\n",
    "# Time:  O(n)\n",
    "# Space: O(1)\n",
    "class Solution2(object):\n",
    "    def missingNumber(self, arr):\n",
    "        \"\"\"\n",
    "        :type arr: List[int]\n",
    "        :rtype: int\n",
    "        \"\"\"\n",
    "        return (min(arr)+max(arr))*(len(arr)+1)//2 - sum(arr)"
   ]
  },
  {
   "cell_type": "markdown",
   "id": "b00904ba",
   "metadata": {},
   "source": [
    "# 1228 Easy 1228 Missing Number In Arithmetic Progression"
   ]
  },
  {
   "cell_type": "code",
   "execution_count": null,
   "id": "f7e2e709",
   "metadata": {},
   "outputs": [],
   "source": [
    "class Solution:\n",
    "    def missingNumber(self, arr: List[int]) -> int:\n",
    "        d = (arr[-1] - arr[0]) // len(arr)\n",
    "        for a, b in zip(arr, arr[1:]):\n",
    "            if b != a + d:\n",
    "                return a + d\n",
    "        return 0\n",
    "        "
   ]
  },
  {
   "cell_type": "markdown",
   "id": "33b3a3f6",
   "metadata": {},
   "source": [
    "# 1232 Easy 1232 Check If It Is a Straight Line"
   ]
  },
  {
   "cell_type": "code",
   "execution_count": null,
   "id": "88585626",
   "metadata": {},
   "outputs": [],
   "source": [
    "# Time:  O(n)\n",
    "# Space: O(1)\n",
    "\n",
    "class Solution(object):\n",
    "    def checkStraightLine(self, coordinates):\n",
    "        \"\"\"\n",
    "        :type coordinates: List[List[int]]\n",
    "        :rtype: bool\n",
    "        \"\"\"\n",
    "        i, j = coordinates[:2]\n",
    "        return all(i[0] * j[1] - j[0] * i[1] +\n",
    "                   j[0] * k[1] - k[0] * j[1] +\n",
    "                   k[0] * i[1] - i[0] * k[1] == 0\n",
    "                   for k in coordinates)"
   ]
  },
  {
   "cell_type": "markdown",
   "id": "6860e118",
   "metadata": {},
   "source": [
    "# 1232 Easy 1232 Check If It Is a Straight Line"
   ]
  },
  {
   "cell_type": "code",
   "execution_count": null,
   "id": "65696e16",
   "metadata": {},
   "outputs": [],
   "source": [
    "class Solution:\n",
    "    def checkStraightLine(self, c: List[List[int]]) -> bool:\n",
    "        return len(set(a[0] == b[0] or (b[1] - a[1]) / (b[0] - a[0]) for a, b in zip(c, c[1:]))) == 1"
   ]
  },
  {
   "cell_type": "markdown",
   "id": "347c7366",
   "metadata": {},
   "source": [
    "# 1243 Easy 1243 Array Transformation"
   ]
  },
  {
   "cell_type": "code",
   "execution_count": null,
   "id": "996d4808",
   "metadata": {},
   "outputs": [],
   "source": [
    "# Time:  O(n^2)\n",
    "# Space: O(n)\n",
    "\n",
    "class Solution(object):\n",
    "    def transformArray(self, arr):\n",
    "        \"\"\"\n",
    "        :type arr: List[int]\n",
    "        :rtype: List[int]\n",
    "        \"\"\"\n",
    "        def is_changable(arr):\n",
    "            return any(arr[i-1] > arr[i] < arr[i+1] or \n",
    "                       arr[i-1] < arr[i] > arr[i+1]\n",
    "                       for i in xrange(1, len(arr)-1))\n",
    "        \n",
    "        while is_changable(arr):\n",
    "            new_arr = arr[:]\n",
    "            for i in xrange(1, len(arr)-1):\n",
    "                new_arr[i] += arr[i-1] > arr[i] < arr[i+1]\n",
    "                new_arr[i] -= arr[i-1] < arr[i] > arr[i+1]\n",
    "            arr = new_arr\n",
    "        return arr"
   ]
  },
  {
   "cell_type": "markdown",
   "id": "d3e8ffd8",
   "metadata": {},
   "source": [
    "# 1243 Easy 1243 Array Transformation"
   ]
  },
  {
   "cell_type": "code",
   "execution_count": null,
   "id": "f35b5829",
   "metadata": {},
   "outputs": [],
   "source": [
    "class Solution:\n",
    "    def transformArray(self, arr: List[int], change: bool = True) -> List[int]:\n",
    "        while change:\n",
    "            new = (\n",
    "                arr[:1]\n",
    "                + [\n",
    "                    b + (a > b < c) - (a < b > c)\n",
    "                    for a, b, c in zip(arr, arr[1:], arr[2:])\n",
    "                ]\n",
    "                + arr[-1:]\n",
    "            )\n",
    "            arr, change = new, arr != new\n",
    "        return arr"
   ]
  },
  {
   "cell_type": "markdown",
   "id": "3ccfc084",
   "metadata": {},
   "source": [
    "# 1252 Easy 1252 Cells with Odd Values in a Matrix"
   ]
  },
  {
   "cell_type": "code",
   "execution_count": null,
   "id": "879e3278",
   "metadata": {},
   "outputs": [],
   "source": [
    "# Time:  O(n + m)\n",
    "# Space: O(n + m)\n",
    "\n",
    "class Solution(object):\n",
    "    def oddCells(self, n, m, indices):\n",
    "        \"\"\"\n",
    "        :type n: int\n",
    "        :type m: int\n",
    "        :type indices: List[List[int]]\n",
    "        :rtype: int\n",
    "        \"\"\"\n",
    "        row, col = [0]*n, [0]*m\n",
    "        for r, c in indices:\n",
    "            row[r] ^= 1\n",
    "            col[c] ^= 1\n",
    "        row_sum, col_sum = sum(row), sum(col)\n",
    "        return row_sum*m+col_sum*n-2*row_sum*col_sum\n",
    "\n",
    "\n",
    "# Time:  O(n + m)\n",
    "# Space: O(n + m)\n",
    "import collections\n",
    "import itertools\n",
    "\n",
    "\n",
    "class Solution2(object):\n",
    "    def oddCells(self, n, m, indices):\n",
    "        \"\"\"\n",
    "        :type n: int\n",
    "        :type m: int\n",
    "        :type indices: List[List[int]]\n",
    "        :rtype: int\n",
    "        \"\"\"\n",
    "        fn = lambda x: sum(count&1 for count in collections.Counter(x).itervalues())\n",
    "        row_sum, col_sum = map(fn, itertools.izip(*indices))\n",
    "        return row_sum*m+col_sum*n-2*row_sum*col_sum"
   ]
  },
  {
   "cell_type": "markdown",
   "id": "f13b774b",
   "metadata": {},
   "source": [
    "# 1252 Easy 1252 Cells with Odd Values in a Matrix"
   ]
  },
  {
   "cell_type": "code",
   "execution_count": null,
   "id": "3e8f1b49",
   "metadata": {},
   "outputs": [],
   "source": [
    "from collections import Counter as cnt\n",
    "\n",
    "\n",
    "class Solution:\n",
    "    def oddCells(self, n: int, m: int, indices: List[List[int]]) -> int:\n",
    "        row, col = cnt(r for r, c in indices), cnt(c for r, c in indices)\n",
    "        return sum((row[i] + col[j]) % 2 for i in range(n) for j in range(m))"
   ]
  },
  {
   "cell_type": "markdown",
   "id": "b3ac43c6",
   "metadata": {},
   "source": [
    "# 1260 Easy 1260 Shift 2D Grid"
   ]
  },
  {
   "cell_type": "code",
   "execution_count": null,
   "id": "36b9a0d6",
   "metadata": {},
   "outputs": [],
   "source": [
    "# Time:  O(m * n)\n",
    "# Space: O(1)\n",
    "\n",
    "class Solution(object):\n",
    "    def shiftGrid(self, grid, k):\n",
    "        \"\"\"\n",
    "        :type grid: List[List[int]]\n",
    "        :type k: int\n",
    "        :rtype: List[List[int]]\n",
    "        \"\"\"\n",
    "        def rotate(grids, k):\n",
    "            def reverse(grid, start, end):\n",
    "                while start < end:\n",
    "                    start_r, start_c = divmod(start, len(grid[0]))\n",
    "                    end_r, end_c = divmod(end-1, len(grid[0]))\n",
    "                    grid[start_r][start_c], grid[end_r][end_c] = grid[end_r][end_c], grid[start_r][start_c]\n",
    "                    start += 1\n",
    "                    end -= 1\n",
    "\n",
    "            k %= len(grid)*len(grid[0])\n",
    "            reverse(grid, 0, len(grid)*len(grid[0]))\n",
    "            reverse(grid, 0, k)\n",
    "            reverse(grid, k, len(grid)*len(grid[0]))\n",
    "\n",
    "        rotate(grid, k)\n",
    "        return grid"
   ]
  },
  {
   "cell_type": "markdown",
   "id": "928f4f2d",
   "metadata": {},
   "source": [
    "# 1260 Easy 1260 Shift 2D Grid"
   ]
  },
  {
   "cell_type": "code",
   "execution_count": null,
   "id": "950b8f6b",
   "metadata": {},
   "outputs": [],
   "source": [
    "class Solution(object):\n",
    "    def shiftGrid(self, grid, k):\n",
    "        \"\"\"\n",
    "        :type grid: List[List[int]]\n",
    "        :type k: int\n",
    "        :rtype: List[List[int]]\n",
    "        \"\"\"\n",
    "        # m * n temp array\n",
    "        new_grid = [[0] * len(grid[0]) for _ in range(len(grid))]\n",
    "        m = len(grid)\n",
    "        n = len(grid[0])\n",
    "        # Compute final location\n",
    "        true_k = k % (m * n)\n",
    "        # row move\n",
    "        move_i = true_k / n\n",
    "        # col move\n",
    "        move_j = true_k % n\n",
    "\n",
    "        for i in range(m):\n",
    "            for j in range(n):\n",
    "                new_i = i + move_i\n",
    "                # move one row if move_j + j >= n\n",
    "                if move_j + j >= n:\n",
    "                    new_i += 1\n",
    "                new_i %= m\n",
    "                new_j = (j + move_j) % n\n",
    "                new_grid[new_i][new_j] = grid[i][j]\n",
    "        return new_grid"
   ]
  },
  {
   "cell_type": "markdown",
   "id": "dec228a7",
   "metadata": {},
   "source": [
    "# 1260 Easy 1260 Shift 2D Grid"
   ]
  },
  {
   "cell_type": "code",
   "execution_count": null,
   "id": "8b6b6cf4",
   "metadata": {},
   "outputs": [],
   "source": [
    "class Solution:\n",
    "    def shiftGrid(self, grid: List[List[int]], k: int) -> List[List[int]]:\n",
    "        chain = [r for row in grid for r in row]\n",
    "        k %= len(chain)\n",
    "        chain = chain[-k:] + chain[:-k]\n",
    "        return [chain[i : i + len(grid[0])] for i in range(0, len(chain), len(grid[0]))]"
   ]
  },
  {
   "cell_type": "markdown",
   "id": "db8093ea",
   "metadata": {},
   "source": [
    "# 1266 Easy 1266 Minimum Time Visiting All Points"
   ]
  },
  {
   "cell_type": "code",
   "execution_count": null,
   "id": "c47bf445",
   "metadata": {},
   "outputs": [],
   "source": [
    "# Time:  O(n)\n",
    "# Space: O(1)\n",
    "\n",
    "class Solution(object):\n",
    "    def minTimeToVisitAllPoints(self, points):\n",
    "        \"\"\"\n",
    "        :type points: List[List[int]]\n",
    "        :rtype: int\n",
    "        \"\"\"\n",
    "        return sum(max(abs(points[i+1][0] - points[i][0]),\n",
    "                       abs(points[i+1][1] - points[i][1]))\n",
    "                   for i in xrange(len(points)-1))"
   ]
  },
  {
   "cell_type": "markdown",
   "id": "2edf1e7e",
   "metadata": {},
   "source": [
    "# 1266 Easy 1266 Minimum Time Visiting All Points"
   ]
  },
  {
   "cell_type": "code",
   "execution_count": null,
   "id": "6537c27b",
   "metadata": {},
   "outputs": [],
   "source": [
    "'''\n",
    "On a plane there are n points with integer coordinates points[i] = [xi, yi]. Your task is to find the minimum time in seconds to visit all points.\n",
    "\n",
    "You can move according to the next rules:\n",
    "\n",
    "In one second always you can either move vertically, horizontally by one unit or diagonally (it means to move one unit vertically and one unit horizontally in one second).\n",
    "You have to visit the points in the same order as they appear in the array.\n",
    "\n",
    "Input: points = [[1,1],[3,4],[-1,0]]\n",
    "Output: 7\n",
    "Explanation: One optimal path is [1,1] -> [2,2] -> [3,3] -> [3,4] -> [2,3] -> [1,2] -> [0,1] -> [-1,0]   \n",
    "Time from [1,1] to [3,4] = 3 seconds \n",
    "Time from [3,4] to [-1,0] = 4 seconds\n",
    "Total time = 7 seconds\n",
    "Example 2:\n",
    "\n",
    "Input: points = [[3,2],[-2,2]]\n",
    "Output: 5\n",
    " \n",
    "\n",
    "Constraints:\n",
    "\n",
    "points.length == n\n",
    "1 <= n <= 100\n",
    "points[i].length == 2\n",
    "-1000 <= points[i][0], points[i][1] <= 1000\n",
    "'''\n",
    "\n",
    "class Solution(object):\n",
    "    def minTimeToVisitAllPoints(self, points):\n",
    "        \"\"\"\n",
    "        :type points: List[List[int]]\n",
    "        :rtype: int\n",
    "        \"\"\"\n",
    "        if not points:\n",
    "            return 0\n",
    "        result = 0\n",
    "        for index in range(1, len(points)):\n",
    "            result += max(abs(points[index][0]-points[index-1][0]), abs(points[index][1]-points[index-1][1]))\n",
    "        return result"
   ]
  },
  {
   "cell_type": "markdown",
   "id": "3515f226",
   "metadata": {},
   "source": [
    "# 1271 Easy 1271 Hexspeak"
   ]
  },
  {
   "cell_type": "code",
   "execution_count": null,
   "id": "94dd06f9",
   "metadata": {},
   "outputs": [],
   "source": [
    "# Time:  O(n)\n",
    "# Space: O(1)\n",
    "\n",
    "class Solution(object):\n",
    "    def toHexspeak(self, num):\n",
    "        \"\"\"\n",
    "        :type num: str\n",
    "        :rtype: str\n",
    "        \"\"\"\n",
    "        lookup = {0:'O', 1:'I'}\n",
    "        for i in xrange(6):\n",
    "            lookup[10+i] = chr(ord('A')+i)\n",
    "        result = []\n",
    "        n = int(num)\n",
    "        while n:\n",
    "            n, r = divmod(n, 16)\n",
    "            if r not in lookup:\n",
    "                return \"ERROR\"\n",
    "            result.append(lookup[r])\n",
    "        return \"\".join(reversed(result))\n",
    "\n",
    "\n",
    "# Time:  O(n)\n",
    "# Space: O(n)\n",
    "class Solution2(object):\n",
    "    def toHexspeak(self, num):\n",
    "        \"\"\"\n",
    "        :type num: str\n",
    "        :rtype: str\n",
    "        \"\"\"\n",
    "        result = hex(int(num)).upper()[2:].replace('0', 'O').replace('1', 'I')\n",
    "        return result if all(c in \"ABCDEFOI\" for c in result) else \"ERROR\""
   ]
  },
  {
   "cell_type": "markdown",
   "id": "41090c5d",
   "metadata": {},
   "source": [
    "# 1275 Easy 1275 Find Winner on a Tic Tac Toe Game"
   ]
  },
  {
   "cell_type": "code",
   "execution_count": null,
   "id": "e4e4bb19",
   "metadata": {},
   "outputs": [],
   "source": [
    "# Time:  O(1)\n",
    "# Space: O(1)\n",
    "\n",
    "class Solution(object):\n",
    "    def tictactoe(self, moves):\n",
    "        \"\"\"\n",
    "        :type moves: List[List[int]]\n",
    "        :rtype: str\n",
    "        \"\"\"\n",
    "        row, col = [[0]*3 for _ in xrange(2)], [[0]*3 for _ in xrange(2)]\n",
    "        diag, anti_diag = [0]*2, [0]*2\n",
    "        p = 0\n",
    "        for r, c in moves:\n",
    "            row[p][r] += 1\n",
    "            col[p][c] += 1\n",
    "            diag[p] += r == c\n",
    "            anti_diag[p] += r+c == 2\n",
    "            if 3 in (row[p][r], col[p][c], diag[p], anti_diag[p]):\n",
    "                return \"AB\"[p]\n",
    "            p ^= 1\n",
    "        return \"Draw\" if len(moves) == 9 else \"Pending\""
   ]
  },
  {
   "cell_type": "markdown",
   "id": "c103a073",
   "metadata": {},
   "source": [
    "# 1275 Easy 1275 Find Winner on a Tic Tac Toe Game"
   ]
  },
  {
   "cell_type": "code",
   "execution_count": null,
   "id": "cf9dfb51",
   "metadata": {},
   "outputs": [],
   "source": [
    "'''\n",
    "Tic-tac-toe is played by two players A and B on a 3 x 3 grid.\n",
    "\n",
    "Here are the rules of Tic-Tac-Toe:\n",
    "\n",
    "Players take turns placing characters into empty squares (\" \").\n",
    "The first player A always places \"X\" characters, while the second player B always places \"O\" characters.\n",
    "\"X\" and \"O\" characters are always placed into empty squares, never on filled ones.\n",
    "The game ends when there are 3 of the same (non-empty) character filling any row, column, or diagonal.\n",
    "The game also ends if all squares are non-empty.\n",
    "No more moves can be played if the game is over.\n",
    "Given an array moves where each element is another array of size 2 corresponding to the row and column of the grid where they mark their respective character in the order in which A and B play.\n",
    "\n",
    "Return the winner of the game if it exists (A or B), in case the game ends in a draw return \"Draw\", if there are still movements to play return \"Pending\".\n",
    "\n",
    "You can assume that moves is valid (It follows the rules of Tic-Tac-Toe), the grid is initially empty and A will play first.\n",
    "\n",
    " \n",
    "\n",
    "Example 1:\n",
    "\n",
    "Input: moves = [[0,0],[2,0],[1,1],[2,1],[2,2]]\n",
    "Output: \"A\"\n",
    "Explanation: \"A\" wins, he always plays first.\n",
    "\"X  \"    \"X  \"    \"X  \"    \"X  \"    \"X  \"\n",
    "\"   \" -> \"   \" -> \" X \" -> \" X \" -> \" X \"\n",
    "\"   \"    \"O  \"    \"O  \"    \"OO \"    \"OOX\"\n",
    "Example 2:\n",
    "\n",
    "Input: moves = [[0,0],[1,1],[0,1],[0,2],[1,0],[2,0]]\n",
    "Output: \"B\"\n",
    "Explanation: \"B\" wins.\n",
    "\"X  \"    \"X  \"    \"XX \"    \"XXO\"    \"XXO\"    \"XXO\"\n",
    "\"   \" -> \" O \" -> \" O \" -> \" O \" -> \"XO \" -> \"XO \" \n",
    "\"   \"    \"   \"    \"   \"    \"   \"    \"   \"    \"O  \"\n",
    "Example 3:\n",
    "\n",
    "Input: moves = [[0,0],[1,1],[2,0],[1,0],[1,2],[2,1],[0,1],[0,2],[2,2]]\n",
    "Output: \"Draw\"\n",
    "Explanation: The game ends in a draw since there are no moves to make.\n",
    "\"XXO\"\n",
    "\"OOX\"\n",
    "\"XOX\"\n",
    "Example 4:\n",
    "\n",
    "Input: moves = [[0,0],[1,1]]\n",
    "Output: \"Pending\"\n",
    "Explanation: The game has not finished yet.\n",
    "\"X  \"\n",
    "\" O \"\n",
    "\"   \"\n",
    " \n",
    "\n",
    "Constraints:\n",
    "\n",
    "1 <= moves.length <= 9\n",
    "moves[i].length == 2\n",
    "0 <= moves[i][j] <= 2\n",
    "There are no repeated elements on moves.\n",
    "moves follow the rules of tic tac toe.\n",
    "'''\n",
    "\n",
    "class Solution(object):\n",
    "    def tictactoe(self, moves):\n",
    "        \"\"\"\n",
    "        :type moves: List[List[int]]\n",
    "        :rtype: str\n",
    "        \"\"\"\n",
    "        def check(grid):\n",
    "            for x in range(3):\n",
    "                row = set([grid[x][0],grid[x][1],grid[x][2]])\n",
    "                if len(row) == 1 and grid[x][0] != 0:\n",
    "                    return grid[x][0]\n",
    "\n",
    "            for x in range(3):\n",
    "                column = set([grid[0][x],grid[1][x],grid[2][x]])\n",
    "                if len(column) == 1 and grid[0][x] != 0:\n",
    "                    return grid[0][x]\n",
    "\n",
    "            diag1 = set([grid[0][0],grid[1][1],grid[2][2]])\n",
    "            diag2 = set([grid[0][2],grid[1][1],grid[2][0]])\n",
    "            if len(diag1) == 1 or len(diag2) == 1 and grid[1][1] != 0:\n",
    "                return grid[1][1]\n",
    "\n",
    "            return 0\n",
    "        \n",
    "        if not moves:\n",
    "            return \"\"\n",
    "        grid = [[0, 0, 0], [0, 0, 0], [0,0,0]]\n",
    "        user = 1\n",
    "        for move in moves:\n",
    "            grid[move[0]][move[1]] = user\n",
    "            if user == 1:\n",
    "                user = 2\n",
    "            else:\n",
    "                user = 1\n",
    "    \n",
    "        result = check(grid)\n",
    "        if result == 1:\n",
    "            return \"A\"\n",
    "        elif result == 2:\n",
    "            return \"B\"\n",
    "        else:\n",
    "            if len(moves) == 9:\n",
    "                return \"Draw\"\n",
    "            else:\n",
    "                return \"Pending\""
   ]
  },
  {
   "cell_type": "markdown",
   "id": "2a2b0c07",
   "metadata": {},
   "source": [
    "# 1279 Easy 1279 Traffic Light Controlled Intersection"
   ]
  },
  {
   "cell_type": "code",
   "execution_count": null,
   "id": "e7921219",
   "metadata": {},
   "outputs": [],
   "source": [
    "# Time:  O(n)\n",
    "# Space: O(1)\n",
    "\n",
    "import threading\n",
    "\n",
    "\n",
    "class TrafficLight(object):\n",
    "    \n",
    "    def __init__(self):\n",
    "        self.__l = threading.Lock()\n",
    "        self.__light = 1\n",
    "\n",
    "    def carArrived(self, carId, roadId, direction, turnGreen, crossCar):\n",
    "        \"\"\"\n",
    "        :type roadId: int --> // ID of the car\n",
    "        :type carId: int --> // ID of the road the car travels on. Can be 1 (road A) or 2 (road B)\n",
    "        :type direction: int --> // Direction of the car\n",
    "        :type turnGreen: method --> // Use turnGreen() to turn light to green on current road\n",
    "        :type crossCar: method --> // Use crossCar() to make car cross the intersection\n",
    "        :rtype: void\n",
    "        \"\"\"\n",
    "        with self.__l:\n",
    "            if self.__light != roadId:\n",
    "                self.__light = roadId\n",
    "                turnGreen()\n",
    "            crossCar()"
   ]
  },
  {
   "cell_type": "markdown",
   "id": "6b8d7756",
   "metadata": {},
   "source": [
    "# 1281 Easy 1281 Subtract the Product and Sum of Digits of an Integer"
   ]
  },
  {
   "cell_type": "code",
   "execution_count": null,
   "id": "8c0057c3",
   "metadata": {},
   "outputs": [],
   "source": [
    "# Time:  O(logn)\n",
    "# Space: O(1)\n",
    "\n",
    "class Solution(object):\n",
    "    def subtractProductAndSum(self, n):\n",
    "        \"\"\"\n",
    "        :type n: int\n",
    "        :rtype: int\n",
    "        \"\"\"\n",
    "        product, total = 1, 0\n",
    "        while n:\n",
    "            n, r = divmod(n, 10)\n",
    "            product *= r\n",
    "            total += r\n",
    "        return product-total\n",
    "\n",
    "\n",
    "# Time:  O(logn)\n",
    "# Space: O(logn)\n",
    "import operator\n",
    "\n",
    "\n",
    "class Solution2(object):\n",
    "    def subtractProductAndSum(self, n):\n",
    "        \"\"\"\n",
    "        :type n: int\n",
    "        :rtype: int\n",
    "        \"\"\"\n",
    "        A = map(int, str(n))\n",
    "        return reduce(operator.mul, A) - sum(A)"
   ]
  },
  {
   "cell_type": "markdown",
   "id": "ab0c96ab",
   "metadata": {},
   "source": [
    "# 1281 Easy 1281 Subtract the Product and Sum of Digits of an Integer"
   ]
  },
  {
   "cell_type": "code",
   "execution_count": null,
   "id": "6fecc188",
   "metadata": {},
   "outputs": [],
   "source": [
    "'''\n",
    "Given an integer number n, return the difference between the product of its digits and the sum of its digits.\n",
    " \n",
    "\n",
    "Example 1:\n",
    "\n",
    "Input: n = 234\n",
    "Output: 15 \n",
    "Explanation: \n",
    "Product of digits = 2 * 3 * 4 = 24 \n",
    "Sum of digits = 2 + 3 + 4 = 9 \n",
    "Result = 24 - 9 = 15\n",
    "Example 2:\n",
    "\n",
    "Input: n = 4421\n",
    "Output: 21\n",
    "Explanation: \n",
    "Product of digits = 4 * 4 * 2 * 1 = 32 \n",
    "Sum of digits = 4 + 4 + 2 + 1 = 11 \n",
    "Result = 32 - 11 = 21\n",
    "'''\n",
    "\n",
    "class Solution(object):\n",
    "    def subtractProductAndSum(self, n):\n",
    "        \"\"\"\n",
    "        :type n: int\n",
    "        :rtype: int\n",
    "        \"\"\"\n",
    "        \n",
    "        from functools import reduce\n",
    "        from operator import mul\n",
    "        digits = [int(x) for x in str(n)]\n",
    "        return reduce(mul, digits) - sum(digits)"
   ]
  },
  {
   "cell_type": "markdown",
   "id": "827d2359",
   "metadata": {},
   "source": [
    "# 1290 Easy 1290 Convert Binary Number in a Linked List to Integer"
   ]
  },
  {
   "cell_type": "code",
   "execution_count": null,
   "id": "a8a4944d",
   "metadata": {},
   "outputs": [],
   "source": [
    "# Time:  O(n)\n",
    "# Space: O(1)\n",
    "\n",
    "# Definition for singly-linked list.\n",
    "class ListNode(object):\n",
    "    def __init__(self, x):\n",
    "        self.val = x\n",
    "        self.next = None\n",
    "\n",
    "\n",
    "class Solution(object):\n",
    "    def getDecimalValue(self, head):\n",
    "        \"\"\"\n",
    "        :type head: ListNode\n",
    "        :rtype: int\n",
    "        \"\"\"\n",
    "        result = 0\n",
    "        while head: \n",
    "            result = result*2 + head.val \n",
    "            head = head.next \n",
    "        return result"
   ]
  },
  {
   "cell_type": "markdown",
   "id": "2029d538",
   "metadata": {},
   "source": [
    "# 1290 Easy 1290 Convert Binary Number in a Linked List to Integer"
   ]
  },
  {
   "cell_type": "code",
   "execution_count": null,
   "id": "94d47f62",
   "metadata": {},
   "outputs": [],
   "source": [
    "'''\n",
    "Given head which is a reference node to a singly-linked list. \n",
    "The value of each node in the linked list is either 0 or 1. \n",
    "The linked list holds the binary representation of a number.\n",
    "Return the decimal value of the number in the linked list.\n",
    "Example 1:\n",
    "Input: head = [1,0,1]\n",
    "Output: 5\n",
    "Explanation: (101) in base 2 = (5) in base 10\n",
    "Example 2:\n",
    "Input: head = [0]\n",
    "Output: 0\n",
    "Example 3:\n",
    "Input: head = [1]\n",
    "Output: 1\n",
    "Example 4:\n",
    "Input: head = [1,0,0,1,0,0,1,1,1,0,0,0,0,0,0]\n",
    "Output: 18880\n",
    "Example 5:\n",
    "Input: head = [0,0]\n",
    "Output: 0\n",
    "Constraints:\n",
    "The Linked List is not empty.\n",
    "Number of nodes will not exceed 30.\n",
    "Each node's value is either 0 or 1.\n",
    "'''\n",
    "\n",
    "# Definition for singly-linked list.\n",
    "# class ListNode:\n",
    "#     def __init__(self, x):\n",
    "#         self.val = x\n",
    "#         self.next = None\n",
    "\n",
    "class Solution:\n",
    "    def getDecimalValue(self, head: ListNode) -> int:\n",
    "        binary_numbers_list = []\n",
    "        binary_numbers_list.append(head.val)\n",
    "        while(head.next is not None):\n",
    "            head = head.next\n",
    "            binary_numbers_list.append(head.val)\n",
    "        answer = 0\n",
    "        power = 0\n",
    "        # from len(binary_numbers_list) - 1 -> 0\n",
    "        for digit in range(len(binary_numbers_list) - 1, -1, -1):\n",
    "            if(binary_numbers_list[digit] > 0):\n",
    "                answer += ((2 ** power) * binary_numbers_list[digit])\n",
    "            power += 1\n",
    "        return answer"
   ]
  },
  {
   "cell_type": "markdown",
   "id": "31538d3f",
   "metadata": {},
   "source": [
    "# 1290 Easy 1290 Convert Binary Number in a Linked List to Integer"
   ]
  },
  {
   "cell_type": "code",
   "execution_count": null,
   "id": "55b58bb3",
   "metadata": {},
   "outputs": [],
   "source": [
    "'''\n",
    "Given head which is a reference node to a singly-linked list. The value of each node in the linked list is either 0 or 1. The linked list holds the binary representation of a number.\n",
    "\n",
    "Return the decimal value of the number in the linked list.\n",
    "\n",
    " \n",
    "\n",
    "Example 1:\n",
    "\n",
    "\n",
    "Input: head = [1,0,1]\n",
    "Output: 5\n",
    "Explanation: (101) in base 2 = (5) in base 10\n",
    "Example 2:\n",
    "\n",
    "Input: head = [0]\n",
    "Output: 0\n",
    "Example 3:\n",
    "\n",
    "Input: head = [1]\n",
    "Output: 1\n",
    "Example 4:\n",
    "\n",
    "Input: head = [1,0,0,1,0,0,1,1,1,0,0,0,0,0,0]\n",
    "Output: 18880\n",
    "Example 5:\n",
    "\n",
    "Input: head = [0,0]\n",
    "Output: 0\n",
    "'''\n",
    "\n",
    "# Definition for singly-linked list.\n",
    "# class ListNode(object):\n",
    "#     def __init__(self, x):\n",
    "#         self.val = x\n",
    "#         self.next = None\n",
    "\n",
    "class Solution(object):\n",
    "    def getDecimalValue(self, head):\n",
    "        \"\"\"\n",
    "        :type head: ListNode\n",
    "        :rtype: int\n",
    "        \"\"\"\n",
    "        result = ''\n",
    "        if not head:\n",
    "            return 0\n",
    "        while head:\n",
    "            result+= str(head.val)\n",
    "            head = head.next\n",
    "        return int(result, 2)"
   ]
  },
  {
   "cell_type": "markdown",
   "id": "2d753cc2",
   "metadata": {},
   "source": [
    "# 1295 Easy 1295 Find Numbers with Even Number of Digits"
   ]
  },
  {
   "cell_type": "code",
   "execution_count": null,
   "id": "8cd51b90",
   "metadata": {},
   "outputs": [],
   "source": [
    "# Time:  O(nlog(logm)), n the length of nums, m is the max value of nums\n",
    "# Space: O(logm)\n",
    "\n",
    "import bisect\n",
    "\n",
    "\n",
    "class Solution(object):\n",
    "    def __init__(self):\n",
    "        M = 10**5\n",
    "        self.__lookup = [0]\n",
    "        i = 10\n",
    "        while i < M:\n",
    "            self.__lookup.append(i)\n",
    "            i *= 10\n",
    "        self.__lookup.append(i)\n",
    "\n",
    "    def findNumbers(self, nums):\n",
    "        \"\"\"\n",
    "        :type nums: List[int]\n",
    "        :rtype: int\n",
    "        \"\"\"\n",
    "        def digit_count(n):\n",
    "            return bisect.bisect_right(self.__lookup, n)\n",
    "\n",
    "        return sum(digit_count(n) % 2 == 0 for n in nums)\n",
    "    \n",
    "\n",
    "# Time:  O(nlogm), n the length of nums, m is the max value of nums\n",
    "# Space: O(logm)\n",
    "class Solution2(object):\n",
    "    def findNumbers(self, nums):\n",
    "        \"\"\"\n",
    "        :type nums: List[int]\n",
    "        :rtype: int\n",
    "        \"\"\"\n",
    "        def digit_count(n):\n",
    "            result = 0\n",
    "            while n:\n",
    "                n //= 10\n",
    "                result += 1\n",
    "            return result\n",
    "\n",
    "        return sum(digit_count(n) % 2 == 0 for n in nums)\n",
    "\n",
    "\n",
    "# Time:  O(nlogm), n the length of nums, m is the max value of nums\n",
    "# Space: O(logm)\n",
    "class Solution3(object):\n",
    "    def findNumbers(self, nums):\n",
    "        \"\"\"\n",
    "        :type nums: List[int]\n",
    "        :rtype: int\n",
    "        \"\"\"\n",
    "        return sum(len(str(n)) % 2 == 0 for n in nums)"
   ]
  },
  {
   "cell_type": "markdown",
   "id": "18a35697",
   "metadata": {},
   "source": [
    "# 1295 Easy 1295 Find Numbers with Even Number of Digits"
   ]
  },
  {
   "cell_type": "code",
   "execution_count": null,
   "id": "a75e19b2",
   "metadata": {},
   "outputs": [],
   "source": [
    "'''\n",
    "Given an array nums of integers, return how many of them contain an even number of digits.\n",
    " \n",
    "\n",
    "Example 1:\n",
    "\n",
    "Input: nums = [12,345,2,6,7896]\n",
    "Output: 2\n",
    "Explanation: \n",
    "12 contains 2 digits (even number of digits). \n",
    "345 contains 3 digits (odd number of digits). \n",
    "2 contains 1 digit (odd number of digits). \n",
    "6 contains 1 digit (odd number of digits). \n",
    "7896 contains 4 digits (even number of digits). \n",
    "Therefore only 12 and 7896 contain an even number of digits.\n",
    "Example 2:\n",
    "\n",
    "Input: nums = [555,901,482,1771]\n",
    "Output: 1 \n",
    "Explanation: \n",
    "Only 1771 contains an even number of digits.\n",
    "'''\n",
    "class Solution(object):\n",
    "    def findNumbers(self, nums):\n",
    "        \"\"\"\n",
    "        :type nums: List[int]\n",
    "        :rtype: int\n",
    "        \"\"\"\n",
    "        return len([num for num in nums if len(str(num))%2 == 0])"
   ]
  },
  {
   "cell_type": "markdown",
   "id": "1803e29c",
   "metadata": {},
   "source": [
    "# 1299 Easy 1299 Replace Elements with Greatest Element on Right Side"
   ]
  },
  {
   "cell_type": "code",
   "execution_count": null,
   "id": "108e4615",
   "metadata": {},
   "outputs": [],
   "source": [
    "# Time:  O(n)\n",
    "# Space: O(1)\n",
    "\n",
    "class Solution(object):\n",
    "    def replaceElements(self, arr):\n",
    "        \"\"\"\n",
    "        :type arr: List[int]\n",
    "        :rtype: List[int]\n",
    "        \"\"\"\n",
    "        curr_max = -1\n",
    "        for i in reversed(xrange(len(arr))):\n",
    "            arr[i], curr_max = curr_max, max(curr_max, arr[i])\n",
    "        return arr"
   ]
  },
  {
   "cell_type": "markdown",
   "id": "a96a6d4f",
   "metadata": {},
   "source": [
    "# 1304 Easy 1304 Find N Unique Integers Sum up to Zero"
   ]
  },
  {
   "cell_type": "code",
   "execution_count": null,
   "id": "dc87878d",
   "metadata": {},
   "outputs": [],
   "source": [
    "# Time:  O(n)\n",
    "# Space: O(1)\n",
    "\n",
    "class Solution(object):\n",
    "    def sumZero(self, n):\n",
    "        \"\"\"\n",
    "        :type n: int\n",
    "        :rtype: List[int]\n",
    "        \"\"\"\n",
    "        return [i for i in xrange(-(n//2), n//2+1) if not (i == 0 and n%2 == 0)]"
   ]
  },
  {
   "cell_type": "markdown",
   "id": "5610c394",
   "metadata": {},
   "source": [
    "# 1304 Easy 1304 Find N Unique Integers Sum up to Zero"
   ]
  },
  {
   "cell_type": "code",
   "execution_count": null,
   "id": "70afa9da",
   "metadata": {},
   "outputs": [],
   "source": [
    "class Solution:\n",
    "    def sumZero(self, n: int) -> List[int]:\n",
    "        prefix_sum = 0\n",
    "        res = []\n",
    "        # 1, n-1\n",
    "        for i in range(1, n):\n",
    "            res.append(i)\n",
    "            prefix_sum = prefix_sum + i\n",
    "        # sum(from 1 to n-1)\n",
    "        res.append(-prefix_sum)\n",
    "        return res\n",
    "    \n",
    "    # def sumZero(self, n: int) -> List[int]:\n",
    "    #     # 1,n-1\n",
    "    #     prefix = list(range(1, n))\n",
    "    #     # sum(from 1 to n-1)\n",
    "    #     return prefix + [-sum(prefix)]"
   ]
  },
  {
   "cell_type": "markdown",
   "id": "de2cafcd",
   "metadata": {},
   "source": [
    "# 1309 Easy 1309 Decrypt String from Alphabet to Integer Mapping"
   ]
  },
  {
   "cell_type": "code",
   "execution_count": null,
   "id": "e04c5fbe",
   "metadata": {},
   "outputs": [],
   "source": [
    "# Time:  O(n)\n",
    "# Space: O(1)\n",
    "\n",
    "# forward solution\n",
    "class Solution(object):\n",
    "    def freqAlphabets(self, s):\n",
    "        \"\"\"\n",
    "        :type s: str\n",
    "        :rtype: str\n",
    "        \"\"\"\n",
    "        def alpha(num):\n",
    "            return chr(ord('a') + int(num)-1)\n",
    "\n",
    "        i = 0\n",
    "        result = []\n",
    "        while i < len(s):\n",
    "            if i+2 < len(s) and s[i+2] == '#':\n",
    "                result.append(alpha(s[i:i+2]))\n",
    "                i += 3\n",
    "            else:\n",
    "                result.append(alpha(s[i]))\n",
    "                i += 1\n",
    "        return \"\".join(result)\n",
    "\n",
    "\n",
    "# Time:  O(n)\n",
    "# Space: O(1)\n",
    "# backward solution\n",
    "class Solution2(object):\n",
    "    def freqAlphabets(self, s):\n",
    "        \"\"\"\n",
    "        :type s: str\n",
    "        :rtype: str\n",
    "        \"\"\"\n",
    "        def alpha(num):\n",
    "            return chr(ord('a') + int(num)-1)\n",
    "\n",
    "        i = len(s)-1\n",
    "        result = []\n",
    "        while i >= 0:\n",
    "            if s[i] == '#':\n",
    "                result.append(alpha(s[i-2:i]))\n",
    "                i -= 3\n",
    "            else:\n",
    "                result.append(alpha(s[i]))\n",
    "                i -= 1\n",
    "        return \"\".join(reversed(result))\n",
    "\n",
    "# Time:  O(n)\n",
    "# Space: O(1)\n",
    "import re\n",
    "\n",
    "\n",
    "# regex solution\n",
    "class Solution3(object):\n",
    "    def freqAlphabets(self, s):\n",
    "        \"\"\"\n",
    "        :type s: str\n",
    "        :rtype: str\n",
    "        \"\"\"\n",
    "        def alpha(num):\n",
    "            return chr(ord('a') + int(num)-1)\n",
    "\n",
    "        return \"\".join(alpha(i[:2]) for i in re.findall(r\"\\d\\d#|\\d\", s))"
   ]
  },
  {
   "cell_type": "markdown",
   "id": "2f646d52",
   "metadata": {},
   "source": [
    "# 1323 Easy 1323 Maximum 69 Number"
   ]
  },
  {
   "cell_type": "code",
   "execution_count": null,
   "id": "a3109341",
   "metadata": {},
   "outputs": [],
   "source": [
    "# Time:  O(logn)\n",
    "# Space: O(1)\n",
    "\n",
    "class Solution(object):\n",
    "    def maximum69Number (self, num):\n",
    "        \"\"\"\n",
    "        :type num: int\n",
    "        :rtype: int\n",
    "        \"\"\"\n",
    "        curr, base, change = num, 3, 0\n",
    "        while curr:\n",
    "            if curr%10 == 6:\n",
    "                change = base\n",
    "            base *= 10\n",
    "            curr //= 10\n",
    "        return num+change\n",
    "\n",
    "\n",
    "# Time:  O(logn)\n",
    "# Space: O(logn)\n",
    "class Solution2(object):\n",
    "    def maximum69Number (self, num):\n",
    "        \"\"\"\n",
    "        :type num: int\n",
    "        :rtype: int\n",
    "        \"\"\"\n",
    "        return int(str(num).replace('6', '9', 1))"
   ]
  },
  {
   "cell_type": "markdown",
   "id": "b6e1b816",
   "metadata": {},
   "source": [
    "# 1323 Easy 1323 Maximum 69 Number"
   ]
  },
  {
   "cell_type": "code",
   "execution_count": null,
   "id": "ee2ea587",
   "metadata": {},
   "outputs": [],
   "source": [
    "class Solution:\n",
    "    def maximum69Number (self, num: int) -> int:\n",
    "        # Replace first 6 with 9 if exists\n",
    "        return(str(num).replace('6', '9', 1))"
   ]
  },
  {
   "cell_type": "markdown",
   "id": "39d1141b",
   "metadata": {},
   "source": [
    "# 1331 Easy 1331 Rank Transform of an Array"
   ]
  },
  {
   "cell_type": "code",
   "execution_count": null,
   "id": "0953dca3",
   "metadata": {},
   "outputs": [],
   "source": [
    "# Time:  O(nlogn)\n",
    "# Space: O(n)\n",
    "\n",
    "class Solution(object):\n",
    "    def arrayRankTransform(self, arr):\n",
    "        \"\"\"\n",
    "        :type arr: List[int]\n",
    "        :rtype: List[int]\n",
    "        \"\"\"\n",
    "        return map({x: i+1 for i, x in enumerate(sorted(set(arr)))}.get, arr)"
   ]
  },
  {
   "cell_type": "markdown",
   "id": "cc4ad478",
   "metadata": {},
   "source": [
    "# 1332 Easy 1332 Remove Palindromic Subsequences"
   ]
  },
  {
   "cell_type": "code",
   "execution_count": null,
   "id": "a11ee895",
   "metadata": {},
   "outputs": [],
   "source": [
    "# Time:  O(n)\n",
    "# Space: O(1)\n",
    "\n",
    "class Solution(object):\n",
    "    def removePalindromeSub(self, s):\n",
    "        \"\"\"\n",
    "        :type s: str\n",
    "        :rtype: int\n",
    "        \"\"\"\n",
    "        def is_palindrome(s):\n",
    "            for i in xrange(len(s)//2):\n",
    "                if s[i] != s[-1-i]:\n",
    "                    return False\n",
    "            return True\n",
    "        \n",
    "        return 2 - is_palindrome(s) - (s == \"\")"
   ]
  },
  {
   "cell_type": "markdown",
   "id": "0a96582a",
   "metadata": {},
   "source": [
    "# 1337 Easy 1337 The K Weakest Rows in a Matrix"
   ]
  },
  {
   "cell_type": "code",
   "execution_count": null,
   "id": "689cec3f",
   "metadata": {},
   "outputs": [],
   "source": [
    "# Time:  O(m * n)\n",
    "# Space: O(k)\n",
    "\n",
    "class Solution(object):\n",
    "    def kWeakestRows(self, mat, k):\n",
    "        \"\"\"\n",
    "        :type mat: List[List[int]]\n",
    "        :type k: int\n",
    "        :rtype: List[int]\n",
    "        \"\"\"\n",
    "        result, lookup = [], set()\n",
    "        for j in xrange(len(mat[0])):\n",
    "            for i in xrange(len(mat)):\n",
    "                if mat[i][j] or i in lookup:\n",
    "                    continue\n",
    "                lookup.add(i)\n",
    "                result.append(i)\n",
    "                if len(result) == k:\n",
    "                    return result\n",
    "        for i in xrange(len(mat)):\n",
    "            if i in lookup:\n",
    "                continue\n",
    "            lookup.add(i)\n",
    "            result.append(i)\n",
    "            if len(result) == k:\n",
    "                break\n",
    "        return result\n",
    "\n",
    "\n",
    "# Time:  O(m * n)\n",
    "# Space: O(k)\n",
    "import collections\n",
    "\n",
    "\n",
    "class Solution2(object):\n",
    "    def kWeakestRows(self, mat, k):\n",
    "        \"\"\"\n",
    "        :type mat: List[List[int]]\n",
    "        :type k: int\n",
    "        :rtype: List[int]\n",
    "        \"\"\"\n",
    "        lookup = collections.OrderedDict()\n",
    "        for j in xrange(len(mat[0])):\n",
    "            for i in xrange(len(mat)):\n",
    "                if mat[i][j] or i in lookup:\n",
    "                    continue\n",
    "                lookup[i] = True\n",
    "                if len(lookup) == k:\n",
    "                    return lookup.keys()\n",
    "        for i in xrange(len(mat)):\n",
    "            if i in lookup:\n",
    "                continue\n",
    "            lookup[i] = True\n",
    "            if len(lookup) == k:\n",
    "                break\n",
    "        return lookup.keys()\n",
    "\n",
    "\n",
    "# Time:  O(m * n + klogk)\n",
    "# Space: O(m)\n",
    "import random\n",
    "\n",
    "\n",
    "class Solution3(object):\n",
    "    def kWeakestRows(self, mat, k):\n",
    "        \"\"\"\n",
    "        :type mat: List[List[int]]\n",
    "        :type k: int\n",
    "        :rtype: List[int]\n",
    "        \"\"\"\n",
    "        def nth_element(nums, n, compare=lambda a, b: a < b):\n",
    "            def partition_around_pivot(left, right, pivot_idx, nums, compare):\n",
    "                new_pivot_idx = left\n",
    "                nums[pivot_idx], nums[right] = nums[right], nums[pivot_idx]\n",
    "                for i in xrange(left, right):\n",
    "                    if compare(nums[i], nums[right]):\n",
    "                        nums[i], nums[new_pivot_idx] = nums[new_pivot_idx], nums[i]\n",
    "                        new_pivot_idx += 1\n",
    "\n",
    "                nums[right], nums[new_pivot_idx] = nums[new_pivot_idx], nums[right]\n",
    "                return new_pivot_idx\n",
    "\n",
    "            left, right = 0, len(nums) - 1\n",
    "            while left <= right:\n",
    "                pivot_idx = random.randint(left, right)\n",
    "                new_pivot_idx = partition_around_pivot(left, right, pivot_idx, nums, compare)\n",
    "                if new_pivot_idx == n:\n",
    "                    return\n",
    "                elif new_pivot_idx > n:\n",
    "                    right = new_pivot_idx - 1\n",
    "                else:  # new_pivot_idx < n\n",
    "                    left = new_pivot_idx + 1\n",
    "        \n",
    "        nums = [(sum(mat[i]), i) for i in xrange(len(mat))]\n",
    "        nth_element(nums, k)\n",
    "        return map(lambda x: x[1], sorted(nums[:k]))"
   ]
  },
  {
   "cell_type": "markdown",
   "id": "393415c2",
   "metadata": {},
   "source": [
    "# 1337 Easy 1337 The K Weakest Rows in a Matrix"
   ]
  },
  {
   "cell_type": "code",
   "execution_count": null,
   "id": "0d590d99",
   "metadata": {},
   "outputs": [],
   "source": [
    "class Solution(object):\n",
    "    def kWeakestRows(self, mat, k):\n",
    "        \"\"\"\n",
    "        :type mat: List[List[int]]\n",
    "        :type k: int\n",
    "        :rtype: List[int]\n",
    "        \"\"\"\n",
    "        res = []\n",
    "        num_row = len(mat)\n",
    "        num_col = len(mat[0])\n",
    "        col = 0\n",
    "        flag = 1\n",
    "        while col < num_col and flag:\n",
    "            for i in range(num_row):\n",
    "                if i in res:\n",
    "                    continue\n",
    "                # Add first row with 0 into res\n",
    "                if mat[i][col] == 0:\n",
    "                    res.append(i)\n",
    "                if len(res) == k:\n",
    "                    flag = 0\n",
    "                    break\n",
    "            col += 1\n",
    "        if len(res) == k:\n",
    "            return res\n",
    "        # if res less than k\n",
    "        for i in range(num_row):\n",
    "            if i in res:\n",
    "                continue\n",
    "            res.append(i)\n",
    "            if len(res) == k:\n",
    "                break\n",
    "        return res"
   ]
  },
  {
   "cell_type": "markdown",
   "id": "2c0a2468",
   "metadata": {},
   "source": [
    "# 1342 Easy 1342 Number of Steps to Reduce a Number to Zero"
   ]
  },
  {
   "cell_type": "code",
   "execution_count": null,
   "id": "b3f2a381",
   "metadata": {},
   "outputs": [],
   "source": [
    "# Time:  O(logn)\n",
    "# Space: O(1)\n",
    "\n",
    "class Solution(object):\n",
    "    def numberOfSteps (self, num):\n",
    "        \"\"\"\n",
    "        :type num: int\n",
    "        :rtype: int\n",
    "        \"\"\"\n",
    "        result = 0\n",
    "        while num:\n",
    "            result += 2 if num%2 else 1\n",
    "            num //= 2\n",
    "        return max(result-1, 0)"
   ]
  },
  {
   "cell_type": "markdown",
   "id": "3323f570",
   "metadata": {},
   "source": [
    "# 1342 Easy 1342 Number of Steps to Reduce a Number to Zero"
   ]
  },
  {
   "cell_type": "code",
   "execution_count": null,
   "id": "6e61f862",
   "metadata": {},
   "outputs": [],
   "source": [
    "'''\n",
    "Given a non-negative integer num, return the number of steps to reduce it to zero. \n",
    "If the current number is even, you have to divide it by 2, otherwise, you have to subtract 1 from it.\n",
    "\n",
    "Example 1:\n",
    "Input: num = 14\n",
    "Output: 6\n",
    "Explanation: \n",
    "Step 1) 14 is even; divide by 2 and obtain 7. \n",
    "Step 2) 7 is odd; subtract 1 and obtain 6.\n",
    "Step 3) 6 is even; divide by 2 and obtain 3. \n",
    "Step 4) 3 is odd; subtract 1 and obtain 2. \n",
    "Step 5) 2 is even; divide by 2 and obtain 1. \n",
    "Step 6) 1 is odd; subtract 1 and obtain 0.\n",
    "\n",
    "Example 2:\n",
    "Input: num = 8\n",
    "Output: 4\n",
    "Explanation: \n",
    "Step 1) 8 is even; divide by 2 and obtain 4. \n",
    "Step 2) 4 is even; divide by 2 and obtain 2. \n",
    "Step 3) 2 is even; divide by 2 and obtain 1. \n",
    "Step 4) 1 is odd; subtract 1 and obtain 0.\n",
    "\n",
    "Example 3:\n",
    "Input: num = 123\n",
    "Output: 12\n",
    "\n",
    "Constraints:\n",
    "0 <= num <= 10^6\n",
    "'''\n",
    "\n",
    "class Solution:\n",
    "    def numberOfSteps (self, num: int) -> int:\n",
    "        steps = 0\n",
    "        while(num > 0):\n",
    "            if(num % 2 == 0):\n",
    "                num = num / 2\n",
    "                steps + =1\n",
    "            else:\n",
    "                num = num - 1\n",
    "                steps += 1\n",
    "        return steps\n",
    "\n",
    "    # def numberOfSteps (self, num: int) -> int:\n",
    "    #     ans = 0\n",
    "    #     # check the number of 1\n",
    "    #     while num:\n",
    "    #         ans += (num & 1) + 1\n",
    "    #         num >>= 1\n",
    "    #     return ans - 1\n",
    "\n",
    "    # def numberOfSteps (self, num: int) -> int:\n",
    "    #     ones, zeros = self.bitCount(num)\n",
    "    #     if ones == 0:\n",
    "    #         return 0\n",
    "    #     else:\n",
    "    #         return 2 * ones + zeros - 1"
   ]
  },
  {
   "cell_type": "markdown",
   "id": "4b5fb322",
   "metadata": {},
   "source": [
    "# 1346 Easy 1346 Check If N and Its Double Exist"
   ]
  },
  {
   "cell_type": "code",
   "execution_count": null,
   "id": "41864ecf",
   "metadata": {},
   "outputs": [],
   "source": [
    "# Time:  O(n)\n",
    "# Space: O(n)\n",
    "\n",
    "class Solution(object):\n",
    "    def checkIfExist(self, arr):\n",
    "        \"\"\"\n",
    "        :type arr: List[int]\n",
    "        :rtype: bool\n",
    "        \"\"\"\n",
    "        lookup = set()\n",
    "        for x in arr:\n",
    "            if 2*x in lookup or \\\n",
    "               (x%2 == 0 and x//2 in lookup):\n",
    "                return True\n",
    "            lookup.add(x)\n",
    "        return False"
   ]
  },
  {
   "cell_type": "markdown",
   "id": "76af53fb",
   "metadata": {},
   "source": [
    "# 1351 Easy 1351 Count Negative Numbers in a Sorted Matrix"
   ]
  },
  {
   "cell_type": "code",
   "execution_count": null,
   "id": "e7f8de2e",
   "metadata": {},
   "outputs": [],
   "source": [
    "# Time:  O(m + n)\n",
    "# Space: O(1)\n",
    "\n",
    "class Solution(object):\n",
    "    def countNegatives(self, grid):\n",
    "        \"\"\"\n",
    "        :type grid: List[List[int]]\n",
    "        :rtype: int\n",
    "        \"\"\"\n",
    "        result, c = 0, len(grid[0])-1\n",
    "        for row in grid:\n",
    "            while c >= 0 and row[c] < 0:\n",
    "                c -= 1\n",
    "            result += len(grid[0])-1-c\n",
    "        return result"
   ]
  }
 ],
 "metadata": {},
 "nbformat": 4,
 "nbformat_minor": 5
}
