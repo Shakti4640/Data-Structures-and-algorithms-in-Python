{
 "cells": [
  {
   "cell_type": "markdown",
   "id": "2ad3977e",
   "metadata": {},
   "source": [
    "# 2367 Easy 2367 Number of Arithmetic Triplets"
   ]
  },
  {
   "cell_type": "code",
   "execution_count": null,
   "id": "a140bdcd",
   "metadata": {},
   "outputs": [],
   "source": [
    "# Time:  O(n)\n",
    "# Space: O(n)\n",
    "\n",
    "# hash table\n",
    "class Solution(object):\n",
    "    def arithmeticTriplets(self, nums, diff):\n",
    "        \"\"\"\n",
    "        :type nums: List[int]\n",
    "        :type diff: int\n",
    "        :rtype: int\n",
    "        \"\"\"\n",
    "        lookup = set(nums)\n",
    "        return sum((x-diff in lookup) and (x-2*diff in lookup) for x in nums)\n",
    "\n",
    "    \n",
    "# Time:  O(n)\n",
    "# Space: O(n)\n",
    "import collections\n",
    "\n",
    "\n",
    "# dp\n",
    "class Solution2(object):\n",
    "    def arithmeticTriplets(self, nums, diff):\n",
    "        \"\"\"\n",
    "        :type nums: List[int]\n",
    "        :type diff: int\n",
    "        :rtype: int\n",
    "        \"\"\"\n",
    "        result = 0\n",
    "        cnt1 = collections.Counter()\n",
    "        cnt2 = collections.Counter()\n",
    "        for x in nums:\n",
    "            result += cnt2[x-diff]\n",
    "            cnt2[x] += cnt1[x-diff]\n",
    "            cnt1[x] += 1\n",
    "        return result"
   ]
  },
  {
   "cell_type": "markdown",
   "id": "9d523792",
   "metadata": {},
   "source": [
    "# 2373 Easy 2373 Largest Local Values in a Matrix"
   ]
  },
  {
   "cell_type": "code",
   "execution_count": null,
   "id": "f9291a84",
   "metadata": {},
   "outputs": [],
   "source": [
    "# Time:  O(m * n)\n",
    "# Space: O(1)\n",
    "\n",
    "# array\n",
    "class Solution(object):\n",
    "    def largestLocal(self, grid):\n",
    "        \"\"\"\n",
    "        :type grid: List[List[int]]\n",
    "        :rtype: List[List[int]]\n",
    "        \"\"\"\n",
    "        def find_max(i, j):\n",
    "            return max(grid[ni][nj] for ni in xrange(i, i+3) for nj in xrange(j, j+3))\n",
    "\n",
    "        return [[find_max(i, j) for j in xrange(len(grid[0])-2)] for i in xrange(len(grid)-2)]"
   ]
  },
  {
   "cell_type": "markdown",
   "id": "011cc28d",
   "metadata": {},
   "source": [
    "# 2379 Easy 2379 Minimum Recolors to Get K Consecutive Black Blocks"
   ]
  },
  {
   "cell_type": "code",
   "execution_count": null,
   "id": "b091e0f0",
   "metadata": {},
   "outputs": [],
   "source": [
    "# Time:  O(n)\n",
    "# Space: O(1)\n",
    "\n",
    "# sliding window\n",
    "class Solution(object):\n",
    "    def minimumRecolors(self, blocks, k):\n",
    "        \"\"\"\n",
    "        :type blocks: str\n",
    "        :type k: int\n",
    "        :rtype: int\n",
    "        \"\"\"\n",
    "        result = k\n",
    "        curr = 0\n",
    "        for i, x in enumerate(blocks):\n",
    "            curr += int(blocks[i] == 'W')\n",
    "            if i+1-k < 0:\n",
    "                continue\n",
    "            result = min(result, curr)\n",
    "            curr -= int(blocks[i+1-k] == 'W')\n",
    "        return result"
   ]
  },
  {
   "cell_type": "markdown",
   "id": "f68f0ce6",
   "metadata": {},
   "source": [
    "# 2383 Easy 2383 Minimum Hours of Training to Win a Competition"
   ]
  },
  {
   "cell_type": "code",
   "execution_count": null,
   "id": "6cb4aecc",
   "metadata": {},
   "outputs": [],
   "source": [
    "# Time:  O(n)\n",
    "# Space: O(1)\n",
    "\n",
    "import itertools\n",
    "\n",
    "\n",
    "# greedy\n",
    "class Solution(object):\n",
    "    def minNumberOfHours(self, initialEnergy, initialExperience, energy, experience):\n",
    "        \"\"\"\n",
    "        :type initialEnergy: int\n",
    "        :type initialExperience: int\n",
    "        :type energy: List[int]\n",
    "        :type experience: List[int]\n",
    "        :rtype: int\n",
    "        \"\"\"\n",
    "        result = 0\n",
    "        for hp, ex in itertools.izip(energy, experience):\n",
    "            inc1 = max((hp+1)-initialEnergy, 0)\n",
    "            inc2 = max((ex+1)-initialExperience, 0)\n",
    "            result += inc1+inc2\n",
    "            initialEnergy += inc1-hp\n",
    "            initialExperience += inc2+ex\n",
    "        return result"
   ]
  },
  {
   "cell_type": "markdown",
   "id": "348d7e71",
   "metadata": {},
   "source": [
    "# 2389 Easy 2389 Longest Subsequence With Limited Sum"
   ]
  },
  {
   "cell_type": "code",
   "execution_count": null,
   "id": "b710966c",
   "metadata": {},
   "outputs": [],
   "source": [
    "# Time:  O(nlogn + qlogn)\n",
    "# Space: O(1)\n",
    "\n",
    "import bisect\n",
    "\n",
    "\n",
    "# greedy, sort, binary search\n",
    "class Solution(object):\n",
    "    def answerQueries(self, nums, queries):\n",
    "        \"\"\"\n",
    "        :type nums: List[int]\n",
    "        :type queries: List[int]\n",
    "        :rtype: List[int]\n",
    "        \"\"\"\n",
    "        nums.sort()\n",
    "        for i in xrange(len(nums)-1):\n",
    "            nums[i+1] += nums[i]\n",
    "        return [bisect.bisect_right(nums, q) for q in queries]"
   ]
  },
  {
   "cell_type": "markdown",
   "id": "f6faafe0",
   "metadata": {},
   "source": [
    "# 2395 Easy 2395 Find Subarrays With Equal Sum"
   ]
  },
  {
   "cell_type": "code",
   "execution_count": null,
   "id": "1b88703f",
   "metadata": {},
   "outputs": [],
   "source": [
    "# Time:  O(n)\n",
    "# Space: O(n)\n",
    "\n",
    "# hash table\n",
    "class Solution(object):\n",
    "    def findSubarrays(self, nums):\n",
    "        \"\"\"\n",
    "        :type nums: List[int]\n",
    "        :rtype: bool\n",
    "        \"\"\"\n",
    "        lookup = set()\n",
    "        for i in xrange(len(nums)-1):\n",
    "            if nums[i]+nums[i+1] in lookup:\n",
    "                return True\n",
    "            lookup.add(nums[i]+nums[i+1])\n",
    "        return False"
   ]
  },
  {
   "cell_type": "markdown",
   "id": "11b491a3",
   "metadata": {},
   "source": [
    "# 2399 Easy 2399 Check Distances Between Same Letters"
   ]
  },
  {
   "cell_type": "code",
   "execution_count": null,
   "id": "a1cdcbec",
   "metadata": {},
   "outputs": [],
   "source": [
    "# Time:  O(n)\n",
    "# Space: O(1)\n",
    "\n",
    "# hash table\n",
    "class Solution(object):\n",
    "    def checkDistances(self, s, distance):\n",
    "        \"\"\"\n",
    "        :type s: str\n",
    "        :type distance: List[int]\n",
    "        :rtype: bool\n",
    "        \"\"\"\n",
    "        for i in xrange(len(s)):\n",
    "            if i+distance[ord(s[i])-ord('a')]+1 >= len(s) or s[i+distance[ord(s[i])-ord('a')]+1] != s[i]:\n",
    "                return False\n",
    "            distance[ord(s[i])-ord('a')] = -1\n",
    "        return True"
   ]
  },
  {
   "cell_type": "markdown",
   "id": "8d167200",
   "metadata": {},
   "source": [
    "# 2404 Easy 2404 Most Frequent Even Element"
   ]
  },
  {
   "cell_type": "code",
   "execution_count": null,
   "id": "3fff085d",
   "metadata": {},
   "outputs": [],
   "source": [
    "# Time:  O(n)\n",
    "# Space: O(n)\n",
    "\n",
    "import collections\n",
    "\n",
    "\n",
    "# freq table\n",
    "class Solution(object):\n",
    "    def mostFrequentEven(self, nums):\n",
    "        \"\"\"\n",
    "        :type nums: List[int]\n",
    "        :rtype: int\n",
    "        \"\"\"\n",
    "        cnt = collections.Counter(x for x in nums if x%2 == 0)\n",
    "        return max(cnt.iterkeys(), key=lambda x: (cnt[x], -x)) if cnt else -1"
   ]
  },
  {
   "cell_type": "markdown",
   "id": "23e469b2",
   "metadata": {},
   "source": [
    "# 2409 Easy 2409 Count Days Spent Together"
   ]
  },
  {
   "cell_type": "code",
   "execution_count": null,
   "id": "1b1ea0f4",
   "metadata": {},
   "outputs": [],
   "source": [
    "# Time:  O(1)\n",
    "# Space: O(1)\n",
    "\n",
    "# prefix sum\n",
    "class Solution(object):\n",
    "    def countDaysTogether(self, arriveAlice, leaveAlice, arriveBob, leaveBob):\n",
    "        \"\"\"\n",
    "        :type arriveAlice: str\n",
    "        :type leaveAlice: str\n",
    "        :type arriveBob: str\n",
    "        :type leaveBob: str\n",
    "        :rtype: int\n",
    "        \"\"\"\n",
    "        NUMS = [31, 28, 31, 30, 31, 30, 31, 31, 30, 31, 30, 31]\n",
    "        prefix = [0]*(len(NUMS)+1)\n",
    "        for i in xrange(len(NUMS)):\n",
    "            prefix[i+1] += prefix[i]+NUMS[i]\n",
    "    \n",
    "        def day(date):\n",
    "            return prefix[int(date[:2])-1]+int(date[3:])\n",
    "\n",
    "        return max(day(min(leaveAlice, leaveBob))-day(max(arriveAlice, arriveBob))+1, 0)"
   ]
  },
  {
   "cell_type": "markdown",
   "id": "8b93a38b",
   "metadata": {},
   "source": [
    "# 2409 Easy 2409 Count Days Spent Together"
   ]
  },
  {
   "cell_type": "code",
   "execution_count": null,
   "id": "1a3795aa",
   "metadata": {},
   "outputs": [],
   "source": [
    "class Solution:\n",
    "    def countDaysTogether(self, arriveAlice: str, leaveAlice: str, arriveBob: str, leaveBob: str) -> int:\n",
    "        # split the dates to month and day.\n",
    "        arriveAliceMonth, arriveAliceDay = map(int, arriveAlice.split(\"-\"))\n",
    "        leaveAliceMonth, leaveAliceDay = map(int, leaveAlice.split(\"-\"))\n",
    "        arriveBobMonth, arriveBobDay = map(int, arriveBob.split(\"-\"))\n",
    "        leaveBobMonth, leaveBobDay = map(int, leaveBob.split(\"-\"))\n",
    "\n",
    "        # prefixOfCalendar : initialize the calendar and in the past we will use this to convert month to day, index is 1 - based\n",
    "        # spentTogether, aliceSpent : work as cache list. and index is 1 - based\n",
    "        calendar = [0, 31, 28, 31, 30, 31, 30, 31, 31, 30, 31, 30, 31]\n",
    "        prefixOfCalendar = [0] * 13\n",
    "        totalDates = sum(calendar)\n",
    "        spentTogether, aliceSpent = [0] * (totalDates + 1), [0] * (totalDates + 1)\n",
    "\n",
    "        # calculate the prefix of calendar\n",
    "        for i in range(1, len(calendar)):\n",
    "            prefixOfCalendar[i] = prefixOfCalendar[i - 1] + calendar[i]\n",
    "\n",
    "        # if the string is \"01-15\", it can be treat as 15 days.\n",
    "        # if the string is \"02-27\", it can be treat as 58 days.\n",
    "        # So, it can be \"prefixOfCalendar[month - 1] + day\"\n",
    "        # and in the problem it includes the leaveDate so +1 need to be in .\n",
    "        arriveAliceTotal = prefixOfCalendar[arriveAliceMonth - 1] + arriveAliceDay\n",
    "        leaveAliceTotal = prefixOfCalendar[leaveAliceMonth - 1] + leaveAliceDay\n",
    "        for i in range(arriveAliceTotal, leaveAliceTotal + 1):\n",
    "            aliceSpent[i] += 1\n",
    "\n",
    "        # check the aliceSpent[i] is True.\n",
    "        # if it is, they spentTogether is True too.\n",
    "        arriveBobTotal = prefixOfCalendar[arriveBobMonth - 1] + arriveBobDay\n",
    "        leaveBobTotal = prefixOfCalendar[leaveBobMonth - 1] + leaveBobDay\n",
    "        for i in range(arriveBobTotal, leaveBobTotal + 1):\n",
    "            if aliceSpent[i]:\n",
    "                spentTogether[i] += 1\n",
    "\n",
    "        # I used list because of this sum function.\n",
    "        return sum(spentTogether)"
   ]
  },
  {
   "cell_type": "markdown",
   "id": "e8bc1891",
   "metadata": {},
   "source": [
    "# 2413 Easy 2413 Smallest Even Multiple"
   ]
  },
  {
   "cell_type": "code",
   "execution_count": null,
   "id": "08e65b78",
   "metadata": {},
   "outputs": [],
   "source": [
    "# Time:  O(1)\n",
    "# Space: O(1)\n",
    "\n",
    "# math, bit manipulation\n",
    "class Solution(object):\n",
    "    def smallestEvenMultiple(self, n):\n",
    "        \"\"\"\n",
    "        :type n: int\n",
    "        :rtype: int\n",
    "        \"\"\"\n",
    "        return n<<(n&1)"
   ]
  },
  {
   "cell_type": "markdown",
   "id": "23b0304e",
   "metadata": {},
   "source": [
    "# 2413 Easy 2413 Smallest Even Multiple"
   ]
  },
  {
   "cell_type": "code",
   "execution_count": null,
   "id": "2a855781",
   "metadata": {},
   "outputs": [],
   "source": [
    "class Solution:\n",
    "    def smallestEvenMultiple(self, n: int) -> int:\n",
    "        \"\"\"\n",
    "            n : positive integer\n",
    "            return : smallest positive integer that is a multiple of both 2 and n\n",
    "        \"\"\"\n",
    "        if n % 2 == 0:\n",
    "            # if n is alreay muliply by 2 \n",
    "            # return itself\n",
    "            return n\n",
    "        \n",
    "        # if previous condition is false \n",
    "        # n * 2 is the smallest positive integer.\n",
    "        return n * 2\n",
    "        "
   ]
  },
  {
   "cell_type": "markdown",
   "id": "f6faabbe",
   "metadata": {},
   "source": [
    "# 2418 Easy 2418 Sort the People"
   ]
  },
  {
   "cell_type": "code",
   "execution_count": null,
   "id": "23e7bb91",
   "metadata": {},
   "outputs": [],
   "source": [
    "# Time:  O(nlogn)\n",
    "# Space: O(n)\n",
    "\n",
    "# sort\n",
    "class Solution(object):\n",
    "    def sortPeople(self, names, heights):\n",
    "        \"\"\"\n",
    "        :type names: List[str]\n",
    "        :type heights: List[int]\n",
    "        :rtype: List[str]\n",
    "        \"\"\"\n",
    "        order = range(len(names))\n",
    "        order.sort(key=lambda x: heights[x], reverse=True)\n",
    "        return [names[i] for i in order]"
   ]
  },
  {
   "cell_type": "markdown",
   "id": "ca166145",
   "metadata": {},
   "source": [
    "# 2423 Easy 2423 Remove Letter To Equalize Frequency"
   ]
  },
  {
   "cell_type": "code",
   "execution_count": null,
   "id": "6f0379b1",
   "metadata": {},
   "outputs": [],
   "source": [
    "# Time:  O(n)\n",
    "# Space: O(1)\n",
    "\n",
    "import collections\n",
    "\n",
    "\n",
    "# freq table, edge cases\n",
    "class Solution(object):\n",
    "    def equalFrequency(self, word):\n",
    "        \"\"\"\n",
    "        :type word: str\n",
    "        :rtype: bool\n",
    "        \"\"\"\n",
    "        cnt = collections.Counter(collections.Counter(word).itervalues())\n",
    "        if len(cnt) > 2:\n",
    "            return False\n",
    "        if len(cnt) == 1:\n",
    "            a = cnt.keys()[0]\n",
    "            return a == 1 or cnt[a] == 1\n",
    "        a, b = cnt.keys()\n",
    "        if a > b:\n",
    "            a, b = b, a\n",
    "        return (a == 1 and cnt[a] == 1) or (a+1 == b and cnt[b] == 1)\n",
    "\n",
    "\n",
    "# Time:  O(26 * n)\n",
    "# Space: O(1)\n",
    "import collections\n",
    "\n",
    "\n",
    "# brute force, freq table\n",
    "class Solution2(object):\n",
    "    def equalFrequency(self, word):\n",
    "        \"\"\"\n",
    "        :type word: str\n",
    "        :rtype: bool\n",
    "        \"\"\"\n",
    "        cnt = collections.Counter(collections.Counter(word))\n",
    "        for c in word:\n",
    "            cnt[c] -= 1\n",
    "            if len(collections.Counter(c for c in cnt.itervalues() if c)) == 1:\n",
    "                return True\n",
    "            cnt[c] += 1\n",
    "        return False"
   ]
  },
  {
   "cell_type": "markdown",
   "id": "8c272fbe",
   "metadata": {},
   "source": [
    "# 2427 Easy 2427 Number of Common Factors"
   ]
  },
  {
   "cell_type": "code",
   "execution_count": null,
   "id": "cc5a856c",
   "metadata": {},
   "outputs": [],
   "source": [
    "# Time:  O(log(min(a, b)) + sqrt(gcd))\n",
    "# Space: O(1)\n",
    "\n",
    "# math\n",
    "class Solution(object):\n",
    "    def commonFactors(self, a, b):\n",
    "        \"\"\"\n",
    "        :type a: int\n",
    "        :type b: int\n",
    "        :rtype: int\n",
    "        \"\"\"\n",
    "        def gcd(a, b):  # Time: O(log(min(a, b)))\n",
    "            while b:\n",
    "                a, b = b, a%b\n",
    "            return a\n",
    "        \n",
    "        g = gcd(a, b)\n",
    "        result = 0\n",
    "        x = 1\n",
    "        while x*x <= g:\n",
    "            if g%x == 0:\n",
    "                result += 1 if g//x == x else 2\n",
    "            x += 1\n",
    "        return result"
   ]
  },
  {
   "cell_type": "markdown",
   "id": "d6dcc8be",
   "metadata": {},
   "source": [
    "# 2432 Easy 2432 The Employee That Worked on the Longest Task"
   ]
  },
  {
   "cell_type": "code",
   "execution_count": null,
   "id": "4f7c0f9e",
   "metadata": {},
   "outputs": [],
   "source": [
    "# Time:  O(l)\n",
    "# Space: O(1)\n",
    "\n",
    "# array\n",
    "class Solution(object):\n",
    "    def hardestWorker(self, n, logs):\n",
    "        \"\"\"\n",
    "        :type n: int\n",
    "        :type logs: List[List[int]]\n",
    "        :rtype: int\n",
    "        \"\"\"\n",
    "        return logs[max(xrange(len(logs)), key=lambda x: (logs[x][1]-(logs[x-1][1] if x-1 >= 0 else 0), -logs[x][0]))][0]"
   ]
  },
  {
   "cell_type": "markdown",
   "id": "8e1f72d8",
   "metadata": {},
   "source": [
    "# 2437 Easy 2437 Number of Valid Clock Times"
   ]
  },
  {
   "cell_type": "code",
   "execution_count": null,
   "id": "23f21239",
   "metadata": {},
   "outputs": [],
   "source": [
    "# Time:  O(1)\n",
    "# Space: O(1)\n",
    "\n",
    "# combinatorics\n",
    "class Solution(object):\n",
    "    def countTime(self, time):\n",
    "        \"\"\"\n",
    "        :type time: str\n",
    "        :rtype: int\n",
    "        \"\"\"\n",
    "        result = 1\n",
    "        if time[4] == '?':\n",
    "            result *= 10\n",
    "        if time[3] == '?':\n",
    "            result *= 6\n",
    "        if time[1] == time[0] == '?':\n",
    "            result *= 24\n",
    "        elif time[1] == '?':\n",
    "            result *= 10 if time[0] != '2' else 4\n",
    "        elif time[0] == '?':\n",
    "            result *= 3 if time[1] < '4' else 2\n",
    "        return result"
   ]
  },
  {
   "cell_type": "markdown",
   "id": "bf6aa620",
   "metadata": {},
   "source": [
    "# 2441 Easy 2441 Largest Positive Integer That Exists With Its Negative"
   ]
  },
  {
   "cell_type": "code",
   "execution_count": null,
   "id": "eec424b6",
   "metadata": {},
   "outputs": [],
   "source": [
    "# Time:  O(n)\n",
    "# Space: O(n)\n",
    "\n",
    "# hash table\n",
    "class Solution(object):\n",
    "    def findMaxK(self, nums):\n",
    "        \"\"\"\n",
    "        :type nums: List[int]\n",
    "        :rtype: int\n",
    "        \"\"\"\n",
    "        lookup = set(nums)\n",
    "        return max([x for x in lookup if x > 0 and -x in lookup] or [-1])"
   ]
  },
  {
   "cell_type": "markdown",
   "id": "dcd04ff0",
   "metadata": {},
   "source": [
    "# 2446 Easy 2446 Determine if Two Events Have Conflict"
   ]
  },
  {
   "cell_type": "code",
   "execution_count": null,
   "id": "174f64ab",
   "metadata": {},
   "outputs": [],
   "source": [
    "# Time:  O(1)\n",
    "# Space: O(1)\n",
    "\n",
    "# array\n",
    "class Solution(object):\n",
    "    def haveConflict(self, event1, event2):\n",
    "        \"\"\"\n",
    "        :type event1: List[str]\n",
    "        :type event2: List[str]\n",
    "        :rtype: bool\n",
    "        \"\"\"\n",
    "        return max(event1[0], event2[0]) <= min(event1[1], event2[1])"
   ]
  },
  {
   "cell_type": "markdown",
   "id": "641343c5",
   "metadata": {},
   "source": [
    "# 2451 Easy 2451 Odd String Difference"
   ]
  },
  {
   "cell_type": "code",
   "execution_count": null,
   "id": "aa711e52",
   "metadata": {},
   "outputs": [],
   "source": [
    "# Time:  O(m * n), m is the number of words, n is the length of each word\n",
    "# Space: O(1)\n",
    "\n",
    "import collections\n",
    "\n",
    "\n",
    "# freq table\n",
    "class Solution(object):\n",
    "    def oddString(self, words):\n",
    "        \"\"\"\n",
    "        :type words: List[str]\n",
    "        :rtype: str\n",
    "        \"\"\"\n",
    "        for i in xrange(len(words[0])-1):\n",
    "            lookup = collections.defaultdict(list)\n",
    "            for j, w in enumerate(words):\n",
    "                if len(lookup[ord(w[i+1])-ord(w[i])]) < 2:\n",
    "                    lookup[ord(w[i+1])-ord(w[i])].append(j)\n",
    "            if len(lookup) == 2:\n",
    "                return next(words[l[0]] for l in lookup.itervalues() if len(l) == 1)\n",
    "\n",
    "\n",
    "# Time:  O(m * n), m is the number of words, n is the length of each word\n",
    "# Space: O(n)\n",
    "import collections\n",
    "\n",
    "\n",
    "# freq table\n",
    "class Solution2(object):\n",
    "    def oddString(self, words):\n",
    "        \"\"\"\n",
    "        :type words: List[str]\n",
    "        :rtype: str\n",
    "        \"\"\"\n",
    "        cnt = collections.Counter(tuple(ord(w[i+1])-ord(w[i]) for i in xrange(len(w)-1)) for w in words)\n",
    "        target = next(k for k, v in cnt.iteritems() if v == 1)\n",
    "        return next(w for w in words if tuple(ord(w[i+1])-ord(w[i]) for i in xrange(len(w)-1)) == target)"
   ]
  },
  {
   "cell_type": "markdown",
   "id": "017e454e",
   "metadata": {},
   "source": [
    "# 2455 Easy 2455 Average Value of Even Numbers That Are Divisible by Three"
   ]
  },
  {
   "cell_type": "code",
   "execution_count": null,
   "id": "f0366a27",
   "metadata": {},
   "outputs": [],
   "source": [
    "# Time:  O(n)\n",
    "# Space: O(1)\n",
    "\n",
    "# math\n",
    "class Solution(object):\n",
    "    def averageValue(self, nums):\n",
    "        \"\"\"\n",
    "        :type nums: List[int]\n",
    "        :rtype: int\n",
    "        \"\"\"\n",
    "        total = cnt = 0\n",
    "        for x in nums:\n",
    "            if x%6:\n",
    "                continue\n",
    "            total += x\n",
    "            cnt += 1\n",
    "        return total//cnt if cnt else 0"
   ]
  },
  {
   "cell_type": "markdown",
   "id": "37abee4c",
   "metadata": {},
   "source": [
    "# 2460 Easy 2460 Apply Operations to an Array"
   ]
  },
  {
   "cell_type": "code",
   "execution_count": null,
   "id": "aadb1695",
   "metadata": {},
   "outputs": [],
   "source": [
    "# Time:  O(n)\n",
    "# Space: O(1)\n",
    "\n",
    "# inplace, array\n",
    "class Solution(object):\n",
    "    def applyOperations(self, nums):\n",
    "        \"\"\"\n",
    "        :type nums: List[int]\n",
    "        :rtype: List[int]\n",
    "        \"\"\"\n",
    "        for i in xrange(len(nums)-1):\n",
    "            if nums[i] == nums[i+1]:\n",
    "                nums[i], nums[i+1] = 2*nums[i], 0\n",
    "        i = 0\n",
    "        for x in nums:\n",
    "            if not x:\n",
    "                continue\n",
    "            nums[i] = x\n",
    "            i += 1\n",
    "        for i in xrange(i, len(nums)):\n",
    "            nums[i] = 0\n",
    "        return nums"
   ]
  },
  {
   "cell_type": "markdown",
   "id": "b9031d32",
   "metadata": {},
   "source": [
    "# 2465 Easy 2465 Number of Distinct Averages"
   ]
  },
  {
   "cell_type": "code",
   "execution_count": null,
   "id": "9b86ac0a",
   "metadata": {},
   "outputs": [],
   "source": [
    "# Time:  O(nlogn)\n",
    "# Space: O(n)\n",
    "\n",
    "# sort, two pointers, hash table\n",
    "class Solution(object):\n",
    "    def distinctAverages(self, nums):\n",
    "        \"\"\"\n",
    "        :type nums: List[int]\n",
    "        :rtype: int\n",
    "        \"\"\"\n",
    "        lookup = set()\n",
    "        nums.sort()\n",
    "        left, right = 0, len(nums)-1\n",
    "        while left < right:\n",
    "            lookup.add(nums[left]+nums[right])\n",
    "            left, right = left+1, right-1\n",
    "        return len(lookup)"
   ]
  },
  {
   "cell_type": "markdown",
   "id": "5fb112cc",
   "metadata": {},
   "source": [
    "# 2469 Easy 2469 Convert the Temperature"
   ]
  },
  {
   "cell_type": "code",
   "execution_count": null,
   "id": "42e958b8",
   "metadata": {},
   "outputs": [],
   "source": [
    "# Time:  O(1)\n",
    "# Space: O(1)\n",
    "\n",
    "# math\n",
    "class Solution(object):\n",
    "    def convertTemperature(self, celsius):\n",
    "        \"\"\"\n",
    "        :type celsius: float\n",
    "        :rtype: List[float]\n",
    "        \"\"\"\n",
    "        return [celsius+273.15, celsius*1.80+32.00]"
   ]
  },
  {
   "cell_type": "markdown",
   "id": "8c0776d7",
   "metadata": {},
   "source": [
    "# 2475 Easy 2475 Number of Unequal Triplets in Array"
   ]
  },
  {
   "cell_type": "code",
   "execution_count": null,
   "id": "e3b0b372",
   "metadata": {},
   "outputs": [],
   "source": [
    "# Time:  O(n * k) = O(3 * n)\n",
    "# Space: O(n + k) = O(n)\n",
    "\n",
    "import collections\n",
    "\n",
    "\n",
    "# freq table, dp\n",
    "class Solution(object):\n",
    "    def unequalTriplets(self, nums):\n",
    "        \"\"\"\n",
    "        :type nums: List[int]\n",
    "        :rtype: int\n",
    "        \"\"\"\n",
    "        K = 3\n",
    "        cnt = collections.Counter()\n",
    "        dp = [0]*K  # dp[i]: number of unequal (i+1)-plets\n",
    "        for x in nums:\n",
    "            cnt[x] += 1\n",
    "            other_cnt = 1\n",
    "            for i in xrange(K):\n",
    "                dp[i] += other_cnt\n",
    "                other_cnt = dp[i]-cnt[x]*other_cnt\n",
    "        return dp[K-1]"
   ]
  },
  {
   "cell_type": "markdown",
   "id": "36c25c62",
   "metadata": {},
   "source": [
    "# 2481 Easy 2481 Minimum Cuts to Divide a Circle"
   ]
  },
  {
   "cell_type": "code",
   "execution_count": null,
   "id": "c6554910",
   "metadata": {},
   "outputs": [],
   "source": [
    "# Time:  O(1)\n",
    "# Space: O(1)\n",
    "\n",
    "# math\n",
    "class Solution(object):\n",
    "    def numberOfCuts(self, n):\n",
    "        \"\"\"\n",
    "        :type n: int\n",
    "        :rtype: int\n",
    "        \"\"\"\n",
    "        return 0 if n == 1 else n if n%2 else n//2"
   ]
  },
  {
   "cell_type": "markdown",
   "id": "4579b4e9",
   "metadata": {},
   "source": [
    "# 2485 Easy 2485 Find the Pivot Integer"
   ]
  },
  {
   "cell_type": "code",
   "execution_count": null,
   "id": "c86086d7",
   "metadata": {},
   "outputs": [],
   "source": [
    "# Time:  O(1)\n",
    "# Space: O(1)\n",
    "\n",
    "# math\n",
    "class Solution(object):\n",
    "    def pivotInteger(self, n):\n",
    "        \"\"\"\n",
    "        :type n: int\n",
    "        :rtype: int\n",
    "        \"\"\"\n",
    "        x = int(((n+1)*n//2)**0.5+0.5)\n",
    "        return x if x**2 == (n+1)*n//2 else -1"
   ]
  },
  {
   "cell_type": "markdown",
   "id": "8b14b87f",
   "metadata": {},
   "source": [
    "# 2490 Easy 2490 Circular Sentence"
   ]
  },
  {
   "cell_type": "code",
   "execution_count": null,
   "id": "39abddff",
   "metadata": {},
   "outputs": [],
   "source": [
    "# Time:  O(n)\n",
    "# Space: O(1)\n",
    "\n",
    "# string\n",
    "class Solution(object):\n",
    "    def isCircularSentence(self, sentence):\n",
    "        \"\"\"\n",
    "        :type sentence: str\n",
    "        :rtype: bool\n",
    "        \"\"\"\n",
    "        return sentence[0] == sentence[-1] and all(sentence[i-1] == sentence[i+1]for i in xrange(len(sentence)) if sentence[i] == ' ')"
   ]
  },
  {
   "cell_type": "markdown",
   "id": "eda61c8f",
   "metadata": {},
   "source": [
    "# 2496 Easy 2496 Maximum Value of a String in an Array"
   ]
  },
  {
   "cell_type": "code",
   "execution_count": null,
   "id": "9cc6525d",
   "metadata": {},
   "outputs": [],
   "source": [
    "# Time:  O(n * l)\n",
    "# Space: O(1)\n",
    "\n",
    "# string\n",
    "class Solution(object):\n",
    "    def maximumValue(self, strs):\n",
    "        \"\"\"\n",
    "        :type strs: List[str]\n",
    "        :rtype: int\n",
    "        \"\"\"\n",
    "        return max(int(s) if s.isdigit() else len(s) for s in strs)"
   ]
  },
  {
   "cell_type": "markdown",
   "id": "9b1b0c13",
   "metadata": {},
   "source": [
    "# 2500 Easy 2500 Delete Greatest Value in Each Row"
   ]
  },
  {
   "cell_type": "code",
   "execution_count": null,
   "id": "62cc9948",
   "metadata": {},
   "outputs": [],
   "source": [
    "# Time:  O(m * nlogn)\n",
    "# Space: O(1)\n",
    "\n",
    "# array\n",
    "class Solution(object):\n",
    "    def deleteGreatestValue(self, grid):\n",
    "        \"\"\"\n",
    "        :type grid: List[List[int]]\n",
    "        :rtype: int\n",
    "        \"\"\"\n",
    "        for row in grid:\n",
    "            row.sort()\n",
    "        return sum(max(grid[i][j] for i in xrange(len(grid))) for j in xrange(len(grid[0])))"
   ]
  },
  {
   "cell_type": "markdown",
   "id": "dc522863",
   "metadata": {},
   "source": [
    "# 2506 Easy 2506 Count Pairs Of Similar Strings"
   ]
  },
  {
   "cell_type": "code",
   "execution_count": null,
   "id": "b6a5beec",
   "metadata": {},
   "outputs": [],
   "source": [
    "# Time:  O(n * l)\n",
    "# Space: O(n)\n",
    "\n",
    "import collections\n",
    "import itertools\n",
    "\n",
    "\n",
    "# freq table, bitmask\n",
    "class Solution(object):\n",
    "    def similarPairs(self, words):\n",
    "        \"\"\"\n",
    "        :type words: List[str]\n",
    "        :rtype: int\n",
    "        \"\"\"\n",
    "        cnt = collections.Counter()\n",
    "        result = 0\n",
    "        for w in words:\n",
    "            mask = reduce(lambda total, x: total|x, itertools.imap(lambda c: 1<<(ord(c)-ord('a')), w))\n",
    "            result += cnt[mask]\n",
    "            cnt[mask] += 1\n",
    "        return result"
   ]
  },
  {
   "cell_type": "markdown",
   "id": "c693e9c8",
   "metadata": {},
   "source": [
    "# 2511 Easy 2511 Maximum Enemy Forts That Can Be Captured"
   ]
  },
  {
   "cell_type": "code",
   "execution_count": null,
   "id": "584474cd",
   "metadata": {},
   "outputs": [],
   "source": [
    "# Time:  O(n)\n",
    "# Space: O(1)\n",
    "\n",
    "# array, two pointers\n",
    "class Solution(object):\n",
    "    def captureForts(self, forts):\n",
    "        \"\"\"\n",
    "        :type forts: List[int]\n",
    "        :rtype: int\n",
    "        \"\"\"\n",
    "        result = left = 0\n",
    "        for right in xrange(len(forts)):\n",
    "            if not forts[right]:\n",
    "                continue\n",
    "            if forts[right] == -forts[left]:\n",
    "                result = max(result, right-left-1)\n",
    "            left = right\n",
    "        return result"
   ]
  },
  {
   "cell_type": "markdown",
   "id": "9a90a743",
   "metadata": {},
   "source": [
    "# 2515 Easy 2515 Shortest Distance to Target String in a Circular Array"
   ]
  },
  {
   "cell_type": "code",
   "execution_count": null,
   "id": "92fe3ddd",
   "metadata": {},
   "outputs": [],
   "source": [
    "# Time:  O(n)\n",
    "# Space: O(1)\n",
    "\n",
    "# array\n",
    "class Solution(object):\n",
    "    def closetTarget(self, words, target, startIndex):\n",
    "        \"\"\"\n",
    "        :type words: List[str]\n",
    "        :type target: str\n",
    "        :type startIndex: int\n",
    "        :rtype: int\n",
    "        \"\"\"\n",
    "        INF = float(\"inf\")\n",
    "        result = INF\n",
    "        for i, w in enumerate(words):\n",
    "            if w == target:\n",
    "                result = min(result, (i-startIndex)%len(words), (startIndex-i)%len(words))\n",
    "        return result if result != INF else -1"
   ]
  },
  {
   "cell_type": "markdown",
   "id": "a14feb78",
   "metadata": {},
   "source": [
    "# 2520 Easy 2520 Count the Digits That Divide a Number"
   ]
  },
  {
   "cell_type": "code",
   "execution_count": null,
   "id": "f88d553b",
   "metadata": {},
   "outputs": [],
   "source": [
    "# Time:  O(logn)\n",
    "# Space: O(1)\n",
    "\n",
    "# math\n",
    "class Solution(object):\n",
    "    def countDigits(self, num):\n",
    "        \"\"\"\n",
    "        :type num: int\n",
    "        :rtype: int\n",
    "        \"\"\"\n",
    "        result = 0\n",
    "        curr = num\n",
    "        while curr:\n",
    "            result += int(num%(curr%10) == 0)\n",
    "            curr //= 10\n",
    "        return result"
   ]
  },
  {
   "cell_type": "markdown",
   "id": "220b27d6",
   "metadata": {},
   "source": [
    "# 2525 Easy 2525 Categorize Box According to Criteria"
   ]
  },
  {
   "cell_type": "code",
   "execution_count": null,
   "id": "ec48f7fb",
   "metadata": {},
   "outputs": [],
   "source": [
    "# Time:  O(1)\n",
    "# Space: O(1)\n",
    "\n",
    "# math, implementation\n",
    "class Solution(object):\n",
    "    def categorizeBox(self, length, width, height, mass):\n",
    "        \"\"\"\n",
    "        :type length: int\n",
    "        :type width: int\n",
    "        :type height: int\n",
    "        :type mass: int\n",
    "        :rtype: str\n",
    "        \"\"\"\n",
    "        bulky = any(x >= 10**4 for x in (length, width, height)) or length*width*height >= 10**9\n",
    "        heavy = mass >= 100\n",
    "        if bulky and heavy:\n",
    "            return \"Both\"\n",
    "        if bulky:\n",
    "            return \"Bulky\"\n",
    "        if heavy:\n",
    "            return \"Heavy\"\n",
    "        return \"Neither\"\n",
    "\n",
    "\n",
    "# Time:  O(1)\n",
    "# Space: O(1)\n",
    "# math, implementation\n",
    "class Solution2(object):\n",
    "    def categorizeBox(self, length, width, height, mass):\n",
    "        \"\"\"\n",
    "        :type length: int\n",
    "        :type width: int\n",
    "        :type height: int\n",
    "        :type mass: int\n",
    "        :rtype: str\n",
    "        \"\"\"\n",
    "        CATEGORIES = [\"Neither\", \"Heavy\", \"Bulky\", \"Both\"]\n",
    "        i = 2*(any(x >= 10**4 for x in (length, width, height)) or length*width*height >= 10**9)+int(mass >= 100)\n",
    "        return CATEGORIES[i]"
   ]
  },
  {
   "cell_type": "markdown",
   "id": "3215f392",
   "metadata": {},
   "source": [
    "# 2529 Easy 2529 Maximum Count of Positive Integer and Negative Integer"
   ]
  },
  {
   "cell_type": "code",
   "execution_count": null,
   "id": "c2152278",
   "metadata": {},
   "outputs": [],
   "source": [
    "# Time:  O(logn)\n",
    "# Space: O(1)\n",
    "\n",
    "import bisect\n",
    "\n",
    "\n",
    "# binary search\n",
    "class Solution(object):\n",
    "    def maximumCount(self, nums):\n",
    "        \"\"\"\n",
    "        :type nums: List[int]\n",
    "        :rtype: int\n",
    "        \"\"\"\n",
    "        return max(bisect.bisect_left(nums, 0)-0, len(nums)-bisect.bisect_left(nums, 1))"
   ]
  },
  {
   "cell_type": "markdown",
   "id": "d69ff48e",
   "metadata": {},
   "source": [
    "# 2535 Easy 2535 Difference Between Element Sum and Digit Sum of an Array"
   ]
  },
  {
   "cell_type": "code",
   "execution_count": null,
   "id": "516725a9",
   "metadata": {},
   "outputs": [],
   "source": [
    "# Time:  O(nlogr), r = max(nums)\n",
    "# Space: O(1)\n",
    "\n",
    "# array\n",
    "class Solution(object):\n",
    "    def differenceOfSum(self, nums):\n",
    "        \"\"\"\n",
    "        :type nums: List[int]\n",
    "        :rtype: int\n",
    "        \"\"\"\n",
    "        def total(x):\n",
    "            result = 0\n",
    "            while x:\n",
    "                result += x%10\n",
    "                x //= 10\n",
    "            return result\n",
    "\n",
    "        return abs(sum(nums)-sum(total(x) for x in nums))"
   ]
  },
  {
   "cell_type": "markdown",
   "id": "60b00f77",
   "metadata": {},
   "source": [
    "# 2540 Easy 2540 Minimum Common Value"
   ]
  },
  {
   "cell_type": "code",
   "execution_count": null,
   "id": "cfdd59fb",
   "metadata": {},
   "outputs": [],
   "source": [
    "# Time:  O(n)\n",
    "# Space: O(1)\n",
    "\n",
    "# two pointers\n",
    "class Solution(object):\n",
    "    def getCommon(self, nums1, nums2):\n",
    "        \"\"\"\n",
    "        :type nums1: List[int]\n",
    "        :type nums2: List[int]\n",
    "        :rtype: int\n",
    "        \"\"\"\n",
    "        i = j = 0\n",
    "        while i < len(nums1) and j < len(nums2):\n",
    "            if nums1[i] < nums2[j]:\n",
    "                i += 1\n",
    "            elif nums1[i] > nums2[j]:\n",
    "                j += 1\n",
    "            else:\n",
    "                return nums1[i]\n",
    "        return -1"
   ]
  },
  {
   "cell_type": "markdown",
   "id": "309a666f",
   "metadata": {},
   "source": [
    "# 2544 Easy 2544 Alternating Digit Sum"
   ]
  },
  {
   "cell_type": "code",
   "execution_count": null,
   "id": "2f93c78a",
   "metadata": {},
   "outputs": [],
   "source": [
    "# Time:  O(logn)\n",
    "# Space: O(1)\n",
    "\n",
    "# math\n",
    "class Solution(object):\n",
    "    def alternateDigitSum(self, n):\n",
    "        \"\"\"\n",
    "        :type n: int\n",
    "        :rtype: int\n",
    "        \"\"\"\n",
    "        result = 0\n",
    "        sign = 1\n",
    "        while n:\n",
    "            sign *= -1\n",
    "            result += sign*(n%10)\n",
    "            n //= 10\n",
    "        return sign*result"
   ]
  },
  {
   "cell_type": "markdown",
   "id": "824b84ba",
   "metadata": {},
   "source": [
    "# 2549 Easy 2549 Count Distinct Numbers on Board"
   ]
  },
  {
   "cell_type": "code",
   "execution_count": null,
   "id": "a3d054ca",
   "metadata": {},
   "outputs": [],
   "source": [
    "# Time:  O(1)\n",
    "# Space: O(1)\n",
    "\n",
    "# math\n",
    "class Solution(object):\n",
    "    def distinctIntegers(self, n):\n",
    "        \"\"\"\n",
    "        :type n: int\n",
    "        :rtype: int\n",
    "        \"\"\"\n",
    "        return n-1 if n >= 2 else 1"
   ]
  },
  {
   "cell_type": "markdown",
   "id": "8ebcac66",
   "metadata": {},
   "source": [
    "# 2553 Easy 2553 Separate the Digits in an Array"
   ]
  },
  {
   "cell_type": "code",
   "execution_count": null,
   "id": "92ee7a74",
   "metadata": {},
   "outputs": [],
   "source": [
    "# Time:  O(n * logr)\n",
    "# Space: O(1)\n",
    "\n",
    "# array\n",
    "class Solution(object):\n",
    "    def separateDigits(self, nums):\n",
    "        \"\"\"\n",
    "        :type nums: List[int]\n",
    "        :rtype: List[int]\n",
    "        \"\"\"\n",
    "        result = []\n",
    "        for x in reversed(nums):\n",
    "            while x:\n",
    "                result.append(x%10)\n",
    "                x //= 10\n",
    "        result.reverse()\n",
    "        return result\n",
    "\n",
    "\n",
    "# Time:  O(n * logr)\n",
    "# Space: O(logr), r = max(nums)\n",
    "# array\n",
    "class Solution2(object):\n",
    "    def separateDigits(self, nums):\n",
    "        \"\"\"\n",
    "        :type nums: List[int]\n",
    "        :rtype: List[int]\n",
    "        \"\"\"\n",
    "        return [int(c) for x in nums for c in str(x)]"
   ]
  },
  {
   "cell_type": "markdown",
   "id": "89699782",
   "metadata": {},
   "source": [
    "# 2558 Easy 2558 Take Gifts From the Richest Pile"
   ]
  },
  {
   "cell_type": "code",
   "execution_count": null,
   "id": "03e0731e",
   "metadata": {},
   "outputs": [],
   "source": [
    "# Time:  O(n + klogn)\n",
    "# Space: O(1)\n",
    "\n",
    "import heapq\n",
    "\n",
    "\n",
    "# heap\n",
    "class Solution(object):\n",
    "    def pickGifts(self, gifts, k):\n",
    "        \"\"\"\n",
    "        :type gifts: List[int]\n",
    "        :type k: int\n",
    "        :rtype: int\n",
    "        \"\"\"\n",
    "        for i, x in enumerate(gifts):\n",
    "            gifts[i] = -x\n",
    "        heapq.heapify(gifts)\n",
    "        for _ in xrange(k):\n",
    "            x = heapq.heappop(gifts)\n",
    "            heapq.heappush(gifts, -int((-x)**0.5))\n",
    "        return -sum(gifts)"
   ]
  },
  {
   "cell_type": "markdown",
   "id": "b5bfe734",
   "metadata": {},
   "source": [
    "# 2562 Easy 2562 Find the Array Concatenation Value"
   ]
  },
  {
   "cell_type": "code",
   "execution_count": null,
   "id": "1366f43a",
   "metadata": {},
   "outputs": [],
   "source": [
    "# Time:  O(nlogr)\n",
    "# Space: O(1)\n",
    "\n",
    "import math\n",
    "\n",
    "\n",
    "# math\n",
    "class Solution(object):\n",
    "    def findTheArrayConcVal(self, nums):\n",
    "        \"\"\"\n",
    "        :type nums: List[int]\n",
    "        :rtype: int\n",
    "        \"\"\"\n",
    "        return sum((nums[i]*10**(int(math.log10(nums[~i]))+1) for i in xrange(len(nums)//2)))+sum(nums[i] for i in xrange(len(nums)//2, len(nums)))"
   ]
  },
  {
   "cell_type": "markdown",
   "id": "337836b1",
   "metadata": {},
   "source": [
    "# 2566 Easy 2566 Maximum Difference by Remapping a Digit"
   ]
  },
  {
   "cell_type": "code",
   "execution_count": null,
   "id": "5dd11c7e",
   "metadata": {},
   "outputs": [],
   "source": [
    "# Time:  O(logn)\n",
    "# Space: O(1)\n",
    "\n",
    "# greedy\n",
    "class Solution(object):\n",
    "    def minMaxDifference(self, num):\n",
    "        \"\"\"\n",
    "        :type num: int\n",
    "        :rtype: int\n",
    "        \"\"\"\n",
    "        def f(dst):\n",
    "            result = 0\n",
    "            base = 1\n",
    "            while base <= num:\n",
    "                base *= 10\n",
    "            base //= 10\n",
    "            src = -1\n",
    "            while base:\n",
    "                d = num//base%10\n",
    "                if src == -1 and d != dst:\n",
    "                    src = d\n",
    "                result += base*(dst if d == src else d)\n",
    "                base //= 10\n",
    "            return result\n",
    "    \n",
    "        return f(9)-f(0)"
   ]
  },
  {
   "cell_type": "markdown",
   "id": "84e47b4f",
   "metadata": {},
   "source": [
    "# 2570 Easy 2570 Merge Two 2D Arrays by Summing Values"
   ]
  },
  {
   "cell_type": "code",
   "execution_count": null,
   "id": "50ba9d7b",
   "metadata": {},
   "outputs": [],
   "source": [
    "# Time:  O(n)\n",
    "# Space: O(1)\n",
    "\n",
    "# two pointers\n",
    "class Solution(object):\n",
    "    def mergeArrays(self, nums1, nums2):\n",
    "        \"\"\"\n",
    "        :type nums1: List[List[int]]\n",
    "        :type nums2: List[List[int]]\n",
    "        :rtype: List[List[int]]\n",
    "        \"\"\"\n",
    "        result = []\n",
    "        i = j = 0\n",
    "        while i < len(nums1) or j < len(nums2):\n",
    "            if j == len(nums2) or (i < len(nums1) and nums1[i][0] < nums2[j][0]):\n",
    "                if result and result[-1][0] == nums1[i][0]:\n",
    "                    result[-1][1] += nums1[i][1]\n",
    "                else:\n",
    "                    result.append(nums1[i])\n",
    "                i += 1\n",
    "            else:\n",
    "                if result and result[-1][0] == nums2[j][0]:\n",
    "                    result[-1][1] += nums2[j][1]\n",
    "                else:\n",
    "                    result.append(nums2[j])\n",
    "                j += 1\n",
    "        return result"
   ]
  },
  {
   "cell_type": "markdown",
   "id": "f17dca5a",
   "metadata": {},
   "source": [
    "# 2574 Easy 2574 Left and Right Sum Differences"
   ]
  },
  {
   "cell_type": "code",
   "execution_count": null,
   "id": "4db55839",
   "metadata": {},
   "outputs": [],
   "source": [
    "# Time:  O(n)\n",
    "# Space: O(1)\n",
    "\n",
    "# prefix sum\n",
    "class Solution(object):\n",
    "    def leftRigthDifference(self, nums):\n",
    "        \"\"\"\n",
    "        :type nums: List[int]\n",
    "        :rtype: List[int]\n",
    "        \"\"\"\n",
    "        total = sum(nums)\n",
    "        result = []\n",
    "        curr = 0\n",
    "        for x in nums:\n",
    "            curr += x\n",
    "            result.append(abs((curr-x)-(total-curr)))\n",
    "        return result"
   ]
  },
  {
   "cell_type": "markdown",
   "id": "a549a101",
   "metadata": {},
   "source": [
    "# 2578 Easy 2578 Split With Minimum Sum"
   ]
  },
  {
   "cell_type": "code",
   "execution_count": null,
   "id": "523180f4",
   "metadata": {},
   "outputs": [],
   "source": [
    "# Time:  O(mlogm), m = O(logn)\n",
    "# Space: O(m)\n",
    "\n",
    "# sort, greedy\n",
    "class Solution(object):\n",
    "    def splitNum(self, num):\n",
    "        \"\"\"\n",
    "        :type num: int\n",
    "        :rtype: int\n",
    "        \"\"\"\n",
    "        sorted_num = \"\".join(sorted(str(num)))\n",
    "        return int(sorted_num[::2])+int(sorted_num[1::2])"
   ]
  },
  {
   "cell_type": "markdown",
   "id": "b0800f22",
   "metadata": {},
   "source": [
    "# 2582 Easy 2582 Pass the Pillow"
   ]
  },
  {
   "cell_type": "code",
   "execution_count": null,
   "id": "6c937c31",
   "metadata": {},
   "outputs": [],
   "source": [
    "# Time:  O(1)\n",
    "# Space: O(1)\n",
    "\n",
    "# math\n",
    "class Solution(object):\n",
    "    def passThePillow(self, n, time):\n",
    "        \"\"\"\n",
    "        :type n: int\n",
    "        :type time: int\n",
    "        :rtype: int\n",
    "        \"\"\"\n",
    "        return n-abs((n-1)-(time%(2*(n-1))))"
   ]
  },
  {
   "cell_type": "markdown",
   "id": "2ef274b8",
   "metadata": {},
   "source": [
    "# 2586 Easy 2586 Count the Number of Vowel Strings in Range"
   ]
  },
  {
   "cell_type": "code",
   "execution_count": null,
   "id": "b2c14d8f",
   "metadata": {},
   "outputs": [],
   "source": [
    "# Time:  O(n)\n",
    "# Space: O(1)\n",
    "\n",
    "# string\n",
    "class Solution(object):\n",
    "    def vowelStrings(self, words, left, right):\n",
    "        \"\"\"\n",
    "        :type words: List[str]\n",
    "        :type left: int\n",
    "        :type right: int\n",
    "        :rtype: int\n",
    "        \"\"\"\n",
    "        VOWELS = {'a', 'e', 'i', 'o', 'u'}\n",
    "        return sum(words[i][0] in VOWELS and words[i][-1] in VOWELS for i in xrange(left, right+1))"
   ]
  },
  {
   "cell_type": "markdown",
   "id": "19cb60a0",
   "metadata": {},
   "source": [
    "# 2591 Easy 2591 Distribute Money to Maximum Children"
   ]
  },
  {
   "cell_type": "code",
   "execution_count": null,
   "id": "aecc4eaa",
   "metadata": {},
   "outputs": [],
   "source": [
    "# Time:  O(1)\n",
    "# Space: O(1)\n",
    "\n",
    "# greedy\n",
    "class Solution(object):\n",
    "    def distMoney(self, money, children):\n",
    "        \"\"\"\n",
    "        :type money: int\n",
    "        :type children: int\n",
    "        :rtype: int\n",
    "        \"\"\"\n",
    "        if money < children*1:\n",
    "            return -1\n",
    "        money -= children*1\n",
    "        q, r = divmod(money, 7)\n",
    "        return min(q, children) - int(q > children or (q == children and r != 0) or (q == children-1 and r == 3))\n",
    "\n",
    "\n",
    "# Time:  O(1)\n",
    "# Space: O(1)\n",
    "# greedy\n",
    "class Solution2(object):\n",
    "    def distMoney(self, money, children):\n",
    "        \"\"\"\n",
    "        :type money: int\n",
    "        :type children: int\n",
    "        :rtype: int\n",
    "        \"\"\"\n",
    "        if money < children*1:\n",
    "            return -1\n",
    "        money -= children*1\n",
    "        q, r = divmod(money, 7)\n",
    "        if q > children:\n",
    "            return children-1\n",
    "        if q == children:\n",
    "            return q-int(r != 0)\n",
    "        if q == children-1:\n",
    "            return q-int(r == 3)\n",
    "        return q"
   ]
  },
  {
   "cell_type": "markdown",
   "id": "f76a95bb",
   "metadata": {},
   "source": [
    "# 2595 Easy 2595 Number of Even and Odd Bits"
   ]
  },
  {
   "cell_type": "code",
   "execution_count": null,
   "id": "b5d2e4d0",
   "metadata": {},
   "outputs": [],
   "source": [
    "# Time:  O(1)\n",
    "# Space: O(1)\n",
    "\n",
    "# bit manipulation\n",
    "class Solution(object):\n",
    "    def evenOddBit(self, n):\n",
    "        \"\"\"\n",
    "        :type n: int\n",
    "        :rtype: List[int]\n",
    "        \"\"\"\n",
    "        def popcount(x):\n",
    "            return bin(x)[2:].count('1')\n",
    "\n",
    "        return [popcount(n&0b0101010101), popcount(n&0b1010101010)]"
   ]
  },
  {
   "cell_type": "markdown",
   "id": "b6e7408a",
   "metadata": {},
   "source": [
    "# 2600 Easy 2600 K Items With the Maximum Sum"
   ]
  },
  {
   "cell_type": "code",
   "execution_count": null,
   "id": "7100b876",
   "metadata": {},
   "outputs": [],
   "source": [
    "# Time:  O(1)\n",
    "# Space: O(1)\n",
    "\n",
    "# greedy, math\n",
    "class Solution(object):\n",
    "    def kItemsWithMaximumSum(self, numOnes, numZeros, numNegOnes, k):\n",
    "        \"\"\"\n",
    "        :type numOnes: int\n",
    "        :type numZeros: int\n",
    "        :type numNegOnes: int\n",
    "        :type k: int\n",
    "        :rtype: int\n",
    "        \"\"\"\n",
    "        return min(numOnes, k)-max(k-numOnes-numZeros, 0)"
   ]
  },
  {
   "cell_type": "markdown",
   "id": "78ff11b4",
   "metadata": {},
   "source": [
    "# 0067 Easy 67 Add Binary"
   ]
  },
  {
   "cell_type": "code",
   "execution_count": null,
   "id": "cf7e5852",
   "metadata": {},
   "outputs": [],
   "source": [
    "class Solution:\n",
    "    def addBinary(self, a: str, b: str) -> str:\n",
    "        return bin(int(a, 2) + int(b, 2))[2:]"
   ]
  }
 ],
 "metadata": {},
 "nbformat": 4,
 "nbformat_minor": 5
}
