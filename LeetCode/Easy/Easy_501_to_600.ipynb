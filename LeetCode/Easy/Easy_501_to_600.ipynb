{
 "cells": [
  {
   "cell_type": "markdown",
   "id": "efd7a33c",
   "metadata": {},
   "source": [
    "# 0868 Easy 868 Binary Gap"
   ]
  },
  {
   "cell_type": "code",
   "execution_count": null,
   "id": "1d74fc55",
   "metadata": {},
   "outputs": [],
   "source": [
    "class Solution:\n",
    "    def binaryGap(self, N):\n",
    "        pre = dist = 0\n",
    "        for i, c in enumerate(bin(N)[2:]):\n",
    "            if c == \"1\":\n",
    "                dist = max(dist, i - pre)\n",
    "                pre = i\n",
    "        return dist"
   ]
  },
  {
   "cell_type": "markdown",
   "id": "d7372372",
   "metadata": {},
   "source": [
    "# 0872 Easy 872 LeafSimilar Trees"
   ]
  },
  {
   "cell_type": "code",
   "execution_count": null,
   "id": "610d5153",
   "metadata": {},
   "outputs": [],
   "source": [
    "# Definition for a binary tree node.\n",
    "# class TreeNode(object):\n",
    "#     def __init__(self, x):\n",
    "#         self.val = x\n",
    "#         self.left = None\n",
    "#         self.right = None\n",
    "\n",
    "class Solution(object):\n",
    "    def leafSimilar(self, root1, root2):\n",
    "        \"\"\"\n",
    "        :type root1: TreeNode\n",
    "        :type root2: TreeNode\n",
    "        :rtype: bool\n",
    "        \"\"\"\n",
    "        if not root1 and not root2:\n",
    "            return True\n",
    "        leaf1 = []\n",
    "        leaf2 = []\n",
    "        self.dfs(root1, leaf1)\n",
    "        self.dfs(root2, leaf2)\n",
    "        if leaf1 == leaf2:\n",
    "            return True\n",
    "        return False\n",
    "\n",
    "    def dfs(self, node, leavels):\n",
    "        if not node:\n",
    "            return\n",
    "        if not node.left and not node.right:\n",
    "            leavels.append(node.val)\n",
    "        self.dfs(node.left, leavels)\n",
    "        self.dfs(node.right, leavels)"
   ]
  },
  {
   "cell_type": "markdown",
   "id": "0d59a445",
   "metadata": {},
   "source": [
    "# 0872 Easy 872 LeafSimilar Trees"
   ]
  },
  {
   "cell_type": "code",
   "execution_count": null,
   "id": "7cb66124",
   "metadata": {},
   "outputs": [],
   "source": [
    "class Solution:\n",
    "    def leafSimilar(self, root1, root2):\n",
    "        def dfs(node, arr):\n",
    "            if node:\n",
    "                if not node.left and not node.right: arr += [node.val]\n",
    "                dfs(node.left, arr)\n",
    "                dfs(node.right, arr)\n",
    "                return arr\n",
    "        return dfs(root1, []) == dfs(root2, [])"
   ]
  },
  {
   "cell_type": "markdown",
   "id": "da860363",
   "metadata": {},
   "source": [
    "# 0876 Easy 876 Middle of the Linked List"
   ]
  },
  {
   "cell_type": "code",
   "execution_count": null,
   "id": "02b44dc5",
   "metadata": {},
   "outputs": [],
   "source": [
    "# Time:  O(n)\n",
    "# Space: O(1)\n",
    "\n",
    "class ListNode(object):\n",
    "    def __init__(self, x):\n",
    "        self.val = x\n",
    "        self.next = None\n",
    "\n",
    "class Solution(object):\n",
    "    def middleNode(self, head):\n",
    "        \"\"\"\n",
    "        :type head: ListNode\n",
    "        :rtype: ListNode\n",
    "        \"\"\"\n",
    "        slow, fast = head, head\n",
    "        while fast and fast.next:\n",
    "            slow, fast = slow.next, fast.next.next\n",
    "        return slow"
   ]
  },
  {
   "cell_type": "markdown",
   "id": "b5eda59d",
   "metadata": {},
   "source": [
    "# 0876 Easy 876 Middle of the Linked List"
   ]
  },
  {
   "cell_type": "code",
   "execution_count": null,
   "id": "fb9bb322",
   "metadata": {},
   "outputs": [],
   "source": [
    "# Definition for singly-linked list.\n",
    "# class ListNode(object):\n",
    "#     def __init__(self, x):\n",
    "#         self.val = x\n",
    "#         self.next = None\n",
    "\n",
    "class Solution(object):\n",
    "    # def middleNode(self, head):\n",
    "    #     \"\"\"\n",
    "    #     :type head: ListNode\n",
    "    #     :rtype: ListNode\n",
    "    #     \"\"\"\n",
    "    #     res = []\n",
    "    #     while head:\n",
    "    #         res.append(head)\n",
    "    #         head = head.next\n",
    "    #     return res[len(res) / 2]\n",
    "\n",
    "    def middleNode(self, head):\n",
    "        # Fast point is 2 times faster than slow point\n",
    "        fast = slow = head\n",
    "        while fast and fast.next:\n",
    "            slow = slow.next\n",
    "            fast = fast.next.next\n",
    "        return slow"
   ]
  },
  {
   "cell_type": "markdown",
   "id": "44fe2ac6",
   "metadata": {},
   "source": [
    "# 0876 Easy 876 Middle of the Linked List"
   ]
  },
  {
   "cell_type": "code",
   "execution_count": null,
   "id": "2a3e59d2",
   "metadata": {},
   "outputs": [],
   "source": [
    "class Solution:\n",
    "    def middleNode(self, head):\n",
    "        root, n = head, 0\n",
    "        while head:\n",
    "            head = head.next\n",
    "            n += 1\n",
    "        for _ in range(n // 2):\n",
    "            root = root.next\n",
    "        return root  "
   ]
  },
  {
   "cell_type": "markdown",
   "id": "2bb64294",
   "metadata": {},
   "source": [
    "# 0883 Easy 883 Projection Area of 3D Shapes"
   ]
  },
  {
   "cell_type": "code",
   "execution_count": null,
   "id": "f7f602dd",
   "metadata": {},
   "outputs": [],
   "source": [
    "# Time:  O(n^2)\n",
    "# Space: O(1)\n",
    "\n",
    "class Solution(object):\n",
    "    def projectionArea(self, grid):\n",
    "        \"\"\"\n",
    "        :type grid: List[List[int]]\n",
    "        :rtype: int\n",
    "        \"\"\"\n",
    "        result = 0\n",
    "        for i in xrange(len(grid)):\n",
    "            max_row, max_col = 0, 0\n",
    "            for j in xrange(len(grid)):\n",
    "                if grid[i][j]:\n",
    "                    result += 1\n",
    "                max_row = max(max_row, grid[i][j])\n",
    "                max_col = max(max_col, grid[j][i])\n",
    "            result += max_row + max_col\n",
    "        return result"
   ]
  },
  {
   "cell_type": "markdown",
   "id": "3c01338a",
   "metadata": {},
   "source": [
    "# 0883 Easy 883 Projection Area of 3D Shapes"
   ]
  },
  {
   "cell_type": "code",
   "execution_count": null,
   "id": "129c4e7d",
   "metadata": {},
   "outputs": [],
   "source": [
    "class Solution:\n",
    "    def projectionArea(self, grid):\n",
    "        \"\"\"\n",
    "        :type grid: List[List[int]]\n",
    "        :rtype: int\n",
    "        \"\"\"\n",
    "        n = len(grid)\n",
    "        top = sum(grid[i][j] != 0 for i in range(n) for j in range(n))\n",
    "        front = sum(max(grid[i]) for i in range(n))\n",
    "        side = sum(max(grid[i][j] for i in range(n)) for j in range(n))\n",
    "        return top + front + side"
   ]
  },
  {
   "cell_type": "markdown",
   "id": "b3124e18",
   "metadata": {},
   "source": [
    "# 0884 Easy 884 Uncommon Words from Two Sentences"
   ]
  },
  {
   "cell_type": "code",
   "execution_count": null,
   "id": "fdd6abf5",
   "metadata": {},
   "outputs": [],
   "source": [
    "# Time:  O(m + n)\n",
    "# Space: O(m + n)\n",
    "\n",
    "import collections\n",
    "\n",
    "    \n",
    "class Solution(object):\n",
    "    def uncommonFromSentences(self, A, B):\n",
    "        \"\"\"\n",
    "        :type A: str\n",
    "        :type B: str\n",
    "        :rtype: List[str]\n",
    "        \"\"\"\n",
    "        count = collections.Counter(A.split())\n",
    "        count += collections.Counter(B.split())\n",
    "        return [word for word in count if count[word] == 1]"
   ]
  },
  {
   "cell_type": "markdown",
   "id": "8293f54c",
   "metadata": {},
   "source": [
    "# 0884 Easy 884 Uncommon Words from Two Sentences"
   ]
  },
  {
   "cell_type": "code",
   "execution_count": null,
   "id": "7e4fb157",
   "metadata": {},
   "outputs": [],
   "source": [
    "class Solution:\n",
    "    def uncommonFromSentences(self, A: str, B: str) -> List[str]:\n",
    "        c1 = collections.Counter(A.split())\n",
    "        c2 = collections.Counter(B.split())\n",
    "        return list(c for c in c1 if c1[c] == 1 and c not in c2) + list(c for c in c2 if c2[c] == 1 and c not in c1)"
   ]
  },
  {
   "cell_type": "markdown",
   "id": "167dc223",
   "metadata": {},
   "source": [
    "# 0888 Easy 888 Fair Candy Swap"
   ]
  },
  {
   "cell_type": "code",
   "execution_count": null,
   "id": "d22c5872",
   "metadata": {},
   "outputs": [],
   "source": [
    "# Time:  O(m + n)\n",
    "# Space: O(m + n)\n",
    "\n",
    "class Solution(object):\n",
    "    def fairCandySwap(self, A, B):\n",
    "        \"\"\"\n",
    "        :type A: List[int]\n",
    "        :type B: List[int]\n",
    "        :rtype: List[int]\n",
    "        \"\"\"\n",
    "        diff = (sum(A)-sum(B))//2\n",
    "        setA = set(A)\n",
    "        for b in set(B):\n",
    "            if diff+b in setA:\n",
    "                return [diff+b, b]\n",
    "        return []"
   ]
  },
  {
   "cell_type": "markdown",
   "id": "a8ce800a",
   "metadata": {},
   "source": [
    "# 0888 Easy 888 Fair Candy Swap"
   ]
  },
  {
   "cell_type": "code",
   "execution_count": null,
   "id": "b375285f",
   "metadata": {},
   "outputs": [],
   "source": [
    "class Solution:\n",
    "    def fairCandySwap(self, A, B):\n",
    "        \"\"\"\n",
    "        :type A: List[int]\n",
    "        :type B: List[int]\n",
    "        :rtype: List[int]\n",
    "        \"\"\"\n",
    "        a, b = set(A), set(B)\n",
    "        diff =(sum(A) - sum(B)) // 2\n",
    "        for c in B:\n",
    "            if c + diff in a:\n",
    "                return [c + diff, c]"
   ]
  },
  {
   "cell_type": "markdown",
   "id": "0dab0157",
   "metadata": {},
   "source": [
    "# 0892 Easy 892 Surface Area of 3D Shapes"
   ]
  },
  {
   "cell_type": "code",
   "execution_count": null,
   "id": "c0e27b84",
   "metadata": {},
   "outputs": [],
   "source": [
    "# Time:  O(n^2)\n",
    "# Space: O(1)\n",
    "\n",
    "class Solution(object):\n",
    "    def surfaceArea(self, grid):\n",
    "        \"\"\"\n",
    "        :type grid: List[List[int]]\n",
    "        :rtype: int\n",
    "        \"\"\"\n",
    "        result = 0\n",
    "        for i in xrange(len(grid)):\n",
    "            for j in xrange(len(grid)):\n",
    "                if grid[i][j]:\n",
    "                    result += 2 + grid[i][j]*4\n",
    "                if i:\n",
    "                    result -= min(grid[i][j], grid[i-1][j])*2\n",
    "                if j:\n",
    "                    result -= min(grid[i][j], grid[i][j-1])*2\n",
    "        return result"
   ]
  },
  {
   "cell_type": "markdown",
   "id": "bb94d258",
   "metadata": {},
   "source": [
    "# 0892 Easy 892 Surface Area of 3D Shapes"
   ]
  },
  {
   "cell_type": "code",
   "execution_count": null,
   "id": "3ca1643c",
   "metadata": {},
   "outputs": [],
   "source": [
    "class Solution:\n",
    "    def surfaceArea(self, grid):\n",
    "        n, sm = len(grid), 0\n",
    "        for i in range(n):\n",
    "            for j in range(n):\n",
    "                sm += grid[i][j] and grid[i][j] * 4 + 2\n",
    "                if i > 0: sm -= min(grid[i - 1][j], grid[i][j])\n",
    "                if j > 0: sm -= min(grid[i][j - 1], grid[i][j])\n",
    "                if i < n - 1: sm -= min(grid[i + 1][j], grid[i][j])\n",
    "                if j < n - 1: sm -= min(grid[i][j + 1], grid[i][j])\n",
    "        return sm"
   ]
  },
  {
   "cell_type": "markdown",
   "id": "80fd2a86",
   "metadata": {},
   "source": [
    "# 0896 Easy 896 Monotonic Array"
   ]
  },
  {
   "cell_type": "code",
   "execution_count": null,
   "id": "2f141616",
   "metadata": {},
   "outputs": [],
   "source": [
    "# Time:  O(n)\n",
    "# Space: O(1)\n",
    "\n",
    "class Solution(object):\n",
    "    def isMonotonic(self, A):\n",
    "        \"\"\"\n",
    "        :type A: List[int]\n",
    "        :rtype: bool\n",
    "        \"\"\"\n",
    "        inc, dec = False, False\n",
    "        for i in xrange(len(A)-1):\n",
    "            if A[i] < A[i+1]:\n",
    "                inc = True\n",
    "            elif A[i] > A[i+1]:\n",
    "                dec = True\n",
    "        return not inc or not dec"
   ]
  },
  {
   "cell_type": "markdown",
   "id": "7137ae79",
   "metadata": {},
   "source": [
    "# 0896 Easy 896 Monotonic Array"
   ]
  },
  {
   "cell_type": "code",
   "execution_count": null,
   "id": "55e7762f",
   "metadata": {},
   "outputs": [],
   "source": [
    "class Solution:\n",
    "    def isMonotonic(self, A):\n",
    "        return all(A[i] <= A[i - 1] for i in range(1, len(A))) or all(A[i] >= A[i - 1] for i in range(1, len(A)))"
   ]
  },
  {
   "cell_type": "markdown",
   "id": "a50c662f",
   "metadata": {},
   "source": [
    "# 0897 Easy 897 Increasing Order Search Tree"
   ]
  },
  {
   "cell_type": "code",
   "execution_count": null,
   "id": "10135494",
   "metadata": {},
   "outputs": [],
   "source": [
    "# Time:  O(n)\n",
    "# Space: O(h)\n",
    "\n",
    "class TreeNode(object):\n",
    "    def __init__(self, x):\n",
    "        self.val = x\n",
    "        self.left = None\n",
    "        self.right = None\n",
    "\n",
    "\n",
    "class Solution(object):\n",
    "    def increasingBST(self, root):\n",
    "        \"\"\"\n",
    "        :type root: TreeNode\n",
    "        :rtype: TreeNode\n",
    "        \"\"\"\n",
    "        def increasingBSTHelper(root, tail):\n",
    "            if not root:\n",
    "                return tail\n",
    "            result = increasingBSTHelper(root.left, root)\n",
    "            root.left = None\n",
    "            root.right = increasingBSTHelper(root.right, tail)\n",
    "            return result\n",
    "        return increasingBSTHelper(root, None)"
   ]
  },
  {
   "cell_type": "markdown",
   "id": "78d05472",
   "metadata": {},
   "source": [
    "# 0897 Easy 897 Increasing Order Search Tree"
   ]
  },
  {
   "cell_type": "code",
   "execution_count": null,
   "id": "f20bc7e5",
   "metadata": {},
   "outputs": [],
   "source": [
    "# Definition for a binary tree node.\n",
    "# class TreeNode:\n",
    "#     def __init__(self, x):\n",
    "#         self.val = x\n",
    "#         self.left = None\n",
    "#         self.right = None\n",
    "\n",
    "class Solution:\n",
    "    def increasingBST(self, root, tail = None):\n",
    "        if not root: return tail\n",
    "        res = self.increasingBST(root.left, root)\n",
    "        root.left = None\n",
    "        root.right = self.increasingBST(root.right, tail)\n",
    "        return res"
   ]
  },
  {
   "cell_type": "markdown",
   "id": "cd65dcf8",
   "metadata": {},
   "source": [
    "# 0905 Easy 905 Sort Array By Parity"
   ]
  },
  {
   "cell_type": "code",
   "execution_count": null,
   "id": "6bed9edb",
   "metadata": {},
   "outputs": [],
   "source": [
    "# Time:  O(n)\n",
    "# Space: O(1)\n",
    "\n",
    "class Solution(object):\n",
    "    def sortArrayByParity(self, A):\n",
    "        \"\"\"\n",
    "        :type A: List[int]\n",
    "        :rtype: List[int]\n",
    "        \"\"\"\n",
    "        i = 0\n",
    "        for j in xrange(len(A)):\n",
    "            if A[j] % 2 == 0:\n",
    "                A[i], A[j] = A[j], A[i]\n",
    "                i += 1\n",
    "        return A"
   ]
  },
  {
   "cell_type": "markdown",
   "id": "d7e457a0",
   "metadata": {},
   "source": [
    "# 0905 Easy 905 Sort Array By Parity"
   ]
  },
  {
   "cell_type": "code",
   "execution_count": null,
   "id": "eb05998f",
   "metadata": {},
   "outputs": [],
   "source": [
    "class Solution(object):\n",
    "    # def sortArrayByParity(self, A):\n",
    "    #     \"\"\"\n",
    "    #     :type A: List[int]\n",
    "    #     :rtype: List[int]\n",
    "    #     \"\"\"\n",
    "    #     # Bad idea, O(nlogn)\n",
    "    #     A.sort(key=lambda x: x % 2)\n",
    "    #     return A\n",
    "\n",
    "    # def sortArrayByParity(self, A):\n",
    "    #     return ([x for x in A if x % 2 == 0] +\n",
    "    #             [x for x in A if x % 2 == 1])\n",
    "\n",
    "    def sortArrayByParity(self, A):\n",
    "        # Quit like quick sort or quick selection\n",
    "        lo, hi = 0, len(A) - 1\n",
    "        while lo < hi:\n",
    "            if A[lo] % 2 > A[hi] % 2:\n",
    "                A[lo], A[hi] = A[hi], A[lo]\n",
    "            if A[lo] % 2 == 0: lo += 1\n",
    "            if A[hi] % 2 == 1: hi -= 1\n",
    "        return A"
   ]
  },
  {
   "cell_type": "markdown",
   "id": "ab785871",
   "metadata": {},
   "source": [
    "# 0905 Easy 905 Sort Array By Parity"
   ]
  },
  {
   "cell_type": "code",
   "execution_count": null,
   "id": "a0391286",
   "metadata": {},
   "outputs": [],
   "source": [
    "class Solution:\n",
    "    def sortArrayByParity(self, A):\n",
    "        return [a for a in A if not a % 2] + [a for a in A if a % 2]"
   ]
  },
  {
   "cell_type": "markdown",
   "id": "8abc8059",
   "metadata": {},
   "source": [
    "# 0908 Easy 908 Smallest Range I"
   ]
  },
  {
   "cell_type": "code",
   "execution_count": null,
   "id": "6e6d9c4a",
   "metadata": {},
   "outputs": [],
   "source": [
    "# Time:  O(n)\n",
    "# Space: O(1)\n",
    "\n",
    "class Solution(object):\n",
    "    def smallestRangeI(self, A, K):\n",
    "        \"\"\"\n",
    "        :type A: List[int]\n",
    "        :type K: int\n",
    "        :rtype: int\n",
    "        \"\"\"\n",
    "        return max(0, max(A) - min(A) - 2*K)"
   ]
  },
  {
   "cell_type": "markdown",
   "id": "ba567ff4",
   "metadata": {},
   "source": [
    "# 0908 Easy 908 Smallest Range I"
   ]
  },
  {
   "cell_type": "code",
   "execution_count": null,
   "id": "79053820",
   "metadata": {},
   "outputs": [],
   "source": [
    "class Solution:\n",
    "    def smallestRangeI(self, A, K):\n",
    "        l, r = min(A) + K, max(A) - K \n",
    "        return 0 if l >= r else r - l"
   ]
  },
  {
   "cell_type": "markdown",
   "id": "f14c2e13",
   "metadata": {},
   "source": [
    "# 0914 Easy 914 X of a Kind in a Deck of Cards"
   ]
  },
  {
   "cell_type": "code",
   "execution_count": null,
   "id": "ddb6ceb8",
   "metadata": {},
   "outputs": [],
   "source": [
    "# Time:  O(n * (logn)^2)\n",
    "# Space: O(n)\n",
    "\n",
    "import collections\n",
    "\n",
    "\n",
    "class Solution(object):\n",
    "    def hasGroupsSizeX(self, deck):\n",
    "        \"\"\"\n",
    "        :type deck: List[int]\n",
    "        :rtype: bool\n",
    "        \"\"\"\n",
    "        def gcd(a, b):  # Time: O((logn)^2)\n",
    "            while b:\n",
    "                a, b = b, a % b\n",
    "            return a\n",
    "\n",
    "        vals = collections.Counter(deck).values()\n",
    "        return reduce(gcd, vals) >= 2"
   ]
  },
  {
   "cell_type": "markdown",
   "id": "fc2e2691",
   "metadata": {},
   "source": [
    "# 0914 Easy 914 X of a Kind in a Deck of Cards"
   ]
  },
  {
   "cell_type": "code",
   "execution_count": null,
   "id": "3065cbb0",
   "metadata": {},
   "outputs": [],
   "source": [
    "class Solution:\n",
    "    def hasGroupsSizeX(self, deck):\n",
    "        import functools\n",
    "        def gcd(a, b):\n",
    "            if not b: return a\n",
    "            return gcd(b, a % b)\n",
    "        return functools.reduce(gcd, collections.Counter(deck).values()) != 1"
   ]
  },
  {
   "cell_type": "markdown",
   "id": "05ce9963",
   "metadata": {},
   "source": [
    "# 0917 Easy 917 Reverse Only Letters"
   ]
  },
  {
   "cell_type": "code",
   "execution_count": null,
   "id": "f00815c5",
   "metadata": {},
   "outputs": [],
   "source": [
    "# Time:  O(n)\n",
    "# Space: O(1)\n",
    "\n",
    "class Solution(object):\n",
    "    def reverseOnlyLetters(self, S):\n",
    "        \"\"\"\n",
    "        :type S: str\n",
    "        :rtype: str\n",
    "        \"\"\"\n",
    "        def getNext(S):\n",
    "            for i in reversed(xrange(len(S))):\n",
    "                if S[i].isalpha():\n",
    "                    yield S[i]\n",
    "\n",
    "        result = []\n",
    "        letter = getNext(S)\n",
    "        for i in xrange(len(S)):\n",
    "            if S[i].isalpha():\n",
    "                result.append(letter.next())\n",
    "            else:\n",
    "                result.append(S[i])\n",
    "        return \"\".join(result)"
   ]
  },
  {
   "cell_type": "markdown",
   "id": "20cdb655",
   "metadata": {},
   "source": [
    "# 0917 Easy 917 Reverse Only Letters"
   ]
  },
  {
   "cell_type": "code",
   "execution_count": null,
   "id": "7d17424d",
   "metadata": {},
   "outputs": [],
   "source": [
    "class Solution:\n",
    "    def reverseOnlyLetters(self, S):\n",
    "        r = [s for s in S if s.isalpha()]\n",
    "        return \"\".join(S[i] if not S[i].isalpha() else r.pop() for i in range(len(S)))"
   ]
  },
  {
   "cell_type": "markdown",
   "id": "d2e9e123",
   "metadata": {},
   "source": [
    "# 0922 Easy 922 Sort Array By Parity II"
   ]
  },
  {
   "cell_type": "code",
   "execution_count": null,
   "id": "3ca858fe",
   "metadata": {},
   "outputs": [],
   "source": [
    "# Time:  O(n)\n",
    "# Space: O(1)\n",
    "\n",
    "class Solution(object):\n",
    "    def sortArrayByParityII(self, A):\n",
    "        \"\"\"\n",
    "        :type A: List[int]\n",
    "        :rtype: List[int]\n",
    "        \"\"\"\n",
    "        j = 1\n",
    "        for i in xrange(0, len(A), 2):\n",
    "            if A[i] % 2:\n",
    "                while A[j] % 2:\n",
    "                    j += 2\n",
    "                A[i], A[j] = A[j], A[i]\n",
    "        return A"
   ]
  },
  {
   "cell_type": "markdown",
   "id": "0bd8b6d0",
   "metadata": {},
   "source": [
    "# 0922 Easy 922 Sort Array By Parity II"
   ]
  },
  {
   "cell_type": "code",
   "execution_count": null,
   "id": "c47ac1ee",
   "metadata": {},
   "outputs": [],
   "source": [
    "class Solution(object):\n",
    "    # def sortArrayByParityII(self, A):\n",
    "    #     N = len(A)\n",
    "    #     ans = [None] * N\n",
    "    #     t = 0\n",
    "    #     for i, x in enumerate(A):\n",
    "    #         if x % 2 == 0:\n",
    "    #             ans[t] = x\n",
    "    #             t += 2\n",
    "    #     t = 1\n",
    "    #     for i, x in enumerate(A):\n",
    "    #         if x % 2 == 1:\n",
    "    #             ans[t] = x\n",
    "    #             t += 2\n",
    "    #     # We could have also used slice assignment:\n",
    "    #     # ans[::2] = (x for x in A if x % 2 == 0)\n",
    "    #     # ans[1::2] = (x for x in A if x % 2 == 1)\n",
    "    #     return ans\n",
    "\n",
    "    def sortArrayByParityII(self, A):\n",
    "        odd = 1\n",
    "        for i in xrange(0, len(A), 2):\n",
    "            if A[i] % 2:\n",
    "                while A[odd] % 2:\n",
    "                    odd += 2\n",
    "                A[i], A[odd] = A[odd], A[i]\n",
    "        return A"
   ]
  },
  {
   "cell_type": "markdown",
   "id": "61fc99f3",
   "metadata": {},
   "source": [
    "# 0922 Easy 922 Sort Array By Parity II"
   ]
  },
  {
   "cell_type": "code",
   "execution_count": null,
   "id": "78e50d03",
   "metadata": {},
   "outputs": [],
   "source": [
    "class Solution:\n",
    "    def sortArrayByParityII(self, A):\n",
    "        even, odd = [a for a in A if not a % 2], [a for a in A if a % 2]\n",
    "        return [even.pop() if not i % 2 else odd.pop() for i in range(len(A))]"
   ]
  },
  {
   "cell_type": "markdown",
   "id": "00da9f73",
   "metadata": {},
   "source": [
    "# 0925 Easy 925 Long Pressed Name"
   ]
  },
  {
   "cell_type": "code",
   "execution_count": null,
   "id": "d38c17f8",
   "metadata": {},
   "outputs": [],
   "source": [
    "# Time:  O(n)\n",
    "# Space: O(1)\n",
    "\n",
    "class Solution(object):\n",
    "    def isLongPressedName(self, name, typed):\n",
    "        \"\"\"\n",
    "        :type name: str\n",
    "        :type typed: str\n",
    "        :rtype: bool\n",
    "        \"\"\"\n",
    "        i = 0\n",
    "        for j in xrange(len(typed)):\n",
    "            if i < len(name) and name[i] == typed[j]:\n",
    "                i += 1\n",
    "            elif j == 0 or typed[j] != typed[j-1]:\n",
    "                return False\n",
    "        return i == len(name)"
   ]
  },
  {
   "cell_type": "markdown",
   "id": "8f315f17",
   "metadata": {},
   "source": [
    "# 0925 Easy 925 Long Pressed Name"
   ]
  },
  {
   "cell_type": "code",
   "execution_count": null,
   "id": "839723b2",
   "metadata": {},
   "outputs": [],
   "source": [
    "class Solution:\n",
    "    def isLongPressedName(self, name, typed):\n",
    "        pre, i = None, 0\n",
    "        for c in typed:\n",
    "            if i < len(name) and c == name[i]:\n",
    "                pre, i = name[i], i + 1\n",
    "            elif c != pre:\n",
    "                return False\n",
    "        return i == len(name)"
   ]
  },
  {
   "cell_type": "markdown",
   "id": "5fbc53bd",
   "metadata": {},
   "source": [
    "# 0929 Easy 929 Unique Email Addresses"
   ]
  },
  {
   "cell_type": "code",
   "execution_count": null,
   "id": "b99813cd",
   "metadata": {},
   "outputs": [],
   "source": [
    "# Time:  O(n * l)\n",
    "# Space: O(n * l)\n",
    "\n",
    "class Solution(object):\n",
    "    def numUniqueEmails(self, emails):\n",
    "        \"\"\"\n",
    "        :type emails: List[str]\n",
    "        :rtype: int\n",
    "        \"\"\"\n",
    "        def convert(email):\n",
    "            name, domain = email.split('@')\n",
    "            name = name[:name.index('+')]\n",
    "            return \"\".join([\"\".join(name.split(\".\")), '@', domain])\n",
    "\n",
    "        lookup = set()\n",
    "        for email in emails:\n",
    "            lookup.add(convert(email))\n",
    "        return len(lookup)\n",
    "  "
   ]
  },
  {
   "cell_type": "markdown",
   "id": "8222fcd2",
   "metadata": {},
   "source": [
    "# 0929 Easy 929 Unique Email Addresses"
   ]
  },
  {
   "cell_type": "code",
   "execution_count": null,
   "id": "8db6b6eb",
   "metadata": {},
   "outputs": [],
   "source": [
    "class Solution(object):\n",
    "    def numUniqueEmails(self, emails):\n",
    "        \"\"\"\n",
    "        :type emails: List[str]\n",
    "        :rtype: int\n",
    "        \"\"\"\n",
    "        email_set = set()\n",
    "        for email in emails:\n",
    "            elements = email.split('@')\n",
    "            email_set.add(elements[0].split('+')[0].replace('.', '') + elements[1])\n",
    "        return len(email_set)"
   ]
  },
  {
   "cell_type": "markdown",
   "id": "639fcc67",
   "metadata": {},
   "source": [
    "# 0929 Easy 929 Unique Email Addresses"
   ]
  },
  {
   "cell_type": "code",
   "execution_count": null,
   "id": "4033e3e4",
   "metadata": {},
   "outputs": [],
   "source": [
    "class Solution:\n",
    "    def numUniqueEmails(self, emails: List[str]) -> int:\n",
    "        rec = set()\n",
    "        for email in emails:\n",
    "            local, domain = email.split('@')\n",
    "            local = local.split('+')[0].replace('.', '')\n",
    "            rec.add(local + '@' + domain)\n",
    "        return len(rec)"
   ]
  },
  {
   "cell_type": "markdown",
   "id": "125f2057",
   "metadata": {},
   "source": [
    "# 0933 Easy 933 Number of Recent Calls"
   ]
  },
  {
   "cell_type": "code",
   "execution_count": null,
   "id": "6b91ce60",
   "metadata": {},
   "outputs": [],
   "source": [
    "\"\"\"\n",
    "everytime we ping\n",
    "we put the t in the queue\n",
    "\n",
    "and check the leftmost(smallest) if it is in the range of 3000\n",
    "if it is out of range, pop it, we don't need it anymore\n",
    "bc it would definitely be out of range for the next ping\n",
    "and bc the description says t is strictly increasing\n",
    "keep do the same until the leftmost is in the range\n",
    "\n",
    "now all the value in the queue is in the range\n",
    "return the length of the queue\n",
    "\"\"\"\n",
    "from collections import deque\n",
    "class RecentCounter(object):\n",
    "    def __init__(self):\n",
    "        self.q = collections.deque()\n",
    "\n",
    "    def ping(self, t):\n",
    "        self.q.append(t)\n",
    "        while len(self.q)>0 and self.q[0]<t-3000:\n",
    "            self.q.popleft()\n",
    "        \n",
    "        return len(self.q)"
   ]
  },
  {
   "cell_type": "markdown",
   "id": "d00c4210",
   "metadata": {},
   "source": [
    "# 0933 Easy 933 Number of Recent Calls"
   ]
  },
  {
   "cell_type": "code",
   "execution_count": null,
   "id": "f966089a",
   "metadata": {},
   "outputs": [],
   "source": [
    "class RecentCounter(object):\n",
    "\n",
    "    def __init__(self):\n",
    "        self.queue = []\n",
    "\n",
    "    def ping(self, t):\n",
    "        \"\"\"\n",
    "        :type t: int\n",
    "        :rtype: int\n",
    "        \"\"\"\n",
    "        self.queue.append(t)\n",
    "        while self.queue and self.queue[0] < t - 3000:\n",
    "            self.queue.pop(0)\n",
    "        return len(self.queue)\n",
    "\n",
    "\n",
    "# Your RecentCounter object will be instantiated and called as such:\n",
    "# obj = RecentCounter()\n",
    "# param_1 = obj.ping(t)"
   ]
  },
  {
   "cell_type": "markdown",
   "id": "d1bcae62",
   "metadata": {},
   "source": [
    "# 0933 Easy 933 Number of Recent Calls"
   ]
  },
  {
   "cell_type": "code",
   "execution_count": null,
   "id": "bb6a5fe3",
   "metadata": {},
   "outputs": [],
   "source": [
    "class RecentCounter:\n",
    "\n",
    "    def __init__(self):\n",
    "        self.p = collections.deque()        \n",
    "\n",
    "    def ping(self, t):\n",
    "        self.p.append(t)\n",
    "        while self.p[0] < t - 3000:\n",
    "            self.p.popleft()\n",
    "        return len(self.p)"
   ]
  },
  {
   "cell_type": "markdown",
   "id": "b006678e",
   "metadata": {},
   "source": [
    "# 0938 Easy 938 Range Sum of BST"
   ]
  },
  {
   "cell_type": "code",
   "execution_count": null,
   "id": "01c4f51b",
   "metadata": {},
   "outputs": [],
   "source": [
    "class Solution(object):\n",
    "    def rangeSumBST(self, root, low, high):\n",
    "        def helper(node, low, high):\n",
    "            total = 0\n",
    "            if not node: return total\n",
    "            if low<=node.val<=high: total += node.val\n",
    "            if node.val<=high: total += helper(node.right, low, high)\n",
    "            if node.val>=low: total += helper(node.left, low, high)\n",
    "            return total\n",
    "        \n",
    "        return helper(root, low, high)"
   ]
  },
  {
   "cell_type": "markdown",
   "id": "a37ffe5a",
   "metadata": {},
   "source": [
    "# 0938 Easy 938 Range Sum of BST"
   ]
  },
  {
   "cell_type": "code",
   "execution_count": null,
   "id": "6780b841",
   "metadata": {},
   "outputs": [],
   "source": [
    "class Solution:\n",
    "    def rangeSumBST(self, root, L, R):\n",
    "        if not root: return 0\n",
    "        l = self.rangeSumBST(root.left, L, R)\n",
    "        r = self.rangeSumBST(root.right, L, R)\n",
    "        return l + r + (L <= root.val <= R) * root.val"
   ]
  },
  {
   "cell_type": "markdown",
   "id": "2e8d91b0",
   "metadata": {},
   "source": [
    "# 0941 Easy 941 Valid Mountain Array"
   ]
  },
  {
   "cell_type": "code",
   "execution_count": null,
   "id": "ccddc55e",
   "metadata": {},
   "outputs": [],
   "source": [
    "# Time:  O(n)\n",
    "# Space: O(1)\n",
    "\n",
    "class Solution(object):\n",
    "    def validMountainArray(self, A):\n",
    "        \"\"\"\n",
    "        :type A: List[int]\n",
    "        :rtype: bool\n",
    "        \"\"\"\n",
    "        i = 0\n",
    "        while i+1 < len(A) and A[i] < A[i+1]:\n",
    "            i += 1\n",
    "        j = len(A)-1\n",
    "        while j-1 >= 0 and A[j-1] > A[j]:\n",
    "            j -= 1\n",
    "        return 0 < i == j < len(A)-1"
   ]
  },
  {
   "cell_type": "markdown",
   "id": "55a8e934",
   "metadata": {},
   "source": [
    "# 0941 Easy 941 Valid Mountain Array"
   ]
  },
  {
   "cell_type": "code",
   "execution_count": null,
   "id": "8edd48e1",
   "metadata": {},
   "outputs": [],
   "source": [
    "class Solution:\n",
    "    def validMountainArray(self, A):\n",
    "        i = A and A.index(max(A))\n",
    "        return A and 0<i<len(A)-1 and all(a1<a2 for a1,a2 in zip(A[:i],A[1:i+1])) and all(a2>a3 for a2,a3 in zip(A[i:],A[i+1:])) or False"
   ]
  },
  {
   "cell_type": "markdown",
   "id": "6dce098c",
   "metadata": {},
   "source": [
    "# 0942 Easy 942 DI String Match"
   ]
  },
  {
   "cell_type": "code",
   "execution_count": null,
   "id": "fd126372",
   "metadata": {},
   "outputs": [],
   "source": [
    "# Time:  O(n)\n",
    "# Space: O(1)\n",
    "\n",
    "class Solution(object):\n",
    "    def diStringMatch(self, S):\n",
    "        \"\"\"\n",
    "        :type S: str\n",
    "        :rtype: List[int]\n",
    "        \"\"\"\n",
    "        result = []\n",
    "        left, right = 0, len(S)\n",
    "        for c in S:\n",
    "            if c == 'I':\n",
    "                result.append(left)\n",
    "                left += 1\n",
    "            else:\n",
    "                result.append(right)\n",
    "                right -= 1\n",
    "        result.append(left)\n",
    "        return result"
   ]
  },
  {
   "cell_type": "markdown",
   "id": "359278a0",
   "metadata": {},
   "source": [
    "# 0942 Easy 942 DI String Match"
   ]
  },
  {
   "cell_type": "code",
   "execution_count": null,
   "id": "e53a0c6b",
   "metadata": {},
   "outputs": [],
   "source": [
    "class Solution:\n",
    "    def diStringMatch(self, S):\n",
    "        l, r, arr = 0, len(S), []\n",
    "        for s in S:\n",
    "            arr.append(l if s == \"I\" else r)\n",
    "            l, r = l + (s == \"I\"), r - (s == \"D\")\n",
    "        return arr + [l]"
   ]
  },
  {
   "cell_type": "markdown",
   "id": "3f2f0fa5",
   "metadata": {},
   "source": [
    "# 0944 Easy 944 Delete Columns to Make Sorted"
   ]
  },
  {
   "cell_type": "code",
   "execution_count": null,
   "id": "bce091e6",
   "metadata": {},
   "outputs": [],
   "source": [
    "# Time:  O(n * l)\n",
    "# Space: O(1)\n",
    "\n",
    "class Solution(object):\n",
    "    def minDeletionSize(self, A):\n",
    "        \"\"\"\n",
    "        :type A: List[str]\n",
    "        :rtype: int\n",
    "        \"\"\"\n",
    "        result = 0\n",
    "        for c in xrange(len(A[0])):\n",
    "            for r in xrange(1, len(A)):\n",
    "                if A[r-1][c] > A[r][c]:\n",
    "                    result += 1\n",
    "                    break\n",
    "        return result\n",
    "\n",
    "\n",
    "# Time:  O(n * l)\n",
    "# Space: O(n)\n",
    "import itertools\n",
    "\n",
    "\n",
    "class Solution2(object):\n",
    "    def minDeletionSize(self, A):\n",
    "        \"\"\"\n",
    "        :type A: List[str]\n",
    "        :rtype: int\n",
    "        \"\"\"\n",
    "        result = 0\n",
    "        for col in itertools.izip(*A):\n",
    "            if any(col[i] > col[i+1] for i in xrange(len(col)-1)):\n",
    "                result += 1\n",
    "        return result"
   ]
  },
  {
   "cell_type": "markdown",
   "id": "0cd8f67c",
   "metadata": {},
   "source": [
    "# 0944 Easy 944 Delete Columns to Make Sorted"
   ]
  },
  {
   "cell_type": "code",
   "execution_count": null,
   "id": "c826766a",
   "metadata": {},
   "outputs": [],
   "source": [
    "class Solution:\n",
    "    def minDeletionSize(self, A):\n",
    "        return sum(any(a[j] > b[j] for a, b in zip(A, A[1:])) for j in range(len(A[0])))"
   ]
  },
  {
   "cell_type": "markdown",
   "id": "f1a6fa69",
   "metadata": {},
   "source": [
    "# 0953 Easy 953 Verifying an Alien Dictionary"
   ]
  },
  {
   "cell_type": "code",
   "execution_count": null,
   "id": "83a82de9",
   "metadata": {},
   "outputs": [],
   "source": [
    "# Time:  O(n * l), l is the average length of words\n",
    "# Space: O(1)\n",
    "\n",
    "class Solution(object):\n",
    "    def isAlienSorted(self, words, order):\n",
    "        \"\"\"\n",
    "        :type words: List[str]\n",
    "        :type order: str\n",
    "        :rtype: bool\n",
    "        \"\"\"\n",
    "        lookup = {c: i for i, c in enumerate(order)}\n",
    "        for i in xrange(len(words)-1):\n",
    "            word1 = words[i]\n",
    "            word2 = words[i+1]\n",
    "            for k in xrange(min(len(word1), len(word2))):\n",
    "                if word1[k] != word2[k]:\n",
    "                    if lookup[word1[k]] > lookup[word2[k]]:\n",
    "                        return False\n",
    "                    break\n",
    "            else:\n",
    "                if len(word1) > len(word2):\n",
    "                    return False\n",
    "        return True"
   ]
  },
  {
   "cell_type": "markdown",
   "id": "7f2c9f89",
   "metadata": {},
   "source": [
    "# 0953 Easy 953 Verifying an Alien Dictionary"
   ]
  },
  {
   "cell_type": "code",
   "execution_count": null,
   "id": "be88045d",
   "metadata": {},
   "outputs": [],
   "source": [
    "class Solution(object):\n",
    "    def isAlienSorted(self, words, order):\n",
    "        \"\"\"\n",
    "        :type words: List[str]\n",
    "        :type order: str\n",
    "        :rtype: bool\n",
    "        \"\"\"\n",
    "        order_map = {}\n",
    "        for i, v in enumerate(order):\n",
    "            order_map[v] = i\n",
    "\n",
    "        def cmp_alien(x, y):\n",
    "            ls = min(len(x), len(y))\n",
    "            index = 0\n",
    "            while index < ls:\n",
    "                if x[index] != y[index]:\n",
    "                    return order_map[x[index]] - order_map[y[index]]\n",
    "                index += 1\n",
    "            return len(x) - len(y)\n",
    "        pos = 0\n",
    "        while pos + 1 < len(words):\n",
    "            if cmp_alien(words[pos], words[pos + 1]) > 0:\n",
    "                return False\n",
    "            pos += 1\n",
    "        return True\n",
    "\n",
    "\n",
    "if __name__ == '__main__':\n",
    "    s = Solution()\n",
    "    print s.isAlienSorted([\"hello\",\"leetcode\"], \"hlabcdefgijkmnopqrstuvwxyz\")\n",
    "    print s.isAlienSorted([\"word\",\"world\",\"row\"], \"worldabcefghijkmnpqstuvxyz\")\n",
    "    print s.isAlienSorted([\"apple\",\"app\"], \"abcdefghijklmnopqrstuvwxyz\")"
   ]
  },
  {
   "cell_type": "markdown",
   "id": "e67b0f95",
   "metadata": {},
   "source": [
    "# 0953 Easy 953 Verifying an Alien Dictionary"
   ]
  },
  {
   "cell_type": "code",
   "execution_count": null,
   "id": "4dbdfc8c",
   "metadata": {},
   "outputs": [],
   "source": [
    "class Solution:\n",
    "    def isAlienSorted(self, words, order):\n",
    "        \"\"\"\n",
    "        :type words: List[str]\n",
    "        :type order: str\n",
    "        :rtype: bool\n",
    "        \"\"\"\n",
    "        ind = {c: i for i, c in enumerate(order)}\n",
    "        for a, b in zip(words, words[1:]):\n",
    "            if len(a) > len(b) and a[:len(b)] == b:\n",
    "                return False\n",
    "            for s1, s2 in zip(a, b):\n",
    "                if ind[s1] < ind[s2]:\n",
    "                    break\n",
    "                elif ind[s1] == ind[s2]:\n",
    "                    continue\n",
    "                else: \n",
    "                    return False\n",
    "        return True"
   ]
  },
  {
   "cell_type": "markdown",
   "id": "1c18582e",
   "metadata": {},
   "source": [
    "# 0961 Easy 961 NRepeated Element in Size 2N Array"
   ]
  },
  {
   "cell_type": "code",
   "execution_count": null,
   "id": "e74c9f65",
   "metadata": {},
   "outputs": [],
   "source": [
    "import collections\n",
    "\n",
    "\n",
    "class Solution(object):\n",
    "    def repeatedNTimes(self, A):\n",
    "        \"\"\"\n",
    "        :type A: List[int]\n",
    "        :rtype: int\n",
    "        \"\"\"\n",
    "        counter = collections.Counter(A)\n",
    "        return counter.most_common(1)[0][0]\n",
    "\n",
    "\n",
    "if __name__ == '__main__':\n",
    "    s = Solution()\n",
    "    print s.repeatedNTimes([1, 2, 3, 3])\n",
    "    print s.repeatedNTimes([2, 1, 2, 5, 3, 2])\n",
    "    print s.repeatedNTimes([5, 1, 5, 2, 5, 3, 5, 4])"
   ]
  },
  {
   "cell_type": "markdown",
   "id": "3b1e4230",
   "metadata": {},
   "source": [
    "# 0961 Easy 961 NRepeated Element in Size 2N Array"
   ]
  },
  {
   "cell_type": "code",
   "execution_count": null,
   "id": "e88fe1e2",
   "metadata": {},
   "outputs": [],
   "source": [
    "class Solution:\n",
    "    def repeatedNTimes(self, A):\n",
    "        \"\"\"\n",
    "        :type A: List[int]\n",
    "        :rtype: int\n",
    "        \"\"\"\n",
    "        return collections.Counter(A).most_common(1)[0][0]"
   ]
  },
  {
   "cell_type": "markdown",
   "id": "925e735a",
   "metadata": {},
   "source": [
    "# 0965 Easy 965 Univalued Binary Tree"
   ]
  },
  {
   "cell_type": "code",
   "execution_count": null,
   "id": "55fac856",
   "metadata": {},
   "outputs": [],
   "source": [
    "class Solution(object):\n",
    "    def isUnivalTree(self, root):\n",
    "        stack = []\n",
    "        stack.append(root)\n",
    "        value = root.val\n",
    "        while stack:\n",
    "            node = stack.pop()\n",
    "            if node.val!=value: return False\n",
    "            if node.left: stack.append(node.left)\n",
    "            if node.right: stack.append(node.right)\n",
    "        return True"
   ]
  },
  {
   "cell_type": "markdown",
   "id": "f231dc02",
   "metadata": {},
   "source": [
    "# 0965 Easy 965 Univalued Binary Tree"
   ]
  },
  {
   "cell_type": "code",
   "execution_count": null,
   "id": "3b1d3797",
   "metadata": {},
   "outputs": [],
   "source": [
    "# Definition for a binary tree node.\n",
    "# class TreeNode:\n",
    "#     def __init__(self, x):\n",
    "#         self.val = x\n",
    "#         self.left = None\n",
    "#         self.right = None\n",
    "\n",
    "class Solution:\n",
    "    def isUnivalTree(self, root):\n",
    "        \"\"\"\n",
    "        :type root: TreeNode\n",
    "        :rtype: bool\n",
    "        \"\"\"\n",
    "        if not root: return True\n",
    "        if root.left and root.left.val != root.val: return False\n",
    "        if root.right and root.right.val != root.val: return False\n",
    "        return self.isUnivalTree(root.left) and self.isUnivalTree(root.right)"
   ]
  },
  {
   "cell_type": "markdown",
   "id": "8f745e4e",
   "metadata": {},
   "source": [
    "# 0976 Easy 976 Largest Perimeter Triangle"
   ]
  },
  {
   "cell_type": "code",
   "execution_count": null,
   "id": "1af0a26b",
   "metadata": {},
   "outputs": [],
   "source": [
    "# Time:  O(nlogn)\n",
    "# Space: O(1)\n",
    "\n",
    "class Solution(object):\n",
    "    def largestPerimeter(self, A):\n",
    "        \"\"\"\n",
    "        :type A: List[int]\n",
    "        :rtype: int\n",
    "        \"\"\"\n",
    "        A.sort()\n",
    "        for i in reversed(xrange(len(A) - 2)):\n",
    "            if A[i] + A[i+1] > A[i+2]:\n",
    "                return A[i] + A[i+1] + A[i+2]\n",
    "        return 0"
   ]
  },
  {
   "cell_type": "markdown",
   "id": "909afaaf",
   "metadata": {},
   "source": [
    "# 0976 Easy 976 Largest Perimeter Triangle"
   ]
  },
  {
   "cell_type": "code",
   "execution_count": null,
   "id": "1f8e8438",
   "metadata": {},
   "outputs": [],
   "source": [
    "class Solution:\n",
    "    def largestPerimeter(self, A):\n",
    "        \"\"\"\n",
    "        :type A: List[int]\n",
    "        :rtype: int\n",
    "        \"\"\"\n",
    "        A.sort()\n",
    "        return ([0] + [a + b + c for a, b, c in zip(A, A[1:], A[2:]) if c < a + b])[-1]"
   ]
  },
  {
   "cell_type": "markdown",
   "id": "61f1e684",
   "metadata": {},
   "source": [
    "# 0977 Easy 977 Squares of a Sorted Array"
   ]
  },
  {
   "cell_type": "code",
   "execution_count": null,
   "id": "50636939",
   "metadata": {},
   "outputs": [],
   "source": [
    "\"\"\"\n",
    "If all the numbers in the array is larger or equal than 0, all the square value will automatically be sorted.\n",
    "\n",
    "If there are negatives in the array, we need to seperate the negatives and the others.\n",
    "To do that, we need to find the index of 0 or index of first positive element. We call the index `m`.\n",
    "So for the non-negative part, it is sorted already: `numbers[m:]`.\n",
    "The negative part sorted: `[-1*n for n in reversed(numbers[:m])]`\n",
    "\n",
    "And now we apply the merge method in the merge sort.\n",
    "The method takes two sorted array and turn it into one.\n",
    "If you are not familiar it take a look at [this](https://leetcode.com/problems/merge-sorted-array/discuss/208832/Python-O(M%2BN)-Solution-Explained).\n",
    "After we got the sorted array, we compute all the squares and return.\n",
    "\n",
    "The time complexity is O(N).\n",
    "The space complexity is O(N).\n",
    "\"\"\"\n",
    "class Solution(object):\n",
    "    def sortedSquares(self, numbers):\n",
    "        if not numbers: return numbers\n",
    "\n",
    "        if numbers[0]>=0:\n",
    "            return [n**2 for n in numbers]\n",
    "\n",
    "        m = 0\n",
    "        for i, n in enumerate(numbers):\n",
    "            if n>=0:\n",
    "                m = i\n",
    "                break\n",
    "\n",
    "        A, B = numbers[m:], [-1*n for n in reversed(numbers[:m])]\n",
    "        return [n**2 for n in self.merge(A, B)]\n",
    "\n",
    "    def merge(self, A, B):\n",
    "        a = b = 0\n",
    "        opt = []\n",
    "        while a<len(A) and b<len(B):\n",
    "            if A[a]<B[b]:\n",
    "                opt.append(A[a])\n",
    "                a+=1\n",
    "            else:\n",
    "                opt.append(B[b])\n",
    "                b+=1\n",
    "        if a<len(A): opt.extend(A[a:])\n",
    "        if b<len(B): opt.extend(B[b:])\n",
    "        return opt\n",
    "\n",
    "\"\"\"\n",
    "How to approach problem like this?\n",
    "\n",
    "**Mindset 1, think of the time complexity of your brute force.**\n",
    "In this case, simply square all the element and sort them.\n",
    "That is O(NLogN).\n",
    "So we are going to try to reduce it into O(N) or O(LogN) or O(1).\n",
    "\n",
    "**Mindset 2, think of the time complexity that you are not able to reduce.**\n",
    "For example, I could not think of a way to square all the sorted element without O(N).\n",
    "So all other operation less or equal to O(N) does not effect the time complexity.\n",
    "When I am trying to find `m`, I can use binary search to search for it, the time complexity is O(LogN).\n",
    "But O(N) is fine, so I use this simpler approach.\n",
    "Sure, we can optimize it and make it faster. But it is not the bottle neck here.\n",
    "**I think what the interviwer wanted to see is you realizing the bottle neck and solve it.**\n",
    "\"\"\""
   ]
  },
  {
   "cell_type": "markdown",
   "id": "1ac23d62",
   "metadata": {},
   "source": [
    "# 0977 Easy 977 Squares of a Sorted Array"
   ]
  },
  {
   "cell_type": "code",
   "execution_count": null,
   "id": "171fc256",
   "metadata": {},
   "outputs": [],
   "source": [
    "class Solution(object):\n",
    "    # def sortedSquares(self, A):\n",
    "    #     \"\"\"\n",
    "    #     :type A: List[int]\n",
    "    #     :rtype: List[int]\n",
    "    #     \"\"\"\n",
    "    #     # Directly sort\n",
    "    #     return sorted(x * x for x in A) \n",
    "\n",
    "    def sortedSquares(self, A):\n",
    "        pos = 0\n",
    "        while pos < len(A) and A[pos] < 0:\n",
    "            pos += 1\n",
    "        # pos point to first positve\n",
    "        # npos point to larget negative\n",
    "        npos = pos - 1\n",
    "        res = []\n",
    "        while pos < len(A) and npos >= 0:\n",
    "            if A[npos] ** 2 < A[pos] ** 2:\n",
    "                res.append(A[npos] ** 2)\n",
    "                npos -= 1\n",
    "            else:\n",
    "                res.append(A[pos] ** 2)\n",
    "                pos +=1 \n",
    "        while npos >= 0:\n",
    "            res.append(A[npos] ** 2)\n",
    "            npos -= 1\n",
    "        while pos < len(A):\n",
    "            res.append(A[pos] ** 2)\n",
    "            pos += 1\n",
    "        return res"
   ]
  },
  {
   "cell_type": "markdown",
   "id": "ed5f5b73",
   "metadata": {},
   "source": [
    "# 0977 Easy 977 Squares of a Sorted Array"
   ]
  },
  {
   "cell_type": "code",
   "execution_count": null,
   "id": "4fee06e6",
   "metadata": {},
   "outputs": [],
   "source": [
    "class Solution:\n",
    "    def sortedSquares(self, A):\n",
    "        \"\"\"\n",
    "        :type A: List[int]\n",
    "        :rtype: List[int]\n",
    "        \"\"\"\n",
    "        return sorted([x ** 2 for x in A])"
   ]
  },
  {
   "cell_type": "markdown",
   "id": "da84320e",
   "metadata": {},
   "source": [
    "# 0989 Easy 989 Add to ArrayForm of Integer"
   ]
  },
  {
   "cell_type": "code",
   "execution_count": null,
   "id": "6bfd9f57",
   "metadata": {},
   "outputs": [],
   "source": [
    "class Solution:\n",
    "    def addToArrayForm(self, A, K):\n",
    "        for i in range(len(A))[::-1]:\n",
    "            A[i], K = (A[i] + K) % 10, (A[i] + K) // 10\n",
    "        return [int(i) for i in str(K)] + A if K else A"
   ]
  },
  {
   "cell_type": "markdown",
   "id": "9bfbee93",
   "metadata": {},
   "source": [
    "# 0993 Easy 993 Cousins in Binary Tree"
   ]
  },
  {
   "cell_type": "code",
   "execution_count": null,
   "id": "2739bd3e",
   "metadata": {},
   "outputs": [],
   "source": [
    "# Time:  O(n)\n",
    "# Space: O(h)\n",
    "\n",
    "# Definition for a binary tree node.\n",
    "class TreeNode(object):\n",
    "    def __init__(self, x):\n",
    "        self.val = x\n",
    "        self.left = None\n",
    "        self.right = None\n",
    "\n",
    "\n",
    "class Solution(object):\n",
    "    def isCousins(self, root, x, y):\n",
    "        \"\"\"\n",
    "        :type root: TreeNode\n",
    "        :type x: int\n",
    "        :type y: int\n",
    "        :rtype: bool\n",
    "        \"\"\"\n",
    "        def dfs(root, x, depth, parent):\n",
    "            if not root:\n",
    "                return False\n",
    "            if root.val == x:\n",
    "                return True\n",
    "            depth[0] += 1\n",
    "            prev_parent, parent[0] = parent[0], root\n",
    "            if dfs(root.left, x, depth, parent):\n",
    "                return True\n",
    "            parent[0] = root\n",
    "            if dfs(root.right, x, depth, parent):\n",
    "                return True\n",
    "            parent[0] = prev_parent\n",
    "            depth[0] -= 1\n",
    "            return False\n",
    "        \n",
    "        depth_x, depth_y = [0], [0]\n",
    "        parent_x, parent_y = [None], [None]\n",
    "        return dfs(root, x, depth_x, parent_x) and \\\n",
    "               dfs(root, y, depth_y, parent_y) and \\\n",
    "               depth_x[0] == depth_y[0] and \\\n",
    "               parent_x[0] != parent_y[0]\n",
    "                \n",
    "        "
   ]
  },
  {
   "cell_type": "markdown",
   "id": "5e6b8936",
   "metadata": {},
   "source": [
    "# 0993 Easy 993 Cousins in Binary Tree"
   ]
  },
  {
   "cell_type": "code",
   "execution_count": null,
   "id": "34482220",
   "metadata": {},
   "outputs": [],
   "source": [
    "class Solution:\n",
    "    def isCousins(self, root: TreeNode, x: int, y: int) -> bool:\n",
    "        def dfs(node, parent, depth, mod):\n",
    "            if node:\n",
    "                if node.val == mod:\n",
    "                    return depth, parent\n",
    "                return dfs(node.left, node, depth + 1, mod) or dfs(node.right, node, depth + 1, mod)\n",
    "        dx, px, dy, py = dfs(root, None, 0, x) + dfs(root, None, 0, y)\n",
    "        return dx == dy and px != py"
   ]
  },
  {
   "cell_type": "markdown",
   "id": "e9b999e4",
   "metadata": {},
   "source": [
    "# 0997 Easy 997 Find the Town Judge"
   ]
  },
  {
   "cell_type": "code",
   "execution_count": null,
   "id": "54e67d07",
   "metadata": {},
   "outputs": [],
   "source": [
    "# Time:  O(t + n)\n",
    "# Space: O(n)\n",
    "\n",
    "class Solution(object):\n",
    "    def findJudge(self, N, trust):\n",
    "        \"\"\"\n",
    "        :type N: int\n",
    "        :type trust: List[List[int]]\n",
    "        :rtype: int\n",
    "        \"\"\"\n",
    "        degrees = [0]*N\n",
    "        for i, j in trust:\n",
    "            degrees[i-1] -= 1\n",
    "            degrees[j-1] += 1\n",
    "        for i in xrange(len(degrees)):\n",
    "            if degrees[i] == N-1:\n",
    "                return i+1\n",
    "        return -1"
   ]
  },
  {
   "cell_type": "markdown",
   "id": "9db99755",
   "metadata": {},
   "source": [
    "# 0997 Easy 997 Find the Town Judge"
   ]
  },
  {
   "cell_type": "code",
   "execution_count": null,
   "id": "a8b81ef7",
   "metadata": {},
   "outputs": [],
   "source": [
    "class Solution:\n",
    "    def findJudge(self, N: int, trust: List[List[int]]) -> int:\n",
    "        if N==1:\n",
    "            return 1\n",
    "        d1={}\n",
    "        d2={}\n",
    "        for i, j in trust:\n",
    "            if j in d1:\n",
    "                d1[j]+=1\n",
    "            else:\n",
    "                d1[j]=1\n",
    "            if i in d2:\n",
    "                d2[i]+=1\n",
    "            else:\n",
    "                d2[i]=1\n",
    "        for i,j in d1.items():\n",
    "            if j==N-1:\n",
    "                if i not in d2:\n",
    "                    return i\n",
    "        return -1\n",
    "                    "
   ]
  },
  {
   "cell_type": "markdown",
   "id": "6db6f592",
   "metadata": {},
   "source": [
    "# 0997 Easy 997 Find the Town Judge"
   ]
  },
  {
   "cell_type": "code",
   "execution_count": null,
   "id": "1b451dde",
   "metadata": {},
   "outputs": [],
   "source": [
    "class Solution:\n",
    "    def findJudge(self, N: int, trust: List[List[int]]) -> int:\n",
    "        j, cnt = collections.Counter(b for a, b in trust).most_common(1)[0] if trust else (N, 0)\n",
    "        return j if j not in {a for a, b in trust} and cnt == N - 1 else -1"
   ]
  },
  {
   "cell_type": "markdown",
   "id": "5eda8c2c",
   "metadata": {},
   "source": [
    "# 0999 Easy 999 Available Captures for Rook"
   ]
  },
  {
   "cell_type": "code",
   "execution_count": null,
   "id": "c3d1a6b2",
   "metadata": {},
   "outputs": [],
   "source": [
    "# Time:  O(1)\n",
    "# Space: O(1)\n",
    "\n",
    "class Solution(object):\n",
    "    def numRookCaptures(self, board):\n",
    "        \"\"\"\n",
    "        :type board: List[List[str]]\n",
    "        :rtype: int\n",
    "        \"\"\"\n",
    "        directions = [(0, 1), (1, 0), (0, -1), (-1, 0)]\n",
    "\n",
    "        r, c = None, None\n",
    "        for i in xrange(8):\n",
    "            if r is not None:\n",
    "                break\n",
    "            for j in xrange(8):\n",
    "                if board[i][j] == 'R':\n",
    "                    r, c = i, j\n",
    "                    break\n",
    "\n",
    "        result = 0\n",
    "        for d in directions:\n",
    "            nr, nc = r+d[0], c+d[1]\n",
    "            while 0 <= nr < 8 and 0 <= nc < 8:\n",
    "                if board[nr][nc] == 'p':\n",
    "                    result += 1\n",
    "                if board[nr][nc] != '.':\n",
    "                    break\n",
    "                nr, nc= nr+d[0], nc+d[1]\n",
    "        return result"
   ]
  },
  {
   "cell_type": "markdown",
   "id": "cf2d4240",
   "metadata": {},
   "source": [
    "# 0999 Easy 999 Available Captures for Rook"
   ]
  },
  {
   "cell_type": "code",
   "execution_count": null,
   "id": "f43ec5e5",
   "metadata": {},
   "outputs": [],
   "source": [
    "class Solution:\n",
    "    def numRookCaptures(self, board: List[List[str]], res = 0) -> int:\n",
    "        for i in range(8):\n",
    "            for j in range(8):\n",
    "                if board[i][j] == 'R':\n",
    "                    for x in range(i - 1, -1, -1):\n",
    "                        if board[x][j] in 'Bp':\n",
    "                            res += board[x][j] == 'p'\n",
    "                            break\n",
    "                    for x in range(i + 1, 8):\n",
    "                        if board[x][j] in 'Bp':\n",
    "                            res += board[x][j] == 'p'\n",
    "                            break\n",
    "                    for y in range(j - 1, -1, -1):\n",
    "                        if board[i][y] in 'Bp':\n",
    "                            res += board[i][y] == 'p'\n",
    "                            break\n",
    "                    for y in range(j + 1, 8):\n",
    "                        if board[i][y] in 'Bp':\n",
    "                            res += board[i][y] == 'p'\n",
    "                            break\n",
    "                    return res"
   ]
  },
  {
   "cell_type": "markdown",
   "id": "7b1dea50",
   "metadata": {},
   "source": [
    "# 1002 Easy 1002 Find Common Characters"
   ]
  },
  {
   "cell_type": "code",
   "execution_count": null,
   "id": "e202c7cb",
   "metadata": {},
   "outputs": [],
   "source": [
    "# Time:  O(n * l)\n",
    "# Space: O(1)\n",
    "\n",
    "import collections\n",
    "\n",
    "\n",
    "class Solution(object):\n",
    "    def commonChars(self, A):\n",
    "        \"\"\"\n",
    "        :type A: List[str]\n",
    "        :rtype: List[str]\n",
    "        \"\"\"\n",
    "        result = collections.Counter(A[0])\n",
    "        for a in A:\n",
    "            result &= collections.Counter(a)\n",
    "        return list(result.elements())"
   ]
  },
  {
   "cell_type": "markdown",
   "id": "6245f4c4",
   "metadata": {},
   "source": [
    "# 1002 Easy 1002 Find Common Characters"
   ]
  },
  {
   "cell_type": "code",
   "execution_count": null,
   "id": "89429c62",
   "metadata": {},
   "outputs": [],
   "source": [
    "class Solution:\n",
    "    def commonChars(self, A: List[str]) -> List[str]:\n",
    "        cnt, res = {s: [float('inf'), 0] for s in string.ascii_lowercase}, []\n",
    "        for w in A:\n",
    "            for k, v in collections.Counter(w).items():\n",
    "                cnt[k][0] = min(cnt[k][0], v)\n",
    "                cnt[k][1] += 1\n",
    "        for k in cnt:\n",
    "            if cnt[k][1] == len(A):\n",
    "                res += [k] * cnt[k][0]\n",
    "        return res"
   ]
  },
  {
   "cell_type": "markdown",
   "id": "ba0ecf5f",
   "metadata": {},
   "source": [
    "# 1005 Easy 1005 Maximize Sum Of Array After K Negations"
   ]
  },
  {
   "cell_type": "code",
   "execution_count": null,
   "id": "5a66b525",
   "metadata": {},
   "outputs": [],
   "source": [
    "# Time:  O(n) ~ O(n^2), O(n) on average.\n",
    "# Space: O(1)\n",
    "\n",
    "import random\n",
    "\n",
    "\n",
    "# quick select solution\n",
    "class Solution(object):\n",
    "    def largestSumAfterKNegations(self, A, K):\n",
    "        \"\"\"\n",
    "        :type A: List[int]\n",
    "        :type K: int\n",
    "        :rtype: int\n",
    "        \"\"\"\n",
    "        def kthElement(nums, k, compare):\n",
    "            def PartitionAroundPivot(left, right, pivot_idx, nums, compare):\n",
    "                new_pivot_idx = left\n",
    "                nums[pivot_idx], nums[right] = nums[right], nums[pivot_idx]\n",
    "                for i in xrange(left, right):\n",
    "                    if compare(nums[i], nums[right]):\n",
    "                        nums[i], nums[new_pivot_idx] = nums[new_pivot_idx], nums[i]\n",
    "                        new_pivot_idx += 1\n",
    "\n",
    "                nums[right], nums[new_pivot_idx] = nums[new_pivot_idx], nums[right]\n",
    "                return new_pivot_idx\n",
    "\n",
    "            left, right = 0, len(nums) - 1\n",
    "            while left <= right:\n",
    "                pivot_idx = random.randint(left, right)\n",
    "                new_pivot_idx = PartitionAroundPivot(left, right, pivot_idx, nums, compare)\n",
    "                if new_pivot_idx == k:\n",
    "                    return\n",
    "                elif new_pivot_idx > k:\n",
    "                    right = new_pivot_idx - 1\n",
    "                else:  # new_pivot_idx < k.\n",
    "                    left = new_pivot_idx + 1\n",
    "                    \n",
    "        kthElement(A, K, lambda a, b: a < b)\n",
    "        remain = K\n",
    "        for i in xrange(K):\n",
    "            if A[i] < 0:\n",
    "                A[i] = -A[i]\n",
    "                remain -= 1\n",
    "        return sum(A) - ((remain)%2)*min(A)*2\n",
    "\n",
    "\n",
    "# Time:  O(nlogn)\n",
    "# Space: O(1)\n",
    "class Solution2(object):\n",
    "    def largestSumAfterKNegations(self, A, K):\n",
    "        \"\"\"\n",
    "        :type A: List[int]\n",
    "        :type K: int\n",
    "        :rtype: int\n",
    "        \"\"\"\n",
    "        A.sort()\n",
    "        remain = K\n",
    "        for i in xrange(K):\n",
    "            if A[i] >= 0:\n",
    "                break\n",
    "            A[i] = -A[i]\n",
    "            remain -= 1\n",
    "        return sum(A) - (remain%2)*min(A)*2"
   ]
  },
  {
   "cell_type": "markdown",
   "id": "dd22e92f",
   "metadata": {},
   "source": [
    "# 1005 Easy 1005 Maximize Sum Of Array After K Negations"
   ]
  },
  {
   "cell_type": "code",
   "execution_count": null,
   "id": "f5d8719a",
   "metadata": {},
   "outputs": [],
   "source": [
    "class Solution:\n",
    "    def largestSumAfterKNegations(self, A: List[int], K: int) -> int:\n",
    "        heapq.heapify(A)\n",
    "        for _ in range(K):\n",
    "            val = heapq.heappop(A)\n",
    "            heapq.heappush(A, -val)\n",
    "        return sum(A)"
   ]
  },
  {
   "cell_type": "markdown",
   "id": "24abe8c3",
   "metadata": {},
   "source": [
    "# 1009 Easy 1009 Complement of Base 10 Integer"
   ]
  },
  {
   "cell_type": "code",
   "execution_count": null,
   "id": "f2be651c",
   "metadata": {},
   "outputs": [],
   "source": [
    "# Time:  O(logn)\n",
    "# Space: O(1)\n",
    "\n",
    "class Solution(object):\n",
    "    def bitwiseComplement(self, N):\n",
    "        \"\"\"\n",
    "        :type N: int\n",
    "        :rtype: int\n",
    "        \"\"\"\n",
    "        mask = 1\n",
    "        while N > mask:\n",
    "            mask = mask*2+1\n",
    "        return mask-N"
   ]
  },
  {
   "cell_type": "markdown",
   "id": "99cde520",
   "metadata": {},
   "source": [
    "# 1009 Easy 1009 Complement of Base 10 Integer"
   ]
  },
  {
   "cell_type": "code",
   "execution_count": null,
   "id": "225e8155",
   "metadata": {},
   "outputs": [],
   "source": [
    "class Solution:\n",
    "    def bitwiseComplement(self, N: int, M = 0, m = 0) -> int:\n",
    "        return N ^ M if M and M >= N else self.bitwiseComplement(N, M + 2 ** m, m + 1)"
   ]
  },
  {
   "cell_type": "markdown",
   "id": "a636cb60",
   "metadata": {},
   "source": [
    "# 1013 Easy 1013 Partition Array Into Three Parts With Equal Sum"
   ]
  },
  {
   "cell_type": "code",
   "execution_count": null,
   "id": "151a97d1",
   "metadata": {},
   "outputs": [],
   "source": [
    "# Time:  O(n)\n",
    "# Space: O(1)\n",
    "\n",
    "class Solution(object):\n",
    "    def canThreePartsEqualSum(self, A):\n",
    "        \"\"\"\n",
    "        :type A: List[int]\n",
    "        :rtype: bool\n",
    "        \"\"\"\n",
    "        total = sum(A)\n",
    "        if total % 3 != 0:\n",
    "            return False\n",
    "        parts, curr = 0, 0\n",
    "        for x in A:\n",
    "            curr += x\n",
    "            if curr == total//3:\n",
    "                parts += 1\n",
    "                curr = 0\n",
    "        return parts >= 3"
   ]
  },
  {
   "cell_type": "markdown",
   "id": "186d3ae3",
   "metadata": {},
   "source": [
    "# 1013 Easy 1013 Partition Array Into Three Parts With Equal Sum"
   ]
  },
  {
   "cell_type": "code",
   "execution_count": null,
   "id": "29d06690",
   "metadata": {},
   "outputs": [],
   "source": [
    "class Solution:\n",
    "    def canThreePartsEqualSum(self, A: List[int]) -> bool:\n",
    "        tar = sum(A) // 3\n",
    "        sm = cnt = 0\n",
    "        for a in A:\n",
    "            sm += a\n",
    "            if sm == tar:\n",
    "                sm = 0\n",
    "                cnt += 1\n",
    "        return cnt == 3"
   ]
  },
  {
   "cell_type": "markdown",
   "id": "a6977932",
   "metadata": {},
   "source": [
    "# 1018 Easy 1018 Binary Prefix Divisible By 5"
   ]
  },
  {
   "cell_type": "code",
   "execution_count": null,
   "id": "ef0b9d87",
   "metadata": {},
   "outputs": [],
   "source": [
    "# Time:  O(n)\n",
    "# Space: O(1)\n",
    "\n",
    "class Solution(object):\n",
    "    def prefixesDivBy5(self, A):\n",
    "        \"\"\"\n",
    "        :type A: List[int]\n",
    "        :rtype: List[bool]\n",
    "        \"\"\"\n",
    "        for i in xrange(1, len(A)):\n",
    "            A[i] += A[i-1] * 2 % 5\n",
    "        return [x % 5 == 0 for x in A]"
   ]
  },
  {
   "cell_type": "markdown",
   "id": "b1cec32a",
   "metadata": {},
   "source": [
    "# 1018 Easy 1018 Binary Prefix Divisible By 5"
   ]
  },
  {
   "cell_type": "code",
   "execution_count": null,
   "id": "81818bc2",
   "metadata": {},
   "outputs": [],
   "source": [
    "class Solution:\n",
    "    def prefixesDivBy5(self, A: List[int]) -> List[bool]:\n",
    "        num = 0\n",
    "        for i in range(len(A)):\n",
    "            num = (num << 1) + A[i]\n",
    "            A[i] = num % 5 == 0\n",
    "        return A"
   ]
  },
  {
   "cell_type": "markdown",
   "id": "ae786517",
   "metadata": {},
   "source": [
    "# 1021 Easy 1021 Remove Outermost Parentheses"
   ]
  },
  {
   "cell_type": "code",
   "execution_count": null,
   "id": "97bd55b8",
   "metadata": {},
   "outputs": [],
   "source": [
    "# Time:  O(n)\n",
    "# Space: O(1)\n",
    "\n",
    "class Solution(object):\n",
    "    def removeOuterParentheses(self, S):\n",
    "        \"\"\"\n",
    "        :type S: str\n",
    "        :rtype: str\n",
    "        \"\"\"\n",
    "        deep = 1\n",
    "        result, cnt = [], 0\n",
    "        for c in S:\n",
    "            if c == '(' and cnt >= deep:\n",
    "                result.append(c)\n",
    "            if c == ')' and cnt > deep:\n",
    "                result.append(c)\n",
    "            cnt += 1 if c == '(' else -1\n",
    "        return \"\".join(result)"
   ]
  },
  {
   "cell_type": "markdown",
   "id": "179c46f3",
   "metadata": {},
   "source": [
    "# 1021 Easy 1021 Remove Outermost Parentheses"
   ]
  },
  {
   "cell_type": "code",
   "execution_count": null,
   "id": "e6875509",
   "metadata": {},
   "outputs": [],
   "source": [
    "class Solution:\n",
    "    def removeOuterParentheses(self, S: str) -> str:\n",
    "        l = r = 0\n",
    "        res = cur = ''\n",
    "        for s in S:\n",
    "            cur += s\n",
    "            l += s == '('\n",
    "            r += s == ')'\n",
    "            if l == r:\n",
    "                res += cur[1:-1]\n",
    "                cur = ''\n",
    "        return res "
   ]
  },
  {
   "cell_type": "markdown",
   "id": "614782ba",
   "metadata": {},
   "source": [
    "# 1022 Easy 1022 Sum of Root To Leaf Binary Numbers"
   ]
  },
  {
   "cell_type": "code",
   "execution_count": null,
   "id": "d99d641e",
   "metadata": {},
   "outputs": [],
   "source": [
    "# Time:  O(n)\n",
    "# Space: O(h)\n",
    "\n",
    "# Definition for a binary tree node.\n",
    "class TreeNode(object):\n",
    "    def __init__(self, x):\n",
    "        self.val = x\n",
    "        self.left = None\n",
    "        self.right = None\n",
    "\n",
    "\n",
    "class Solution(object):\n",
    "    def sumRootToLeaf(self, root):\n",
    "        \"\"\"\n",
    "        :type root: TreeNode\n",
    "        :rtype: int\n",
    "        \"\"\"\n",
    "        M = 10**9 + 7\n",
    "        def sumRootToLeafHelper(root, val):\n",
    "            if not root:\n",
    "                return 0\n",
    "            val = (val*2 + root.val) % M\n",
    "            if not root.left and not root.right:\n",
    "                return val\n",
    "            return (sumRootToLeafHelper(root.left, val) +\n",
    "                    sumRootToLeafHelper(root.right, val)) % M\n",
    "        \n",
    "        return sumRootToLeafHelper(root, 0)"
   ]
  },
  {
   "cell_type": "markdown",
   "id": "eab87b07",
   "metadata": {},
   "source": [
    "# 1022 Easy 1022 Sum of Root To Leaf Binary Numbers"
   ]
  },
  {
   "cell_type": "code",
   "execution_count": null,
   "id": "6769163f",
   "metadata": {},
   "outputs": [],
   "source": [
    "# Definition for a binary tree node.\n",
    "# class TreeNode:\n",
    "#     def __init__(self, x):\n",
    "#         self.val = x\n",
    "#         self.left = None\n",
    "#         self.right = None\n",
    "\n",
    "class Solution:\n",
    "    def sumRootToLeaf(self, r: TreeNode, num = 0) -> int:\n",
    "        if not r: \n",
    "            return 0\n",
    "        num = (num << 1) + r.val\n",
    "        return (self.sumRootToLeaf(r.left, num) + self.sumRootToLeaf(r.right, num) if r.left or r.right else num) % (10 ** 9 + 7)"
   ]
  },
  {
   "cell_type": "markdown",
   "id": "4d7f0995",
   "metadata": {},
   "source": [
    "# 1025 Easy 1025 Divisor Game"
   ]
  },
  {
   "cell_type": "code",
   "execution_count": null,
   "id": "57e2ffd3",
   "metadata": {},
   "outputs": [],
   "source": [
    "# Time:  O(1)\n",
    "# Space: O(1)\n",
    "\n",
    "class Solution(object):\n",
    "    def divisorGame(self, N):\n",
    "        \"\"\"\n",
    "        :type N: int\n",
    "        :rtype: bool\n",
    "        \"\"\"\n",
    "        # 1. if we get an even, we can choose x = 1\n",
    "        #    to make the opponent always get an odd\n",
    "        # 2. if the opponent gets an odd, he can only choose x = 1 or other odds\n",
    "        #    and we can still get an even\n",
    "        # 3. at the end, the opponent can only choose x = 1 and we win\n",
    "        # 4. in summary, we win if only if we get an even and \n",
    "        #    keeps even until the opponent loses\n",
    "        return N % 2 == 0\n",
    "\n",
    "\n",
    "# Time:  O(n^3/2)\n",
    "# Space: O(n)\n",
    "# dp solution\n",
    "class Solution2(object):\n",
    "    def divisorGame(self, N):\n",
    "        \"\"\"\n",
    "        :type N: int\n",
    "        :rtype: bool\n",
    "        \"\"\"\n",
    "        def memoization(N, dp):\n",
    "            if N == 1:\n",
    "                return False\n",
    "            if N not in dp:\n",
    "                result = False\n",
    "                for i in xrange(1, N+1):\n",
    "                    if i*i > N:\n",
    "                        break\n",
    "                    if N % i == 0:\n",
    "                        if not memoization(N-i, dp):\n",
    "                            result = True\n",
    "                            break\n",
    "                dp[N] = result\n",
    "            return dp[N]\n",
    "        \n",
    "        return memoization(N, {})"
   ]
  },
  {
   "cell_type": "markdown",
   "id": "559e2927",
   "metadata": {},
   "source": [
    "# 1025 Easy 1025 Divisor Game"
   ]
  },
  {
   "cell_type": "code",
   "execution_count": null,
   "id": "99441087",
   "metadata": {},
   "outputs": [],
   "source": [
    "class Solution:\n",
    "    def divisorGame(self, N: int) -> bool:\n",
    "        return N % 2 == 0"
   ]
  },
  {
   "cell_type": "markdown",
   "id": "e39f6c44",
   "metadata": {},
   "source": [
    "# 1030 Easy 1030 Matrix Cells in Distance Order"
   ]
  },
  {
   "cell_type": "code",
   "execution_count": null,
   "id": "210f2225",
   "metadata": {},
   "outputs": [],
   "source": [
    "# Time:  O(m * n)\n",
    "# Space: O(1)\n",
    "\n",
    "class Solution(object):\n",
    "    def allCellsDistOrder(self, R, C, r0, c0):\n",
    "        \"\"\"\n",
    "        :type R: int\n",
    "        :type C: int\n",
    "        :type r0: int\n",
    "        :type c0: int\n",
    "        :rtype: List[List[int]]\n",
    "        \"\"\"\n",
    "        def append(R, C, r, c, result):\n",
    "            if 0 <= r < R and 0 <= c < C:\n",
    "                result.append([r, c])\n",
    "            \n",
    "        result = [[r0, c0]]\n",
    "        for d in xrange(1, R+C):\n",
    "            append(R, C, r0-d, c0, result)\n",
    "            for x in xrange(-d+1, d):\n",
    "                append(R, C, r0+x, c0+abs(x)-d, result)\n",
    "                append(R, C, r0+x, c0+d-abs(x), result)\n",
    "            append(R, C, r0+d, c0, result)\n",
    "        return result"
   ]
  },
  {
   "cell_type": "markdown",
   "id": "40d089fc",
   "metadata": {},
   "source": [
    "# 1030 Easy 1030 Matrix Cells in Distance Order"
   ]
  },
  {
   "cell_type": "code",
   "execution_count": null,
   "id": "2515ca9c",
   "metadata": {},
   "outputs": [],
   "source": [
    "class Solution:\n",
    "    def allCellsDistOrder(self, R: int, C: int, r0: int, c0: int) -> List[List[int]]:\n",
    "        bfs, res, seen = [[r0, c0]], [], {(r0, c0)}\n",
    "        while bfs:\n",
    "            res += bfs\n",
    "            new = []\n",
    "            for i, j in bfs:\n",
    "                for x, y in (i - 1, j), (i + 1, j), (i, j + 1), (i, j - 1):\n",
    "                    if 0 <= x < R and 0 <= y < C and (x, y) not in seen:\n",
    "                        seen.add((x, y))\n",
    "                        new.append([x, y])\n",
    "            bfs = new\n",
    "        return res\n",
    "                        "
   ]
  },
  {
   "cell_type": "markdown",
   "id": "b78472fa",
   "metadata": {},
   "source": [
    "# 1037 Easy 1037 Valid Boomerang"
   ]
  },
  {
   "cell_type": "code",
   "execution_count": null,
   "id": "618e03d3",
   "metadata": {},
   "outputs": [],
   "source": [
    "# Time:  O(1)\n",
    "# Space: O(1)\n",
    "\n",
    "class Solution(object):\n",
    "    def isBoomerang(self, points):\n",
    "        \"\"\"\n",
    "        :type points: List[List[int]]\n",
    "        :rtype: bool\n",
    "        \"\"\"\n",
    "        return (points[0][0] - points[1][0]) * (points[0][1] - points[2][1]) - \\\n",
    "               (points[0][0] - points[2][0]) * (points[0][1] - points[1][1]) != 0"
   ]
  },
  {
   "cell_type": "markdown",
   "id": "a737583c",
   "metadata": {},
   "source": [
    "# 1037 Easy 1037 Valid Boomerang"
   ]
  },
  {
   "cell_type": "code",
   "execution_count": null,
   "id": "f7654109",
   "metadata": {},
   "outputs": [],
   "source": [
    "class Solution:\n",
    "    def isBoomerang(self, p: List[List[int]]) -> bool:\n",
    "        return (p[0][0] - p[1][0]) * (p[0][1] - p[2][1]) != (p[0][0] - p[2][0]) * (p[0][1] - p[1][1])"
   ]
  },
  {
   "cell_type": "markdown",
   "id": "cc47ee1e",
   "metadata": {},
   "source": [
    "# 1046 Easy 1046 Last Stone Weight"
   ]
  },
  {
   "cell_type": "code",
   "execution_count": null,
   "id": "1962c54a",
   "metadata": {},
   "outputs": [],
   "source": [
    "import bisect\n",
    "class Solution(object):\n",
    "    def lastStoneWeight(self, stones):\n",
    "        stones.sort()\n",
    "        \n",
    "        while len(stones)>1:\n",
    "            x = stones.pop()\n",
    "            y = stones.pop()\n",
    "            bisect.insort_left(stones, abs(x-y))\n",
    "\n",
    "        return 0 if not stones else stones[0]\n",
    "\n",
    "import heapq\n",
    "class Solution(object):\n",
    "    def lastStoneWeight(self, stones):\n",
    "        h = []\n",
    "        \n",
    "        for stone in stones:\n",
    "            heapq.heappush(h, stone*-1)\n",
    "        \n",
    "        while len(h)>1:\n",
    "            x = heapq.heappop(h)\n",
    "            y = heapq.heappop(h)\n",
    "            heapq.heappush(h, abs(x-y)*-1)\n",
    "        \n",
    "        return 0 if not h else abs(h[0])"
   ]
  },
  {
   "cell_type": "markdown",
   "id": "2dda8f31",
   "metadata": {},
   "source": [
    "# 1046 Easy 1046 Last Stone Weight"
   ]
  },
  {
   "cell_type": "code",
   "execution_count": null,
   "id": "e9dd9e2b",
   "metadata": {},
   "outputs": [],
   "source": [
    "class Solution:\n",
    "    def lastStoneWeight(self, stones: List[int]) -> int:\n",
    "        stones.sort()\n",
    "        for _ in range(len(stones) - 1):\n",
    "            bisect.insort(stones, stones.pop() - stones.pop())\n",
    "        return stones[0]"
   ]
  },
  {
   "cell_type": "markdown",
   "id": "6e0076d4",
   "metadata": {},
   "source": [
    "# 1047 Easy 1047 Remove All Adjacent Duplicates In String"
   ]
  },
  {
   "cell_type": "code",
   "execution_count": null,
   "id": "e6902b9b",
   "metadata": {},
   "outputs": [],
   "source": [
    "class Solution(object):\n",
    "    def removeDuplicates(self, s):\n",
    "        stack = []\n",
    "        i = 0\n",
    "        while i<len(s):\n",
    "            if stack and stack[-1]==s[i]:\n",
    "                stack.pop()    \n",
    "            else:\n",
    "                stack.append(s[i])\n",
    "            i += 1\n",
    "        \n",
    "        return ''.join(stack)"
   ]
  },
  {
   "cell_type": "markdown",
   "id": "fb575c33",
   "metadata": {},
   "source": [
    "# 1047 Easy 1047 Remove All Adjacent Duplicates In String"
   ]
  },
  {
   "cell_type": "code",
   "execution_count": null,
   "id": "bcb07fea",
   "metadata": {},
   "outputs": [],
   "source": [
    "class Solution:\n",
    "    def removeDuplicates(self, S: str) -> str:\n",
    "        stack = []\n",
    "        for s in S:\n",
    "            if stack and stack[-1] == s:\n",
    "                stack.pop()\n",
    "            else:\n",
    "                stack.append(s)\n",
    "        return ''.join(stack)"
   ]
  },
  {
   "cell_type": "markdown",
   "id": "1a46e308",
   "metadata": {},
   "source": [
    "# 1051 Easy 1051 Height Checker"
   ]
  },
  {
   "cell_type": "code",
   "execution_count": null,
   "id": "89cdc00b",
   "metadata": {},
   "outputs": [],
   "source": [
    "# Time:  O(nlogn)\n",
    "# Space: O(n)\n",
    "\n",
    "import itertools\n",
    "\n",
    "\n",
    "class Solution(object):\n",
    "    def heightChecker(self, heights):\n",
    "        \"\"\"\n",
    "        :type heights: List[int]\n",
    "        :rtype: int\n",
    "        \"\"\"\n",
    "        return sum(i != j for i, j in itertools.izip(heights, sorted(heights)))"
   ]
  },
  {
   "cell_type": "markdown",
   "id": "29dbd420",
   "metadata": {},
   "source": [
    "# 1051 Easy 1051 Height Checker"
   ]
  },
  {
   "cell_type": "code",
   "execution_count": null,
   "id": "afd27a15",
   "metadata": {},
   "outputs": [],
   "source": [
    "class Solution:\n",
    "    def heightChecker(self, heights: List[int]) -> int:\n",
    "        return sum(h1 != h2 for h1, h2 in zip(heights, sorted(heights)))"
   ]
  },
  {
   "cell_type": "markdown",
   "id": "dee21c4b",
   "metadata": {},
   "source": [
    "# 1056 Easy 1056 Confusing Number"
   ]
  },
  {
   "cell_type": "code",
   "execution_count": null,
   "id": "012e6350",
   "metadata": {},
   "outputs": [],
   "source": [
    "# Time:  O(logn)\n",
    "# Space: O(logn)\n",
    "\n",
    "class Solution(object):\n",
    "    def confusingNumber(self, N):\n",
    "        \"\"\"\n",
    "        :type N: int\n",
    "        :rtype: bool\n",
    "        \"\"\"\n",
    "        lookup = {\"0\":\"0\", \"1\":\"1\", \"6\":\"9\", \"8\":\"8\", \"9\":\"6\"}\n",
    "        \n",
    "        S = str(N)\n",
    "        result = []\n",
    "        for i in xrange(len(S)):\n",
    "            if S[i] not in lookup:\n",
    "                return False\n",
    "        for i in xrange((len(S)+1)//2):\n",
    "            if S[i] != lookup[S[-(i+1)]]:\n",
    "                return True\n",
    "        return False"
   ]
  },
  {
   "cell_type": "markdown",
   "id": "61d1c85c",
   "metadata": {},
   "source": [
    "# 1056 Easy 1056 Confusing Number"
   ]
  },
  {
   "cell_type": "code",
   "execution_count": null,
   "id": "efdfdb13",
   "metadata": {},
   "outputs": [],
   "source": [
    "class Solution:\n",
    "    def confusingNumber(self, N: int) -> bool:\n",
    "        ret = ''.join(\"01####9#86\"[int(n)] for n in str(N)[::-1])\n",
    "        return '#' not in ret and ret != str(N)"
   ]
  },
  {
   "cell_type": "markdown",
   "id": "3d8812ec",
   "metadata": {},
   "source": [
    "# 1064 Easy 1064 Fixed Point"
   ]
  },
  {
   "cell_type": "code",
   "execution_count": null,
   "id": "003d3d71",
   "metadata": {},
   "outputs": [],
   "source": [
    "# Time:  O(logn)\n",
    "# Space: O(1)\n",
    "\n",
    "class Solution(object):\n",
    "    def fixedPoint(self, A):\n",
    "        \"\"\"\n",
    "        :type A: List[int]\n",
    "        :rtype: int\n",
    "        \"\"\"\n",
    "        left, right = 0, len(A)-1\n",
    "        while left <= right:\n",
    "            mid = left + (right-left)//2\n",
    "            if A[mid] >= mid:\n",
    "                right = mid-1\n",
    "            else:\n",
    "                left = mid+1\n",
    "        return left if A[left] == left else -1"
   ]
  },
  {
   "cell_type": "markdown",
   "id": "90d09f5a",
   "metadata": {},
   "source": [
    "# 1064 Easy 1064 Fixed Point"
   ]
  },
  {
   "cell_type": "code",
   "execution_count": null,
   "id": "74b7e151",
   "metadata": {},
   "outputs": [],
   "source": [
    "class Solution(object):\n",
    "    # def fixedPoint(self, A):\n",
    "    #     \"\"\"\n",
    "    #     :type A: List[int]\n",
    "    #     :rtype: int\n",
    "    #     \"\"\"\n",
    "    #     for index, value in enumerate(A):\n",
    "    #         # Because if A[i] > i, then i can never be greater than A[i] any more\n",
    "    #         if index == value:\n",
    "    #             return index\n",
    "    #         elif index < value:\n",
    "    #             return -1\n",
    "\n",
    "    def fixedPoint(self, A):\n",
    "        l, h = 0, len(A) - 1\n",
    "        while l <= h:\n",
    "            mid = (l + h) // 2\n",
    "            if A[mid] < mid:\n",
    "                l = mid + 1\n",
    "            elif A[mid] > mid:\n",
    "                h = mid - 1\n",
    "            else:\n",
    "                return mid\n",
    "        return -1"
   ]
  },
  {
   "cell_type": "markdown",
   "id": "0c343cfa",
   "metadata": {},
   "source": [
    "# 1064 Easy 1064 Fixed Point"
   ]
  },
  {
   "cell_type": "code",
   "execution_count": null,
   "id": "0eb83ca0",
   "metadata": {},
   "outputs": [],
   "source": [
    "class Solution:\n",
    "    def fixedPoint(self, A: List[int]) -> int:\n",
    "        return ([i for i in range(len(A)) if A[i] == i] + [-1])[0]"
   ]
  },
  {
   "cell_type": "markdown",
   "id": "103477fe",
   "metadata": {},
   "source": [
    "# 1065 Easy 1065 Index Pairs of a String"
   ]
  },
  {
   "cell_type": "code",
   "execution_count": null,
   "id": "b36b5125",
   "metadata": {},
   "outputs": [],
   "source": [
    "# Time:  O(n + m + z), n is the total size of patterns\n",
    "#                    , m is the total size of query string\n",
    "#                    , z is the number of all matched strings\n",
    "# Space: O(t), t is the total size of ac automata trie\n",
    "\n",
    "import collections\n",
    "\n",
    "\n",
    "class AhoNode(object):\n",
    "    def __init__(self):\n",
    "        self.children = collections.defaultdict(AhoNode)\n",
    "        self.indices = []\n",
    "        self.suffix = None\n",
    "        self.output = None\n",
    "\n",
    "\n",
    "class AhoTrie(object):\n",
    "\n",
    "    def step(self, letter):\n",
    "        while self.__node and letter not in self.__node.children:\n",
    "            self.__node = self.__node.suffix\n",
    "        self.__node = self.__node.children[letter] if self.__node else self.__root\n",
    "        return self.__get_ac_node_outputs(self.__node)\n",
    "    \n",
    "    def __init__(self, patterns):\n",
    "        self.__root = self.__create_ac_trie(patterns)\n",
    "        self.__node = self.__create_ac_suffix_and_output_links(self.__root)\n",
    "    \n",
    "    def __create_ac_trie(self, patterns):  # Time:  O(n), Space: O(t)\n",
    "        root = AhoNode()\n",
    "        for i, pattern in enumerate(patterns):\n",
    "            node = root\n",
    "            for c in pattern:\n",
    "                node = node.children[c]\n",
    "            node.indices.append(i)\n",
    "        return root\n",
    "\n",
    "    def __create_ac_suffix_and_output_links(self, root):  # Time:  O(n), Space: O(t)\n",
    "        queue = collections.deque()\n",
    "        for node in root.children.itervalues():\n",
    "            queue.append(node)\n",
    "            node.suffix = root\n",
    "\n",
    "        while queue:\n",
    "            node = queue.popleft()\n",
    "            for c, child in node.children.iteritems():\n",
    "                queue.append(child)\n",
    "                suffix = node.suffix\n",
    "                while suffix and c not in suffix.children:\n",
    "                    suffix = suffix.suffix\n",
    "                child.suffix = suffix.children[c] if suffix else root\n",
    "                child.output = child.suffix if child.suffix.indices else child.suffix.output\n",
    "                \n",
    "        return root\n",
    "\n",
    "    def __get_ac_node_outputs(self, node):  # Time:  O(z)\n",
    "        result = []\n",
    "        for i in node.indices:\n",
    "            result.append(i)\n",
    "        output = node.output\n",
    "        while output:\n",
    "            for i in output.indices:\n",
    "                result.append(i)\n",
    "            output = output.output\n",
    "        return result\n",
    "    \n",
    "\n",
    "class Solution(object):\n",
    "    def indexPairs(self, text, words):\n",
    "        \"\"\"\n",
    "        :type text: str\n",
    "        :type words: List[str]\n",
    "        :rtype: List[List[int]]\n",
    "        \"\"\"\n",
    "        result = []\n",
    "        reversed_words = [w[::-1] for w in words]\n",
    "        trie = AhoTrie(reversed_words)\n",
    "        for i in reversed(xrange(len(text))):\n",
    "            for j in trie.step(text[i]):\n",
    "                result.append([i, i+len(reversed_words[j])-1])\n",
    "        result.reverse()\n",
    "        return result"
   ]
  },
  {
   "cell_type": "markdown",
   "id": "f73d4a7c",
   "metadata": {},
   "source": [
    "# 1065 Easy 1065 Index Pairs of a String"
   ]
  },
  {
   "cell_type": "code",
   "execution_count": null,
   "id": "4856008b",
   "metadata": {},
   "outputs": [],
   "source": [
    "class Solution:\n",
    "    def indexPairs(self, text: str, words: List[str]) -> List[List[int]]:\n",
    "        return [[i, j] for i in range(len(text)) for j in range(i, len(text)) if text[i:j + 1] in words]"
   ]
  },
  {
   "cell_type": "markdown",
   "id": "03d93e69",
   "metadata": {},
   "source": [
    "# 1071 Easy 1071 Greatest Common Divisor of Strings"
   ]
  },
  {
   "cell_type": "code",
   "execution_count": null,
   "id": "e8002579",
   "metadata": {},
   "outputs": [],
   "source": [
    "# Time:  O(m + n)\n",
    "# Space: O(1)\n",
    "\n",
    "class Solution(object):\n",
    "    def gcdOfStrings(self, str1, str2):\n",
    "        \"\"\"\n",
    "        :type str1: str\n",
    "        :type str2: str\n",
    "        :rtype: str\n",
    "        \"\"\"\n",
    "        def check(s, common):\n",
    "            i = 0\n",
    "            for c in s:\n",
    "                if c != common[i]:\n",
    "                    return False\n",
    "                i = (i+1)%len(common)\n",
    "            return True\n",
    "    \n",
    "        def gcd(a, b):  # Time: O(log(min(a, b)))\n",
    "            while b:\n",
    "                a, b = b, a % b\n",
    "            return a\n",
    "        \n",
    "        if not str1 or not str2:\n",
    "            return \"\"\n",
    "        c = gcd(len(str1), len(str2))\n",
    "        result = str1[:c]\n",
    "        return result if check(str1, result) and check(str2, result) else \"\""
   ]
  }
 ],
 "metadata": {},
 "nbformat": 4,
 "nbformat_minor": 5
}
