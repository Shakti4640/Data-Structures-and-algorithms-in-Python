{
 "cells": [
  {
   "cell_type": "markdown",
   "id": "85165446",
   "metadata": {},
   "source": [
    "# 0278 Easy 278 First Bad Version"
   ]
  },
  {
   "cell_type": "code",
   "execution_count": null,
   "id": "6b26353e",
   "metadata": {},
   "outputs": [],
   "source": [
    "# The isBadVersion API is already defined for you.\n",
    "# @param version, an integer\n",
    "# @return a bool\n",
    "# def isBadVersion(version):\n",
    "\n",
    "class Solution:\n",
    "    def firstBadVersion(self, n):\n",
    "        \"\"\"\n",
    "        :type n: int\n",
    "        :rtype: int\n",
    "        \"\"\"\n",
    "        l, r = 0, n\n",
    "        while l <= r:\n",
    "            mid = (l + r) // 2\n",
    "            if isBadVersion(mid):\n",
    "                r = mid - 1\n",
    "            else:\n",
    "                l = mid + 1\n",
    "        return r + 1"
   ]
  },
  {
   "cell_type": "markdown",
   "id": "a4c8241e",
   "metadata": {},
   "source": [
    "# 0283 Easy 283 Move Zeroes"
   ]
  },
  {
   "cell_type": "code",
   "execution_count": null,
   "id": "16e8b662",
   "metadata": {},
   "outputs": [],
   "source": [
    "#https://leetcode.com/problems/move-zeroes/\n",
    "class Solution(object):\n",
    "    def moveZeroes(self, nums):\n",
    "        # Loop through the array\n",
    "        # Find the first number that are not 0\n",
    "        # Switch it with the nums[0]\n",
    "        # Now nums[0] has the right value\n",
    "        #\n",
    "        # Find the second number that are not 0\n",
    "        # Switch it with the nums[1]\n",
    "        # Now nums[1] has the right value\n",
    "        # ...\n",
    "        \n",
    "        cursor = 0 #the array index sorted so far\n",
    "        for i in range(0, len(nums)):\n",
    "            num = nums[i]\n",
    "            if num!=0:\n",
    "                temp = nums[cursor]\n",
    "                nums[cursor] = nums[i]\n",
    "                nums[i] = temp\n",
    "                cursor+=1\n",
    "\n",
    "\n",
    "\"\"\"\n",
    "j is the index to insert when a number not equal to 0.\n",
    "After all the non-zero numbers are inplace, the rests are all zeros.\n",
    "\"\"\"\n",
    "class Solution(object):\n",
    "    def moveZeroes(self, nums):\n",
    "        j = 0\n",
    "        \n",
    "        for n in nums:\n",
    "            if n!=0:\n",
    "                nums[j] = n\n",
    "                j += 1\n",
    "        \n",
    "        for i in xrange(j, len(nums)):\n",
    "            nums[i] = 0\n",
    "        \n",
    "        return nums"
   ]
  },
  {
   "cell_type": "markdown",
   "id": "d94c6f7a",
   "metadata": {},
   "source": [
    "# 0283 Easy 283 Move Zeroes"
   ]
  },
  {
   "cell_type": "code",
   "execution_count": null,
   "id": "39ce2629",
   "metadata": {},
   "outputs": [],
   "source": [
    "class Solution(object):\n",
    "    # def moveZeroes(self, nums):\n",
    "    #     \"\"\"\n",
    "    #     :type nums: List[int]\n",
    "    #     :rtype: void Do not return anything, modify nums in-place instead.\n",
    "    #     \"\"\"\n",
    "    #     # O(n^2)\n",
    "    #     ls = len(nums)\n",
    "    #     pos = 0\n",
    "    #     while pos < ls:\n",
    "    #         if nums[pos] == 0:\n",
    "    #             curr = pos + 1\n",
    "    #             while curr < ls:\n",
    "    #                 if nums[curr] != 0:\n",
    "    #                     temp = nums[curr]\n",
    "    #                     nums[curr] = nums[pos]\n",
    "    #                     nums[pos] = temp\n",
    "    #                     break\n",
    "    #                 curr += 1\n",
    "    #         pos += 1\n",
    "\n",
    "    def moveZeroes(self, nums):\n",
    "        # O(n)\n",
    "        ls = len(nums)\n",
    "        n_pos = 0\n",
    "        for i in range(ls):\n",
    "            if nums[i] != 0:\n",
    "                temp = nums[n_pos]\n",
    "                nums[n_pos] = nums[i]\n",
    "                nums[i] = temp\n",
    "                n_pos += 1"
   ]
  },
  {
   "cell_type": "markdown",
   "id": "d4433297",
   "metadata": {},
   "source": [
    "# 0283 Easy 283 Move Zeroes"
   ]
  },
  {
   "cell_type": "code",
   "execution_count": null,
   "id": "05d921e1",
   "metadata": {},
   "outputs": [],
   "source": [
    "class Solution:\n",
    "    def moveZeroes(self, nums):\n",
    "        \"\"\"\n",
    "        :type nums: List[int]\n",
    "        :rtype: void Do not return anything, modify nums in-place instead.\n",
    "        \"\"\"\n",
    "        i, items=0, 0\n",
    "        while i<len(nums) and items<=len(nums):\n",
    "            if nums[i]==0: nums.append(0); nums.pop(i); i-=1\n",
    "            i+=1; items+=1"
   ]
  },
  {
   "cell_type": "markdown",
   "id": "885a95b0",
   "metadata": {},
   "source": [
    "# 0290 Easy 290 Word Pattern"
   ]
  },
  {
   "cell_type": "code",
   "execution_count": null,
   "id": "809624f4",
   "metadata": {},
   "outputs": [],
   "source": [
    "# Time:  O(n)\n",
    "# Space: O(c), c is unique count of pattern\n",
    "\n",
    "from itertools import izip  # Generator version of zip.\n",
    "\n",
    "class Solution(object):\n",
    "    def wordPattern(self, pattern, str):\n",
    "        \"\"\"\n",
    "        :type pattern: str\n",
    "        :type str: str\n",
    "        :rtype: bool\n",
    "        \"\"\"\n",
    "        if len(pattern) != self.wordCount(str):\n",
    "            return False\n",
    "\n",
    "        w2p, p2w = {}, {}\n",
    "        for p, w in izip(pattern, self.wordGenerator(str)):\n",
    "            if w not in w2p and p not in p2w:\n",
    "                # Build mapping. Space: O(c)\n",
    "                w2p[w] = p\n",
    "                p2w[p] = w\n",
    "            elif w not in w2p or w2p[w] != p:\n",
    "                # Contradict mapping.\n",
    "                return False\n",
    "        return True\n",
    "\n",
    "    def wordCount(self, str):\n",
    "        cnt = 1 if str else 0\n",
    "        for c in str:\n",
    "            if c == ' ':\n",
    "                cnt += 1\n",
    "        return cnt\n",
    "\n",
    "    # Generate a word at a time without saving all the words.\n",
    "    def wordGenerator(self, str):\n",
    "        w = \"\"\n",
    "        for c in str:\n",
    "            if c == ' ':\n",
    "                yield w\n",
    "                w = \"\"\n",
    "            else:\n",
    "                w += c\n",
    "        yield w\n",
    "\n",
    "\n",
    "# Time:  O(n)\n",
    "# Space: O(n)\n",
    "class Solution2(object):\n",
    "    def wordPattern(self, pattern, str):\n",
    "        \"\"\"\n",
    "        :type pattern: str\n",
    "        :type str: str\n",
    "        :rtype: bool\n",
    "        \"\"\"\n",
    "        words = str.split()  # Space: O(n)\n",
    "        if len(pattern) != len(words):\n",
    "            return False\n",
    "\n",
    "        w2p, p2w = {}, {}\n",
    "        for p, w in izip(pattern, words):\n",
    "            if w not in w2p and p not in p2w:\n",
    "                # Build mapping. Space: O(c)\n",
    "                w2p[w] = p\n",
    "                p2w[p] = w\n",
    "            elif w not in w2p or w2p[w] != p:\n",
    "                # Contradict mapping.\n",
    "                return False\n",
    "        return True"
   ]
  },
  {
   "cell_type": "markdown",
   "id": "e06e9a56",
   "metadata": {},
   "source": [
    "# 0290 Easy 290 Word Pattern"
   ]
  },
  {
   "cell_type": "code",
   "execution_count": null,
   "id": "0ac1e5a2",
   "metadata": {},
   "outputs": [],
   "source": [
    "class Solution(object):\n",
    "    def wordPattern(self, pattern, str):\n",
    "        \"\"\"\n",
    "        :type pattern: str\n",
    "        :type str: str\n",
    "        :rtype: bool\n",
    "        \"\"\"\n",
    "        if pattern is None or str is None:\n",
    "            return True\n",
    "        # double map\n",
    "        words_to_pattern = {}\n",
    "        pattern_to_words = {}\n",
    "        word_list = str.split(' ')\n",
    "        if len(word_list) != len(pattern):\n",
    "            return False\n",
    "        for index, word in enumerate(word_list):\n",
    "            curr_p = pattern[index]\n",
    "            if pattern_to_words.get(curr_p, word) != word or words_to_pattern.get(word, curr_p) != curr_p:\n",
    "                return False\n",
    "            pattern_to_words[curr_p] = pattern_to_words.get(curr_p, word)\n",
    "            words_to_pattern[word] = words_to_pattern.get(word, curr_p)\n",
    "        return True"
   ]
  },
  {
   "cell_type": "markdown",
   "id": "0ece6b01",
   "metadata": {},
   "source": [
    "# 0290 Easy 290 Word Pattern"
   ]
  },
  {
   "cell_type": "code",
   "execution_count": null,
   "id": "c23aeb45",
   "metadata": {},
   "outputs": [],
   "source": [
    "class Solution:\n",
    "    def wordPattern(self, pattern, str):\n",
    "        \"\"\"\n",
    "        :type pattern: str\n",
    "        :type str: str\n",
    "        :rtype: bool\n",
    "        \"\"\"\n",
    "        if len(str.split())!=len(pattern): return False\n",
    "        dic={}\n",
    "        for word in str.split():\n",
    "            if not pattern[0] in dic.values() and not word in dic: dic[word]=pattern[0]\n",
    "            else:\n",
    "                if not word in dic or dic[word]!=pattern[0]: return False\n",
    "            pattern=pattern[1:]\n",
    "        return True\n",
    "        "
   ]
  },
  {
   "cell_type": "markdown",
   "id": "0fd8f7ab",
   "metadata": {},
   "source": [
    "# 0292 Easy 292 Nim Game"
   ]
  },
  {
   "cell_type": "code",
   "execution_count": null,
   "id": "6e17e2e0",
   "metadata": {},
   "outputs": [],
   "source": [
    "# Time:  O(1)\n",
    "# Space: O(1)\n",
    "\n",
    "class Solution(object):\n",
    "    def canWinNim(self, n):\n",
    "        \"\"\"\n",
    "        :type n: int\n",
    "        :rtype: bool\n",
    "        \"\"\"\n",
    "        return n % 4 != 0"
   ]
  },
  {
   "cell_type": "markdown",
   "id": "2d431308",
   "metadata": {},
   "source": [
    "# 0292 Easy 292 Nim Game"
   ]
  },
  {
   "cell_type": "code",
   "execution_count": null,
   "id": "707c8a29",
   "metadata": {},
   "outputs": [],
   "source": [
    "class Solution(object):\n",
    "    def canWinNim(self, n):\n",
    "        \"\"\"\n",
    "        :type n: int\n",
    "        :rtype: bool\n",
    "        \"\"\"\n",
    "        return n % 4 != 0"
   ]
  },
  {
   "cell_type": "markdown",
   "id": "b45906e3",
   "metadata": {},
   "source": [
    "# 0292 Easy 292 Nim Game"
   ]
  },
  {
   "cell_type": "code",
   "execution_count": null,
   "id": "03c90ce0",
   "metadata": {},
   "outputs": [],
   "source": [
    "class Solution:\n",
    "    def canWinNim(self, n):\n",
    "        \"\"\"\n",
    "        :type n: int\n",
    "        :rtype: bool\n",
    "        \"\"\"\n",
    "        return False if n%4==0 else True"
   ]
  },
  {
   "cell_type": "markdown",
   "id": "b06b9211",
   "metadata": {},
   "source": [
    "# 0293 Easy 293 Flip Game"
   ]
  },
  {
   "cell_type": "code",
   "execution_count": null,
   "id": "2491686e",
   "metadata": {},
   "outputs": [],
   "source": [
    "# Time:  O(c * n + n) = O(n * (c+1))\n",
    "# Space: O(n)\n",
    "\n",
    "class Solution(object):\n",
    "    def generatePossibleNextMoves(self, s):\n",
    "        \"\"\"\n",
    "        :type s: str\n",
    "        :rtype: List[str]\n",
    "        \"\"\"\n",
    "        res = []\n",
    "        i, n = 0, len(s) - 1\n",
    "        while i < n:                                    # O(n) time\n",
    "            if s[i] == '+':\n",
    "                while i < n and s[i+1] == '+':          # O(c) time\n",
    "                    res.append(s[:i] + '--' + s[i+2:])  # O(n) time and space\n",
    "                    i += 1\n",
    "            i += 1\n",
    "        return res\n",
    "\n",
    "\n",
    "# Time:  O(c * m * n + n) = O(c * n + n), where m = 2 in this question\n",
    "# Space: O(n)\n",
    "# This solution compares O(m) = O(2) times for two consecutive \"+\", where m is length of the pattern\n",
    "class Solution2(object):\n",
    "  def generatePossibleNextMoves(self, s):\n",
    "      \"\"\"\n",
    "      :type s: str\n",
    "      :rtype: List[str]\n",
    "      \"\"\"\n",
    "      return [s[:i] + \"--\" + s[i+2:] for i in xrange(len(s) - 1) if s[i:i+2] == \"++\"]"
   ]
  },
  {
   "cell_type": "markdown",
   "id": "78dbbd4b",
   "metadata": {},
   "source": [
    "# 0293 Easy 293 Flip Game"
   ]
  },
  {
   "cell_type": "code",
   "execution_count": null,
   "id": "f67e806a",
   "metadata": {},
   "outputs": [],
   "source": [
    "class Solution(object):\n",
    "    def generatePossibleNextMoves(self, s):\n",
    "        \"\"\"\n",
    "        :type s: str\n",
    "        :rtype: List[str]\n",
    "        \"\"\"\n",
    "        # return [s[:i] + \"--\" + s[i+2:] for i in range(len(s) - 1) if s[i] == s[i + 1] == \"+\"]\n",
    "        res = []\n",
    "        if s is None or len(s) == 0:\n",
    "            return res\n",
    "        ls = len(s)\n",
    "        for i in range(ls - 1):\n",
    "            if s[i] == '+' and s[i + 1] == '+':\n",
    "                res.append(s[:i] + '--' + s[i + 2:])\n",
    "        return res"
   ]
  },
  {
   "cell_type": "markdown",
   "id": "0d31a0b2",
   "metadata": {},
   "source": [
    "# 0293 Easy 293 Flip Game"
   ]
  },
  {
   "cell_type": "code",
   "execution_count": null,
   "id": "3d092944",
   "metadata": {},
   "outputs": [],
   "source": [
    "class Solution:\n",
    "    def generatePossibleNextMoves(self, s):\n",
    "        return [s[:i] + \"--\" + s[i + 2:] for i in range(len(s) - 1) if s[i] == s[i + 1] == \"+\"]"
   ]
  },
  {
   "cell_type": "markdown",
   "id": "f7cf4f65",
   "metadata": {},
   "source": [
    "# 0303 Easy 303 Range Sum Query Immutable"
   ]
  },
  {
   "cell_type": "code",
   "execution_count": null,
   "id": "61758641",
   "metadata": {},
   "outputs": [],
   "source": [
    "class NumArray(object):\n",
    "    def __init__(self, nums):\n",
    "        \"\"\"\n",
    "        initialize your data structure here.\n",
    "        :type nums: List[int]\n",
    "        \"\"\"\n",
    "        self.res = [0] * (len(nums) + 1)\n",
    "        self.data = list(nums)\n",
    "        for i in range(len(self.data)):\n",
    "            self.res[i + 1] = self.res[i] + nums[i]\n",
    "\n",
    "    def sumRange(self, i, j):\n",
    "        \"\"\"\n",
    "        sum of elements nums[i..j], inclusive.\n",
    "        :type i: int\n",
    "        :type j: int\n",
    "        :rtype: int\n",
    "        \"\"\"\n",
    "        return self.res[j + 1] - self.res[i]\n",
    "\n",
    "        # Your NumArray object will be instantiated and called as such:\n",
    "        # numArray = NumArray(nums)\n",
    "        # numArray.sumRange(0, 1)\n",
    "        # numArray.sumRange(1, 2)"
   ]
  },
  {
   "cell_type": "markdown",
   "id": "138f85c8",
   "metadata": {},
   "source": [
    "# 0303 Easy 303 Range Sum Query Immutable"
   ]
  },
  {
   "cell_type": "code",
   "execution_count": null,
   "id": "58eaf9ae",
   "metadata": {},
   "outputs": [],
   "source": [
    "class NumArray:\n",
    "\n",
    "    def __init__(self, nums):\n",
    "        self.nums = nums\n",
    "        for i in range(1, len(nums)):\n",
    "            self.nums[i] += self.nums[i - 1]\n",
    "        \n",
    "\n",
    "    def sumRange(self, i, j):\n",
    "        return self.nums[j] - self.nums[i - 1] if i else self.nums[j]"
   ]
  },
  {
   "cell_type": "markdown",
   "id": "787bc33f",
   "metadata": {},
   "source": [
    "# 0326 Easy 326 Power of Three"
   ]
  },
  {
   "cell_type": "code",
   "execution_count": null,
   "id": "9746e286",
   "metadata": {},
   "outputs": [],
   "source": [
    "# Time:  O(1)\n",
    "# Space: O(1)\n",
    "\n",
    "import math\n",
    "\n",
    "\n",
    "class Solution(object):\n",
    "    def __init__(self):\n",
    "        self.__max_log3 = int(math.log(0x7fffffff) / math.log(3))\n",
    "        self.__max_pow3 = 3 ** self.__max_log3\n",
    "\n",
    "    def isPowerOfThree(self, n):\n",
    "        \"\"\"\n",
    "        :type n: int\n",
    "        :rtype: bool\n",
    "        \"\"\"\n",
    "        return n > 0 and self.__max_pow3 % n == 0\n",
    "\n",
    "\n",
    "class Solution2(object):\n",
    "    def isPowerOfThree(self, n):\n",
    "        return n > 0 and (math.log10(n)/math.log10(3)).is_integer()"
   ]
  },
  {
   "cell_type": "markdown",
   "id": "c0e97922",
   "metadata": {},
   "source": [
    "# 0326 Easy 326 Power of Three"
   ]
  },
  {
   "cell_type": "code",
   "execution_count": null,
   "id": "2b87dba9",
   "metadata": {},
   "outputs": [],
   "source": [
    "class Solution(object):\n",
    "    # def isPowerOfThree(self, n):\n",
    "    #     \"\"\"\n",
    "    #     :type n: int\n",
    "    #     :rtype: bool\n",
    "    #     \"\"\"\n",
    "    #     import math\n",
    "    #     if n <= 0:\n",
    "    #         return False\n",
    "    #     # use round to check\n",
    "    #     log_res = round(math.log(n, 3), 10)\n",
    "    #     if log_res - int(log_res) > 0:\n",
    "    #         return False\n",
    "    #     return True\n",
    "\n",
    "    def isPowerOfThree(self, n):\n",
    "        max3pow = 1162261467\n",
    "        if n <= 0 or n > max3pow:\n",
    "            return False\n",
    "        return max3pow % n == 0"
   ]
  },
  {
   "cell_type": "markdown",
   "id": "9d5ccce8",
   "metadata": {},
   "source": [
    "# 0326 Easy 326 Power of Three"
   ]
  },
  {
   "cell_type": "code",
   "execution_count": null,
   "id": "a740fd81",
   "metadata": {},
   "outputs": [],
   "source": [
    "class Solution:\n",
    "    def isPowerOfThree(self, n: int) -> bool:\n",
    "        i = 1\n",
    "        while i < n:\n",
    "            i *=3\n",
    "        return i == n"
   ]
  },
  {
   "cell_type": "markdown",
   "id": "a0e37f71",
   "metadata": {},
   "source": [
    "# 0338 Easy 338 Counting Bits"
   ]
  },
  {
   "cell_type": "code",
   "execution_count": null,
   "id": "b22bed96",
   "metadata": {},
   "outputs": [],
   "source": [
    "class Solution:\n",
    "    def countBits(self, n: int) -> List[int]:\n",
    "        ans = [0]*(n+1)\n",
    "        offset = 1\n",
    "        \n",
    "        for i in range(1, n+1):\n",
    "            if offset*2==i: offset = offset*2\n",
    "            ans[i] = 1+ans[i-offset]\n",
    "        return ans"
   ]
  },
  {
   "cell_type": "markdown",
   "id": "77833ae1",
   "metadata": {},
   "source": [
    "# 0338 Easy 338 Counting Bits"
   ]
  },
  {
   "cell_type": "code",
   "execution_count": null,
   "id": "f288a626",
   "metadata": {},
   "outputs": [],
   "source": [
    "class Solution(object):\n",
    "    def countBits(self, num):\n",
    "        \"\"\"\n",
    "        :type num: int\n",
    "        :rtype: List[int]\n",
    "        \"\"\"\n",
    "        res = [0] * (num + 1)\n",
    "        for i in range(1, num + 1):\n",
    "            # res[left:last] + last bit\n",
    "            res[i] = res[i >> 1] + (i & 1)\n",
    "        return res"
   ]
  },
  {
   "cell_type": "markdown",
   "id": "e43b506c",
   "metadata": {},
   "source": [
    "# 0338 Easy 338 Counting Bits"
   ]
  },
  {
   "cell_type": "code",
   "execution_count": null,
   "id": "bb58f127",
   "metadata": {},
   "outputs": [],
   "source": [
    "class Solution:\n",
    "    def countBits(self, num: int) -> List[int]:\n",
    "        return [bin(i)[2:].count('1') for i in range(num + 1)]"
   ]
  },
  {
   "cell_type": "markdown",
   "id": "7698e1cd",
   "metadata": {},
   "source": [
    "# 0342 Easy 342 Power of Four"
   ]
  },
  {
   "cell_type": "code",
   "execution_count": null,
   "id": "e8f3fe63",
   "metadata": {},
   "outputs": [],
   "source": [
    "# Time:  O(1)\n",
    "# Space: O(1)\n",
    "\n",
    "class Solution(object):\n",
    "    def isPowerOfFour(self, num):\n",
    "        \"\"\"\n",
    "        :type num: int\n",
    "        :rtype: bool\n",
    "        \"\"\"\n",
    "        return num > 0 and (num & (num - 1)) == 0 and \\\n",
    "               ((num & 0b01010101010101010101010101010101) == num)\n",
    "\n",
    "\n",
    "# Time:  O(1)\n",
    "# Space: O(1)\n",
    "class Solution2(object):\n",
    "    def isPowerOfFour(self, num):\n",
    "        \"\"\"\n",
    "        :type num: int\n",
    "        :rtype: bool\n",
    "        \"\"\"\n",
    "        while num and not (num & 0b11):\n",
    "            num >>= 2\n",
    "        return (num == 1)\n",
    "\n",
    "\n",
    "class Solution3(object):\n",
    "    def isPowerOfFour(self, num):\n",
    "        \"\"\"\n",
    "        :type num: int\n",
    "        :rtype: bool\n",
    "        \"\"\"\n",
    "        num = bin(num)\n",
    "        return True if num[2:].startswith('1') and len(num[2:]) == num.count('0') and num.count('0') % 2 and '-' not in num else False"
   ]
  },
  {
   "cell_type": "markdown",
   "id": "ff2bff49",
   "metadata": {},
   "source": [
    "# 0342 Easy 342 Power of Four"
   ]
  },
  {
   "cell_type": "code",
   "execution_count": null,
   "id": "b1b6a894",
   "metadata": {},
   "outputs": [],
   "source": [
    "class Solution(object):\n",
    "    def isPowerOfFour(self, num):\n",
    "        \"\"\"\n",
    "        :type num: int\n",
    "        :rtype: bool\n",
    "        \"\"\"\n",
    "        # bin(4**0) '0b1'\n",
    "        # bin(4**1) '0b100'\n",
    "        # bin(4**2) '0b10000'\n",
    "        # bin(4**3) '0b1000000'\n",
    "        return num > 0 and num & (num-1) == 0 and len(bin(num)[3:]) % 2 == 0"
   ]
  },
  {
   "cell_type": "markdown",
   "id": "1fcdb4ac",
   "metadata": {},
   "source": [
    "# 0342 Easy 342 Power of Four"
   ]
  },
  {
   "cell_type": "code",
   "execution_count": null,
   "id": "ecc4363c",
   "metadata": {},
   "outputs": [],
   "source": [
    "class Solution:\n",
    "    def isPowerOfFour(self, num: int) -> bool:\n",
    "        if num < 0:\n",
    "            return False\n",
    "        i = 1\n",
    "        while i < num:\n",
    "            i = i * 4\n",
    "        return i == num\n",
    "        "
   ]
  },
  {
   "cell_type": "markdown",
   "id": "66481fd2",
   "metadata": {},
   "source": [
    "# 0344 Easy 344 Reverse String"
   ]
  },
  {
   "cell_type": "code",
   "execution_count": null,
   "id": "6cac96df",
   "metadata": {},
   "outputs": [],
   "source": [
    "\"\"\"\n",
    "Reversing a string is equivalent to\n",
    "Switch the first and the last, the second and the second last, the third and the third last...\n",
    "So I use two pointers, 's' at the start, 'e' at the end.\n",
    "If e and s collapse, the proccess is finished.\n",
    "\n",
    "(a, b) = (b, a) is equal to\n",
    "\n",
    "temp = a\n",
    "a = b\n",
    "b = temp\n",
    "\n",
    "For time complexity is O(N), N is the length of the string.\n",
    "Space complexity is O(1), because I only use pointers and a space to store one char.\n",
    "\"\"\"\n",
    "class Solution(object):\n",
    "    def reverseString(self, string):\n",
    "        s = 0\n",
    "        e = len(string)-1\n",
    "        while e>s:\n",
    "            (string[s], string[e]) = (string[e], string[s])\n",
    "            s+=1\n",
    "            e-=1\n",
    "        return string"
   ]
  },
  {
   "cell_type": "markdown",
   "id": "526415bc",
   "metadata": {},
   "source": [
    "# 0344 Easy 344 Reverse String"
   ]
  },
  {
   "cell_type": "code",
   "execution_count": null,
   "id": "e475f377",
   "metadata": {},
   "outputs": [],
   "source": [
    "class Solution(object):\n",
    "    def reverseString(self, s):\n",
    "        \"\"\"\n",
    "        :type s: str\n",
    "        :rtype: str\n",
    "        \"\"\"\n",
    "        # slice\n",
    "        return s[::-1]"
   ]
  },
  {
   "cell_type": "markdown",
   "id": "4142e11e",
   "metadata": {},
   "source": [
    "# 0344 Easy 344 Reverse String"
   ]
  },
  {
   "cell_type": "code",
   "execution_count": null,
   "id": "592a4482",
   "metadata": {},
   "outputs": [],
   "source": [
    "class Solution:\n",
    "    def reverseString(self, s: List[str]) -> None:\n",
    "        \"\"\"\n",
    "        Do not return anything, modify s in-place instead.\n",
    "        \"\"\"\n",
    "        for i in range(len(s) // 2):\n",
    "            s[i], s[-i-1] = s[-i-1], s[i]"
   ]
  },
  {
   "cell_type": "markdown",
   "id": "b2bd566d",
   "metadata": {},
   "source": [
    "# 0345 Easy 345 Reverse Vowels of a String"
   ]
  },
  {
   "cell_type": "code",
   "execution_count": null,
   "id": "363344d4",
   "metadata": {},
   "outputs": [],
   "source": [
    "class Solution(object):\n",
    "    def reverseVowels(self, s):\n",
    "        i = 0\n",
    "        j = len(s)-1\n",
    "        vowels = set(['a', 'e', 'i', 'o', 'u', 'A', 'E', 'I', 'O', 'U'])\n",
    "        s = list(s)\n",
    "        \n",
    "        while i<j:\n",
    "            if s[i] not in vowels:\n",
    "                i += 1\n",
    "                continue\n",
    "            if s[j] not in vowels:\n",
    "                j -= 1\n",
    "                continue\n",
    "            \n",
    "            s[i], s[j] = s[j], s[i]\n",
    "            i += 1\n",
    "            j -= 1\n",
    "        \n",
    "        return \"\".join(s)"
   ]
  },
  {
   "cell_type": "markdown",
   "id": "e8d25945",
   "metadata": {},
   "source": [
    "# 0345 Easy 345 Reverse Vowels of a String"
   ]
  },
  {
   "cell_type": "code",
   "execution_count": null,
   "id": "2d5e0772",
   "metadata": {},
   "outputs": [],
   "source": [
    "class Solution(object):\n",
    "    def reverseVowels(self, s):\n",
    "        \"\"\"\n",
    "        :type s: str\n",
    "        :rtype: str\n",
    "        \"\"\"\n",
    "        str_index = []\n",
    "        vowel = []\n",
    "        res = []\n",
    "        pos = -1\n",
    "        for index, value in enumerate(s):\n",
    "            if value in 'aeiouAEIOU':\n",
    "                str_index.append(-1)\n",
    "                vowel.append(value)\n",
    "            else:\n",
    "                str_index.append(index)\n",
    "        for index in str_index:\n",
    "            if index < 0:\n",
    "                res.append(vowel[pos])\n",
    "                pos -= 1\n",
    "            else:\n",
    "                res.append(s[index])\n",
    "        return ''.join(res)"
   ]
  },
  {
   "cell_type": "markdown",
   "id": "85aec60d",
   "metadata": {},
   "source": [
    "# 0345 Easy 345 Reverse Vowels of a String"
   ]
  },
  {
   "cell_type": "code",
   "execution_count": null,
   "id": "28f199ff",
   "metadata": {},
   "outputs": [],
   "source": [
    "class Solution:\n",
    "    def reverseVowels(self, s):\n",
    "        r = [c for c in s if c in \"aeiouAEIOU\"]\n",
    "        return \"\".join(c in \"aeiouAEIOU\" and r.pop() or c for c in s) "
   ]
  },
  {
   "cell_type": "markdown",
   "id": "8c7f9332",
   "metadata": {},
   "source": [
    "# 0346 Easy 346 Moving Average from Data Stream"
   ]
  },
  {
   "cell_type": "code",
   "execution_count": null,
   "id": "d98dcb64",
   "metadata": {},
   "outputs": [],
   "source": [
    "class MovingAverage(object):\n",
    "\n",
    "    def __init__(self, size):\n",
    "        self.queue = collections.deque()\n",
    "        self.size = size\n",
    "        self.sum = 0\n",
    "        \n",
    "    def next(self, val):\n",
    "        self.queue.append(val)\n",
    "        \n",
    "        if len(self.queue)>self.size:\n",
    "            self.sum = self.sum+val-self.queue.popleft()\n",
    "        else:\n",
    "            self.sum = self.sum+val\n",
    "            \n",
    "        return self.sum/float(len(self.queue))\n",
    "\n",
    "\"\"\"\n",
    "Time: O(1)\n",
    "Space: O(Size)\n",
    "\"\"\"\n",
    "class MovingAverage(object):\n",
    "\n",
    "    def __init__(self, size):\n",
    "        self.size = size\n",
    "        self.q = collections.deque()\n",
    "        self.sum = 0\n",
    "        \n",
    "\n",
    "    def next(self, val):\n",
    "        if len(self.q)>=self.size:\n",
    "            self.sum -= self.q.popleft()\n",
    "        \n",
    "        self.sum += val\n",
    "        self.q.append(val)\n",
    "        return float(self.sum)/len(self.q)"
   ]
  },
  {
   "cell_type": "markdown",
   "id": "8c2a99d1",
   "metadata": {},
   "source": [
    "# 0346 Easy 346 Moving Average from Data Stream"
   ]
  },
  {
   "cell_type": "code",
   "execution_count": null,
   "id": "22e661f2",
   "metadata": {},
   "outputs": [],
   "source": [
    "class MovingAverage(object):\n",
    "\n",
    "    def __init__(self, size):\n",
    "        \"\"\"\n",
    "        Initialize your data structure here.\n",
    "        :type size: int\n",
    "        \"\"\"\n",
    "        self.size = size\n",
    "        self.curr_range = []\n",
    "        \n",
    "\n",
    "    def next(self, val):\n",
    "        \"\"\"\n",
    "        :type val: int\n",
    "        :rtype: float\n",
    "        \"\"\"\n",
    "        if len(self.curr_range) == self.size:\n",
    "            self.curr_range.pop(0)\n",
    "        self.curr_range.append(val)\n",
    "        return sum(self.curr_range) * 1.0 / len(self.curr_range)\n",
    "        \n",
    "\n",
    "\n",
    "# Your MovingAverage object will be instantiated and called as such:\n",
    "# obj = MovingAverage(size)\n",
    "# param_1 = obj.next(val)\n",
    "\n",
    "    # def __init__(self, size):\n",
    "    #     \"\"\"\n",
    "    #     Initialize your data structure here.\n",
    "    #     :type size: int\n",
    "    #     \"\"\"\n",
    "    #     self.next = lambda v, q=collections.deque((), size): q.append(v) or 1.*sum(q) / len(q)"
   ]
  },
  {
   "cell_type": "markdown",
   "id": "0e843054",
   "metadata": {},
   "source": [
    "# 0346 Easy 346 Moving Average from Data Stream"
   ]
  },
  {
   "cell_type": "code",
   "execution_count": null,
   "id": "ad096b04",
   "metadata": {},
   "outputs": [],
   "source": [
    "class MovingAverage:\n",
    "\n",
    "    def __init__(self, size: int):\n",
    "        \"\"\"\n",
    "        Initialize your data structure here.\n",
    "        \"\"\"\n",
    "        self.arr = collections.deque(maxlen = size)\n",
    "\n",
    "    def next(self, val: int) -> float:\n",
    "        self.arr.append(val)\n",
    "        return sum(self.arr) / len(self.arr)\n",
    "        \n",
    "        \n",
    "# Your MovingAverage object will be instantiated and called as such:\n",
    "# obj = MovingAverage(size)\n",
    "# param_1 = obj.next(val)"
   ]
  },
  {
   "cell_type": "markdown",
   "id": "3d2ed8f0",
   "metadata": {},
   "source": [
    "# 0349 Easy 349 Intersection of Two Arrays"
   ]
  },
  {
   "cell_type": "code",
   "execution_count": null,
   "id": "17ae49cf",
   "metadata": {},
   "outputs": [],
   "source": [
    "#https://leetcode.com/problems/intersection-of-two-arrays/\n",
    "class Solution(object):\n",
    "    #put nums1 to d1'keys, so even if it is repeated, it won't matter\n",
    "    #if nums2 is d1's keys, put it to nums2'keys\n",
    "    #the point of using keys to store numbers is to avoid repetition\n",
    "    def intersection(self, nums1, nums2):\n",
    "        d1 = {}\n",
    "        d2 = {}\n",
    "        for n1 in nums1:\n",
    "            d1[n1] = 0\n",
    "        \n",
    "        for n2 in nums2:\n",
    "            if n2 in d1:\n",
    "                d2[n2] = 0\n",
    "        \n",
    "        return d2.keys()\n",
    "    \n",
    "    #a more elegant way to solve this is to use SET\n",
    "    #element in set is not repeated\n",
    "    #set has some convenient build-in operator\n",
    "    def intersection(self, nums1, nums2):\n",
    "        return list(set(nums1) & set(nums2))\n",
    "\n",
    "\n",
    "class Solution(object):\n",
    "    def intersection(self, nums1, nums2):\n",
    "        nums1 = set(nums1)\n",
    "        nums2 = set(nums2)\n",
    "        \n",
    "        return nums1.intersection(nums2)"
   ]
  },
  {
   "cell_type": "markdown",
   "id": "be2f0015",
   "metadata": {},
   "source": [
    "# 0349 Easy 349 Intersection of Two Arrays"
   ]
  },
  {
   "cell_type": "code",
   "execution_count": null,
   "id": "599ea104",
   "metadata": {},
   "outputs": [],
   "source": [
    "class Solution(object):\n",
    "    def intersection(self, nums1, nums2):\n",
    "        \"\"\"\n",
    "        :type nums1: List[int]\n",
    "        :type nums2: List[int]\n",
    "        :rtype: List[int]\n",
    "        \"\"\"\n",
    "        # set\n",
    "        return list(set(nums1) & set(nums2))"
   ]
  },
  {
   "cell_type": "markdown",
   "id": "a0465d03",
   "metadata": {},
   "source": [
    "# 0349 Easy 349 Intersection of Two Arrays"
   ]
  },
  {
   "cell_type": "code",
   "execution_count": null,
   "id": "b4f4cbf3",
   "metadata": {},
   "outputs": [],
   "source": [
    "class Solution:\n",
    "    def intersection(self, nums1, nums2):\n",
    "        \"\"\"\n",
    "        :type nums1: List[int]\n",
    "        :type nums2: List[int]\n",
    "        :rtype: List[int]\n",
    "        \"\"\"\n",
    "        return list(set(nums1)&set(nums2))"
   ]
  },
  {
   "cell_type": "markdown",
   "id": "33a84421",
   "metadata": {},
   "source": [
    "# 0350 Easy 350 Intersection of Two Arrays II"
   ]
  },
  {
   "cell_type": "code",
   "execution_count": null,
   "id": "ed55ed6e",
   "metadata": {},
   "outputs": [],
   "source": [
    "\"\"\"\n",
    "Time: O(NLogN)\n",
    "Space: O(1)\n",
    "\"\"\"\n",
    "class Solution(object):\n",
    "    def intersect(self, nums1, nums2):\n",
    "        nums1.sort()\n",
    "        nums2.sort()\n",
    "        \n",
    "        i = j = 0\n",
    "        ans = []\n",
    "        \n",
    "        while i<len(nums1) and j<len(nums2):\n",
    "            if nums1[i]==nums2[j]:\n",
    "                ans.append(nums1[i])\n",
    "                i += 1\n",
    "                j +=1\n",
    "            elif nums1[i]>nums2[j]:\n",
    "                j += 1\n",
    "            else:\n",
    "                i += 1\n",
    "        return ans\n",
    "\n",
    "\"\"\"\n",
    "Time: O(N)\n",
    "Space: O(N)\n",
    "\"\"\"\n",
    "class Solution(object):\n",
    "    def intersect(self, nums1, nums2):\n",
    "        c = {} #nums1 counter\n",
    "        ans = []\n",
    "        \n",
    "        for n in nums1:\n",
    "            if n in c:\n",
    "                c[n] += 1\n",
    "            else:\n",
    "                c[n] = 1\n",
    "        \n",
    "        for n in nums2:\n",
    "            if n in c and c[n]>0:\n",
    "                ans.append(n)\n",
    "                c[n] -= 1\n",
    "        return ans"
   ]
  },
  {
   "cell_type": "markdown",
   "id": "79c2aca0",
   "metadata": {},
   "source": [
    "# 0350 Easy 350 Intersection of Two Arrays II"
   ]
  },
  {
   "cell_type": "code",
   "execution_count": null,
   "id": "5a722a5d",
   "metadata": {},
   "outputs": [],
   "source": [
    "class Solution(object):\n",
    "    def intersect(self, nums1, nums2):\n",
    "        \"\"\"\n",
    "        :type nums1: List[int]\n",
    "        :type nums2: List[int]\n",
    "        :rtype: List[int]\n",
    "        \"\"\"\n",
    "        nums1.sort()\n",
    "        nums2.sort()\n",
    "        res = []\n",
    "        pos1 = pos2 = 0\n",
    "        while pos1 < len(nums1) and pos2 < len(nums2):\n",
    "            if nums1[pos1] == nums2[pos2]:\n",
    "                res.append(nums1[pos1])\n",
    "                pos1 += 1\n",
    "                pos2 += 1\n",
    "            elif nums1[pos1] < nums2[pos2]:\n",
    "                pos1 += 1\n",
    "            else:\n",
    "                pos2 += 1\n",
    "        return res"
   ]
  },
  {
   "cell_type": "markdown",
   "id": "7aed02cc",
   "metadata": {},
   "source": [
    "# 0350 Easy 350 Intersection of Two Arrays II"
   ]
  },
  {
   "cell_type": "code",
   "execution_count": null,
   "id": "eba66f9c",
   "metadata": {},
   "outputs": [],
   "source": [
    "class Solution:\n",
    "    intersect = lambda *x: [k for k, v in (collections.Counter(x[1]) & collections.Counter(x[2])).items() for _ in range(v)]"
   ]
  },
  {
   "cell_type": "markdown",
   "id": "4fdef8fb",
   "metadata": {},
   "source": [
    "# 0359 Easy 359 Logger Rate Limiter"
   ]
  },
  {
   "cell_type": "code",
   "execution_count": null,
   "id": "103dedc3",
   "metadata": {},
   "outputs": [],
   "source": [
    "class Logger(object):\n",
    "    def __init__(self):\n",
    "        self.log = collections.Counter() #store the latest timestamp\n",
    "\n",
    "    def shouldPrintMessage(self, timestamp, message):\n",
    "        if message not in self.log or self.log[message]+10<=timestamp:\n",
    "            self.log[message] = timestamp\n",
    "            return True\n",
    "        else:\n",
    "            return False\n",
    "\n",
    "\n",
    "\n",
    "class Logger(object):\n",
    "\n",
    "    def __init__(self):\n",
    "        #stores the messages within 10 seconds\n",
    "        self.q = collections.deque()\n",
    "        self.set = set()\n",
    "        \n",
    "\n",
    "    def shouldPrintMessage(self, timestamp, message):\n",
    "        while self.q and timestamp-self.q[0][0]>=10:\n",
    "            time, msg = self.q.popleft()\n",
    "            self.set.remove(msg)\n",
    "        \n",
    "        if message not in self.set:\n",
    "            self.q.append((timestamp, message))\n",
    "            self.set.add(message)\n",
    "            return True\n",
    "        else:\n",
    "            return False"
   ]
  },
  {
   "cell_type": "markdown",
   "id": "ffc4ad18",
   "metadata": {},
   "source": [
    "# 0359 Easy 359 Logger Rate Limiter"
   ]
  },
  {
   "cell_type": "code",
   "execution_count": null,
   "id": "6bddb33e",
   "metadata": {},
   "outputs": [],
   "source": [
    "# class Logger(object):\n",
    "\n",
    "#     def __init__(self):\n",
    "#         \"\"\"\n",
    "#         Initialize your data structure here.\n",
    "#         \"\"\"\n",
    "#         self.timestamps = {}\n",
    "\n",
    "#     def shouldPrintMessage(self, timestamp, message):\n",
    "#         \"\"\"\n",
    "#         Returns true if the message should be printed in the given timestamp, otherwise returns false.\n",
    "#         If this method returns false, the message will not be printed.\n",
    "#         The timestamp is in seconds granularity.\n",
    "#         :type timestamp: int\n",
    "#         :type message: str\n",
    "#         :rtype: bool\n",
    "#         \"\"\"\n",
    "#         if timestamp < self.timestamps.get(message, 0):\n",
    "#             return False\n",
    "#         self.timestamps[message] = timestamp + 10\n",
    "#         return True\n",
    "\n",
    "\n",
    "import heapq\n",
    "\n",
    "\n",
    "class Logger(object):\n",
    "\n",
    "    def __init__(self):\n",
    "        \"\"\"\n",
    "        Initialize your data structure here.\n",
    "        \"\"\"\n",
    "        self.heap = []\n",
    "        self.cache = {}\n",
    "\n",
    "    def shouldPrintMessage(self, timestamp, message):\n",
    "        \"\"\"\n",
    "        Returns true if the message should be printed in the given timestamp, otherwise returns false.\n",
    "        If this method returns false, the message will not be printed.\n",
    "        The timestamp is in seconds granularity.\n",
    "        :type timestamp: int\n",
    "        :type message: str\n",
    "        :rtype: bool\n",
    "        \"\"\"\n",
    "        while len(self.heap):\n",
    "            if self.heap[0][0] <= timestamp:\n",
    "                temp = heapq.heappop(self.heap)\n",
    "                self.cache.pop(temp[1])\n",
    "            else:\n",
    "                break\n",
    "        if timestamp < self.cache.get(message, 0):\n",
    "            return False\n",
    "        self.cache[message] = timestamp + 10\n",
    "        heapq.heappush(self.heap, (timestamp + 10, message))\n",
    "        return True\n",
    "\n",
    "\n",
    "# Your Logger object will be instantiated and called as such:\n",
    "# obj = Logger()\n",
    "# param_1 = obj.shouldPrintMessage(timestamp,message)"
   ]
  },
  {
   "cell_type": "markdown",
   "id": "7fabf9ce",
   "metadata": {},
   "source": [
    "# 0359 Easy 359 Logger Rate Limiter"
   ]
  },
  {
   "cell_type": "code",
   "execution_count": null,
   "id": "e3157f31",
   "metadata": {},
   "outputs": [],
   "source": [
    "class Logger:\n",
    "\n",
    "    def __init__(self):\n",
    "        self.logs = {}\n",
    "\n",
    "    def shouldPrintMessage(self, timestamp, message):\n",
    "        if message not in self.logs or timestamp - self.logs[message] >= 10:\n",
    "            self.logs[message] = timestamp\n",
    "            return True\n",
    "        return False"
   ]
  },
  {
   "cell_type": "markdown",
   "id": "20b857dc",
   "metadata": {},
   "source": [
    "# 0367 Easy 367 Valid Perfect Square"
   ]
  },
  {
   "cell_type": "code",
   "execution_count": null,
   "id": "975a2dff",
   "metadata": {},
   "outputs": [],
   "source": [
    "# Time:  O(logn)\n",
    "# Space: O(1)\n",
    "\n",
    "class Solution(object):\n",
    "    def isPerfectSquare(self, num):\n",
    "        \"\"\"\n",
    "        :type num: int\n",
    "        :rtype: bool\n",
    "        \"\"\"\n",
    "        left, right = 1, num\n",
    "        while left <= right:\n",
    "            mid = left + (right - left) / 2\n",
    "            if mid >= num / mid:\n",
    "                right = mid - 1\n",
    "            else:\n",
    "                left = mid + 1\n",
    "        return left == num / left and num % left == 0"
   ]
  },
  {
   "cell_type": "markdown",
   "id": "ad713f26",
   "metadata": {},
   "source": [
    "# 0367 Easy 367 Valid Perfect Square"
   ]
  },
  {
   "cell_type": "code",
   "execution_count": null,
   "id": "a5f3de07",
   "metadata": {},
   "outputs": [],
   "source": [
    "class Solution(object):\n",
    "    # def isPerfectSquare(self, num):\n",
    "    #     \"\"\"\n",
    "    #     :type num: int\n",
    "    #     :rtype: bool\n",
    "    #     \"\"\"\n",
    "    #     i = 1\n",
    "    #     while num > 0:\n",
    "    #         num -= i\n",
    "    #         i += 2\n",
    "    #     return num == 0\n",
    "\n",
    "    def isPerfectSquare(self, num):\n",
    "        low, high = 1, num\n",
    "        while low <= high:\n",
    "            mid = (low + high) / 2\n",
    "            mid_square = mid * mid\n",
    "            if mid_square == num:\n",
    "                return True\n",
    "            elif mid_square < num:\n",
    "                low = mid + 1\n",
    "            else:\n",
    "                high = mid - 1\n",
    "        return False\n",
    "\n",
    "    # def isPerfectSquare(self, num):\n",
    "    #     x = num\n",
    "    #     while x * x > num:\n",
    "    #         x = (x + num / x) / 2\n",
    "    #     return x * x == num"
   ]
  },
  {
   "cell_type": "markdown",
   "id": "fefb69d9",
   "metadata": {},
   "source": [
    "# 0367 Easy 367 Valid Perfect Square"
   ]
  },
  {
   "cell_type": "code",
   "execution_count": null,
   "id": "976290ff",
   "metadata": {},
   "outputs": [],
   "source": [
    "class Solution:\n",
    "    def isPerfectSquare(self, num):\n",
    "        \"\"\"\n",
    "        :type num: int\n",
    "        :rtype: bool\n",
    "        \"\"\"\n",
    "        i=1\n",
    "        while i**2<=num:\n",
    "            if i**2<num: i+=1\n",
    "            if i**2==num: return True\n",
    "        return False"
   ]
  },
  {
   "cell_type": "markdown",
   "id": "e02d66d4",
   "metadata": {},
   "source": [
    "# 0374 Easy 374 Guess Number Higher or Lower"
   ]
  },
  {
   "cell_type": "code",
   "execution_count": null,
   "id": "f7b92421",
   "metadata": {},
   "outputs": [],
   "source": [
    "\"\"\"\n",
    "Time: O(LogN)\n",
    "Space: O(1)\n",
    "\n",
    "This problem is very similar to problem 278.\n",
    "\n",
    "`l` is the lower bound of the possible numbers.\n",
    "`h` is the higher bound of the possible numbers.\n",
    "We always `guess` the number in the middle of `l` and `h`, which is `m`.\n",
    "If the result (`r`) of `guess(m)` is 0, we found the answer. Return `m`.\n",
    "If the result is 1, we know that the answer is larger than m, so the lower bound (`l`) is now m+1.\n",
    "If the result is -1, we know that the answer is smaller than m, so the higher bound (`h`) is now m-1.\n",
    "\"\"\"\n",
    "class Solution(object):\n",
    "    def guessNumber(self, n):\n",
    "        l = 1\n",
    "        h = n\n",
    "        \n",
    "        while l<h:\n",
    "            m = (l+h)/2    \n",
    "            \n",
    "            r = guess(m)\n",
    "            \n",
    "            if r==0:\n",
    "                return m\n",
    "            elif r==1:\n",
    "                l = m+1\n",
    "            elif r==-1:\n",
    "                h = m-1\n",
    "                \n",
    "        return (l+h)/2"
   ]
  },
  {
   "cell_type": "markdown",
   "id": "27a4ee34",
   "metadata": {},
   "source": [
    "# 0374 Easy 374 Guess Number Higher or Lower"
   ]
  },
  {
   "cell_type": "code",
   "execution_count": null,
   "id": "06fe7d75",
   "metadata": {},
   "outputs": [],
   "source": [
    "# The guess API is already defined for you.\n",
    "# @param num, your guess\n",
    "# @return -1 if my number is lower, 1 if my number is higher, otherwise return 0\n",
    "# def guess(num):\n",
    "\n",
    "class Solution(object):\n",
    "    def guessNumber(self, n):\n",
    "        \"\"\"\n",
    "        :type n: int\n",
    "        :rtype: int\n",
    "        \"\"\"\n",
    "        # binary search\n",
    "        begin, end = 1, n\n",
    "        while begin <= end:\n",
    "            mid = (begin + end) / 2\n",
    "            res = guess(mid)\n",
    "            if res == 0:\n",
    "                return mid\n",
    "            elif res > 0:\n",
    "                begin = mid + 1\n",
    "            else:\n",
    "                end = mid - 1"
   ]
  },
  {
   "cell_type": "markdown",
   "id": "6493fd20",
   "metadata": {},
   "source": [
    "# 0374 Easy 374 Guess Number Higher or Lower"
   ]
  },
  {
   "cell_type": "code",
   "execution_count": null,
   "id": "01a448ce",
   "metadata": {},
   "outputs": [],
   "source": [
    "class Solution(object):\n",
    "    def guessNumber(self, n):\n",
    "        l, r, g = 1, n, 1\n",
    "        while g and l <= r:\n",
    "            m = (l + r) // 2\n",
    "            g = guess(m)\n",
    "            if g == 1:\n",
    "                l = m + 1\n",
    "            else:\n",
    "                r = m\n",
    "        return m"
   ]
  },
  {
   "cell_type": "markdown",
   "id": "6a6d903e",
   "metadata": {},
   "source": [
    "# 0383 Easy 383 Ransom Note"
   ]
  },
  {
   "cell_type": "code",
   "execution_count": null,
   "id": "5c2c5479",
   "metadata": {},
   "outputs": [],
   "source": [
    "# Time:  O(n)\n",
    "# Space: O(1)\n",
    "\n",
    "class Solution(object):\n",
    "    def canConstruct(self, ransomNote, magazine):\n",
    "        \"\"\"\n",
    "        :type ransomNote: str\n",
    "        :type magazine: str\n",
    "        :rtype: bool\n",
    "        \"\"\"\n",
    "        counts = [0] * 26\n",
    "        letters = 0\n",
    "\n",
    "        for c in ransomNote:\n",
    "            if counts[ord(c) - ord('a')] == 0:\n",
    "                letters += 1\n",
    "            counts[ord(c) - ord('a')] += 1\n",
    "\n",
    "        for c in magazine:\n",
    "            counts[ord(c) - ord('a')] -= 1\n",
    "            if counts[ord(c) - ord('a')] == 0:\n",
    "                letters -= 1\n",
    "                if letters == 0:\n",
    "                    break\n",
    "\n",
    "        return letters == 0\n",
    "\n",
    "# Time:  O(n)\n",
    "# Space: O(1)\n",
    "import collections\n",
    "\n",
    "class Solution2(object):\n",
    "    def canConstruct(self, ransomNote, magazine):\n",
    "        \"\"\"\n",
    "        :type ransomNote: str\n",
    "        :type magazine: str\n",
    "        :rtype: bool\n",
    "        \"\"\"\n",
    "        return not collections.Counter(ransomNote) - collections.Counter(magazine)"
   ]
  },
  {
   "cell_type": "markdown",
   "id": "3f9663c8",
   "metadata": {},
   "source": [
    "# 0383 Easy 383 Ransom Note"
   ]
  },
  {
   "cell_type": "code",
   "execution_count": null,
   "id": "e0beab39",
   "metadata": {},
   "outputs": [],
   "source": [
    "class Solution(object):\n",
    "    def canConstruct(self, ransomNote, magazine):\n",
    "        \"\"\"\n",
    "        :type ransomNote: str\n",
    "        :type magazine: str\n",
    "        :rtype: bool\n",
    "        \"\"\"\n",
    "        letter_map = {}\n",
    "        for letter in magazine:\n",
    "            letter_map[letter] = letter_map.get(letter, 0) + 1\n",
    "        for letter in ransomNote:\n",
    "            letter_map[letter] = letter_map.get(letter, 0) - 1\n",
    "            if letter_map[letter] < 0:\n",
    "                return False\n",
    "        return True\n",
    "\n",
    "    # def canConstruct(self, ransomNote, magazine):\n",
    "    #     return not collections.Counter(ransomNote) - collections.Counter(magazine)"
   ]
  },
  {
   "cell_type": "markdown",
   "id": "a9a46129",
   "metadata": {},
   "source": [
    "# 0383 Easy 383 Ransom Note"
   ]
  },
  {
   "cell_type": "code",
   "execution_count": null,
   "id": "14868667",
   "metadata": {},
   "outputs": [],
   "source": [
    "class Solution:\n",
    "    def canConstruct(self, ransomNote: str, magazine: str) -> bool:\n",
    "        cnt = collections.Counter(magazine)\n",
    "        for c in ransomNote:\n",
    "            if cnt[c]:\n",
    "                cnt[c] -= 1\n",
    "            else:\n",
    "                return False\n",
    "        return True"
   ]
  },
  {
   "cell_type": "markdown",
   "id": "65f7ab44",
   "metadata": {},
   "source": [
    "# 0387 Easy 387 First Unique Character in a String"
   ]
  },
  {
   "cell_type": "code",
   "execution_count": null,
   "id": "e1b743f2",
   "metadata": {},
   "outputs": [],
   "source": [
    "from collections import Counter\n",
    "\n",
    "class Solution(object):\n",
    "    def firstUniqChar(self, string):\n",
    "        # counter = Counter()\n",
    "        # for char in string:\n",
    "        #     counter[char]+=1\n",
    "        counter = Counter(string)\n",
    "\n",
    "        for i in xrange(len(string)):\n",
    "            char = string[i]\n",
    "            if counter[char]==1: return i\n",
    "\n",
    "        return -1"
   ]
  },
  {
   "cell_type": "markdown",
   "id": "de368efc",
   "metadata": {},
   "source": [
    "# 0387 Easy 387 First Unique Character in a String"
   ]
  },
  {
   "cell_type": "code",
   "execution_count": null,
   "id": "9098a81d",
   "metadata": {},
   "outputs": [],
   "source": [
    "class Solution(object):\n",
    "    def firstUniqChar(self, s):\n",
    "        \"\"\"\n",
    "        :type s: str\n",
    "        :rtype: int\n",
    "        \"\"\"\n",
    "        count_map = {}\n",
    "        for c in s:\n",
    "            count_map[c] = count_map.get(c, 0) + 1\n",
    "        for i, c in enumerate(s):\n",
    "            if count_map[c] == 1:\n",
    "                return i\n",
    "        return -1\n",
    "\n",
    "    # def firstUniqChar(self, s):\n",
    "    #     min([s.find(c) for c in string.ascii_lowercase if s.count(c)==1] or [-1])"
   ]
  },
  {
   "cell_type": "markdown",
   "id": "ab622980",
   "metadata": {},
   "source": [
    "# 0387 Easy 387 First Unique Character in a String"
   ]
  },
  {
   "cell_type": "code",
   "execution_count": null,
   "id": "3322e959",
   "metadata": {},
   "outputs": [],
   "source": [
    "class Solution:\n",
    "    def firstUniqChar(self, s):\n",
    "        \"\"\"\n",
    "        :type s: str\n",
    "        :rtype: int\n",
    "        \"\"\"\n",
    "        dic = collections.defaultdict(int)\n",
    "        for c in s:\n",
    "            dic[c] += 1\n",
    "        for i, c in enumerate(s):\n",
    "            if dic[c] == 1: return i\n",
    "        return -1"
   ]
  },
  {
   "cell_type": "markdown",
   "id": "cf724038",
   "metadata": {},
   "source": [
    "# 0389 Easy 389 Find the Difference"
   ]
  },
  {
   "cell_type": "code",
   "execution_count": null,
   "id": "b19a7e4a",
   "metadata": {},
   "outputs": [],
   "source": [
    "# Time:  O(n)\n",
    "# Space: O(1)\n",
    "\n",
    "import operator\n",
    "import collections\n",
    "from functools import reduce\n",
    "\n",
    "\n",
    "class Solution(object):\n",
    "    def findTheDifference(self, s, t):\n",
    "        \"\"\"\n",
    "        :type s: str\n",
    "        :type t: str\n",
    "        :rtype: str\n",
    "        \"\"\"\n",
    "        return chr(reduce(operator.xor, map(ord, s), 0) ^ reduce(operator.xor, map(ord, t), 0))\n",
    "\n",
    "    def findTheDifference2(self, s, t):\n",
    "        \"\"\"\n",
    "        :type s: str\n",
    "        :type t: str\n",
    "        :rtype: str\n",
    "        \"\"\"\n",
    "        t = list(t)\n",
    "        s = list(s)\n",
    "        for i in s:\n",
    "            t.remove(i)\n",
    "        return t[0]\n",
    "\n",
    "    def findTheDifference3(self, s, t):\n",
    "        return chr(reduce(operator.xor, map(ord, s + t)))\n",
    "\n",
    "    def findTheDifference4(self, s, t):\n",
    "        return list((collections.Counter(t) - collections.Counter(s)))[0]\n",
    "\n",
    "    def findTheDifference5(self, s, t):\n",
    "        s, t = sorted(s), sorted(t)\n",
    "        return t[-1] if s == t[:-1] else [x[1] for x in zip(s, t) if x[0] != x[1]][0]"
   ]
  },
  {
   "cell_type": "markdown",
   "id": "366dcdb5",
   "metadata": {},
   "source": [
    "# 0389 Easy 389 Find the Difference"
   ]
  },
  {
   "cell_type": "code",
   "execution_count": null,
   "id": "d0121943",
   "metadata": {},
   "outputs": [],
   "source": [
    "class Solution(object):\n",
    "    def findTheDifference(self, s, t):\n",
    "        \"\"\"\n",
    "        :type s: str\n",
    "        :type t: str\n",
    "        :rtype: str\n",
    "        \"\"\"\n",
    "        res = ord(t[-1])\n",
    "        for i in range(len(s)):\n",
    "            res += ord(t[i])\n",
    "            res -= ord(s[i])\n",
    "        return chr(res)\n",
    "\n",
    "    # def findTheDifference(self, s, t):\n",
    "    #     res = 0\n",
    "    #     for c in s + t:\n",
    "    #         res ^= ord(c)\n",
    "    #     return chr(res)\n",
    "        "
   ]
  },
  {
   "cell_type": "markdown",
   "id": "936b1341",
   "metadata": {},
   "source": [
    "# 0389 Easy 389 Find the Difference"
   ]
  },
  {
   "cell_type": "code",
   "execution_count": null,
   "id": "4c883e90",
   "metadata": {},
   "outputs": [],
   "source": [
    "class Solution:\n",
    "    def findTheDifference(self, s, t):\n",
    "        return next(iter(collections.Counter(t) - collections.Counter(s)))"
   ]
  },
  {
   "cell_type": "markdown",
   "id": "69fc9ca6",
   "metadata": {},
   "source": [
    "# 0392 Easy 392 Is Subsequence"
   ]
  },
  {
   "cell_type": "code",
   "execution_count": null,
   "id": "bbbda027",
   "metadata": {},
   "outputs": [],
   "source": [
    "class Solution(object):\n",
    "    def isSubsequence(self, s, t):\n",
    "        i = 0\n",
    "        \n",
    "        for c in t:\n",
    "            if i>=len(s): break\n",
    "            if s[i]==c: i += 1\n",
    "        \n",
    "        return i==len(s)"
   ]
  },
  {
   "cell_type": "markdown",
   "id": "807decd5",
   "metadata": {},
   "source": [
    "# 0392 Easy 392 Is Subsequence"
   ]
  },
  {
   "cell_type": "code",
   "execution_count": null,
   "id": "0bed9708",
   "metadata": {},
   "outputs": [],
   "source": [
    "class Solution:\n",
    "    def isSubsequence(self, s: str, t: str) -> bool:\n",
    "        for a in s:\n",
    "            if a in t:\n",
    "                for b in range(0, len(t)):\n",
    "                    if a==t[b]:\n",
    "                        t=t[b+1:]\n",
    "                        break\n",
    "            else:\n",
    "                return(False)\n",
    "        return(True)"
   ]
  },
  {
   "cell_type": "markdown",
   "id": "f0b1d5b4",
   "metadata": {},
   "source": [
    "# 0392 Easy 392 Is Subsequence"
   ]
  },
  {
   "cell_type": "code",
   "execution_count": null,
   "id": "9835a4cb",
   "metadata": {},
   "outputs": [],
   "source": [
    "class Solution:\n",
    "    def isSubsequence(self, s, t):\n",
    "        ind = -1\n",
    "        for i in s:\n",
    "            try: ind = t.index(i, ind + 1)\n",
    "            except: return False\n",
    "        return True"
   ]
  },
  {
   "cell_type": "markdown",
   "id": "31fd4c79",
   "metadata": {},
   "source": [
    "# 0401 Easy 401 Binary Watch"
   ]
  },
  {
   "cell_type": "code",
   "execution_count": null,
   "id": "68f178f7",
   "metadata": {},
   "outputs": [],
   "source": [
    "\"\"\"\n",
    "Time: O(1)\n",
    "Space: O(1), no \"extra\" space are used.\n",
    "\"\"\"\n",
    "class Solution(object):\n",
    "    def readBinaryWatch(self, turnedOn):\n",
    "        ans = []\n",
    "        if turnedOn>8: return ans #at most 8 LED are turned on for a valid time.\n",
    "\n",
    "        for h in xrange(12):\n",
    "            for m in xrange(60):\n",
    "                if (bin(h) + bin(m)).count('1')==turnedOn:\n",
    "                    ans.append('%d:%02d' % (h, m))\n",
    "        return ans"
   ]
  },
  {
   "cell_type": "markdown",
   "id": "5ea1c469",
   "metadata": {},
   "source": [
    "# 0401 Easy 401 Binary Watch"
   ]
  },
  {
   "cell_type": "code",
   "execution_count": null,
   "id": "bc27a59a",
   "metadata": {},
   "outputs": [],
   "source": [
    "class Solution(object):\n",
    "    def readBinaryWatch(self, num):\n",
    "        \"\"\"\n",
    "        :type num: int\n",
    "        :rtype: List[str]\n",
    "        \"\"\"\n",
    "        return ['%d:%02d' % (h, m)\n",
    "            for h in range(12) for m in range(60)\n",
    "            if (bin(h) + bin(m)).count('1') == num]"
   ]
  },
  {
   "cell_type": "markdown",
   "id": "10da1ca7",
   "metadata": {},
   "source": [
    "# 0401 Easy 401 Binary Watch"
   ]
  },
  {
   "cell_type": "code",
   "execution_count": null,
   "id": "908b9173",
   "metadata": {},
   "outputs": [],
   "source": [
    "class Solution:\n",
    "    def readBinaryWatch(self, num):\n",
    "        \"\"\"\n",
    "        :type num: int\n",
    "        :rtype: List[str]\n",
    "        \"\"\"\n",
    "        return ['%d:%02d' % (h, m)\n",
    "            for h in range(12) for m in range(60)\n",
    "            if (bin(h) + bin(m)).count('1') == num]"
   ]
  },
  {
   "cell_type": "markdown",
   "id": "cc0cbd7e",
   "metadata": {},
   "source": [
    "# 0404 Easy 404 Sum of Left Leaves"
   ]
  },
  {
   "cell_type": "code",
   "execution_count": null,
   "id": "5925eaaa",
   "metadata": {},
   "outputs": [],
   "source": [
    "# Time:  O(n)\n",
    "# Space: O(h)\n",
    "\n",
    "class Solution(object):\n",
    "    def sumOfLeftLeaves(self, root):\n",
    "        \"\"\"\n",
    "        :type root: TreeNode\n",
    "        :rtype: int\n",
    "        \"\"\"\n",
    "        def sumOfLeftLeavesHelper(root, is_left):\n",
    "            if not root:\n",
    "                return 0\n",
    "            if not root.left and not root.right:\n",
    "                return root.val if is_left else 0\n",
    "            return sumOfLeftLeavesHelper(root.left, True) + \\\n",
    "                   sumOfLeftLeavesHelper(root.right, False)\n",
    "\n",
    "        return sumOfLeftLeavesHelper(root, False)"
   ]
  },
  {
   "cell_type": "markdown",
   "id": "8fe81ed3",
   "metadata": {},
   "source": [
    "# 0404 Easy 404 Sum of Left Leaves"
   ]
  },
  {
   "cell_type": "code",
   "execution_count": null,
   "id": "3f882ca4",
   "metadata": {},
   "outputs": [],
   "source": [
    "# Definition for a binary tree node.\n",
    "# class TreeNode(object):\n",
    "#     def __init__(self, x):\n",
    "#         self.val = x\n",
    "#         self.left = None\n",
    "#         self.right = None\n",
    "\n",
    "class Solution(object):\n",
    "    # def sumOfLeftLeaves(self, root):\n",
    "    #     \"\"\"\n",
    "    #     :type root: TreeNode\n",
    "    #     :rtype: int\n",
    "    #     \"\"\"\n",
    "    #     if root is None:\n",
    "    #         return 0\n",
    "    #     if root.left is not None:\n",
    "    #         if root.left.left is None and root.left.right is None:\n",
    "    #             return root.left.val + self.sumOfLeftLeaves(root.right)\n",
    "    #     return self.sumOfLeftLeaves(root.left) + self.sumOfLeftLeaves(root.right)\n",
    "\n",
    "    def sumOfLeftLeaves(self, root):\n",
    "        stack = [root]\n",
    "        res = 0\n",
    "        while len(stack) > 0:\n",
    "            curr = stack.pop(0)\n",
    "            if curr is not None:\n",
    "                if curr.left is not None:\n",
    "                    if curr.left.left is None and curr.left.right is None:\n",
    "                        res += curr.left.val\n",
    "                stack.insert(0, curr.right)\n",
    "                stack.insert(0, curr.left)\n",
    "        return res"
   ]
  },
  {
   "cell_type": "markdown",
   "id": "e2f92a5b",
   "metadata": {},
   "source": [
    "# 0404 Easy 404 Sum of Left Leaves"
   ]
  },
  {
   "cell_type": "code",
   "execution_count": null,
   "id": "2f7cc345",
   "metadata": {},
   "outputs": [],
   "source": [
    "# Definition for a binary tree node.\n",
    "# class TreeNode:\n",
    "#     def __init__(self, x):\n",
    "#         self.val = x\n",
    "#         self.left = None\n",
    "#         self.right = None\n",
    "\n",
    "class Solution:\n",
    "    def sumOfLeftLeaves(self, root):\n",
    "        \"\"\"\n",
    "        :type root: TreeNode\n",
    "        :rtype: int\n",
    "        \"\"\"\n",
    "        def left(node, sm):\n",
    "            if not node: return\n",
    "            left(node.left,sm)\n",
    "            if node.left:\n",
    "                if not node.left.left and not node.left.right: sm.append(node.left.val)\n",
    "            left(node.right,sm)\n",
    "        otp=list()\n",
    "        left(root,otp)\n",
    "        return sum(otp)"
   ]
  },
  {
   "cell_type": "markdown",
   "id": "149bb25c",
   "metadata": {},
   "source": [
    "# 0405 Easy 405 Convert a Number to Hexadecimal"
   ]
  },
  {
   "cell_type": "code",
   "execution_count": null,
   "id": "b3128e13",
   "metadata": {},
   "outputs": [],
   "source": [
    "# Time:  O(logn)\n",
    "# Space: O(1)\n",
    "\n",
    "class Solution(object):\n",
    "    def toHex(self, num):\n",
    "        \"\"\"\n",
    "        :type num: int\n",
    "        :rtype: str\n",
    "        \"\"\"\n",
    "        if not num:\n",
    "            return \"0\"\n",
    "\n",
    "        result = []\n",
    "        while num and len(result) != 8:\n",
    "            h = num & 15\n",
    "            if h < 10:\n",
    "                result.append(str(chr(ord('0') + h)))\n",
    "            else:\n",
    "                result.append(str(chr(ord('a') + h-10)))\n",
    "            num >>= 4\n",
    "        result.reverse()\n",
    "\n",
    "        return \"\".join(result)"
   ]
  },
  {
   "cell_type": "markdown",
   "id": "2479d64b",
   "metadata": {},
   "source": [
    "# 0405 Easy 405 Convert a Number to Hexadecimal"
   ]
  },
  {
   "cell_type": "code",
   "execution_count": null,
   "id": "2a3b3010",
   "metadata": {},
   "outputs": [],
   "source": [
    "class Solution(object):\n",
    "    def toHex(self, num):\n",
    "        \"\"\"\n",
    "        :type num: int\n",
    "        :rtype: str\n",
    "        \"\"\"\n",
    "        if num == 0:\n",
    "            return '0'\n",
    "        # letter map\n",
    "        mp = '0123456789abcdef'\n",
    "        ans = ''\n",
    "        for _ in range(8):\n",
    "            # get last 4 digits\n",
    "            # num & 1111b\n",
    "            n = num & 15\n",
    "            # hex letter for current 1111\n",
    "            c = mp[n]\n",
    "            ans = c + ans\n",
    "            # num = num / 16\n",
    "            num = num >> 4\n",
    "        #strip leading zeroes\n",
    "        return ans.lstrip('0')\n",
    "    \n",
    "    # def toHex(self, num):\n",
    "    #     def tohex(val, nbits):\n",
    "    #         return hex((val + (1 << nbits)) % (1 << nbits))\n",
    "    #     return tohex(num, 32)[2:]\n",
    "\n",
    "    # def toHex(self, num, h=''):\n",
    "    #     return (not num or h[7:]) and h or self.toHex(num / 16, '0123456789abcdef'[num % 16] + h)"
   ]
  },
  {
   "cell_type": "markdown",
   "id": "6103204f",
   "metadata": {},
   "source": [
    "# 0405 Easy 405 Convert a Number to Hexadecimal"
   ]
  },
  {
   "cell_type": "code",
   "execution_count": null,
   "id": "ec16819e",
   "metadata": {},
   "outputs": [],
   "source": [
    "class Solution:\n",
    "    def toHex(self, num):\n",
    "        if not num: return \"0\"\n",
    "        mp, ans = \"0123456789abcdef\", \"\"\n",
    "        for i in range(8):\n",
    "            n = num & 15       \n",
    "            c = mp[n]          \n",
    "            ans = c + ans\n",
    "            num = num >> 4\n",
    "        return ans.lstrip('0')"
   ]
  },
  {
   "cell_type": "markdown",
   "id": "7e51c3e7",
   "metadata": {},
   "source": [
    "# 0408 Easy 408 Valid Word Abbreviation"
   ]
  },
  {
   "cell_type": "code",
   "execution_count": null,
   "id": "92bbf54e",
   "metadata": {},
   "outputs": [],
   "source": [
    "class Solution(object):\n",
    "    def validWordAbbreviation(self, word, abbr):\n",
    "        #process abbr\n",
    "        splitedAbbr = []\n",
    "        for c in abbr:\n",
    "            if c.isdigit() and splitedAbbr and splitedAbbr[-1][0].isdigit():\n",
    "                splitedAbbr[-1] += c\n",
    "            elif c.isdigit() and c=='0':\n",
    "                return False #leading 0\n",
    "            else:\n",
    "                splitedAbbr.append(c)\n",
    "        for i, c in enumerate(splitedAbbr):\n",
    "            if c[0].isdigit(): splitedAbbr[i] = int(c)\n",
    "                    \n",
    "        i = 0\n",
    "        j = 0\n",
    "        while i<len(word) and j<len(splitedAbbr):\n",
    "            if word[i]==splitedAbbr[j]:\n",
    "                i += 1\n",
    "                j += 1\n",
    "                continue\n",
    "            \n",
    "            if isinstance(splitedAbbr[j], basestring):\n",
    "                return False\n",
    "            else:\n",
    "                splitedAbbr[j] -= 1\n",
    "                if splitedAbbr[j]==0: j += 1\n",
    "                i += 1\n",
    "        \n",
    "        return i==len(word) and j==len(splitedAbbr)"
   ]
  },
  {
   "cell_type": "markdown",
   "id": "0c863bd1",
   "metadata": {},
   "source": [
    "# 0408 Easy 408 Valid Word Abbreviation"
   ]
  },
  {
   "cell_type": "code",
   "execution_count": null,
   "id": "fe720b5f",
   "metadata": {},
   "outputs": [],
   "source": [
    "class Solution(object):\n",
    "    # def validWordAbbreviation(self, word, abbr):\n",
    "    #     \"\"\"\n",
    "    #     :type word: str\n",
    "    #     :type abbr: str\n",
    "    #     :rtype: bool\n",
    "    #     \"\"\"\n",
    "    #     if word == abbr:\n",
    "    #         return True\n",
    "    #     pos1 = pos2 = 0\n",
    "    #     curr = 0\n",
    "    #     while pos1 < len(abbr) and pos2 < len(word):\n",
    "    #         try:\n",
    "    #             num = int(abbr[pos1])\n",
    "    #             # start with 0\n",
    "    #             if num == 0 and curr == 0:\n",
    "    #                 return False\n",
    "    #             curr = curr * 10 + num\n",
    "    #         except ValueError:\n",
    "    #             if curr > 0:\n",
    "    #                 pos2 += curr\n",
    "    #             # when number exceeds the end of word\n",
    "    #             if pos2 >= len(word):\n",
    "    #                 return False\n",
    "    #             curr = 0\n",
    "    #             if abbr[pos1] != word[pos2]:\n",
    "    #                 return False\n",
    "    #             pos2 += 1\n",
    "    #         pos1 += 1\n",
    "    #     # abbr ends with number\n",
    "    #     if curr > 0:\n",
    "    #         pos2 += curr\n",
    "    #     if pos1 == len(abbr) and pos2 == len(word):\n",
    "    #         return True\n",
    "    #     return False\n",
    "    def validWordAbbreviation(self, word, abbr):\n",
    "        pos = curr = 0\n",
    "        for i in range(len(abbr)):\n",
    "            try:\n",
    "                num = int(abbr[i])\n",
    "                if num == 0 and curr == 0:\n",
    "                    return False\n",
    "                curr = curr * 10 + num\n",
    "            except ValueError:\n",
    "                pos += curr\n",
    "                curr = 0\n",
    "                if pos >= len(word):\n",
    "                    return False\n",
    "                if word[pos] != abbr[i]:\n",
    "                    return False\n",
    "                pos += 1\n",
    "        pos += curr\n",
    "        if pos == len(word):\n",
    "            return True\n",
    "        return False\n",
    "\n",
    "\n",
    "        "
   ]
  },
  {
   "cell_type": "markdown",
   "id": "5dc92b21",
   "metadata": {},
   "source": [
    "# 0408 Easy 408 Valid Word Abbreviation"
   ]
  },
  {
   "cell_type": "code",
   "execution_count": null,
   "id": "0025cb83",
   "metadata": {},
   "outputs": [],
   "source": [
    "class Solution:\n",
    "    def validWordAbbreviation(self, word: str, abbr: str) -> bool:\n",
    "        i = num = 0\n",
    "        for c in abbr:\n",
    "            if c.isdigit():\n",
    "                if num == 0 and c == '0':\n",
    "                    return False\n",
    "                num = num * 10 + int(c)\n",
    "            else:\n",
    "                if num:\n",
    "                    #print(i, num)\n",
    "                    i += num \n",
    "                    num = 0\n",
    "                if i >= len(word) or word[i] != c:\n",
    "                    #print(i, c)\n",
    "                    return False\n",
    "                i += 1\n",
    "        return i == len(word) if num == 0 else i + num == len(word)"
   ]
  },
  {
   "cell_type": "markdown",
   "id": "de1ef6f1",
   "metadata": {},
   "source": [
    "# 0409 Easy 409 Longest Palindrome"
   ]
  },
  {
   "cell_type": "code",
   "execution_count": null,
   "id": "211a903c",
   "metadata": {},
   "outputs": [],
   "source": [
    "# Time:  O(n)\n",
    "# Space: O(1)\n",
    "\n",
    "import collections\n",
    "\n",
    "\n",
    "class Solution(object):\n",
    "    def longestPalindrome(self, s):\n",
    "        \"\"\"\n",
    "        :type s: str\n",
    "        :rtype: int\n",
    "        \"\"\"\n",
    "        odds = 0\n",
    "        for k, v in collections.Counter(s).iteritems():\n",
    "            odds += v & 1\n",
    "        return len(s) - odds + int(odds > 0)\n",
    "\n",
    "    def longestPalindrome2(self, s):\n",
    "        \"\"\"\n",
    "        :type s: str\n",
    "        :rtype: int\n",
    "        \"\"\"\n",
    "        odd = sum(map(lambda x: x & 1, collections.Counter(s).values()))\n",
    "        return len(s) - odd + int(odd > 0)"
   ]
  },
  {
   "cell_type": "markdown",
   "id": "fde8a4c4",
   "metadata": {},
   "source": [
    "# 0409 Easy 409 Longest Palindrome"
   ]
  },
  {
   "cell_type": "code",
   "execution_count": null,
   "id": "939372c9",
   "metadata": {},
   "outputs": [],
   "source": [
    "class Solution:\n",
    "    # https://leetcode.com/problems/longest-palindrome/solution/\n",
    "    # def longestPalindrome(self, s):\n",
    "    #     ans = 0\n",
    "    #     for v in collections.Counter(s).itervalues():\n",
    "    #         ans += v / 2 * 2\n",
    "    #         if ans % 2 == 0 and v % 2 == 1:\n",
    "    #             ans += 1\n",
    "    #     return ans\n",
    "    def longestPalindrome(self, s):\n",
    "        ans = 0\n",
    "        char_map = {}\n",
    "        for c in s:\n",
    "            char_map[c] = char_map.get(c, 0) + 1\n",
    "        for c in char_map.keys():\n",
    "            if char_map[c] % 2 == 0:\n",
    "                ans += char_map.pop(c)\n",
    "            else:\n",
    "                ans += char_map[c] / 2 * 2\n",
    "        if len(char_map) != 0:\n",
    "            ans += 1\n",
    "        return ans"
   ]
  },
  {
   "cell_type": "markdown",
   "id": "0ce57ae1",
   "metadata": {},
   "source": [
    "# 0409 Easy 409 Longest Palindrome"
   ]
  },
  {
   "cell_type": "code",
   "execution_count": null,
   "id": "045c64ca",
   "metadata": {},
   "outputs": [],
   "source": [
    "class Solution:\n",
    "    def longestPalindrome(self, s):\n",
    "        \"\"\"\n",
    "        :type s: str\n",
    "        :rtype: int\n",
    "        \"\"\"\n",
    "        from collections import Counter\n",
    "        out=even=sum(v for k,v in Counter(s).items() if v%2==0)\n",
    "        odd_big=[v for k,v in Counter(s).items() if v%2!=0 and v>1]\n",
    "        odd_small=[v for k,v in Counter(s).items() if v==1]\n",
    "        if len(odd_big)==1: out+=odd_big[0]\n",
    "        else:\n",
    "            out+=sum(odd_big)-len(odd_big)+1  \n",
    "            if len(odd_small)==0 and len(odd_big)==0: out-=1\n",
    "        return out"
   ]
  },
  {
   "cell_type": "markdown",
   "id": "92b65223",
   "metadata": {},
   "source": [
    "# 0412 Easy 412 Fizz Buzz"
   ]
  },
  {
   "cell_type": "code",
   "execution_count": null,
   "id": "47390fd4",
   "metadata": {},
   "outputs": [],
   "source": [
    "#https://leetcode.com/problems/fizz-buzz/\n",
    "class Solution(object):\n",
    "    def fizzBuzz(self, n):\n",
    "        nums = []\n",
    "        for num in range(1, n+1):\n",
    "            \n",
    "            if num%3==0 and num%5==0:\n",
    "                nums.append('FizzBuzz')\n",
    "            elif num%3==0:\n",
    "                nums.append('Fizz')\n",
    "            elif num%5==0:\n",
    "                nums.append('Buzz')\n",
    "            else:\n",
    "                nums.append(str(num))\n",
    "\n",
    "        return nums"
   ]
  },
  {
   "cell_type": "markdown",
   "id": "03673c14",
   "metadata": {},
   "source": [
    "# 0412 Easy 412 Fizz Buzz"
   ]
  },
  {
   "cell_type": "code",
   "execution_count": null,
   "id": "976d1b99",
   "metadata": {},
   "outputs": [],
   "source": [
    "class Solution(object):\n",
    "    # def fizzBuzz(self, n):\n",
    "    #     \"\"\"\n",
    "    #     :type n: int\n",
    "    #     :rtype: List[str]\n",
    "    #     \"\"\"\n",
    "    #     res = []\n",
    "    #     for i in range(1, n + 1):\n",
    "    #         if i % 3 == 0:\n",
    "    #             if i % 5 == 0:\n",
    "    #                 res.append('FizzBuzz')\n",
    "    #             else:\n",
    "    #                 res.append('Fizz')\n",
    "    #         elif i % 5 == 0:\n",
    "    #             res.append('Buzz')\n",
    "    #         else:\n",
    "    #             res.append(str(i))\n",
    "    #     return res\n",
    "\n",
    "    # def fizzBuzz(self, n):\n",
    "    #     \"\"\"\n",
    "    #     :type n: int\n",
    "    #     :rtype: List[str]\n",
    "    #     \"\"\"\n",
    "    #     res = []\n",
    "    #     for i in range(1, n + 1):\n",
    "    #         curr = ''\n",
    "    #         if i % 3 == 0:\n",
    "    #             curr += 'Fizz'\n",
    "    #         if i % 5 == 0:\n",
    "    #             curr += 'Buzz'\n",
    "    #         if not len(curr):\n",
    "    #             curr += str(i)\n",
    "    #         res.append(curr)\n",
    "    #     return res\n",
    "\n",
    "    def fizzBuzz(self, n):\n",
    "        return [str(i) * (i % 3 != 0 and i % 5 != 0) + \"Fizz\" * (i % 3 == 0) + \"Buzz\" * (i % 5 == 0) \n",
    "                for i in range(1, n + 1)]\n",
    "    \n",
    "    # def fizzBuzz(self, n):\n",
    "    #     return ['Fizz' * (not i % 3) + 'Buzz' * (not i % 5) or str(i) for i in range(1, n+1)]"
   ]
  },
  {
   "cell_type": "markdown",
   "id": "bd27ce7e",
   "metadata": {},
   "source": [
    "# 0412 Easy 412 Fizz Buzz"
   ]
  },
  {
   "cell_type": "code",
   "execution_count": null,
   "id": "c561d4e7",
   "metadata": {},
   "outputs": [],
   "source": [
    "class Solution:\n",
    "    def fizzBuzz(self, n):\n",
    "        \"\"\"\n",
    "        :type n: int\n",
    "        :rtype: List[str]\n",
    "        \"\"\"\n",
    "        num = []\n",
    "        for i in range(1, n + 1):\n",
    "            if i % 3 == 0 and i % 5 == 0:\n",
    "                num.append(\"FizzBuzz\")\n",
    "            elif i % 3 == 0:\n",
    "                num.append(\"Fizz\")\n",
    "            elif i % 5 == 0:\n",
    "                num.append(\"Buzz\")\n",
    "            else:\n",
    "                num.append(str(i))\n",
    "        return num"
   ]
  },
  {
   "cell_type": "markdown",
   "id": "2fe3246e",
   "metadata": {},
   "source": [
    "# 0414 Easy 414 Third Maximum Number"
   ]
  },
  {
   "cell_type": "code",
   "execution_count": null,
   "id": "7731830f",
   "metadata": {},
   "outputs": [],
   "source": [
    "# Time:  O(n)\n",
    "# Space: O(1)\n",
    "\n",
    "class Solution(object):\n",
    "    def thirdMax(self, nums):\n",
    "        \"\"\"\n",
    "        :type nums: List[int]\n",
    "        :rtype: int\n",
    "        \"\"\"\n",
    "        count = 0\n",
    "        top = [float(\"-inf\")] * 3\n",
    "        for num in nums:\n",
    "            if num > top[0]:\n",
    "                top[0], top[1], top[2] = num, top[0], top[1]\n",
    "                count += 1\n",
    "            elif num != top[0] and num > top[1]:\n",
    "                top[1], top[2] = num, top[1]\n",
    "                count += 1\n",
    "            elif num != top[0] and num != top[1] and num >= top[2]:\n",
    "                top[2] = num\n",
    "                count += 1\n",
    "\n",
    "        if count < 3:\n",
    "            return top[0]\n",
    "\n",
    "        return top[2]"
   ]
  },
  {
   "cell_type": "markdown",
   "id": "da20229b",
   "metadata": {},
   "source": [
    "# 0414 Easy 414 Third Maximum Number"
   ]
  },
  {
   "cell_type": "code",
   "execution_count": null,
   "id": "16b32d1a",
   "metadata": {},
   "outputs": [],
   "source": [
    "class Solution(object):\n",
    "    def thirdMax(self, nums):\n",
    "        \"\"\"\n",
    "        :type nums: List[int]\n",
    "        :rtype: int\n",
    "        \"\"\"\n",
    "        import Queue\n",
    "        pq = Queue.PriorityQueue(4)\n",
    "        check = set()\n",
    "        for n in nums:\n",
    "            if n in check:\n",
    "                continue\n",
    "            pq.put(n)\n",
    "            check.add(n)\n",
    "            if len(check) > 3:\n",
    "                check.remove(pq.get())\n",
    "        total = len(check)\n",
    "        while total < 3 and total > 1:\n",
    "            total -= 1\n",
    "        return pq.get()"
   ]
  },
  {
   "cell_type": "markdown",
   "id": "8452989c",
   "metadata": {},
   "source": [
    "# 0414 Easy 414 Third Maximum Number"
   ]
  },
  {
   "cell_type": "code",
   "execution_count": null,
   "id": "343ae93e",
   "metadata": {},
   "outputs": [],
   "source": [
    "class Solution:\n",
    "    def thirdMax(self, nums):\n",
    "        \"\"\"\n",
    "        :type nums: List[int]\n",
    "        :rtype: int\n",
    "        \"\"\"\n",
    "        s=list(set(nums))\n",
    "        if s[-1]<s[0]: s=[item for item in s if item>=0]\n",
    "        if len(s)>=3: return s[-3]\n",
    "        else: return s[-1] "
   ]
  },
  {
   "cell_type": "markdown",
   "id": "0fb7c6cf",
   "metadata": {},
   "source": [
    "# 0415 Easy 415 Add Strings"
   ]
  },
  {
   "cell_type": "code",
   "execution_count": null,
   "id": "9f87eea2",
   "metadata": {},
   "outputs": [],
   "source": [
    "class Solution(object):\n",
    "    def addStrings(self, nums1, nums2):\n",
    "        ans = ''\n",
    "        i = len(nums1)-1\n",
    "        j = len(nums2)-1\n",
    "        \n",
    "        carry = 0\n",
    "        while 0<=i and 0<=j:\n",
    "            n1 = int(nums1[i])\n",
    "            n2 = int(nums2[j])\n",
    "            total = n1+n2+carry\n",
    "            n = total%10\n",
    "            carry = 1 if total>=10 else 0\n",
    "            ans = str(n)+ans\n",
    "            i -= 1\n",
    "            j -= 1\n",
    "        \n",
    "        while 0<=i:\n",
    "            total = int(nums1[i])+carry\n",
    "            n = total%10\n",
    "            carry = 1 if total>=10 else 0\n",
    "            ans = str(n)+ans\n",
    "            i -= 1\n",
    "        \n",
    "        while 0<=j:\n",
    "            total = int(nums2[j])+carry\n",
    "            n = total%10\n",
    "            carry = 1 if total>=10 else 0\n",
    "            ans = str(n)+ans\n",
    "            j -= 1\n",
    "        \n",
    "        if carry: ans = str(carry)+ans\n",
    "        \n",
    "        return ans"
   ]
  },
  {
   "cell_type": "markdown",
   "id": "ad094e5d",
   "metadata": {},
   "source": [
    "# 0415 Easy 415 Add Strings"
   ]
  },
  {
   "cell_type": "code",
   "execution_count": null,
   "id": "3ebcf43a",
   "metadata": {},
   "outputs": [],
   "source": [
    "class Solution(object):\n",
    "    # def addStrings(self, num1, num2):\n",
    "    #     \"\"\"\n",
    "    #     :type num1: str\n",
    "    #     :type num2: str\n",
    "    #     :rtype: str\n",
    "    #     \"\"\"\n",
    "    #     if num1 is None:\n",
    "    #         num1 = '0'\n",
    "    #     if num2 is None:\n",
    "    #         num2 = '0'\n",
    "    #     res = []\n",
    "    #     carry = 0\n",
    "    #     ls = min(len(num1), len(num2))\n",
    "    #     pos = -1\n",
    "    #     while pos + ls >= 0:\n",
    "    #         curr = int(num1[pos]) + int(num2[pos]) + carry\n",
    "    #         res.insert(0, str(curr % 10))\n",
    "    #         carry = curr / 10\n",
    "    #         pos -= 1\n",
    "    #     while pos + len(num1) >= 0:\n",
    "    #         curr = int(num1[pos]) + carry\n",
    "    #         res.insert(0, str(curr % 10))\n",
    "    #         carry = curr / 10\n",
    "    #         pos -= 1\n",
    "    #     while pos + len(num2) >= 0:\n",
    "    #         curr = int(num2[pos]) + carry\n",
    "    #         res.insert(0, str(curr % 10))\n",
    "    #         carry = curr / 10\n",
    "    #         pos -= 1\n",
    "    #     if carry != 0:\n",
    "    #         res.insert(0, str(carry))\n",
    "    #     return ''.join(res)\n",
    "\n",
    "    def addStrings(self, num1, num2):\n",
    "        res = []\n",
    "        pos1 = len(num1) - 1\n",
    "        pos2 = len(num2) - 1\n",
    "        carry = 0\n",
    "        # This conditon is great\n",
    "        # https://leetcode.com/problems/add-strings/discuss/90436/Straightforward-Java-8-main-lines-25ms\n",
    "        while pos1 >= 0 or pos2 >= 0 or carry == 1:\n",
    "            digit1 = digit2 = 0\n",
    "            if pos1 >= 0:\n",
    "                digit1 = ord(num1[pos1]) - ord('0')\n",
    "            if pos2 >= 0:\n",
    "                digit2 = ord(num2[pos2]) - ord('0')\n",
    "            res.append(str((digit1 + digit2 + carry) % 10))\n",
    "            carry = (digit1 + digit2 + carry) / 10\n",
    "            pos1 -= 1\n",
    "            pos2 -= 1\n",
    "        # reverse res\n",
    "        return ''.join(res[::-1])"
   ]
  },
  {
   "cell_type": "markdown",
   "id": "f37749e1",
   "metadata": {},
   "source": [
    "# 0415 Easy 415 Add Strings"
   ]
  },
  {
   "cell_type": "code",
   "execution_count": null,
   "id": "ac009e19",
   "metadata": {},
   "outputs": [],
   "source": [
    "class Solution:\n",
    "    def addStrings(self, num1, num2):\n",
    "        \"\"\"\n",
    "        :type num1: str\n",
    "        :type num2: str\n",
    "        :rtype: str\n",
    "        \"\"\"\n",
    "        return \"\".join(str(sum([(ord(num1[i])-ord(\"0\"))*(10**(len(num1)-1-i)) for i in range(len(num1))]+[(ord(num2[i])-ord(\"0\"))*(10**(len(num2)-1-i)) for i in range(len(num2))])))"
   ]
  },
  {
   "cell_type": "markdown",
   "id": "a65ec9ff",
   "metadata": {},
   "source": [
    "# 0422 Easy 422 Valid Word Square"
   ]
  },
  {
   "cell_type": "code",
   "execution_count": null,
   "id": "4c9d9e76",
   "metadata": {},
   "outputs": [],
   "source": [
    "# Time:  O(m * n)\n",
    "# Space: O(1)\n",
    "\n",
    "class Solution(object):\n",
    "    def validWordSquare(self, words):\n",
    "        \"\"\"\n",
    "        :type words: List[str]\n",
    "        :rtype: bool\n",
    "        \"\"\"\n",
    "        for i in xrange(len(words)):\n",
    "            for j in xrange(len(words[i])):\n",
    "                if j >= len(words) or i >= len(words[j]) or \\\n",
    "                   words[j][i] != words[i][j]:\n",
    "                   return False\n",
    "        return True"
   ]
  },
  {
   "cell_type": "markdown",
   "id": "9985f723",
   "metadata": {},
   "source": [
    "# 0422 Easy 422 Valid Word Square"
   ]
  },
  {
   "cell_type": "code",
   "execution_count": null,
   "id": "1f71e429",
   "metadata": {},
   "outputs": [],
   "source": [
    "class Solution(object):\n",
    "    def validWordSquare(self, words):\n",
    "        \"\"\"\n",
    "        :type words: List[str]\n",
    "        :rtype: bool\n",
    "        \"\"\"\n",
    "        if words is None or len(words) == 0:\n",
    "            return True\n",
    "        ls = len(words)\n",
    "        for i in range(ls):\n",
    "            for j in range(1, len(words[i])):\n",
    "                if j >= ls:\n",
    "                    return False\n",
    "                if i >= len(words[j]):\n",
    "                    return False\n",
    "                if words[i][j] != words[j][i]:\n",
    "                    return False\n",
    "        return True\n",
    "\n",
    "    # def validWordSquare(self, words):\n",
    "    #     # https://discuss.leetcode.com/topic/63423/1-liner-python/2\n",
    "    #     # The map(None, ...) transposes the \"matrix\", filling missing spots with None\n",
    "    #     return map(None, *words) == map(None, *map(None, *words))"
   ]
  },
  {
   "cell_type": "markdown",
   "id": "a8038ab9",
   "metadata": {},
   "source": [
    "# 0422 Easy 422 Valid Word Square"
   ]
  },
  {
   "cell_type": "code",
   "execution_count": null,
   "id": "ec14e0ec",
   "metadata": {},
   "outputs": [],
   "source": [
    "class Solution:\n",
    "    def validWordSquare(self, words):\n",
    "        for j, row in enumerate(words):\n",
    "            col = \"\"\n",
    "            for s in words:\n",
    "                try: col += s[j]\n",
    "                except: break\n",
    "            if row != col: return False\n",
    "        return True"
   ]
  },
  {
   "cell_type": "markdown",
   "id": "4827de02",
   "metadata": {},
   "source": [
    "# 0434 Easy 434 Number of Segments in a String"
   ]
  },
  {
   "cell_type": "code",
   "execution_count": null,
   "id": "9ea10c2c",
   "metadata": {},
   "outputs": [],
   "source": [
    "# Time:  O(n)\n",
    "# Space: O(1)\n",
    "\n",
    "class Solution(object):\n",
    "    def countSegments(self, s):\n",
    "        \"\"\"\n",
    "        :type s: str\n",
    "        :rtype: int\n",
    "        \"\"\"\n",
    "        result = int(len(s) and s[-1] != ' ')\n",
    "        for i in xrange(1, len(s)):\n",
    "            if s[i] == ' ' and s[i-1] != ' ':\n",
    "                result += 1\n",
    "        return result\n",
    "\n",
    "    def countSegments2(self, s):\n",
    "        \"\"\"\n",
    "        :type s: str\n",
    "        :rtype: int\n",
    "        \"\"\"\n",
    "        return len([i for i in s.strip().split(' ') if i])"
   ]
  },
  {
   "cell_type": "markdown",
   "id": "04d6146e",
   "metadata": {},
   "source": [
    "# 0434 Easy 434 Number of Segments in a String"
   ]
  },
  {
   "cell_type": "code",
   "execution_count": null,
   "id": "6b78fdc3",
   "metadata": {},
   "outputs": [],
   "source": [
    "class Solution(object):\n",
    "    # https://leetcode.com/problems/number-of-segments-in-a-string/solution/\n",
    "    # def countSegments(self, s):\n",
    "    #     \"\"\"\n",
    "    #     :type s: str\n",
    "    #     :rtype: int\n",
    "    #     \"\"\"\n",
    "    #     return len(s.split())\n",
    "\n",
    "    def countSegments(self, s):\n",
    "         segment_count = 0\n",
    "        for i in range(len(s)):\n",
    "            if (i == 0 or s[i-1] == ' ') and s[i] != ' ':\n",
    "                segment_count += 1\n",
    "\n",
    "        return segment_count"
   ]
  },
  {
   "cell_type": "markdown",
   "id": "d2dff3b3",
   "metadata": {},
   "source": [
    "# 0434 Easy 434 Number of Segments in a String"
   ]
  },
  {
   "cell_type": "code",
   "execution_count": null,
   "id": "1b768843",
   "metadata": {},
   "outputs": [],
   "source": [
    "class Solution:\n",
    "    def countSegments(self, s):\n",
    "        \"\"\"\n",
    "        :type s: str\n",
    "        :rtype: int\n",
    "        \"\"\"\n",
    "        return len(s.split())\n",
    "        "
   ]
  },
  {
   "cell_type": "markdown",
   "id": "0a4eebed",
   "metadata": {},
   "source": [
    "# 0441 Easy 441 Arranging Coins"
   ]
  },
  {
   "cell_type": "code",
   "execution_count": null,
   "id": "8ef01e66",
   "metadata": {},
   "outputs": [],
   "source": [
    "# Time:  O(logn)\n",
    "# Space: O(1)\n",
    "\n",
    "import math\n",
    "\n",
    "\n",
    "class Solution(object):\n",
    "    def arrangeCoins(self, n):\n",
    "        \"\"\"\n",
    "        :type n: int\n",
    "        :rtype: int\n",
    "        \"\"\"\n",
    "        return int((math.sqrt(8*n+1)-1) / 2)  # sqrt is O(logn) time.\n",
    "\n",
    "\n",
    "# Time:  O(logn)\n",
    "# Space: O(1)\n",
    "class Solution2(object):\n",
    "    def arrangeCoins(self, n):\n",
    "        \"\"\"\n",
    "        :type n: int\n",
    "        :rtype: int\n",
    "        \"\"\"\n",
    "        def check(mid, n):\n",
    "            return mid*(mid+1) <= 2*n\n",
    "\n",
    "        left, right = 1, n\n",
    "        while left <= right:\n",
    "            mid = left + (right-left)//2\n",
    "            if not check(mid, n):\n",
    "                right = mid-1\n",
    "            else:\n",
    "                left = mid+1\n",
    "        return right"
   ]
  },
  {
   "cell_type": "markdown",
   "id": "5e3787af",
   "metadata": {},
   "source": [
    "# 0441 Easy 441 Arranging Coins"
   ]
  },
  {
   "cell_type": "code",
   "execution_count": null,
   "id": "a16bbec8",
   "metadata": {},
   "outputs": [],
   "source": [
    "class Solution(object):\n",
    "    def arrangeCoins(self, n):\n",
    "        level = 0\n",
    "        while n > level:\n",
    "            level += 1\n",
    "            n -= level\n",
    "        return level"
   ]
  },
  {
   "cell_type": "markdown",
   "id": "af2400c3",
   "metadata": {},
   "source": [
    "# 0441 Easy 441 Arranging Coins"
   ]
  },
  {
   "cell_type": "code",
   "execution_count": null,
   "id": "e9de3299",
   "metadata": {},
   "outputs": [],
   "source": [
    "class Solution:\n",
    "    def arrangeCoins(self, n: int) -> int:\n",
    "        sm = res = 0\n",
    "        for i in range(1, n + 1):\n",
    "            sm += i\n",
    "            if sm > n:\n",
    "                break\n",
    "            res += 1\n",
    "        return res"
   ]
  },
  {
   "cell_type": "markdown",
   "id": "46363a13",
   "metadata": {},
   "source": [
    "# 0448 Easy 448 Find All Numbers Disappeared in an Array"
   ]
  },
  {
   "cell_type": "code",
   "execution_count": null,
   "id": "3e618eaf",
   "metadata": {},
   "outputs": [],
   "source": [
    "# Time:  O(n)\n",
    "# Space: O(1)\n",
    "\n",
    "class Solution(object):\n",
    "    def findDisappearedNumbers(self, nums):\n",
    "        \"\"\"\n",
    "        :type nums: List[int]\n",
    "        :rtype: List[int]\n",
    "        \"\"\"\n",
    "        for i in xrange(len(nums)):\n",
    "            if nums[abs(nums[i]) - 1] > 0:\n",
    "                nums[abs(nums[i]) - 1] *= -1\n",
    "\n",
    "        result = []\n",
    "        for i in xrange(len(nums)):\n",
    "            if nums[i] > 0:\n",
    "                result.append(i+1)\n",
    "            else:\n",
    "                nums[i] *= -1\n",
    "        return result\n",
    "\n",
    "    def findDisappearedNumbers2(self, nums):\n",
    "        \"\"\"\n",
    "        :type nums: List[int]\n",
    "        :rtype: List[int]\n",
    "        \"\"\"\n",
    "        return list(set(range(1, len(nums) + 1)) - set(nums))\n",
    "\n",
    "    def findDisappearedNumbers3(self, nums):\n",
    "        for i in range(len(nums)):\n",
    "            index = abs(nums[i]) - 1\n",
    "            nums[index] = - abs(nums[index])\n",
    "\n",
    "        return [i + 1 for i in range(len(nums)) if nums[i] > 0]"
   ]
  },
  {
   "cell_type": "markdown",
   "id": "ef97c8ed",
   "metadata": {},
   "source": [
    "# 0448 Easy 448 Find All Numbers Disappeared in an Array"
   ]
  },
  {
   "cell_type": "code",
   "execution_count": null,
   "id": "5b6a0e33",
   "metadata": {},
   "outputs": [],
   "source": [
    "class Solution(object):\n",
    "    def findDisappearedNumbers(self, nums):\n",
    "        \"\"\"\n",
    "        :type nums: List[int]\n",
    "        :rtype: List[int]\n",
    "        \"\"\"\n",
    "        # https://leetcode.com/problems/find-all-numbers-disappeared-in-an-array/discuss/92956/Java-accepted-simple-solution\n",
    "        res = []\n",
    "        if nums:\n",
    "            n = len(nums)\n",
    "            for i in range(n):\n",
    "                val = abs(nums[i]) - 1\n",
    "                if nums[val] > 0:\n",
    "                    nums[val] = -nums[val]\n",
    "            for i in range(n):\n",
    "                if nums[i] > 0:\n",
    "                    res.append(i + 1)\n",
    "        return res"
   ]
  },
  {
   "cell_type": "markdown",
   "id": "9aa4210a",
   "metadata": {},
   "source": [
    "# 0448 Easy 448 Find All Numbers Disappeared in an Array"
   ]
  },
  {
   "cell_type": "code",
   "execution_count": null,
   "id": "065197f5",
   "metadata": {},
   "outputs": [],
   "source": [
    "class Solution:\n",
    "    def findDisappearedNumbers(self, nums):\n",
    "        \"\"\"\n",
    "        :type nums: List[int]\n",
    "        :rtype: List[int]\n",
    "        \"\"\"\n",
    "        return [x for x in set([i for i in range(1,len(nums)+1)])-set(nums)]"
   ]
  },
  {
   "cell_type": "markdown",
   "id": "f4e22712",
   "metadata": {},
   "source": [
    "# 0455 Easy 455 Assign Cookies"
   ]
  },
  {
   "cell_type": "code",
   "execution_count": null,
   "id": "d3cb90cd",
   "metadata": {},
   "outputs": [],
   "source": [
    "# Time:  O(nlogn)\n",
    "# Space: O(1)\n",
    "\n",
    "\n",
    "class Solution(object):\n",
    "    def findContentChildren(self, g, s):\n",
    "        \"\"\"\n",
    "        :type g: List[int]\n",
    "        :type s: List[int]\n",
    "        :rtype: int\n",
    "        \"\"\"\n",
    "        g.sort()\n",
    "        s.sort()\n",
    "\n",
    "        result, i = 0, 0\n",
    "        for j in xrange(len(s)):\n",
    "            if i == len(g):\n",
    "                break\n",
    "            if s[j] >= g[i]:\n",
    "                result += 1\n",
    "                i += 1\n",
    "        return result"
   ]
  },
  {
   "cell_type": "markdown",
   "id": "31223f1b",
   "metadata": {},
   "source": [
    "# 0455 Easy 455 Assign Cookies"
   ]
  },
  {
   "cell_type": "code",
   "execution_count": null,
   "id": "b12eaeee",
   "metadata": {},
   "outputs": [],
   "source": [
    "class Solution:\n",
    "    def findContentChildren(self, g, s):\n",
    "        g.sort(reverse = True); s.sort(reverse = True); res = 0\n",
    "        while s and g:\n",
    "            if g[-1] <= s[-1]: res += 1; g.pop(); s.pop()\n",
    "            else: s.pop()\n",
    "        return res"
   ]
  },
  {
   "cell_type": "markdown",
   "id": "73ae3f3d",
   "metadata": {},
   "source": [
    "# 0459 Easy 459 Repeated Substring Pattern"
   ]
  },
  {
   "cell_type": "code",
   "execution_count": null,
   "id": "f4a496e9",
   "metadata": {},
   "outputs": [],
   "source": [
    "# Time:  O(n)\n",
    "# Space: O(n)\n",
    "\n",
    "class Solution(object):\n",
    "    def repeatedSubstringPattern(self, str):\n",
    "        \"\"\"\n",
    "        :type str: str\n",
    "        :rtype: bool\n",
    "        \"\"\"\n",
    "        def getPrefix(pattern):\n",
    "            prefix = [-1] * len(pattern)\n",
    "            j = -1\n",
    "            for i in xrange(1, len(pattern)):\n",
    "                while j > -1 and pattern[j + 1] != pattern[i]:\n",
    "                    j = prefix[j]\n",
    "                if pattern[j + 1] == pattern[i]:\n",
    "                    j += 1\n",
    "                prefix[i] = j\n",
    "            return prefix\n",
    "\n",
    "        prefix = getPrefix(str)\n",
    "        return prefix[-1] != -1 and \\\n",
    "               (prefix[-1] + 1) % (len(str) - prefix[-1] - 1) == 0\n",
    "\n",
    "    def repeatedSubstringPattern2(self, str):\n",
    "        \"\"\"\n",
    "        :type str: str\n",
    "        :rtype: bool\n",
    "        \"\"\"\n",
    "        if not str:\n",
    "            return False\n",
    "\n",
    "        ss = (str + str)[1:-1]\n",
    "        return ss.find(str) != -1"
   ]
  },
  {
   "cell_type": "markdown",
   "id": "d94a0da7",
   "metadata": {},
   "source": [
    "# 0459 Easy 459 Repeated Substring Pattern"
   ]
  },
  {
   "cell_type": "code",
   "execution_count": null,
   "id": "d412830d",
   "metadata": {},
   "outputs": [],
   "source": [
    "class Solution:\n",
    "    def repeatedSubstringPattern(self, s):\n",
    "        \"\"\"\n",
    "        :type s: str\n",
    "        :rtype: bool\n",
    "        \"\"\"\n",
    "        return True if len(s)>1 and (s in [s[:i]*(len(s)//i) for i in range(2,len(s)) if len(s)%i==0]  or s==s[0]*len(s)) else False "
   ]
  }
 ],
 "metadata": {},
 "nbformat": 4,
 "nbformat_minor": 5
}
