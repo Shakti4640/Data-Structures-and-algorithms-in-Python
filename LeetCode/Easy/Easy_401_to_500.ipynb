{
 "cells": [
  {
   "cell_type": "markdown",
   "id": "f4ced2dd",
   "metadata": {},
   "source": [
    "# 0680 Easy 680 Valid Palindrome II"
   ]
  },
  {
   "cell_type": "code",
   "execution_count": null,
   "id": "141066ec",
   "metadata": {},
   "outputs": [],
   "source": [
    "\"\"\"\n",
    "When seeing the first different chars in the string.\n",
    "Check if anyone of the string is palindrome if we remove one of them.\n",
    "\n",
    "Time: O(N)\n",
    "Space: O(1)\n",
    "\"\"\"\n",
    "class Solution(object):\n",
    "    def validPalindrome(self, s):\n",
    "        def isPalindrome(s):\n",
    "            i = 0\n",
    "            j = len(s)-1\n",
    "            while i<j:\n",
    "                if s[i]!=s[j]: return False\n",
    "                i += 1\n",
    "                j -= 1\n",
    "            return True\n",
    "        \n",
    "        i = 0\n",
    "        j = len(s)-1\n",
    "        \n",
    "        while i<j:\n",
    "            if s[i]==s[j]:\n",
    "                i += 1\n",
    "                j -= 1\n",
    "            else:\n",
    "                return isPalindrome(s[i:j]) or isPalindrome(s[i+1:j+1])\n",
    "            \n",
    "        return True"
   ]
  },
  {
   "cell_type": "markdown",
   "id": "6e9556a2",
   "metadata": {},
   "source": [
    "# 0680 Easy 680 Valid Palindrome II"
   ]
  },
  {
   "cell_type": "code",
   "execution_count": null,
   "id": "afe2d1a6",
   "metadata": {},
   "outputs": [],
   "source": [
    "class Solution(object):\n",
    "    # def validPalindrome(self, s):\n",
    "    #     \"\"\"\n",
    "    #     :type s: str\n",
    "    #     :rtype: bool\n",
    "    #     \"\"\"\n",
    "    #     def is_pali_range(i, j):\n",
    "    #         return all(s[k] == s[j - k + i] for k in range(i, j))\n",
    "\n",
    "    #     for i in xrange(len(s) / 2):\n",
    "    #         if s[i] != s[~i]:\n",
    "    #             j = len(s) - 1 - i\n",
    "    #             return is_pali_range(i + 1, j) or is_pali_range(i, j - 1)\n",
    "    #     return True\n",
    "\n",
    "    # Actually we can make this solution more general\n",
    "    def validPalindrome(self, s):\n",
    "        return self.validPalindromeHelper(s, 0, len(s) - 1, 1)\n",
    "\n",
    "    def validPalindromeHelper(self, s, left, right, budget):\n",
    "        # Note that budget can be more than 1\n",
    "        while left < len(s) and right >= 0 and left <= right and s[left] == s[right]:\n",
    "            left += 1\n",
    "            right -= 1\n",
    "        if left >= len(s) or right < 0 or left >= right:\n",
    "            return True\n",
    "        if budget == 0:\n",
    "            return False\n",
    "        budget -= 1\n",
    "        return self.validPalindromeHelper(s, left + 1, right, budget) or self.validPalindromeHelper(s, left, right - 1, budget)"
   ]
  },
  {
   "cell_type": "markdown",
   "id": "96941edd",
   "metadata": {},
   "source": [
    "# 0680 Easy 680 Valid Palindrome II"
   ]
  },
  {
   "cell_type": "code",
   "execution_count": null,
   "id": "c9ad1d7d",
   "metadata": {},
   "outputs": [],
   "source": [
    "class Solution:\n",
    "    def validPalindrome(self, s):\n",
    "        \"\"\"\n",
    "        :type s: str\n",
    "        :rtype: bool\n",
    "        \"\"\"\n",
    "        memo = {}\n",
    "        def dfs(l, r, cnt):\n",
    "            if (l, r, cnt) in memo:\n",
    "                return memo[(l, r, cnt)]\n",
    "            if l >= r:\n",
    "                return True\n",
    "            elif s[l] != s[r]:\n",
    "                cnt += 1\n",
    "                if cnt > 1:\n",
    "                    memo[(l, r, cnt)] = False\n",
    "                    return False\n",
    "                elif (s[l + 1] == s[r] and dfs(l + 1, r, cnt + 1)) or (s[l] == s[r - 1] and dfs(l, r - 1, cnt + 1)):\n",
    "                    memo[(l, r, cnt)] = True\n",
    "                    return True\n",
    "                else:\n",
    "                    memo[(l, r, cnt)] = False\n",
    "                    return False\n",
    "            else:\n",
    "                memo[(l, r, cnt)] = dfs(l + 1, r - 1, cnt)\n",
    "                return memo[(l, r, cnt)]\n",
    "        return dfs(0, len(s) - 1, 0)"
   ]
  },
  {
   "cell_type": "markdown",
   "id": "bfbc7e03",
   "metadata": {},
   "source": [
    "# 0682 Easy 682 Baseball Game"
   ]
  },
  {
   "cell_type": "code",
   "execution_count": null,
   "id": "bf4b043c",
   "metadata": {},
   "outputs": [],
   "source": [
    "# Time:  O(n)\n",
    "# Space: O(n)\n",
    "\n",
    "class Solution(object):\n",
    "    def calPoints(self, ops):\n",
    "        \"\"\"\n",
    "        :type ops: List[str]\n",
    "        :rtype: int\n",
    "        \"\"\"\n",
    "        history = []\n",
    "        for op in ops:\n",
    "            if op == '+':\n",
    "                history.append(history[-1] + history[-2])\n",
    "            elif op == 'D':\n",
    "                history.append(history[-1] * 2)\n",
    "            elif op == 'C':\n",
    "                history.pop()\n",
    "            else:\n",
    "                history.append(int(op))\n",
    "        return sum(history)"
   ]
  },
  {
   "cell_type": "markdown",
   "id": "748fe4e2",
   "metadata": {},
   "source": [
    "# 0682 Easy 682 Baseball Game"
   ]
  },
  {
   "cell_type": "code",
   "execution_count": null,
   "id": "0e6839bb",
   "metadata": {},
   "outputs": [],
   "source": [
    "class Solution:\n",
    "    def calPoints(self, ops: List[str]) -> int:\n",
    "        arr = []\n",
    "        for op in ops:\n",
    "            #print(arr)\n",
    "            if op.isdigit() or op[0] == '-':\n",
    "                arr.append(int(op))\n",
    "            elif op == 'C' and arr:\n",
    "                arr.pop()\n",
    "            elif op == 'D' and arr:\n",
    "                arr.append(arr[-1] * 2)\n",
    "            elif len(arr) >= 2:\n",
    "                arr.append(arr[-1] + arr[-2])\n",
    "        #print(arr)\n",
    "        return sum(arr)"
   ]
  },
  {
   "cell_type": "markdown",
   "id": "b020c2b3",
   "metadata": {},
   "source": [
    "# 0693 Easy 693 Binary Number with Alternating Bits"
   ]
  },
  {
   "cell_type": "code",
   "execution_count": null,
   "id": "2500bebc",
   "metadata": {},
   "outputs": [],
   "source": [
    "# Time:  O(1)\n",
    "# Space: O(1)\n",
    "\n",
    "class Solution(object):\n",
    "    def hasAlternatingBits(self, n):\n",
    "        \"\"\"\n",
    "        :type n: int\n",
    "        :rtype: bool\n",
    "        \"\"\"\n",
    "        n, curr = divmod(n, 2)\n",
    "        while n > 0:\n",
    "            if curr == n % 2:\n",
    "                return False\n",
    "            n, curr = divmod(n, 2)\n",
    "        return True"
   ]
  },
  {
   "cell_type": "markdown",
   "id": "0c79feba",
   "metadata": {},
   "source": [
    "# 0693 Easy 693 Binary Number with Alternating Bits"
   ]
  },
  {
   "cell_type": "code",
   "execution_count": null,
   "id": "36ea12e1",
   "metadata": {},
   "outputs": [],
   "source": [
    "class Solution:\n",
    "    def hasAlternatingBits(self, n: int) -> bool:\n",
    "        return all(a != b for a, b in zip(bin(n)[2:], bin(n)[3:]))\n",
    "            "
   ]
  },
  {
   "cell_type": "markdown",
   "id": "20ba7be0",
   "metadata": {},
   "source": [
    "# 0696 Easy 696 Count Binary Substrings"
   ]
  },
  {
   "cell_type": "code",
   "execution_count": null,
   "id": "150f405b",
   "metadata": {},
   "outputs": [],
   "source": [
    "class Solution(object):\n",
    "    def countBinarySubstrings(self, s):\n",
    "        groups = []\n",
    "        count = 0\n",
    "        last = s[0]\n",
    "        ans = 0\n",
    "        \n",
    "        for bit in s:\n",
    "            if bit==last:\n",
    "                count += 1\n",
    "            else:\n",
    "                groups.append(count)\n",
    "                count = 1\n",
    "            last = bit\n",
    "        \n",
    "        groups.append(count)\n",
    "        \n",
    "        for i in xrange(1, len(groups)):\n",
    "            ans += min(groups[i], groups[i-1])\n",
    "        \n",
    "        return ans"
   ]
  },
  {
   "cell_type": "markdown",
   "id": "d2a56afc",
   "metadata": {},
   "source": [
    "# 0696 Easy 696 Count Binary Substrings"
   ]
  },
  {
   "cell_type": "code",
   "execution_count": null,
   "id": "1e33df68",
   "metadata": {},
   "outputs": [],
   "source": [
    "class Solution:\n",
    "    def countBinarySubstrings(self, s):\n",
    "        s = s.replace(\"01\", \"0#1\").replace(\"10\", \"1#0\").split(\"#\")\n",
    "        return sum(min(len(s[i]), len(s[i - 1])) for i in range(1, len(s)))"
   ]
  },
  {
   "cell_type": "markdown",
   "id": "b9c86ce6",
   "metadata": {},
   "source": [
    "# 0697 Easy 697 Degree of an Array"
   ]
  },
  {
   "cell_type": "code",
   "execution_count": null,
   "id": "c11f169e",
   "metadata": {},
   "outputs": [],
   "source": [
    "# Time:  O(n)\n",
    "# Space: O(n)\n",
    "\n",
    "import collections\n",
    "\n",
    "\n",
    "class Solution(object):\n",
    "    def findShortestSubArray(self, nums):\n",
    "        \"\"\"\n",
    "        :type nums: List[int]\n",
    "        :rtype: int\n",
    "        \"\"\"\n",
    "        counts = collections.Counter(nums)\n",
    "        left, right = {}, {}\n",
    "        for i, num in enumerate(nums):\n",
    "            left.setdefault(num, i)\n",
    "            right[num] = i\n",
    "        degree = max(counts.values())\n",
    "        return min(right[num]-left[num]+1 \\\n",
    "                   for num in counts.keys() \\\n",
    "                   if counts[num] == degree)"
   ]
  },
  {
   "cell_type": "markdown",
   "id": "efb64e0b",
   "metadata": {},
   "source": [
    "# 0697 Easy 697 Degree of an Array"
   ]
  },
  {
   "cell_type": "code",
   "execution_count": null,
   "id": "82df0133",
   "metadata": {},
   "outputs": [],
   "source": [
    "class Solution(object):\n",
    "    # def findShortestSubArray(self, nums):\n",
    "    #     \"\"\"\n",
    "    #     :type nums: List[int]\n",
    "    #     :rtype: int\n",
    "    #     \"\"\"\n",
    "    #     res = len(nums)\n",
    "    #     counter = collections.Counter()\n",
    "    #     for num in nums:\n",
    "    #         counter[num] += 1\n",
    "    #     degree = max(counter.values())\n",
    "    #     for key, kdegree in counter.most_common():\n",
    "    #         if degree != kdegree:\n",
    "    #             break\n",
    "    #         res = min(res, self.smallestSubArray(nums, key, degree))\n",
    "    #     return res\n",
    "\n",
    "    # def smallestSubArray(self, nums, key, degree):\n",
    "    #     start = nums.index(key)\n",
    "    #     pos = start + 1\n",
    "    #     degree -= 1\n",
    "    #     while pos < len(nums) and degree != 0:\n",
    "    #         if nums[pos] == key:\n",
    "    #             degree -= 1\n",
    "    #         pos += 1\n",
    "    #     return pos - start\n",
    "\n",
    "    def findShortestSubArray(self, nums):\n",
    "        left, right, count = {}, {}, {}\n",
    "        for i, x in enumerate(nums):\n",
    "            if x not in left: left[x] = i\n",
    "            right[x] = i\n",
    "            count[x] = count.get(x, 0) + 1\n",
    "\n",
    "        ans = len(nums)\n",
    "        degree = max(count.values())\n",
    "        for x in count:\n",
    "            if count[x] == degree:\n",
    "                ans = min(ans, right[x] - left[x] + 1)\n",
    "\n",
    "        return ans"
   ]
  },
  {
   "cell_type": "markdown",
   "id": "2adfe608",
   "metadata": {},
   "source": [
    "# 0697 Easy 697 Degree of an Array"
   ]
  },
  {
   "cell_type": "code",
   "execution_count": null,
   "id": "b07a2e06",
   "metadata": {},
   "outputs": [],
   "source": [
    "class Solution:\n",
    "    def findShortestSubArray(self, nums):\n",
    "        cnt, seen = collections.Counter(nums), collections.defaultdict(list)\n",
    "        degree = max(cnt.values())\n",
    "        for i, v in enumerate(nums): seen[v].append(i)\n",
    "        return min(seen[v][-1] - seen[v][0] + 1 for v in cnt if cnt[v] == degree)"
   ]
  },
  {
   "cell_type": "markdown",
   "id": "8ce7eea0",
   "metadata": {},
   "source": [
    "# 0700 Easy 700 Search in a Binary Search Tree"
   ]
  },
  {
   "cell_type": "code",
   "execution_count": null,
   "id": "d4e20f94",
   "metadata": {},
   "outputs": [],
   "source": [
    "\"\"\"\n",
    "Time complexity: O(LogN)\n",
    "Space complexity: O(1)\n",
    "\"\"\"\n",
    "class Solution(object):\n",
    "    def searchBST(self, root, val):\n",
    "        node = root\n",
    "        \n",
    "        while node:\n",
    "            if node.val==val:\n",
    "                return node\n",
    "            elif node.val>val:\n",
    "                node = node.left\n",
    "            else:\n",
    "                node = node.right\n",
    "\n",
    "        return None\n",
    "\n",
    "\"\"\"\n",
    "Time complexity: O(LogN)\n",
    "Space complexity: O(LogN)\n",
    "\"\"\"\n",
    "class Solution(object):\n",
    "    def searchBST(self, node, val):\n",
    "        if not node: return None\n",
    "        if node.val==val:\n",
    "            return node\n",
    "        elif node.val<val:\n",
    "            return self.searchBST(node.right, val)\n",
    "        elif node.val>val:\n",
    "            return self.searchBST(node.left, val)"
   ]
  },
  {
   "cell_type": "markdown",
   "id": "98b6b2ea",
   "metadata": {},
   "source": [
    "# 0700 Easy 700 Search in a Binary Search Tree"
   ]
  },
  {
   "cell_type": "code",
   "execution_count": null,
   "id": "5ab4091b",
   "metadata": {},
   "outputs": [],
   "source": [
    "# Definition for a binary tree node.\n",
    "# class TreeNode(object):\n",
    "#     def __init__(self, x):\n",
    "#         self.val = x\n",
    "#         self.left = None\n",
    "#         self.right = None\n",
    "\n",
    "class Solution(object):\n",
    "    # def searchBST(self, root, val):\n",
    "    #     \"\"\"\n",
    "    #     :type root: TreeNode\n",
    "    #     :type val: int\n",
    "    #     :rtype: TreeNode\n",
    "    #     \"\"\"\n",
    "    #     # Recursive\n",
    "    #     if not root:\n",
    "    #         return None\n",
    "    #     if root.val == val:\n",
    "    #         return root\n",
    "    #     elif root.val > val:\n",
    "    #         return self.searchBST(root.left, val)\n",
    "    #     else:\n",
    "    #         return self.searchBST(root.right, val)\n",
    "\n",
    "    def searchBST(self, root, val):\n",
    "        while root:\n",
    "            if root.val == val:\n",
    "                return root\n",
    "            elif root.val > val:\n",
    "                root = root.left\n",
    "            else:\n",
    "                root = root.right\n",
    "        return root"
   ]
  },
  {
   "cell_type": "markdown",
   "id": "cb7cd7ac",
   "metadata": {},
   "source": [
    "# 0700 Easy 700 Search in a Binary Search Tree"
   ]
  },
  {
   "cell_type": "code",
   "execution_count": null,
   "id": "521f7a9b",
   "metadata": {},
   "outputs": [],
   "source": [
    "class Solution:\n",
    "    def searchBST(self, root, val):\n",
    "        if root and val < root.val: return self.searchBST(root.left, val)\n",
    "        elif root and val > root.val: return self.searchBST(root.right, val)\n",
    "        return root"
   ]
  },
  {
   "cell_type": "markdown",
   "id": "c88e58ec",
   "metadata": {},
   "source": [
    "# 0703 Easy 703 Kth Largest Element in a Stream"
   ]
  },
  {
   "cell_type": "code",
   "execution_count": null,
   "id": "e42d4194",
   "metadata": {},
   "outputs": [],
   "source": [
    "class KthLargest:\n",
    "\n",
    "    def __init__(self, k: int, nums: List[int]):\n",
    "        self.k = k\n",
    "        self.nums = nums\n",
    "        \n",
    "        heapq.heapify(self.nums)\n",
    "        while len(self.nums)>self.k: heapq.heappop(self.nums)\n",
    "        \n",
    "\n",
    "    def add(self, val: int) -> int:\n",
    "        heapq.heappush(self.nums, val)\n",
    "        if len(self.nums)>self.k: heapq.heappop(self.nums)\n",
    "        return self.nums[0]"
   ]
  },
  {
   "cell_type": "markdown",
   "id": "3de47a6c",
   "metadata": {},
   "source": [
    "# 0703 Easy 703 Kth Largest Element in a Stream"
   ]
  },
  {
   "cell_type": "code",
   "execution_count": null,
   "id": "baa41033",
   "metadata": {},
   "outputs": [],
   "source": [
    "class KthLargest(object):\n",
    "\n",
    "    def __init__(self, k, nums):\n",
    "        self.nums = nums\n",
    "        self.k = k\n",
    "        # build min heap\n",
    "        heapq.heapify(self.nums)\n",
    "        # remove n - k smallest number\n",
    "        while len(self.nums) > k:\n",
    "            heapq.heappop(self.nums)\n",
    "\n",
    "    def add(self, val):\n",
    "        # add to heaq if it's less then k\n",
    "        if len(self.nums) < self.k:\n",
    "            heapq.heappush(self.nums, val)\n",
    "        elif val > self.nums[0]:\n",
    "            # if len(heaq) == k, and val greater than smallest num\n",
    "            # then pop smallest num than add val to heap\n",
    "            heapq.heapreplace(self.nums, val)\n",
    "        # return k largest\n",
    "        return self.nums[0]\n",
    "\n",
    "# Your KthLargest object will be instantiated and called as such:\n",
    "# obj = KthLargest(k, nums)\n",
    "# param_1 = obj.add(val)"
   ]
  },
  {
   "cell_type": "markdown",
   "id": "cbd13f96",
   "metadata": {},
   "source": [
    "# 0703 Easy 703 Kth Largest Element in a Stream"
   ]
  },
  {
   "cell_type": "code",
   "execution_count": null,
   "id": "9db5cb45",
   "metadata": {},
   "outputs": [],
   "source": [
    "class KthLargest(object):\n",
    "\n",
    "    def __init__(self, k, nums):\n",
    "        self.pool = nums\n",
    "        self.k = k\n",
    "        heapq.heapify(self.pool)\n",
    "        while len(self.pool) > k:\n",
    "            heapq.heappop(self.pool)\n",
    "\n",
    "            \n",
    "    def add(self, val):\n",
    "        if len(self.pool) < self.k:\n",
    "            heapq.heappush(self.pool, val)\n",
    "        elif val > self.pool[0]:\n",
    "            heapq.heapreplace(self.pool, val)\n",
    "        return self.pool[0]"
   ]
  },
  {
   "cell_type": "markdown",
   "id": "28d5b912",
   "metadata": {},
   "source": [
    "# 0704 Easy 704 Binary Search"
   ]
  },
  {
   "cell_type": "code",
   "execution_count": null,
   "id": "eec14fd7",
   "metadata": {},
   "outputs": [],
   "source": [
    "\"\"\"\n",
    "First, see if target is larger then the largest or smaller then the smallest\n",
    "If it is out of range, it is not in the `nums`.\n",
    "\n",
    "Second, we use two pointers `l`, `r` to navigate our *binary search*.\n",
    "For every iteration, we choose the index, middle between `l` and `r` as `p`.\n",
    "If the value at `p` is larger than the target, we search the left-half by `r = p-1`.\n",
    "If the value at `p` is smaller than the target, we search the right-half by `l = p+1`.\n",
    "Continue this proccess, until we find the value.\n",
    "\n",
    "If we can't find the value, then `l` and `r` are going to collapse. `return -1`\n",
    "\n",
    "Another solution is to use [bisect](https://docs.python.org/2.7/library/bisect.html).\n",
    "\"\"\"\n",
    "class Solution(object):\n",
    "    def search(self, nums, target):\n",
    "        if nums is None or len(nums)==0: return -1\n",
    "        if target<nums[0] or nums[-1]<target: return -1 #test is out of range\n",
    "        l = 0\n",
    "        r = len(nums)-1\n",
    "\n",
    "        while r>=l:\n",
    "            if nums[l]==target: return l\n",
    "            if nums[r]==target: return r\n",
    "            p = (l+r)/2\n",
    "            if nums[p]==target:\n",
    "                return p\n",
    "            elif nums[p]>target:\n",
    "                r = p-1\n",
    "            else:\n",
    "                l = p+1\n",
    "        return -1\n",
    "\n",
    "import bisect\n",
    "class Solution(object):\n",
    "    def search(self, nums, target):\n",
    "        if nums is None or len(nums)==0: return -1\n",
    "        if target<nums[0] or nums[-1]<target: return -1 #check if out of range\n",
    "\n",
    "        i = bisect.bisect_left(nums, target)\n",
    "\n",
    "        #check if target in `nums`\n",
    "        if nums[i]==target: return i\n",
    "        else: return -1\n",
    "\n",
    "\n",
    "# 2020/7/19\n",
    "class Solution(object):\n",
    "    def search(self, nums, target):\n",
    "        if not nums: return -1\n",
    "\n",
    "        l = 0\n",
    "        r = len(nums)-1\n",
    "\n",
    "        while True:\n",
    "            if l>r: break\n",
    "            if target<nums[l]: return -1\n",
    "            if nums[r]<target: return -1\n",
    "\n",
    "            if target==nums[l]: return l\n",
    "            if target==nums[r]: return r\n",
    "\n",
    "            m = (l+r)/2\n",
    "            if target==nums[m]:\n",
    "                return m\n",
    "            elif target<nums[m]:\n",
    "                r = m-1\n",
    "            else:\n",
    "                l = m+1\n",
    "        return -1"
   ]
  },
  {
   "cell_type": "markdown",
   "id": "07b30f77",
   "metadata": {},
   "source": [
    "# 0704 Easy 704 Binary Search"
   ]
  },
  {
   "cell_type": "code",
   "execution_count": null,
   "id": "11ae3a06",
   "metadata": {},
   "outputs": [],
   "source": [
    "class Solution:\n",
    "    def search(self, nums: List[int], target: int) -> int:\n",
    "        return bisect.bisect_left(nums, target) if target in nums else -1"
   ]
  },
  {
   "cell_type": "markdown",
   "id": "67e7c8c8",
   "metadata": {},
   "source": [
    "# 0705 Easy 705 Design HashSet"
   ]
  },
  {
   "cell_type": "code",
   "execution_count": null,
   "id": "069271da",
   "metadata": {},
   "outputs": [],
   "source": [
    "# Time:  O(1)\n",
    "# Space: O(n)\n",
    "\n",
    "class ListNode(object):\n",
    "    def __init__(self, key, val):\n",
    "        self.val = val\n",
    "        self.key = key\n",
    "        self.next = None\n",
    "        self.prev = None\n",
    "\n",
    "\n",
    "class LinkedList(object):\n",
    "    def __init__(self):\n",
    "        self.head = None\n",
    "        self.tail = None\n",
    "\n",
    "    def insert(self, node):\n",
    "        node.next, node.prev = None, None  # avoid dirty node\n",
    "        if self.head is None:\n",
    "            self.head = node\n",
    "        else:\n",
    "            self.tail.next = node\n",
    "            node.prev = self.tail\n",
    "        self.tail = node\n",
    "\n",
    "    def delete(self, node):\n",
    "        if node.prev:\n",
    "            node.prev.next = node.next\n",
    "        else:\n",
    "            self.head = node.next\n",
    "        if node.next:\n",
    "            node.next.prev = node.prev\n",
    "        else:\n",
    "            self.tail = node.prev\n",
    "        node.next, node.prev = None, None  # make node clean\n",
    "\n",
    "    def find(self, key):\n",
    "        curr = self.head\n",
    "        while curr:\n",
    "            if curr.key == key:\n",
    "                break\n",
    "            curr = curr.next\n",
    "        return curr\n",
    "\n",
    "\n",
    "class MyHashSet(object):\n",
    "\n",
    "    def __init__(self):\n",
    "        \"\"\"\n",
    "        Initialize your data structure here.\n",
    "        \"\"\"\n",
    "        self.__data = [LinkedList() for _ in xrange(10000)]\n",
    "\n",
    "    def add(self, key):\n",
    "        \"\"\"\n",
    "        :type key: int\n",
    "        :rtype: void\n",
    "        \"\"\"\n",
    "        l = self.__data[key % len(self.__data)]\n",
    "        node = l.find(key)\n",
    "        if not node:\n",
    "            l.insert(ListNode(key, 0))\n",
    "\n",
    "    def remove(self, key):\n",
    "        \"\"\"\n",
    "        :type key: int\n",
    "        :rtype: void\n",
    "        \"\"\"\n",
    "        l = self.__data[key % len(self.__data)]\n",
    "        node = l.find(key)\n",
    "        if node:\n",
    "            l.delete(node)\n",
    "\n",
    "    def contains(self, key):\n",
    "        \"\"\"\n",
    "        Returns true if this set did not already contain the specified element\n",
    "        :type key: int\n",
    "        :rtype: bool\n",
    "        \"\"\"\n",
    "        l = self.__data[key % len(self.__data)]\n",
    "        node = l.find(key)\n",
    "        return node is not None"
   ]
  },
  {
   "cell_type": "markdown",
   "id": "51740fc1",
   "metadata": {},
   "source": [
    "# 0705 Easy 705 Design HashSet"
   ]
  },
  {
   "cell_type": "code",
   "execution_count": null,
   "id": "3a32a534",
   "metadata": {},
   "outputs": [],
   "source": [
    "<!--[if lt IE 7]> <html class=\"no-js ie6 oldie\" lang=\"en-US\"> <![endif]-->\n",
    "<!--[if IE 7]>    <html class=\"no-js ie7 oldie\" lang=\"en-US\"> <![endif]-->\n",
    "<!--[if IE 8]>    <html class=\"no-js ie8 oldie\" lang=\"en-US\"> <![endif]-->\n",
    "<!--[if gt IE 8]><!--> <html class=\"no-js\" lang=\"en-US\"> <!--<![endif]-->\n",
    "<head>\n",
    "\n",
    "\n",
    "<title>leetcode.com | 502: Bad gateway</title>\n",
    "<meta charset=\"UTF-8\" />\n",
    "<meta http-equiv=\"Content-Type\" content=\"text/html; charset=UTF-8\" />\n",
    "<meta http-equiv=\"X-UA-Compatible\" content=\"IE=Edge,chrome=1\" />\n",
    "<meta name=\"robots\" content=\"noindex, nofollow\" />\n",
    "<meta name=\"viewport\" content=\"width=device-width,initial-scale=1,maximum-scale=1\" />\n",
    "<link rel=\"stylesheet\" id=\"cf_styles-css\" href=\"/cdn-cgi/styles/cf.errors.css\" type=\"text/css\" media=\"screen,projection\" />\n",
    "<!--[if lt IE 9]><link rel=\"stylesheet\" id='cf_styles-ie-css' href=\"/cdn-cgi/styles/cf.errors.ie.css\" type=\"text/css\" media=\"screen,projection\" /><![endif]-->\n",
    "<style type=\"text/css\">body{margin:0;padding:0}</style>\n",
    "\n",
    "\n",
    "\n",
    "\n",
    "</head>\n",
    "<body><div id=\"cf_alert_div\" style=\"margin: 0;padding: 0;position: relative;top: 0;left: 0;display: block; z-index: 1000\"><div style=\"margin: 0px;padding: 10px;border-bottom: 1px solid #a5a5a5;background: #f0f0f0;font-weight: normal;text-align: left;\"><table width=\"100%\"><tr><td valign=\"top\"><a href=\"#\" onclick=\"document.cookie='cf_use_ob=0;path=/';window.location.reload();return false;\" style=\"margin: 0 20px 0 0;padding: 10px 0 0 20px;text-decoration: none;font: 12px Helvetica,Arial,sans-serif;color: #eff7e8;font-weight: bold;text-align: left;position: relative;display: inline-block;height: 38px;background: url(/cdn-cgi/images/retry.png) no-repeat 0 0;overflow: visible;font-size: 14px;line-height: 1.2em;text-shadow: #437b0a 0 1px 0;white-space: nowrap;\">Retry for a live version<span style=\"margin: 0;padding: 0;position: absolute;top: 0;left: 100%;width: 20px;height: 38px;background: url(/cdn-cgi/images/retry.png) no-repeat 100% -38px;\"></span></a> <noscript style=\"margin: 10px 0 10px 0;padding: 0;font: 12px Helvetica,Arial,sans-serif;color: #404040;display: block;\">(Enable Javascript first.)</noscript></td><td valign=\"middle\" style=\"margin: 0;padding: 0;\"><p style=\"margin: 0 0 0 20px;padding: 0;font: 12px Helvetica,Arial,sans-serif;color: #404040;\">This page (<a href=\"/submissions/detail/163424957/\" style=\"margin: 0;padding: 0;text-decoration: underline;font: 12px Helvetica,Arial,sans-serif;color: #007ed9;font-weight: normal;text-align: left;\">https://leetcode.com/submissions/detail/163424957/</a>) is currently offline. However, because the site uses Cloudflare's Always Online&trade; technology you can continue to surf a snapshot of the site. We will keep checking in the background and, as soon as the site comes back, you will automatically be served the live version. <span id=\"caption\" style=\"margin: 0;padding: 0;color: #a5a5a5;\">Always Online&trade; is powered by <a href=\"https://www.cloudflare.com/5xx-error-landing?utm_source=ao_banner\" target=\"_blank\" style=\"margin: 0;padding: 0;text-decoration: underline;font: 12px Helvetica,Arial,sans-serif;color: #007ed9;font-weight: normal;text-align: left;\">Cloudflare</a> | <a href=\"javascript:void(null);\" onclick=\"document.getElementById('cf_alert_div').style.display='none';\" style=\"margin: 0;padding: 0;text-decoration: underline;font: 12px Helvetica,Arial,sans-serif;color: #007ed9;font-weight: normal;text-align: left;\">Hide this Alert</a></span></p></td></tr></table></div></div>\n",
    "<div id=\"cf-wrapper\">\n",
    "\n",
    "    \n",
    "\n",
    "    <div id=\"cf-error-details\" class=\"cf-error-details-wrapper\">\n",
    "        <div class=\"cf-wrapper cf-error-overview\">\n",
    "            <h1>\n",
    "              \n",
    "              <span class=\"cf-error-type\">Error</span>\n",
    "              <span class=\"cf-error-code\">502</span>\n",
    "              <small class=\"heading-ray-id\">Ray ID: 52beb9bebad1d8bd &bull; 2019-10-26 19:09:36 UTC</small>\n",
    "            </h1>\n",
    "            <h2 class=\"cf-subheadline\">Bad gateway</h2>\n",
    "        </div><!-- /.error-overview -->\n",
    "        \n",
    "        <div class=\"cf-section cf-highlight cf-status-display\">\n",
    "            <div class=\"cf-wrapper\">\n",
    "                <div class=\"cf-columns cols-3\">\n",
    "                  \n",
    "<div id=\"cf-browser-status\" class=\"cf-column cf-status-item cf-browser-status \">\n",
    "  <div class=\"cf-icon-error-container\">\n",
    "    <i class=\"cf-icon cf-icon-browser\"></i>\n",
    "    <i class=\"cf-icon-status cf-icon-ok\"></i>\n",
    "  </div>\n",
    "  <span class=\"cf-status-desc\">You</span>\n",
    "  <h3 class=\"cf-status-name\">Browser</h3>\n",
    "  <span class=\"cf-status-label\">Working</span>\n",
    "</div>\n",
    "\n",
    "<div id=\"cf-cloudflare-status\" class=\"cf-column cf-status-item cf-cloudflare-status \">\n",
    "  <div class=\"cf-icon-error-container\">\n",
    "    <i class=\"cf-icon cf-icon-cloud\"></i>\n",
    "    <i class=\"cf-icon-status cf-icon-ok\"></i>\n",
    "  </div>\n",
    "  <span class=\"cf-status-desc\">Amsterdam</span>\n",
    "  <h3 class=\"cf-status-name\">Cloudflare</h3>\n",
    "  <span class=\"cf-status-label\">Working</span>\n",
    "</div>\n",
    "\n",
    "<div id=\"cf-host-status\" class=\"cf-column cf-status-item cf-host-status cf-error-source\">\n",
    "  <div class=\"cf-icon-error-container\">\n",
    "    <i class=\"cf-icon cf-icon-server\"></i>\n",
    "    <i class=\"cf-icon-status cf-icon-error\"></i>\n",
    "  </div>\n",
    "  <span class=\"cf-status-desc\">leetcode.com</span>\n",
    "  <h3 class=\"cf-status-name\">Host</h3>\n",
    "  <span class=\"cf-status-label\">Error</span>\n",
    "</div>\n",
    "\n",
    "                </div>\n",
    "              \n",
    "            </div>\n",
    "        </div><!-- /.status-display -->\n",
    "\n",
    "        <div class=\"cf-section cf-wrapper\">\n",
    "            <div class=\"cf-columns two\">\n",
    "                <div class=\"cf-column\">\n",
    "                    <h2>What happened?</h2>\n",
    "                    <p>The web server reported a bad gateway error.</p>\n",
    "                </div>\n",
    "              \n",
    "                <div class=\"cf-column\">\n",
    "                    <h2>What can I do?</h2>\n",
    "                    <p>Please try again in a few minutes.</p>\n",
    "                </div>\n",
    "            </div>\n",
    "              \n",
    "        </div><!-- /.section -->\n",
    "\n",
    "        <div class=\"cf-error-footer cf-wrapper\">\n",
    "  <p>\n",
    "    <span class=\"cf-footer-item\">Cloudflare Ray ID: <strong>52beb9bebad1d8bd</strong></span>\n",
    "    <span class=\"cf-footer-separator\">&bull;</span>\n",
    "    <span class=\"cf-footer-item\"><span>Your IP</span>: 92.44.160.241</span>\n",
    "    <span class=\"cf-footer-separator\">&bull;</span>\n",
    "    <span class=\"cf-footer-item\"><span>Performance &amp; security by</span> <a href=\"https://www.cloudflare.com/5xx-error-landing?utm_source=error_footer\" id=\"brand_link\" target=\"_blank\">Cloudflare</a></span>\n",
    "    \n",
    "  </p>\n",
    "</div><!-- /.error-footer -->\n",
    "\n",
    "\n",
    "    </div><!-- /#cf-error-details -->\n",
    "</div><!-- /#cf-wrapper -->\n",
    "</body>\n",
    "</"
   ]
  },
  {
   "cell_type": "markdown",
   "id": "4fa97511",
   "metadata": {},
   "source": [
    "# 0706 Easy 706 Design HashMap"
   ]
  },
  {
   "cell_type": "code",
   "execution_count": null,
   "id": "b65af1aa",
   "metadata": {},
   "outputs": [],
   "source": [
    "# Time:  O(1)\n",
    "# Space: O(n)\n",
    "\n",
    "class ListNode(object):\n",
    "    def __init__(self, key, val):\n",
    "        self.val = val\n",
    "        self.key = key\n",
    "        self.next = None\n",
    "        self.prev = None\n",
    "\n",
    "\n",
    "class LinkedList(object):\n",
    "    def __init__(self):\n",
    "        self.head = None\n",
    "        self.tail = None\n",
    "\n",
    "    def insert(self, node):\n",
    "        node.next, node.prev = None, None  # avoid dirty node\n",
    "        if self.head is None:\n",
    "            self.head = node\n",
    "        else:\n",
    "            self.tail.next = node\n",
    "            node.prev = self.tail\n",
    "        self.tail = node\n",
    "\n",
    "    def delete(self, node):\n",
    "        if node.prev:\n",
    "            node.prev.next = node.next\n",
    "        else:\n",
    "            self.head = node.next\n",
    "        if node.next:\n",
    "            node.next.prev = node.prev\n",
    "        else:\n",
    "            self.tail = node.prev\n",
    "        node.next, node.prev = None, None  # make node clean\n",
    "\n",
    "    def find(self, key):\n",
    "        curr = self.head\n",
    "        while curr:\n",
    "            if curr.key == key:\n",
    "                break\n",
    "            curr = curr.next\n",
    "        return curr\n",
    "\n",
    "\n",
    "class MyHashMap(object):\n",
    "\n",
    "    def __init__(self):\n",
    "        \"\"\"\n",
    "        Initialize your data structure here.\n",
    "        \"\"\"\n",
    "        self.__data = [LinkedList() for _ in xrange(10000)]\n",
    "\n",
    "    def put(self, key, value):\n",
    "        \"\"\"\n",
    "        value will always be positive.\n",
    "        :type key: int\n",
    "        :type value: int\n",
    "        :rtype: void\n",
    "        \"\"\"\n",
    "        l = self.__data[key % len(self.__data)]\n",
    "        node = l.find(key)\n",
    "        if node:\n",
    "            node.val = value\n",
    "        else:\n",
    "            l.insert(ListNode(key, value))\n",
    "\n",
    "    def get(self, key):\n",
    "        \"\"\"\n",
    "        Returns the value to which the specified key is mapped, or -1 if this map contains no mapping for the key\n",
    "        :type key: int\n",
    "        :rtype: int\n",
    "        \"\"\"\n",
    "        l = self.__data[key % len(self.__data)]\n",
    "        node = l.find(key)\n",
    "        if node:\n",
    "            return node.val\n",
    "        else:\n",
    "            return -1\n",
    "\n",
    "    def remove(self, key):\n",
    "        \"\"\"\n",
    "        Removes the mapping of the specified value key if this map contains a mapping for the key\n",
    "        :type key: int\n",
    "        :rtype: void\n",
    "        \"\"\"\n",
    "        l = self.__data[key % len(self.__data)]\n",
    "        node = l.find(key)\n",
    "        if node:\n",
    "            l.delete(node)"
   ]
  },
  {
   "cell_type": "markdown",
   "id": "580f4d21",
   "metadata": {},
   "source": [
    "# 0706 Easy 706 Design HashMap"
   ]
  },
  {
   "cell_type": "code",
   "execution_count": null,
   "id": "77935e70",
   "metadata": {},
   "outputs": [],
   "source": [
    "class MyHashMap(object):\n",
    "\n",
    "    # https://leetcode.com/problems/design-hashmap/discuss/152746/Java-Solution\n",
    "    def __init__(self):\n",
    "        \"\"\"\n",
    "        Initialize your data structure here.\n",
    "        \"\"\"\n",
    "        self.size = 10000\n",
    "        self.nodes = [None] * self.size\n",
    "\n",
    "    def put(self, key, value):\n",
    "        \"\"\"\n",
    "        value will always be non-negative.\n",
    "        :type key: int\n",
    "        :type value: int\n",
    "        :rtype: void\n",
    "        \"\"\"\n",
    "        index = hash(key) % self.size\n",
    "        if self.nodes[index] is None:\n",
    "            self.nodes[index] = ListNode(-1, -1)\n",
    "        prev = find(self.nodes[index], key)\n",
    "        if prev.next is None:\n",
    "            prev.next = ListNode(key, value)\n",
    "        else:\n",
    "            prev.next.val = value\n",
    "\n",
    "    def get(self, key):\n",
    "        \"\"\"\n",
    "        Returns the value to which the specified key is mapped, or -1 if this map contains no mapping for the key\n",
    "        :type key: int\n",
    "        :rtype: int\n",
    "        \"\"\"\n",
    "        index = hash(key) % self.size\n",
    "        if self.nodes[index] is None:\n",
    "            return -1\n",
    "        prev = find(self.nodes[index], key)\n",
    "        if prev.next is None:\n",
    "            return -1\n",
    "        else:\n",
    "            return prev.next.val\n",
    "\n",
    "    def remove(self, key):\n",
    "        \"\"\"\n",
    "        Removes the mapping of the specified value key if this map contains a mapping for the key\n",
    "        :type key: int\n",
    "        :rtype: void\n",
    "        \"\"\"\n",
    "        index = hash(key) % self.size\n",
    "        if self.nodes[index] is None:\n",
    "            return\n",
    "        prev = find(self.nodes[index], key)\n",
    "        if prev.next is None:\n",
    "            return\n",
    "        prev.next = prev.next.next\n",
    "\n",
    "\n",
    "def find(bucket, key):\n",
    "    # find prev node of this key\n",
    "    node = bucket\n",
    "    prev = None\n",
    "    while node is not None and node.key != key:\n",
    "        prev = node\n",
    "        node = node.next\n",
    "    return prev\n",
    "\n",
    "\n",
    "# Basic node in hash map\n",
    "class ListNode():\n",
    "\n",
    "    def __init__(self, key, val):\n",
    "        self.key = key\n",
    "        self.val = val\n",
    "        self.next = None\n",
    "\n",
    "\n",
    "# Your MyHashMap object will be instantiated and called as such:\n",
    "# obj = MyHashMap()\n",
    "# obj.put(key,value)\n",
    "# param_2 = obj.get(key)\n",
    "# obj.remove(key)"
   ]
  },
  {
   "cell_type": "markdown",
   "id": "9ffbb78a",
   "metadata": {},
   "source": [
    "# 0706 Easy 706 Design HashMap"
   ]
  },
  {
   "cell_type": "code",
   "execution_count": null,
   "id": "8695ce3a",
   "metadata": {},
   "outputs": [],
   "source": [
    "class MyHashMap:\n",
    "\n",
    "    def __init__(self):\n",
    "        self.arr = [-1] * 1000001\n",
    "\n",
    "    def put(self, key, value):\n",
    "        self.arr[key] = value\n",
    "\n",
    "    def get(self, key):\n",
    "        return self.arr[key]\n",
    "\n",
    "    def remove(self, key):\n",
    "        self.arr[key] = -1"
   ]
  },
  {
   "cell_type": "markdown",
   "id": "1aedb70d",
   "metadata": {},
   "source": [
    "# 0709 Easy 709 To Lower Case"
   ]
  },
  {
   "cell_type": "code",
   "execution_count": null,
   "id": "f8f5e2ae",
   "metadata": {},
   "outputs": [],
   "source": [
    "#https://leetcode.com/problems/to-lower-case/\n",
    "class Solution(object):\n",
    "    def toLowerCase(self, str):\n",
    "        return str.lower()"
   ]
  },
  {
   "cell_type": "markdown",
   "id": "678058a4",
   "metadata": {},
   "source": [
    "# 0709 Easy 709 To Lower Case"
   ]
  },
  {
   "cell_type": "code",
   "execution_count": null,
   "id": "90425c3f",
   "metadata": {},
   "outputs": [],
   "source": [
    "class Solution(object):\n",
    "    def toLowerCase(self, str):\n",
    "        \"\"\"\n",
    "        :type str: str\n",
    "        :rtype: str\n",
    "        \"\"\"\n",
    "        res = []\n",
    "        gap = ord('a') - ord('A')\n",
    "        for c in str:\n",
    "            if ord(c) >= ord('A') and ord(c) <= ord('Z'):\n",
    "                res.append(chr(ord(c) + gap))\n",
    "            else:\n",
    "                res.append(c)\n",
    "        return ''.join(res)\n",
    "\n",
    "    # def toLowerCase(self, str):\n",
    "    #     return str.lower()"
   ]
  },
  {
   "cell_type": "markdown",
   "id": "e3cf2217",
   "metadata": {},
   "source": [
    "# 0709 Easy 709 To Lower Case"
   ]
  },
  {
   "cell_type": "code",
   "execution_count": null,
   "id": "5898812a",
   "metadata": {},
   "outputs": [],
   "source": [
    "class Solution:\n",
    "    def toLowerCase(self, str): \n",
    "        return \"\".join(chr(ord(c) + 32) if 65 <= ord(c) <= 90 else c for c in str)"
   ]
  },
  {
   "cell_type": "markdown",
   "id": "27ae7626",
   "metadata": {},
   "source": [
    "# 0717 Easy 717 1bit and 2bit Characters"
   ]
  },
  {
   "cell_type": "code",
   "execution_count": null,
   "id": "73055e4d",
   "metadata": {},
   "outputs": [],
   "source": [
    "# We have two special characters. The first character can be represented by one bit 0. The second character can be represented by two bits (10 or 11).\n",
    "# Now given a string represented by several bits. Return whether the last character must be a one-bit character or not. The given string will always end with a zero.\n",
    "\n",
    "# Example 1:\n",
    "# Input: \n",
    "# bits = [1, 0, 0]\n",
    "# Output: True\n",
    "# Explanation: \n",
    "# The only way to decode it is two-bit character and one-bit character. So the last character is one-bit character.\n",
    "# Example 2:\n",
    "# Input: \n",
    "# bits = [1, 1, 1, 0]\n",
    "# Output: False\n",
    "# Explanation: \n",
    "# The only way to decode it is two-bit character and two-bit character. So the last character is NOT one-bit character.\n",
    "# Note:\n",
    "\n",
    "# 1 <= len(bits) <= 1000.\n",
    "# bits[i] is always 0 or 1.\n",
    "\n",
    "# https://leetcode.com/problems/1-bit-and-2-bit-characters/solution/\n",
    "class Solution:\n",
    "    def isOneBitCharacter(self, bits: List[int]) -> bool:\n",
    "        pos = 0\n",
    "        # Go through bits\n",
    "        while pos < len(bits) - 1:\n",
    "            # if 1, pos + 2; if 0, pos + 1\n",
    "            pos += bits[pos] + 1\n",
    "        return pos == len(bits) - 1\n",
    "    \n",
    "    # def isOneBitCharacter(self, bits):\n",
    "    #     # From len - 2\n",
    "    #     pos = len(bits) - 2\n",
    "    #     # until encounter 0\n",
    "    #     while pos >= 0 and bits[pos] > 0:\n",
    "    #         pos -= 1\n",
    "    #     # check if second last zero is even\n",
    "    #     return (len(bits) - pos) % 2 == 0"
   ]
  },
  {
   "cell_type": "markdown",
   "id": "e9acbd9a",
   "metadata": {},
   "source": [
    "# 0717 Easy 717 1bit and 2bit Characters"
   ]
  },
  {
   "cell_type": "code",
   "execution_count": null,
   "id": "db65fc32",
   "metadata": {},
   "outputs": [],
   "source": [
    "class Solution:\n",
    "    def isOneBitCharacter(self, bits):\n",
    "        \"\"\"\n",
    "        :type bits: List[int]\n",
    "        :rtype: bool\n",
    "        \"\"\"\n",
    "        while bits:\n",
    "            last=bits.pop(0)\n",
    "            if last==1:bits.pop(0)\n",
    "        return True if last==0 else False"
   ]
  },
  {
   "cell_type": "markdown",
   "id": "b5cb5e90",
   "metadata": {},
   "source": [
    "# 0724 Easy 724 Find Pivot Index"
   ]
  },
  {
   "cell_type": "code",
   "execution_count": null,
   "id": "8899fe19",
   "metadata": {},
   "outputs": [],
   "source": [
    "# Time:  O(n)\n",
    "# Space: O(1)\n",
    "\n",
    "class Solution(object):\n",
    "    def pivotIndex(self, nums):\n",
    "        \"\"\"\n",
    "        :type nums: List[int]\n",
    "        :rtype: int\n",
    "        \"\"\"\n",
    "        total = sum(nums)\n",
    "        left_sum = 0\n",
    "        for i, num in enumerate(nums):\n",
    "            if left_sum == (total-left_sum-num):\n",
    "                return i\n",
    "            left_sum += num\n",
    "        return -1"
   ]
  },
  {
   "cell_type": "markdown",
   "id": "cc32aa43",
   "metadata": {},
   "source": [
    "# 0724 Easy 724 Find Pivot Index"
   ]
  },
  {
   "cell_type": "code",
   "execution_count": null,
   "id": "198e5883",
   "metadata": {},
   "outputs": [],
   "source": [
    "class Solution(object):\n",
    "    def pivotIndex(self, nums):\n",
    "        \"\"\"\n",
    "        :type nums: List[int]\n",
    "        :rtype: int\n",
    "        \"\"\"\n",
    "        totalsum = sum(nums)\n",
    "        leftsum = 0\n",
    "        for i, v in enumerate(nums):\n",
    "            # leftsum == rightsum\n",
    "            if leftsum == totalsum - leftsum - v:\n",
    "                return i\n",
    "            leftsum += v\n",
    "        return -1"
   ]
  },
  {
   "cell_type": "markdown",
   "id": "cfa99284",
   "metadata": {},
   "source": [
    "# 0724 Easy 724 Find Pivot Index"
   ]
  },
  {
   "cell_type": "code",
   "execution_count": null,
   "id": "a77ad85c",
   "metadata": {},
   "outputs": [],
   "source": [
    "class Solution:\n",
    "    def pivotIndex(self, nums: List[int]) -> int:\n",
    "        sm = sum(nums)\n",
    "        cur = 0\n",
    "        for i in range(len(nums)):\n",
    "            if cur == sm - cur - nums[i]:\n",
    "                return i\n",
    "            cur += nums[i]\n",
    "        return -1"
   ]
  },
  {
   "cell_type": "markdown",
   "id": "e9ee5acd",
   "metadata": {},
   "source": [
    "# 0728 Easy 728 Self Dividing Numbers"
   ]
  },
  {
   "cell_type": "code",
   "execution_count": null,
   "id": "1e8a79db",
   "metadata": {},
   "outputs": [],
   "source": [
    "# Time:  O(nlogr) = O(n)\n",
    "# Space: O(logr) = O(1)\n",
    "\n",
    "class Solution(object):\n",
    "    def selfDividingNumbers(self, left, right):\n",
    "        \"\"\"\n",
    "        :type left: int\n",
    "        :type right: int\n",
    "        :rtype: List[int]\n",
    "        \"\"\"\n",
    "        def isDividingNumber(num):\n",
    "            n = num\n",
    "            while n > 0:\n",
    "                n, r = divmod(n, 10)\n",
    "                if r == 0 or (num%r) != 0:\n",
    "                    return False\n",
    "            return True\n",
    "        \n",
    "        return [num for num in xrange(left, right+1) if isDividingNumber(num)]\n",
    "\n",
    "\n",
    "# Time:  O(nlogr) = O(n)\n",
    "# Space: O(logr) = O(1)\n",
    "import itertools\n",
    "\n",
    "\n",
    "class Solution2(object):\n",
    "    def selfDividingNumbers(self, left, right):\n",
    "        \"\"\"\n",
    "        :type left: int\n",
    "        :type right: int\n",
    "        :rtype: List[int]\n",
    "        \"\"\"\n",
    "        return [num for num in xrange(left, right+1) \\\n",
    "                if not any(itertools.imap(lambda x: int(x) == 0 or num%int(x) != 0, str(num)))]"
   ]
  },
  {
   "cell_type": "markdown",
   "id": "f99d8a80",
   "metadata": {},
   "source": [
    "# 0728 Easy 728 Self Dividing Numbers"
   ]
  },
  {
   "cell_type": "code",
   "execution_count": null,
   "id": "e0506910",
   "metadata": {},
   "outputs": [],
   "source": [
    "class Solution:\n",
    "    def selfDividingNumbers(self, left: int, right: int) -> List[int]:\n",
    "        # check every digit\n",
    "        return [x for x in range(left, right+1) if all([int(i) != 0 and x % int(i)==0 for i in str(x)])]\n",
    "\n",
    "    # def selfDividingNumbers(self, left: int, right: int) -> List[int]:\n",
    "    #     return [x for x in range(left, right+1) if all((i and (x % i==0) for i in map(int, str(x))))]"
   ]
  },
  {
   "cell_type": "markdown",
   "id": "177dbbad",
   "metadata": {},
   "source": [
    "# 0728 Easy 728 Self Dividing Numbers"
   ]
  },
  {
   "cell_type": "code",
   "execution_count": null,
   "id": "4a4df854",
   "metadata": {},
   "outputs": [],
   "source": [
    "class Solution:\n",
    "    def selfDividingNumbers(self, left, right):\n",
    "        \"\"\"\n",
    "        :type left: int\n",
    "        :type right: int\n",
    "        :rtype: List[int]\n",
    "        \"\"\"\n",
    "        return [num for num in range(left,right+1) if len([char for char in str(num) if int(char)!=0 and num%int(char)==0])==len(str(num)) ]"
   ]
  },
  {
   "cell_type": "markdown",
   "id": "676edf78",
   "metadata": {},
   "source": [
    "# 0733 Easy 733 Flood Fill"
   ]
  },
  {
   "cell_type": "code",
   "execution_count": null,
   "id": "af380a7b",
   "metadata": {},
   "outputs": [],
   "source": [
    "class Solution(object):\n",
    "    def floodFill(self, image, sr, sc, newColor):\n",
    "        stack = [(sr, sc)]\n",
    "        originColor = image[sr][sc]\n",
    "        \n",
    "        while stack:\n",
    "            i, j = stack.pop()\n",
    "            \n",
    "            if image[i][j]==newColor or image[i][j]!=originColor: continue\n",
    "\n",
    "            image[i][j] = newColor\n",
    "            if i+1<len(image): stack.append((i+1, j))\n",
    "            if 0<=i-1: stack.append((i-1, j))\n",
    "            if j+1<len(image[0]): stack.append((i, j+1))\n",
    "            if 0<=j-1: stack.append((i, j-1))\n",
    "\n",
    "        return image\n",
    "\n",
    "\"\"\"\n",
    "DFS the `image`.\n",
    "If the color is newColor, we don't need to see.\n",
    "If the color is not originalColor, we don't need to see, too.\n",
    "Else we paint the node to newColor.\n",
    "\n",
    "Time: O(N).\n",
    "Space: O(1).\n",
    "\"\"\""
   ]
  },
  {
   "cell_type": "markdown",
   "id": "e59e7be0",
   "metadata": {},
   "source": [
    "# 0733 Easy 733 Flood Fill"
   ]
  },
  {
   "cell_type": "code",
   "execution_count": null,
   "id": "f92fdce9",
   "metadata": {},
   "outputs": [],
   "source": [
    "class Solution(object):\n",
    "    # def floodFill(self, image, sr, sc, newColor):\n",
    "    #     \"\"\"\n",
    "    #     :type image: List[List[int]]\n",
    "    #     :type sr: int\n",
    "    #     :type sc: int\n",
    "    #     :type newColor: int\n",
    "    #     :rtype: List[List[int]]\n",
    "    #     \"\"\"\n",
    "    #     r_ls, c_ls = len(image), len(image[0])\n",
    "    #     color = image[sr][sc]\n",
    "    #     if color == newColor:\n",
    "    #         return image\n",
    "\n",
    "    #     def dfs(r, c):\n",
    "    #         if image[r][c] == color:\n",
    "    #             image[r][c] = newColor\n",
    "    #             if r - 1 >= 0: dfs(r - 1, c)\n",
    "    #             if r + 1 < r_ls: dfs(r + 1, c)\n",
    "    #             if c - 1 >= 0: dfs(r, c - 1)\n",
    "    #             if c + 1 < c_ls: dfs(r, c + 1)\n",
    "\n",
    "    #     dfs(sr, sc)\n",
    "    #     return image\n",
    "\n",
    "    def floodFill(self, image, sr, sc, newColor):\n",
    "        # BFS with queue\n",
    "        r_ls, c_ls = len(image), len(image[0])\n",
    "        color = image[sr][sc]\n",
    "        if color == newColor:\n",
    "            return image\n",
    "        queue = [(sr, sc)]\n",
    "        while len(queue) > 0:\n",
    "            r, c = queue.pop(0)\n",
    "            if image[r][c] == color:\n",
    "                image[r][c] = newColor\n",
    "                if r - 1 >= 0: queue.append((r - 1, c))\n",
    "                if r + 1 < r_ls: queue.append((r + 1, c))\n",
    "                if c - 1 >= 0: queue.append((r, c - 1))\n",
    "                if c + 1 < c_ls: queue.append((r, c + 1))\n",
    "        return image"
   ]
  },
  {
   "cell_type": "markdown",
   "id": "d05ce834",
   "metadata": {},
   "source": [
    "# 0733 Easy 733 Flood Fill"
   ]
  },
  {
   "cell_type": "code",
   "execution_count": null,
   "id": "7ea81980",
   "metadata": {},
   "outputs": [],
   "source": [
    "class Solution:\n",
    "    def floodFill(self, image, sr, sc, newColor):\n",
    "        old, m, n = image[sr][sc], len(image), len(image[0])\n",
    "        if old != newColor: \n",
    "            q = collections.deque([(sr, sc)])\n",
    "            while q:\n",
    "                i, j = q.popleft()\n",
    "                image[i][j] = newColor\n",
    "                for x, y in ((i - 1, j), (i + 1, j), (i, j - 1), (i, j + 1)):\n",
    "                    if 0 <= x < m and 0 <= y < n and image[x][y] == old: \n",
    "                        q.append((x, y))\n",
    "        return image"
   ]
  },
  {
   "cell_type": "markdown",
   "id": "4a9573a5",
   "metadata": {},
   "source": [
    "# 0734 Easy 734 Sentence Similarity"
   ]
  },
  {
   "cell_type": "code",
   "execution_count": null,
   "id": "7409f661",
   "metadata": {},
   "outputs": [],
   "source": [
    "# Time:  O(n + p)\n",
    "# Space: O(p)\n",
    "\n",
    "import itertools\n",
    "\n",
    "\n",
    "class Solution(object):\n",
    "    def areSentencesSimilar(self, words1, words2, pairs):\n",
    "        \"\"\"\n",
    "        :type words1: List[str]\n",
    "        :type words2: List[str]\n",
    "        :type pairs: List[List[str]]\n",
    "        :rtype: bool\n",
    "        \"\"\"\n",
    "        if len(words1) != len(words2): return False\n",
    "        lookup = set(map(tuple, pairs))\n",
    "        return all(w1 == w2 or (w1, w2) in lookup or (w2, w1) in lookup \\\n",
    "                   for w1, w2 in itertools.izip(words1, words2))"
   ]
  },
  {
   "cell_type": "markdown",
   "id": "d19cc3f6",
   "metadata": {},
   "source": [
    "# 0734 Easy 734 Sentence Similarity"
   ]
  },
  {
   "cell_type": "code",
   "execution_count": null,
   "id": "2c4fed36",
   "metadata": {},
   "outputs": [],
   "source": [
    "class Solution:\n",
    "    def areSentencesSimilar(self, words1: List[str], words2: List[str], pairs: List[List[str]]) -> bool:\n",
    "        sim = collections.defaultdict(set)\n",
    "        for a, b in pairs:\n",
    "            sim[a].add(b)\n",
    "            sim[b].add(a)\n",
    "        return len(words1) == len(words2) and all(w1 == w2 or w2 in sim[w1] for w1, w2 in zip(words1, words2))"
   ]
  },
  {
   "cell_type": "markdown",
   "id": "a4dc1c2f",
   "metadata": {},
   "source": [
    "# 0744 Easy 744 Find Smallest Letter Greater Than Target"
   ]
  },
  {
   "cell_type": "code",
   "execution_count": null,
   "id": "85f29300",
   "metadata": {},
   "outputs": [],
   "source": [
    "# Time:  O(logn)\n",
    "# Space: O(1)\n",
    "\n",
    "import bisect\n",
    "\n",
    "\n",
    "class Solution(object):\n",
    "    def nextGreatestLetter(self, letters, target):\n",
    "        \"\"\"\n",
    "        :type letters: List[str]\n",
    "        :type target: str\n",
    "        :rtype: str\n",
    "        \"\"\"\n",
    "        i = bisect.bisect_right(letters, target)\n",
    "        return letters[0] if i == len(letters) else letters[i]"
   ]
  },
  {
   "cell_type": "markdown",
   "id": "a6c138e5",
   "metadata": {},
   "source": [
    "# 0744 Easy 744 Find Smallest Letter Greater Than Target"
   ]
  },
  {
   "cell_type": "code",
   "execution_count": null,
   "id": "d16ce1c8",
   "metadata": {},
   "outputs": [],
   "source": [
    "class Solution:\n",
    "    def nextGreatestLetter(self, letters, target):\n",
    "        return letters[bisect.bisect(letters, target) % len(letters)]"
   ]
  },
  {
   "cell_type": "markdown",
   "id": "d669c7b2",
   "metadata": {},
   "source": [
    "# 0746 Easy 746 Min Cost Climbing Stairs"
   ]
  },
  {
   "cell_type": "code",
   "execution_count": null,
   "id": "26b10f17",
   "metadata": {},
   "outputs": [],
   "source": [
    "\"\"\"\n",
    "First setup a memo.\n",
    "Every value on index i on the memo, is the min cost we are going to get there.\n",
    "In this case, we are trying to get the min cost going to the 'top'.\n",
    "For every i, we either comes from i-1 or i-2\n",
    "* If we come from i-1, the cost to get to i is memo[i-1]+cost[i-1] (the min cost to go to i-1) + (the cost on i-1)\n",
    "* If we come for i-2, the cost to get to i is memo[i-2]+cost[i-2] (the min cost to go to i-2) + (the cost on i-2)\n",
    "\n",
    "We pick the min from these two option.\n",
    "And continue to iterate to the end.\n",
    "\"\"\"\n",
    "class Solution(object):\n",
    "    def minCostClimbingStairs(self, cost):\n",
    "        if cost is None or len(cost)==0: return 0\n",
    "        memo = [0]*(len(cost)+1)\n",
    "        \n",
    "        for i in xrange(len(memo)):\n",
    "            if i==0 or i==1:\n",
    "                memo[i] = 0\n",
    "            else:\n",
    "                memo[i] = min(memo[i-1]+cost[i-1], memo[i-2]+cost[i-2])\n",
    "                \n",
    "        return memo[-1]\n",
    "\n",
    "#2020/11/9\n",
    "class Solution(object):\n",
    "    def minCostClimbingStairs(self, cost):\n",
    "        def helper(i):\n",
    "            if i in history: return history[i]\n",
    "            \n",
    "            if i>len(cost)-1:\n",
    "                history[i] = 0\n",
    "            elif i==len(cost)-1 or i==len(cost)-2:\n",
    "                history[i] = cost[i]\n",
    "            elif i<len(cost)-2:\n",
    "                history[i] = cost[i] + min(helper(i+1), helper(i+2))\n",
    "                \n",
    "            return history[i]\n",
    "        \n",
    "        history = {}\n",
    "        return min(helper(0), helper(1))\n",
    "            "
   ]
  },
  {
   "cell_type": "markdown",
   "id": "c26ebe3e",
   "metadata": {},
   "source": [
    "# 0746 Easy 746 Min Cost Climbing Stairs"
   ]
  },
  {
   "cell_type": "code",
   "execution_count": null,
   "id": "63f1c13c",
   "metadata": {},
   "outputs": [],
   "source": [
    "class Solution:\n",
    "    def minCostClimbingStairs(self, cost):\n",
    "        \"\"\"\n",
    "        :type cost: List[int]\n",
    "        :rtype: int\n",
    "        \"\"\"\n",
    "        for i in range(2,len(cost)): cost[i]+=min(cost[i-1],cost[i-2])\n",
    "        return min(cost[-1],cost[-2])"
   ]
  },
  {
   "cell_type": "markdown",
   "id": "3b88137e",
   "metadata": {},
   "source": [
    "# 0747 Easy 747 Largest Number At Least Twice of Others"
   ]
  },
  {
   "cell_type": "code",
   "execution_count": null,
   "id": "1705ce65",
   "metadata": {},
   "outputs": [],
   "source": [
    "# Time:  O(n)\n",
    "# Space: O(1)\n",
    "\n",
    "class Solution(object):\n",
    "    def dominantIndex(self, nums):\n",
    "        \"\"\"\n",
    "        :type nums: List[int]\n",
    "        :rtype: int\n",
    "        \"\"\"\n",
    "        m = max(nums)\n",
    "        if all(m >= 2*x for x in nums if x != m):\n",
    "            return nums.index(m)\n",
    "        return -1"
   ]
  },
  {
   "cell_type": "markdown",
   "id": "e06cd20a",
   "metadata": {},
   "source": [
    "# 0747 Easy 747 Largest Number At Least Twice of Others"
   ]
  },
  {
   "cell_type": "code",
   "execution_count": null,
   "id": "3bc8600b",
   "metadata": {},
   "outputs": [],
   "source": [
    "class Solution:\n",
    "    def dominantIndex(self, nums: List[int]) -> int:\n",
    "        mx = max(nums)\n",
    "        return nums.index(mx) if all(num * 2 <= mx for num in nums if num < mx) else -1"
   ]
  },
  {
   "cell_type": "markdown",
   "id": "1b054647",
   "metadata": {},
   "source": [
    "# 0748 Easy 748 Shortest Completing Word"
   ]
  },
  {
   "cell_type": "code",
   "execution_count": null,
   "id": "944fc41f",
   "metadata": {},
   "outputs": [],
   "source": [
    "# Time:  O(n)\n",
    "# Space: O(1)\n",
    "\n",
    "import collections\n",
    "\n",
    "\n",
    "class Solution(object):\n",
    "    def shortestCompletingWord(self, licensePlate, words):\n",
    "        \"\"\"\n",
    "        :type licensePlate: str\n",
    "        :type words: List[str]\n",
    "        :rtype: str\n",
    "        \"\"\"\n",
    "        def contains(counter1, w2):\n",
    "            c2 = collections.Counter(w2.lower())\n",
    "            c2.subtract(counter1)\n",
    "            return all(map(lambda x: x >= 0, c2.values()))\n",
    "\n",
    "        result = None\n",
    "        counter = collections.Counter(c.lower() for c in licensePlate if c.isalpha())\n",
    "        for word in words:\n",
    "            if (result is None or (len(word) < len(result))) and \\\n",
    "               contains(counter, word):\n",
    "                result = word\n",
    "        return result"
   ]
  },
  {
   "cell_type": "markdown",
   "id": "50d7f9dd",
   "metadata": {},
   "source": [
    "# 0748 Easy 748 Shortest Completing Word"
   ]
  },
  {
   "cell_type": "code",
   "execution_count": null,
   "id": "6845162b",
   "metadata": {},
   "outputs": [],
   "source": [
    "class Solution:\n",
    "    def shortestCompletingWord(self, lp, words):\n",
    "        cntr_lp, res = {k: v for k, v in collections.Counter(lp.lower()).items() if k.isalpha()}, [None, None]\n",
    "        for word in words:\n",
    "            check = collections.Counter(word.lower())\n",
    "            if all(True if k in check and v <= check[k] else False for k, v in cntr_lp.items()):\n",
    "                if not any(res) or len(word) < res[1]: res = [word, len(word)]\n",
    "        return res[0]   "
   ]
  },
  {
   "cell_type": "markdown",
   "id": "aab3c0d1",
   "metadata": {},
   "source": [
    "# 0760 Easy 760 Find Anagram Mappings"
   ]
  },
  {
   "cell_type": "code",
   "execution_count": null,
   "id": "6822e307",
   "metadata": {},
   "outputs": [],
   "source": [
    "# Time:  O(n)\n",
    "# Space: O(n)\n",
    "\n",
    "import collections\n",
    "\n",
    "\n",
    "class Solution(object):\n",
    "    def anagramMappings(self, A, B):\n",
    "        \"\"\"\n",
    "        :type A: List[int]\n",
    "        :type B: List[int]\n",
    "        :rtype: List[int]\n",
    "        \"\"\"\n",
    "        lookup = collections.defaultdict(collections.deque)\n",
    "        for i, n in enumerate(B):\n",
    "            lookup[n].append(i)\n",
    "        result = []\n",
    "        for n in A:\n",
    "            result.append(lookup[n].popleft())\n",
    "        return result"
   ]
  },
  {
   "cell_type": "markdown",
   "id": "078cd97b",
   "metadata": {},
   "source": [
    "# 0760 Easy 760 Find Anagram Mappings"
   ]
  },
  {
   "cell_type": "code",
   "execution_count": null,
   "id": "59327c6b",
   "metadata": {},
   "outputs": [],
   "source": [
    "class Solution(object):\n",
    "    def anagramMappings(self, A, B):\n",
    "        \"\"\"\n",
    "        :type A: List[int]\n",
    "        :type B: List[int]\n",
    "        :rtype: List[int]\n",
    "        \"\"\"\n",
    "        val_index = {}\n",
    "        ans = []\n",
    "        for i, n in enumerate(B):\n",
    "            val_index[n] = i\n",
    "        for n in A:\n",
    "            ans.append(val_index[n])\n",
    "        return ans"
   ]
  },
  {
   "cell_type": "markdown",
   "id": "6233fda9",
   "metadata": {},
   "source": [
    "# 0760 Easy 760 Find Anagram Mappings"
   ]
  },
  {
   "cell_type": "code",
   "execution_count": null,
   "id": "32160c02",
   "metadata": {},
   "outputs": [],
   "source": [
    "class Solution:\n",
    "    def anagramMappings(self, A, B):\n",
    "        ind = {num: j for j, num in enumerate(B)}\n",
    "        return [ind[num] for num in A] "
   ]
  },
  {
   "cell_type": "markdown",
   "id": "3f51e219",
   "metadata": {},
   "source": [
    "# 0762 Easy 762 Prime Number of Set Bits in Binary Representation"
   ]
  },
  {
   "cell_type": "code",
   "execution_count": null,
   "id": "bc3b71dc",
   "metadata": {},
   "outputs": [],
   "source": [
    "# Time:  O(log(R - L)) = O(1)\n",
    "# Space: O(1)\n",
    "\n",
    "class Solution(object):\n",
    "    def countPrimeSetBits(self, L, R):\n",
    "        \"\"\"\n",
    "        :type L: int\n",
    "        :type R: int\n",
    "        :rtype: int\n",
    "        \"\"\"\n",
    "        def bitCount(n):\n",
    "            result = 0\n",
    "            while n:\n",
    "                n &= n-1\n",
    "                result += 1\n",
    "            return result\n",
    "\n",
    "        primes = {2, 3, 5, 7, 11, 13, 17, 19}\n",
    "        return sum(bitCount(i) in primes\n",
    "                   for i in xrange(L, R+1))"
   ]
  },
  {
   "cell_type": "markdown",
   "id": "81ddb6f8",
   "metadata": {},
   "source": [
    "# 0762 Easy 762 Prime Number of Set Bits in Binary Representation"
   ]
  },
  {
   "cell_type": "code",
   "execution_count": null,
   "id": "74225a3e",
   "metadata": {},
   "outputs": [],
   "source": [
    "class Solution:\n",
    "    def countPrimeSetBits(self, L, R):\n",
    "        \"\"\"\n",
    "        :type L: int\n",
    "        :type R: int\n",
    "        :rtype: int\n",
    "        \"\"\"\n",
    "        count=0\n",
    "        while L<=R:\n",
    "            if str(bin(L)[2:]).count(\"1\") in [2,3,5,7,11,13,17,19]: count+=1\n",
    "            if str(bin(R)[2:]).count(\"1\") in [2,3,5,7,11,13,17,19]:\n",
    "                count+=1\n",
    "                if L==R: count-=1\n",
    "            L+=1\n",
    "            R-=1\n",
    "        return count"
   ]
  },
  {
   "cell_type": "markdown",
   "id": "ace83302",
   "metadata": {},
   "source": [
    "# 0766 Easy 766 Toeplitz Matrix"
   ]
  },
  {
   "cell_type": "code",
   "execution_count": null,
   "id": "d262b7b7",
   "metadata": {},
   "outputs": [],
   "source": [
    "class Solution(object):\n",
    "    def isToeplitzMatrix(self, matrix):\n",
    "        def check(i0, j0, matrix):\n",
    "            i = i0\n",
    "            j = j0\n",
    "            \n",
    "            while 0<=i<len(matrix) and 0<=j<len(matrix[0]):\n",
    "                if matrix[i][j]!=matrix[i0][j0]: return False\n",
    "                i += 1\n",
    "                j += 1\n",
    "            return True\n",
    "    \n",
    "        M = len(matrix)\n",
    "        N = len(matrix[0])\n",
    "        \n",
    "        for i in xrange(M-1, 0, -1):\n",
    "            if not check(i, 0, matrix): return False\n",
    "        \n",
    "        for j in xrange(N):\n",
    "            if not check(0, j, matrix): return False\n",
    "        \n",
    "        return True"
   ]
  },
  {
   "cell_type": "markdown",
   "id": "eecdb000",
   "metadata": {},
   "source": [
    "# 0766 Easy 766 Toeplitz Matrix"
   ]
  },
  {
   "cell_type": "code",
   "execution_count": null,
   "id": "2f10d1a3",
   "metadata": {},
   "outputs": [],
   "source": [
    "class Solution(object):\n",
    "    def isToeplitzMatrix(self, matrix):\n",
    "        \"\"\"\n",
    "        :type matrix: List[List[int]]\n",
    "        :rtype: bool\n",
    "        \"\"\"\n",
    "        # Actually, we don't need to check the last row and column\n",
    "        for r in range(len(matrix) - 1):\n",
    "            for c in range(len(matrix[0]) - 1):\n",
    "                if matrix[r][c] != matrix[r + 1][c + 1]:\n",
    "                    return False\n",
    "        return True"
   ]
  },
  {
   "cell_type": "markdown",
   "id": "d61ea9b0",
   "metadata": {},
   "source": [
    "# 0766 Easy 766 Toeplitz Matrix"
   ]
  },
  {
   "cell_type": "code",
   "execution_count": null,
   "id": "289546a5",
   "metadata": {},
   "outputs": [],
   "source": [
    "class Solution:\n",
    "    def isToeplitzMatrix(self, matrix):\n",
    "        return all(matrix[i][j] == matrix[i - 1][j - 1] for i in range(1, len(matrix)) for j in range(1, len(matrix[0])))"
   ]
  },
  {
   "cell_type": "markdown",
   "id": "e6f5aa8e",
   "metadata": {},
   "source": [
    "# 0771 Easy 771 Jewels and Stones"
   ]
  },
  {
   "cell_type": "code",
   "execution_count": null,
   "id": "9cb3cd47",
   "metadata": {},
   "outputs": [],
   "source": [
    "#https://leetcode.com/problems/jewels-and-stones/\n",
    "class Solution(object):\n",
    "    def numJewelsInStones(self, J, S):\n",
    "        n=0\n",
    "        for j in J:\n",
    "            n+=S.count(j)\n",
    "        return n"
   ]
  },
  {
   "cell_type": "markdown",
   "id": "855e6d9b",
   "metadata": {},
   "source": [
    "# 0771 Easy 771 Jewels and Stones"
   ]
  },
  {
   "cell_type": "code",
   "execution_count": null,
   "id": "24dd9d1c",
   "metadata": {},
   "outputs": [],
   "source": [
    "class Solution(object):\n",
    "    def numJewelsInStones(self, J, S):\n",
    "        \"\"\"\n",
    "        :type J: str\n",
    "        :type S: str\n",
    "        :rtype: int\n",
    "        \"\"\"\n",
    "        if len(J) == 0 or len(S) == 0:\n",
    "            return 0\n",
    "        j_set = set(J)\n",
    "        ans = 0\n",
    "        for c in S:\n",
    "            if c in j_set:\n",
    "                ans += 1\n",
    "        return ans"
   ]
  },
  {
   "cell_type": "markdown",
   "id": "66fe1abd",
   "metadata": {},
   "source": [
    "# 0771 Easy 771 Jewels and Stones"
   ]
  },
  {
   "cell_type": "code",
   "execution_count": null,
   "id": "023e83b8",
   "metadata": {},
   "outputs": [],
   "source": [
    "class Solution:\n",
    "    def numJewelsInStones(self, J, S):\n",
    "        sj = set(J)\n",
    "        return sum(s in sj for s in S)"
   ]
  },
  {
   "cell_type": "markdown",
   "id": "2c0a7af8",
   "metadata": {},
   "source": [
    "# 0783 Easy 783 Minimum Distance Between BST Nodes"
   ]
  },
  {
   "cell_type": "code",
   "execution_count": null,
   "id": "4a81e27f",
   "metadata": {},
   "outputs": [],
   "source": [
    "# Time:  O(n)\n",
    "# Space: O(h)\n",
    "\n",
    "class Solution(object):\n",
    "    def minDiffInBST(self, root):\n",
    "        \"\"\"\n",
    "        :type root: TreeNode\n",
    "        :rtype: int\n",
    "        \"\"\"\n",
    "        def dfs(node):\n",
    "            if not node:\n",
    "                return\n",
    "            dfs(node.left)\n",
    "            self.result = min(self.result, node.val-self.prev)\n",
    "            self.prev = node.val\n",
    "            dfs(node.right)\n",
    "\n",
    "        self.prev = float('-inf')\n",
    "        self.result = float('inf')\n",
    "        dfs(root)\n",
    "        return self.result"
   ]
  },
  {
   "cell_type": "markdown",
   "id": "2952e884",
   "metadata": {},
   "source": [
    "# 0783 Easy 783 Minimum Distance Between BST Nodes"
   ]
  },
  {
   "cell_type": "code",
   "execution_count": null,
   "id": "3d86d724",
   "metadata": {},
   "outputs": [],
   "source": [
    "class Solution:\n",
    "    def minDiffInBST(self, root):\n",
    "        def dfs(node):\n",
    "            if not node: return float(\"inf\"), float(\"inf\"), -float(\"inf\")\n",
    "            l, lMn, lMx = dfs(node.left)\n",
    "            r, rMn, rMx = dfs(node.right)\n",
    "            return min(l, node.val - lMx, r, rMn - node.val), min(lMn, node.val), max(rMx, node.val)\n",
    "        return dfs(root)[0]"
   ]
  },
  {
   "cell_type": "markdown",
   "id": "e9a7f594",
   "metadata": {},
   "source": [
    "# 0796 Easy 796 Rotate String"
   ]
  },
  {
   "cell_type": "code",
   "execution_count": null,
   "id": "0f847e33",
   "metadata": {},
   "outputs": [],
   "source": [
    "# Time:  O(n)\n",
    "# Space: O(1)\n",
    "\n",
    "class Solution(object):\n",
    "    def rotateString(self, A, B):\n",
    "        \"\"\"\n",
    "        :type A: str\n",
    "        :type B: str\n",
    "        :rtype: bool\n",
    "        \"\"\"\n",
    "        def check(index):\n",
    "            return all(A[(i+index) % len(A)] == c\n",
    "                       for i, c in enumerate(B))\n",
    "\n",
    "        if len(A) != len(B):\n",
    "            return False\n",
    "\n",
    "        M, p = 10**9+7, 113\n",
    "        p_inv = pow(p, M-2, M)\n",
    "\n",
    "        b_hash, power = 0, 1\n",
    "        for c in B:\n",
    "            b_hash += power * ord(c)\n",
    "            b_hash %= M\n",
    "            power = (power*p) % M\n",
    "\n",
    "        a_hash, power = 0, 1\n",
    "        for i in xrange(len(B)):\n",
    "            a_hash += power * ord(A[i%len(A)])\n",
    "            a_hash %= M\n",
    "            power = (power*p) % M\n",
    "\n",
    "        if a_hash == b_hash and check(0): return True\n",
    "\n",
    "        power = (power*p_inv) % M\n",
    "        for i in xrange(len(B), 2*len(A)):\n",
    "            a_hash = (a_hash-ord(A[(i-len(B))%len(A)])) * p_inv\n",
    "            a_hash += power * ord(A[i%len(A)])\n",
    "            a_hash %= M\n",
    "            if a_hash == b_hash and check(i-len(B)+1):\n",
    "                return True\n",
    "\n",
    "        return False\n",
    "\n",
    "\n",
    "# Time:  O(n)\n",
    "# Space: O(n)\n",
    "# KMP algorithm\n",
    "class Solution2(object):\n",
    "    def rotateString(self, A, B):\n",
    "        \"\"\"\n",
    "        :type A: str\n",
    "        :type B: str\n",
    "        :rtype: bool\n",
    "        \"\"\"\n",
    "        def strStr(haystack, needle):\n",
    "            def KMP(text, pattern):\n",
    "                prefix = getPrefix(pattern)\n",
    "                j = -1\n",
    "                for i in xrange(len(text)):\n",
    "                    while j > -1 and pattern[j + 1] != text[i]:\n",
    "                        j = prefix[j]\n",
    "                    if pattern[j + 1] == text[i]:\n",
    "                        j += 1\n",
    "                    if j == len(pattern) - 1:\n",
    "                        return i - j\n",
    "                return -1\n",
    "\n",
    "            def getPrefix(pattern):\n",
    "                prefix = [-1] * len(pattern)\n",
    "                j = -1\n",
    "                for i in xrange(1, len(pattern)):\n",
    "                    while j > -1 and pattern[j + 1] != pattern[i]:\n",
    "                        j = prefix[j]\n",
    "                    if pattern[j + 1] == pattern[i]:\n",
    "                        j += 1\n",
    "                    prefix[i] = j\n",
    "                return prefix\n",
    "\n",
    "            if not needle:\n",
    "                return 0\n",
    "            return KMP(haystack, needle)\n",
    "\n",
    "        if len(A) != len(B):\n",
    "            return False\n",
    "        return strStr(A*2, B) != -1\n",
    "\n",
    "\n",
    "# Time:  O(n^2)\n",
    "# Space: O(n)\n",
    "class Solution3(object):\n",
    "    def rotateString(self, A, B):\n",
    "        \"\"\"\n",
    "        :type A: str\n",
    "        :type B: str\n",
    "        :rtype: bool\n",
    "        \"\"\"\n",
    "        return len(A) == len(B) and B in A*2"
   ]
  },
  {
   "cell_type": "markdown",
   "id": "38c1e26c",
   "metadata": {},
   "source": [
    "# 0796 Easy 796 Rotate String"
   ]
  },
  {
   "cell_type": "code",
   "execution_count": null,
   "id": "3633558c",
   "metadata": {},
   "outputs": [],
   "source": [
    "class Solution(object):\n",
    "    def rotateString(self, A, B):\n",
    "        \"\"\"\n",
    "        :type A: str\n",
    "        :type B: str\n",
    "        :rtype: bool\n",
    "        \"\"\"\n",
    "        return True if [A[i:]+A[:i] for i in range(len(A)) if A[i:]+A[:i]==B] else False"
   ]
  },
  {
   "cell_type": "markdown",
   "id": "e2f2def8",
   "metadata": {},
   "source": [
    "# 0800 Easy 800 Similar RGB Color"
   ]
  },
  {
   "cell_type": "code",
   "execution_count": null,
   "id": "829c1244",
   "metadata": {},
   "outputs": [],
   "source": [
    "# Time:  O(1)\n",
    "# Space: O(1)\n",
    "\n",
    "class Solution(object):\n",
    "    def similarRGB(self, color):\n",
    "        \"\"\"\n",
    "        :type color: str\n",
    "        :rtype: str\n",
    "        \"\"\"\n",
    "        def rounding(color):\n",
    "            q, r = divmod(int(color, 16), 17)\n",
    "            if r > 8: q += 1\n",
    "            return '{:02x}'.format(17*q)\n",
    "\n",
    "        return '#' + \\\n",
    "                rounding(color[1:3]) + \\\n",
    "                rounding(color[3:5]) + \\\n",
    "                rounding(color[5:7])"
   ]
  },
  {
   "cell_type": "markdown",
   "id": "38ad504a",
   "metadata": {},
   "source": [
    "# 0800 Easy 800 Similar RGB Color"
   ]
  },
  {
   "cell_type": "code",
   "execution_count": null,
   "id": "97aa15d9",
   "metadata": {},
   "outputs": [],
   "source": [
    "class Solution:\n",
    "    def similarRGB(self, color):\n",
    "        \"\"\"\n",
    "        :type color: str\n",
    "        :rtype: str\n",
    "        \"\"\"\n",
    "        import math\n",
    "        num1, num2, num3 = int(color[1:3],16), int(color[3:5],16), int(color[5:7],16)\n",
    "        letters = [\"0\",\"1\",\"2\",\"3\",\"4\",\"5\",\"6\",\"7\",\"8\",\"9\",\"a\",\"b\",\"c\",\"d\",\"e\",\"f\"]\n",
    "        min1, min2, min3, res = math.inf, math.inf, math.inf, [\"#\",\"\",\"\",\"\"]\n",
    "        for letter in letters:\n",
    "            min1, min2, min3 = min(min1,(num1-int(letter*2,16))**2), min(min2,(num2-int(letter*2,16))**2), min(min3,(num3-int(letter*2,16))**2) \n",
    "            if min1 == (num1-int(letter*2,16))**2: res[1] = letter*2 \n",
    "            if min2 == (num2-int(letter*2,16))**2: res[2] = letter*2 \n",
    "            if min3 == (num3-int(letter*2,16))**2: res[3] = letter*2\n",
    "        return \"\".join(res)"
   ]
  },
  {
   "cell_type": "markdown",
   "id": "f783eaf4",
   "metadata": {},
   "source": [
    "# 0804 Easy 804 Unique Morse Code Words"
   ]
  },
  {
   "cell_type": "code",
   "execution_count": null,
   "id": "45f4a755",
   "metadata": {},
   "outputs": [],
   "source": [
    "# Time:  O(n), n is the sume of all word lengths\n",
    "# Space: O(n)\n",
    "\n",
    "class Solution(object):\n",
    "    def uniqueMorseRepresentations(self, words):\n",
    "        \"\"\"\n",
    "        :type words: List[str]\n",
    "        :rtype: int\n",
    "        \"\"\"\n",
    "        MORSE = [\".-\", \"-...\", \"-.-.\", \"-..\", \".\", \"..-.\", \"--.\",\n",
    "                 \"....\", \"..\", \".---\", \"-.-\", \".-..\", \"--\", \"-.\",\n",
    "                 \"---\", \".--.\", \"--.-\", \".-.\", \"...\", \"-\", \"..-\",\n",
    "                 \"...-\", \".--\", \"-..-\", \"-.--\", \"--..\"]\n",
    "\n",
    "        lookup = {\"\".join(MORSE[ord(c) - ord('a')] for c in word) \\\n",
    "                  for word in words}\n",
    "        return len(lookup)"
   ]
  },
  {
   "cell_type": "markdown",
   "id": "c0a23701",
   "metadata": {},
   "source": [
    "# 0804 Easy 804 Unique Morse Code Words"
   ]
  },
  {
   "cell_type": "code",
   "execution_count": null,
   "id": "8624d7de",
   "metadata": {},
   "outputs": [],
   "source": [
    "Morse_tab = [\".-\",\"-...\",\"-.-.\",\n",
    "             \"-..\",\".\",\"..-.\",\"--.\",\"....\",\n",
    "             \"..\",\".---\",\"-.-\",\".-..\",\"--\",\n",
    "             \"-.\",\"---\",\".--.\",\"--.-\",\".-.\",\n",
    "             \"...\",\"-\",\"..-\",\"...-\",\".--\",\n",
    "             \"-..-\",\"-.--\",\"--..\"]\n",
    "\n",
    "class Solution(object):\n",
    "    # https://leetcode.com/problems/unique-morse-code-words/solution/\n",
    "    def uniqueMorseRepresentations(self, words):\n",
    "        \"\"\"\n",
    "        :type words: List[str]\n",
    "        :rtype: int\n",
    "        \"\"\"\n",
    "        if len(words) == 0:\n",
    "            return 0\n",
    "        ans_set = set()\n",
    "        for word in words:\n",
    "            morsed = \"\"\n",
    "            for c in word:\n",
    "                morsed += Morse_tab[ord(c) - ord('a')]\n",
    "            \n",
    "            ans_set.add(morsed)\n",
    "        return len(ans_set)"
   ]
  },
  {
   "cell_type": "markdown",
   "id": "ea6188c3",
   "metadata": {},
   "source": [
    "# 0804 Easy 804 Unique Morse Code Words"
   ]
  },
  {
   "cell_type": "code",
   "execution_count": null,
   "id": "797110ac",
   "metadata": {},
   "outputs": [],
   "source": [
    "class Solution:\n",
    "    def uniqueMorseRepresentations(self, words):\n",
    "        \"\"\"\n",
    "        :type words: List[str]\n",
    "        :rtype: int\n",
    "        \"\"\"\n",
    "        dic=set()\n",
    "        letters=[\".-\",\"-...\",\"-.-.\",\"-..\",\".\",\"..-.\",\"--.\",\"....\",\"..\",\".---\",\"-.-\",\".-..\",\"--\",\"-.\",\"---\",\".--.\",\"--.-\",\".-.\",\"...\",\"-\",\"..-\",\"...-\",\".--\",\"-..-\",\"-.--\",\"--..\"]\n",
    "        for word in words:\n",
    "            code=[]\n",
    "            for letter in word: code.append(letters[ord(letter)-ord(\"a\")])\n",
    "            code= \"\".join(code)\n",
    "            if not code in dic: dic.add(code)\n",
    "        return len(dic)"
   ]
  },
  {
   "cell_type": "markdown",
   "id": "9091f97a",
   "metadata": {},
   "source": [
    "# 0806 Easy 806 Number of Lines To Write String"
   ]
  },
  {
   "cell_type": "code",
   "execution_count": null,
   "id": "16fae38d",
   "metadata": {},
   "outputs": [],
   "source": [
    "# Time:  O(n)\n",
    "# Space: O(1)\n",
    "\n",
    "class Solution(object):\n",
    "    def numberOfLines(self, widths, S):\n",
    "        \"\"\"\n",
    "        :type widths: List[int]\n",
    "        :type S: str\n",
    "        :rtype: List[int]\n",
    "        \"\"\"\n",
    "        result = [1, 0]\n",
    "        for c in S:\n",
    "            w = widths[ord(c)-ord('a')]\n",
    "            result[1] += w\n",
    "            if result[1] > 100:\n",
    "                result[0] += 1\n",
    "                result[1] = w\n",
    "        return result"
   ]
  },
  {
   "cell_type": "markdown",
   "id": "1785066f",
   "metadata": {},
   "source": [
    "# 0806 Easy 806 Number of Lines To Write String"
   ]
  },
  {
   "cell_type": "code",
   "execution_count": null,
   "id": "5a793851",
   "metadata": {},
   "outputs": [],
   "source": [
    "class Solution(object):\n",
    "    def numberOfLines(self, widths, S):\n",
    "        \"\"\"\n",
    "        :type widths: List[int]\n",
    "        :type S: str\n",
    "        :rtype: List[int]\n",
    "        \"\"\"\n",
    "        left=0\n",
    "        lines=1\n",
    "        for char in S:\n",
    "            if left+widths[ord(char)-ord(\"a\")]<=100:\n",
    "                left+=widths[ord(char)-ord(\"a\")]\n",
    "            else:\n",
    "                lines+=1\n",
    "                left=widths[ord(char)-ord(\"a\")]\n",
    "        return [lines, left]"
   ]
  },
  {
   "cell_type": "markdown",
   "id": "1096f362",
   "metadata": {},
   "source": [
    "# 0812 Easy 812 Largest Triangle Area"
   ]
  },
  {
   "cell_type": "code",
   "execution_count": null,
   "id": "ab0d2741",
   "metadata": {},
   "outputs": [],
   "source": [
    "# Time:  O(n^3)\n",
    "# Space: O(1)\n",
    "\n",
    "\n",
    "class Solution(object):\n",
    "    def largestTriangleArea(self, points):\n",
    "        \"\"\"\n",
    "        :type points: List[List[int]]\n",
    "        :rtype: float\n",
    "        \"\"\"\n",
    "        result = 0\n",
    "        for i in xrange(len(points)-2):\n",
    "            for j in xrange(i+1, len(points)-1):\n",
    "                for k in xrange(j+1, len(points)):\n",
    "                    result = max(result,\n",
    "                                 0.5 * abs(points[i][0] * points[j][1] +\n",
    "                                           points[j][0] * points[k][1] +\n",
    "                                           points[k][0] * points[i][1] -\n",
    "                                           points[j][0] * points[i][1] -\n",
    "                                           points[k][0] * points[j][1] -\n",
    "                                           points[i][0] * points[k][1]))\n",
    "        return result"
   ]
  },
  {
   "cell_type": "markdown",
   "id": "ef22cba2",
   "metadata": {},
   "source": [
    "# 0812 Easy 812 Largest Triangle Area"
   ]
  },
  {
   "cell_type": "code",
   "execution_count": null,
   "id": "aa930673",
   "metadata": {},
   "outputs": [],
   "source": [
    "class Solution:\n",
    "    def largestTriangleArea(self, p):\n",
    "        \"\"\"\n",
    "        :type points: List[List[int]]\n",
    "        :rtype: float\n",
    "        \"\"\"\n",
    "        from itertools import combinations as cb\n",
    "        def f(p1, p2, p3):\n",
    "            (x1, y1), (x2, y2), (x3, y3) = p1,p2,p3\n",
    "            return 0.5 * abs(x2 * y3 + x1 * y2 + x3 * y1 - x3 * y2 - x2 * y1 - x1 * y3)\n",
    "        return max(f(a, b, c) for a, b, c in cb(p, 3))"
   ]
  },
  {
   "cell_type": "markdown",
   "id": "6bb4cf13",
   "metadata": {},
   "source": [
    "# 0819 Easy 819 Most Common Word"
   ]
  },
  {
   "cell_type": "code",
   "execution_count": null,
   "id": "619c6267",
   "metadata": {},
   "outputs": [],
   "source": [
    "# Time:  O(m + n), m is the size of banned, n is the size of paragraph\n",
    "# Space: O(m + n)\n",
    "\n",
    "import collections\n",
    "\n",
    "\n",
    "class Solution(object):\n",
    "    def mostCommonWord(self, paragraph, banned):\n",
    "        \"\"\"\n",
    "        :type paragraph: str\n",
    "        :type banned: List[str]\n",
    "        :rtype: str\n",
    "        \"\"\"\n",
    "        lookup = set(banned)\n",
    "        counts = collections.Counter(word.strip(\"!?',.\")\n",
    "                                     for word in paragraph.lower().split())\n",
    "\n",
    "        result = ''\n",
    "        for word in counts:\n",
    "            if (not result or counts[word] > counts[result]) and \\\n",
    "               word not in lookup:\n",
    "                result = word\n",
    "        return result"
   ]
  },
  {
   "cell_type": "markdown",
   "id": "6ee39dfe",
   "metadata": {},
   "source": [
    "# 0819 Easy 819 Most Common Word"
   ]
  },
  {
   "cell_type": "code",
   "execution_count": null,
   "id": "e9a283e9",
   "metadata": {},
   "outputs": [],
   "source": [
    "class Solution(object):\n",
    "    def mostCommonWord(self, paragraph, banned):\n",
    "        \"\"\"\n",
    "        :type paragraph: str\n",
    "        :type banned: List[str]\n",
    "        :rtype: str\n",
    "        \"\"\"\n",
    "        # https://leetcode.com/problems/most-common-word/discuss/193268/python-one-liner\n",
    "        banned = set(banned)\n",
    "        count = collections.Counter(word for word in re.split('[ !?\\',;.]',\n",
    "                                    paragraph.lower()) if word)\n",
    "        return max((item for item in count.items() if item[0] not in banned),\n",
    "                   key=operator.itemgetter(1))[0]"
   ]
  },
  {
   "cell_type": "markdown",
   "id": "40b02a37",
   "metadata": {},
   "source": [
    "# 0819 Easy 819 Most Common Word"
   ]
  },
  {
   "cell_type": "code",
   "execution_count": null,
   "id": "7cb754df",
   "metadata": {},
   "outputs": [],
   "source": [
    "class Solution:\n",
    "    def mostCommonWord(self, paragraph, banned):\n",
    "        \"\"\"\n",
    "        :type paragraph: str\n",
    "        :type banned: List[str]\n",
    "        :rtype: str\n",
    "        \"\"\"\n",
    "        paragraph = re.findall(r\"\\u005Cw+\", paragraph)\n",
    "        dic = {}\n",
    "        mx = [0, 0]\n",
    "        for char in paragraph:\n",
    "            char = char.lower()\n",
    "            if char not in banned:\n",
    "                if char not in dic: dic[char] = 1\n",
    "                else: dic[char] += 1\n",
    "                mx[0] = max(mx[0], dic[char])\n",
    "                if mx[0] == dic[char]: mx[1] = char\n",
    "        return mx[1]\n",
    "        "
   ]
  },
  {
   "cell_type": "markdown",
   "id": "098ab2a7",
   "metadata": {},
   "source": [
    "# 0821 Easy 821 Shortest Distance to a Character"
   ]
  },
  {
   "cell_type": "code",
   "execution_count": null,
   "id": "febe914b",
   "metadata": {},
   "outputs": [],
   "source": [
    "# Time:  O(n)\n",
    "# Space: O(1)\n",
    "\n",
    "import itertools\n",
    "\n",
    "\n",
    "class Solution(object):\n",
    "    def shortestToChar(self, S, C):\n",
    "        \"\"\"\n",
    "        :type S: str\n",
    "        :type C: str\n",
    "        :rtype: List[int]\n",
    "        \"\"\"\n",
    "        result = [len(S)] * len(S)\n",
    "        prev = -len(S)\n",
    "        for i in itertools.chain(xrange(len(S)),\n",
    "                                 reversed(xrange(len(S)))):\n",
    "            if S[i] == C:\n",
    "                prev = i\n",
    "            result[i] = min(result[i], abs(i-prev))\n",
    "        return result"
   ]
  },
  {
   "cell_type": "markdown",
   "id": "734d55f2",
   "metadata": {},
   "source": [
    "# 0821 Easy 821 Shortest Distance to a Character"
   ]
  },
  {
   "cell_type": "code",
   "execution_count": null,
   "id": "cec09cd2",
   "metadata": {},
   "outputs": [],
   "source": [
    "class Solution:\n",
    "    def shortestToChar(self, S, C):\n",
    "        \"\"\"\n",
    "        :type S: str\n",
    "        :type C: str\n",
    "        :rtype: List[int]\n",
    "        \"\"\"\n",
    "        char1, char2, diff1, diff2, res = False, False, 0, 0, [None]* len(S)\n",
    "        for i in range(len(S)):\n",
    "            if char1: res[i], diff1 = min(res[i], diff1 + 1) if res[i] else diff1 + 1, diff1 + 1\n",
    "            if S[i] == C: diff1, res[i], char1 = 0, 0, True  \n",
    "            if char2: res[len(S) - 1 - i], diff2 = min(res[len(S) - 1 - i], diff2 + 1) if res[len(S) - 1 - i] else diff2 + 1, diff2 + 1\n",
    "            if S[len(S) - 1 - i] == C: diff2, res[len(S) - 1 - i], char2 = 0, 0, True\n",
    "        return res"
   ]
  },
  {
   "cell_type": "markdown",
   "id": "aace2b46",
   "metadata": {},
   "source": [
    "# 0824 Easy 824 Goat Latin"
   ]
  },
  {
   "cell_type": "code",
   "execution_count": null,
   "id": "16430988",
   "metadata": {},
   "outputs": [],
   "source": [
    "# Time:  O(n + w^2), n = w * l,\n",
    "#                    n is the length of S,\n",
    "#                    w is the number of word,\n",
    "#                    l is the average length of word\n",
    "# Space: O(n)\n",
    "\n",
    "class Solution(object):\n",
    "    def toGoatLatin(self, S):\n",
    "        \"\"\"\n",
    "        :type S: str\n",
    "        :rtype: str\n",
    "        \"\"\"\n",
    "        def convert(S):\n",
    "            vowel = set('aeiouAEIOU')\n",
    "            for i, word in enumerate(S.split(), 1):\n",
    "                if word[0] not in vowel:\n",
    "                    word = word[1:] + word[:1]\n",
    "                yield word + 'ma' + 'a'*i\n",
    "        return \" \".join(convert(S))"
   ]
  },
  {
   "cell_type": "markdown",
   "id": "b3ac8997",
   "metadata": {},
   "source": [
    "# 0824 Easy 824 Goat Latin"
   ]
  },
  {
   "cell_type": "code",
   "execution_count": null,
   "id": "147ad796",
   "metadata": {},
   "outputs": [],
   "source": [
    "class Solution:\n",
    "    def toGoatLatin(self, S):\n",
    "        s, vowels = S.split(), {\"a\", \"e\", \"i\", \"o\", \"u\"} \n",
    "        return \" \".join([(s[i][0].lower() in vowels and s[i] or s[i][1:] + s[i][0]) + \"m\" + \"a\" * (i + 2) for i in range(len(s))])"
   ]
  },
  {
   "cell_type": "markdown",
   "id": "e20f1f9e",
   "metadata": {},
   "source": [
    "# 0830 Easy 830 Positions of Large Groups"
   ]
  },
  {
   "cell_type": "code",
   "execution_count": null,
   "id": "66cd123d",
   "metadata": {},
   "outputs": [],
   "source": [
    "# Time:  O(n)\n",
    "# Space: O(1)\n",
    "\n",
    "\n",
    "class Solution(object):\n",
    "    def largeGroupPositions(self, S):\n",
    "        \"\"\"\n",
    "        :type S: str\n",
    "        :rtype: List[List[int]]\n",
    "        \"\"\"\n",
    "        result = []\n",
    "        i = 0\n",
    "        for j in xrange(len(S)):\n",
    "            if j == len(S)-1 or S[j] != S[j+1]:\n",
    "                if j-i+1 >= 3:\n",
    "                    result.append([i, j])\n",
    "                i = j+1\n",
    "        return result"
   ]
  },
  {
   "cell_type": "markdown",
   "id": "89b65525",
   "metadata": {},
   "source": [
    "# 0830 Easy 830 Positions of Large Groups"
   ]
  },
  {
   "cell_type": "code",
   "execution_count": null,
   "id": "3c863ff7",
   "metadata": {},
   "outputs": [],
   "source": [
    "class Solution:\n",
    "    def largeGroupPositions(self, S):\n",
    "        res = []\n",
    "        l = r = 0\n",
    "        for i in range(1, len(S)):\n",
    "            if S[i] == S[i - 1]: r += 1\n",
    "            if r - l >= 2 and (S[i] != S[i - 1] or i == len(S) - 1): res.append([l, r])\n",
    "            if S[i] != S[i - 1]: l = r = i\n",
    "        return res"
   ]
  },
  {
   "cell_type": "markdown",
   "id": "9525c590",
   "metadata": {},
   "source": [
    "# 0832 Easy 832 Flipping an Image"
   ]
  },
  {
   "cell_type": "code",
   "execution_count": null,
   "id": "2629e441",
   "metadata": {},
   "outputs": [],
   "source": [
    "# Time:  O(n^2)\n",
    "# Space: O(1)\n",
    "\n",
    "\n",
    "class Solution(object):\n",
    "    def flipAndInvertImage(self, A):\n",
    "        \"\"\"\n",
    "        :type A: List[List[int]]\n",
    "        :rtype: List[List[int]]\n",
    "        \"\"\"\n",
    "        for row in A:\n",
    "            for i in xrange((len(row)+1) // 2):\n",
    "                row[i], row[~i] = row[~i] ^ 1, row[i] ^ 1\n",
    "        return A"
   ]
  },
  {
   "cell_type": "markdown",
   "id": "a72ebe5e",
   "metadata": {},
   "source": [
    "# 0832 Easy 832 Flipping an Image"
   ]
  },
  {
   "cell_type": "code",
   "execution_count": null,
   "id": "e3e9abf6",
   "metadata": {},
   "outputs": [],
   "source": [
    "class Solution(object):\n",
    "    def flipAndInvertImage(self, A):\n",
    "        for row in A:\n",
    "            for i in xrange((len(row) + 1) / 2):\n",
    "                \"\"\"\n",
    "                In Python, the shortcut row[~i] = row[-i-1] = row[len(row) - 1 - i]\n",
    "                helps us find the i-th value of the row, counting from the right.\n",
    "                \"\"\"\n",
    "                row[i], row[~i] = row[~i] ^ 1, row[i] ^ 1\n",
    "        return A\n",
    "        # return [[1 ^ i for i in row[::-1]] for row in A]"
   ]
  },
  {
   "cell_type": "markdown",
   "id": "011fe03a",
   "metadata": {},
   "source": [
    "# 0832 Easy 832 Flipping an Image"
   ]
  },
  {
   "cell_type": "code",
   "execution_count": null,
   "id": "de3b1ba3",
   "metadata": {},
   "outputs": [],
   "source": [
    "class Solution(object):\n",
    "    def flipAndInvertImage(self, A):\n",
    "        return [[1 - x for x in A[i][::-1]] for i in range(len(A))]"
   ]
  },
  {
   "cell_type": "markdown",
   "id": "3f1561e8",
   "metadata": {},
   "source": [
    "# 0836 Easy 836 Rectangle Overlap"
   ]
  },
  {
   "cell_type": "code",
   "execution_count": null,
   "id": "3462569e",
   "metadata": {},
   "outputs": [],
   "source": [
    "# Time:  O(1)\n",
    "# Space: O(1)\n",
    "\n",
    "class Solution(object):\n",
    "    def isRectangleOverlap(self, rec1, rec2):\n",
    "        \"\"\"\n",
    "        :type rec1: List[int]\n",
    "        :type rec2: List[int]\n",
    "        :rtype: bool\n",
    "        \"\"\"\n",
    "        def intersect(p_left, p_right, q_left, q_right):\n",
    "            return max(p_left, q_left) < min(p_right, q_right)\n",
    "\n",
    "        return (intersect(rec1[0], rec1[2], rec2[0], rec2[2]) and\n",
    "                intersect(rec1[1], rec1[3], rec2[1], rec2[3]))"
   ]
  },
  {
   "cell_type": "markdown",
   "id": "d9d86fe0",
   "metadata": {},
   "source": [
    "# 0836 Easy 836 Rectangle Overlap"
   ]
  },
  {
   "cell_type": "code",
   "execution_count": null,
   "id": "30240b70",
   "metadata": {},
   "outputs": [],
   "source": [
    "class Solution(object):\n",
    "    def isRectangleOverlap(self, rec1, rec2):\n",
    "        \"\"\"\n",
    "        :type rec1: List[int]\n",
    "        :type rec2: List[int]\n",
    "        :rtype: bool\n",
    "        \"\"\"\n",
    "        return not (rec1[2] <= rec2[0] or  # left\n",
    "                    rec1[3] <= rec2[1] or  # bottom\n",
    "                    rec1[0] >= rec2[2] or  # right\n",
    "                    rec1[1] >= rec2[3])    # top\n",
    "\n",
    "    # def isRectangleOverlap(self, rec1, rec2):\n",
    "    #     def intersect(p_left, p_right, q_left, q_right):\n",
    "    #         return min(p_right, q_right) > max(p_left, q_left)\n",
    "    #     return (intersect(rec1[0], rec1[2], rec2[0], rec2[2]) and\n",
    "    #             intersect(rec1[1], rec1[3], rec2[1], rec2[3]))"
   ]
  },
  {
   "cell_type": "markdown",
   "id": "7896b8a2",
   "metadata": {},
   "source": [
    "# 0836 Easy 836 Rectangle Overlap"
   ]
  },
  {
   "cell_type": "code",
   "execution_count": null,
   "id": "081535e2",
   "metadata": {},
   "outputs": [],
   "source": [
    "class Solution:\n",
    "    def isRectangleOverlap(self, rec1, rec2):\n",
    "        x = (rec1[2] - rec1[0] + rec2[2] - rec2[0]) > (max(rec1[2], rec2[2]) - min(rec1[0], rec2[0]))\n",
    "        y = (rec1[3] - rec1[1] + rec2[3] - rec2[1]) > (max(rec1[3], rec2[3]) - min(rec1[1], rec2[1]))\n",
    "        return x and y"
   ]
  },
  {
   "cell_type": "markdown",
   "id": "e2ebbfdf",
   "metadata": {},
   "source": [
    "# 0844 Easy 844 Backspace String Compare"
   ]
  },
  {
   "cell_type": "code",
   "execution_count": null,
   "id": "3cda65e7",
   "metadata": {},
   "outputs": [],
   "source": [
    "#https://leetcode.com/problems/backspace-string-compare/\n",
    "class Solution:\n",
    "    #Compare from backward. Because we need to count the hashtags first.\n",
    "    #Compare the char that are not canceled by the hashtags, letter by letter.\n",
    "    #So we don't have to convert the whole string if they are not the same.\n",
    "    #Return Fasle, as soon as we find out that they are not the same.\n",
    "    \n",
    "    def backspaceCompare(self, S1, S2):\n",
    "\t\t#index compared so far\n",
    "        i = len(S1)-1\n",
    "        j = len(S2)-1\n",
    "\t\t\n",
    "        while i>=0 or j>=0:\n",
    "\t\t\t#the first char that are not canceled by the hashtags\n",
    "            c1 = ''\n",
    "            c2 = ''\n",
    "            \n",
    "            if i>=0:\n",
    "                c1, i = self.getChar(S1, i)\n",
    "            if j>=0:\n",
    "                c2, j = self.getChar(S2, j)\n",
    "            if c1!=c2:\n",
    "                return False\n",
    "        return True\n",
    "    \n",
    "    def getChar(self, s, i):\n",
    "\t\t#return the first character that are not canceled by the hashtag\n",
    "\t\t#return inedx compared so far so we don't have to do that again\n",
    "        c = ''\n",
    "        hashtag = 0\n",
    "        \n",
    "        while i>=0 and c=='':\n",
    "            char = s[i]\n",
    "            if char=='#':\n",
    "                hashtag+=1\n",
    "            elif hashtag==0:\n",
    "                c = char\n",
    "            else:\n",
    "                hashtag-=1\n",
    "            i-=1\n",
    "        return c, i\n",
    "\"\"\"\n",
    "Time: O(N)\n",
    "Space: O(1)\n",
    "\"\"\"\n",
    "class Solution(object):\n",
    "    def backspaceCompare(self, s1, s2):\n",
    "        i = len(s1)-1\n",
    "        j = len(s2)-1\n",
    "        c1 = 0 #s1 unprocessed backspace count\n",
    "        c2 = 0 #s2 unprocessed backspace count\n",
    "        \n",
    "        while i>=0 or j>=0:\n",
    "            while i>=0:\n",
    "                if s1[i]=='#':\n",
    "                    c1 += 1\n",
    "                    i -= 1\n",
    "                elif c1>0:\n",
    "                    c1 -= 1\n",
    "                    i -= 1\n",
    "                else:\n",
    "                    break\n",
    "            \n",
    "            while j>=0:\n",
    "                if s2[j]=='#':\n",
    "                    c2 += 1\n",
    "                    j -= 1\n",
    "                elif c2>0:\n",
    "                    c2 -= 1\n",
    "                    j -= 1\n",
    "                else:\n",
    "                    break\n",
    "            \n",
    "            # if one of the string is finished, the other one should be finished, too.\n",
    "            if i<0: return j<0\n",
    "            if j<0: return i<0\n",
    "            \n",
    "            \n",
    "            if s1[i]!=s2[j]: return False\n",
    "            \n",
    "            i -= 1\n",
    "            j -= 1\n",
    "            \n",
    "        return True\n",
    "\n",
    "\n",
    "class Solution(object):\n",
    "    def backspaceCompare(self, s, t):\n",
    "        def helper(S):\n",
    "            ans = ''\n",
    "            i = len(S)-1\n",
    "            backspaceCount = 0\n",
    "            \n",
    "            while i>=0:\n",
    "                if S[i]=='#':\n",
    "                    backspaceCount += 1\n",
    "                else:\n",
    "                    if backspaceCount>0:\n",
    "                        backspaceCount -= 1\n",
    "                    else:\n",
    "                        ans += S[i]\n",
    "                i -= 1\n",
    "            return ans\n",
    "        \n",
    "        return helper(s)==helper(t)"
   ]
  },
  {
   "cell_type": "markdown",
   "id": "4c42a5fb",
   "metadata": {},
   "source": [
    "# 0844 Easy 844 Backspace String Compare"
   ]
  },
  {
   "cell_type": "code",
   "execution_count": null,
   "id": "4bc8b8c6",
   "metadata": {},
   "outputs": [],
   "source": [
    "class Solution(object):\n",
    "    def backspaceCompare(self, S, T):\n",
    "        \"\"\"\n",
    "        :type S: str\n",
    "        :type T: str\n",
    "        :rtype: bool\n",
    "        \"\"\"\n",
    "        if S == T:\n",
    "            return True\n",
    "        s_stack = []\n",
    "        t_stack = []\n",
    "        for c in S:\n",
    "            if c != '#':\n",
    "                s_stack.append(c)\n",
    "            elif len(s_stack) != 0:\n",
    "                s_stack.pop(-1)\n",
    "        for c in T:\n",
    "            if c != '#':\n",
    "                t_stack.append(c)\n",
    "            elif len(t_stack) != 0:\n",
    "                t_stack.pop(-1)\n",
    "        return ''.join(s_stack) == ''.join(t_stack)\n",
    "\n",
    "    # def backspaceCompare(self, S, T):\n",
    "    #     # https://leetcode.com/problems/backspace-string-compare/discuss/135603/C%2B%2BJavaPython-O(N)-time-and-O(1)-space\n",
    "    #     back = lambda res, c: res[:-1] if c == '#' else res + c\n",
    "    #     return reduce(back, S, \"\") == reduce(back, T, \"\")\n",
    "\n",
    "    # def backspaceCompare(self, S, T):\n",
    "    #     def back(res, c):\n",
    "    #         if c != '#': res.append(c)\n",
    "    #         elif res: res.pop()\n",
    "    #         return res\n",
    "    #     return reduce(back, S, []) == reduce(back, T, [])\n",
    "\n",
    "\n",
    "    # def backspaceCompare(self, S, T):\n",
    "    #     i, j = len(S) - 1, len(T) - 1\n",
    "    #     backS = backT = 0\n",
    "    #     while True:\n",
    "    #         while i >= 0 and (backS or S[i] == '#'):\n",
    "    #             backS += 1 if S[i] == '#' else -1\n",
    "    #             i -= 1\n",
    "    #         while j >= 0 and (backT or T[j] == '#'):\n",
    "    #             backT += 1 if T[j] == '#' else -1\n",
    "    #             j -= 1\n",
    "    #         if not (i >= 0 and j >= 0 and S[i] == T[j]):\n",
    "    #             return i == j == -1\n",
    "    #         i, j = i - 1, j - 1"
   ]
  },
  {
   "cell_type": "markdown",
   "id": "7fb3cdb3",
   "metadata": {},
   "source": [
    "# 0844 Easy 844 Backspace String Compare"
   ]
  },
  {
   "cell_type": "code",
   "execution_count": null,
   "id": "6c70093c",
   "metadata": {},
   "outputs": [],
   "source": [
    "class Solution:\n",
    "    def backspaceCompare(self, S, T):\n",
    "        def construct(s):\n",
    "            new_s = []\n",
    "            for c in s:\n",
    "                if c == \"#\" and len(new_s) > 0:\n",
    "                    new_s.pop()\n",
    "                elif c != \"#\":\n",
    "                    new_s.append(c)\n",
    "            return new_s\n",
    "        s, t = construct(S), construct(T)\n",
    "        return s == t"
   ]
  },
  {
   "cell_type": "markdown",
   "id": "d97d8f25",
   "metadata": {},
   "source": [
    "# 0859 Easy 859 Buddy Strings"
   ]
  },
  {
   "cell_type": "code",
   "execution_count": null,
   "id": "f0235020",
   "metadata": {},
   "outputs": [],
   "source": [
    "# Time:  O(n)\n",
    "# Space: O(1)\n",
    "\n",
    "import itertools\n",
    "\n",
    "\n",
    "class Solution(object):\n",
    "    def buddyStrings(self, A, B):\n",
    "        \"\"\"\n",
    "        :type A: str\n",
    "        :type B: str\n",
    "        :rtype: bool\n",
    "        \"\"\"\n",
    "        if len(A) != len(B):\n",
    "            return False\n",
    "        diff = []\n",
    "        for a, b in itertools.izip(A, B):\n",
    "            if a != b:\n",
    "                diff.append((a, b))\n",
    "                if len(diff) > 2:\n",
    "                    return False\n",
    "        return (not diff and len(set(A)) < len(A)) or \\\n",
    "               (len(diff) == 2 and diff[0] == diff[1][::-1])"
   ]
  },
  {
   "cell_type": "markdown",
   "id": "19494af6",
   "metadata": {},
   "source": [
    "# 0859 Easy 859 Buddy Strings"
   ]
  },
  {
   "cell_type": "code",
   "execution_count": null,
   "id": "89eb6618",
   "metadata": {},
   "outputs": [],
   "source": [
    "class Solution:\n",
    "    def buddyStrings(self, A, B):\n",
    "        if len(A) != len(B):\n",
    "            return False\n",
    "        dif, dup = [[s1, B[i]] for i, s1 in enumerate(A) if s1 != B[i]], len(A) != len(set(A))\n",
    "        return len(dif) == 2 and dif[0] == dif[1][::-1] or (not dif and dup)"
   ]
  },
  {
   "cell_type": "markdown",
   "id": "53eacc0b",
   "metadata": {},
   "source": [
    "# 0860 Easy 860 Lemonade Change"
   ]
  },
  {
   "cell_type": "code",
   "execution_count": null,
   "id": "e6ba10de",
   "metadata": {},
   "outputs": [],
   "source": [
    "# Time:  O(n)\n",
    "# Space: O(1)\n",
    "\n",
    "import collections\n",
    "\n",
    "\n",
    "class Solution(object):\n",
    "    def lemonadeChange(self, bills):\n",
    "        \"\"\"\n",
    "        :type bills: List[int]\n",
    "        :rtype: bool\n",
    "        \"\"\"\n",
    "        coins = [20, 10, 5]\n",
    "        counts = collections.defaultdict(int)\n",
    "        for bill in bills:\n",
    "            counts[bill] += 1\n",
    "            change = bill - coins[-1]\n",
    "            for coin in coins:\n",
    "                if change == 0:\n",
    "                    break\n",
    "                if change >= coin:\n",
    "                    count = min(counts[coin], change//coin)\n",
    "                    counts[coin] -= count\n",
    "                    change -= coin * count\n",
    "            if change != 0:\n",
    "                return False\n",
    "        return True\n",
    "\n",
    "\n",
    "class Solution2(object):\n",
    "    def lemonadeChange(self, bills):\n",
    "        \"\"\"\n",
    "        :type bills: List[int]\n",
    "        :rtype: bool\n",
    "        \"\"\"\n",
    "        five, ten = 0, 0\n",
    "        for bill in bills:\n",
    "            if bill == 5:\n",
    "                five += 1\n",
    "            elif bill == 10:\n",
    "                if not five:\n",
    "                    return False\n",
    "                five -= 1\n",
    "                ten += 1\n",
    "            else:\n",
    "                if ten and five:\n",
    "                    ten -= 1\n",
    "                    five -= 1\n",
    "                elif five >= 3:\n",
    "                    five -= 3\n",
    "                else:\n",
    "                    return False\n",
    "        return True"
   ]
  },
  {
   "cell_type": "markdown",
   "id": "d3ad45f9",
   "metadata": {},
   "source": [
    "# 0860 Easy 860 Lemonade Change"
   ]
  },
  {
   "cell_type": "code",
   "execution_count": null,
   "id": "072c7d5d",
   "metadata": {},
   "outputs": [],
   "source": [
    "class Solution:\n",
    "    def lemonadeChange(self, bills):\n",
    "        five = ten = 0\n",
    "        for num in bills:\n",
    "            if num == 5:\n",
    "                five += 1\n",
    "            elif num == 10 and five:\n",
    "                ten += 1\n",
    "                five -= 1\n",
    "            elif num == 20 and five and ten:\n",
    "                five -= 1\n",
    "                ten -= 1\n",
    "            elif num == 20 and five >= 3:\n",
    "                five -= 3\n",
    "            else:\n",
    "                return False\n",
    "        return True"
   ]
  },
  {
   "cell_type": "markdown",
   "id": "bba01117",
   "metadata": {},
   "source": [
    "# 0867 Easy 867 Transpose Matrix"
   ]
  },
  {
   "cell_type": "code",
   "execution_count": null,
   "id": "d2ac456e",
   "metadata": {},
   "outputs": [],
   "source": [
    "# Time:  O(r * c)\n",
    "# Space: O(1)\n",
    "\n",
    "\n",
    "class Solution(object):\n",
    "    def transpose(self, A):\n",
    "        \"\"\"\n",
    "        :type A: List[List[int]]\n",
    "        :rtype: List[List[int]]\n",
    "        \"\"\"\n",
    "        result = [[None] * len(A) for _ in xrange(len(A[0]))]\n",
    "        for r, row in enumerate(A):\n",
    "            for c, val in enumerate(row):\n",
    "                result[c][r] = val\n",
    "        return result\n",
    "\n",
    "\n",
    "# Time:  O(r * c)\n",
    "# Space: O(1)\n",
    "class Solution2(object):\n",
    "    def transpose(self, A):\n",
    "        \"\"\"\n",
    "        :type A: List[List[int]]\n",
    "        :rtype: List[List[int]]\n",
    "        \"\"\"\n",
    "        return zip(*A)"
   ]
  },
  {
   "cell_type": "markdown",
   "id": "f033981d",
   "metadata": {},
   "source": [
    "# 0867 Easy 867 Transpose Matrix"
   ]
  },
  {
   "cell_type": "code",
   "execution_count": null,
   "id": "0ccca12a",
   "metadata": {},
   "outputs": [],
   "source": [
    "class Solution(object):\n",
    "    def transpose(self, A):\n",
    "        \"\"\"\n",
    "        :type A: List[List[int]]\n",
    "        :rtype: List[List[int]]\n",
    "        \"\"\"\n",
    "        R, C = len(A), len(A[0])\n",
    "        ans = [[None] * R for _ in xrange(C)]\n",
    "        for r, row in enumerate(A):\n",
    "            for c, val in enumerate(row):\n",
    "                ans[c][r] = val\n",
    "        return ans\n",
    "        # Alternative Solution:\n",
    "        # return zip(*A)\n",
    "\n",
    "    # def transpose(self, A):\n",
    "    #     res = []\n",
    "    #     for i in range(len(A[0])):\n",
    "    #         temp = []\n",
    "    #         for j in range(len(A)):\n",
    "    #             temp.append(A[j][i])\n",
    "    #         res.append(temp)\n",
    "    #     return res"
   ]
  },
  {
   "cell_type": "markdown",
   "id": "d1eb3852",
   "metadata": {},
   "source": [
    "# 0867 Easy 867 Transpose Matrix"
   ]
  },
  {
   "cell_type": "code",
   "execution_count": null,
   "id": "1275f87c",
   "metadata": {},
   "outputs": [],
   "source": [
    "class Solution:\n",
    "    def transpose(self, A):\n",
    "        return [[A[i][j] for i in range(len(A))] for j in range(len(A[0]))]"
   ]
  },
  {
   "cell_type": "markdown",
   "id": "1ccb29ea",
   "metadata": {},
   "source": [
    "# 0868 Easy 868 Binary Gap"
   ]
  },
  {
   "cell_type": "code",
   "execution_count": null,
   "id": "40d46ff6",
   "metadata": {},
   "outputs": [],
   "source": [
    "# Time:  O(logn) = O(1) due to n is a 32-bit number\n",
    "# Space: O(1)\n",
    "\n",
    "class Solution(object):\n",
    "    def binaryGap(self, N):\n",
    "        \"\"\"\n",
    "        :type N: int\n",
    "        :rtype: int\n",
    "        \"\"\"\n",
    "        result = 0\n",
    "        last = None\n",
    "        for i in xrange(32):\n",
    "            if (N >> i) & 1:\n",
    "                if last is not None:\n",
    "                    result = max(result, i-last)\n",
    "                last = i\n",
    "        return result"
   ]
  },
  {
   "cell_type": "markdown",
   "id": "cf683a00",
   "metadata": {},
   "source": [
    "# 0868 Easy 868 Binary Gap"
   ]
  },
  {
   "cell_type": "code",
   "execution_count": null,
   "id": "07d1b8f0",
   "metadata": {},
   "outputs": [],
   "source": [
    "class Solution:\n",
    "\n",
    "    # def binaryGap(self, n: int) -> int:\n",
    "    #     # Store index\n",
    "    #     A = [i for i in xrange(32) if (N >> i) & 1]\n",
    "    #     if len(A) < 2: return 0\n",
    "    #     return max(A[i+1] - A[i] for i in xrange(len(A) - 1))\n",
    "\n",
    "\n",
    "    def binaryGap(self, n: int) -> int:\n",
    "        # one pass and store max\n",
    "        current = 1\n",
    "        last1 = -1\n",
    "        out = 0\n",
    "        while n > 0:\n",
    "            if n % 2 == 1:\n",
    "                if last1 >= 1:\n",
    "                    out = max(out, current - last1)\n",
    "                last1 = current\n",
    "            current += 1\n",
    "            n = n // 2\n",
    "        return out\n",
    "    \n",
    "    # def binaryGap(self, n: int) -> int:\n",
    "    #     # one pass and store max\n",
    "    #     res = 0\n",
    "    #     last = -1\n",
    "    #     # Get binary encoding with bin\n",
    "    #     for i, curr in enumerate(bin(n)[2:]):\n",
    "    #         if curr == '1':\n",
    "    #             if last >= 0:\n",
    "    #                 res = max(res, i - last)\n",
    "    #             last = i\n",
    "    #     return res"
   ]
  }
 ],
 "metadata": {},
 "nbformat": 4,
 "nbformat_minor": 5
}
