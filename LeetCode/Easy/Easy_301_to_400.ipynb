{
 "cells": [
  {
   "cell_type": "markdown",
   "id": "d6e07e63",
   "metadata": {},
   "source": [
    "# 0461 Easy 461 Hamming Distance"
   ]
  },
  {
   "cell_type": "code",
   "execution_count": null,
   "id": "9a797eae",
   "metadata": {},
   "outputs": [],
   "source": [
    "\"\"\"\n",
    "The `^` (XOR) operator returns `1` if the bits are different.\n",
    "So the main idea is to count the `1` in the `x^y`.\n",
    "The \"easy\" way is\n",
    "```\n",
    "class Solution(object):\n",
    "    def hammingDistance(self, x, y):\n",
    "        return bin(x^y).count('1')\n",
    "```\n",
    "This solution takes `O(N)`, `N` is the length of the `bin(x^y)`.\n",
    "\n",
    "Or we can use some tricks, lets say `A` is `x^y` in binary form.\n",
    "`A&(A-1)` turns all the bits *right the right-most 1* to 0, including the right-most 1.\n",
    "```\n",
    "A = 10110\n",
    "A = A&(A-1) #10100\n",
    "A = A&(A-1) #10000\n",
    "A = A&(A-1) #00000\n",
    "```\n",
    "In other words, `A = A&(A-1)` will eliminate a 1 one at a time, starting from right.\n",
    "Until `A` is all 0.\n",
    "So we can use this trick to count the `1`.\n",
    "The run time will be `O(K)`, `K` is the number of 1 in `A`.\n",
    "\"\"\"\n",
    "class Solution(object):\n",
    "    def hammingDistance(self, x, y):\n",
    "        xor = x^y\n",
    "        count = 0\n",
    "        while xor:\n",
    "            count += 1\n",
    "            xor = xor&(xor-1)\n",
    "        return count"
   ]
  },
  {
   "cell_type": "markdown",
   "id": "4c507a91",
   "metadata": {},
   "source": [
    "# 0461 Easy 461 Hamming Distance"
   ]
  },
  {
   "cell_type": "code",
   "execution_count": null,
   "id": "80d2b382",
   "metadata": {},
   "outputs": [],
   "source": [
    "class Solution(object):\n",
    "    def hammingDistance(self, x, y):\n",
    "        \"\"\"\n",
    "        :type x: int\n",
    "        :type y: int\n",
    "        :rtype: int\n",
    "        \"\"\"\n",
    "        return bin(x ^ y).count('1')"
   ]
  },
  {
   "cell_type": "markdown",
   "id": "32addc80",
   "metadata": {},
   "source": [
    "# 0461 Easy 461 Hamming Distance"
   ]
  },
  {
   "cell_type": "code",
   "execution_count": null,
   "id": "21e7ef7b",
   "metadata": {},
   "outputs": [],
   "source": [
    "class Solution:\n",
    "    def hammingDistance(self, x: int, y: int) -> int:\n",
    "        return sum(a != b for a, b in zip(bin(x)[2:].zfill(32), bin(y)[2:].zfill(32)))"
   ]
  },
  {
   "cell_type": "markdown",
   "id": "5614b546",
   "metadata": {},
   "source": [
    "# 0463 Easy 463 Island Perimeter"
   ]
  },
  {
   "cell_type": "code",
   "execution_count": null,
   "id": "70b1ffed",
   "metadata": {},
   "outputs": [],
   "source": [
    "# Time:  O(m * n)\n",
    "# Space: O(1)\n",
    "\n",
    "import operator\n",
    "\n",
    "\n",
    "class Solution(object):\n",
    "    def islandPerimeter(self, grid):\n",
    "        \"\"\"\n",
    "        :type grid: List[List[int]]\n",
    "        :rtype: int\n",
    "        \"\"\"\n",
    "        count, repeat = 0, 0\n",
    "\n",
    "        for i in xrange(len(grid)):\n",
    "            for j in xrange(len(grid[i])):\n",
    "                if grid[i][j] == 1:\n",
    "                    count += 1\n",
    "                    if i != 0 and grid[i - 1][j] == 1:\n",
    "                        repeat += 1\n",
    "                    if j != 0 and grid[i][j - 1] == 1:\n",
    "                        repeat += 1\n",
    "\n",
    "        return 4*count - 2*repeat\n",
    "\n",
    "# Since there are no lakes, every pair of neighbour cells with different values is part of the perimeter\n",
    "# (more precisely, the edge between them is). So just count the differing pairs, both horizontally and vertically\n",
    "# (for the latter I simply transpose the grid).\n",
    "    def islandPerimeter2(self, grid):\n",
    "        return sum(sum(map(operator.ne, [0] + row, row + [0])) for row in grid + map(list, zip(*grid)))"
   ]
  },
  {
   "cell_type": "markdown",
   "id": "3a9117ed",
   "metadata": {},
   "source": [
    "# 0463 Easy 463 Island Perimeter"
   ]
  },
  {
   "cell_type": "code",
   "execution_count": null,
   "id": "b7fbed24",
   "metadata": {},
   "outputs": [],
   "source": [
    "class Solution(object):\n",
    "    def islandPerimeter(self, grid):\n",
    "        \"\"\"\n",
    "        :type grid: List[List[int]]\n",
    "        :rtype: int\n",
    "        \"\"\"\n",
    "        # https://leetcode.com/problems/island-perimeter/discuss/95001/clear-and-easy-java-solution\n",
    "        row_num = len(grid)\n",
    "        if row_num == 0 || len(grid[0]) == 0:\n",
    "            return 0\n",
    "        islands, overlaps = 0, 0\n",
    "        col_num = len(grid[0])\n",
    "        for i in range(row_num):\n",
    "            for j in range(col_num):\n",
    "                if (grid[i][j] == 1):\n",
    "                    islands += 1\n",
    "                    # careful about right and down\n",
    "                    if (i < row_num - 1 && grid[i + 1][j] == 1):\n",
    "                        overlaps += 1\n",
    "                    if (j < col_num - 1 && grid[i][j + 1] == 1):\n",
    "                        overlaps += 1\n",
    "        return islands * 4 - overlaps * 2"
   ]
  },
  {
   "cell_type": "markdown",
   "id": "7a7a828a",
   "metadata": {},
   "source": [
    "# 0463 Easy 463 Island Perimeter"
   ]
  },
  {
   "cell_type": "code",
   "execution_count": null,
   "id": "8db1eb5d",
   "metadata": {},
   "outputs": [],
   "source": [
    "class Solution:\n",
    "    def islandPerimeter(self, grid: List[List[int]]) -> int:\n",
    "        self.res = 0\n",
    "        used = set()\n",
    "        def dfs(i, j):\n",
    "            used.add((i, j))\n",
    "            self.res += 4\n",
    "            for x, y in (i - 1, j), (i + 1, j), (i, j - 1), (i, j + 1):\n",
    "                if 0 <= x < m and 0 <= y < n and grid[x][y]:\n",
    "                    self.res -= 1\n",
    "                    if (x, y) not in used:\n",
    "                        dfs(x, y)\n",
    "        m, n = len(grid), len(grid[0])\n",
    "        for i in range(m):\n",
    "            for j in range(n):\n",
    "                if grid[i][j] == 1 and (i, j) not in used:\n",
    "                    dfs(i, j)\n",
    "        return self.res"
   ]
  },
  {
   "cell_type": "markdown",
   "id": "52be716c",
   "metadata": {},
   "source": [
    "# 0476 Easy 476 Number Complement"
   ]
  },
  {
   "cell_type": "code",
   "execution_count": null,
   "id": "5ad0b5ba",
   "metadata": {},
   "outputs": [],
   "source": [
    "\"\"\"\n",
    "First, we convert the num to its birary.\n",
    "```\n",
    ">>> bin(5)\n",
    ">>> '0b101'\n",
    "```\n",
    "\n",
    "Second, we need to return the base10 of binary's the complement.\n",
    "Complement is easy `'101' => '010'`.\n",
    "Turn to base10:\n",
    "```\n",
    "'010' => 0*pow(2, 2) + 1*pow(2, 1) + 0*pow(2, 0)\n",
    "'11011' => 1*pow(2, 4) + 1*pow(2, 3) + 0*pow(2, 2) + 1*pow(2, 1) + 1*pow(2, 0)\n",
    "```\n",
    "\n",
    "Basics bit manipulation.\n",
    "<https://www.youtube.com/watch?v=NLKQEOgBAnw>\n",
    "\"\"\"\n",
    "class Solution(object):\n",
    "    def findComplement(self, num):\n",
    "        b = bin(num)[2:]\n",
    "        opt = 0\n",
    "        for i, c in enumerate(reversed(b)):\n",
    "            if c=='0': opt+=pow(2, i)\n",
    "        return opt"
   ]
  },
  {
   "cell_type": "markdown",
   "id": "91ba787a",
   "metadata": {},
   "source": [
    "# 0476 Easy 476 Number Complement"
   ]
  },
  {
   "cell_type": "code",
   "execution_count": null,
   "id": "0069c538",
   "metadata": {},
   "outputs": [],
   "source": [
    "class Solution:\n",
    "    def findComplement(self, num):\n",
    "        \"\"\"\n",
    "        :type num: int\n",
    "        :rtype: int\n",
    "        \"\"\"\n",
    "        return int(\"\".join([str((int(i)+1)%2) for i in bin(num)[2:]]),2)"
   ]
  },
  {
   "cell_type": "markdown",
   "id": "a2010e15",
   "metadata": {},
   "source": [
    "# 0482 Easy 482 License Key Formatting"
   ]
  },
  {
   "cell_type": "code",
   "execution_count": null,
   "id": "f8a911af",
   "metadata": {},
   "outputs": [],
   "source": [
    "#https://leetcode.com/problems/license-key-formatting/\n",
    "class Solution(object):\n",
    "    def licenseKeyFormatting(self, S, K):\n",
    "        r = ''\n",
    "        s = S.replace('-', '').upper()\n",
    "        \n",
    "        #cut first part of string\n",
    "        remainder = len(s)%K\n",
    "        if remainder!=0:\n",
    "            r = s[:remainder]+'-'\n",
    "            s = s[remainder:]\n",
    "        \n",
    "        while len(s)>0:\n",
    "            r += s[:K]+'-'\n",
    "            s = s[K:]\n",
    "        \n",
    "        #remove last '-'\n",
    "        r = r[:-1]\n",
    "        \n",
    "        return r"
   ]
  },
  {
   "cell_type": "markdown",
   "id": "50095a66",
   "metadata": {},
   "source": [
    "# 0482 Easy 482 License Key Formatting"
   ]
  },
  {
   "cell_type": "code",
   "execution_count": null,
   "id": "50549141",
   "metadata": {},
   "outputs": [],
   "source": [
    "class Solution(object):\n",
    "    def licenseKeyFormatting(self, S, K):\n",
    "        \"\"\"\n",
    "        :type S: str\n",
    "        :type K: int\n",
    "        :rtype: str\n",
    "        \"\"\"\n",
    "        # https://leetcode.com/problems/license-key-formatting/discuss/96497/Python-solution\n",
    "        S = S.upper().replace('-', '')\n",
    "        ls = len(S)\n",
    "        if ls % K == 0:\n",
    "            pos = K\n",
    "        else:\n",
    "            pos = ls % K\n",
    "        res = S[:pos]\n",
    "        while pos < ls:\n",
    "            res += '-' + S[pos:pos + K]\n",
    "            pos += K\n",
    "        return res"
   ]
  },
  {
   "cell_type": "markdown",
   "id": "a7751313",
   "metadata": {},
   "source": [
    "# 0482 Easy 482 License Key Formatting"
   ]
  },
  {
   "cell_type": "code",
   "execution_count": null,
   "id": "cda94eff",
   "metadata": {},
   "outputs": [],
   "source": [
    "class Solution:\n",
    "    def licenseKeyFormatting(self, S, K):\n",
    "        S = S.replace(\"-\", \"\").upper()[::-1]\n",
    "        return '-'.join([S[i:i+K] for i in range(0, len(S), K)])[::-1]"
   ]
  },
  {
   "cell_type": "markdown",
   "id": "3d037eec",
   "metadata": {},
   "source": [
    "# 0485 Easy 485 Max Consecutive Ones"
   ]
  },
  {
   "cell_type": "code",
   "execution_count": null,
   "id": "ecf93ae1",
   "metadata": {},
   "outputs": [],
   "source": [
    "# Time:  O(n)\n",
    "# Space: O(1)\n",
    "\n",
    "class Solution(object):\n",
    "    def findMaxConsecutiveOnes(self, nums):\n",
    "        \"\"\"\n",
    "        :type nums: List[int]\n",
    "        :rtype: int\n",
    "        \"\"\"\n",
    "        result, local_max = 0, 0\n",
    "        for n in nums:\n",
    "            local_max = (local_max + 1 if n else 0)\n",
    "            result = max(result, local_max)\n",
    "        return result"
   ]
  },
  {
   "cell_type": "markdown",
   "id": "bc1993e8",
   "metadata": {},
   "source": [
    "# 0485 Easy 485 Max Consecutive Ones"
   ]
  },
  {
   "cell_type": "code",
   "execution_count": null,
   "id": "d55f1109",
   "metadata": {},
   "outputs": [],
   "source": [
    "class Solution(object):\n",
    "    def findMaxConsecutiveOnes(self, nums):\n",
    "        \"\"\"\n",
    "        :type nums: List[int]\n",
    "        :rtype: int\n",
    "        \"\"\"\n",
    "        ans = 0\n",
    "        curr = 0\n",
    "        for n in nums:\n",
    "            if n == 1:\n",
    "                # Add 1 to curr when encounter 1\n",
    "                curr += 1\n",
    "                if curr > ans:\n",
    "                    ans = curr\n",
    "            else:\n",
    "                # Add 1 to curr when encounter 1\n",
    "                curr = 0\n",
    "        return ans"
   ]
  },
  {
   "cell_type": "markdown",
   "id": "662fda43",
   "metadata": {},
   "source": [
    "# 0485 Easy 485 Max Consecutive Ones"
   ]
  },
  {
   "cell_type": "code",
   "execution_count": null,
   "id": "dcb302af",
   "metadata": {},
   "outputs": [],
   "source": [
    "class Solution:\n",
    "    def findMaxConsecutiveOnes(self, nums):\n",
    "        \"\"\"\n",
    "        :type nums: List[int]\n",
    "        :rtype: int\n",
    "        \"\"\"\n",
    "        cons=[0,0]\n",
    "        for num in nums:\n",
    "            if num==1:cons[1]+=1\n",
    "            else:cons[1]=0\n",
    "            cons[0]=max(cons[0],cons[1])\n",
    "        return cons[0]\n",
    "        "
   ]
  },
  {
   "cell_type": "markdown",
   "id": "6da8e5fb",
   "metadata": {},
   "source": [
    "# 0492 Easy 492 Construct the Rectangle"
   ]
  },
  {
   "cell_type": "code",
   "execution_count": null,
   "id": "0624afff",
   "metadata": {},
   "outputs": [],
   "source": [
    "# Time:  O(1)\n",
    "# Space: O(1)\n",
    "\n",
    "import math\n",
    "\n",
    "\n",
    "class Solution(object):\n",
    "    def constructRectangle(self, area):\n",
    "        \"\"\"\n",
    "        :type area: int\n",
    "        :rtype: List[int]\n",
    "        \"\"\"\n",
    "        w = int(math.sqrt(area))\n",
    "        while area % w:\n",
    "            w -= 1\n",
    "        return [area // w, w]"
   ]
  },
  {
   "cell_type": "markdown",
   "id": "cba7063d",
   "metadata": {},
   "source": [
    "# 0492 Easy 492 Construct the Rectangle"
   ]
  },
  {
   "cell_type": "code",
   "execution_count": null,
   "id": "3760792e",
   "metadata": {},
   "outputs": [],
   "source": [
    "class Solution:\n",
    "    def constructRectangle(self, area):\n",
    "        \"\"\"\n",
    "        :type area: int\n",
    "        :rtype: List[int]\n",
    "        \"\"\"\n",
    "        import math\n",
    "        l, w = int(math.sqrt(area)), int(math.sqrt(area))\n",
    "        while l*w!=area:\n",
    "            if area%w==0: l=int(area/w)\n",
    "            else: w-=1\n",
    "        return [l,w]"
   ]
  },
  {
   "cell_type": "markdown",
   "id": "e81100e3",
   "metadata": {},
   "source": [
    "# 0495 Easy 495 Teemo Attacking"
   ]
  },
  {
   "cell_type": "code",
   "execution_count": null,
   "id": "ebab3e7e",
   "metadata": {},
   "outputs": [],
   "source": [
    "# Time:  O(n)\n",
    "# Space: O(1)\n",
    "\n",
    "class Solution(object):\n",
    "    def findPoisonedDuration(self, timeSeries, duration):\n",
    "        \"\"\"\n",
    "        :type timeSeries: List[int]\n",
    "        :type duration: int\n",
    "        :rtype: int\n",
    "        \"\"\"\n",
    "        result = duration * len(timeSeries)\n",
    "        for i in xrange(1, len(timeSeries)):\n",
    "            result -= max(0, duration - (timeSeries[i] - timeSeries[i-1]))\n",
    "        return result"
   ]
  },
  {
   "cell_type": "markdown",
   "id": "47e17052",
   "metadata": {},
   "source": [
    "# 0495 Easy 495 Teemo Attacking"
   ]
  },
  {
   "cell_type": "code",
   "execution_count": null,
   "id": "5e4407fc",
   "metadata": {},
   "outputs": [],
   "source": [
    "class Solution:\n",
    "    def findPoisonedDuration(self, timeSeries, duration):\n",
    "        \"\"\"\n",
    "        :type timeSeries: List[int]\n",
    "        :type duration: int\n",
    "        :rtype: int\n",
    "        \"\"\"\n",
    "        timeSeries.sort()\n",
    "        res, upper = 0, 0\n",
    "        for i, num in enumerate(timeSeries): \n",
    "            if num > upper: upper = num\n",
    "            res, upper = res + num + duration - upper, num + duration\n",
    "        return res"
   ]
  },
  {
   "cell_type": "markdown",
   "id": "f7ec8e74",
   "metadata": {},
   "source": [
    "# 0496 Easy 496 Next Greater Element I"
   ]
  },
  {
   "cell_type": "code",
   "execution_count": null,
   "id": "ef759ee1",
   "metadata": {},
   "outputs": [],
   "source": [
    "# Time:  O(m + n)\n",
    "# Space: O(m + n)\n",
    "\n",
    "class Solution(object):\n",
    "    def nextGreaterElement(self, findNums, nums):\n",
    "        \"\"\"\n",
    "        :type findNums: List[int]\n",
    "        :type nums: List[int]\n",
    "        :rtype: List[int]\n",
    "        \"\"\"\n",
    "        stk, lookup = [], {}\n",
    "        for num in nums:\n",
    "            while stk and num > stk[-1]:\n",
    "                lookup[stk.pop()] = num\n",
    "            stk.append(num)\n",
    "        while stk:\n",
    "            lookup[stk.pop()] = -1\n",
    "        return map(lambda x : lookup[x], findNums)"
   ]
  },
  {
   "cell_type": "markdown",
   "id": "8da6c0e5",
   "metadata": {},
   "source": [
    "# 0496 Easy 496 Next Greater Element I"
   ]
  },
  {
   "cell_type": "code",
   "execution_count": null,
   "id": "a630eba3",
   "metadata": {},
   "outputs": [],
   "source": [
    "class Solution:\n",
    "    def nextGreaterElement(self, nums1, nums2):\n",
    "        \"\"\"\n",
    "        :type nums1: List[int]\n",
    "        :type nums2: List[int]\n",
    "        :rtype: List[int]\n",
    "        \"\"\"\n",
    "        out=list()\n",
    "        for num in nums1: \n",
    "            out.append(-1)\n",
    "            for j in range(nums2.index(num)+1,len(nums2)):\n",
    "                if nums2[j]>num: out[-1]=nums2[j]; break\n",
    "        return out"
   ]
  },
  {
   "cell_type": "markdown",
   "id": "4cdb9743",
   "metadata": {},
   "source": [
    "# 0500 Easy 500 Keyboard Row"
   ]
  },
  {
   "cell_type": "code",
   "execution_count": null,
   "id": "2a50dcf9",
   "metadata": {},
   "outputs": [],
   "source": [
    "# Time:  O(n)\n",
    "# Space: O(1)\n",
    "\n",
    "class Solution(object):\n",
    "    def findWords(self, words):\n",
    "        \"\"\"\n",
    "        :type words: List[str]\n",
    "        :rtype: List[str]\n",
    "        \"\"\"\n",
    "        rows = [set(['q', 'w', 'e', 'r', 't', 'y','u', 'i', 'o', 'p']),\n",
    "                set(['a', 's', 'd', 'f', 'g', 'h', 'j', 'k', 'l']),\n",
    "                set(['z', 'x', 'c', 'v', 'b' ,'n', 'm'])]\n",
    "\n",
    "        result = []\n",
    "        for word in words:\n",
    "            k = 0\n",
    "            for i in xrange(len(rows)):\n",
    "                if word[0].lower() in rows[i]:\n",
    "                    k = i\n",
    "                    break\n",
    "            for c in word:\n",
    "                if c.lower() not in rows[k]:\n",
    "                    break\n",
    "            else:\n",
    "                result.append(word)\n",
    "        return result\n",
    "\n",
    "\n",
    "class Solution2(object):\n",
    "    def findWords(self, words):\n",
    "        \"\"\"\n",
    "        :type words: List[str]\n",
    "        :rtype: List[str]\n",
    "        \"\"\"\n",
    "        keyboard_rows = ['qwertyuiop', 'asdfghjkl', 'zxcvbnm']\n",
    "        single_row_words = []\n",
    "        for word in words:\n",
    "            for row in keyboard_rows:\n",
    "                if all(letter in row for letter in word.lower()):\n",
    "                    single_row_words.append(word)\n",
    "        return single_row_words"
   ]
  },
  {
   "cell_type": "markdown",
   "id": "a6ddb8b4",
   "metadata": {},
   "source": [
    "# 0500 Easy 500 Keyboard Row"
   ]
  },
  {
   "cell_type": "code",
   "execution_count": null,
   "id": "ad8bc0cd",
   "metadata": {},
   "outputs": [],
   "source": [
    "class Solution:\n",
    "    def findWords(self, words):\n",
    "        return [w for w in words if any(not set(w.lower()) - row for row in (set(\"qwertyuiop\"), set(\"asdfghjkl\"), set(\"zxcvbnm\")))]"
   ]
  },
  {
   "cell_type": "markdown",
   "id": "72224325",
   "metadata": {},
   "source": [
    "# 0501 Easy 501 Find Mode in Binary Search Tree"
   ]
  },
  {
   "cell_type": "code",
   "execution_count": null,
   "id": "4580cea1",
   "metadata": {},
   "outputs": [],
   "source": [
    "\"\"\"\n",
    "Time: O(N). For we traverse every node recursively.\n",
    "Space: O(N). Becuase we store all element's val and count in `counter`.\n",
    "Note that, we do not use the feature of BST.\n",
    "\"\"\"\n",
    "from collections import Counter\n",
    "class Solution(object):\n",
    "    def findMode(self, root):\n",
    "        def count(node):\n",
    "            counter[node.val] += 1\n",
    "            if node.left: count(node.left)\n",
    "            if node.right: count(node.right)\n",
    "        \n",
    "        if not root: return []\n",
    "        \n",
    "        counter = Counter()\n",
    "        count(root)\n",
    "        max_count = max(counter.values())\n",
    "        return [val for val, count in counter.items() if count==max_count]\n",
    "\n",
    "\"\"\"\n",
    "To use the feature of BST, we are going to inorder traverse the BST.\n",
    "So it will be like we are iterating a sorted array.\n",
    "\n",
    "[1]\n",
    "While iterating, we can put only the element count that is greater or equal than `max_count` to `ans`.\n",
    "If we encounter a new element with larger `curr_count`, we reset the `ans`.\n",
    "\n",
    "[0]\n",
    "With the help of `prev_val` we can know that `curr_node` is the same to the previous or not.\n",
    "If not, its a new element, we need to reset the `curr_count`.\n",
    "\n",
    "Time: O(N). Space: O(LogN)\n",
    "\n",
    "For better understanding, below is a template for inorder traverse.\n",
    "\"\"\"\n",
    "class Solution(object):\n",
    "    def findMode(self, root):\n",
    "        if not root: return []\n",
    "        \n",
    "        ans = []\n",
    "        stack = []\n",
    "        prev_val = None\n",
    "        curr = root\n",
    "        curr_count = 0\n",
    "        max_count = float('-inf')\n",
    "        \n",
    "        while curr or stack:\n",
    "            while curr:\n",
    "                stack.append(curr)\n",
    "                curr = curr.left\n",
    "            curr = stack.pop()\n",
    "            \n",
    "            #[0]\n",
    "            if curr.val!=prev_val:\n",
    "                curr_count = 1\n",
    "                prev_val = curr.val\n",
    "            else:\n",
    "                curr_count += 1\n",
    "            \n",
    "            #[1]\n",
    "            if curr_count>max_count:\n",
    "                ans = [curr.val]\n",
    "                max_count = curr_count\n",
    "            elif curr_count==max_count:\n",
    "                ans.append(curr.val)\n",
    "            \n",
    "            curr = curr.right\n",
    "                \n",
    "        return ans\n",
    "\n",
    "#inorder traversal of BST\n",
    "def inorder_traverse(root):\n",
    "    curr = root\n",
    "    stack = []\n",
    "    while curr or stack:\n",
    "        while curr:\n",
    "            stack.append(curr)\n",
    "            curr = curr.left\n",
    "        curr = stack.pop()\n",
    "        \n",
    "        #do something to the current node\n",
    "        print curr.val\n",
    "        \n",
    "        curr = curr.right\n",
    "\n",
    "\n",
    "\n",
    "\n",
    "\"\"\"\n",
    "Time: O(N)\n",
    "Space: O(N)\n",
    "\"\"\"\n",
    "class Solution(object):\n",
    "    def findMode(self, root):\n",
    "        def helper(node):\n",
    "            if not node: return\n",
    "            counter[node.val] += 1\n",
    "            counter['maxCount'] = max(counter['maxCount'], counter[node.val])\n",
    "            helper(node.left)\n",
    "            helper(node.right)\n",
    "        \n",
    "        ans = []\n",
    "        counter = collections.Counter()\n",
    "        helper(root)\n",
    "        for v in counter:\n",
    "            if v!='maxCount' and counter[v]==counter['maxCount']:\n",
    "                ans.append(v)\n",
    "        \n",
    "        return ans"
   ]
  },
  {
   "cell_type": "markdown",
   "id": "2f42319f",
   "metadata": {},
   "source": [
    "# 0501 Easy 501 Find Mode in Binary Search Tree"
   ]
  },
  {
   "cell_type": "code",
   "execution_count": null,
   "id": "f1644837",
   "metadata": {},
   "outputs": [],
   "source": [
    "# Definition for a binary tree node.\n",
    "# class TreeNode:\n",
    "#     def __init__(self, x):\n",
    "#         self.val = x\n",
    "#         self.left = None\n",
    "#         self.right = None\n",
    "\n",
    "class Solution:\n",
    "    def findMode(self, root):\n",
    "        \"\"\"\n",
    "        :type root: TreeNode\n",
    "        :rtype: List[int]\n",
    "        \"\"\"\n",
    "        from collections import Counter\n",
    "        def traverse(node):\n",
    "            if node: dic[node.val]+=1; traverse(node.left); traverse(node.right)\n",
    "        dic = collections.Counter()\n",
    "        traverse(root)\n",
    "        mx=max(dic.values(),default=0)\n",
    "        return [k for k,v in dic.items() if v==mx]"
   ]
  },
  {
   "cell_type": "markdown",
   "id": "7ad3bb63",
   "metadata": {},
   "source": [
    "# 0504 Easy 504 Base 7"
   ]
  },
  {
   "cell_type": "code",
   "execution_count": null,
   "id": "ce3c3a86",
   "metadata": {},
   "outputs": [],
   "source": [
    "# Time:  O(1)\n",
    "# Space: O(1)\n",
    "\n",
    "class Solution(object):\n",
    "    def convertToBase7(self, num):\n",
    "        if num < 0:\n",
    "            return '-' + self.convertToBase7(-num)\n",
    "        result = ''\n",
    "        while num:\n",
    "            result = str(num % 7) + result\n",
    "            num //= 7\n",
    "        return result if result else '0'\n",
    "\n",
    "\n",
    "class Solution2(object):\n",
    "    def convertToBase7(self, num):\n",
    "        \"\"\"\n",
    "        :type num: int\n",
    "        :rtype: str\n",
    "        \"\"\"\n",
    "        if num < 0:\n",
    "            return '-' + self.convertToBase7(-num)\n",
    "        if num < 7:\n",
    "            return str(num)\n",
    "        return self.convertToBase7(num // 7) + str(num % 7)"
   ]
  },
  {
   "cell_type": "markdown",
   "id": "d99f52c5",
   "metadata": {},
   "source": [
    "# 0504 Easy 504 Base 7"
   ]
  },
  {
   "cell_type": "code",
   "execution_count": null,
   "id": "d0936857",
   "metadata": {},
   "outputs": [],
   "source": [
    "class Solution:\n",
    "    def convertToBase7(self, num):\n",
    "        lead = \"\" if num > 0 else \"0\" if num == 0 else \"-\"\n",
    "        res, num = [], abs(num)\n",
    "        while num:\n",
    "            res.append(int(num % 7))\n",
    "            num //= 7\n",
    "        return lead + \"\".join(str(c) for c in res[::-1])"
   ]
  },
  {
   "cell_type": "markdown",
   "id": "2c1d9f7f",
   "metadata": {},
   "source": [
    "# 0506 Easy 506 Relative Ranks"
   ]
  },
  {
   "cell_type": "code",
   "execution_count": null,
   "id": "fe2e15ab",
   "metadata": {},
   "outputs": [],
   "source": [
    "# Time:  O(nlogn)\n",
    "# Space: O(n)\n",
    "\n",
    "class Solution(object):\n",
    "    def findRelativeRanks(self, nums):\n",
    "        \"\"\"\n",
    "        :type nums: List[int]\n",
    "        :rtype: List[str]\n",
    "        \"\"\"\n",
    "        sorted_nums = sorted(nums)[::-1]\n",
    "        ranks = [\"Gold Medal\", \"Silver Medal\", \"Bronze Medal\"] + map(str, range(4, len(nums) + 1))\n",
    "        return map(dict(zip(sorted_nums, ranks)).get, nums)"
   ]
  },
  {
   "cell_type": "markdown",
   "id": "a4093213",
   "metadata": {},
   "source": [
    "# 0506 Easy 506 Relative Ranks"
   ]
  },
  {
   "cell_type": "code",
   "execution_count": null,
   "id": "40ff4695",
   "metadata": {},
   "outputs": [],
   "source": [
    "class Solution:\n",
    "    def findRelativeRanks(self, nums):\n",
    "        rank = {n:i>2 and str(i+1) or [\"Gold\",\"Silver\",\"Bronze\"][i] + ' Medal' for i,n in enumerate(sorted(nums,reverse=True))}\n",
    "        return [rank[num] for num in nums]"
   ]
  },
  {
   "cell_type": "markdown",
   "id": "ce8a2c1d",
   "metadata": {},
   "source": [
    "# 0507 Easy 507 Perfect Number"
   ]
  },
  {
   "cell_type": "code",
   "execution_count": null,
   "id": "1c8b38de",
   "metadata": {},
   "outputs": [],
   "source": [
    "# Time:  O(sqrt(n))\n",
    "# Space: O(1)\n",
    "\n",
    "class Solution(object):\n",
    "    def checkPerfectNumber(self, num):\n",
    "        \"\"\"\n",
    "        :type num: int\n",
    "        :rtype: bool\n",
    "        \"\"\"\n",
    "        if num <= 0:\n",
    "            return False\n",
    "\n",
    "        sqrt_num = int(num ** 0.5)\n",
    "        total = sum(i+num//i for i in xrange(1, sqrt_num+1) if num%i == 0)\n",
    "        if sqrt_num ** 2 == num:\n",
    "            total -= sqrt_num\n",
    "        return total - num == num"
   ]
  },
  {
   "cell_type": "markdown",
   "id": "f0553b9f",
   "metadata": {},
   "source": [
    "# 0507 Easy 507 Perfect Number"
   ]
  },
  {
   "cell_type": "code",
   "execution_count": null,
   "id": "9249bcae",
   "metadata": {},
   "outputs": [],
   "source": [
    "class Solution:\n",
    "    def checkPerfectNumber(self, num):\n",
    "        \"\"\"\n",
    "        :type num: int\n",
    "        :rtype: bool\n",
    "        \"\"\"\n",
    "        sm, div =1, 2\n",
    "        while div**2<=num:\n",
    "            if num%div==0: sm+=div+(num//div)\n",
    "            div+=1\n",
    "        return sm==num and div>2"
   ]
  },
  {
   "cell_type": "markdown",
   "id": "f186fc69",
   "metadata": {},
   "source": [
    "# 0509 Easy 509 Fibonacci Number"
   ]
  },
  {
   "cell_type": "code",
   "execution_count": null,
   "id": "fe7fdf39",
   "metadata": {},
   "outputs": [],
   "source": [
    "# Time:  O(logn)\n",
    "# Space: O(1)\n",
    "\n",
    "import itertools\n",
    "\n",
    "\n",
    "class Solution(object):\n",
    "    def fib(self, N):\n",
    "        \"\"\"\n",
    "        :type N: int\n",
    "        :rtype: int\n",
    "        \"\"\"\n",
    "        def matrix_expo(A, K):\n",
    "            result = [[int(i==j) for j in xrange(len(A))] \\\n",
    "                      for i in xrange(len(A))]\n",
    "            while K:\n",
    "                if K % 2:\n",
    "                    result = matrix_mult(result, A)\n",
    "                A = matrix_mult(A, A)\n",
    "                K /= 2\n",
    "            return result\n",
    "\n",
    "        def matrix_mult(A, B):\n",
    "            ZB = zip(*B)\n",
    "            return [[sum(a*b for a, b in itertools.izip(row, col)) \\\n",
    "                     for col in ZB] for row in A]\n",
    "\n",
    "        T = [[1, 1],\n",
    "             [1, 0]]\n",
    "        return matrix_mult([[1, 0]], matrix_expo(T, N))[0][1]  # [a1, a0] * T^N\n",
    "\n",
    "\n",
    "# Time:  O(n)\n",
    "# Space: O(1)\n",
    "class Solution2(object):\n",
    "    def fib(self, N):\n",
    "        \"\"\"\n",
    "        :type N: int\n",
    "        :rtype: int\n",
    "        \"\"\"\n",
    "        prev, current = 0, 1\n",
    "        for i in xrange(N):\n",
    "            prev, current = current, prev + current,\n",
    "        return prev"
   ]
  },
  {
   "cell_type": "markdown",
   "id": "79bbf234",
   "metadata": {},
   "source": [
    "# 0509 Easy 509 Fibonacci Number"
   ]
  },
  {
   "cell_type": "code",
   "execution_count": null,
   "id": "cf503a3b",
   "metadata": {},
   "outputs": [],
   "source": [
    "class Solution(object):\n",
    "\n",
    "    def __init__(self):\n",
    "        self.memo = []\n",
    "        self.memo.append(0)\n",
    "        self.memo.append(1)\n",
    "\n",
    "    def fib(self, N):\n",
    "        \"\"\"\n",
    "        DP with memo\n",
    "        :type N: int\n",
    "        :rtype: int\n",
    "        \"\"\"\n",
    "        if N < len(self.memo):\n",
    "            return self.memo[N]\n",
    "        for i in range(len(self.memo), N + 1):\n",
    "            self.memo.append(self.memo[i - 1] + self.memo[i - 2])\n",
    "        return self.memo[N]\n",
    "\n",
    "    # def fib(self, N):\n",
    "    #     \"\"\"\n",
    "    #     Recursively, O(n)\n",
    "    #     :type N: int\n",
    "    #     :rtype: int\n",
    "    #     \"\"\"\n",
    "    #     if N == 0:\n",
    "    #         return 0\n",
    "    #     if N == 1:\n",
    "    #         return 1\n",
    "    #     return self.fib(N - 1) + self.fib(N - 2)"
   ]
  },
  {
   "cell_type": "markdown",
   "id": "ed6ec946",
   "metadata": {},
   "source": [
    "# 0509 Easy 509 Fibonacci Number"
   ]
  },
  {
   "cell_type": "code",
   "execution_count": null,
   "id": "62bfaf30",
   "metadata": {},
   "outputs": [],
   "source": [
    "class Solution:\n",
    "    def fib(self, N: int) -> int:\n",
    "        return self.fib(N - 1) + self.fib(N - 2) if N > 1 else N\n",
    "        "
   ]
  },
  {
   "cell_type": "markdown",
   "id": "6c05f8ec",
   "metadata": {},
   "source": [
    "# 0520 Easy 520 Detect Capital"
   ]
  },
  {
   "cell_type": "code",
   "execution_count": null,
   "id": "d3e0a728",
   "metadata": {},
   "outputs": [],
   "source": [
    "# Time:  O(l)\n",
    "# Space: O(1)\n",
    "\n",
    "class Solution(object):\n",
    "    def detectCapitalUse(self, word):\n",
    "        \"\"\"\n",
    "        :type word: str\n",
    "        :rtype: bool\n",
    "        \"\"\"\n",
    "        return word.isupper() or word.islower() or word.istitle()"
   ]
  },
  {
   "cell_type": "markdown",
   "id": "7a4f8590",
   "metadata": {},
   "source": [
    "# 0520 Easy 520 Detect Capital"
   ]
  },
  {
   "cell_type": "code",
   "execution_count": null,
   "id": "95daca61",
   "metadata": {},
   "outputs": [],
   "source": [
    "class Solution:\n",
    "    def detectCapitalUse(self, word):\n",
    "        return word[0].isupper() and word[1:].islower() or word.isupper() or word.islower()"
   ]
  },
  {
   "cell_type": "markdown",
   "id": "6e1c6a9d",
   "metadata": {},
   "source": [
    "# 0521 Easy 521 Longest Uncommon Subsequence I"
   ]
  },
  {
   "cell_type": "code",
   "execution_count": null,
   "id": "b030f1c5",
   "metadata": {},
   "outputs": [],
   "source": [
    "# Time:  O(min(a, b))\n",
    "# Space: O(1)\n",
    "\n",
    "class Solution(object):\n",
    "    def findLUSlength(self, a, b):\n",
    "        \"\"\"\n",
    "        :type a: str\n",
    "        :type b: str\n",
    "        :rtype: int\n",
    "        \"\"\"\n",
    "        if a == b:\n",
    "            return -1\n",
    "        return max(len(a), len(b))"
   ]
  },
  {
   "cell_type": "markdown",
   "id": "1259482a",
   "metadata": {},
   "source": [
    "# 0521 Easy 521 Longest Uncommon Subsequence I"
   ]
  },
  {
   "cell_type": "code",
   "execution_count": null,
   "id": "888500a6",
   "metadata": {},
   "outputs": [],
   "source": [
    "class Solution:\n",
    "    def findLUSlength(self, a, b):\n",
    "        \"\"\"\n",
    "        :type a: str\n",
    "        :type b: str\n",
    "        :rtype: int\n",
    "        \"\"\"\n",
    "        return -1 if a == b else max(len(a), len(b))"
   ]
  },
  {
   "cell_type": "markdown",
   "id": "6afeebc2",
   "metadata": {},
   "source": [
    "# 0530 Easy 530 Minimum Absolute Difference in BST"
   ]
  },
  {
   "cell_type": "code",
   "execution_count": null,
   "id": "2742b398",
   "metadata": {},
   "outputs": [],
   "source": [
    "class Solution(object):\n",
    "    def getMinimumDifference(self, root):\n",
    "        stack = []\n",
    "        node = root\n",
    "        temp = float('-inf')\n",
    "        ans = float('inf')\n",
    "        \n",
    "        while node or stack:\n",
    "            while node:\n",
    "                stack.append(node)\n",
    "                node = node.left\n",
    "                \n",
    "            node = stack.pop()\n",
    "            ans = min(ans, node.val-temp)\n",
    "            temp = node.val\n",
    "            \n",
    "            node = node.right\n",
    "        return ans\n",
    "\n",
    "\"\"\"\n",
    "Time complexity: O(N)\n",
    "Space complexity: O(1)\n",
    "\"\"\"\n",
    "\n",
    "\n",
    "class Solution(object):\n",
    "    def getMinimumDifference(self, root):\n",
    "        def traverse(node):\n",
    "            if not node: return\n",
    "            traverse(node.left)\n",
    "            A.append(node.val)\n",
    "            traverse(node.right)\n",
    "            \n",
    "        A = []\n",
    "        ans = float('inf')\n",
    "        traverse(root)\n",
    "        \n",
    "        for i, n in enumerate(A):\n",
    "            if i==0: continue\n",
    "            ans = min(ans, A[i]-A[i-1])\n",
    "        return ans\n",
    "\n",
    "\"\"\"\n",
    "Time complexity: O(N)\n",
    "Space complexity: O(N)\n",
    "\"\"\"\n",
    "\n",
    "\n",
    "\"\"\"\n",
    "Inorder traverse the BST and update the diff.\n",
    "Time complexity: O(N)\n",
    "Space complexity: O(N)\n",
    "\"\"\"\n",
    "class Solution(object):\n",
    "    def getMinimumDifference(self, root):\n",
    "        ans = float('inf')\n",
    "        \n",
    "        stack = []\n",
    "        curr = root\n",
    "        prevVal = float('-inf')\n",
    "        \n",
    "        while stack or curr:\n",
    "            while curr:\n",
    "                stack.append(curr)\n",
    "                curr = curr.left\n",
    "                \n",
    "            curr = stack.pop()\n",
    "            ans = min(ans, curr.val-prevVal)\n",
    "            prevVal = curr.val\n",
    "            \n",
    "            curr = curr.right\n",
    "        return ans\n",
    "\n",
    "\n",
    "def inorderTraversal(self, root):\n",
    "    stack = []\n",
    "    curr = root\n",
    "    \n",
    "    while stack or curr:\n",
    "        while curr:\n",
    "            stack.append(curr)\n",
    "            curr = curr.left\n",
    "            \n",
    "        curr = stack.pop()\n",
    "        \n",
    "        # do something\n",
    "        print curr.val\n",
    "        \n",
    "        curr = curr.right"
   ]
  },
  {
   "cell_type": "markdown",
   "id": "f4854296",
   "metadata": {},
   "source": [
    "# 0530 Easy 530 Minimum Absolute Difference in BST"
   ]
  },
  {
   "cell_type": "code",
   "execution_count": null,
   "id": "c93298fe",
   "metadata": {},
   "outputs": [],
   "source": [
    "# Definition for a binary tree node.\n",
    "# class TreeNode:\n",
    "#     def __init__(self, x):\n",
    "#         self.val = x\n",
    "#         self.left = None\n",
    "#         self.right = None\n",
    "\n",
    "class Solution:\n",
    "    def getMinimumDifference(self, root: TreeNode) -> int:\n",
    "        self.res = sys.maxsize\n",
    "        def dfs(node):\n",
    "            if not node: return sys.maxsize, -sys.maxsize\n",
    "            lMn, lMx = dfs(node.left)\n",
    "            rMn, rMx = dfs(node.right)\n",
    "            self.res = min(self.res, node.val - lMx, rMn - node.val)\n",
    "            return min(node.val, lMn), max(node.val, rMx)\n",
    "        dfs(root)\n",
    "        return self.res"
   ]
  },
  {
   "cell_type": "markdown",
   "id": "d321f00d",
   "metadata": {},
   "source": [
    "# 0541 Easy 541 Reverse String II"
   ]
  },
  {
   "cell_type": "code",
   "execution_count": null,
   "id": "f3404727",
   "metadata": {},
   "outputs": [],
   "source": [
    "# Time:  O(n)\n",
    "# Space: O(1)\n",
    "\n",
    "class Solution(object):\n",
    "    def reverseStr(self, s, k):\n",
    "        \"\"\"\n",
    "        :type s: str\n",
    "        :type k: int\n",
    "        :rtype: str\n",
    "        \"\"\"\n",
    "        s = list(s)\n",
    "        for i in xrange(0, len(s), 2*k):\n",
    "            s[i:i+k] = reversed(s[i:i+k])\n",
    "        return \"\".join(s)"
   ]
  },
  {
   "cell_type": "markdown",
   "id": "bf160d65",
   "metadata": {},
   "source": [
    "# 0541 Easy 541 Reverse String II"
   ]
  },
  {
   "cell_type": "code",
   "execution_count": null,
   "id": "46178820",
   "metadata": {},
   "outputs": [],
   "source": [
    "class Solution:\n",
    "    def reverseStr(self, s: str, k: int) -> str:\n",
    "        N = len(s)\n",
    "        ans = \"\"\n",
    "        position = 0\n",
    "        while position < N:\n",
    "            nx = s[position : position + k]\n",
    "            ans = ans + nx[::-1] + s[position + k : position + 2 * k]\n",
    "            position += 2 * k\n",
    "        return ans\n",
    "\n",
    "    # def reverseStr(self, s: str, k: int) -> str:\n",
    "    #     s = list(s)\n",
    "    #     for i in range(0, len(s), 2*k):\n",
    "    #         s[i:i+k] = reversed(s[i:i+k])\n",
    "    #     return \"\".join(s)\n",
    "\n",
    "        \n",
    "\n",
    "s1 = Solution()\n",
    "s=\"abcdefg\"\n",
    "k=2\n",
    "print(s1.reverseStr(s,k))"
   ]
  },
  {
   "cell_type": "markdown",
   "id": "625bf21f",
   "metadata": {},
   "source": [
    "# 0541 Easy 541 Reverse String II"
   ]
  },
  {
   "cell_type": "code",
   "execution_count": null,
   "id": "e93c229e",
   "metadata": {},
   "outputs": [],
   "source": [
    "class Solution:\n",
    "    def reverseStr(self, s, k):\n",
    "        \"\"\"\n",
    "        :type s: str\n",
    "        :type k: int\n",
    "        :rtype: str\n",
    "        \"\"\"\n",
    "        return \"\".join([s[i:i+k][::-1]+s[i+k:i+2*k]   if len(s)>=i or len(s)>i-k else s[k*i:][::-1] for i in range(0,len(s),k*2)])"
   ]
  },
  {
   "cell_type": "markdown",
   "id": "44dbfe18",
   "metadata": {},
   "source": [
    "# 0543 Easy 543 Diameter of Binary Tree"
   ]
  },
  {
   "cell_type": "code",
   "execution_count": null,
   "id": "1a7e13f4",
   "metadata": {},
   "outputs": [],
   "source": [
    "#https://leetcode.com/problems/diameter-of-binary-tree/\n",
    "#what we want to find?\n",
    "#max depth that goes right add max depth that goes left\n",
    "#it could be from any node\n",
    "#so we iterate through every node to update our the diameter to max\n",
    "\n",
    "class Solution(object):\n",
    "    def diameterOfBinaryTree(self, root):\n",
    "        self.diameter = 0\n",
    "        \n",
    "        def traverse(node):\n",
    "            if not node: return 0\n",
    "            \n",
    "            #the max depth go left from this node\n",
    "            #the max depth go right from this node\n",
    "            left, right = traverse(node.left), traverse(node.right)\n",
    "            \n",
    "            #update diameter if left+right is bigger\n",
    "            self.diameter = max(self.diameter, left+right)\n",
    "            \n",
    "            #add 1 is for the step that get to this node\n",
    "            #max(left, right) is for the left or right path that goes to the deepest\n",
    "            return max(left, right)+1\n",
    "        \n",
    "        #iterate through the tree\n",
    "        traverse(root)\n",
    "        return self.diameter\n",
    "\n",
    "#2020\n",
    "class Solution(object):\n",
    "    def diameterOfBinaryTree(self, root):\n",
    "        def getMaxDepth(node):\n",
    "            if not node: return 0\n",
    "\n",
    "            l, r = getMaxDepth(node.left), getMaxDepth(node.right)\n",
    "            self.ans = max(self.ans, l+r)\n",
    "            return max(l, r)+1 #add the node it self\n",
    "\n",
    "        if not root: return 0\n",
    "        self.ans = float('-inf')\n",
    "        getMaxDepth(root)\n",
    "        return self.ans\n",
    "\"\"\"\n",
    "What we want to find?\n",
    "From an unknown node, that its max_depth_from_left (`l`) + max_depth_from_right (`r`) is the biggest.\n",
    "The node that generate this number could be from any node, so we iterate through every node to update `ans`.\n",
    "In other words, to find the answer, we need to check every node, if the max diameter pass through here.\n",
    "\n",
    "Time complexity is O(N), where N is the number of nodes.\n",
    "Space complexity is O(LogN), since we might got to LogN level on recursion.\n",
    "\"\"\"\n",
    "\n",
    "# from collections import defaultdict\n",
    "# class Solution(object):\n",
    "#     def diameterOfBinaryTree(self, root):\n",
    "#         def getLeftLength(node):\n",
    "#             if not node: return -1\n",
    "#             if not (node in record and 'left' in record[node]):\n",
    "#                 record[node]['left'] = max(getLeftLength(node.left), getRightLength(node.left))+1\n",
    "#             return record[node]['left']\n",
    "            \n",
    "#         def getRightLength(node):\n",
    "#             if not node: return -1\n",
    "#             if not (node in record and 'right' in record[node]):\n",
    "#                 record[node]['right'] = max(getLeftLength(node.right), getRightLength(node.right))+1\n",
    "#             return record[node]['right']\n",
    "        \n",
    "#         if not root: return 0\n",
    "        \n",
    "#         record = defaultdict(dict)\n",
    "#         ans = float('-inf')\n",
    "#         stack = []\n",
    "#         stack.append(root)\n",
    "        \n",
    "#         while stack:\n",
    "#             node = stack.pop()\n",
    "#             if not node: continue\n",
    "            \n",
    "#             d = getLeftLength(node)+getRightLength(node)\n",
    "#             ans = max(ans, d)\n",
    "#             stack.append(node.left)\n",
    "#             stack.append(node.right)\n",
    "            \n",
    "#         return ans\n",
    "\n",
    "\n",
    "\"\"\"\n",
    "For each route in the binary tree, we can view it from the highest node in the route.\n",
    "So the length will be helper(node.left) + 1 + helper(node.right).\n",
    "\"\"\"\n",
    "class Solution(object):\n",
    "    def __init__(self):\n",
    "        self.ans = 0 #number of nodes in the longest route\n",
    "        \n",
    "    def diameterOfBinaryTree(self, root):\n",
    "\t    #return the longest length to the leaf including itself\n",
    "        #also update self.ans\n",
    "        def helper(node):\n",
    "            r = helper(node.right) if node.right else 0\n",
    "            l = helper(node.left) if node.left else 0\n",
    "            self.ans = max(self.ans, l+1+r)\n",
    "            return max(l+1, r+1)\n",
    "        \n",
    "        helper(root)\n",
    "        return self.ans-1"
   ]
  },
  {
   "cell_type": "markdown",
   "id": "062f84fb",
   "metadata": {},
   "source": [
    "# 0543 Easy 543 Diameter of Binary Tree"
   ]
  },
  {
   "cell_type": "code",
   "execution_count": null,
   "id": "eb376761",
   "metadata": {},
   "outputs": [],
   "source": [
    "# Definition for a binary tree node.\n",
    "# class TreeNode(object):\n",
    "#     def __init__(self, x):\n",
    "#         self.val = x\n",
    "#         self.left = None\n",
    "#         self.right = None\n",
    "\n",
    "class Solution(object):\n",
    "    # https://leetcode.com/problems/diameter-of-binary-tree/solution/\n",
    "    def diameterOfBinaryTree(self, root):\n",
    "        self.ans = 1\n",
    "        def depth(node):\n",
    "            if not node: return 0\n",
    "            L = depth(node.left)\n",
    "            R = depth(node.right)\n",
    "            self.ans = max(self.ans, L+R+1)\n",
    "            return max(L, R) + 1\n",
    "\n",
    "        depth(root)\n",
    "        # number of nodes - 1 = length\n",
    "        return self.ans - 1"
   ]
  },
  {
   "cell_type": "markdown",
   "id": "343d3541",
   "metadata": {},
   "source": [
    "# 0543 Easy 543 Diameter of Binary Tree"
   ]
  },
  {
   "cell_type": "code",
   "execution_count": null,
   "id": "03e6e768",
   "metadata": {},
   "outputs": [],
   "source": [
    "# Definition for a binary tree node.\n",
    "# class TreeNode:\n",
    "#     def __init__(self, x):\n",
    "#         self.val = x\n",
    "#         self.left = None\n",
    "#         self.right = None\n",
    "\n",
    "class Solution:\n",
    "    def diameterOfBinaryTree(self, root):\n",
    "        \"\"\"\n",
    "        :type root: TreeNode\n",
    "        :rtype: int\n",
    "        \"\"\"\n",
    "        res = [0]\n",
    "        def traverse(node):\n",
    "            if not node: return 0\n",
    "            left, right = traverse(node.left), traverse(node.right)\n",
    "            res[0] = max(left+right, res[0])\n",
    "            return 1+ max(left, right)\n",
    "        traverse(root)\n",
    "        return res[0]"
   ]
  },
  {
   "cell_type": "markdown",
   "id": "3e8ef57c",
   "metadata": {},
   "source": [
    "# 0551 Easy 551 Student Attendance Record I"
   ]
  },
  {
   "cell_type": "code",
   "execution_count": null,
   "id": "f82154db",
   "metadata": {},
   "outputs": [],
   "source": [
    "# Time:  O(n)\n",
    "# Space: O(1)\n",
    "\n",
    "class Solution(object):\n",
    "    def checkRecord(self, s):\n",
    "        \"\"\"\n",
    "        :type s: str\n",
    "        :rtype: bool\n",
    "        \"\"\"\n",
    "        count_A = 0\n",
    "        for i in xrange(len(s)):\n",
    "            if s[i] == 'A':\n",
    "                count_A += 1\n",
    "                if count_A == 2:\n",
    "                    return False\n",
    "            if i < len(s) - 2 and s[i] == s[i+1] == s[i+2] == 'L':\n",
    "                return False\n",
    "        return True"
   ]
  },
  {
   "cell_type": "markdown",
   "id": "519bab1f",
   "metadata": {},
   "source": [
    "# 0551 Easy 551 Student Attendance Record I"
   ]
  },
  {
   "cell_type": "code",
   "execution_count": null,
   "id": "1890ac57",
   "metadata": {},
   "outputs": [],
   "source": [
    "class Solution:\n",
    "    def checkRecord(self, s):\n",
    "        \"\"\"\n",
    "        :type s: str\n",
    "        :rtype: bool\n",
    "        \"\"\"\n",
    "        return False if \"LLL\" in s or s.count(\"A\")>1 else True"
   ]
  },
  {
   "cell_type": "markdown",
   "id": "5906da0f",
   "metadata": {},
   "source": [
    "# 0557 Easy 557 Reverse Words in a String III"
   ]
  },
  {
   "cell_type": "code",
   "execution_count": null,
   "id": "1159617a",
   "metadata": {},
   "outputs": [],
   "source": [
    "# Time:  O(n)\n",
    "# Space: O(1)\n",
    "\n",
    "class Solution(object):\n",
    "    def reverseWords(self, s):\n",
    "        \"\"\"\n",
    "        :type s: str\n",
    "        :rtype: str\n",
    "        \"\"\"\n",
    "        def reverse(s, begin, end):\n",
    "            for i in xrange((end - begin) // 2):\n",
    "                s[begin + i], s[end - 1 - i] = s[end - 1 - i], s[begin + i]\n",
    "\n",
    "        s, i = list(s), 0\n",
    "        for j in xrange(len(s) + 1):\n",
    "            if j == len(s) or s[j] == ' ':\n",
    "                reverse(s, i, j)\n",
    "                i = j + 1\n",
    "        return \"\".join(s)\n",
    "\n",
    "\n",
    "class Solution2(object):\n",
    "    def reverseWords(self, s):\n",
    "        reversed_words = [word[::-1] for word in s.split(' ')]\n",
    "        return ' '.join(reversed_words)"
   ]
  },
  {
   "cell_type": "markdown",
   "id": "01f61d08",
   "metadata": {},
   "source": [
    "# 0557 Easy 557 Reverse Words in a String III"
   ]
  },
  {
   "cell_type": "code",
   "execution_count": null,
   "id": "233b7b10",
   "metadata": {},
   "outputs": [],
   "source": [
    "class Solution(object):\n",
    "    def reverseWords(self, s):\n",
    "        \"\"\"\n",
    "        :type s: str\n",
    "        :rtype: str\n",
    "        \"\"\"\n",
    "        return ' '.join([word[::-1] for word in s.split(' ')])"
   ]
  },
  {
   "cell_type": "markdown",
   "id": "f4ceffc5",
   "metadata": {},
   "source": [
    "# 0557 Easy 557 Reverse Words in a String III"
   ]
  },
  {
   "cell_type": "code",
   "execution_count": null,
   "id": "84b87212",
   "metadata": {},
   "outputs": [],
   "source": [
    "class Solution:\n",
    "    def reverseWords(self, s):\n",
    "        \"\"\"\n",
    "        :type s: str\n",
    "        :rtype: str\n",
    "        \"\"\"\n",
    "        j, s_out=0, str()\n",
    "        for i, char in enumerate(s):\n",
    "            if i==len(s)-1: s_out+=s[j:i+1][::-1]; return \"\".join(s_out)\n",
    "            if char==\" \": s_out+=s[j:i][::-1]; j=i+1; s_out+=\" \"\n",
    "        return \"\".join(s_out)"
   ]
  },
  {
   "cell_type": "markdown",
   "id": "dabcea48",
   "metadata": {},
   "source": [
    "# 0559 Easy 559 Maximum Depth of Nary Tree"
   ]
  },
  {
   "cell_type": "code",
   "execution_count": null,
   "id": "caf88869",
   "metadata": {},
   "outputs": [],
   "source": [
    "class Solution(object):\n",
    "    def maxDepth(self, root, level = 1):\n",
    "        return max(root and [self.maxDepth(child, level + 1) for child in root.children] + [level] or [0])"
   ]
  },
  {
   "cell_type": "markdown",
   "id": "ec1c83ab",
   "metadata": {},
   "source": [
    "# 0561 Easy 561 Array Partition"
   ]
  },
  {
   "cell_type": "code",
   "execution_count": null,
   "id": "a187c154",
   "metadata": {},
   "outputs": [],
   "source": [
    "class Solution:\n",
    "    def arrayPairSum(self, nums):\n",
    "        \"\"\"\n",
    "        :type nums: List[int]\n",
    "        :rtype: int\n",
    "        \"\"\"\n",
    "        nums.sort()\n",
    "        sum=0\n",
    "        while nums:\n",
    "            num1=nums.pop()\n",
    "            num2=nums.pop()\n",
    "            sum+=num2\n",
    "        return sum\n",
    "            "
   ]
  },
  {
   "cell_type": "markdown",
   "id": "4dd85c6f",
   "metadata": {},
   "source": [
    "# 0563 Easy 563 Binary Tree Tilt"
   ]
  },
  {
   "cell_type": "code",
   "execution_count": null,
   "id": "e208a325",
   "metadata": {},
   "outputs": [],
   "source": [
    "# Time:  O(n)\n",
    "# Space: O(n)\n",
    "\n",
    "class Solution(object):\n",
    "    def findTilt(self, root):\n",
    "        \"\"\"\n",
    "        :type root: TreeNode\n",
    "        :rtype: int\n",
    "        \"\"\"\n",
    "        def postOrderTraverse(root, tilt):\n",
    "            if not root:\n",
    "                return 0, tilt\n",
    "            left, tilt = postOrderTraverse(root.left, tilt)\n",
    "            right, tilt = postOrderTraverse(root.right, tilt)\n",
    "            tilt += abs(left-right)\n",
    "            return left+right+root.val, tilt\n",
    "\n",
    "        return postOrderTraverse(root, 0)[1]"
   ]
  },
  {
   "cell_type": "markdown",
   "id": "1c84cd76",
   "metadata": {},
   "source": [
    "# 0563 Easy 563 Binary Tree Tilt"
   ]
  },
  {
   "cell_type": "code",
   "execution_count": null,
   "id": "a3548dd1",
   "metadata": {},
   "outputs": [],
   "source": [
    "# Definition for a binary tree node.\n",
    "# class TreeNode:\n",
    "#     def __init__(self, x):\n",
    "#         self.val = x\n",
    "#         self.left = None\n",
    "#         self.right = None\n",
    "\n",
    "class Solution:\n",
    "    def findTilt(self, root):\n",
    "        \"\"\"\n",
    "        :type root: TreeNode\n",
    "        :rtype: int\n",
    "        \"\"\"\n",
    "        def traverse(node):\n",
    "            if not node: return 0\n",
    "            left = traverse(node.left)\n",
    "            right = traverse(node.right)\n",
    "            res.append(abs(right -left))\n",
    "            return node.val + left + right\n",
    "        res = []\n",
    "        traverse(root)\n",
    "        return sum(res)"
   ]
  },
  {
   "cell_type": "markdown",
   "id": "bc56db25",
   "metadata": {},
   "source": [
    "# 0566 Easy 566 Reshape the Matrix"
   ]
  },
  {
   "cell_type": "code",
   "execution_count": null,
   "id": "e062d90e",
   "metadata": {},
   "outputs": [],
   "source": [
    "# Time:  O(m * n)\n",
    "# Space: O(m * n)\n",
    "\n",
    "class Solution(object):\n",
    "    def matrixReshape(self, nums, r, c):\n",
    "        \"\"\"\n",
    "        :type nums: List[List[int]]\n",
    "        :type r: int\n",
    "        :type c: int\n",
    "        :rtype: List[List[int]]\n",
    "        \"\"\"\n",
    "        if not nums or \\\n",
    "           r*c != len(nums) * len(nums[0]):\n",
    "            return nums\n",
    "\n",
    "        result = [[0 for _ in xrange(c)] for _ in xrange(r)]\n",
    "        count = 0\n",
    "        for i in xrange(len(nums)):\n",
    "            for j in xrange(len(nums[0])):\n",
    "                result[count/c][count%c] = nums[i][j]\n",
    "                count += 1\n",
    "        return result"
   ]
  },
  {
   "cell_type": "markdown",
   "id": "cc957587",
   "metadata": {},
   "source": [
    "# 0566 Easy 566 Reshape the Matrix"
   ]
  },
  {
   "cell_type": "code",
   "execution_count": null,
   "id": "e1309e20",
   "metadata": {},
   "outputs": [],
   "source": [
    "class Solution:\n",
    "    def matrixReshape(self, nums, r, c):\n",
    "        \"\"\"\n",
    "        :type nums: List[List[int]]\n",
    "        :type r: int\n",
    "        :type c: int\n",
    "        :rtype: List[List[int]]\n",
    "        \"\"\"\n",
    "        nums_ordered=[x for y in nums for x in y]\n",
    "        if r*c==len(nums)*len(nums[0]):\n",
    "            return [nums_ordered[c*i:c*(i+1)] for i in range(r)]\n",
    "        else:return nums\n",
    "        "
   ]
  },
  {
   "cell_type": "markdown",
   "id": "155403e5",
   "metadata": {},
   "source": [
    "# 0572 Easy 572 Subtree of Another Tree"
   ]
  },
  {
   "cell_type": "code",
   "execution_count": null,
   "id": "a7d258d2",
   "metadata": {},
   "outputs": [],
   "source": [
    "\"\"\"\n",
    "We use DFS to traverse `s`. (Or you can use BFS)\n",
    "If we encounter a node and `node.val==t.val`.\n",
    "We check if the node and t are the same tree, using `isSameTree()`.\n",
    "\n",
    "In `isSameTree()` we use BFS to traverse both tree to check if they are exactly the same.\n",
    "We use BFS because. If some nodes are not the same, we can return early at higher level.\n",
    "Do need to go deep. Imagine the node that is not the same is at the bottom of the tree...\n",
    "\n",
    "Time complexity is O(M*N). M is the number of nodes in s. N is the number of nodes in t.\n",
    "Traversing s takes O(M).\n",
    "`isSameTree()` takes O(N) to check all nodes in t.\n",
    "In the worst case, we might need to execute `isSameTree()` on every node in s.\n",
    "\n",
    "Space complexity is O(M+N), since we might store all the nodes in memory.\n",
    "\"\"\"\n",
    "from collections import deque\n",
    "\n",
    "class Solution(object):\n",
    "    def isSubtree(self, s, t):\n",
    "        def isSameTree(root1, root2):\n",
    "            q1 = deque([root1])\n",
    "            q2 = deque([root2])\n",
    "            while q1 and q2:\n",
    "                n1 = q1.popleft()\n",
    "                n2 = q2.popleft()\n",
    "                if n1.val!=n2.val: return False\n",
    "                if n1.left: q1.append(n1.left)\n",
    "                if n1.right: q1.append(n1.right)\n",
    "                if n2.left: q2.append(n2.left)\n",
    "                if n2.right: q2.append(n2.right)\n",
    "\n",
    "            #check if both queue are empty.\n",
    "            #if both queue are empty, all nodes are checked.\n",
    "            return not q1 and not q2\n",
    "\n",
    "        stack = []\n",
    "        stack.append(s)\n",
    "        while stack:\n",
    "            node = stack.pop()\n",
    "            if node.val==t.val and isSameTree(node, t): return True\n",
    "            if node.left: stack.append(node.left)\n",
    "            if node.right: stack.append(node.right)\n",
    "        return False"
   ]
  },
  {
   "cell_type": "markdown",
   "id": "23a630e5",
   "metadata": {},
   "source": [
    "# 0572 Easy 572 Subtree of Another Tree"
   ]
  },
  {
   "cell_type": "code",
   "execution_count": null,
   "id": "10f1ae2b",
   "metadata": {},
   "outputs": [],
   "source": [
    "# Definition for a binary tree node.\n",
    "# class TreeNode(object):\n",
    "#     def __init__(self, x):\n",
    "#         self.val = x\n",
    "#         self.left = None\n",
    "#         self.right = None\n",
    "\n",
    "class Solution(object):\n",
    "    # https://leetcode.com/problems/subtree-of-another-tree/solution/\n",
    "    def isSubtree(self, s, t):\n",
    "        \"\"\"\n",
    "        :type s: TreeNode\n",
    "        :type t: TreeNode\n",
    "        :rtype: bool\n",
    "        \"\"\"\n",
    "        s_res = self.preorder(s, True)\n",
    "        t_res = self.preorder(t, True)\n",
    "        return t_res in s_res\n",
    "    \n",
    "    def preorder(self, root, isLeft):\n",
    "        if root is None:\n",
    "            if isLeft:\n",
    "                return \"lnull\"\n",
    "            else:\n",
    "                return \"rnull\"\n",
    "        return \"#\" + str(root.val) + \" \" + self.preorder(root.left, True) + \" \" + self.preorder(root.right, False)\n",
    "\n",
    "    # def isSubtree(self, s, t):\n",
    "    #     return self.traverse(s, t)\n",
    "    \n",
    "    # def equals(self, x, y):\n",
    "    #     if x is None and y is None:\n",
    "    #         return True\n",
    "    #     if x is None or y is None:\n",
    "    #         return False\n",
    "    #     return x.val == y.val and self.equals(x.left, y.left) and self.equals(x.right, y.right)\n",
    "    \n",
    "    # def traverse(self, s, t):\n",
    "    #     return s is not None and (self.equals(s, t) or self.traverse(s.left, t) or self.traverse(s.right, t))"
   ]
  },
  {
   "cell_type": "markdown",
   "id": "3a8c4384",
   "metadata": {},
   "source": [
    "# 0572 Easy 572 Subtree of Another Tree"
   ]
  },
  {
   "cell_type": "code",
   "execution_count": null,
   "id": "2ee32bc6",
   "metadata": {},
   "outputs": [],
   "source": [
    "class Solution:\n",
    "    def isSubtree(self, s, t):\n",
    "        \"\"\"\n",
    "        :type s: TreeNode\n",
    "        :type t: TreeNode\n",
    "        :rtype: bool\n",
    "        \"\"\"\n",
    "        def traverse(node):\n",
    "            if not node: return \"^\"\n",
    "            return \"$\"+str(node.val)+\"?\"+traverse(node.left)+\"@\"+traverse(node.right)\n",
    "        return traverse(t) in traverse(s)"
   ]
  },
  {
   "cell_type": "markdown",
   "id": "1d019501",
   "metadata": {},
   "source": [
    "# 0575 Easy 575 Distribute Candies"
   ]
  },
  {
   "cell_type": "code",
   "execution_count": null,
   "id": "9f40cc51",
   "metadata": {},
   "outputs": [],
   "source": [
    "# Time:  O(n)\n",
    "# Space: O(n)\n",
    "\n",
    "class Solution(object):\n",
    "\n",
    "    def distributeCandies(self, candies):\n",
    "        \"\"\"\n",
    "        :type candies: List[int]\n",
    "        :rtype: int\n",
    "        \"\"\"\n",
    "        lookup = set(candies)\n",
    "        return min(len(lookup), len(candies)/2)"
   ]
  },
  {
   "cell_type": "markdown",
   "id": "b8914b13",
   "metadata": {},
   "source": [
    "# 0575 Easy 575 Distribute Candies"
   ]
  },
  {
   "cell_type": "code",
   "execution_count": null,
   "id": "75d1b49a",
   "metadata": {},
   "outputs": [],
   "source": [
    "class Solution:\n",
    "    def distributeCandies(self, candies):\n",
    "        \"\"\"\n",
    "        :type candies: List[int]\n",
    "        :rtype: int\n",
    "        \"\"\"\n",
    "        return len(set(candies)) if len(set(candies))<=len(candies)//2 else len(candies)//2"
   ]
  },
  {
   "cell_type": "markdown",
   "id": "121fcac5",
   "metadata": {},
   "source": [
    "# 0589 Easy 589 Nary Tree Preorder Traversal"
   ]
  },
  {
   "cell_type": "code",
   "execution_count": null,
   "id": "ed0c4a0f",
   "metadata": {},
   "outputs": [],
   "source": [
    "class Solution(object):\n",
    "    def preorder(self, root):\n",
    "        ret, q = [], collections.deque([root])\n",
    "        while any(q):\n",
    "            node = q.popleft()\n",
    "            ret.append(node.val)\n",
    "            for child in node.children[::-1]:\n",
    "                if child: q.appendleft(child)\n",
    "        return ret"
   ]
  },
  {
   "cell_type": "markdown",
   "id": "b6b19367",
   "metadata": {},
   "source": [
    "# 0590 Easy 590 Nary Tree Postorder Traversal"
   ]
  },
  {
   "cell_type": "code",
   "execution_count": null,
   "id": "f23e141d",
   "metadata": {},
   "outputs": [],
   "source": [
    "class Solution(object):\n",
    "    def postorder(self, root):\n",
    "        ret, stack = [], [root]\n",
    "        while any(stack):\n",
    "            node = stack.pop()\n",
    "            ret.append(node.val)\n",
    "            stack += [child for child in node.children if child]\n",
    "        return ret[::-1]"
   ]
  },
  {
   "cell_type": "markdown",
   "id": "0255e48d",
   "metadata": {},
   "source": [
    "# 0594 Easy 594 Longest Harmonious Subsequence"
   ]
  },
  {
   "cell_type": "code",
   "execution_count": null,
   "id": "e7d4b2c7",
   "metadata": {},
   "outputs": [],
   "source": [
    "# Time:  O(n)\n",
    "# Space: O(n)\n",
    "\n",
    "import collections\n",
    "\n",
    "\n",
    "class Solution(object):\n",
    "    def findLHS(self, nums):\n",
    "        \"\"\"\n",
    "        :type nums: List[int]\n",
    "        :rtype: int\n",
    "        \"\"\"\n",
    "        lookup = collections.defaultdict(int)\n",
    "        result = 0\n",
    "        for num in nums:\n",
    "            lookup[num] += 1\n",
    "            for diff in [-1, 1]:\n",
    "                if (num + diff) in lookup:\n",
    "                    result = max(result, lookup[num] + lookup[num + diff])\n",
    "        return result"
   ]
  },
  {
   "cell_type": "markdown",
   "id": "b7980c6f",
   "metadata": {},
   "source": [
    "# 0594 Easy 594 Longest Harmonious Subsequence"
   ]
  },
  {
   "cell_type": "code",
   "execution_count": null,
   "id": "55db0720",
   "metadata": {},
   "outputs": [],
   "source": [
    "class Solution(object):\n",
    "    def findLHS(self, nums):\n",
    "        dic, res = collections.defaultdict(int), 0\n",
    "        for num in nums: dic[num] += 1\n",
    "        for k in dic:\n",
    "            if k + 1 in dic: res = max(res, dic[k] + dic[k + 1])\n",
    "        return res"
   ]
  },
  {
   "cell_type": "markdown",
   "id": "53cb46fc",
   "metadata": {},
   "source": [
    "# 0595 Easy 595 Big Countries"
   ]
  },
  {
   "cell_type": "code",
   "execution_count": null,
   "id": "d456a365",
   "metadata": {},
   "outputs": [],
   "source": [
    "-- https://leetcode.com/problems/big-countries/\n",
    "select name, population, area from World where area>3000000 or population>25000000"
   ]
  },
  {
   "cell_type": "markdown",
   "id": "3901cbaa",
   "metadata": {},
   "source": [
    "# 0598 Easy 598 Range Addition II"
   ]
  },
  {
   "cell_type": "code",
   "execution_count": null,
   "id": "f7f34c87",
   "metadata": {},
   "outputs": [],
   "source": [
    "# Time:  O(p), p is the number of ops\n",
    "# Space: O(1)\n",
    "\n",
    "class Solution(object):\n",
    "    def maxCount(self, m, n, ops):\n",
    "        \"\"\"\n",
    "        :type m: int\n",
    "        :type n: int\n",
    "        :type ops: List[List[int]]\n",
    "        :rtype: int\n",
    "        \"\"\"\n",
    "        for op in ops:\n",
    "            m = min(m, op[0])\n",
    "            n = min(n, op[1])\n",
    "        return m*n"
   ]
  },
  {
   "cell_type": "markdown",
   "id": "9d072694",
   "metadata": {},
   "source": [
    "# 0598 Easy 598 Range Addition II"
   ]
  },
  {
   "cell_type": "code",
   "execution_count": null,
   "id": "c66976aa",
   "metadata": {},
   "outputs": [],
   "source": [
    "class Solution:\n",
    "    def maxCount(self, m, n, ops):\n",
    "        \"\"\"\n",
    "        :type m: int\n",
    "        :type n: int\n",
    "        :type ops: List[List[int]]\n",
    "        :rtype: int\n",
    "        \"\"\"\n",
    "        if ops==[]:\n",
    "            return m*n\n",
    "        return min(op[0] for op in ops)* min(op[1] for op in ops) "
   ]
  },
  {
   "cell_type": "markdown",
   "id": "57b354f4",
   "metadata": {},
   "source": [
    "# 0599 Easy 599 Minimum Index Sum of Two Lists"
   ]
  },
  {
   "cell_type": "code",
   "execution_count": null,
   "id": "18391fac",
   "metadata": {},
   "outputs": [],
   "source": [
    "# Time:  O((m + n) * l), m is the size of list1, n is the size of list2\n",
    "# Space: O(m * l), l is the average length of string\n",
    "\n",
    "class Solution(object):\n",
    "    def findRestaurant(self, list1, list2):\n",
    "        \"\"\"\n",
    "        :type list1: List[str]\n",
    "        :type list2: List[str]\n",
    "        :rtype: List[str]\n",
    "        \"\"\"\n",
    "        lookup = {}\n",
    "        for i, s in enumerate(list1):\n",
    "            lookup[s] = i\n",
    "\n",
    "        result = []\n",
    "        min_sum = float(\"inf\")\n",
    "        for j, s in enumerate(list2):\n",
    "            if j > min_sum:\n",
    "                break\n",
    "            if s in lookup:\n",
    "                if j + lookup[s] < min_sum:\n",
    "                    result = [s]\n",
    "                    min_sum = j + lookup[s]\n",
    "                elif j + lookup[s] == min_sum:\n",
    "                    result.append(s)\n",
    "        return result"
   ]
  },
  {
   "cell_type": "markdown",
   "id": "a637d269",
   "metadata": {},
   "source": [
    "# 0599 Easy 599 Minimum Index Sum of Two Lists"
   ]
  },
  {
   "cell_type": "code",
   "execution_count": null,
   "id": "a68edaa7",
   "metadata": {},
   "outputs": [],
   "source": [
    "class Solution:\n",
    "    def findRestaurant(self, list1, list2):\n",
    "        \"\"\"\n",
    "        :type list1: List[str]\n",
    "        :type list2: List[str]\n",
    "        :rtype: List[str]\n",
    "        \"\"\"\n",
    "        dic={}\n",
    "        for item1 in list1:\n",
    "            for item2 in list2:\n",
    "                if item1==item2:\n",
    "                    dic[item1]=list1.index(item1)+list2.index(item2)\n",
    "        return [k for k in dic if dic[k]==min(dic.values())]"
   ]
  },
  {
   "cell_type": "markdown",
   "id": "4ff2e9f8",
   "metadata": {},
   "source": [
    "# 0604 Easy 604 Design Compressed String Iterator"
   ]
  },
  {
   "cell_type": "code",
   "execution_count": null,
   "id": "a4f85aad",
   "metadata": {},
   "outputs": [],
   "source": [
    "# Time:  O(1)\n",
    "# Space: O(1)\n",
    "\n",
    "import re\n",
    "\n",
    "\n",
    "class StringIterator(object):\n",
    "\n",
    "    def __init__(self, compressedString):\n",
    "        \"\"\"\n",
    "        :type compressedString: str\n",
    "        \"\"\"\n",
    "        self.__result = re.findall(r\"([a-zA-Z])(\\d+)\", compressedString)\n",
    "        self.__index, self.__num, self.__ch = 0, 0, ' '\n",
    "\n",
    "    def next(self):\n",
    "        \"\"\"\n",
    "        :rtype: str\n",
    "        \"\"\"\n",
    "        if not self.hasNext():\n",
    "            return ' '\n",
    "        if self.__num == 0:\n",
    "            self.__ch = self.__result[self.__index][0]\n",
    "            self.__num = int(self.__result[self.__index][1])\n",
    "            self.__index += 1\n",
    "        self.__num -= 1\n",
    "        return self.__ch\n",
    "\n",
    "\n",
    "    def hasNext(self):\n",
    "        \"\"\"\n",
    "        :rtype: bool\n",
    "        \"\"\"\n",
    "        return self.__index != len(self.__result) or self.__num != 0"
   ]
  },
  {
   "cell_type": "markdown",
   "id": "ac5c3bf8",
   "metadata": {},
   "source": [
    "# 0604 Easy 604 Design Compressed String Iterator"
   ]
  },
  {
   "cell_type": "code",
   "execution_count": null,
   "id": "7287361a",
   "metadata": {},
   "outputs": [],
   "source": [
    "class StringIterator:\n",
    "    def findCount(self):\n",
    "        j = self.ind + 1\n",
    "        while j < self.n and self.s[j].isnumeric(): j += 1\n",
    "        self.count = int(self.s[self.ind + 1:j])\n",
    "        self.new = j\n",
    "        \n",
    "    def __init__(self, compressedString):\n",
    "        self.s, self.n = compressedString, len(compressedString)\n",
    "        self.ind = self.count = self.new = 0\n",
    "        self.findCount()\n",
    "\n",
    "    def next(self):\n",
    "        if not self.count:\n",
    "            if self.new >= self.n: return \" \"\n",
    "            elif self.new < self.n:\n",
    "                self.ind = self.new\n",
    "                self.findCount()\n",
    "        self.count -= 1\n",
    "        return self.s[self.ind]\n",
    "\n",
    "    def hasNext(self):\n",
    "        return self.count > 0 or self.new < self.n - 1"
   ]
  },
  {
   "cell_type": "markdown",
   "id": "aeb9447d",
   "metadata": {},
   "source": [
    "# 0605 Easy 605 Can Place Flowers"
   ]
  },
  {
   "cell_type": "code",
   "execution_count": null,
   "id": "11a6b161",
   "metadata": {},
   "outputs": [],
   "source": [
    "# Time:  O(n)\n",
    "# Space: O(1)\n",
    "\n",
    "class Solution(object):\n",
    "    def canPlaceFlowers(self, flowerbed, n):\n",
    "        \"\"\"\n",
    "        :type flowerbed: List[int]\n",
    "        :type n: int\n",
    "        :rtype: bool\n",
    "        \"\"\"\n",
    "        for i in xrange(len(flowerbed)):\n",
    "            if flowerbed[i] == 0 and (i == 0 or flowerbed[i-1] == 0) and \\\n",
    "                (i == len(flowerbed)-1 or flowerbed[i+1] == 0):\n",
    "                flowerbed[i] = 1\n",
    "                n -= 1\n",
    "            if n <= 0:\n",
    "                return True\n",
    "        return False"
   ]
  },
  {
   "cell_type": "markdown",
   "id": "8b50a83c",
   "metadata": {},
   "source": [
    "# 0605 Easy 605 Can Place Flowers"
   ]
  },
  {
   "cell_type": "code",
   "execution_count": null,
   "id": "49b5b015",
   "metadata": {},
   "outputs": [],
   "source": [
    "class Solution(object):\n",
    "    def canPlaceFlowers(self, flowerbed, n):\n",
    "        \"\"\"\n",
    "        :type flowerbed: List[int]\n",
    "        :type n: int\n",
    "        :rtype: bool\n",
    "        \"\"\"\n",
    "        count = 0\n",
    "        for i in range(len(flowerbed)):\n",
    "            curr = flowerbed[i]\n",
    "            if i - 1 >= 0:\n",
    "                curr += flowerbed[i - 1]\n",
    "            if i + 1 < len(flowerbed):\n",
    "                curr += flowerbed[i + 1]\n",
    "            if curr == 0:\n",
    "                count += 1\n",
    "                flowerbed[i] = 1\n",
    "                if count >= n:\n",
    "                    return True\n",
    "        return False"
   ]
  },
  {
   "cell_type": "markdown",
   "id": "cfb69f4c",
   "metadata": {},
   "source": [
    "# 0605 Easy 605 Can Place Flowers"
   ]
  },
  {
   "cell_type": "code",
   "execution_count": null,
   "id": "bd645f45",
   "metadata": {},
   "outputs": [],
   "source": [
    "class Solution:\n",
    "    def canPlaceFlowers(self, flowerbed, n):\n",
    "        \"\"\"\n",
    "        :type flowerbed: List[int]\n",
    "        :type n: int\n",
    "        :rtype: bool\n",
    "        \"\"\"\n",
    "        num=n\n",
    "        if len(flowerbed)<=1:\n",
    "            if (num==1 and flowerbed==[0]) or (num==0):\n",
    "                return True\n",
    "            else:\n",
    "                return False\n",
    "        if flowerbed[0]==0 and flowerbed[1]==0:\n",
    "            flowerbed[0]=1\n",
    "            num-=1\n",
    "        if flowerbed[-1]==0 and flowerbed[-2]==0:\n",
    "            flowerbed[-1]=1\n",
    "            num-=1\n",
    "        for i in range(1,len(flowerbed)-2):\n",
    "            if flowerbed[i]!=1 and flowerbed[i+1]!=1 and flowerbed[i-1]!=1:\n",
    "                flowerbed[i]=1\n",
    "                num-=1\n",
    "        if num<=0:\n",
    "            return True\n",
    "        return False\n",
    "            "
   ]
  },
  {
   "cell_type": "markdown",
   "id": "1af9e38f",
   "metadata": {},
   "source": [
    "# 0606 Easy 606 Construct String from Binary Tree"
   ]
  },
  {
   "cell_type": "code",
   "execution_count": null,
   "id": "18d0b40b",
   "metadata": {},
   "outputs": [],
   "source": [
    "# Time:  O(n)\n",
    "# Space: O(h)\n",
    "\n",
    "class Solution(object):\n",
    "    def tree2str(self, t):\n",
    "        \"\"\"\n",
    "        :type t: TreeNode\n",
    "        :rtype: str\n",
    "        \"\"\"\n",
    "        if not t: return \"\"\n",
    "        s = str(t.val)\n",
    "        if t.left or t.right:\n",
    "            s += \"(\" + self.tree2str(t.left) + \")\"\n",
    "        if t.right:\n",
    "            s += \"(\" + self.tree2str(t.right) + \")\"\n",
    "        return s"
   ]
  },
  {
   "cell_type": "markdown",
   "id": "f26e62c0",
   "metadata": {},
   "source": [
    "# 0606 Easy 606 Construct String from Binary Tree"
   ]
  },
  {
   "cell_type": "code",
   "execution_count": null,
   "id": "07c44963",
   "metadata": {},
   "outputs": [],
   "source": [
    "class Solution:        \n",
    "    def tree2str(self, t):\n",
    "        \"\"\"\n",
    "        :type t: TreeNode\n",
    "        :rtype: str\n",
    "        \"\"\"\n",
    "        if not t: return \"\"\n",
    "        parent=\"%s\" %t.val\n",
    "        left, right= \"\", \"\"\n",
    "        if t.left or t.right: left= \"(%s)\" % self.tree2str(t.left)\n",
    "        if t.right: right= \"(%s)\" % self.tree2str(t.right)\n",
    "        return parent+left+right       "
   ]
  },
  {
   "cell_type": "markdown",
   "id": "bf603c8e",
   "metadata": {},
   "source": [
    "# 0617 Easy 617 Merge Two Binary Trees"
   ]
  },
  {
   "cell_type": "code",
   "execution_count": null,
   "id": "40af4156",
   "metadata": {},
   "outputs": [],
   "source": [
    "# Time:  O(n)\n",
    "# Space: O(h)\n",
    "\n",
    "class Solution(object):\n",
    "    def mergeTrees(self, t1, t2):\n",
    "        \"\"\"\n",
    "        :type t1: TreeNode\n",
    "        :type t2: TreeNode\n",
    "        :rtype: TreeNode\n",
    "        \"\"\"\n",
    "        if t1 is None:\n",
    "            return t2\n",
    "        if t2 is None:\n",
    "            return t1\n",
    "        t1.val += t2.val\n",
    "        t1.left = self.mergeTrees(t1.left, t2.left)\n",
    "        t1.right = self.mergeTrees(t1.right, t2.right)\n",
    "        return t1"
   ]
  },
  {
   "cell_type": "markdown",
   "id": "51be1222",
   "metadata": {},
   "source": [
    "# 0617 Easy 617 Merge Two Binary Trees"
   ]
  },
  {
   "cell_type": "code",
   "execution_count": null,
   "id": "b434dcc5",
   "metadata": {},
   "outputs": [],
   "source": [
    "# Definition for a binary tree node.\n",
    "# class TreeNode(object):\n",
    "#     def __init__(self, x):\n",
    "#         self.val = x\n",
    "#         self.left = None\n",
    "#         self.right = None\n",
    "\n",
    "class Solution(object):\n",
    "    def mergeTrees(self, t1, t2):\n",
    "        \"\"\"\n",
    "        :type t1: TreeNode\n",
    "        :type t2: TreeNode\n",
    "        :rtype: TreeNode\n",
    "        \"\"\"\n",
    "        if t1 is None:\n",
    "            return t2\n",
    "        if t2 is None:\n",
    "            return t1\n",
    "        t1.val += t2.val\n",
    "        t1.left = self.mergeTrees(t1.left, t2.left)\n",
    "        t1.right = self.mergeTrees(t1.right, t2.right)\n",
    "        return t1\n",
    "\n",
    "    # def mergeTrees(self, t1, t2):\n",
    "    #     if t1 is None:\n",
    "    #         return t2\n",
    "    #     stack = [(t1, t2)]\n",
    "    #     while len(stack) != 0:\n",
    "    #         n1, n2 = stack.pop()\n",
    "    #         if n1 is None or n2 is None:\n",
    "    #             continue\n",
    "    #         n1.val += n2.val\n",
    "    #         if n1.left is None:\n",
    "    #             n1.left = n2.left\n",
    "    #         else:\n",
    "    #             stack.insert(0, (n1.left, n2.left))\n",
    "    #         if n1.right is None:\n",
    "    #             n1.right = n2.right\n",
    "    #         else:\n",
    "    #             stack.insert(0, (n1.right, n2.right))\n",
    "    #     return t1"
   ]
  },
  {
   "cell_type": "markdown",
   "id": "d4442504",
   "metadata": {},
   "source": [
    "# 0617 Easy 617 Merge Two Binary Trees"
   ]
  },
  {
   "cell_type": "code",
   "execution_count": null,
   "id": "10a367df",
   "metadata": {},
   "outputs": [],
   "source": [
    "class Solution:\n",
    "    def mergeTrees(self, t1, t2):\n",
    "        \"\"\"\n",
    "        :type t1: TreeNode\n",
    "        :type t2: TreeNode\n",
    "        :rtype: TreeNode\n",
    "        \"\"\"\n",
    "        if t1 and t2:\n",
    "            root, root.left, root.right = TreeNode(t1.val + t2.val), self.mergeTrees(t1.left, t2.left), self.mergeTrees(t1.right, t2.right)\n",
    "            return root\n",
    "        else: return t1 or t2"
   ]
  },
  {
   "cell_type": "markdown",
   "id": "c4f65439",
   "metadata": {},
   "source": [
    "# 0628 Easy 628 Maximum Product of Three Numbers"
   ]
  },
  {
   "cell_type": "code",
   "execution_count": null,
   "id": "10ac2a5d",
   "metadata": {},
   "outputs": [],
   "source": [
    "\"\"\"\n",
    "if we sort the array, the max would be the product 3 numbers on the right.\n",
    "but if there are negative numbers, it could also be possible that\n",
    "two negative numbers lying at the left extreme end could also contribute to lead to a larger product.\n",
    "thus, after sorting, either\n",
    "\n",
    "max1 * max2 * max3\n",
    "max1 * min1 * min2\n",
    "\n",
    "so our gaol will be to find the max 3 numbers and min 2 numbers in the array\n",
    "\"\"\"\n",
    "class Solution(object):\n",
    "    def maximumProduct(self, nums):\n",
    "        min1 = float('inf') #smallest\n",
    "        min2 = float('inf') #second smallest\n",
    "\n",
    "        max1 = float('-inf') #largest\n",
    "        max2 = float('-inf') #second largest\n",
    "        max3 = float('-inf') #third largest\n",
    "\n",
    "        for n in nums:\n",
    "            if n<=min1:\n",
    "                min2 = min1\n",
    "                min1 = n\n",
    "            elif n<=min2:\n",
    "                min2 = n\n",
    "            \n",
    "            if n>=max1:\n",
    "                max3 = max2\n",
    "                max2 = max1\n",
    "                max1 = n\n",
    "            elif n>=max2:\n",
    "                max3 = max2\n",
    "                max2 = n\n",
    "            elif n>=max3:\n",
    "                max3 = n\n",
    "\n",
    "        return max(min1*min2*max1, max1*max2*max3)"
   ]
  },
  {
   "cell_type": "markdown",
   "id": "5eed7ac9",
   "metadata": {},
   "source": [
    "# 0628 Easy 628 Maximum Product of Three Numbers"
   ]
  },
  {
   "cell_type": "code",
   "execution_count": null,
   "id": "9a0ab7dd",
   "metadata": {},
   "outputs": [],
   "source": [
    "class Solution(object):\n",
    "    # def maximumProduct(self, nums):\n",
    "    #     \"\"\"\n",
    "    #     :type nums: List[int]\n",
    "    #     :rtype: int\n",
    "    #     \"\"\"\n",
    "    #     nums.sort()\n",
    "    #     # Check min1*min2*max1 and max1*max2*max3\n",
    "    #     return max(reduce(lambda x, y: x * y, nums[:2]) * nums[-1],\n",
    "    #                reduce(lambda x, y: x * y, nums[-3:]))\n",
    "\n",
    "    def maximumProduct(self, nums):\n",
    "        min1 = min2 = float('inf')\n",
    "        max1 = max2 = max3 = float('-inf')\n",
    "        for num in nums:\n",
    "            if num <= min1:\n",
    "                min2 = min1\n",
    "                min1 = num\n",
    "            elif num <= min2:\n",
    "                min2 = num\n",
    "            if num >= max1:\n",
    "                max3 = max2\n",
    "                max2 = max1\n",
    "                max1 = num\n",
    "            elif num >= max2:\n",
    "                max3 = max2\n",
    "                max2 = num\n",
    "            elif num >= max3:\n",
    "                max3 = num\n",
    "        return max(min1 * min2 * max1, max1 * max2 * max3)"
   ]
  },
  {
   "cell_type": "markdown",
   "id": "b7d1c8cc",
   "metadata": {},
   "source": [
    "# 0628 Easy 628 Maximum Product of Three Numbers"
   ]
  },
  {
   "cell_type": "code",
   "execution_count": null,
   "id": "db2222b9",
   "metadata": {},
   "outputs": [],
   "source": [
    "class Solution:\n",
    "    def maximumProduct(self, nums):\n",
    "        \"\"\"\n",
    "        :type nums: List[int]\n",
    "        :rtype: int\n",
    "        \"\"\"\n",
    "        nums.sort()\n",
    "        return max(nums[-1]*nums[-2]*nums[-3], nums[-1]*nums[0]*nums[1])"
   ]
  },
  {
   "cell_type": "markdown",
   "id": "d32307f3",
   "metadata": {},
   "source": [
    "# 0637 Easy 637 Average of Levels in Binary Tree"
   ]
  },
  {
   "cell_type": "code",
   "execution_count": null,
   "id": "2ac20998",
   "metadata": {},
   "outputs": [],
   "source": [
    "# Time:  O(n)\n",
    "# Space: O(h)\n",
    "\n",
    "\n",
    "class Solution(object):\n",
    "    def averageOfLevels(self, root):\n",
    "        \"\"\"\n",
    "        :type root: TreeNode\n",
    "        :rtype: List[float]\n",
    "        \"\"\"\n",
    "        result = []\n",
    "        q = [root]\n",
    "        while q:\n",
    "            total, count = 0, 0\n",
    "            next_q = []\n",
    "            for n in q:\n",
    "                total += n.val\n",
    "                count += 1\n",
    "                if n.left:\n",
    "                    next_q.append(n.left)\n",
    "                if n.right:\n",
    "                    next_q.append(n.right)\n",
    "            q = next_q\n",
    "            result.append(float(total) / count)\n",
    "        return result"
   ]
  },
  {
   "cell_type": "markdown",
   "id": "e28b41c4",
   "metadata": {},
   "source": [
    "# 0637 Easy 637 Average of Levels in Binary Tree"
   ]
  },
  {
   "cell_type": "code",
   "execution_count": null,
   "id": "36ea3d1f",
   "metadata": {},
   "outputs": [],
   "source": [
    "# Definition for a binary tree node.\n",
    "# class TreeNode:\n",
    "#     def __init__(self, x):\n",
    "#         self.val = x\n",
    "#         self.left = None\n",
    "#         self.right = None\n",
    "\n",
    "class Solution:\n",
    "    def averageOfLevels(self, root):\n",
    "        \"\"\"\n",
    "        :type root: TreeNode\n",
    "        :rtype: List[float]\n",
    "        \"\"\"\n",
    "        from collections import deque\n",
    "        q, target, avg = deque([root]), root, [float(root.val)]\n",
    "        while q:\n",
    "            node=q.popleft()\n",
    "            if node.left: q.append(node.left)\n",
    "            if node.right: q.append(node.right)\n",
    "            if q and node==target:\n",
    "                target, sm = q[-1], 0\n",
    "                for item in q: sm+=item.val\n",
    "                avg.append(sm/len(q))\n",
    "        return avg"
   ]
  },
  {
   "cell_type": "markdown",
   "id": "77d5db97",
   "metadata": {},
   "source": [
    "# 0643 Easy 643 Maximum Average Subarray I"
   ]
  },
  {
   "cell_type": "code",
   "execution_count": null,
   "id": "c80101a6",
   "metadata": {},
   "outputs": [],
   "source": [
    "# Time:  O(n)\n",
    "# Space: O(1)\n",
    "\n",
    "class Solution(object):\n",
    "    def findMaxAverage(self, nums, k):\n",
    "        \"\"\"\n",
    "        :type nums: List[int]\n",
    "        :type k: int\n",
    "        :rtype: float\n",
    "        \"\"\"\n",
    "        result = total = sum(nums[:k])\n",
    "        for i in xrange(k, len(nums)):\n",
    "            total += nums[i] - nums[i-k]\n",
    "            result = max(result, total)\n",
    "        return float(result) / k"
   ]
  },
  {
   "cell_type": "markdown",
   "id": "abf226fa",
   "metadata": {},
   "source": [
    "# 0643 Easy 643 Maximum Average Subarray I"
   ]
  },
  {
   "cell_type": "code",
   "execution_count": null,
   "id": "49bc9d1b",
   "metadata": {},
   "outputs": [],
   "source": [
    "class Solution:\n",
    "    def findMaxAverage(self, nums, k):\n",
    "        \"\"\"\n",
    "        :type nums: List[int]\n",
    "        :type k: int\n",
    "        :rtype: float\n",
    "        \"\"\"\n",
    "        sm=sum(nums[:k])\n",
    "        mx,j=sm/k, 0\n",
    "        for i in range(k,len(nums)): sm+=nums[i]; sm-=nums[j]; curr=sm/k; mx=max(curr,mx); j+=1\n",
    "        return mx"
   ]
  },
  {
   "cell_type": "markdown",
   "id": "d382181c",
   "metadata": {},
   "source": [
    "# 0645 Easy 645 Set Mismatch"
   ]
  },
  {
   "cell_type": "code",
   "execution_count": null,
   "id": "2d88235c",
   "metadata": {},
   "outputs": [],
   "source": [
    "# Time:  O(n)\n",
    "# Space: O(1)\n",
    "\n",
    "class Solution(object):\n",
    "    def findErrorNums(self, nums):\n",
    "        \"\"\"\n",
    "        :type nums: List[int]\n",
    "        :rtype: List[int]\n",
    "        \"\"\"\n",
    "        x_xor_y = 0\n",
    "        for i in xrange(len(nums)):\n",
    "            x_xor_y ^= nums[i] ^ (i+1)\n",
    "        bit = x_xor_y & ~(x_xor_y-1)\n",
    "        result = [0] * 2\n",
    "        for i, num in enumerate(nums):\n",
    "            result[bool(num & bit)] ^= num\n",
    "            result[bool((i+1) & bit)] ^= i+1\n",
    "        if result[0] not in nums:\n",
    "            result[0], result[1] = result[1], result[0]\n",
    "        return result\n",
    "\n",
    "\n",
    "# Time:  O(n)\n",
    "# Space: O(1)\n",
    "class Solution2(object):\n",
    "    def findErrorNums(self, nums):\n",
    "        \"\"\"\n",
    "        :type nums: List[int]\n",
    "        :rtype: List[int]\n",
    "        \"\"\"\n",
    "        result = [0] * 2\n",
    "        for i in nums:\n",
    "            if nums[abs(i)-1] < 0:\n",
    "                result[0] = abs(i)\n",
    "            else:\n",
    "                nums[abs(i)-1] *= -1\n",
    "        for i in xrange(len(nums)):\n",
    "            if nums[i] > 0:\n",
    "                result[1] = i+1\n",
    "            else:\n",
    "                nums[i] *= -1\n",
    "        return result\n",
    "\n",
    "\n",
    "# Time:  O(n)\n",
    "# Space: O(1)\n",
    "class Solution3(object):\n",
    "    def findErrorNums(self, nums):\n",
    "        \"\"\"\n",
    "        :type nums: List[int]\n",
    "        :rtype: List[int]\n",
    "        \"\"\"\n",
    "        N = len(nums)\n",
    "        x_minus_y = sum(nums) - N*(N+1)//2\n",
    "        x_plus_y = (sum(x*x for x in nums) - N*(N+1)*(2*N+1)/6) // x_minus_y\n",
    "        return (x_plus_y+x_minus_y) // 2, (x_plus_y-x_minus_y) // 2"
   ]
  },
  {
   "cell_type": "markdown",
   "id": "c5fffefb",
   "metadata": {},
   "source": [
    "# 0645 Easy 645 Set Mismatch"
   ]
  },
  {
   "cell_type": "code",
   "execution_count": null,
   "id": "24a19041",
   "metadata": {},
   "outputs": [],
   "source": [
    "class Solution:\n",
    "    def findErrorNums(self, nums: List[int]) -> List[int]:\n",
    "        cnt = collections.Counter(nums)\n",
    "        return [k for k in cnt if cnt[k] == 2] + [i for i in range(1, len(nums) + 1) if i not in cnt]"
   ]
  },
  {
   "cell_type": "markdown",
   "id": "3257377b",
   "metadata": {},
   "source": [
    "# 0653 Easy 653 Two Sum IV Input is a BST"
   ]
  },
  {
   "cell_type": "code",
   "execution_count": null,
   "id": "bf27cb98",
   "metadata": {},
   "outputs": [],
   "source": [
    "class Solution:\n",
    "    def findTarget(self, root, k):\n",
    "        \"\"\"\n",
    "        :type root: TreeNode\n",
    "        :type k: int\n",
    "        :rtype: bool\n",
    "        \"\"\"\n",
    "        def traverse(node):\n",
    "            if not node: return False\n",
    "            if not node.val in dic: dic[k-node.val]=1\n",
    "            else: return True\n",
    "            return traverse(node.left) or traverse(node.right)\n",
    "        dic={}\n",
    "        return traverse(root)"
   ]
  },
  {
   "cell_type": "markdown",
   "id": "bdf521f4",
   "metadata": {},
   "source": [
    "# 0657 Easy 657 Robot Return to Origin"
   ]
  },
  {
   "cell_type": "code",
   "execution_count": null,
   "id": "b82f8ba1",
   "metadata": {},
   "outputs": [],
   "source": [
    "# Time:  O(n)\n",
    "# Space: O(1)\n",
    "\n",
    "import collections\n",
    "\n",
    "\n",
    "class Solution(object):\n",
    "    def judgeCircle(self, moves):\n",
    "        \"\"\"\n",
    "        :type moves: str\n",
    "        :rtype: bool\n",
    "        \"\"\"\n",
    "        count = collections.Counter(moves)\n",
    "        return count['L'] == count['R'] and count['U'] == count['D']\n",
    "\n",
    " \n",
    "# Time:  O(n)\n",
    "# Space: O(1)\n",
    "class Solution(object):\n",
    "    def judgeCircle(self, moves):\n",
    "        \"\"\"\n",
    "        :type moves: str\n",
    "        :rtype: bool\n",
    "        \"\"\"\n",
    "        v, h = 0, 0\n",
    "        for move in moves:\n",
    "            if move == 'U':\n",
    "                v += 1\n",
    "            elif move == 'D':\n",
    "                v -= 1\n",
    "            elif move == 'R':\n",
    "                h += 1\n",
    "            elif move == 'L':\n",
    "                h -= 1\n",
    "        return v == 0 and h == 0"
   ]
  },
  {
   "cell_type": "markdown",
   "id": "e669bf7c",
   "metadata": {},
   "source": [
    "# 0657 Easy 657 Robot Return to Origin"
   ]
  },
  {
   "cell_type": "code",
   "execution_count": null,
   "id": "34669973",
   "metadata": {},
   "outputs": [],
   "source": [
    "class Solution:\n",
    "    def judgeCircle(self, moves):\n",
    "        \"\"\"\n",
    "        :type moves: str\n",
    "        :rtype: bool\n",
    "        \"\"\"\n",
    "        x,y = 0, 0\n",
    "        for char in moves:\n",
    "            if char==\"R\": x+=1\n",
    "            if char==\"L\": x-=1\n",
    "            if char==\"U\": y+=1\n",
    "            if char==\"D\": y-=1\n",
    "        return True if x==0 and y==0 else False\n",
    "        "
   ]
  },
  {
   "cell_type": "markdown",
   "id": "47130ab6",
   "metadata": {},
   "source": [
    "# 0661 Easy 661 Image Smoother"
   ]
  },
  {
   "cell_type": "code",
   "execution_count": null,
   "id": "6568b837",
   "metadata": {},
   "outputs": [],
   "source": [
    "# Time:  O(m * n)\n",
    "# Space: O(1)\n",
    "\n",
    "class Solution(object):\n",
    "    def imageSmoother(self, M):\n",
    "        \"\"\"\n",
    "        :type M: List[List[int]]\n",
    "        :rtype: List[List[int]]\n",
    "        \"\"\"\n",
    "        def getGray(M, i, j):\n",
    "            total, count = 0, 0.0\n",
    "            for r in xrange(-1, 2):\n",
    "                for c in xrange(-1, 2):\n",
    "                    ii, jj = i + r, j + c\n",
    "                    if 0 <= ii < len(M) and 0 <= jj < len(M[0]):\n",
    "                        total += M[ii][jj]\n",
    "                        count += 1.0\n",
    "            return int(total / count)\n",
    "\n",
    "        result = [[0 for _ in xrange(len(M[0]))] for _ in xrange(len(M))]\n",
    "        for i in xrange(len(M)):\n",
    "            for j in xrange(len(M[0])):\n",
    "                result[i][j] = getGray(M, i, j)\n",
    "        return result"
   ]
  },
  {
   "cell_type": "markdown",
   "id": "2917aabb",
   "metadata": {},
   "source": [
    "# 0661 Easy 661 Image Smoother"
   ]
  },
  {
   "cell_type": "code",
   "execution_count": null,
   "id": "d1238a5f",
   "metadata": {},
   "outputs": [],
   "source": [
    "class Solution:\n",
    "    def imageSmoother(self, M: List[List[int]]) -> List[List[int]]:\n",
    "        m, n = len(M), len(M[0])\n",
    "        grid = [[0] * n for _ in range(m)]\n",
    "        for i in range(m):\n",
    "            for j in range(n):\n",
    "                adj = [M[i + x][j + y] for x, y in ((0, 0), (-1, 0), (1, 0), (0, -1), (0, 1), (-1, -1), (-1, 1), (1, 1), (1, -1)) if 0 <= i + x < m and 0 <= j + y < n] \n",
    "                grid[i][j] = sum(adj) // len(adj)\n",
    "        return grid\n",
    "                    \n",
    "        "
   ]
  },
  {
   "cell_type": "markdown",
   "id": "2bcb4c8b",
   "metadata": {},
   "source": [
    "# 0671 Easy 671 Second Minimum Node In a Binary Tree"
   ]
  },
  {
   "cell_type": "code",
   "execution_count": null,
   "id": "505fd37f",
   "metadata": {},
   "outputs": [],
   "source": [
    "# Time:  O(n)\n",
    "# Space: O(h)\n",
    "\n",
    "import heapq\n",
    "\n",
    "\n",
    "class Solution(object):\n",
    "    def findSecondMinimumValue(self, root):\n",
    "        \"\"\"\n",
    "        :type root: TreeNode\n",
    "        :rtype: int\n",
    "        \"\"\"\n",
    "        def findSecondMinimumValueHelper(root, max_heap, lookup):\n",
    "            if not root:\n",
    "                return\n",
    "            if root.val not in lookup:\n",
    "                heapq.heappush(max_heap, -root.val)\n",
    "                lookup.add(root.val)\n",
    "                if len(max_heap) > 2:\n",
    "                    lookup.remove(-heapq.heappop(max_heap))\n",
    "            findSecondMinimumValueHelper(root.left, max_heap, lookup)\n",
    "            findSecondMinimumValueHelper(root.right, max_heap, lookup)\n",
    "\n",
    "        max_heap, lookup = [], set()\n",
    "        findSecondMinimumValueHelper(root, max_heap, lookup)\n",
    "        if len(max_heap) < 2:\n",
    "            return -1\n",
    "        return -max_heap[0]"
   ]
  },
  {
   "cell_type": "markdown",
   "id": "3813744f",
   "metadata": {},
   "source": [
    "# 0671 Easy 671 Second Minimum Node In a Binary Tree"
   ]
  },
  {
   "cell_type": "code",
   "execution_count": null,
   "id": "7e3cdcd0",
   "metadata": {},
   "outputs": [],
   "source": [
    "# Definition for a binary tree node.\n",
    "# class TreeNode(object):\n",
    "#     def __init__(self, x):\n",
    "#         self.val = x\n",
    "#         self.left = None\n",
    "#         self.right = None\n",
    "\n",
    "class Solution(object):\n",
    "    # def findSecondMinimumValue(self, root):\n",
    "    #     \"\"\"\n",
    "    #     :type root: TreeNode\n",
    "    #     :rtype: int\n",
    "    #     \"\"\"\n",
    "    #     # Brute force\n",
    "    #     values = set()\n",
    "    #     self.dfs(root, values)\n",
    "    #     ans, min_value = float('inf'), root.val\n",
    "    #     for n in values:\n",
    "    #         if min_value < n and n < ans:\n",
    "    #             ans = n\n",
    "    #     return ans if ans < float('inf') else -1\n",
    "\n",
    "    # def dfs(self, root, values):\n",
    "    #     if not root:\n",
    "    #         return\n",
    "    #     values.add(root.val)\n",
    "    #     self.dfs(root.left, values)\n",
    "    #     self.dfs(root.right, values)\n",
    "\n",
    "    def findSecondMinimumValue(self, root):\n",
    "        if not root:\n",
    "            return -1\n",
    "        ans = float('inf')\n",
    "        min_val = root.val\n",
    "        stack = [root]\n",
    "        while stack:\n",
    "            curr = stack.pop()\n",
    "            if not curr:\n",
    "                continue\n",
    "            if min_val < curr.val < ans:\n",
    "                ans = curr.val\n",
    "            elif curr.val == min_val:\n",
    "                stack.append(curr.left)\n",
    "                stack.append(curr.right)\n",
    "        return ans if ans < float('inf') else -1"
   ]
  },
  {
   "cell_type": "markdown",
   "id": "2f5af245",
   "metadata": {},
   "source": [
    "# 0671 Easy 671 Second Minimum Node In a Binary Tree"
   ]
  },
  {
   "cell_type": "code",
   "execution_count": null,
   "id": "159039ed",
   "metadata": {},
   "outputs": [],
   "source": [
    "# Definition for a binary tree node.\n",
    "# class TreeNode:\n",
    "#     def __init__(self, x):\n",
    "#         self.val = x\n",
    "#         self.left = None\n",
    "#         self.right = None\n",
    "\n",
    "class Solution:\n",
    "    def findSecondMinimumValue(self, root: TreeNode) -> int:\n",
    "        self.sec = float('inf')\n",
    "        def dfs(node):\n",
    "            if not node: return\n",
    "            dfs(node.left)\n",
    "            dfs(node.right)\n",
    "            if root.val < node.val < self.sec:\n",
    "                self.sec = node.val\n",
    "        dfs(root)\n",
    "        return self.sec if self.sec < float('inf') else -1"
   ]
  },
  {
   "cell_type": "markdown",
   "id": "f92a6451",
   "metadata": {},
   "source": [
    "# 0674 Easy 674 Longest Continuous Increasing Subsequence"
   ]
  },
  {
   "cell_type": "code",
   "execution_count": null,
   "id": "74b30acd",
   "metadata": {},
   "outputs": [],
   "source": [
    "# Time:  O(n)\n",
    "# Space: O(1)\n",
    "\n",
    "class Solution(object):\n",
    "    def findLengthOfLCIS(self, nums):\n",
    "        \"\"\"\n",
    "        :type nums: List[int]\n",
    "        :rtype: int\n",
    "        \"\"\"\n",
    "        result, count = 0, 0\n",
    "        for i in xrange(len(nums)):\n",
    "            if i == 0 or nums[i-1] < nums[i]:\n",
    "                count += 1\n",
    "                result = max(result, count)\n",
    "            else:\n",
    "                count = 1\n",
    "        return result"
   ]
  },
  {
   "cell_type": "markdown",
   "id": "eaa59666",
   "metadata": {},
   "source": [
    "# 0674 Easy 674 Longest Continuous Increasing Subsequence"
   ]
  },
  {
   "cell_type": "code",
   "execution_count": null,
   "id": "44c26d60",
   "metadata": {},
   "outputs": [],
   "source": [
    "class Solution(object):\n",
    "    def findLengthOfLCIS(self, nums):\n",
    "        \"\"\"\n",
    "        :type nums: List[int]\n",
    "        :rtype: int\n",
    "        \"\"\"\n",
    "        if not nums or len(nums) == 0:\n",
    "            return 0\n",
    "        ans = curr = 1\n",
    "        for i in range(len(nums) - 1):\n",
    "            if nums[i] < nums[i + 1]:\n",
    "                curr += 1\n",
    "                ans = max(ans, curr)\n",
    "            else:\n",
    "                curr = 1\n",
    "        return ans"
   ]
  },
  {
   "cell_type": "markdown",
   "id": "532b0fde",
   "metadata": {},
   "source": [
    "# 0674 Easy 674 Longest Continuous Increasing Subsequence"
   ]
  },
  {
   "cell_type": "code",
   "execution_count": null,
   "id": "8f8bbe17",
   "metadata": {},
   "outputs": [],
   "source": [
    "class Solution:\n",
    "    def findLengthOfLCIS(self, nums):\n",
    "        \"\"\"\n",
    "        :type nums: List[int]\n",
    "        :rtype: int\n",
    "        \"\"\"\n",
    "        if nums==[]: return 0\n",
    "        curr, mx=1, 1\n",
    "        for i in range(len(nums)-1):\n",
    "            if nums[i+1]>nums[i]: curr+=1; mx=max(mx,curr)\n",
    "            else: curr=1\n",
    "        return mx"
   ]
  }
 ],
 "metadata": {},
 "nbformat": 4,
 "nbformat_minor": 5
}
