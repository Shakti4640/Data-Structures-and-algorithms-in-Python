{
 "cells": [
  {
   "cell_type": "markdown",
   "id": "675867e4",
   "metadata": {},
   "source": [
    "# 0855 Medium 855 Exam Room"
   ]
  },
  {
   "cell_type": "code",
   "execution_count": null,
   "id": "4272910e",
   "metadata": {},
   "outputs": [],
   "source": [
    "# Time:  seat:  O(logn), amortized\n",
    "#        leave: O(logn)\n",
    "# Space: O(n)\n",
    "\n",
    "import heapq\n",
    "\n",
    "\n",
    "class ExamRoom(object):\n",
    "\n",
    "    def __init__(self, N):\n",
    "        \"\"\"\n",
    "        :type N: int\n",
    "        \"\"\"\n",
    "        self.__num = N\n",
    "        self.__seats = {-1: [-1, self.__num], self.__num: [-1, self.__num]}\n",
    "        self.__max_heap = [(-self.__distance((-1, self.__num)), -1, self.__num)]\n",
    "\n",
    "    def seat(self):\n",
    "        \"\"\"\n",
    "        :rtype: int\n",
    "        \"\"\"\n",
    "        while self.__max_heap[0][1] not in self.__seats or \\\n",
    "              self.__max_heap[0][2] not in self.__seats or \\\n",
    "              self.__seats[self.__max_heap[0][1]][1] != self.__max_heap[0][2] or \\\n",
    "              self.__seats[self.__max_heap[0][2]][0] !=  self.__max_heap[0][1]:\n",
    "            heapq.heappop(self.__max_heap)  # lazy deletion\n",
    "\n",
    "        _, left, right = heapq.heappop(self.__max_heap)\n",
    "        mid = 0 if left == -1 \\\n",
    "              else self.__num-1 if right == self.__num \\\n",
    "              else (left+right) // 2\n",
    "        self.__seats[mid] = [left, right]\n",
    "        heapq.heappush(self.__max_heap, (-self.__distance((left, mid)), left, mid))\n",
    "        heapq.heappush(self.__max_heap, (-self.__distance((mid, right)), mid, right))\n",
    "        self.__seats[left][1] = mid\n",
    "        self.__seats[right][0] = mid\n",
    "        return mid\n",
    "\n",
    "    def leave(self, p):\n",
    "        \"\"\"\n",
    "        :type p: int\n",
    "        :rtype: void\n",
    "        \"\"\"\n",
    "        left, right = self.__seats[p]\n",
    "        self.__seats.pop(p)\n",
    "        self.__seats[left][1] = right\n",
    "        self.__seats[right][0] = left\n",
    "        heapq.heappush(self.__max_heap, (-self.__distance((left, right)), left, right))\n",
    "        \n",
    "    def __distance(self, segment):\n",
    "        return segment[1]-segment[0]-1 if segment[0] == -1 or segment[1] == self.__num \\\n",
    "               else (segment[1]-segment[0]) // 2"
   ]
  },
  {
   "cell_type": "markdown",
   "id": "816e3727",
   "metadata": {},
   "source": [
    "# 0855 Medium 855 Exam Room"
   ]
  },
  {
   "cell_type": "code",
   "execution_count": null,
   "id": "7fe0a72f",
   "metadata": {},
   "outputs": [],
   "source": [
    "class ExamRoom:\n",
    "\n",
    "    def __init__(self, N):\n",
    "        self.seated, self.n = [], N - 1\n",
    "        \n",
    "\n",
    "    def seat(self):\n",
    "        if not self.seated:\n",
    "            self.seated += 0,\n",
    "            return 0\n",
    "        mx = ind = 0\n",
    "        for i in range(1, len(self.seated)):\n",
    "            l, r = self.seated[i - 1], self.seated[i]\n",
    "            if (r - l) // 2 > mx:\n",
    "                mx = (r - l) // 2\n",
    "                ind = l + mx\n",
    "        if self.seated[-1] != self.n and self.n - self.seated[-1] > mx:\n",
    "            mx, ind = self.n - self.seated[-1], self.n\n",
    "        if self.seated[0] >= mx:\n",
    "            mx, ind = self.seated[0], 0\n",
    "        self.seated.append(ind)\n",
    "        self.seated.sort()\n",
    "        return ind\n",
    "        \n",
    "        \n",
    "    def leave(self, p):\n",
    "        self.seated.remove(p)"
   ]
  },
  {
   "cell_type": "markdown",
   "id": "d083a357",
   "metadata": {},
   "source": [
    "# 0856 Medium 856 Score of Parentheses"
   ]
  },
  {
   "cell_type": "code",
   "execution_count": null,
   "id": "5a5b99b7",
   "metadata": {},
   "outputs": [],
   "source": [
    "\"\"\"\n",
    "We parse the content in the parentheses and evaluate it.\n",
    "If the content is empty string then the value is 1.\n",
    "Otherwise, the value is the value of the content multiply by 2\n",
    "And we use the exact the same function to evaluate the value of the content (recursion).\n",
    "We can know the start and the end of the parentheses (so we can extract the content) by `depth`, which is the level of parentheses.\n",
    "\n",
    "Even though this looks efficient the time complexity is high. O(N^depth).\n",
    "You can think of a case like this\n",
    "```\n",
    "(((((((((( ... content ... ))))))))))\n",
    "```\n",
    "Where in every level you have to go through the whole thing again.\n",
    "\n",
    "The Space complexity is O(depth).\n",
    "Even we only use O(1) in each function, but the recursion takes stack memory of O(depth).\n",
    "\"\"\"\n",
    "class Solution(object):\n",
    "    def scoreOfParentheses(self, S):\n",
    "        depth = 0\n",
    "        start = 0\n",
    "        score = 0\n",
    "        for i, s in enumerate(S):\n",
    "            if s=='(': depth+=1\n",
    "            if s==')': depth-=1\n",
    "            if depth==0:\n",
    "                content = S[start+1:i]\n",
    "                if content == '':\n",
    "                    score+=1\n",
    "                else:\n",
    "                    score+=self.scoreOfParentheses(content)*2\n",
    "                start = i+1\n",
    "        return score\n",
    "\n",
    "\"\"\"\n",
    "If we take a closer look, we will notice that `()` are the only structure that provides value, the outer parentheses just add some multiplier.\n",
    "So we only need to be concerned with `depth`.\n",
    "For level we multiply the inner content by 2, so for each `()`, its value is `1 * 2**depth`\n",
    "\n",
    "The time complexity is O(N).\n",
    "The space complexity is O(1).\n",
    "\"\"\"\n",
    "class Solution(object):\n",
    "    def scoreOfParentheses(self, S):\n",
    "        score = 0\n",
    "        depth = 0\n",
    "\n",
    "        for i, s in enumerate(S):\n",
    "            if s=='(':\n",
    "                depth+=1\n",
    "            else:\n",
    "                depth-=1\n",
    "                if S[i-1]=='(':\n",
    "                    score+=2**depth\n",
    "        return score"
   ]
  },
  {
   "cell_type": "markdown",
   "id": "68b36085",
   "metadata": {},
   "source": [
    "# 0856 Medium 856 Score of Parentheses"
   ]
  },
  {
   "cell_type": "code",
   "execution_count": null,
   "id": "8b572214",
   "metadata": {},
   "outputs": [],
   "source": [
    "class Solution:\n",
    "    def scoreOfParentheses(self, S):\n",
    "        stack, res = [], 0\n",
    "        for c in S:\n",
    "            if c == \"(\":\n",
    "                stack.append(0)\n",
    "            else:\n",
    "                add = 2 * stack.pop() or 1\n",
    "                if stack:\n",
    "                    stack[-1] += add\n",
    "                else:\n",
    "                    res += add\n",
    "        return res"
   ]
  },
  {
   "cell_type": "markdown",
   "id": "42a1e7e6",
   "metadata": {},
   "source": [
    "# 0858 Medium 858 Mirror Reflection"
   ]
  },
  {
   "cell_type": "code",
   "execution_count": null,
   "id": "0df6b2dc",
   "metadata": {},
   "outputs": [],
   "source": [
    "# Time:  O(1)\n",
    "# Space: O(1)\n",
    "\n",
    "class Solution(object):\n",
    "    def mirrorReflection(self, p, q):\n",
    "        \"\"\"\n",
    "        :type p: int\n",
    "        :type q: int\n",
    "        :rtype: int\n",
    "        \"\"\"\n",
    "        # explanation commented in the following solution\n",
    "        return 2 if (p & -p) > (q & -q) else 0 if (p & -p) < (q & -q) else 1\n",
    "\n",
    "\n",
    "# Time:  O(log(max(p, q))) = O(1) due to 32-bit integer\n",
    "# Space: O(1)\n",
    "class Solution2(object):\n",
    "    def mirrorReflection(self, p, q):\n",
    "        \"\"\"\n",
    "        :type p: int\n",
    "        :type q: int\n",
    "        :rtype: int\n",
    "        \"\"\"\n",
    "        def gcd(a, b):\n",
    "            while b:\n",
    "                a, b = b, a % b\n",
    "            return a\n",
    "\n",
    "        lcm = p*q // gcd(p, q)\n",
    "        # let a = lcm / p, b = lcm / q\n",
    "        if lcm // p % 2 == 1:\n",
    "            if lcm // q % 2 == 1:\n",
    "                return 1  # a is odd, b is odd <=> (p & -p) == (q & -q)\n",
    "            return 2  # a is odd, b is even <=> (p & -p) > (q & -q)\n",
    "        return 0  # a is even, b is odd <=> (p & -p) < (q & -q)"
   ]
  },
  {
   "cell_type": "markdown",
   "id": "ad44afd2",
   "metadata": {},
   "source": [
    "# 0858 Medium 858 Mirror Reflection"
   ]
  },
  {
   "cell_type": "code",
   "execution_count": null,
   "id": "fc103c25",
   "metadata": {},
   "outputs": [],
   "source": [
    "class Solution:\n",
    "    def mirrorReflection(self, p, q):\n",
    "        side, up, h = 2, 1, 0\n",
    "        while True:\n",
    "            h += q * up\n",
    "            side = (side + 1) % 2\n",
    "            if side == 0:\n",
    "                side += 2\n",
    "            if h < 0:\n",
    "                h *= -1\n",
    "                up *= -1\n",
    "            elif h > p:\n",
    "                h = p - (h - p)\n",
    "                up *= -1\n",
    "            if h % p == 0:\n",
    "                return h and side or 0"
   ]
  },
  {
   "cell_type": "markdown",
   "id": "68e55798",
   "metadata": {},
   "source": [
    "# 0861 Medium 861 Score After Flipping Matrix"
   ]
  },
  {
   "cell_type": "code",
   "execution_count": null,
   "id": "e56d7fce",
   "metadata": {},
   "outputs": [],
   "source": [
    "# Time:  O(r * c)\n",
    "# Space: O(1)\n",
    "\n",
    "\n",
    "class Solution(object):\n",
    "    def matrixScore(self, A):\n",
    "        \"\"\"\n",
    "        :type A: List[List[int]]\n",
    "        :rtype: int\n",
    "        \"\"\"\n",
    "        R, C = len(A), len(A[0])\n",
    "        result = 0\n",
    "        for c in xrange(C):\n",
    "            col = 0\n",
    "            for r in xrange(R):\n",
    "                col += A[r][c] ^ A[r][0]\n",
    "            result += max(col, R-col) * 2**(C-1-c)\n",
    "        return result"
   ]
  },
  {
   "cell_type": "markdown",
   "id": "33f82dbe",
   "metadata": {},
   "source": [
    "# 0861 Medium 861 Score After Flipping Matrix"
   ]
  },
  {
   "cell_type": "code",
   "execution_count": null,
   "id": "e4ca671d",
   "metadata": {},
   "outputs": [],
   "source": [
    "class Solution:\n",
    "    def matrixScore(self, A):\n",
    "        for i, row in enumerate(A):\n",
    "            if not row[0]:\n",
    "                A[i] = [1 - num for num in row]\n",
    "        m, n, sm = len(A), len(A and A[0]), 0\n",
    "        for c in range(n):\n",
    "            cnt = sum(A[r][c] for r in range(m))\n",
    "            sm += max(cnt, m - cnt) * 2 ** (n - c - 1)\n",
    "        return sm"
   ]
  },
  {
   "cell_type": "markdown",
   "id": "8e8e47bc",
   "metadata": {},
   "source": [
    "# 0863 Medium 863 All Nodes Distance K in Binary Tree"
   ]
  },
  {
   "cell_type": "code",
   "execution_count": null,
   "id": "222d445b",
   "metadata": {},
   "outputs": [],
   "source": [
    "class Solution(object):\n",
    "    def distanceK(self, root, target, k):\n",
    "        graph = collections.defaultdict(list)\n",
    "        q = collections.deque([root]) #for traverse binary tree\n",
    "        q2 = collections.deque([(target, k)]) #for bfs the graph\n",
    "        visited = set() #for bfs the graph\n",
    "        ans = []\n",
    "        \n",
    "        #build graph\n",
    "        while q:\n",
    "            node = q.popleft()\n",
    "            \n",
    "            if node.left:\n",
    "                graph[node].append(node.left)\n",
    "                graph[node.left].append(node)\n",
    "                q.append(node.left)\n",
    "            \n",
    "            if node.right:\n",
    "                graph[node].append(node.right)\n",
    "                graph[node.right].append(node)\n",
    "                q.append(node.right)\n",
    "        \n",
    "        \n",
    "        #bfs graph\n",
    "        while q2:\n",
    "            node, distance = q2.popleft()\n",
    "            if node.val in visited: continue\n",
    "            visited.add(node.val)\n",
    "            if distance==0: ans.append(node.val)\n",
    "            if distance<0 or distance>k: continue\n",
    "            \n",
    "            for nei in graph[node]:\n",
    "                q2.append((nei, distance-1))\n",
    "        \n",
    "        return ans\n",
    "            \n",
    "            \n",
    "            \n",
    "            \n",
    "        "
   ]
  },
  {
   "cell_type": "markdown",
   "id": "7294e402",
   "metadata": {},
   "source": [
    "# 0863 Medium 863 All Nodes Distance K in Binary Tree"
   ]
  },
  {
   "cell_type": "code",
   "execution_count": null,
   "id": "2a363a50",
   "metadata": {},
   "outputs": [],
   "source": [
    "class Solution:\n",
    "    def distanceK(self, root, target, K):\n",
    "        adj, res, visited = collections.defaultdict(list), [], collections.defaultdict(int)\n",
    "        def dfs(node):\n",
    "            if node.left:\n",
    "                adj[node].append(node.left)\n",
    "                adj[node.left].append(node)\n",
    "                dfs(node.left)\n",
    "            if node.right:\n",
    "                adj[node].append(node.right)\n",
    "                adj[node.right].append(node)\n",
    "                dfs(node.right)\n",
    "        dfs(root)\n",
    "        def dfs2(node, d):\n",
    "            if d < K:\n",
    "                visited[node] = 1\n",
    "                for v in adj[node]:\n",
    "                    if not visited[v]:\n",
    "                        dfs2(v, d + 1)\n",
    "                visited[node] = 0\n",
    "            else:\n",
    "                res.append(node.val)\n",
    "        dfs2(target, 0)\n",
    "        return res"
   ]
  },
  {
   "cell_type": "markdown",
   "id": "3ea11673",
   "metadata": {},
   "source": [
    "# 0865 Medium 865 Smallest Subtree with all the Deepest Nodes"
   ]
  },
  {
   "cell_type": "code",
   "execution_count": null,
   "id": "8a47a43d",
   "metadata": {},
   "outputs": [],
   "source": [
    "# Time:  O(n)\n",
    "# Space: O(h)\n",
    "\n",
    "import collections\n",
    "\n",
    "\n",
    "class Solution(object):\n",
    "    def subtreeWithAllDeepest(self, root):\n",
    "        \"\"\"\n",
    "        :type root: TreeNode\n",
    "        :rtype: TreeNode\n",
    "        \"\"\"\n",
    "        Result = collections.namedtuple(\"Result\", (\"node\", \"depth\"))\n",
    "\n",
    "        def dfs(node):\n",
    "            if not node:\n",
    "                return Result(None, 0)\n",
    "            left, right = dfs(node.left), dfs(node.right)\n",
    "            if left.depth > right.depth:\n",
    "                return Result(left.node, left.depth+1)\n",
    "            if left.depth < right.depth:\n",
    "                return Result(right.node, right.depth+1)\n",
    "            return Result(node, left.depth+1)\n",
    "\n",
    "        return dfs(root).node"
   ]
  },
  {
   "cell_type": "markdown",
   "id": "4fb23e4b",
   "metadata": {},
   "source": [
    "# 0865 Medium 865 Smallest Subtree with all the Deepest Nodes"
   ]
  },
  {
   "cell_type": "code",
   "execution_count": null,
   "id": "5763cd23",
   "metadata": {},
   "outputs": [],
   "source": [
    "# Definition for a binary tree node.\n",
    "# class TreeNode:\n",
    "#     def __init__(self, x):\n",
    "#         self.val = x\n",
    "#         self.left = None\n",
    "#         self.right = None\n",
    "\n",
    "class Solution:\n",
    "    def subtreeWithAllDeepest(self, root: TreeNode) -> TreeNode:\n",
    "        self.l = 0\n",
    "        self.nodes = set()\n",
    "        self.res = 0\n",
    "        def dfs(node, l):\n",
    "            if node:\n",
    "                if l > self.l:\n",
    "                    self.nodes = {node.val}\n",
    "                    self.l = l\n",
    "                elif l == self.l:\n",
    "                    self.nodes.add(node.val)\n",
    "                dfs(node.left, l + 1)\n",
    "                dfs(node.right, l + 1)\n",
    "        def dfs2(node):\n",
    "            if not node: return set()\n",
    "            l = dfs2(node.left)\n",
    "            r = dfs2(node.right)\n",
    "            total = l | r | {node.val}\n",
    "            if total & self.nodes == self.nodes:\n",
    "                self.res = node\n",
    "                return set()\n",
    "            return total\n",
    "        dfs(root, 0)\n",
    "        dfs2(root)\n",
    "        return self.res"
   ]
  },
  {
   "cell_type": "markdown",
   "id": "3b05d577",
   "metadata": {},
   "source": [
    "# 0866 Medium 866 Prime Palindrome"
   ]
  },
  {
   "cell_type": "code",
   "execution_count": null,
   "id": "0d4793e7",
   "metadata": {},
   "outputs": [],
   "source": [
    "# Time:  O(n^(1/2) * (logn + n^(1/2)))\n",
    "# Space: O(logn)\n",
    "\n",
    "\n",
    "class Solution(object):\n",
    "    def primePalindrome(self, N):\n",
    "        \"\"\"\n",
    "        :type N: int\n",
    "        :rtype: int\n",
    "        \"\"\"\n",
    "        def is_prime(n):\n",
    "            if n < 2 or n % 2 == 0:\n",
    "                return n == 2\n",
    "            return all(n % d for d in xrange(3, int(n**.5) + 1, 2))\n",
    "\n",
    "        if 8 <= N <= 11:\n",
    "            return 11\n",
    "        for i in xrange(10**(len(str(N))//2), 10**5):\n",
    "            j = int(str(i) + str(i)[-2::-1])\n",
    "            if j >= N and is_prime(j):\n",
    "                return j"
   ]
  },
  {
   "cell_type": "markdown",
   "id": "9c69f528",
   "metadata": {},
   "source": [
    "# 0866 Medium 866 Prime Palindrome"
   ]
  },
  {
   "cell_type": "code",
   "execution_count": null,
   "id": "761148a5",
   "metadata": {},
   "outputs": [],
   "source": [
    "class Solution:\n",
    "    def primePalindrome(self, N):\n",
    "        def isPrime(x):\n",
    "            if x < 2 or x % 2 == 0: return x == 2\n",
    "            for i in range(3, int(x**0.5) + 1, 2):\n",
    "                if x % i == 0: return False\n",
    "            return True\n",
    "        if 8 <= N <= 11: return 11\n",
    "        for x in range(10 ** (len(str(N)) // 2), 10**5):\n",
    "            y = int(str(x) + str(x)[-2::-1])\n",
    "            if y >= N and isPrime(y): return y"
   ]
  },
  {
   "cell_type": "markdown",
   "id": "6ac2b00d",
   "metadata": {},
   "source": [
    "# 0869 Medium 869 Reordered Power of 2"
   ]
  },
  {
   "cell_type": "code",
   "execution_count": null,
   "id": "5654a9d3",
   "metadata": {},
   "outputs": [],
   "source": [
    "# Time:  O((logn)^2) = O(1) due to n is a 32-bit number\n",
    "# Space: O(logn) = O(1)\n",
    "\n",
    "import collections\n",
    "\n",
    "\n",
    "class Solution(object):\n",
    "    def reorderedPowerOf2(self, N):\n",
    "        \"\"\"\n",
    "        :type N: int\n",
    "        :rtype: bool\n",
    "        \"\"\"\n",
    "        count = collections.Counter(str(N))\n",
    "        return any(count == collections.Counter(str(1 << i))\n",
    "                   for i in xrange(31))"
   ]
  },
  {
   "cell_type": "markdown",
   "id": "dc9d1df8",
   "metadata": {},
   "source": [
    "# 0869 Medium 869 Reordered Power of 2"
   ]
  },
  {
   "cell_type": "code",
   "execution_count": null,
   "id": "d73758ea",
   "metadata": {},
   "outputs": [],
   "source": [
    "class Solution:\n",
    "    def reorderedPowerOf2(self, N):\n",
    "        cnt = collections.Counter(str(N))\n",
    "        return any(cnt == collections.Counter(str(1 << c)) for c in range(32))"
   ]
  },
  {
   "cell_type": "markdown",
   "id": "24be13d1",
   "metadata": {},
   "source": [
    "# 0870 Medium 870 Advantage Shuffle"
   ]
  },
  {
   "cell_type": "code",
   "execution_count": null,
   "id": "6f13b670",
   "metadata": {},
   "outputs": [],
   "source": [
    "# Time:  O(nlogn)\n",
    "# Space: O(n)\n",
    "\n",
    "class Solution(object):\n",
    "    def advantageCount(self, A, B):\n",
    "        \"\"\"\n",
    "        :type A: List[int]\n",
    "        :type B: List[int]\n",
    "        :rtype: List[int]\n",
    "        \"\"\"\n",
    "        sortedA = sorted(A)\n",
    "        sortedB = sorted(B)\n",
    "\n",
    "        candidates = {b: [] for b in B}\n",
    "        others = []\n",
    "        j = 0\n",
    "        for a in sortedA:\n",
    "            if a > sortedB[j]:\n",
    "                candidates[sortedB[j]].append(a)\n",
    "                j += 1\n",
    "            else:\n",
    "                others.append(a)\n",
    "        return [candidates[b].pop() if candidates[b] else others.pop()\n",
    "                for b in B]"
   ]
  },
  {
   "cell_type": "markdown",
   "id": "bd34480f",
   "metadata": {},
   "source": [
    "# 0870 Medium 870 Advantage Shuffle"
   ]
  },
  {
   "cell_type": "code",
   "execution_count": null,
   "id": "9b37c768",
   "metadata": {},
   "outputs": [],
   "source": [
    "class Solution:\n",
    "    def advantageCount(self, A: List[int], B: List[int]) -> List[int]:\n",
    "        A.sort(reverse = True)\n",
    "        non = []\n",
    "        res = [-1] * len(A)\n",
    "        for b, i in sorted([(b, i) for i, b in enumerate(B)]):\n",
    "            while A and A[-1] <= b:\n",
    "                non.append(A.pop())\n",
    "            if A:\n",
    "                res[i] = A.pop()\n",
    "            else:\n",
    "                break\n",
    "        for i in range(len(res)):\n",
    "            if res[i] == -1:\n",
    "                res[i] = non.pop()\n",
    "        return res "
   ]
  },
  {
   "cell_type": "markdown",
   "id": "4f87ecb8",
   "metadata": {},
   "source": [
    "# 0873 Medium 873 Length of Longest Fibonacci Subsequence"
   ]
  },
  {
   "cell_type": "code",
   "execution_count": null,
   "id": "d7d35950",
   "metadata": {},
   "outputs": [],
   "source": [
    "# Time:  O(n^2)\n",
    "# Space: O(n)\n",
    "\n",
    "class Solution(object):\n",
    "    def lenLongestFibSubseq(self, A):\n",
    "        \"\"\"\n",
    "        :type A: List[int]\n",
    "        :rtype: int\n",
    "        \"\"\"\n",
    "        lookup = set(A)\n",
    "        result = 2\n",
    "        for i in xrange(len(A)):\n",
    "            for j in xrange(i+1, len(A)):\n",
    "                x, y, l = A[i], A[j], 2\n",
    "                while x+y in lookup:\n",
    "                    x, y, l = y, x+y, l+1\n",
    "                result = max(result, l)\n",
    "        return result if result > 2 else 0"
   ]
  },
  {
   "cell_type": "markdown",
   "id": "9bec9791",
   "metadata": {},
   "source": [
    "# 0873 Medium 873 Length of Longest Fibonacci Subsequence"
   ]
  },
  {
   "cell_type": "code",
   "execution_count": null,
   "id": "928b05b8",
   "metadata": {},
   "outputs": [],
   "source": [
    "class Solution:\n",
    "    def lenLongestFibSubseq(self, A):\n",
    "        n, pair, res, back = len(A), {}, 0, set()\n",
    "        for i in range(n):\n",
    "            back.add(A[i])\n",
    "            j = i + 1\n",
    "            mx = 2 * A[i]\n",
    "            while j < n and A[j] < mx:\n",
    "                if (A[j] - A[i], A[i]) in pair:\n",
    "                    pair[(A[i], A[j])] = pair[(A[j] - A[i], A[i])] + 1\n",
    "                else:\n",
    "                    pair[(A[i], A[j])] = A[j] - A[i] in back and 3 or 2\n",
    "                res = max(res, pair[(A[i], A[j])])\n",
    "                j += 1\n",
    "        return res > 2 and res or 0"
   ]
  },
  {
   "cell_type": "markdown",
   "id": "66ef229b",
   "metadata": {},
   "source": [
    "# 0874 Medium 874 Walking Robot Simulation"
   ]
  },
  {
   "cell_type": "code",
   "execution_count": null,
   "id": "a2b7d649",
   "metadata": {},
   "outputs": [],
   "source": [
    "# Time:  O(n + k)\n",
    "# Space: O(k)\n",
    "\n",
    "class Solution(object):\n",
    "    def robotSim(self, commands, obstacles):\n",
    "        \"\"\"\n",
    "        :type commands: List[int]\n",
    "        :type obstacles: List[List[int]]\n",
    "        :rtype: int\n",
    "        \"\"\"\n",
    "        directions = [(0, 1), (1, 0), (0, -1), (-1, 0)]\n",
    "        x, y, i = 0, 0, 0\n",
    "        lookup = set(map(tuple, obstacles))\n",
    "        result = 0\n",
    "        for cmd in commands:\n",
    "            if cmd == -2:\n",
    "                i = (i-1) % 4\n",
    "            elif cmd == -1:\n",
    "                i = (i+1) % 4\n",
    "            else:\n",
    "                for k in xrange(cmd):\n",
    "                    if (x+directions[i][0], y+directions[i][1]) not in lookup:\n",
    "                        x += directions[i][0]\n",
    "                        y += directions[i][1]\n",
    "                        result = max(result, x*x + y*y)\n",
    "        return result"
   ]
  },
  {
   "cell_type": "markdown",
   "id": "63acf7b6",
   "metadata": {},
   "source": [
    "# 0874 Medium 874 Walking Robot Simulation"
   ]
  },
  {
   "cell_type": "code",
   "execution_count": null,
   "id": "79b249a6",
   "metadata": {},
   "outputs": [],
   "source": [
    "class Solution:\n",
    "    def robotSim(self, commands, obstacles):\n",
    "        i = j = mx = 0\n",
    "        d, move, obstacles = 3, [(-1, 0), (0, -1), (1, 0), (0, 1)], set(map(tuple, obstacles))\n",
    "        for command in commands:\n",
    "            if command == -2: d = (d + 1) % 4\n",
    "            elif command == -1: d = (d - 1) % 4\n",
    "            else:\n",
    "                x, y = move[d]\n",
    "                while command and (i + x, j + y) not in obstacles:\n",
    "                    i += x\n",
    "                    j += y\n",
    "                    command -= 1\n",
    "            mx = max(mx, i ** 2 + j ** 2)\n",
    "        return mx"
   ]
  },
  {
   "cell_type": "markdown",
   "id": "a49870e2",
   "metadata": {},
   "source": [
    "# 0875 Medium 875 Koko Eating Bananas"
   ]
  },
  {
   "cell_type": "code",
   "execution_count": null,
   "id": "8581d5de",
   "metadata": {},
   "outputs": [],
   "source": [
    "\"\"\"\n",
    "`l` is the minimum possible ans.\n",
    "`h` is the lowest value that we are sure that koko is able to finish all.\n",
    "Since koko have to rest for the entire K even if he finish that pile already.\n",
    "The H cannot be lowwer than `len(piles)`.\n",
    "So we are sure that koko is able to finish all the piles in `max(piles)` of speed.\n",
    "\n",
    "Now, we need to make logical guess between `l` and `h` by binary search.\n",
    "If `m` (`(l+h)/2`) is able to finish all the piles in `H`, we lowwer the `h` to `m`.\n",
    "If `m` is not able to finish, we raise the `l` to `m+1`.\n",
    "We keep on adjust `l` and `r` until `l` is equal to `r`.\n",
    "\"\"\"\n",
    "class Solution(object):\n",
    "    def minEatingSpeed(self, piles, H):\n",
    "        def canEatAll(time):\n",
    "            return sum((p+time-1)/time for p in piles) <= H\n",
    "            # time_required = 0\n",
    "            # for count in piles:\n",
    "            #     time_required += math.ceil(count/float(time))\n",
    "            # return time_required<=H\n",
    "\n",
    "        l = 1\n",
    "        h = max(piles)\n",
    "\n",
    "        while l<h:\n",
    "            m = (l+h)/2\n",
    "            if canEatAll(m):\n",
    "                h = m\n",
    "            else:\n",
    "                l = m+1\n",
    "        return l\n",
    "\n",
    "\n",
    "#2020/7/23\n",
    "class Solution(object):\n",
    "    def minEatingSpeed(self, piles, H):\n",
    "        if not piles: return 0\n",
    "        \n",
    "        l = 1\n",
    "        r = max(piles) #[0]\n",
    "        \n",
    "        while l<r:\n",
    "            K = (l+r)/2 #[1]\n",
    "            \n",
    "            #time Koko needs to eat all bananas\n",
    "            t = sum([-(-banana_count//K) for banana_count in piles]) #-(-a//b) means ceil(a/b)\n",
    "            \n",
    "            if t>H:\n",
    "                #K cannot be the answer.\n",
    "                #next round we don't need to put K in l~r.\n",
    "                l = K+1\n",
    "            else:\n",
    "                #K might ot might not be the answer.\n",
    "                #next round we still need to put K in l~r.\n",
    "                r = K\n",
    "\n",
    "        return l #[2]\n",
    "\n",
    "\"\"\"\n",
    "This is a binary search problem.\n",
    "If you do not understand binary search yet, please study it first.\n",
    "\n",
    "[0]\n",
    "Lets define the possible range, `l` and `r`, of our answer, the minimum integer `K` such that Koko can eat all the bananas within `H` hours.\n",
    "The best scenario is that Koko can eat the whole pile at once.\n",
    "So `K` must be between 1 ~ `max(piles)`. `l = 1`, `r = max(piles)`.\n",
    "\n",
    "[1]\n",
    "For every iteration, we try a `K` and adjust `l` and `r`.\n",
    "Note that, even if `t<=H`, we still need to see if there are any smaller `K`.\n",
    "\n",
    "[2]\n",
    "So the boundary of our answer, `l` and `r`, will collides together (`l==r`) and jump out of the loop.\n",
    "\n",
    "Time complexity: `O(NlogN)`. There will be `O(LogN)` iteration. For every iteration we need O(N) to calculate the `t`. `N` is the length of `piles`.\n",
    "Space complexity is O(N). For calculating `t`.\n",
    "\"\"\""
   ]
  },
  {
   "cell_type": "markdown",
   "id": "353b6f30",
   "metadata": {},
   "source": [
    "# 0875 Medium 875 Koko Eating Bananas"
   ]
  },
  {
   "cell_type": "code",
   "execution_count": null,
   "id": "67a05909",
   "metadata": {},
   "outputs": [],
   "source": [
    "class Solution:\n",
    "    def minEatingSpeed(self, piles, H):\n",
    "        piles.sort()\n",
    "        l, r = 1, max(piles)\n",
    "        while l <= r:\n",
    "            mid = (l + r) // 2\n",
    "            h = sum(math.ceil(p / mid) for p in piles)\n",
    "            if h > H:\n",
    "                l = mid + 1\n",
    "            elif h < H:\n",
    "                r = mid - 1\n",
    "            else:\n",
    "                return mid\n",
    "        return l"
   ]
  },
  {
   "cell_type": "markdown",
   "id": "3b1946eb",
   "metadata": {},
   "source": [
    "# 0877 Medium 877 Stone Game"
   ]
  },
  {
   "cell_type": "code",
   "execution_count": null,
   "id": "0742ba23",
   "metadata": {},
   "outputs": [],
   "source": [
    "# Time:  O(n^2)\n",
    "# Space: O(n)\n",
    "\n",
    "class Solution(object):\n",
    "    def stoneGame(self, piles):\n",
    "        \"\"\"\n",
    "        :type piles: List[int]\n",
    "        :rtype: bool\n",
    "        \"\"\"\n",
    "        if len(piles) % 2 == 0 or len(piles) == 1:\n",
    "            return True\n",
    "\n",
    "        dp = [0] * len(piles)\n",
    "        for i in reversed(xrange(len(piles))):\n",
    "            dp[i] = piles[i]\n",
    "            for j in xrange(i+1, len(piles)):\n",
    "                dp[j] = max(piles[i] - dp[j], piles[j] - dp[j - 1])\n",
    "        return dp[-1] >= 0"
   ]
  },
  {
   "cell_type": "markdown",
   "id": "33f653ac",
   "metadata": {},
   "source": [
    "# 0877 Medium 877 Stone Game"
   ]
  },
  {
   "cell_type": "code",
   "execution_count": null,
   "id": "d6228df8",
   "metadata": {},
   "outputs": [],
   "source": [
    "class Solution:\n",
    "    def stoneGame(self, piles): return True"
   ]
  },
  {
   "cell_type": "markdown",
   "id": "c7e4ced1",
   "metadata": {},
   "source": [
    "# 0880 Medium 880 Decoded String at Index"
   ]
  },
  {
   "cell_type": "code",
   "execution_count": null,
   "id": "154a1bb6",
   "metadata": {},
   "outputs": [],
   "source": [
    "# Time:  O(n)\n",
    "# Space: O(1)\n",
    "\n",
    "class Solution(object):\n",
    "    def decodeAtIndex(self, S, K):\n",
    "        \"\"\"\n",
    "        :type S: str\n",
    "        :type K: int\n",
    "        :rtype: str\n",
    "        \"\"\"\n",
    "        i = 0\n",
    "        for c in S:\n",
    "            if c.isdigit():\n",
    "                i *= int(c)\n",
    "            else:\n",
    "                i += 1\n",
    "\n",
    "        for c in reversed(S):\n",
    "            K %= i\n",
    "            if K == 0 and c.isalpha():\n",
    "                return c\n",
    "\n",
    "            if c.isdigit():\n",
    "                i /= int(c)\n",
    "            else:\n",
    "                i -= 1"
   ]
  },
  {
   "cell_type": "markdown",
   "id": "1ba23423",
   "metadata": {},
   "source": [
    "# 0880 Medium 880 Decoded String at Index"
   ]
  },
  {
   "cell_type": "code",
   "execution_count": null,
   "id": "4fbe7393",
   "metadata": {},
   "outputs": [],
   "source": [
    "class Solution:\n",
    "    def decodeAtIndex(self, S, K):\n",
    "        stack, l = [], 0\n",
    "        for c in S:\n",
    "            l = l + 1 if c.isalpha() else l * int(c)\n",
    "            stack += c,\n",
    "            while l >= K:\n",
    "                while stack[-1].isdigit(): l //= int(stack.pop())\n",
    "                K = K % l\n",
    "                if not K: return stack[-1]\n",
    "                l -= 1\n",
    "                stack.pop()"
   ]
  },
  {
   "cell_type": "markdown",
   "id": "90e68ba6",
   "metadata": {},
   "source": [
    "# 0881 Medium 881 Boats to Save People"
   ]
  },
  {
   "cell_type": "code",
   "execution_count": null,
   "id": "ae669464",
   "metadata": {},
   "outputs": [],
   "source": [
    "# Time:  O(nlogn)\n",
    "# Space: O(n)\n",
    "\n",
    "class Solution(object):\n",
    "    def numRescueBoats(self, people, limit):\n",
    "        \"\"\"\n",
    "        :type people: List[int]\n",
    "        :type limit: int\n",
    "        :rtype: int\n",
    "        \"\"\"\n",
    "        people.sort()\n",
    "        result = 0\n",
    "        left, right = 0, len(people)-1\n",
    "        while left <= right:\n",
    "            result += 1\n",
    "            if people[left] + people[right] <= limit:\n",
    "                left += 1\n",
    "            right -= 1\n",
    "        return result"
   ]
  },
  {
   "cell_type": "markdown",
   "id": "fbc95af8",
   "metadata": {},
   "source": [
    "# 0881 Medium 881 Boats to Save People"
   ]
  },
  {
   "cell_type": "code",
   "execution_count": null,
   "id": "937a89d4",
   "metadata": {},
   "outputs": [],
   "source": [
    "class Solution:\n",
    "    def numRescueBoats(self, people, limit):\n",
    "        \"\"\"\n",
    "        :type people: List[int]\n",
    "        :type limit: int\n",
    "        :rtype: int\n",
    "        \"\"\"\n",
    "        people.sort()\n",
    "        l, r, cnt = 0, len(people) - 1, 0\n",
    "        while l <= r:\n",
    "            if l != r and people[l] + people[r] > limit: l -= 1\n",
    "            l += 1\n",
    "            r -= 1\n",
    "            cnt += 1\n",
    "        return cnt"
   ]
  },
  {
   "cell_type": "markdown",
   "id": "b6192c0a",
   "metadata": {},
   "source": [
    "# 0885 Medium 885 Spiral Matrix III"
   ]
  },
  {
   "cell_type": "code",
   "execution_count": null,
   "id": "0afe5bf4",
   "metadata": {},
   "outputs": [],
   "source": [
    "# Time:  O(max(m, n)^2)\n",
    "# Space: O(1)\n",
    "\n",
    "class Solution(object):\n",
    "    def spiralMatrixIII(self, R, C, r0, c0):\n",
    "        \"\"\"\n",
    "        :type R: int\n",
    "        :type C: int\n",
    "        :type r0: int\n",
    "        :type c0: int\n",
    "        :rtype: List[List[int]]\n",
    "        \"\"\"\n",
    "        r, c = r0, c0\n",
    "        result = [[r, c]]\n",
    "        x, y, n, i = 0, 1, 0, 0\n",
    "        while len(result) < R*C:\n",
    "            r, c, i = r+x, c+y, i+1\n",
    "            if 0 <= r < R and 0 <= c < C:\n",
    "                result.append([r, c])\n",
    "            if i == n//2+1:\n",
    "                x, y, n, i = y, -x, n+1, 0\n",
    "        return result"
   ]
  },
  {
   "cell_type": "markdown",
   "id": "f9e0e62b",
   "metadata": {},
   "source": [
    "# 0885 Medium 885 Spiral Matrix III"
   ]
  },
  {
   "cell_type": "code",
   "execution_count": null,
   "id": "ba6a0cd1",
   "metadata": {},
   "outputs": [],
   "source": [
    "class Solution:\n",
    "    def spiralMatrixIII(self, R, C, r0, c0):\n",
    "        direct, res, n, l, ind = [(-1, 0), (0, 1), (1, 0), (0, -1)], [[r0, c0]], R * C, 1, 1\n",
    "        while len(res) < n:\n",
    "            for __ in range(2):\n",
    "                for _ in range(l):\n",
    "                    r0 += direct[ind][0]\n",
    "                    c0 += direct[ind][1]\n",
    "                    if 0 <= r0 < R and 0 <= c0 < C:\n",
    "                        res.append([r0, c0])\n",
    "                ind = (ind + 1) % 4\n",
    "            l += 1\n",
    "        return res"
   ]
  },
  {
   "cell_type": "markdown",
   "id": "7d5d7181",
   "metadata": {},
   "source": [
    "# 0886 Medium 886 Possible Bipartition"
   ]
  },
  {
   "cell_type": "code",
   "execution_count": null,
   "id": "4e29f7b2",
   "metadata": {},
   "outputs": [],
   "source": [
    "# Time:  O(|V| + |E|)\n",
    "# Space: O(|V| + |E|)\n",
    "\n",
    "import collections\n",
    "\n",
    "\n",
    "class Solution(object):\n",
    "    def possibleBipartition(self, N, dislikes):\n",
    "        \"\"\"\n",
    "        :type N: int\n",
    "        :type dislikes: List[List[int]]\n",
    "        :rtype: bool\n",
    "        \"\"\"\n",
    "        adj = [[] for _ in xrange(N)]\n",
    "        for u, v in dislikes:\n",
    "            adj[u-1].append(v-1)\n",
    "            adj[v-1].append(u-1)\n",
    "\n",
    "        color = [0]*N\n",
    "        color[0] = 1\n",
    "        q = collections.deque([0])\n",
    "        while q:\n",
    "            cur = q.popleft()\n",
    "            for nei in adj[cur]:\n",
    "                if color[nei] == color[cur]:\n",
    "                    return False\n",
    "                elif color[nei] == -color[cur]:\n",
    "                    continue\n",
    "                color[nei] = -color[cur]\n",
    "                q.append(nei)\n",
    "        return True\n",
    " "
   ]
  },
  {
   "cell_type": "markdown",
   "id": "0dd1907c",
   "metadata": {},
   "source": [
    "# 0886 Medium 886 Possible Bipartition"
   ]
  },
  {
   "cell_type": "code",
   "execution_count": null,
   "id": "0fcc7385",
   "metadata": {},
   "outputs": [],
   "source": [
    "class Solution:\n",
    "    def merge(self, node, p, group, disliked):\n",
    "        group[node] = p\n",
    "        for v in disliked[node]:\n",
    "            if group[v] == p or (group[v] == v and not self.merge(v, -p, group, disliked)): return False\n",
    "        return True\n",
    "    \n",
    "    def possibleBipartition(self, N, dislikes):\n",
    "        group, disliked = [i for i in range(N + 1)], collections.defaultdict(set)\n",
    "        for a, b in dislikes:\n",
    "            disliked[a].add(b)\n",
    "            disliked[b].add(a) \n",
    "        for i in range(1, N + 1):\n",
    "            if group[i] == i and not self.merge(i, 2001, group, disliked): return False\n",
    "        return True"
   ]
  },
  {
   "cell_type": "markdown",
   "id": "d3b8c9de",
   "metadata": {},
   "source": [
    "# 0889 Medium 889 Construct Binary Tree from Preorder and Postorder Traversal"
   ]
  },
  {
   "cell_type": "code",
   "execution_count": null,
   "id": "fe082892",
   "metadata": {},
   "outputs": [],
   "source": [
    "# Time:  O(n)\n",
    "# Space: O(h)\n",
    "\n",
    "class TreeNode(object):\n",
    "    def __init__(self, x):\n",
    "        self.val = x\n",
    "        self.left = None\n",
    "        self.right = None\n",
    "\n",
    "\n",
    "class Solution(object):\n",
    "    def constructFromPrePost(self, pre, post):\n",
    "        \"\"\"\n",
    "        :type pre: List[int]\n",
    "        :type post: List[int]\n",
    "        :rtype: TreeNode\n",
    "        \"\"\"\n",
    "        stack = [TreeNode(pre[0])]\n",
    "        j = 0\n",
    "        for i in xrange(1, len(pre)):\n",
    "            node = TreeNode(pre[i])\n",
    "            while stack[-1].val == post[j]:\n",
    "                stack.pop()\n",
    "                j += 1\n",
    "            if not stack[-1].left:\n",
    "                stack[-1].left = node\n",
    "            else:\n",
    "                stack[-1].right = node\n",
    "            stack.append(node)\n",
    "        return stack[0]\n",
    "\n",
    "\n",
    "# Time:  O(n)\n",
    "# Space: O(n)\n",
    "class Solution2(object):\n",
    "    def constructFromPrePost(self, pre, post):\n",
    "        \"\"\"\n",
    "        :type pre: List[int]\n",
    "        :type post: List[int]\n",
    "        :rtype: TreeNode\n",
    "        \"\"\"\n",
    "        def constructFromPrePostHelper(pre, pre_s, pre_e, post, post_s, post_e, post_entry_idx_map):\n",
    "            if pre_s >= pre_e or post_s >= post_e:\n",
    "                return None\n",
    "            node = TreeNode(pre[pre_s])\n",
    "            if pre_e-pre_s > 1:\n",
    "                left_tree_size = post_entry_idx_map[pre[pre_s+1]]-post_s+1\n",
    "                node.left = constructFromPrePostHelper(pre, pre_s+1, pre_s+1+left_tree_size, \n",
    "                                                       post, post_s, post_s+left_tree_size,\n",
    "                                                       post_entry_idx_map)\n",
    "                node.right = constructFromPrePostHelper(pre, pre_s+1+left_tree_size, pre_e,\n",
    "                                                        post, post_s+left_tree_size, post_e-1,\n",
    "                                                        post_entry_idx_map)\n",
    "            return node\n",
    "\n",
    "        post_entry_idx_map = {}\n",
    "        for i, val in enumerate(post):\n",
    "            post_entry_idx_map[val] = i\n",
    "        return constructFromPrePostHelper(pre, 0, len(pre), post, 0, len(post), post_entry_idx_map)"
   ]
  },
  {
   "cell_type": "markdown",
   "id": "8ac2a73e",
   "metadata": {},
   "source": [
    "# 0889 Medium 889 Construct Binary Tree from Preorder and Postorder Traversal"
   ]
  },
  {
   "cell_type": "code",
   "execution_count": null,
   "id": "48ed3f7e",
   "metadata": {},
   "outputs": [],
   "source": [
    "class Solution:\n",
    "    def constructFromPrePost(self, pre, post):\n",
    "        if pre:\n",
    "            root = TreeNode(pre.pop(0))\n",
    "            post.pop()\n",
    "            if pre:\n",
    "                if pre[0] == post[-1]:\n",
    "                    root.left = self.constructFromPrePost(pre, post)\n",
    "                else:\n",
    "                    l, r = post.index(pre[0]), pre.index(post[-1])\n",
    "                    root.left = self.constructFromPrePost(pre[:r], post[:l + 1])\n",
    "                    root.right = self.constructFromPrePost(pre[r:], post[l + 1:]) \n",
    "            return root"
   ]
  },
  {
   "cell_type": "markdown",
   "id": "edf8f7c0",
   "metadata": {},
   "source": [
    "# 0890 Medium 890 Find and Replace Pattern"
   ]
  },
  {
   "cell_type": "code",
   "execution_count": null,
   "id": "223e6164",
   "metadata": {},
   "outputs": [],
   "source": [
    "# Time:  O(n * l)\n",
    "# Space: O(1)\n",
    "\n",
    "import itertools\n",
    "\n",
    "\n",
    "class Solution(object):\n",
    "    def findAndReplacePattern(self, words, pattern):\n",
    "        \"\"\"\n",
    "        :type words: List[str]\n",
    "        :type pattern: str\n",
    "        :rtype: List[str]\n",
    "        \"\"\"\n",
    "        def match(word):\n",
    "            lookup = {}\n",
    "            for x, y in itertools.izip(pattern, word):\n",
    "                if lookup.setdefault(x, y) != y:\n",
    "                    return False\n",
    "            return len(set(lookup.values())) == len(lookup.values())\n",
    "\n",
    "        return filter(match, words)"
   ]
  },
  {
   "cell_type": "markdown",
   "id": "b28aa983",
   "metadata": {},
   "source": [
    "# 0890 Medium 890 Find and Replace Pattern"
   ]
  },
  {
   "cell_type": "code",
   "execution_count": null,
   "id": "ccc3a58e",
   "metadata": {},
   "outputs": [],
   "source": [
    "class Solution:\n",
    "    def findAndReplacePattern(self, words, pattern):\n",
    "        \"\"\"\n",
    "        :type words: List[str]\n",
    "        :type pattern: str\n",
    "        :rtype: List[str]\n",
    "        \"\"\"\n",
    "        res = []\n",
    "        for w in words:\n",
    "            mp12, mp21, match = {}, {}, True\n",
    "            for c1, c2 in zip(w, pattern):\n",
    "                if (c1 in mp12 and mp12[c1] != c2) or (c2 in mp21 and mp21[c2] != c1):\n",
    "                    match = False\n",
    "                    break\n",
    "                mp12[c1], mp21[c2] = c2, c1\n",
    "            if match: res.append(w)\n",
    "        return res"
   ]
  },
  {
   "cell_type": "markdown",
   "id": "52d40c88",
   "metadata": {},
   "source": [
    "# 0893 Medium 893 Groups of Special Equivalent Strings"
   ]
  },
  {
   "cell_type": "code",
   "execution_count": null,
   "id": "f36a4065",
   "metadata": {},
   "outputs": [],
   "source": [
    "class Solution:\n",
    "    def numSpecialEquivGroups(self, A):\n",
    "        return len(set(\"\".join(sorted(s[0::2])) + \"\".join(sorted(s[1::2])) for s in A))"
   ]
  },
  {
   "cell_type": "markdown",
   "id": "5b6d4c64",
   "metadata": {},
   "source": [
    "# 0894 Medium 894 All Possible Full Binary Trees"
   ]
  },
  {
   "cell_type": "code",
   "execution_count": null,
   "id": "c873072c",
   "metadata": {},
   "outputs": [],
   "source": [
    "# Time:  O(n * 4^n / n^(3/2)) ~= sum of Catalan numbers from 1 .. N\n",
    "# Space: O(n * 4^n / n^(3/2)) ~= sum of Catalan numbers from 1 .. N\n",
    "\n",
    "class TreeNode(object):\n",
    "    def __init__(self, x):\n",
    "        self.val = x\n",
    "        self.left = None\n",
    "        self.right = None\n",
    "\n",
    "\n",
    "class Solution(object):\n",
    "    def __init__(self):\n",
    "        self.__memo = {1: [TreeNode(0)]}\n",
    "    \n",
    "    def allPossibleFBT(self, N):\n",
    "        \"\"\"\n",
    "        :type N: int\n",
    "        :rtype: List[TreeNode]\n",
    "        \"\"\"\n",
    "        if N % 2 == 0:\n",
    "            return []\n",
    "\n",
    "        if N not in self.__memo:\n",
    "            result = []\n",
    "            for i in xrange(N):\n",
    "                for left in self.allPossibleFBT(i):\n",
    "                    for right in self.allPossibleFBT(N-1-i):\n",
    "                        node = TreeNode(0)\n",
    "                        node.left = left\n",
    "                        node.right = right\n",
    "                        result.append(node)\n",
    "            self.__memo[N] = result\n",
    "\n",
    "        return self.__memo[N]\n",
    " "
   ]
  },
  {
   "cell_type": "markdown",
   "id": "44003b18",
   "metadata": {},
   "source": [
    "# 0894 Medium 894 All Possible Full Binary Trees"
   ]
  },
  {
   "cell_type": "code",
   "execution_count": null,
   "id": "a92b8d5f",
   "metadata": {},
   "outputs": [],
   "source": [
    "class Solution:\n",
    "    def allPossibleFBT(self, N):\n",
    "        def constr(N):\n",
    "            if N == 1: yield TreeNode(0)\n",
    "            for i in range(1, N, 2):\n",
    "                for l in constr(i):\n",
    "                    for r in constr(N - i - 1):\n",
    "                        m = TreeNode(0)\n",
    "                        m.left = l\n",
    "                        m.right = r\n",
    "                        yield m\n",
    "        return list(constr(N))"
   ]
  },
  {
   "cell_type": "markdown",
   "id": "fcd8916e",
   "metadata": {},
   "source": [
    "# 0898 Medium 898 Bitwise ORs of Subarrays"
   ]
  },
  {
   "cell_type": "code",
   "execution_count": null,
   "id": "f712e495",
   "metadata": {},
   "outputs": [],
   "source": [
    "# Time:  O(32 * n)\n",
    "# Space: O(1)\n",
    "\n",
    "class Solution(object):\n",
    "    def subarrayBitwiseORs(self, A):\n",
    "        \"\"\"\n",
    "        :type A: List[int]\n",
    "        :rtype: int\n",
    "        \"\"\"\n",
    "        result, curr = set(), {0}\n",
    "        for i in A:\n",
    "            curr = {i} | {i | j for j in curr}\n",
    "            result |= curr\n",
    "        return len(result)"
   ]
  },
  {
   "cell_type": "markdown",
   "id": "930d75b9",
   "metadata": {},
   "source": [
    "# 0898 Medium 898 Bitwise ORs of Subarrays"
   ]
  },
  {
   "cell_type": "code",
   "execution_count": null,
   "id": "23c119db",
   "metadata": {},
   "outputs": [],
   "source": [
    "class Solution:\n",
    "    def subarrayBitwiseORs(self, A):\n",
    "        nums, n, pre = set(), len(A), set()\n",
    "        for a in A:\n",
    "            pre = {a} | {num | a for num in pre}\n",
    "            nums |= pre\n",
    "        return len(nums)"
   ]
  },
  {
   "cell_type": "markdown",
   "id": "3c673cc0",
   "metadata": {},
   "source": [
    "# 0900 Medium 900 RLE Iterator"
   ]
  },
  {
   "cell_type": "code",
   "execution_count": null,
   "id": "8a281cfc",
   "metadata": {},
   "outputs": [],
   "source": [
    "# Time:  O(n)\n",
    "# Space: O(1)\n",
    "\n",
    "class RLEIterator(object):\n",
    "\n",
    "    def __init__(self, A):\n",
    "        \"\"\"\n",
    "        :type A: List[int]\n",
    "        \"\"\"\n",
    "        self.__A = A\n",
    "        self.__i = 0\n",
    "        self.__cnt = 0\n",
    "\n",
    "    def next(self, n):\n",
    "        \"\"\"\n",
    "        :type n: int\n",
    "        :rtype: int\n",
    "        \"\"\"\n",
    "        while self.__i < len(self.__A):\n",
    "            if  n > self.__A[self.__i] - self.__cnt:\n",
    "                n -= self.__A[self.__i] - self.__cnt\n",
    "                self.__cnt = 0\n",
    "                self.__i += 2\n",
    "            else:\n",
    "                self.__cnt += n\n",
    "                return self.__A[self.__i+1]\n",
    "        return -1"
   ]
  },
  {
   "cell_type": "markdown",
   "id": "6fafa296",
   "metadata": {},
   "source": [
    "# 0900 Medium 900 RLE Iterator"
   ]
  },
  {
   "cell_type": "code",
   "execution_count": null,
   "id": "9473d149",
   "metadata": {},
   "outputs": [],
   "source": [
    "class RLEIterator:\n",
    "\n",
    "    def __init__(self, A):\n",
    "        self.it = A[::-1]\n",
    "\n",
    "    def next(self, n):\n",
    "        while self.it and self.it[-1] <= n:\n",
    "            if self.it[-1]: last = self.it[-2]\n",
    "            n -= self.it.pop()\n",
    "            self.it.pop()\n",
    "        if n and self.it:\n",
    "            self.it[-1] -= n\n",
    "            last = self.it[-2]\n",
    "        return last if self.it else -1\n",
    "        "
   ]
  },
  {
   "cell_type": "markdown",
   "id": "c016b702",
   "metadata": {},
   "source": [
    "# 0901 Medium 901 Online Stock Span"
   ]
  },
  {
   "cell_type": "code",
   "execution_count": null,
   "id": "b9951e91",
   "metadata": {},
   "outputs": [],
   "source": [
    "# Time:  O(n)\n",
    "# Space: O(n)\n",
    "\n",
    "class StockSpanner(object):\n",
    "\n",
    "    def __init__(self):\n",
    "        self.__s = []\n",
    "\n",
    "    def next(self, price):\n",
    "        \"\"\"\n",
    "        :type price: int\n",
    "        :rtype: int\n",
    "        \"\"\"\n",
    "        result = 1\n",
    "        while self.__s and self.__s[-1][0] <= price:\n",
    "            result += self.__s.pop()[1]\n",
    "        self.__s.append([price, result])\n",
    "        return result"
   ]
  },
  {
   "cell_type": "markdown",
   "id": "2c7da2e4",
   "metadata": {},
   "source": [
    "# 0901 Medium 901 Online Stock Span"
   ]
  },
  {
   "cell_type": "code",
   "execution_count": null,
   "id": "666933b0",
   "metadata": {},
   "outputs": [],
   "source": [
    "class StockSpanner:\n",
    "\n",
    "    def __init__(self):\n",
    "        self.arr = []  \n",
    "        self.res = []\n",
    "\n",
    "    def next(self, price):\n",
    "        \"\"\"\n",
    "        :type price: int\n",
    "        :rtype: int\n",
    "        \"\"\"\n",
    "        if self.arr and self.arr[-1] > price: self.res.append(1)\n",
    "        else:\n",
    "            i = len(self.arr) - 1\n",
    "            while i >= 0:\n",
    "                if self.arr[i] <= price and self.res[i]:\n",
    "                    i -= self.res[i]\n",
    "                else: break\n",
    "            self.res.append(len(self.arr) - i)\n",
    "        self.arr.append(price)\n",
    "        return self.res[-1]\n",
    "        \n",
    "\n",
    "\n",
    "# Your StockSpanner object will be instantiated and called as such:\n",
    "# obj = StockSpanner()\n",
    "# param_1 = obj.next(price)"
   ]
  },
  {
   "cell_type": "markdown",
   "id": "034e01d2",
   "metadata": {},
   "source": [
    "# 0904 Medium 904 Fruit Into Baskets"
   ]
  },
  {
   "cell_type": "code",
   "execution_count": null,
   "id": "a2637505",
   "metadata": {},
   "outputs": [],
   "source": [
    "#https://leetcode.com/problems/fruit-into-type_baskets/\n",
    "\n",
    "class Solution(object):\n",
    "    #Time Efficiency: O(N), where N is the fruit count in the trees.\n",
    "    #Space Efficiency: O(K), where K is the total types of fruit in the trees.\n",
    "    def totalFruit(self, tree):\n",
    "        counter = 0 #max fruit count\n",
    "        start = 0 #the point where from start to i has only two types of fruit\n",
    "        mark = {} #we keep track of each type of fruit's index last seen\n",
    "        type_basket = [] #types of fruit in the basket now\n",
    "\n",
    "        for i in range(len(tree)):\n",
    "            t = tree[i]\n",
    "            if t not in type_basket:\n",
    "                if len(type_basket)<2:\n",
    "                    \"\"\"\n",
    "                    if this type of fruit not in type_basket\n",
    "                    and the type_basket is not full yet\n",
    "                    add the type to the type_basket\n",
    "                    \"\"\"\n",
    "                    type_basket.append(t)\n",
    "\n",
    "                elif len(type_basket)==2:\n",
    "                    \"\"\"\n",
    "                    if this type of fruit not in type_basket\n",
    "                    and the type_basket has two types already\n",
    "                    we get rid of the type with smaller last seen index\n",
    "                    by moving the start to its index+1\n",
    "                    so now between start and i has only two types of fruit\n",
    "                    \"\"\"\n",
    "                    t1 = type_basket[0]\n",
    "                    t2 = type_basket[1]\n",
    "                    if mark[t1]<mark[t2]:\n",
    "                        start = mark[t1]+1\n",
    "                        type_basket[0] = t\n",
    "                    else:\n",
    "                        start = mark[t2]+1\n",
    "                        type_basket[1] = t\n",
    "                else:\n",
    "                    #basket should not have more than two types\n",
    "                    print('ERROR')\n",
    "                    return 0\n",
    "            \n",
    "            counter = max(counter, i-start+1)\n",
    "            mark[t] = i\n",
    "        return counter\n",
    "\n",
    "\n",
    "\"\"\"\n",
    "Find the length of longest subarray that at most has 2 unique number.\n",
    "\"\"\"\n",
    "class Solution(object):\n",
    "    def totalFruit(self, fruits):\n",
    "        ans = 0\n",
    "        uniqueFruits = 0\n",
    "        i = 0\n",
    "        counter = collections.Counter()\n",
    "        \n",
    "        for j, fruit in enumerate(fruits):\n",
    "            counter[fruit] += 1\n",
    "            if counter[fruit]==1: uniqueFruits += 1\n",
    "            \n",
    "            while uniqueFruits>2:\n",
    "                counter[fruits[i]] -= 1\n",
    "                if counter[fruits[i]]==0: uniqueFruits -= 1\n",
    "                i += 1\n",
    "            \n",
    "            ans = max(ans, j-i+1)\n",
    "        return ans"
   ]
  },
  {
   "cell_type": "markdown",
   "id": "dbd87c02",
   "metadata": {},
   "source": [
    "# 0904 Medium 904 Fruit Into Baskets"
   ]
  },
  {
   "cell_type": "code",
   "execution_count": null,
   "id": "1b30dd36",
   "metadata": {},
   "outputs": [],
   "source": [
    "class Solution(object):\n",
    "    # def totalFruit(self, tree):\n",
    "    #     \"\"\"\n",
    "    #     :type tree: List[int]\n",
    "    #     :rtype: int\n",
    "    #     \"\"\"\n",
    "    #     basket, res, start = 2, 0, 0\n",
    "    #     queue_map = {}\n",
    "    #     for i, v in enumerate(tree):\n",
    "    #         queue_map[v] = queue_map.get(v, 0) + 1\n",
    "    #         if len(queue_map) > 2:\n",
    "    #             queue_map[tree[start]] -= 1\n",
    "    #             if queue_map[tree[start]] == 0:\n",
    "    #                 del queue_map[tree[start]]\n",
    "    #             start += 1\n",
    "    #         res = max(res, i - start + 1)\n",
    "    #     return res\n",
    "\n",
    "    # https://leetcode.com/problems/fruit-into-baskets/solution/\n",
    "    # def totalFruit(self, tree):\n",
    "    #     blocks = [(k, len(list(v)))\n",
    "    #               for k, v in itertools.groupby(tree)]\n",
    "    #     ans = i = 0\n",
    "    #     while i < len(blocks):\n",
    "    #         # We'll start our scan at block[i].\n",
    "    #         # types : the different values of tree[i] seen\n",
    "    #         # weight : the total number of trees represented\n",
    "    #         #          by blocks under consideration\n",
    "    #         types, weight = set(), 0\n",
    "\n",
    "    #         # For each block from i and going forward,\n",
    "    #         for j in xrange(i, len(blocks)):\n",
    "    #             # Add each block to consideration\n",
    "    #             types.add(blocks[j][0])\n",
    "    #             weight += blocks[j][1]\n",
    "    #             # If we have 3 types, this is not a legal subarray\n",
    "    #             if len(types) >= 3:\n",
    "    #                 i = j-1\n",
    "    #                 break\n",
    "    #             ans = max(ans, weight)\n",
    "    #         # If we go to the last block, then stop\n",
    "    #         else:\n",
    "    #             break\n",
    "    #     return ans\n",
    "\n",
    "    def totalFruit(self, tree):\n",
    "        ans = i = 0\n",
    "        count = collections.Counter()\n",
    "        for j, x in enumerate(tree):\n",
    "            count[x] += 1\n",
    "            while len(count) >= 3:\n",
    "                count[tree[i]] -= 1\n",
    "                if count[tree[i]] == 0:\n",
    "                    del count[tree[i]]\n",
    "                i += 1\n",
    "            ans = max(ans, j - i + 1)\n",
    "        return ans"
   ]
  },
  {
   "cell_type": "markdown",
   "id": "4e50cbd3",
   "metadata": {},
   "source": [
    "# 0904 Medium 904 Fruit Into Baskets"
   ]
  },
  {
   "cell_type": "code",
   "execution_count": null,
   "id": "51bd4c14",
   "metadata": {},
   "outputs": [],
   "source": [
    "class Solution:\n",
    "    def totalFruit(self, tree: List[int]) -> int:\n",
    "        res = i = 0\n",
    "        last = collections.defaultdict(int)\n",
    "        for j, val in enumerate(tree):\n",
    "            if len(last) == 2 and val not in last:\n",
    "                pre = min(last.values())\n",
    "                i = pre + 1\n",
    "                last.pop(tree[pre])\n",
    "            last[val] = j\n",
    "            res = max(res, j - i + 1)\n",
    "        return res"
   ]
  },
  {
   "cell_type": "markdown",
   "id": "915ea6ce",
   "metadata": {},
   "source": [
    "# 0907 Medium 907 Sum of Subarray Minimums"
   ]
  },
  {
   "cell_type": "code",
   "execution_count": null,
   "id": "5842a454",
   "metadata": {},
   "outputs": [],
   "source": [
    "\"\"\"\n",
    "[0]\n",
    "Instead of listing iterate through all the subarrays (Which is O(N^2) in Time).\n",
    "We think reversely.\n",
    "For each num, how many subarrays such that the num is the minimum.\n",
    "For each num, the count is (i-l) * (r-i)\n",
    "Where l is the index of the first left number smaller to num.\n",
    "Where r is the index of the first right number smaller to num.\n",
    "\n",
    "[1]\n",
    "To construct nextSmaller, we iterate through the number, if it is incremental, we put it in the stack.\n",
    "Once we encounter a number that is \"not\" incremental, then it is the next smaller number of stack[-1].\n",
    "\n",
    "[2]\n",
    "Since there are some the same number in the arr. If we use nextSmaller and prevSmaller to calculate, there will be some subarrays repeatly counted.\n",
    "So we need to set up boundaries. So that even with the same number, they will not count the same subarray.\n",
    "\n",
    "Time: O(N)\n",
    "Space: O(N)\n",
    "\"\"\"\n",
    "class Solution(object):\n",
    "    def sumSubarrayMins(self, arr):\n",
    "        N = len(arr)\n",
    "        ans = 0\n",
    "        nextSmaller = [N]*N\n",
    "        prevSmallerOrEqual = [-1]*N #[2]\n",
    "        \n",
    "        #construct nextSmaller [1]\n",
    "        stack = []\n",
    "        for i in xrange(N):\n",
    "            n = arr[i]\n",
    "            while stack and n<arr[stack[-1]]:\n",
    "                nextSmaller[stack.pop()] = i\n",
    "            stack.append(i)\n",
    "        \n",
    "        #construct prevSmallerOrEqual\n",
    "        stack = []\n",
    "        for i in xrange(N-1, -1, -1):\n",
    "            n = arr[i]\n",
    "            while stack and n<=arr[stack[-1]]:\n",
    "                prevSmallerOrEqual[stack.pop()] = i\n",
    "            stack.append(i)\n",
    "        \n",
    "        #get ans\n",
    "        for i in xrange(N):\n",
    "            n = arr[i]\n",
    "            r = nextSmaller[i]\n",
    "            l = prevSmallerOrEqual[i]\n",
    "            ans += (i-l)*(r-i)*n #[0]\n",
    "            \n",
    "        return ans%(10**9+7)"
   ]
  },
  {
   "cell_type": "markdown",
   "id": "564ee36c",
   "metadata": {},
   "source": [
    "# 0907 Medium 907 Sum of Subarray Minimums"
   ]
  },
  {
   "cell_type": "code",
   "execution_count": null,
   "id": "c5635b31",
   "metadata": {},
   "outputs": [],
   "source": [
    "class Solution:\n",
    "    def sumSubarrayMins(self, A):\n",
    "        res, stack = 0, []  \n",
    "        A = [float('-inf')] + A + [float('-inf')]\n",
    "        for i, n in enumerate(A):\n",
    "            while stack and A[stack[-1]] > n:\n",
    "                cur = stack.pop()\n",
    "                res += A[cur] * (i - cur) * (cur - stack[-1])\n",
    "            stack.append(i)\n",
    "        return res % (10 ** 9 + 7)"
   ]
  },
  {
   "cell_type": "markdown",
   "id": "a249dac3",
   "metadata": {},
   "source": [
    "# 0909 Medium 909 Snakes and Ladders"
   ]
  },
  {
   "cell_type": "code",
   "execution_count": null,
   "id": "9cc58167",
   "metadata": {},
   "outputs": [],
   "source": [
    "# Time:  O(n^2)\n",
    "# Space: O(n^2)\n",
    "\n",
    "import collections\n",
    "\n",
    "\n",
    "class Solution(object):\n",
    "    def snakesAndLadders(self, board):\n",
    "        \"\"\"\n",
    "        :type board: List[List[int]]\n",
    "        :rtype: int\n",
    "        \"\"\"\n",
    "        def coordinate(n, s):\n",
    "            a, b = divmod(s-1, n)\n",
    "            r = n-1-a\n",
    "            c = b if r%2 != n%2 else n-1-b\n",
    "            return r, c\n",
    "\n",
    "        n = len(board)\n",
    "        lookup = {1: 0}\n",
    "        q = collections.deque([1])\n",
    "        while q:\n",
    "            s = q.popleft()\n",
    "            if s == n*n:\n",
    "                return lookup[s]\n",
    "            for s2 in xrange(s+1, min(s+6, n*n)+1):\n",
    "                r, c = coordinate(n, s2)\n",
    "                if board[r][c] != -1:\n",
    "                    s2 = board[r][c]\n",
    "                if s2 not in lookup:\n",
    "                    lookup[s2] = lookup[s]+1\n",
    "                    q.append(s2)\n",
    "        return -1"
   ]
  },
  {
   "cell_type": "markdown",
   "id": "ed7a568c",
   "metadata": {},
   "source": [
    "# 0909 Medium 909 Snakes and Ladders"
   ]
  },
  {
   "cell_type": "code",
   "execution_count": null,
   "id": "703ce1a6",
   "metadata": {},
   "outputs": [],
   "source": [
    "class Solution:\n",
    "    def snakesAndLadders(self, board):\n",
    "        arr, nn, q, seen, moves = [0], len(board) ** 2, [1], set(), 0\n",
    "        for i, row in enumerate(board[::-1]): arr += row[::-1] if i % 2 else row\n",
    "        while q:\n",
    "            new = []\n",
    "            for sq in q:\n",
    "                if sq == nn: return moves \n",
    "                for i in range(1, 7):\n",
    "                    if sq + i <= nn and sq + i not in seen:\n",
    "                        seen.add(sq + i)\n",
    "                        new.append(sq + i if arr[sq + i] == -1 else arr[sq + i])\n",
    "            q, moves = new, moves + 1\n",
    "        return -1                    "
   ]
  },
  {
   "cell_type": "markdown",
   "id": "994f1cb0",
   "metadata": {},
   "source": [
    "# 0910 Medium 910 Smallest Range II"
   ]
  },
  {
   "cell_type": "code",
   "execution_count": null,
   "id": "d28e1fee",
   "metadata": {},
   "outputs": [],
   "source": [
    "# Time:  O(nlogn)\n",
    "# Space: O(1)\n",
    "\n",
    "class Solution(object):\n",
    "    def smallestRangeII(self, A, K):\n",
    "        \"\"\"\n",
    "        :type A: List[int]\n",
    "        :type K: int\n",
    "        :rtype: int\n",
    "        \"\"\"\n",
    "        A.sort()\n",
    "        result = A[-1]-A[0]\n",
    "        for i in xrange(len(A)-1):\n",
    "            result = min(result,\n",
    "                         max(A[-1]-K, A[i]+K) -\n",
    "                         min(A[0]+K, A[i+1]-K))\n",
    "        return result"
   ]
  },
  {
   "cell_type": "markdown",
   "id": "7d56fde9",
   "metadata": {},
   "source": [
    "# 0910 Medium 910 Smallest Range II"
   ]
  },
  {
   "cell_type": "code",
   "execution_count": null,
   "id": "534ac567",
   "metadata": {},
   "outputs": [],
   "source": [
    "class Solution:\n",
    "    def smallestRangeII(self, A, K):\n",
    "        A.sort()\n",
    "        return min([max(A[-1] - K, A[i] + K) - min(A[0] + K, A[i + 1] - K) for i in range(len(A) - 1)] + [A[-1] - A[0]])"
   ]
  },
  {
   "cell_type": "markdown",
   "id": "39c87f75",
   "metadata": {},
   "source": [
    "# 0911 Medium 911 Online Election"
   ]
  },
  {
   "cell_type": "code",
   "execution_count": null,
   "id": "1b75c27a",
   "metadata": {},
   "outputs": [],
   "source": [
    "# Time:  ctor: O(n)\n",
    "#        q:    O(logn)\n",
    "# Space: O(n)\n",
    "\n",
    "import collections\n",
    "import itertools\n",
    "import bisect\n",
    "\n",
    "\n",
    "class TopVotedCandidate(object):\n",
    "\n",
    "    def __init__(self, persons, times):\n",
    "        \"\"\"\n",
    "        :type persons: List[int]\n",
    "        :type times: List[int]\n",
    "        \"\"\"\n",
    "        lead = -1\n",
    "        self.__lookup, count = [], collections.defaultdict(int)\n",
    "        for t, p in itertools.izip(times, persons):\n",
    "            count[p] += 1\n",
    "            if count[p] >= count[lead]:\n",
    "                lead = p\n",
    "                self.__lookup.append((t, lead))\n",
    "\n",
    "    def q(self, t):\n",
    "        \"\"\"\n",
    "        :type t: int\n",
    "        :rtype: int\n",
    "        \"\"\"\n",
    "        return self.__lookup[bisect.bisect(self.__lookup,\n",
    "                                           (t, float(\"inf\")))-1][1]"
   ]
  },
  {
   "cell_type": "markdown",
   "id": "e9d0ef65",
   "metadata": {},
   "source": [
    "# 0911 Medium 911 Online Election"
   ]
  },
  {
   "cell_type": "code",
   "execution_count": null,
   "id": "92e0d3c0",
   "metadata": {},
   "outputs": [],
   "source": [
    "class TopVotedCandidate:\n",
    "\n",
    "    def __init__(self, persons, times):\n",
    "        votes = collections.defaultdict(int)\n",
    "        winner = 0\n",
    "        self.winners = [None] * len(times)\n",
    "        self.times = times\n",
    "        for i, person in enumerate(persons):\n",
    "            votes[person] += 1 \n",
    "            if votes[person] >= votes[winner]:\n",
    "                winner = person\n",
    "            self.winners[i] = winner\n",
    "\n",
    "    def q(self, t):\n",
    "        return self.winners[bisect.bisect(self.times, t) - 1]"
   ]
  },
  {
   "cell_type": "markdown",
   "id": "f08f78c0",
   "metadata": {},
   "source": [
    "# 0912 Medium 912 Sort an Array"
   ]
  },
  {
   "cell_type": "code",
   "execution_count": null,
   "id": "e3cc2d03",
   "metadata": {},
   "outputs": [],
   "source": [
    "# Time:  O(nlogn)\n",
    "# Space: O(n)\n",
    "\n",
    "# merge sort solution\n",
    "class Solution(object):\n",
    "    def sortArray(self, nums):\n",
    "        \"\"\"\n",
    "        :type nums: List[int]\n",
    "        :rtype: List[int]\n",
    "        \"\"\"\n",
    "        def mergeSort(left, right, nums):\n",
    "            if left == right:\n",
    "                return\n",
    "            mid = left + (right-left)//2\n",
    "            mergeSort(left, mid, nums)\n",
    "            mergeSort(mid+1, right,  nums)\n",
    "            r = mid+1\n",
    "            tmp = []\n",
    "            for l in xrange(left, mid+1):\n",
    "                while r <= right and nums[r] < nums[l]:\n",
    "                    tmp.append(nums[r])\n",
    "                    r += 1\n",
    "                tmp.append(nums[l])\n",
    "            nums[left:left+len(tmp)] = tmp\n",
    "\n",
    "        mergeSort(0, len(nums)-1, nums)\n",
    "        return nums\n",
    "\n",
    "\n",
    "# Time:  O(nlogn), on average\n",
    "# Space: O(logn)\n",
    "import random\n",
    "# quick sort solution\n",
    "class Solution2(object):\n",
    "    def sortArray(self, nums):\n",
    "        \"\"\"\n",
    "        :type nums: List[int]\n",
    "        :rtype: List[int]\n",
    "        \"\"\"\n",
    "        def nth_element(nums, left, n, right, compare=lambda a, b: a < b):\n",
    "            def tri_partition(nums, left, right, target):\n",
    "                i = left\n",
    "                while i <= right:\n",
    "                    if compare(nums[i], target):\n",
    "                        nums[i], nums[left] = nums[left], nums[i]\n",
    "                        left += 1\n",
    "                        i += 1\n",
    "                    elif compare(target, nums[i]):\n",
    "                        nums[i], nums[right] = nums[right], nums[i]\n",
    "                        right -= 1\n",
    "                    else:\n",
    "                        i += 1\n",
    "                return left, right\n",
    "\n",
    "            while left <= right:\n",
    "                pivot_idx = random.randint(left, right)\n",
    "                pivot_left, pivot_right = tri_partition(nums, left, right, nums[pivot_idx])\n",
    "                if pivot_left <= n <= pivot_right:\n",
    "                    return\n",
    "                elif pivot_left > n:\n",
    "                    right = pivot_left-1\n",
    "                else:  # pivot_right < n.\n",
    "                    left = pivot_right+1\n",
    "\n",
    "        def quickSort(left, right, nums):\n",
    "            if left > right:\n",
    "                return\n",
    "            mid = left + (right-left)//2\n",
    "            nth_element(nums, left, mid, right)\n",
    "            quickSort(left, mid-1, nums)\n",
    "            quickSort(mid+1, right, nums)\n",
    "\n",
    "        quickSort(0, len(nums)-1, nums)\n",
    "        return nums"
   ]
  },
  {
   "cell_type": "markdown",
   "id": "791aec16",
   "metadata": {},
   "source": [
    "# 0912 Medium 912 Sort an Array"
   ]
  },
  {
   "cell_type": "code",
   "execution_count": null,
   "id": "77d62f91",
   "metadata": {},
   "outputs": [],
   "source": [
    "class Solution:\n",
    "    def sortArray(self, nums: List[int]) -> List[int]:\n",
    "        if len(nums) <= 1:\n",
    "            return nums\n",
    "\n",
    "        pivot = random.choice(nums)\n",
    "        lt = [v for v in nums if v < pivot]\n",
    "        eq = [v for v in nums if v == pivot]\n",
    "        gt = [v for v in nums if v > pivot]\n",
    "\n",
    "        return self.sortArray(lt) + eq + self.sortArray(gt)\n",
    "    "
   ]
  },
  {
   "cell_type": "markdown",
   "id": "2b77c195",
   "metadata": {},
   "source": [
    "# 0915 Medium 915 Partition Array into Disjoint Intervals"
   ]
  },
  {
   "cell_type": "code",
   "execution_count": null,
   "id": "4dad7cb5",
   "metadata": {},
   "outputs": [],
   "source": [
    "# Time:  O(n)\n",
    "# Space: O(n)\n",
    "\n",
    "class Solution(object):\n",
    "    def partitionDisjoint(self, A):\n",
    "        \"\"\"\n",
    "        :type A: List[int]\n",
    "        :rtype: int\n",
    "        \"\"\"\n",
    "        B = A[:]\n",
    "        for i in reversed(xrange(len(A)-1)):\n",
    "            B[i] = min(B[i], B[i+1])\n",
    "        p_max = 0\n",
    "        for i in xrange(1, len(A)):\n",
    "            p_max = max(p_max, A[i-1])\n",
    "            if p_max <= B[i]:\n",
    "                return i"
   ]
  },
  {
   "cell_type": "markdown",
   "id": "b8a7aeaa",
   "metadata": {},
   "source": [
    "# 0915 Medium 915 Partition Array into Disjoint Intervals"
   ]
  },
  {
   "cell_type": "code",
   "execution_count": null,
   "id": "b8a06362",
   "metadata": {},
   "outputs": [],
   "source": [
    "class Solution:\n",
    "    def partitionDisjoint(self, A):\n",
    "        rMin, lMax, mx, mn = [0] * len(A), [0] * len(A), -float(\"inf\"), float(\"inf\")\n",
    "        for i, num in enumerate(A):\n",
    "            mx = max(mx, num)\n",
    "            lMax[i] = mx \n",
    "        for i in range(len(A) - 1, -1, -1):\n",
    "            mn = min(mn, A[i])\n",
    "            rMin[i] = mn \n",
    "        for i in range(len(A) - 1):\n",
    "            if lMax[i] <= rMin[i + 1]:\n",
    "                return i + 1"
   ]
  },
  {
   "cell_type": "markdown",
   "id": "0b234e94",
   "metadata": {},
   "source": [
    "# 0916 Medium 916 Word Subsets"
   ]
  },
  {
   "cell_type": "code",
   "execution_count": null,
   "id": "696d4cfd",
   "metadata": {},
   "outputs": [],
   "source": [
    "# Time:  O(m + n)\n",
    "# Space: O(1)\n",
    "\n",
    "import collections\n",
    "\n",
    "\n",
    "class Solution(object):\n",
    "    def wordSubsets(self, A, B):\n",
    "        \"\"\"\n",
    "        :type A: List[str]\n",
    "        :type B: List[str]\n",
    "        :rtype: List[str]\n",
    "        \"\"\"\n",
    "        count = collections.Counter()\n",
    "        for b in B:\n",
    "            for c, n in collections.Counter(b).items():\n",
    "                count[c] = max(count[c], n)\n",
    "        result = []\n",
    "        for a in A:\n",
    "            count = collections.Counter(a)\n",
    "            if all(count[c] >= count[c] for c in count):\n",
    "                result.append(a)\n",
    "        return result"
   ]
  },
  {
   "cell_type": "markdown",
   "id": "ce463ad2",
   "metadata": {},
   "source": [
    "# 0916 Medium 916 Word Subsets"
   ]
  },
  {
   "cell_type": "code",
   "execution_count": null,
   "id": "596b0a01",
   "metadata": {},
   "outputs": [],
   "source": [
    "class Solution:\n",
    "    def wordSubsets(self, A: List[str], B: List[str]) -> List[str]:\n",
    "        cnt = collections.Counter()\n",
    "        for b in B:\n",
    "            for k, v in collections.Counter(b).items():\n",
    "                if cnt[k] < v:\n",
    "                    cnt[k] = v\n",
    "        res = []\n",
    "        for a in A:\n",
    "            if not cnt - collections.Counter(a):\n",
    "                res.append(a)\n",
    "        return res"
   ]
  },
  {
   "cell_type": "markdown",
   "id": "034a2ab2",
   "metadata": {},
   "source": [
    "# 0918 Medium 918 Maximum Sum Circular Subarray"
   ]
  },
  {
   "cell_type": "code",
   "execution_count": null,
   "id": "7b2e304a",
   "metadata": {},
   "outputs": [],
   "source": [
    "# Time:  O(n)\n",
    "# Space: O(1)\n",
    "\n",
    "class Solution(object):\n",
    "    def maxSubarraySumCircular(self, A):\n",
    "        \"\"\"\n",
    "        :type A: List[int]\n",
    "        :rtype: int\n",
    "        \"\"\"\n",
    "        total, max_sum, cur_max, min_sum, cur_min = 0, -float(\"inf\"), 0, float(\"inf\"), 0\n",
    "        for a in A:\n",
    "            cur_max = max(cur_max+a, a)\n",
    "            max_sum = max(max_sum, cur_max)\n",
    "            cur_min = min(cur_min+a, a)\n",
    "            min_sum = min(min_sum, cur_min)\n",
    "            total += a\n",
    "        return max(max_sum, total-min_sum) if max_sum >= 0 else max_sum"
   ]
  },
  {
   "cell_type": "markdown",
   "id": "90dedfba",
   "metadata": {},
   "source": [
    "# 0918 Medium 918 Maximum Sum Circular Subarray"
   ]
  },
  {
   "cell_type": "code",
   "execution_count": null,
   "id": "387afd67",
   "metadata": {},
   "outputs": [],
   "source": [
    "class Solution:\n",
    "    def maxSubarraySumCircular(self, A):\n",
    "        lMn, rMx, res, lSm, rSm, preSm = float(\"inf\"), [-float(\"inf\")] * (len(A) + 1), -float(\"inf\"), 0, 0, 0\n",
    "        for i in range(len(A) - 1, -1, -1):\n",
    "            rSm += A[i]\n",
    "            rMx[i] = max(rMx[i + 1], rSm)\n",
    "        for i in range(len(A)):\n",
    "            preSm += A[i]\n",
    "            lMn = min(lMn, lSm)\n",
    "            res = max(res, preSm, preSm - lMn, preSm + rMx[i + 1])\n",
    "            lSm += A[i]\n",
    "        return res"
   ]
  },
  {
   "cell_type": "markdown",
   "id": "3522393b",
   "metadata": {},
   "source": [
    "# 0919 Medium 919 Complete Binary Tree Inserter"
   ]
  },
  {
   "cell_type": "code",
   "execution_count": null,
   "id": "87fe6700",
   "metadata": {},
   "outputs": [],
   "source": [
    "# Time:  ctor:     O(n)\n",
    "#        insert:   O(1)\n",
    "#        get_root: O(1)\n",
    "# Space: O(n)\n",
    "\n",
    "class TreeNode(object):\n",
    "    def __init__(self, x):\n",
    "        self.val = x\n",
    "        self.left = None\n",
    "        self.right = None\n",
    "\n",
    "class CBTInserter(object):\n",
    "\n",
    "    def __init__(self, root):\n",
    "        \"\"\"\n",
    "        :type root: TreeNode\n",
    "        \"\"\"\n",
    "        self.__tree = [root]\n",
    "        for i in self.__tree:\n",
    "            if i.left:\n",
    "                self.__tree.append(i.left)\n",
    "            if i.right:\n",
    "                self.__tree.append(i.right)        \n",
    "\n",
    "    def insert(self, v):\n",
    "        \"\"\"\n",
    "        :type v: int\n",
    "        :rtype: int\n",
    "        \"\"\"\n",
    "        n = len(self.__tree)\n",
    "        self.__tree.append(TreeNode(v))\n",
    "        if n % 2:\n",
    "            self.__tree[(n-1)//2].left = self.__tree[-1]\n",
    "        else:\n",
    "            self.__tree[(n-1)//2].right = self.__tree[-1]\n",
    "        return self.__tree[(n-1)//2].val\n",
    "\n",
    "    def get_root(self):\n",
    "        \"\"\"\n",
    "        :rtype: TreeNode\n",
    "        \"\"\"\n",
    "        return self.__tree[0]"
   ]
  },
  {
   "cell_type": "markdown",
   "id": "c30452cf",
   "metadata": {},
   "source": [
    "# 0919 Medium 919 Complete Binary Tree Inserter"
   ]
  },
  {
   "cell_type": "code",
   "execution_count": null,
   "id": "eca39841",
   "metadata": {},
   "outputs": [],
   "source": [
    "class CBTInserter:\n",
    "\n",
    "    def __init__(self, root):\n",
    "        self.arr, q = [], [root]\n",
    "        while q:\n",
    "            self.arr += [node for node in q]\n",
    "            q = [child for node in q for child in (node.left, node.right) if child]\n",
    "\n",
    "    def insert(self, v):\n",
    "        parent = self.arr[(len(self.arr) - 1) // 2]\n",
    "        if not len(self.arr) % 2:\n",
    "            child = parent.right = TreeNode(v)\n",
    "        else:\n",
    "            child = parent.left = TreeNode(v)\n",
    "        self.arr += [child]\n",
    "        return parent.val\n",
    "\n",
    "    def get_root(self):\n",
    "        return self.arr[0]"
   ]
  },
  {
   "cell_type": "markdown",
   "id": "9b6f31af",
   "metadata": {},
   "source": [
    "# 0921 Medium 921 Minimum Add to Make Parentheses Valid"
   ]
  },
  {
   "cell_type": "code",
   "execution_count": null,
   "id": "3024c87a",
   "metadata": {},
   "outputs": [],
   "source": [
    "# Time:  O(n)\n",
    "# Space: O(1)\n",
    "\n",
    "class Solution(object):\n",
    "    def minAddToMakeValid(self, S):\n",
    "        \"\"\"\n",
    "        :type S: str\n",
    "        :rtype: int\n",
    "        \"\"\"\n",
    "        add, bal, = 0, 0\n",
    "        for c in S:\n",
    "            bal += 1 if c == '(' else -1\n",
    "            if bal == -1:\n",
    "                add += 1\n",
    "                bal += 1\n",
    "        return add + bal"
   ]
  },
  {
   "cell_type": "markdown",
   "id": "29e122cb",
   "metadata": {},
   "source": [
    "# 0921 Medium 921 Minimum Add to Make Parentheses Valid"
   ]
  },
  {
   "cell_type": "code",
   "execution_count": null,
   "id": "2f3115d4",
   "metadata": {},
   "outputs": [],
   "source": [
    "class Solution:\n",
    "    def minAddToMakeValid(self, S):\n",
    "        r, l = 0, []\n",
    "        for s in S:\n",
    "            if s == \"(\":\n",
    "                l.append(s)\n",
    "            elif l:\n",
    "                l.pop()\n",
    "            else:\n",
    "                r += 1 \n",
    "        return r + len(l)"
   ]
  },
  {
   "cell_type": "markdown",
   "id": "40719253",
   "metadata": {},
   "source": [
    "# 0923 Medium 923 3Sum With Multiplicity"
   ]
  },
  {
   "cell_type": "code",
   "execution_count": null,
   "id": "975aabe8",
   "metadata": {},
   "outputs": [],
   "source": [
    "# Time:  O(n^2), n is the number of disctinct A[i]\n",
    "# Space: O(n)\n",
    "\n",
    "import collections\n",
    "import itertools\n",
    "\n",
    "\n",
    "class Solution(object):\n",
    "    def threeSumMulti(self, A, target):\n",
    "        \"\"\"\n",
    "        :type A: List[int]\n",
    "        :type target: int\n",
    "        :rtype: int\n",
    "        \"\"\"\n",
    "        count = collections.Counter(A)\n",
    "        result = 0\n",
    "        for i, j in itertools.combinations_with_replacement(count, 2):\n",
    "            k = target - i - j\n",
    "            if i == j == k:\n",
    "                result += count[i] * (count[i]-1) * (count[i]-2) // 6\n",
    "            elif i == j != k:\n",
    "                result += count[i] * (count[i]-1) // 2 * count[k]\n",
    "            elif max(i, j) < k:\n",
    "                result += count[i] * count[j] * count[k]\n",
    "        return result % (10**9 + 7)"
   ]
  },
  {
   "cell_type": "markdown",
   "id": "14eb9a41",
   "metadata": {},
   "source": [
    "# 0923 Medium 923 3Sum With Multiplicity"
   ]
  },
  {
   "cell_type": "code",
   "execution_count": null,
   "id": "f0aa8b39",
   "metadata": {},
   "outputs": [],
   "source": [
    "class Solution:\n",
    "    def threeSumMulti(self, A, target):\n",
    "        c = collections.Counter(A)\n",
    "        res = 0\n",
    "        for i, j in itertools.combinations_with_replacement(c, 2):\n",
    "            k = target - i - j\n",
    "            if i == j == k: res += c[i] * (c[i] - 1) * (c[i] - 2) // 6\n",
    "            elif i == j != k: res += c[i] * (c[i] - 1) // 2 * c[k]\n",
    "            elif k > i and k > j: res += c[i] * c[j] * c[k]\n",
    "        return res % (10**9 + 7)"
   ]
  },
  {
   "cell_type": "markdown",
   "id": "f6ad647b",
   "metadata": {},
   "source": [
    "# 0926 Medium 926 Flip String to Monotone Increasing"
   ]
  },
  {
   "cell_type": "code",
   "execution_count": null,
   "id": "c488c9d0",
   "metadata": {},
   "outputs": [],
   "source": [
    "\"\"\"\n",
    "dp[i][0] := min number of flips to form monotone string that ends s[:i] at 0\n",
    "dp[i][1] := min number of flips to form monotone string that ends s[:i] at 1\n",
    "\n",
    "Time: O(N)\n",
    "Space: O(N), can further deduce to O(1)\n",
    "\"\"\"\n",
    "class Solution(object):\n",
    "    def minFlipsMonoIncr(self, s):\n",
    "        dp = [[0, 0] for _ in xrange(len(s)+1)]\n",
    "        \n",
    "        for i, c in enumerate(s):\n",
    "            if c=='0':\n",
    "                dp[i+1][0] = dp[i][0]\n",
    "                dp[i+1][1] = min(dp[i][0], dp[i][1]) + 1\n",
    "            elif c=='1':\n",
    "                dp[i+1][0] = dp[i][0] + 1\n",
    "                dp[i+1][1] = min(dp[i][0], dp[i][1])\n",
    "                \n",
    "        return min(dp[-1])"
   ]
  },
  {
   "cell_type": "markdown",
   "id": "748ce0f5",
   "metadata": {},
   "source": [
    "# 0926 Medium 926 Flip String to Monotone Increasing"
   ]
  },
  {
   "cell_type": "code",
   "execution_count": null,
   "id": "33ce721b",
   "metadata": {},
   "outputs": [],
   "source": [
    "class Solution:\n",
    "    def minFlipsMonoIncr(self, s):\n",
    "        res = cur = s.count(\"0\")\n",
    "        for c in s: res, cur = c == \"1\" and (res, cur + 1) or (min(res, cur - 1), cur - 1)\n",
    "        return res"
   ]
  },
  {
   "cell_type": "markdown",
   "id": "4be4aa21",
   "metadata": {},
   "source": [
    "# 0930 Medium 930 Binary Subarrays With Sum"
   ]
  },
  {
   "cell_type": "code",
   "execution_count": null,
   "id": "4262a0fe",
   "metadata": {},
   "outputs": [],
   "source": [
    "class Solution(object):\n",
    "    def numSubarraysWithSum(self, nums, goal):\n",
    "        #number of subarrays with sum at most \"goal\"\n",
    "        def atMost(goal):\n",
    "            ans = 0\n",
    "            total = 0\n",
    "            i = 0\n",
    "            \n",
    "            for j, num in enumerate(nums):\n",
    "                if num==1: total += 1\n",
    "                \n",
    "                while i<len(nums) and total>goal:\n",
    "                    if nums[i]==1: total -= 1\n",
    "                    i += 1\n",
    "                \n",
    "                ans += j-i+1 #number of subarrays that can generate from nums[i~j]\n",
    "            return ans\n",
    "        \n",
    "        return atMost(goal)-atMost(goal-1) if goal>0 else atMost(goal)"
   ]
  },
  {
   "cell_type": "markdown",
   "id": "a2912f75",
   "metadata": {},
   "source": [
    "# 0930 Medium 930 Binary Subarrays With Sum"
   ]
  },
  {
   "cell_type": "code",
   "execution_count": null,
   "id": "1b2836e7",
   "metadata": {},
   "outputs": [],
   "source": [
    "class Solution:\n",
    "    def numSubarraysWithSum(self, A, S):\n",
    "        res, sm, sums = 0, 0, collections.defaultdict(int)\n",
    "        for a in A:\n",
    "            sm += a\n",
    "            res += sums[sm - S] + (sm == S)\n",
    "            sums[sm] += 1\n",
    "        return res"
   ]
  },
  {
   "cell_type": "markdown",
   "id": "7e03322f",
   "metadata": {},
   "source": [
    "# 0931 Medium 931 Minimum Falling Path Sum"
   ]
  },
  {
   "cell_type": "code",
   "execution_count": null,
   "id": "312e7f16",
   "metadata": {},
   "outputs": [],
   "source": [
    "# Time:  O(n^2)\n",
    "# Space: O(1)\n",
    "\n",
    "class Solution(object):\n",
    "    def minFallingPathSum(self, A):\n",
    "        \"\"\"\n",
    "        :type A: List[List[int]]\n",
    "        :rtype: int\n",
    "        \"\"\"\n",
    "        for i in xrange(1, len(A)):\n",
    "            for j in xrange(len(A[i])):\n",
    "                A[i][j] += min(A[i-1][max(j-1, 0):j+2])\n",
    "        return min(A[-1])"
   ]
  },
  {
   "cell_type": "markdown",
   "id": "fae62993",
   "metadata": {},
   "source": [
    "# 0931 Medium 931 Minimum Falling Path Sum"
   ]
  },
  {
   "cell_type": "code",
   "execution_count": null,
   "id": "0973d01f",
   "metadata": {},
   "outputs": [],
   "source": [
    "class Solution:\n",
    "    def minFallingPathSum(self, A):\n",
    "        for i in range(1, len(A)):\n",
    "            for j in range(len(A)):\n",
    "                A[i][j] += min(A[i - 1][j and j - 1:j + 2])\n",
    "        return min(A[-1])"
   ]
  },
  {
   "cell_type": "markdown",
   "id": "4f1b1153",
   "metadata": {},
   "source": [
    "# 0932 Medium 932 Beautiful Array"
   ]
  },
  {
   "cell_type": "code",
   "execution_count": null,
   "id": "c6d78aaa",
   "metadata": {},
   "outputs": [],
   "source": [
    "# Time:  O(n)\n",
    "# Space: O(n)\n",
    "\n",
    "class Solution(object):\n",
    "    def beautifulArray(self, N):\n",
    "        \"\"\"\n",
    "        :type N: int\n",
    "        :rtype: List[int]\n",
    "        \"\"\"\n",
    "        result = [1]\n",
    "        while len(result) < N:\n",
    "            result = [i*2 - 1 for i in result] + [i*2 for i in result]\n",
    "        return [i for i in result if i <= N]"
   ]
  },
  {
   "cell_type": "markdown",
   "id": "74d6da32",
   "metadata": {},
   "source": [
    "# 0932 Medium 932 Beautiful Array"
   ]
  },
  {
   "cell_type": "code",
   "execution_count": null,
   "id": "432b70a9",
   "metadata": {},
   "outputs": [],
   "source": [
    "class Solution:\n",
    "    def beautifulArray(self, N):\n",
    "        if N == 1: return [1]\n",
    "        half = self.beautifulArray(N - N // 2)\n",
    "        return [i * 2 - 1 for i in half] + [i * 2 for i in half if i * 2 <= N]"
   ]
  },
  {
   "cell_type": "markdown",
   "id": "d79f493d",
   "metadata": {},
   "source": [
    "# 0934 Medium 934 Shortest Bridge"
   ]
  },
  {
   "cell_type": "code",
   "execution_count": null,
   "id": "e276cbd1",
   "metadata": {},
   "outputs": [],
   "source": [
    "\"\"\"\n",
    "First, identify one of the island by marking its value by 2 (island2). [0]\n",
    "\n",
    "Second ([1]), use BFS to go through another island (island1). When we encounter 0 we put it on `q2`, otherwise `q`.\n",
    "When q is finished, it means that the island1 is completely explored (all `(i, j)` is in the `visied`).\n",
    "Now we make put `q2` to the `q` and clear `q2`. [2]\n",
    "\n",
    "When q is finished, it means that all of the one-tile outward `(i, j)` is explored (in the `visited`).\n",
    "Now we make put `q2` to the `q` and clear `q2`.\n",
    "\n",
    "When q is finished, it means that all of the two-tile outward `(i, j)` is explored (in the `visited`).\n",
    "Now we make put `q2` to the `q` and clear `q2`.\n",
    "\n",
    "...\n",
    "\n",
    "We keep on doing this until we find the island2. [3]\n",
    "\n",
    "The time complexity is `O(N)`, `N` is the number of element in `A`.\n",
    "The space complexity is `O(N)`, too. Since we might put most of the `(i, j)` in the `visited`.\n",
    "\n",
    "Of course, we can optimize the space, by changing the value in the `A`.\n",
    "The code would be a little bit harder the read and understand.\n",
    "I challenge you to try it out!\n",
    "\"\"\"\n",
    "class Solution(object):\n",
    "    def shortestBridge(self, A):\n",
    "        def findFirst(target):\n",
    "            for i in xrange(M):\n",
    "                for j in xrange(N):\n",
    "                    if A[i][j]==target: return (i, j)\n",
    "\n",
    "        M, N = len(A), len(A[0])\n",
    "\n",
    "        #[0]\n",
    "        q = collections.deque([findFirst(1)])\n",
    "        while q:\n",
    "            i, j = q.popleft()\n",
    "            if i<0 or i>=M: continue\n",
    "            if j<0 or j>=N: continue\n",
    "            if A[i][j]==2 or A[i][j]==0: continue\n",
    "            if A[i][j]==1: A[i][j] = 2\n",
    "            q.extend([(i+1, j), (i-1, j), (i, j+1), (i, j-1)])\n",
    "\n",
    "        #[1]\n",
    "        q.append(findFirst(1))\n",
    "        q2 = []\n",
    "        tile = 0\n",
    "        visited = set()\n",
    "        while q or q2:\n",
    "            if not q: #[2]\n",
    "                q.extend(q2)\n",
    "                q2 = []\n",
    "                tile+=1\n",
    "\n",
    "            i, j = q.popleft()\n",
    "            if (i, j) in visited: continue\n",
    "            visited.add((i, j))\n",
    "\n",
    "            if A[i][j]==2: return tile #[3]\n",
    "\n",
    "            for ni, nj in [(i+1, j), (i-1, j), (i, j+1), (i, j-1)]:\n",
    "                if ni<0 or ni>=M: continue\n",
    "                if nj<0 or nj>=N: continue\n",
    "                if A[ni][nj]==0:\n",
    "                    q2.append((ni, nj))\n",
    "                else:\n",
    "                    q.append((ni, nj))\n",
    "\n",
    "        return tile #should not comes here"
   ]
  },
  {
   "cell_type": "markdown",
   "id": "a0ed8c2c",
   "metadata": {},
   "source": [
    "# 0934 Medium 934 Shortest Bridge"
   ]
  },
  {
   "cell_type": "code",
   "execution_count": null,
   "id": "f7b42dd5",
   "metadata": {},
   "outputs": [],
   "source": [
    "class Solution:\n",
    "    def shortestBridge(self, A):\n",
    "        def dfs(i, j):\n",
    "            A[i][j] = -1\n",
    "            q.append((i, j))\n",
    "            for x, y in ((i - 1, j), (i + 1, j), (i, j - 1), (i, j + 1)):\n",
    "                if 0 <= x < n and 0 <= y < n and A[x][y] == 1:\n",
    "                    dfs(x, y)\n",
    "        def first():\n",
    "            for i in range(n):\n",
    "                for j in range(n):\n",
    "                    if A[i][j]:\n",
    "                        return i, j\n",
    "        n, step, q = len(A), 0, []\n",
    "        dfs(*first())\n",
    "        while True:\n",
    "            new = []\n",
    "            for i, j in q:\n",
    "                for x, y in ((i - 1, j), (i + 1, j), (i, j - 1), (i, j + 1)):\n",
    "                    if 0 <= x < n and 0 <= y < n:\n",
    "                        if A[x][y] == 1:\n",
    "                            return step\n",
    "                        elif not A[x][y]:\n",
    "                            A[x][y] = -1\n",
    "                            new.append((x, y))\n",
    "            step += 1\n",
    "            q = new"
   ]
  },
  {
   "cell_type": "markdown",
   "id": "f7917602",
   "metadata": {},
   "source": [
    "# 0935 Medium 935 Knight Dialer"
   ]
  },
  {
   "cell_type": "code",
   "execution_count": null,
   "id": "f5b98772",
   "metadata": {},
   "outputs": [],
   "source": [
    "class Solution(object):\n",
    "    def knightDialer(self, n):\n",
    "        def helper(initial, n):\n",
    "            # return the number of posible count starting from initial with n steps left\n",
    "            \n",
    "            if str(initial)+'-'+str(n) in history: return history[str(initial)+'-'+str(n)]\n",
    "            count = 0\n",
    "            \n",
    "            if n==0: return 1\n",
    "            for next_number in memo[initial]:\n",
    "                count += helper(next_number, n-1)\n",
    "            \n",
    "            history[str(initial)+'-'+str(n)] = count\n",
    "            return count\n",
    "        \n",
    "        memo = {\n",
    "            1: [6, 8],\n",
    "            2: [7, 9],\n",
    "            3: [4, 8],\n",
    "            4: [0, 3, 9],\n",
    "            5: [],\n",
    "            6: [0, 1, 7],\n",
    "            7: [2, 6],\n",
    "            8: [1, 3],\n",
    "            9: [2, 4],\n",
    "            0: [4, 6]\n",
    "        }\n",
    "        \n",
    "        history = {}\n",
    "        count = 0\n",
    "\n",
    "        for i in xrange(10):\n",
    "            count += helper(i, n-1)\n",
    "        return count % 1000000007\n",
    "\n",
    "\"\"\"\n",
    "dp[n][i] := number of ways to ends at number i after n moves.\n",
    "\n",
    "Time: O(N).\n",
    "Space: O(N). Can reduce to O(1).\n",
    "\"\"\"\n",
    "class Solution(object):\n",
    "    def knightDialer(self, n):\n",
    "        dp = [[0 for _ in xrange(10)] for _ in xrange(n)]\n",
    "        for i in xrange(10): dp[0][i] = 1 #initialize\n",
    "        \n",
    "        memo = {\n",
    "            1: [6, 8],\n",
    "            2: [7, 9],\n",
    "            3: [4, 8],\n",
    "            4: [0, 3, 9],\n",
    "            5: [],\n",
    "            6: [0, 1, 7],\n",
    "            7: [2, 6],\n",
    "            8: [1, 3],\n",
    "            9: [2, 4],\n",
    "            0: [4, 6]\n",
    "        }\n",
    "\n",
    "        for j in xrange(n-1):\n",
    "            for i in xrange(10):\n",
    "                for next_n in memo[i]:\n",
    "                    dp[j+1][next_n] += dp[j][i]\n",
    "        \n",
    "        return sum(dp[n-1]) % 1000000007"
   ]
  },
  {
   "cell_type": "markdown",
   "id": "095f0814",
   "metadata": {},
   "source": [
    "# 0935 Medium 935 Knight Dialer"
   ]
  },
  {
   "cell_type": "code",
   "execution_count": null,
   "id": "f8419a67",
   "metadata": {},
   "outputs": [],
   "source": [
    "class Solution:\n",
    "    def knightDialer(self, N):\n",
    "        x1 = x2 = x3 = x4 = x5 = x6 = x7 = x8 = x9 = x0 = 1\n",
    "        for _ in range(N - 1):\n",
    "            x1, x2, x3, x4, x5, x6, x7, x8, x9, x0 = \\u005C\n",
    "                x6 + x8, x7 + x9, x4 + x8, \\u005C\n",
    "                x7 + x9 + x0, 0, x1 + x7 + x0, \\u005C\n",
    "                x2 + x6, x1 + x7, x2 + x4, \\u005C\n",
    "                x4 + x6\n",
    "        return (x1 + x2 + x3 + x4 + x5 + x6 + x7 + x8 + x9 + x0) % (10 ** 9 + 7)"
   ]
  },
  {
   "cell_type": "markdown",
   "id": "32ef4a14",
   "metadata": {},
   "source": [
    "# 0937 Medium 937 Reorder Data in Log Files"
   ]
  },
  {
   "cell_type": "code",
   "execution_count": null,
   "id": "a1b8ce66",
   "metadata": {},
   "outputs": [],
   "source": [
    "class Solution(object):\n",
    "    # def reorderLogFiles(self, logs):\n",
    "    #     \"\"\"\n",
    "    #     :type logs: List[str]\n",
    "    #     :rtype: List[str]\n",
    "    #     \"\"\"\n",
    "    #     def f(log):\n",
    "    #         id_, rest = log.split(\" \", 1)\n",
    "    #         return (0, rest, id_) if rest[0].isalpha() else (1,)\n",
    "        \n",
    "    #     # Python sort is stable, so digit with keep their order\n",
    "    #     return sorted(logs, key = f)\n",
    "\n",
    "    def reorderLogFiles(self, logs):\n",
    "        letter_logs = []\n",
    "        digit_logs = []\n",
    "        for log in logs:\n",
    "            if log.split(' ')[1].isnumeric():\n",
    "                digit_logs.append(log)\n",
    "            else:\n",
    "                letter_logs.append(log)\n",
    "        return sorted(letter_logs, key=lambda x: x.split(' ')[1:] + x.split(' ')[0]) + digit_logs\n",
    "        "
   ]
  },
  {
   "cell_type": "markdown",
   "id": "e7c7e981",
   "metadata": {},
   "source": [
    "# 0937 Medium 937 Reorder Data in Log Files"
   ]
  },
  {
   "cell_type": "code",
   "execution_count": null,
   "id": "9de748cf",
   "metadata": {},
   "outputs": [],
   "source": [
    "class Solution:\n",
    "    def reorderLogFiles(self, logs):\n",
    "        return sorted(filter(lambda l: l[l.find(\" \") + 1].isalpha(), logs), key = lambda x: (x[x.find(\" \"):], x[:x.find(\" \")])) + list(filter(lambda l: l[l.find(\" \") + 1].isdigit(), logs))"
   ]
  },
  {
   "cell_type": "markdown",
   "id": "d49c9b4f",
   "metadata": {},
   "source": [
    "# 0939 Medium 939 Minimum Area Rectangle"
   ]
  },
  {
   "cell_type": "code",
   "execution_count": null,
   "id": "438b6cd7",
   "metadata": {},
   "outputs": [],
   "source": [
    "# Time:  O(n^1.5) on average\n",
    "#        O(n^2) on worst\n",
    "# Space: O(n)\n",
    "\n",
    "import collections\n",
    "\n",
    "\n",
    "class Solution(object):\n",
    "    def minAreaRect(self, points):\n",
    "        \"\"\"\n",
    "        :type points: List[List[int]]\n",
    "        :rtype: int\n",
    "        \"\"\"\n",
    "        nx = len(set(x for x, y in points))\n",
    "        ny = len(set(y for x, y in points))\n",
    "\n",
    "        p = collections.defaultdict(list)\n",
    "        if nx > ny:\n",
    "            for x, y in points:\n",
    "                p[x].append(y)\n",
    "        else:\n",
    "            for x, y in points:\n",
    "                p[y].append(x)\n",
    "\n",
    "        lookup = {}\n",
    "        result = float(\"inf\")\n",
    "        for x in sorted(p):\n",
    "            p[x].sort()\n",
    "            for j in xrange(len(p[x])):\n",
    "                for i in xrange(j):\n",
    "                    y1, y2 = p[x][i], p[x][j]\n",
    "                    if (y1, y2) in lookup:\n",
    "                        result = min(result, (x-lookup[y1, y2]) * (y2-y1))\n",
    "                    lookup[y1, y2] = x\n",
    "        return result if result != float(\"inf\") else 0\n",
    " \n",
    "\n",
    "# Time:  O(n^2)\n",
    "# Space: O(n)\n",
    "class Solution2(object):\n",
    "    def minAreaRect(self, points):\n",
    "        \"\"\"\n",
    "        :type points: List[List[int]]\n",
    "        :rtype: int\n",
    "        \"\"\"\n",
    "        lookup = set()\n",
    "        result = float(\"inf\")\n",
    "        for x1, y1 in points:\n",
    "            for x2, y2 in lookup:\n",
    "                if (x1, y2) in lookup and (x2, y1) in lookup:\n",
    "                    result = min(result, abs(x1-x2) * abs(y1-y2))\n",
    "            lookup.add((x1, y1))\n",
    "        return result if result != float(\"inf\") else 0"
   ]
  },
  {
   "cell_type": "markdown",
   "id": "84904d3d",
   "metadata": {},
   "source": [
    "# 0939 Medium 939 Minimum Area Rectangle"
   ]
  },
  {
   "cell_type": "code",
   "execution_count": null,
   "id": "9d4c14e1",
   "metadata": {},
   "outputs": [],
   "source": [
    "class Solution:\n",
    "    def minAreaRect(self, points):\n",
    "        seen, bases, baseX, res = collections.defaultdict(dict), [], -1, float(\"inf\")\n",
    "        for x, y in sorted(points):\n",
    "            if x != baseX:\n",
    "                baseX, bases = x, []\n",
    "            for base in bases:\n",
    "                if y in seen[base]:\n",
    "                    res = min(res, (x - seen[base][y]) * (y - base))\n",
    "                seen[base][y] = x\n",
    "            bases.append(y)\n",
    "        return res if res < float(\"inf\") else 0"
   ]
  },
  {
   "cell_type": "markdown",
   "id": "98f0e7b3",
   "metadata": {},
   "source": [
    "# 0945 Medium 945 Minimum Increment to Make Array Unique"
   ]
  },
  {
   "cell_type": "code",
   "execution_count": null,
   "id": "6f494ab5",
   "metadata": {},
   "outputs": [],
   "source": [
    "# Time:  O(nlogn)\n",
    "# Space: O(n)\n",
    "\n",
    "class Solution(object):\n",
    "    def minIncrementForUnique(self, A):\n",
    "        \"\"\"\n",
    "        :type A: List[int]\n",
    "        :rtype: int\n",
    "        \"\"\"\n",
    "        A.sort()\n",
    "        A.append(float(\"inf\"))\n",
    "        result, duplicate = 0, 0\n",
    "        for i in xrange(1, len(A)):\n",
    "            if A[i-1] == A[i]:\n",
    "                duplicate += 1\n",
    "                result -= A[i]\n",
    "            else:\n",
    "                move = min(duplicate, A[i]-A[i-1]-1)\n",
    "                duplicate -= move\n",
    "                result += move*A[i-1] + move*(move+1)//2\n",
    "        return result"
   ]
  },
  {
   "cell_type": "markdown",
   "id": "39c170cb",
   "metadata": {},
   "source": [
    "# 0945 Medium 945 Minimum Increment to Make Array Unique"
   ]
  },
  {
   "cell_type": "code",
   "execution_count": null,
   "id": "89728434",
   "metadata": {},
   "outputs": [],
   "source": [
    "class Solution(object):\n",
    "    def minIncrementForUnique(self, A):\n",
    "        \"\"\"\n",
    "        :type A: List[int]\n",
    "        :rtype: int\n",
    "        \"\"\"\n",
    "        if A is None or len(A) == 0:\n",
    "            return 0\n",
    "        res = 0\n",
    "        num_set = set()\n",
    "        duplicate = []\n",
    "        A.sort()\n",
    "        left, right = A[0], A[-1]\n",
    "        holes = right - left + 1\n",
    "        for v in A:\n",
    "            if v in num_set:\n",
    "                duplicate.append(v)\n",
    "            else:\n",
    "                num_set.add(v)\n",
    "        holes = holes - len(num_set)\n",
    "        # find a hole for these numbers\n",
    "        for hole in range(left + 1, right):\n",
    "            if holes == 0 or len(duplicate) == 0:\n",
    "                break\n",
    "            if hole not in num_set and hole > duplicate[0]:\n",
    "                res += hole - duplicate.pop(0)\n",
    "                holes -= 1\n",
    "        while len(duplicate) != 0:\n",
    "            right += 1\n",
    "            res += right - duplicate.pop(0)\n",
    "        return res\n",
    "\n",
    "\n",
    "if __name__ == '__main__':\n",
    "    s = Solution()\n",
    "    # print s.minIncrementForUnique([3, 2, 1, 2, 1, 7])\n",
    "    # print s.minIncrementForUnique([0, 2, 2])"
   ]
  },
  {
   "cell_type": "markdown",
   "id": "fc547b4f",
   "metadata": {},
   "source": [
    "# 0945 Medium 945 Minimum Increment to Make Array Unique"
   ]
  },
  {
   "cell_type": "code",
   "execution_count": null,
   "id": "e4c6250a",
   "metadata": {},
   "outputs": [],
   "source": [
    "class Solution:\n",
    "    def minIncrementForUnique(self, A):\n",
    "        st, used, move = set(A), set(), 0\n",
    "        heapq.heapify(A)\n",
    "        empty = [i for i in range(80000) if i not in st][::-1] if A else [] \n",
    "        while A:\n",
    "            num = heapq.heappop(A)\n",
    "            if num not in used:\n",
    "                used.add(num)\n",
    "            else:\n",
    "                while empty[-1] < num:\n",
    "                    empty.pop()\n",
    "                move += empty[-1] - num\n",
    "                heapq.heappush(A, empty.pop())\n",
    "        return move"
   ]
  },
  {
   "cell_type": "markdown",
   "id": "4281ed2d",
   "metadata": {},
   "source": [
    "# 0946 Medium 946 Validate Stack Sequences"
   ]
  },
  {
   "cell_type": "code",
   "execution_count": null,
   "id": "9eb04e82",
   "metadata": {},
   "outputs": [],
   "source": [
    "# Time:  O(n)\n",
    "# Space: O(n)\n",
    "\n",
    "class Solution(object):\n",
    "    def validateStackSequences(self, pushed, popped):\n",
    "        \"\"\"\n",
    "        :type pushed: List[int]\n",
    "        :type popped: List[int]\n",
    "        :rtype: bool\n",
    "        \"\"\"\n",
    "        i = 0\n",
    "        s = []\n",
    "        for v in pushed:\n",
    "            s.append(v)\n",
    "            while s and i < len(popped) and s[-1] == popped[i]:\n",
    "                s.pop()\n",
    "                i += 1\n",
    "        return i == len(popped)"
   ]
  },
  {
   "cell_type": "markdown",
   "id": "7fec5dbd",
   "metadata": {},
   "source": [
    "# 0946 Medium 946 Validate Stack Sequences"
   ]
  },
  {
   "cell_type": "code",
   "execution_count": null,
   "id": "95553cf9",
   "metadata": {},
   "outputs": [],
   "source": [
    "class Solution(object):\n",
    "    def validateStackSequences(self, pushed, popped):\n",
    "        \"\"\"\n",
    "        :type pushed: List[int]\n",
    "        :type popped: List[int]\n",
    "        :rtype: bool\n",
    "        \"\"\"\n",
    "        in_stack = []\n",
    "        pos = 0\n",
    "        while pos != len(pushed):\n",
    "            curr = pushed[pos]\n",
    "            while len(in_stack) > 0 and len(popped) > 0 and in_stack[-1] == popped[0]:\n",
    "                in_stack.pop(-1)\n",
    "                popped.pop(0)\n",
    "            if len(popped) == 0:\n",
    "                break\n",
    "            if curr == popped[0]:\n",
    "                popped.pop(0)\n",
    "            else:\n",
    "                in_stack.append(curr)\n",
    "            pos += 1\n",
    "        while len(in_stack) > 0 and len(popped) > 0 and in_stack[-1] == popped[0]:\n",
    "            in_stack.pop(-1)\n",
    "            popped.pop(0)\n",
    "        if len(in_stack) == 0:\n",
    "            return True\n",
    "        return False\n",
    "\n",
    "\n",
    "if __name__ == '__main__':\n",
    "    s = Solution()\n",
    "    # print s.validateStackSequences([1, 2, 3, 4, 5], [4, 5, 3, 2, 1])\n",
    "    # print s.validateStackSequences([2, 1, 0], [1, 2, 0])\n",
    "    print s.validateStackSequences([1, 0, 3, 2], [0, 1, 2, 3])"
   ]
  },
  {
   "cell_type": "markdown",
   "id": "5a0f2661",
   "metadata": {},
   "source": [
    "# 0946 Medium 946 Validate Stack Sequences"
   ]
  },
  {
   "cell_type": "code",
   "execution_count": null,
   "id": "c69dac2c",
   "metadata": {},
   "outputs": [],
   "source": [
    "class Solution:\n",
    "    def validateStackSequences(self, pushed, popped):\n",
    "        \"\"\"\n",
    "        :type pushed: List[int]\n",
    "        :type popped: List[int]\n",
    "        :rtype: bool\n",
    "        \"\"\"\n",
    "        arr, i = [], 0\n",
    "        for num in pushed:\n",
    "            arr.append(num)\n",
    "            while arr and arr[-1] == popped[i]:\n",
    "                i += 1\n",
    "                arr.pop()\n",
    "        return arr == popped[i:][::-1]"
   ]
  },
  {
   "cell_type": "markdown",
   "id": "5128c262",
   "metadata": {},
   "source": [
    "# 0947 Medium 947 Most Stones Removed with Same Row or Column"
   ]
  },
  {
   "cell_type": "code",
   "execution_count": null,
   "id": "6a95f149",
   "metadata": {},
   "outputs": [],
   "source": [
    "\"\"\"\n",
    "Max stones can be remove = number of stones - number of groups\n",
    "The stone in the same group has the same row or col with any stone in the group.\n",
    "Since finding stones in the same group will take O(N^2)\n",
    "Instead, we union the row or col itself.\n",
    "\n",
    "So initially each col (c1, c2...) and row (r1, r2...)'s parent is itself.\n",
    "We iterate through the stones and union the col and row.\n",
    "For example, the stone (1, 2) will union r2 and c1.\n",
    "the stone (0, 3) will union r3 and c0.\n",
    "...\n",
    "\n",
    "This way, we can also get the number of groups.\n",
    "\n",
    "See better explanation in https://www.youtube.com/watch?v=beOCN7G4h-M\n",
    "\n",
    "Time: O(N).\n",
    "Space: O(N)\n",
    "\"\"\"\n",
    "class Solution(object):\n",
    "    def removeStones(self, stones):\n",
    "        def union(x, y):\n",
    "            row = 'r'+str(x)\n",
    "            col = 'c'+str(y)\n",
    "            p1 = find(row)\n",
    "            p2 = find(col)\n",
    "            if p1==p2: return False\n",
    "            parents[p2] = p1\n",
    "            return True\n",
    "        \n",
    "        def find(c):\n",
    "            p = parents[c]\n",
    "            while p!=parents[p]:\n",
    "                p = find(p)\n",
    "            parents[c] = p\n",
    "            return p\n",
    "        \n",
    "        parents = {}\n",
    "        for x, y in stones:\n",
    "            row = 'r'+str(x)\n",
    "            col = 'c'+str(y)\n",
    "            parents[row] = row\n",
    "            parents[col] = col\n",
    "        \n",
    "        groupCount = len(parents)\n",
    "        for x, y in stones:\n",
    "            if union(x, y): groupCount -= 1\n",
    "        \n",
    "        return len(stones)-groupCount"
   ]
  },
  {
   "cell_type": "markdown",
   "id": "adc87fd4",
   "metadata": {},
   "source": [
    "# 0947 Medium 947 Most Stones Removed with Same Row or Column"
   ]
  },
  {
   "cell_type": "code",
   "execution_count": null,
   "id": "40c43b5e",
   "metadata": {},
   "outputs": [],
   "source": [
    "class Solution:\n",
    "    def removeStones(self, stones):\n",
    "        def dfs(i, j):\n",
    "            points.discard((i, j))\n",
    "            for y in rows[i]:\n",
    "                if (i, y) in points:\n",
    "                    dfs(i, y)\n",
    "            for x in cols[j]:\n",
    "                if (x, j) in points:\n",
    "                    dfs(x, j)\n",
    "        points, island, rows, cols = {(i, j) for i, j in stones}, 0, collections.defaultdict(list), collections.defaultdict(list)\n",
    "        for i, j in stones:\n",
    "            rows[i].append(j)\n",
    "            cols[j].append(i)\n",
    "        for i, j in stones:\n",
    "            if (i, j) in points:\n",
    "                dfs(i, j)\n",
    "                island += 1\n",
    "        return len(stones) - island"
   ]
  },
  {
   "cell_type": "markdown",
   "id": "694127d9",
   "metadata": {},
   "source": [
    "# 0948 Medium 948 Bag of Tokens"
   ]
  },
  {
   "cell_type": "code",
   "execution_count": null,
   "id": "2cc75ca0",
   "metadata": {},
   "outputs": [],
   "source": [
    "# Time:  O(nlogn)\n",
    "# Space: O(1)\n",
    "\n",
    "class Solution(object):\n",
    "    def bagOfTokensScore(self, tokens, P):\n",
    "        \"\"\"\n",
    "        :type tokens: List[int]\n",
    "        :type P: int\n",
    "        :rtype: int\n",
    "        \"\"\"\n",
    "        tokens.sort()\n",
    "        result, points = 0, 0\n",
    "        left, right = 0, len(tokens)-1\n",
    "        while left <= right:\n",
    "            if P >= tokens[left]:\n",
    "                P -= tokens[left]\n",
    "                left += 1\n",
    "                points += 1\n",
    "                result = max(result, points)\n",
    "            elif points > 0:\n",
    "                points -= 1\n",
    "                P += tokens[right]\n",
    "                right -= 1\n",
    "            else:\n",
    "                break\n",
    "        return result"
   ]
  },
  {
   "cell_type": "markdown",
   "id": "9b61be05",
   "metadata": {},
   "source": [
    "# 0948 Medium 948 Bag of Tokens"
   ]
  },
  {
   "cell_type": "code",
   "execution_count": null,
   "id": "01730414",
   "metadata": {},
   "outputs": [],
   "source": [
    "class Solution:\n",
    "    def bagOfTokensScore(self, tokens, P):\n",
    "        \"\"\"\n",
    "        :type tokens: List[int]\n",
    "        :type P: int\n",
    "        :rtype: int\n",
    "        \"\"\"\n",
    "        tokens.sort()\n",
    "        l, r, score = 0, len(tokens) - 1, 0\n",
    "        while l <= r:\n",
    "            if P >= tokens[l]:\n",
    "                P -= tokens[l]\n",
    "                score += 1\n",
    "                l += 1\n",
    "            elif score and l != r:\n",
    "                P += tokens[r]\n",
    "                score -= 1\n",
    "                r -= 1\n",
    "            else:\n",
    "                break\n",
    "        return score"
   ]
  },
  {
   "cell_type": "markdown",
   "id": "24343c66",
   "metadata": {},
   "source": [
    "# 0949 Medium 949 Largest Time for Given Digits"
   ]
  },
  {
   "cell_type": "code",
   "execution_count": null,
   "id": "1459c5a1",
   "metadata": {},
   "outputs": [],
   "source": [
    "# Time:  O(1)\n",
    "# Space: O(1)\n",
    "\n",
    "import itertools\n",
    "\n",
    "\n",
    "class Solution(object):\n",
    "    def largestTimeFromDigits(self, A):\n",
    "        \"\"\"\n",
    "        :type A: List[int]\n",
    "        :rtype: str\n",
    "        \"\"\"\n",
    "        result = \"\"\n",
    "        for i in xrange(len(A)):\n",
    "            A[i] *= -1\n",
    "        A.sort()\n",
    "        for h1, h2, m1, m2 in itertools.permutations(A):\n",
    "            hours = -(10*h1 + h2)\n",
    "            mins = -(10*m1 + m2)\n",
    "            if 0 <= hours < 24 and 0 <= mins < 60:\n",
    "                result = \"{:02}:{:02}\".format(hours, mins)\n",
    "                break\n",
    "        return result\n",
    " "
   ]
  },
  {
   "cell_type": "markdown",
   "id": "fd472e79",
   "metadata": {},
   "source": [
    "# 0949 Medium 949 Largest Time for Given Digits"
   ]
  },
  {
   "cell_type": "code",
   "execution_count": null,
   "id": "07191179",
   "metadata": {},
   "outputs": [],
   "source": [
    "class Solution:\n",
    "    def largestTimeFromDigits(self, A):\n",
    "        h = m = -float(\"inf\")\n",
    "        for n1, n2, n3, n4 in itertools.permutations(A):\n",
    "            hh, mm = n1 * 10 + n2, n3 * 10 + n4\n",
    "            if 0 <= hh <= 23 and 0 <= mm <= 59 and (hh > h or hh == h and mm > m):\n",
    "                h, m = hh, mm\n",
    "        sh = str(h) if h > 9 else \"0\" + str(h)\n",
    "        sm = str(m) if m > 9 else \"0\" + str(m)\n",
    "        return 0 <= h <= 23 and 0 <= m <= 59 and sh + \":\" + sm or \"\""
   ]
  }
 ],
 "metadata": {},
 "nbformat": 4,
 "nbformat_minor": 5
}
