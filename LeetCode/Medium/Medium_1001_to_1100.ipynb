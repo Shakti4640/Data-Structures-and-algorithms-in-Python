{
 "cells": [
  {
   "cell_type": "markdown",
   "id": "a45d3d0a",
   "metadata": {},
   "source": [
    "# 0763 Medium 763 Partition Labels"
   ]
  },
  {
   "cell_type": "code",
   "execution_count": null,
   "id": "599901bd",
   "metadata": {},
   "outputs": [],
   "source": [
    "\"\"\"\n",
    "1. Find each char's ranges. Store into `charRange`.\n",
    "2. Merge the ranges. Store into `r`.\n",
    "3. Change the `r` format.\n",
    "\n",
    "For example:\n",
    "The input is \"ababcbacadefegdehijhklij\"\n",
    "charRange will be: `{'a': [0, 8], 'c': [4, 7], 'b': [1, 5], 'e': [10, 15], 'd': [9, 14], 'g': [13, 13], 'f': [11, 11], 'i': [17, 22], 'h': [16, 19], 'k': [20, 20], 'j': [18, 23], 'l': [21, 21]}`\n",
    "After merging above the range should be `[[0, 8], [9, 15], [16, 23]]`. And store it in `r`: `[8, 15, 23]`.\n",
    "`ans` will be `[9,7,8]`\n",
    "\"\"\"\n",
    "class Solution(object):\n",
    "    def partitionLabels(self, s):\n",
    "        charRange = {}\n",
    "        r = []\n",
    "        \n",
    "        for i, c in enumerate(s):\n",
    "            if c not in charRange:\n",
    "                charRange[c] = [i, i]\n",
    "            else:\n",
    "                charRange[c][1] = i\n",
    "        \n",
    "        for i, c in enumerate(s):\n",
    "            if i==0 or charRange[c][0]>r[-1]:\n",
    "                r.append(charRange[c][1])\n",
    "            else:\n",
    "                r[-1] = max(r[-1], charRange[c][1])\n",
    "        \n",
    "        ans = []\n",
    "        for i in xrange(len(r)):\n",
    "            if i==0:\n",
    "                ans.append(r[i]+1)\n",
    "            else:\n",
    "                ans.append(r[i]-r[i-1])\n",
    "        return ans\n",
    "\n",
    "\"\"\"\n",
    "This offical answer is even cleaner.\n",
    "\"\"\"\n",
    "class Solution(object):\n",
    "    def partitionLabels(self, s):\n",
    "        lastSeen = {}\n",
    "        for i, c in enumerate(s): lastSeen[c] = i\n",
    "        \n",
    "        ans = []\n",
    "        start = end = 0\n",
    "        for i, c in enumerate(s):\n",
    "            end = max(end, lastSeen[c])\n",
    "            if i==end:\n",
    "                ans.append(end-start+1)\n",
    "                start = i+1\n",
    "        return ans"
   ]
  },
  {
   "cell_type": "markdown",
   "id": "b1fb8d67",
   "metadata": {},
   "source": [
    "# 0763 Medium 763 Partition Labels"
   ]
  },
  {
   "cell_type": "code",
   "execution_count": null,
   "id": "f9b089b7",
   "metadata": {},
   "outputs": [],
   "source": [
    "class Solution:\n",
    "    def partitionLabels(self, S):\n",
    "        \"\"\"\n",
    "        :type S: str\n",
    "        :rtype: List[int]\n",
    "        \"\"\"\n",
    "        sizes = []\n",
    "        while S:\n",
    "            i = 1\n",
    "            while set(S[:i]) & set(S[i:]):\n",
    "                i += 1\n",
    "            sizes.append(i)\n",
    "            S = S[i:]\n",
    "        return sizes"
   ]
  },
  {
   "cell_type": "markdown",
   "id": "c54220ea",
   "metadata": {},
   "source": [
    "# 0764 Medium 764 Largest Plus Sign"
   ]
  },
  {
   "cell_type": "code",
   "execution_count": null,
   "id": "63c8f926",
   "metadata": {},
   "outputs": [],
   "source": [
    "# Time:  O(n^2)\n",
    "# Space: O(n^2)\n",
    "\n",
    "class Solution(object):\n",
    "    def orderOfLargestPlusSign(self, N, mines):\n",
    "        \"\"\"\n",
    "        :type N: int\n",
    "        :type mines: List[List[int]]\n",
    "        :rtype: int\n",
    "        \"\"\"\n",
    "        lookup = {tuple(mine) for mine in mines}\n",
    "        dp = [[0] * N for _ in xrange(N)]\n",
    "        result = 0\n",
    "        for i in xrange(N):\n",
    "            l = 0\n",
    "            for j in xrange(N):\n",
    "                l = 0 if (i, j) in lookup else l+1\n",
    "                dp[i][j] = l\n",
    "            l = 0\n",
    "            for j in reversed(xrange(N)):\n",
    "                l = 0 if (i, j) in lookup else l+1\n",
    "                dp[i][j] = min(dp[i][j], l)\n",
    "\n",
    "        for j in xrange(N):\n",
    "            l = 0\n",
    "            for i in xrange(N):\n",
    "                l = 0 if (i, j) in lookup else l+1\n",
    "                dp[i][j] = min(dp[i][j], l)\n",
    "            l = 0\n",
    "            for i in reversed(xrange(N)):\n",
    "                l = 0 if (i, j) in lookup else l+1\n",
    "                dp[i][j] = min(dp[i][j], l)\n",
    "                result = max(result, dp[i][j])\n",
    "        return result"
   ]
  },
  {
   "cell_type": "markdown",
   "id": "d3994546",
   "metadata": {},
   "source": [
    "# 0764 Medium 764 Largest Plus Sign"
   ]
  },
  {
   "cell_type": "code",
   "execution_count": null,
   "id": "e06a0295",
   "metadata": {},
   "outputs": [],
   "source": [
    "class Solution:\n",
    "    def orderOfLargestPlusSign(self, N, mines):\n",
    "        #up, left, down, right\n",
    "        dp, res, mines = [[[0, 0, 0, 0] for j in range(N)] for i in range(N)], 0, {(i, j) for i, j in mines}\n",
    "        for i in range(N):\n",
    "            for j in range(N):\n",
    "                if (i, j) not in mines:\n",
    "                    try:\n",
    "                        dp[i][j][0] = dp[i - 1][j][0] + 1\n",
    "                    except:\n",
    "                        dp[i][j][0] = 1\n",
    "                    try:\n",
    "                        dp[i][j][1] = dp[i][j - 1][1] + 1\n",
    "                    except:\n",
    "                        dp[i][j][1] = 1\n",
    "        for i in range(N - 1, -1, -1):\n",
    "            for j in range(N - 1, -1, -1):\n",
    "                if (i, j) not in mines:\n",
    "                    try:\n",
    "                        dp[i][j][2] = dp[i + 1][j][2] + 1\n",
    "                    except:\n",
    "                        dp[i][j][2] = 1\n",
    "                    try:\n",
    "                        dp[i][j][3] = dp[i][j + 1][3] + 1\n",
    "                    except:\n",
    "                        dp[i][j][3] = 1\n",
    "                    res = max(res, min(dp[i][j]))\n",
    "        return res"
   ]
  },
  {
   "cell_type": "markdown",
   "id": "c8f258d0",
   "metadata": {},
   "source": [
    "# 0767 Medium 767 Reorganize String"
   ]
  },
  {
   "cell_type": "code",
   "execution_count": null,
   "id": "2d7c6390",
   "metadata": {},
   "outputs": [],
   "source": [
    "# Time:  O(nloga) = O(n), a is the size of alphabet\n",
    "# Space: O(a) = O(1)\n",
    "\n",
    "import collections\n",
    "import heapq\n",
    "\n",
    "\n",
    "class Solution(object):\n",
    "    def reorganizeString(self, S):\n",
    "        \"\"\"\n",
    "        :type S: str\n",
    "        :rtype: str\n",
    "        \"\"\"\n",
    "        counts = collections.Counter(S)\n",
    "        if any(v > (len(S)+1)/2 for k, v in counts.iteritems()):\n",
    "            return \"\"\n",
    "\n",
    "        result = []\n",
    "        max_heap = []\n",
    "        for k, v in counts.iteritems():\n",
    "            heapq.heappush(max_heap, (-v, k))\n",
    "        while len(max_heap) > 1:\n",
    "            count1, c1 = heapq.heappop(max_heap)\n",
    "            count2, c2 = heapq.heappop(max_heap)\n",
    "            if not result or c1 != result[-1]:\n",
    "                result.extend([c1, c2])\n",
    "                if count1+1: heapq.heappush(max_heap, (count1+1, c1))\n",
    "                if count2+1: heapq.heappush(max_heap, (count2+1, c2))\n",
    "        return \"\".join(result) + (max_heap[0][1] if max_heap else '')"
   ]
  },
  {
   "cell_type": "markdown",
   "id": "bd1acc28",
   "metadata": {},
   "source": [
    "# 0767 Medium 767 Reorganize String"
   ]
  },
  {
   "cell_type": "code",
   "execution_count": null,
   "id": "66e8578e",
   "metadata": {},
   "outputs": [],
   "source": [
    "class Solution:\n",
    "    def reorganizeString(self, S):\n",
    "        cnt, res = collections.Counter(S), \"\"\n",
    "        while len(res) < len(S):\n",
    "            c, i = cnt.most_common()[0], 0\n",
    "            while i + 1 < len(cnt) and (res and res[-1] == c[0] or cnt[c[0]] == 0): c, i = cnt.most_common()[i + 1], i + 1\n",
    "            if not cnt[c[0]] or res and res[-1] == c[0]: return \"\"\n",
    "            else: res, cnt[c[0]] = res + c[0], cnt[c[0]] - 1\n",
    "        return res"
   ]
  },
  {
   "cell_type": "markdown",
   "id": "c8d34854",
   "metadata": {},
   "source": [
    "# 0769 Medium 769 Max Chunks To Make Sorted"
   ]
  },
  {
   "cell_type": "code",
   "execution_count": null,
   "id": "84926e1d",
   "metadata": {},
   "outputs": [],
   "source": [
    "# Time:  O(n)\n",
    "# Space: O(1)\n",
    "\n",
    "class Solution(object):\n",
    "    def maxChunksToSorted(self, arr):\n",
    "        \"\"\"\n",
    "        :type arr: List[int]\n",
    "        :rtype: int\n",
    "        \"\"\"\n",
    "        result, max_i = 0, 0\n",
    "        for i, v in enumerate(arr):\n",
    "            max_i = max(max_i, v)\n",
    "            if max_i == i:\n",
    "                result += 1\n",
    "        return result\n",
    "\n",
    "    \n",
    "# Time:  O(n)\n",
    "# Space: O(n)\n",
    "# mono stack solution\n",
    "class Solution2(object):\n",
    "    def maxChunksToSorted(self, arr):\n",
    "        \"\"\"\n",
    "        :type arr: List[int]\n",
    "        :rtype: int\n",
    "        \"\"\"\n",
    "        result, increasing_stk = 0, []\n",
    "        for num in arr:\n",
    "            max_num = num if not increasing_stk else max(increasing_stk[-1], num)\n",
    "            while increasing_stk and increasing_stk[-1] > num:\n",
    "                increasing_stk.pop()\n",
    "            increasing_stk.append(max_num)\n",
    "        return len(increasing_stk)"
   ]
  },
  {
   "cell_type": "markdown",
   "id": "f2e75369",
   "metadata": {},
   "source": [
    "# 0769 Medium 769 Max Chunks To Make Sorted"
   ]
  },
  {
   "cell_type": "code",
   "execution_count": null,
   "id": "323d9c20",
   "metadata": {},
   "outputs": [],
   "source": [
    "class Solution:\n",
    "    def maxChunksToSorted(self, arr):\n",
    "        \"\"\"\n",
    "        :type arr: List[int]\n",
    "        :rtype: int\n",
    "        \"\"\"\n",
    "        max_seen, total_seen, res_count = 0, 0, 0\n",
    "        for num in arr:\n",
    "            max_seen = max(max_seen, num)\n",
    "            total_seen += 1\n",
    "            if max_seen == total_seen - 1:\n",
    "                res_count += 1\n",
    "        return res_count"
   ]
  },
  {
   "cell_type": "markdown",
   "id": "e9ef1c12",
   "metadata": {},
   "source": [
    "# 0775 Medium 775 Global and Local Inversions"
   ]
  },
  {
   "cell_type": "code",
   "execution_count": null,
   "id": "b1d93874",
   "metadata": {},
   "outputs": [],
   "source": [
    "# Time:  O(n)\n",
    "# Space: O(1)\n",
    "\n",
    "class Solution(object):\n",
    "    def isIdealPermutation(self, A):\n",
    "        \"\"\"\n",
    "        :type A: List[int]\n",
    "        :rtype: bool\n",
    "        \"\"\"\n",
    "        return all(abs(v-i) <= 1 for i,v in enumerate(A))"
   ]
  },
  {
   "cell_type": "markdown",
   "id": "5468c6c0",
   "metadata": {},
   "source": [
    "# 0775 Medium 775 Global and Local Inversions"
   ]
  },
  {
   "cell_type": "code",
   "execution_count": null,
   "id": "adc9799e",
   "metadata": {},
   "outputs": [],
   "source": [
    "class Solution:\n",
    "    def isIdealPermutation(self, A):\n",
    "        for i, num in enumerate(A):\n",
    "            if not (i - 1 <= num <= i + 1): return False\n",
    "        return True"
   ]
  },
  {
   "cell_type": "markdown",
   "id": "8bf099b6",
   "metadata": {},
   "source": [
    "# 0776 Medium 776 Split BST"
   ]
  },
  {
   "cell_type": "code",
   "execution_count": null,
   "id": "394fb268",
   "metadata": {},
   "outputs": [],
   "source": [
    "# Time:  O(n)\n",
    "# Space: O(h)\n",
    "\n",
    "class Solution(object):\n",
    "    def splitBST(self, root, V):\n",
    "        \"\"\"\n",
    "        :type root: TreeNode\n",
    "        :type V: int\n",
    "        :rtype: List[TreeNode]\n",
    "        \"\"\"\n",
    "        if not root:\n",
    "            return None, None\n",
    "        elif root.val <= V:\n",
    "            result = self.splitBST(root.right, V)\n",
    "            root.right = result[0]\n",
    "            return root, result[1]\n",
    "        else:\n",
    "            result = self.splitBST(root.left, V)\n",
    "            root.left = result[1]\n",
    "            return result[0], root"
   ]
  },
  {
   "cell_type": "markdown",
   "id": "469221c8",
   "metadata": {},
   "source": [
    "# 0776 Medium 776 Split BST"
   ]
  },
  {
   "cell_type": "code",
   "execution_count": null,
   "id": "a446e36b",
   "metadata": {},
   "outputs": [],
   "source": [
    "class Solution:\n",
    "    def splitBST(self, root, V):\n",
    "        if not root:\n",
    "            return [None, None]\n",
    "        if root.val == V:\n",
    "            a = root.right\n",
    "            root.right = None\n",
    "            return [root, a]\n",
    "        elif root.val < V:\n",
    "            small, large = self.splitBST(root.right, V)\n",
    "            root.right = small\n",
    "            return [root, large]\n",
    "        else:\n",
    "            small, large = self.splitBST(root.left, V)\n",
    "            root.left = large\n",
    "            return [small, root]"
   ]
  },
  {
   "cell_type": "markdown",
   "id": "62d8cff1",
   "metadata": {},
   "source": [
    "# 0777 Medium 777 Swap Adjacent in LR String"
   ]
  },
  {
   "cell_type": "code",
   "execution_count": null,
   "id": "0c8c6274",
   "metadata": {},
   "outputs": [],
   "source": [
    "class Solution(object):\n",
    "    def canTransform(self, start, end):\n",
    "        if len(start)!=len(end): return False\n",
    "        if start.replace('X', '')!=end.replace('X', ''): return False\n",
    "        \n",
    "        startLIndex = [i for i, c in enumerate(start) if c=='L']\n",
    "        endLIndex = [i for i, c in enumerate(end) if c=='L']\n",
    "        for i in xrange(len(startLIndex)):\n",
    "            if startLIndex[i]<endLIndex[i]:\n",
    "                return False\n",
    "        \n",
    "        startRIndex = [i for i, c in enumerate(start) if c=='R']\n",
    "        endRIndex = [i for i, c in enumerate(end) if c=='R']\n",
    "        for i in xrange(len(startRIndex)):\n",
    "            if startRIndex[i]>endRIndex[i]:\n",
    "                return False\n",
    "        \n",
    "        return True"
   ]
  },
  {
   "cell_type": "markdown",
   "id": "7bfedaaa",
   "metadata": {},
   "source": [
    "# 0777 Medium 777 Swap Adjacent in LR String"
   ]
  },
  {
   "cell_type": "code",
   "execution_count": null,
   "id": "04bcded4",
   "metadata": {},
   "outputs": [],
   "source": [
    "class Solution:\n",
    "    def canTransform(self, start, end):\n",
    "        s, e = collections.defaultdict(list), collections.defaultdict(list)\n",
    "        newS, newE = [c for c in start if c != \"X\"], [c for c in end if c != \"X\"]\n",
    "        for i in range(len(start)):\n",
    "            if start[i] != \"X\":\n",
    "                s[start[i]].append(i)\n",
    "            if end[i] != \"X\":\n",
    "                e[end[i]].append(i)\n",
    "        if newS == newE and len(s[\"L\"]) == len(e[\"L\"]) and len(s[\"R\"]) == len(e[\"R\"]):\n",
    "            if all(s[\"R\"][i] <= e[\"R\"][i] for i in range(len(s[\"R\"]))) and all(s[\"L\"][i] >= e[\"L\"][i] for i in range(len(s[\"L\"]))):\n",
    "                return True\n",
    "        return False"
   ]
  },
  {
   "cell_type": "markdown",
   "id": "dcba5fb3",
   "metadata": {},
   "source": [
    "# 0779 Medium 779 K th Symbol in Grammar"
   ]
  },
  {
   "cell_type": "code",
   "execution_count": null,
   "id": "c8b55616",
   "metadata": {},
   "outputs": [],
   "source": [
    "class Solution:\n",
    "    def kthGrammar(self, N: int, K: int) -> int:\n",
    "        return N > 1 and self.kthGrammar(N - 1, (K + 1) // 2) ^ ((K -1) % 2) or 0"
   ]
  },
  {
   "cell_type": "markdown",
   "id": "2cab8266",
   "metadata": {},
   "source": [
    "# 0781 Medium 781 Rabbits in Forest"
   ]
  },
  {
   "cell_type": "code",
   "execution_count": null,
   "id": "d98b39b9",
   "metadata": {},
   "outputs": [],
   "source": [
    "# Time:  O(n)\n",
    "# Space: O(n)\n",
    "\n",
    "import collections\n",
    "\n",
    "\n",
    "class Solution(object):\n",
    "    def numRabbits(self, answers):\n",
    "        \"\"\"\n",
    "        :type answers: List[int]\n",
    "        :rtype: int\n",
    "        \"\"\"\n",
    "        count = collections.Counter(answers)\n",
    "        return sum((((k+1)+v-1)//(k+1))*(k+1) for k, v in count.iteritems())"
   ]
  },
  {
   "cell_type": "markdown",
   "id": "ee86aa61",
   "metadata": {},
   "source": [
    "# 0781 Medium 781 Rabbits in Forest"
   ]
  },
  {
   "cell_type": "code",
   "execution_count": null,
   "id": "1004aa0c",
   "metadata": {},
   "outputs": [],
   "source": [
    "class Solution:\n",
    "    def numRabbits(self, answers):\n",
    "        dic, res = {}, 0\n",
    "        for ans in answers:\n",
    "            (dic[ans], res) = (1, res + ans + 1) if ans not in dic or dic[ans] > ans else (dic[ans] + 1, res)\n",
    "        return res"
   ]
  },
  {
   "cell_type": "markdown",
   "id": "e4f9256a",
   "metadata": {},
   "source": [
    "# 0784 Medium 784 Letter Case Permutation"
   ]
  },
  {
   "cell_type": "code",
   "execution_count": null,
   "id": "2d08de59",
   "metadata": {},
   "outputs": [],
   "source": [
    "\"\"\"\n",
    "For each character in the `S` (if it is not a number), it has 2 possibilities, upper or lower.\n",
    "So starting from an empty string\n",
    "We explore all the possibilities for the character at index i is upper or lower.\n",
    "\n",
    "The time complexity is `O(2^N)`.\n",
    "The space took `O(2^N), too. And the recursion level has N level.\n",
    "\"\"\"\n",
    "class Solution(object):\n",
    "    def letterCasePermutation(self, S):\n",
    "        def dfs(path, i):\n",
    "            if i>=len(S):\n",
    "                opt.append(path)\n",
    "                return\n",
    "            if S[i] not in num_char:\n",
    "                dfs(path+S[i].upper(), i+1)\n",
    "                dfs(path+S[i].lower(), i+1)\n",
    "            else:\n",
    "                dfs(path+S[i], i+1)\n",
    "\n",
    "        num_char = set(['0', '1', '2', '3', '4', '5', '6', '7', '8', '9'])\n",
    "        opt = []\n",
    "        dfs('', 0)\n",
    "        return opt"
   ]
  },
  {
   "cell_type": "markdown",
   "id": "d74460c6",
   "metadata": {},
   "source": [
    "# 0784 Medium 784 Letter Case Permutation"
   ]
  },
  {
   "cell_type": "code",
   "execution_count": null,
   "id": "dc516cad",
   "metadata": {},
   "outputs": [],
   "source": [
    "class Solution(object):\n",
    "    # def letterCasePermutation(self, S):\n",
    "    #     ans = [[]]\n",
    "\n",
    "    #     for char in S:\n",
    "    #         n = len(ans)\n",
    "    #         if char.isalpha():\n",
    "    #             # Double the ans\n",
    "    #             for i in xrange(n):\n",
    "    #                 ans.append(ans[i][:])\n",
    "    #                 ans[i].append(char.lower())\n",
    "    #                 ans[n + i].append(char.upper())\n",
    "    #         else:\n",
    "    #             # Normal append\n",
    "    #             for i in xrange(n):\n",
    "    #                 ans[i].append(char)\n",
    "\n",
    "    #     return map(\"\".join, ans)\n",
    "\n",
    "    def letterCasePermutation(self, S):\n",
    "        B = sum(letter.isalpha() for letter in S)\n",
    "        ans = []\n",
    "\n",
    "        for bits in xrange(1 << B):\n",
    "            b = 0\n",
    "            word = []\n",
    "            for letter in S:\n",
    "                if letter.isalpha():\n",
    "                    if (bits >> b) & 1:\n",
    "                        word.append(letter.lower())\n",
    "                    else:\n",
    "                        word.append(letter.upper())\n",
    "\n",
    "                    b += 1\n",
    "                else:\n",
    "                    word.append(letter)\n",
    "\n",
    "            ans.append(\"\".join(word))\n",
    "        return ans"
   ]
  },
  {
   "cell_type": "markdown",
   "id": "6f9ba710",
   "metadata": {},
   "source": [
    "# 0784 Medium 784 Letter Case Permutation"
   ]
  },
  {
   "cell_type": "code",
   "execution_count": null,
   "id": "8b289881",
   "metadata": {},
   "outputs": [],
   "source": [
    "class Solution:\n",
    "    def letterCasePermutation(self, S: str) -> List[str]:\n",
    "        bfs = ['']\n",
    "        for c in S:\n",
    "            if c.isdigit():\n",
    "                bfs = [s + c for s in bfs]\n",
    "            else:\n",
    "                bfs = [s + c.lower() for s in bfs] + [s + c.upper() for s in bfs]\n",
    "        return bfs"
   ]
  },
  {
   "cell_type": "markdown",
   "id": "639fc630",
   "metadata": {},
   "source": [
    "# 0785 Medium 785 Is Graph Bipartite"
   ]
  },
  {
   "cell_type": "code",
   "execution_count": null,
   "id": "5d67cc83",
   "metadata": {},
   "outputs": [],
   "source": [
    "class Solution:\n",
    "    def isBipartite(self, graph):\n",
    "        side = [0] * len(graph)\n",
    "        def dfs(node):\n",
    "            for v in graph[node]:\n",
    "                if side[v] == 0: \n",
    "                    side[v] = -side[node]\n",
    "                    if not dfs(v): return False\n",
    "                elif side[v] == side[node]: return False\n",
    "            return True\n",
    "        for i in range(len(graph)):\n",
    "            if side[i] == 0: \n",
    "                side[i] = 1\n",
    "            if not dfs(i): return False\n",
    "        return True"
   ]
  },
  {
   "cell_type": "markdown",
   "id": "ef2fd5f4",
   "metadata": {},
   "source": [
    "# 0786 Medium 786 K th Smallest Prime Fraction"
   ]
  },
  {
   "cell_type": "code",
   "execution_count": null,
   "id": "bb777d1b",
   "metadata": {},
   "outputs": [],
   "source": [
    "class Solution:\n",
    "    def kthSmallestPrimeFraction(self, A, K):\n",
    "        heap, used = [(A[0] / A[-1], 0, len(A) - 1)], {(0, len(A) - 1)}\n",
    "        for i in range(K):\n",
    "            try:\n",
    "                cur, l, r = heapq.heappop(heap)\n",
    "                used.add((l, r))\n",
    "                if (l + 1, r) not in used:\n",
    "                    heapq.heappush(heap, (A[l + 1] / A[r], l + 1, r))\n",
    "                    used.add((l + 1, r))\n",
    "                if (l, r - 1) not in used:\n",
    "                    heapq.heappush(heap, (A[l] / A[r - 1], l, r - 1))\n",
    "                    used.add((l, r - 1))\n",
    "            except:\n",
    "                break\n",
    "        return [A[l], A[r]]"
   ]
  },
  {
   "cell_type": "markdown",
   "id": "e83f3a0a",
   "metadata": {},
   "source": [
    "# 0787 Medium 787 Cheapest Flights Within K Stops"
   ]
  },
  {
   "cell_type": "code",
   "execution_count": null,
   "id": "75c70795",
   "metadata": {},
   "outputs": [],
   "source": [
    "import heapq\n",
    "import collections\n",
    "\n",
    "\"\"\"\n",
    "We start from src and only got K+1 stops to use\n",
    "Each time, we choose the cheapest place to go.\n",
    "\n",
    "If the city we popout is dst, then the price must be lowest\n",
    "Since we always pick the lowest place to go.\n",
    "\n",
    "If we still have stops left (stops>1), we put its neighbor to the priority queue.\n",
    "So the city in the priority queue must be within the stops limit.\n",
    "\n",
    "Making the graph takes O(E)\n",
    "The size of priority queue is O(V), since we might put all the cities in it.\n",
    "So for every pop, it is O(LogV). Total is O(VLogV).\n",
    "For every edge we call an heappush, so that is ELogV\n",
    "O(E+ (V+E)LogV) -> O((V+E)LogV)\n",
    "V is the number of cities within range K stops.\n",
    "\"\"\"\n",
    "#Dijkstra\n",
    "class Solution1(object):\n",
    "\tdef findCheapestPrice(self, n, flights, src, dst, K):\n",
    "\t\tgraph = collections.defaultdict(list)\n",
    "\t\tpq = []\n",
    "\t\tvisited = set()\n",
    "\n",
    "\t\tfor u, v, w in flights: graph[u].append((w, v))\n",
    "\n",
    "\t\theapq.heappush(pq, (0, K+1, src))\n",
    "\t\twhile pq:\n",
    "\t\t\tprice, stops, city = heapq.heappop(pq)\n",
    "\t\t\tvisited.add(city)\n",
    "\n",
    "\t\t\tif city is dst: return price\n",
    "\t\t\tif stops>0:\n",
    "\t\t\t\tfor price_to_nei, nei in graph[city]:\n",
    "\t\t\t\t\tif nei in visited: continue\n",
    "\t\t\t\t\theapq.heappush(pq, (price+price_to_nei, stops-1, nei))\n",
    "\t\treturn -1\n",
    "\n",
    "\"\"\"\n",
    "This is mostly straight forward BFS.\n",
    "When we are out of stops, or price is greater than min_price, we stop adding cities to the queue.\n",
    "Every time we encounter dst we compare the price and set it to the min.\n",
    "\n",
    "Making the graph takes O(E)\n",
    "BFS every node in adjacent list takes O(V+E)\n",
    "V is the number of cities within range K stops.\n",
    "\"\"\"\n",
    "#BFS\n",
    "class Solution2(object):\n",
    "\tdef findCheapestPrice(self, n, flights, src, dst, K):\n",
    "\t\tgraph = collections.defaultdict(list)\n",
    "\t\tq = collections.deque()\n",
    "\t\tmin_price = float('inf')\n",
    "\n",
    "\t\tfor u, v, w in flights: graph[u].append((w, v))\n",
    "\t\tq.append((src, 0, 0))\n",
    "\t\twhile q:\n",
    "\t\t\tcity, stops, price = q.popleft()\n",
    "\t\t\tif city==dst:\n",
    "\t\t\t\tmin_price = min(min_price, price)\n",
    "\t\t\t\tcontinue\n",
    "\n",
    "\t\t\tif stops<=K and price<=min_price:\n",
    "\t\t\t\tfor price_to_nei, nei in graph[city]:\n",
    "\t\t\t\t\tq.append((nei, stops+1, price+price_to_nei))\n",
    "\n",
    "\t\treturn min_price if min_price!=float('inf') else -1\n",
    "\n",
    "\n",
    "\"\"\"\n",
    "Standard Dijkstra, except this time instead of only explore the ones with least price\n",
    "We also need to explore the ones with less steps. So add stepFromSrc to check.\n",
    "\n",
    "Time: O(ELogE), since there will be at most E edges that get pushed into the heap.\n",
    "Space: O(E)\n",
    "\"\"\"\n",
    "class Solution(object):\n",
    "    def findCheapestPrice(self, n, flights, src, dst, K):\n",
    "        priceFromSrc = {}\n",
    "        stepFromSrc = {}\n",
    "        h = [(0, 0, src)]\n",
    "        G = collections.defaultdict(list)\n",
    "        \n",
    "        #build graph\n",
    "        for s, d, p in flights:\n",
    "            G[s].append((d, p))\n",
    "        \n",
    "        #dijkstra\n",
    "        while h:\n",
    "            price, k, node = heapq.heappop(h)\n",
    "            \n",
    "            if node==dst: return price\n",
    "            if k>K: continue\n",
    "            \n",
    "            for nei, price2 in G[node]:\n",
    "\t\t\t\t#explore next destination with less price or less steps\n",
    "                if nei not in priceFromSrc or price+price2<=priceFromSrc[nei] or k<stepFromSrc[nei]:\n",
    "                    priceFromSrc[nei] = price+price2\n",
    "                    stepFromSrc[nei] = k\n",
    "                    heapq.heappush(h, (price+price2, k+1, nei))\n",
    "                    \n",
    "        return -1"
   ]
  },
  {
   "cell_type": "markdown",
   "id": "d6afc83b",
   "metadata": {},
   "source": [
    "# 0787 Medium 787 Cheapest Flights Within K Stops"
   ]
  },
  {
   "cell_type": "code",
   "execution_count": null,
   "id": "e6266bac",
   "metadata": {},
   "outputs": [],
   "source": [
    "class Solution:\n",
    "    def findCheapestPrice(self, n, flights, src, dst, K):\n",
    "        flight = collections.defaultdict(list)\n",
    "        for s, e, p in flights:\n",
    "            flight[s].append((e, p))\n",
    "        heap = [(0, src, K + 1)]\n",
    "        while heap:\n",
    "            price, city, stop = heapq.heappop(heap)\n",
    "            if city == dst:\n",
    "                return price\n",
    "            elif stop > 0:\n",
    "                for c, p in flight[city]:\n",
    "                    heapq.heappush(heap, (price + p, c, stop - 1))\n",
    "        return -1"
   ]
  },
  {
   "cell_type": "markdown",
   "id": "b7ff9298",
   "metadata": {},
   "source": [
    "# 0788 Medium 788 Rotated Digits"
   ]
  },
  {
   "cell_type": "code",
   "execution_count": null,
   "id": "dedbe09f",
   "metadata": {},
   "outputs": [],
   "source": [
    "# Time:  O(logn)\n",
    "# Space: O(logn)\n",
    "\n",
    "class Solution(object):\n",
    "    def rotatedDigits(self, N):\n",
    "        \"\"\"\n",
    "        :type N: int\n",
    "        :rtype: int\n",
    "        \"\"\"\n",
    "        A = map(int, str(N))\n",
    "        invalid, diff = set([3, 4, 7]), set([2, 5, 6, 9])\n",
    "        def dp(A, i, is_prefix_equal, is_good, lookup):\n",
    "            if i == len(A): return int(is_good)\n",
    "            if (i, is_prefix_equal, is_good) not in lookup:\n",
    "                result = 0\n",
    "                for d in xrange(A[i]+1 if is_prefix_equal else 10):\n",
    "                    if d in invalid: continue\n",
    "                    result += dp(A, i+1,\n",
    "                                 is_prefix_equal and d == A[i],\n",
    "                                 is_good or d in diff,\n",
    "                                 lookup)\n",
    "                lookup[i, is_prefix_equal, is_good] = result\n",
    "            return lookup[i, is_prefix_equal, is_good]\n",
    "\n",
    "        lookup = {}\n",
    "        return dp(A, 0, True, False, lookup)\n",
    "\n",
    "\n",
    "# Time:  O(n)\n",
    "# Space: O(n)\n",
    "class Solution2(object):\n",
    "    def rotatedDigits(self, N):\n",
    "        \"\"\"\n",
    "        :type N: int\n",
    "        :rtype: int\n",
    "        \"\"\"\n",
    "        INVALID, SAME, DIFF = 0, 1, 2\n",
    "        same, diff = [0, 1, 8], [2, 5, 6, 9]\n",
    "        dp = [0] * (N+1)\n",
    "        dp[0] = SAME\n",
    "        for i in xrange(N//10+1):\n",
    "            if dp[i] != INVALID:\n",
    "                for j in same:\n",
    "                    if i*10+j <= N:\n",
    "                        dp[i*10+j] = max(SAME, dp[i])\n",
    "                for j in diff:\n",
    "                    if i*10+j <= N:\n",
    "                        dp[i*10+j] = DIFF\n",
    "        return dp.count(DIFF)\n",
    "\n",
    "\n",
    "# Time:  O(nlogn) = O(n), because O(logn) = O(32) by this input\n",
    "# Space: O(logn) = O(1)\n",
    "class Solution3(object):\n",
    "    def rotatedDigits(self, N):\n",
    "        \"\"\"\n",
    "        :type N: int\n",
    "        :rtype: int\n",
    "        \"\"\"\n",
    "        invalid, diff = set(['3', '4', '7']), set(['2', '5', '6', '9'])\n",
    "        result = 0\n",
    "        for i in xrange(N+1):\n",
    "            lookup = set(list(str(i)))\n",
    "            if invalid & lookup:\n",
    "                continue\n",
    "            if diff & lookup:\n",
    "                result += 1\n",
    "        return result"
   ]
  },
  {
   "cell_type": "markdown",
   "id": "29558f4a",
   "metadata": {},
   "source": [
    "# 0788 Medium 788 Rotated Digits"
   ]
  },
  {
   "cell_type": "code",
   "execution_count": null,
   "id": "7aa36e1f",
   "metadata": {},
   "outputs": [],
   "source": [
    "class Solution:\n",
    "    def rotatedDigits(self, N):\n",
    "        \"\"\"\n",
    "        :type N: int\n",
    "        :rtype: int\n",
    "        \"\"\"\n",
    "        res = 0\n",
    "        for i in range(1, N + 1):\n",
    "            i = str(i)\n",
    "            tmp = []\n",
    "            check = True\n",
    "            for char in i:\n",
    "                if char in (\"3\", \"4\", \"7\"):\n",
    "                    check = False\n",
    "                    break\n",
    "                if char in (\"0\", \"1\", \"8\"):\n",
    "                    tmp.append(char)\n",
    "                if char == \"2\":\n",
    "                    tmp.append(\"5\")\n",
    "                if char == \"5\":\n",
    "                    tmp.append(\"2\")\n",
    "                if char == \"6\":\n",
    "                    tmp.append(\"9\")\n",
    "                if char == \"9\":\n",
    "                    tmp.append(\"6\")\n",
    "            if check and i != \"\".join(tmp): res += 1\n",
    "        return res"
   ]
  },
  {
   "cell_type": "markdown",
   "id": "0e5d4d6e",
   "metadata": {},
   "source": [
    "# 0789 Medium 789 Escape The Ghosts"
   ]
  },
  {
   "cell_type": "code",
   "execution_count": null,
   "id": "a1e1d0c3",
   "metadata": {},
   "outputs": [],
   "source": [
    "# Time:  O(n)\n",
    "# Space: O(1)\n",
    "\n",
    "class Solution(object):\n",
    "    def escapeGhosts(self, ghosts, target):\n",
    "        \"\"\"\n",
    "        :type ghosts: List[List[int]]\n",
    "        :type target: List[int]\n",
    "        :rtype: bool\n",
    "        \"\"\"\n",
    "        total = abs(target[0])+abs(target[1])\n",
    "        return all(total < abs(target[0]-i)+abs(target[1]-j) for i, j in ghosts)"
   ]
  },
  {
   "cell_type": "markdown",
   "id": "4ea614fa",
   "metadata": {},
   "source": [
    "# 0789 Medium 789 Escape The Ghosts"
   ]
  },
  {
   "cell_type": "code",
   "execution_count": null,
   "id": "1aabdb73",
   "metadata": {},
   "outputs": [],
   "source": [
    "class Solution:\n",
    "    def escapeGhosts(self, ghosts, target):\n",
    "        d = abs(target[0]) + abs(target[1])\n",
    "        for ghost in ghosts:\n",
    "            if abs(ghost[0] - target[0]) + abs(ghost[1] - target[1]) <= d: return False\n",
    "        return True"
   ]
  },
  {
   "cell_type": "markdown",
   "id": "19adb221",
   "metadata": {},
   "source": [
    "# 0790 Medium 790 Domino and Tromino Tiling"
   ]
  },
  {
   "cell_type": "code",
   "execution_count": null,
   "id": "6aa6992a",
   "metadata": {},
   "outputs": [],
   "source": [
    "class Solution(object):\n",
    "    def numTilings(self, N):\n",
    "        H = [[0, 0] for _ in xrange(N+1)]\n",
    "        H[0][0] = 1\n",
    "        H[1][0] = 1\n",
    "        \n",
    "        for i in xrange(2, N+1):\n",
    "            H[i][0] = (H[i-1][0] + H[i-2][0] + H[i-1][1]*2) % 1000000007\n",
    "            H[i][1] = (H[i-2][0] + H[i-1][1]) % 1000000007\n",
    "            \n",
    "        return H[N][0]"
   ]
  },
  {
   "cell_type": "markdown",
   "id": "3361bc48",
   "metadata": {},
   "source": [
    "# 0790 Medium 790 Domino and Tromino Tiling"
   ]
  },
  {
   "cell_type": "code",
   "execution_count": null,
   "id": "59aea206",
   "metadata": {},
   "outputs": [],
   "source": [
    "class Solution:\n",
    "    def numTilings(self, N):\n",
    "        dp = [[0, 0] for _ in range(N + 1)]\n",
    "        dp[0][0] = 1\n",
    "        for i in range(N):\n",
    "            if i + 1 <= N:\n",
    "                dp[i + 1][0] += dp[i][0] + dp[i][1]\n",
    "                dp[i + 1][1] += dp[i][1]\n",
    "            if i + 2 <= N:\n",
    "                dp[i + 2][0] += dp[i][0]\n",
    "                dp[i + 2][1] += 2 * dp[i][0]\n",
    "        return dp[-1][0] % (10 ** 9 + 7)"
   ]
  },
  {
   "cell_type": "markdown",
   "id": "1debea27",
   "metadata": {},
   "source": [
    "# 0791 Medium 791 Custom Sort String"
   ]
  },
  {
   "cell_type": "code",
   "execution_count": null,
   "id": "16bfc41c",
   "metadata": {},
   "outputs": [],
   "source": [
    "\"\"\"\n",
    "Take a look at the char in s.\n",
    "For the char that is in the order, rearrange them to sortedChars with respect to the \"order\".\n",
    "For the char that is in not the order, put them in postString.\n",
    "\"\"\"\n",
    "class Solution(object):\n",
    "    def customSortString(self, order, s):\n",
    "        sortedChars = ''\n",
    "        counter = collections.Counter(s)\n",
    "        for c in order:\n",
    "            if c in order:\n",
    "                sortedChars += c*counter[c]\n",
    "        \n",
    "        orderSet = set(order)\n",
    "        postString = ''\n",
    "        for c in s:\n",
    "            if c not in orderSet:\n",
    "                postString += c\n",
    "        \n",
    "        return sortedChars+postString"
   ]
  },
  {
   "cell_type": "markdown",
   "id": "972eecd1",
   "metadata": {},
   "source": [
    "# 0791 Medium 791 Custom Sort String"
   ]
  },
  {
   "cell_type": "code",
   "execution_count": null,
   "id": "d0de9e7a",
   "metadata": {},
   "outputs": [],
   "source": [
    "class Solution:\n",
    "    def customSortString(self, S, T):\n",
    "        \"\"\"\n",
    "        :type S: str\n",
    "        :type T: str\n",
    "        :rtype: str\n",
    "        \"\"\"\n",
    "        t = set(T)\n",
    "        t2 = set(S)\n",
    "        from collections import Counter as ct\n",
    "        c = ct(T)\n",
    "        s = [char * c[char] for char in S if char in t]\n",
    "        add = [char * c[char] for char in t - t2]\n",
    "        return \"\".join(s + add)"
   ]
  },
  {
   "cell_type": "markdown",
   "id": "7c7e5273",
   "metadata": {},
   "source": [
    "# 0792 Medium 792 Number of Matching Subsequences"
   ]
  },
  {
   "cell_type": "code",
   "execution_count": null,
   "id": "dbbf9906",
   "metadata": {},
   "outputs": [],
   "source": [
    "\"\"\"\n",
    "Time: O(WL x LogS), W is the length of words, L is the length of word.\n",
    "LogS is the time for binary search and S should be the count of repetitive words, we can assume it is Log(S/26) ~= LogS.\n",
    "\n",
    "Space: O(S)\n",
    "\"\"\"\n",
    "class Solution(object):\n",
    "    def numMatchingSubseq(self, s, words):\n",
    "        def match(position, word):\n",
    "            prev = -1\n",
    "            for c in word:\n",
    "                if c not in position: return False\n",
    "                i = bisect.bisect_left(position[c], prev+1)\n",
    "                if i==len(position[c]): return False\n",
    "                prev = position[c][i]\n",
    "            return True\n",
    "        \n",
    "        position = collections.defaultdict(list)\n",
    "        count = 0\n",
    "        for i, c in enumerate(s):\n",
    "            position[c].append(i)\n",
    "        \n",
    "        for word in words:\n",
    "            if match(position, word): count += 1\n",
    "        return count"
   ]
  },
  {
   "cell_type": "markdown",
   "id": "2e4f56a7",
   "metadata": {},
   "source": [
    "# 0792 Medium 792 Number of Matching Subsequences"
   ]
  },
  {
   "cell_type": "code",
   "execution_count": null,
   "id": "c8ee4b64",
   "metadata": {},
   "outputs": [],
   "source": [
    "class Solution:\n",
    "    def numMatchingSubseq(self, S, words):\n",
    "        def check(s, i):\n",
    "            for c in s:\n",
    "                i = S.find(c, i) + 1\n",
    "                if not i: return False\n",
    "            return True\n",
    "        return sum((check(word, 0) for word in words))"
   ]
  },
  {
   "cell_type": "markdown",
   "id": "a4a4b7f9",
   "metadata": {},
   "source": [
    "# 0794 Medium 794 Valid Tic Tac Toe State"
   ]
  },
  {
   "cell_type": "code",
   "execution_count": null,
   "id": "e49c9a0b",
   "metadata": {},
   "outputs": [],
   "source": [
    "class Solution(object):\n",
    "    def check_win_positions(self, board, player):\n",
    "        \"\"\"\n",
    "        Check if the given player has a win position.\n",
    "        Return True if there is a win position. Else return False.\n",
    "        \"\"\"\n",
    "        #Check the rows\n",
    "        for i in range(len(board)):\n",
    "            if board[i][0] == board[i][1] == board[i][2] == player:\n",
    "                return True                        \n",
    "\n",
    "        #Check the columns\n",
    "        for i in range(len(board)):\n",
    "            if board[0][i] == board[1][i] == board[2][i] == player:\n",
    "                return True \n",
    "\t\t\t\t\t\t\t\t\t\t\n",
    "        #Check the diagonals\n",
    "        if board[0][0] == board[1][1] == board[2][2]  == player or \\u005C\n",
    "               board[0][2] == board[1][1] == board[2][0] == player:\n",
    "            return True\n",
    "\t\t\t\t\t\t\n",
    "        return False\n",
    "        \n",
    "    def validTicTacToe(self, board):\n",
    "        \"\"\"\n",
    "        :type board: List[str]\n",
    "        :rtype: bool\n",
    "        \"\"\"\n",
    "        \n",
    "        x_count, o_count = 0, 0\n",
    "        for i in range(len(board)):\n",
    "            for j in range(len(board[0])):\n",
    "                if board[i][j] == \"X\":\n",
    "                    x_count += 1\n",
    "                elif  board[i][j] == \"O\":\n",
    "                    o_count += 1\n",
    "\t\t\t\t\t\t\t\t\t\t\n",
    "        if o_count > x_count or x_count-o_count>1:\n",
    "            return False\n",
    "        \n",
    "        if self.check_win_positions(board, 'O'):\n",
    "            if self.check_win_positions(board, 'X'):\n",
    "                return False\n",
    "            return o_count == x_count\n",
    "        \n",
    "        if self.check_win_positions(board, 'X') and x_count!=o_count+1:\n",
    "            return False\n",
    "\n",
    "        return True"
   ]
  },
  {
   "cell_type": "markdown",
   "id": "b4ce532f",
   "metadata": {},
   "source": [
    "# 0795 Medium 795 Number of Subarrays with Bounded Maximum"
   ]
  },
  {
   "cell_type": "code",
   "execution_count": null,
   "id": "7100abf5",
   "metadata": {},
   "outputs": [],
   "source": [
    "# Time:  O(n)\n",
    "# Space: O(1)\n",
    "\n",
    "class Solution(object):\n",
    "    def numSubarrayBoundedMax(self, A, L, R):\n",
    "        \"\"\"\n",
    "        :type A: List[int]\n",
    "        :type L: int\n",
    "        :type R: int\n",
    "        :rtype: int\n",
    "        \"\"\"\n",
    "        def count(A, bound):\n",
    "            result, curr = 0, 0\n",
    "            for i in A :\n",
    "                curr = curr + 1 if i <= bound else 0\n",
    "                result += curr\n",
    "            return result\n",
    "\n",
    "        return count(A, R) - count(A, L-1)"
   ]
  },
  {
   "cell_type": "markdown",
   "id": "4f372441",
   "metadata": {},
   "source": [
    "# 0795 Medium 795 Number of Subarrays with Bounded Maximum"
   ]
  },
  {
   "cell_type": "code",
   "execution_count": null,
   "id": "17a35f20",
   "metadata": {},
   "outputs": [],
   "source": [
    "class Solution:\n",
    "    def numSubarrayBoundedMax(self, A, L, R):\n",
    "        \"\"\"\n",
    "        :type A: List[int]\n",
    "        :type L: int\n",
    "        :type R: int\n",
    "        :rtype: int\n",
    "        \"\"\"\n",
    "        res, start, diff = 0, -1, 0\n",
    "        for i in range (len(A)):\n",
    "            if L <= A[i] <= R: diff, res = i - start, res + i - start\n",
    "            elif A[i] > R: diff, start = 0, i\n",
    "            else: res += diff\n",
    "        return res"
   ]
  },
  {
   "cell_type": "markdown",
   "id": "8d61cc2a",
   "metadata": {},
   "source": [
    "# 0797 Medium 797 All Paths From Source to Target"
   ]
  },
  {
   "cell_type": "code",
   "execution_count": null,
   "id": "362b3a29",
   "metadata": {},
   "outputs": [],
   "source": [
    "# Time:  O(p + r * n), p is the count of all the possible paths in graph,\n",
    "#                      r is the count of the result.\n",
    "# Space: O(n)\n",
    "\n",
    "class Solution(object):\n",
    "    def allPathsSourceTarget(self, graph):\n",
    "        \"\"\"\n",
    "        :type graph: List[List[int]]\n",
    "        :rtype: List[List[int]]\n",
    "        \"\"\"\n",
    "        def dfs(graph, curr, path, result):\n",
    "            if curr == len(graph)-1:\n",
    "                result.append(path[:])\n",
    "                return\n",
    "            for node in graph[curr]:\n",
    "                path.append(node)\n",
    "                dfs(graph, node, path, result)\n",
    "                path.pop()\n",
    "\n",
    "        result = []\n",
    "        dfs(graph, 0, [0], result)\n",
    "        return result"
   ]
  },
  {
   "cell_type": "markdown",
   "id": "779831b2",
   "metadata": {},
   "source": [
    "# 0797 Medium 797 All Paths From Source to Target"
   ]
  },
  {
   "cell_type": "code",
   "execution_count": null,
   "id": "c3d9664c",
   "metadata": {},
   "outputs": [],
   "source": [
    "class Solution:\n",
    "    def allPathsSourceTarget(self, graph, i = 0, q = [0]):\n",
    "        if i == 0: \n",
    "            global res\n",
    "            res = []\n",
    "        if i == len(graph) - 1: \n",
    "            res.append(q)\n",
    "        for index in graph[i]: \n",
    "            self.allPathsSourceTarget(graph, index, q + [index])\n",
    "        return res"
   ]
  },
  {
   "cell_type": "markdown",
   "id": "e11bb5f4",
   "metadata": {},
   "source": [
    "# 0799 Medium 799 Champagne Tower"
   ]
  },
  {
   "cell_type": "code",
   "execution_count": null,
   "id": "312c27c3",
   "metadata": {},
   "outputs": [],
   "source": [
    "# Time:  O(n^2) = O(1), since n is at most 99\n",
    "# Space: O(n) = O(1)\n",
    "\n",
    "class Solution(object):\n",
    "    def champagneTower(self, poured, query_row, query_glass):\n",
    "        \"\"\"\n",
    "        :type poured: int\n",
    "        :type query_row: int\n",
    "        :type query_glass: int\n",
    "        :rtype: float\n",
    "        \"\"\"\n",
    "        result = [poured] + [0] * query_row\n",
    "        for i in xrange(1, query_row+1):\n",
    "            for j in reversed(xrange(i+1)):\n",
    "                result[j] = max(result[j]-1, 0)/2.0 + \\\n",
    "                            max(result[j-1]-1, 0)/2.0\n",
    "        return min(result[query_glass], 1)"
   ]
  },
  {
   "cell_type": "markdown",
   "id": "10caed75",
   "metadata": {},
   "source": [
    "# 0799 Medium 799 Champagne Tower"
   ]
  },
  {
   "cell_type": "code",
   "execution_count": null,
   "id": "d01e4244",
   "metadata": {},
   "outputs": [],
   "source": [
    "class Solution:\n",
    "    def champagneTower(self, poured, query_row, query_glass):\n",
    "        \"\"\"\n",
    "        :type poured: int\n",
    "        :type query_row: int\n",
    "        :type query_glass: int\n",
    "        :rtype: float\n",
    "        \"\"\"\n",
    "        glasses=[[poured if i==0 and j==0 else 0 for i in range(j+1)] for j in range(query_row+1)]\n",
    "        for i in range(1,len(glasses)):\n",
    "            for j in range(len(glasses[i])):\n",
    "                if j-1>=0 and glasses[i-1][j-1]>1: glasses[i][j]+=(glasses[i-1][j-1]-1)/2\n",
    "                if j<=i-1 and glasses[i-1][j]>1: glasses[i][j]+=(glasses[i-1][j]-1)/2\n",
    "        return glasses[query_row][query_glass] if glasses[query_row][query_glass]<=1 else 1"
   ]
  },
  {
   "cell_type": "markdown",
   "id": "7063c363",
   "metadata": {},
   "source": [
    "# 0802 Medium 802 Find Eventual Safe States"
   ]
  },
  {
   "cell_type": "code",
   "execution_count": null,
   "id": "148858a7",
   "metadata": {},
   "outputs": [],
   "source": [
    "from collections import defaultdict, deque\n",
    "\n",
    "class Solution(object):\n",
    "    def eventualSafeNodes(self, graph):\n",
    "        inbounds = defaultdict(list)\n",
    "        outbondsCounter = defaultdict(int)\n",
    "        q = deque()\n",
    "        ans = []\n",
    "        \n",
    "        for n, nei_list in enumerate(graph):\n",
    "            outbondsCounter[n] = len(nei_list)\n",
    "            for nei in nei_list:\n",
    "                inbounds[nei].append(n)\n",
    "        \n",
    "        for n in outbondsCounter:\n",
    "            if outbondsCounter[n]==0:\n",
    "                q.append(n)\n",
    "        \n",
    "        while q:\n",
    "            n = q.popleft()\n",
    "\n",
    "            for nei in inbounds[n]:\n",
    "                outbondsCounter[nei] -= 1\n",
    "                if outbondsCounter[nei]==0:\n",
    "                    q.append(nei)\n",
    "            \n",
    "            ans.append(n)\n",
    "        \n",
    "        return ans.sort()"
   ]
  },
  {
   "cell_type": "markdown",
   "id": "47242c8d",
   "metadata": {},
   "source": [
    "# 0802 Medium 802 Find Eventual Safe States"
   ]
  },
  {
   "cell_type": "code",
   "execution_count": null,
   "id": "6cea7c30",
   "metadata": {},
   "outputs": [],
   "source": [
    "class Solution:\n",
    "    def eventualSafeNodes(self, graph):\n",
    "        def explore(i):\n",
    "            visited[i] = 0\n",
    "            for v in graph[i]:\n",
    "                if visited[v] == 0 or (visited[v] == -1 and explore(v)): return True\n",
    "            visited[i] = 1\n",
    "            res.append(i)\n",
    "            return False\n",
    "        visited, res = [-1] * len(graph), []\n",
    "        for i in range(len(graph)):\n",
    "            if visited[i] == -1: explore(i)\n",
    "        return sorted(res)"
   ]
  },
  {
   "cell_type": "markdown",
   "id": "0c1a6ce8",
   "metadata": {},
   "source": [
    "# 0807 Medium 807 Max Increase to Keep City Skyline"
   ]
  },
  {
   "cell_type": "code",
   "execution_count": null,
   "id": "2fa048be",
   "metadata": {},
   "outputs": [],
   "source": [
    "# Time:  O(n^2)\n",
    "# Space: O(n)\n",
    "\n",
    "import itertools\n",
    "\n",
    "\n",
    "class Solution(object):\n",
    "    def maxIncreaseKeepingSkyline(self, grid):\n",
    "        \"\"\"\n",
    "        :type grid: List[List[int]]\n",
    "        :rtype: int\n",
    "        \"\"\"\n",
    "        row_maxes = [max(row) for row in grid]\n",
    "        col_maxes = [max(col) for col in itertools.izip(*grid)]\n",
    "\n",
    "        return sum(min(row_maxes[r], col_maxes[c])-val \\\n",
    "                   for r, row in enumerate(grid) \\\n",
    "                   for c, val in enumerate(row))"
   ]
  },
  {
   "cell_type": "markdown",
   "id": "bb2da378",
   "metadata": {},
   "source": [
    "# 0807 Medium 807 Max Increase to Keep City Skyline"
   ]
  },
  {
   "cell_type": "code",
   "execution_count": null,
   "id": "e2e24dd7",
   "metadata": {},
   "outputs": [],
   "source": [
    "class Solution:\n",
    "    def maxIncreaseKeepingSkyline(self, grid):\n",
    "        \"\"\"\n",
    "        :type grid: List[List[int]]\n",
    "        :rtype: int\n",
    "        \"\"\"\n",
    "        n=len(grid)\n",
    "        m=len(grid[0])\n",
    "        mx_i = [max(grid[i]) for i in range(n)]\n",
    "        mx_j=[-float(\"inf\")]*m\n",
    "        for i in range(n): \n",
    "            for j in range(m): mx_j[j]=max(mx_j[j],grid[i][j])\n",
    "        res=0\n",
    "        for i in range(n):\n",
    "            for j in range(m):\n",
    "                prev=grid[i][j]\n",
    "                grid[i][j]=min(mx_i[i],mx_j[j])\n",
    "                res+=grid[i][j]-prev\n",
    "        return res"
   ]
  },
  {
   "cell_type": "markdown",
   "id": "8ea439db",
   "metadata": {},
   "source": [
    "# 0808 Medium 808 Soup Servings"
   ]
  },
  {
   "cell_type": "code",
   "execution_count": null,
   "id": "c7d0cdc0",
   "metadata": {},
   "outputs": [],
   "source": [
    "# Time:  O(1)\n",
    "# Space: O(1)\n",
    "\n",
    "class Solution(object):\n",
    "    def soupServings(self, N):\n",
    "        \"\"\"\n",
    "        :type N: int\n",
    "        :rtype: float\n",
    "        \"\"\"\n",
    "        def dp(a, b, lookup):\n",
    "            if (a, b) in lookup:\n",
    "                return lookup[a, b]\n",
    "            if a <= 0 and b <= 0:\n",
    "                return 0.5\n",
    "            if a <= 0:\n",
    "                return 1.0\n",
    "            if b <= 0:\n",
    "                return 0.0\n",
    "            lookup[a, b] = 0.25 * (dp(a-4, b, lookup) +\n",
    "                                   dp(a-3, b-1, lookup) +\n",
    "                                   dp(a-2, b-2, lookup) +\n",
    "                                   dp(a-1, b-3, lookup))\n",
    "            return lookup[a, b]\n",
    "\n",
    "        if N >= 4800:\n",
    "            return 1.0\n",
    "        lookup = {}\n",
    "        N = (N+24)//25\n",
    "        return dp(N, N, lookup)"
   ]
  },
  {
   "cell_type": "markdown",
   "id": "c33dbe2c",
   "metadata": {},
   "source": [
    "# 0808 Medium 808 Soup Servings"
   ]
  },
  {
   "cell_type": "code",
   "execution_count": null,
   "id": "fa24a89c",
   "metadata": {},
   "outputs": [],
   "source": [
    "class Solution:\n",
    "    def soupServings(self, N):\n",
    "        visited = {}\n",
    "        def dfs(a, b):\n",
    "            if (a, b) in visited: return visited[(a, b)]\n",
    "            elif a <= 0 or b <= 0: return (a < b and 1) or (a == b and 0.5) or (b < a and 0)\n",
    "            visited[(a, b)] = 0.25 * (dfs(a - 100, b) + dfs(a - 75, b - 25) + dfs(a - 50, b -50) + dfs(a - 25, b - 75))\n",
    "            return visited[(a, b)] \n",
    "        return N > 4800 and 1 or round(dfs(N, N), 5)"
   ]
  },
  {
   "cell_type": "markdown",
   "id": "941c8edd",
   "metadata": {},
   "source": [
    "# 0809 Medium 809 Expressive Words"
   ]
  },
  {
   "cell_type": "code",
   "execution_count": null,
   "id": "d0162cc6",
   "metadata": {},
   "outputs": [],
   "source": [
    "# Time:  O(n + s), n is the sum of all word lengths, s is the length of S\n",
    "# Space: O(l + s), l is the max word length\n",
    "\n",
    "import itertools\n",
    "\n",
    "\n",
    "class Solution(object):\n",
    "    def expressiveWords(self, S, words):\n",
    "        \"\"\"\n",
    "        :type S: str\n",
    "        :type words: List[str]\n",
    "        :rtype: int\n",
    "        \"\"\"\n",
    "        # Run length encoding\n",
    "        def RLE(S):\n",
    "            return itertools.izip(*[(k, len(list(grp)))\n",
    "                                  for k, grp in itertools.groupby(S)])\n",
    "\n",
    "        R, count = RLE(S)\n",
    "        result = 0\n",
    "        for word in words:\n",
    "            R2, count2 = RLE(word)\n",
    "            if R2 != R:\n",
    "                continue\n",
    "            result += all(c1 >= max(c2, 3) or c1 == c2\n",
    "                          for c1, c2 in itertools.izip(count, count2))\n",
    "        return result"
   ]
  },
  {
   "cell_type": "markdown",
   "id": "28fa9275",
   "metadata": {},
   "source": [
    "# 0809 Medium 809 Expressive Words"
   ]
  },
  {
   "cell_type": "code",
   "execution_count": null,
   "id": "57d60821",
   "metadata": {},
   "outputs": [],
   "source": [
    "class Solution:\n",
    "    def expressiveWords(self, S, words):\n",
    "        if not S: return 0\n",
    "        guide, i, j, res = [], 0, 0, 0\n",
    "        while i < len(S):\n",
    "            while j + 1 <len(S) and S[j + 1] == S[j]: j += 1\n",
    "            guide.append((S[i], j - i + 1))\n",
    "            i = j = j + 1\n",
    "        for word in words:\n",
    "            i = j = g = 0\n",
    "            while i < len(word):\n",
    "                while j + 1 < len(word) and word[j + 1] == word[j]: j += 1\n",
    "                if guide[g][0] != word[i] or (guide[g][1] == 2 and j - i + 1 == 1) or guide[g][1] < j - i + 1: break\n",
    "                i, j, g = j + 1, j + 1, g + 1\n",
    "            if g == len(guide): res += 1\n",
    "        return res"
   ]
  },
  {
   "cell_type": "markdown",
   "id": "8e2f0157",
   "metadata": {},
   "source": [
    "# 0811 Medium 811 Subdomain Visit Count"
   ]
  },
  {
   "cell_type": "code",
   "execution_count": null,
   "id": "d0fbfca2",
   "metadata": {},
   "outputs": [],
   "source": [
    "#https://leetcode.com/problems/subdomain-visit-count/\n",
    "class Solution(object):\n",
    "    def subdomainVisits(self, cpdomains):\n",
    "        data = collections.Counter()\n",
    "        return_data = []\n",
    "        for domain in cpdomains:\n",
    "            count, domain = domain.split()\n",
    "            count = int(count)\n",
    "            data[domain]+=count\n",
    "            \n",
    "            sub_domain1 = domain.split('.', 1)[-1]\n",
    "            data[sub_domain1]+=count\n",
    "            \n",
    "            if '.' in sub_domain1:\n",
    "                sub_domain2 = sub_domain1.split('.', 1)[-1]\n",
    "                data[sub_domain2]+=count\n",
    "                \n",
    "        for domain, count in data.items():\n",
    "            return_data.append(str(count)+' '+domain)\n",
    "            \n",
    "        return return_data"
   ]
  },
  {
   "cell_type": "markdown",
   "id": "cb9ee3a0",
   "metadata": {},
   "source": [
    "# 0811 Medium 811 Subdomain Visit Count"
   ]
  },
  {
   "cell_type": "code",
   "execution_count": null,
   "id": "c08d324f",
   "metadata": {},
   "outputs": [],
   "source": [
    "class Solution(object):\n",
    "    def subdomainVisits(self, cpdomains):\n",
    "        \"\"\"\n",
    "        :type cpdomains: List[str]\n",
    "        :rtype: List[str]\n",
    "        \"\"\"\n",
    "        domain_count = {}\n",
    "        for cpdomain in cpdomains:\n",
    "            count, domain = cpdomain.split(' ')\n",
    "            sub_domain = domain.split('.')\n",
    "            for i in range(len(sub_domain)):\n",
    "                curr = '.'.join(sub_domain[i:])\n",
    "                domain_count[curr] = domain_count.get(curr, 0) + int(count)\n",
    "        return [str(v) + ' ' + k for k, v in domain_count.items()]\n",
    "\n",
    "\n",
    "    # def subdomainVisits(self, cpdomains):\n",
    "    #     # https://leetcode.com/problems/subdomain-visit-count/discuss/121770/Python-short-and-understandable-solution-68-ms\n",
    "    #     counter = collections.Counter()\n",
    "    #     for cpdomain in cpdomains:\n",
    "    #         count, *domains = cpdomain.replace(\" \",\".\").split(\".\")\n",
    "    #         for i in range(len(domains)):\n",
    "    #             counter[\".\".join(domains[i:])] += int(count)\n",
    "    #     return [\" \".join((str(v), k)) for k, v in counter.items()]"
   ]
  },
  {
   "cell_type": "markdown",
   "id": "e638728e",
   "metadata": {},
   "source": [
    "# 0811 Medium 811 Subdomain Visit Count"
   ]
  },
  {
   "cell_type": "code",
   "execution_count": null,
   "id": "f6fd0029",
   "metadata": {},
   "outputs": [],
   "source": [
    "class Solution:\n",
    "    def subdomainVisits(self, cpdomains):\n",
    "        counter = collections.Counter()\n",
    "        for cpdomain in cpdomains:\n",
    "            count, *domains = cpdomain.replace(\" \",\".\").split(\".\")\n",
    "            for i in range(len(domains)):\n",
    "                counter[\".\".join(domains[i:])] += int(count)\n",
    "        return [\" \".join((str(v), k)) for k, v in counter.items()]"
   ]
  },
  {
   "cell_type": "markdown",
   "id": "64bec3c1",
   "metadata": {},
   "source": [
    "# 0813 Medium 813 Largest Sum of Averages"
   ]
  },
  {
   "cell_type": "code",
   "execution_count": null,
   "id": "32c26b60",
   "metadata": {},
   "outputs": [],
   "source": [
    "\"\"\"\n",
    "dp[i][k] := max score of nums[:i] using k partition.\n",
    "\"\"\"\n",
    "class Solution(object):\n",
    "    def largestSumOfAverages(self, nums, K):\n",
    "        N = len(nums)\n",
    "        \n",
    "        dp = [[0 for _ in xrange(K+1)] for _ in xrange(N+1)]\n",
    "        for i in xrange(1, N+1): dp[i][0] = float('-inf')\n",
    "        \n",
    "        for i in xrange(1, N+1):\n",
    "            for k in xrange(1, min(i, K)+1):\n",
    "                for j in xrange(k, i+1):\n",
    "                    dp[i][k] = max(dp[i][k], dp[j-1][k-1] + float(sum(nums[j-1:i]))/(i-j+1))\n",
    "        \n",
    "        return max(dp[N])\n",
    "\n",
    "\n",
    "\"\"\"\n",
    "dp[i][k] := max score of nums[:i] using k partition.\n",
    "avg[i][j] := average fro nums[i:j+1]\n",
    "\"\"\"\n",
    "class Solution(object):\n",
    "    def largestSumOfAverages(self, nums, K):\n",
    "        N = len(nums)\n",
    "\n",
    "        avg = [[0 for _ in xrange(N)] for _ in xrange(N)]\n",
    "        for i in xrange(N): avg[i][i] = float(nums[i])\n",
    "        \n",
    "        for l in xrange(2, N+1):\n",
    "            for i in xrange(N):\n",
    "                j = i+l-1\n",
    "                if j>=N: continue\n",
    "                avg[i][j] = float((avg[i+1][j-1]*((j-1)-(i+1)+1)+nums[i]+nums[j]))/(j-i+1)\n",
    "        \n",
    "        dp = [[0 for _ in xrange(K+1)] for _ in xrange(N+1)]\n",
    "        for i in xrange(1, N+1): dp[i][0] = float('-inf')\n",
    "        \n",
    "        for i in xrange(1, N+1):\n",
    "            for k in xrange(1, min(i, K)+1):\n",
    "                for j in xrange(k, i+1):\n",
    "                    dp[i][k] = max(dp[i][k], dp[j-1][k-1] + avg[j-1][i-1])\n",
    "        \n",
    "        return max(dp[N])"
   ]
  },
  {
   "cell_type": "markdown",
   "id": "ca7fcc0d",
   "metadata": {},
   "source": [
    "# 0813 Medium 813 Largest Sum of Averages"
   ]
  },
  {
   "cell_type": "code",
   "execution_count": null,
   "id": "0a970209",
   "metadata": {},
   "outputs": [],
   "source": [
    "class Solution:\n",
    "    def largestSumOfAverages(self, A, K):\n",
    "        memo = {}\n",
    "        def search(n, k):\n",
    "            if n < k: return 0\n",
    "            if (n, k) not in memo:\n",
    "                if k == 1: memo[n, k] = sum(A[:n]) / float(n)\n",
    "                else:\n",
    "                    cur = memo[n, k] = 0\n",
    "                    for i in range(n - 1, 0, -1):\n",
    "                        cur += A[i]\n",
    "                        memo[n, k] = max(memo[n, k], search(i, k - 1) + cur / float(n - i))\n",
    "            return memo[n, k]\n",
    "        return search(len(A), K)"
   ]
  },
  {
   "cell_type": "markdown",
   "id": "43fae6dd",
   "metadata": {},
   "source": [
    "# 0814 Medium 814 Binary Tree Pruning"
   ]
  },
  {
   "cell_type": "code",
   "execution_count": null,
   "id": "0e9a621c",
   "metadata": {},
   "outputs": [],
   "source": [
    "class Solution(object):\n",
    "    def pruneTree(self, root):\n",
    "        def hasOne(node):\n",
    "            if not node: return False\n",
    "\n",
    "            left_has_one = hasOne(node.left)\n",
    "            right_has_one = hasOne(node.right)\n",
    "\n",
    "            if not left_has_one: node.left = None\n",
    "            if not right_has_one: node.right = None\n",
    "\n",
    "            return node.val==1 or left_has_one or right_has_one\n",
    "        \n",
    "        return root if hasOne(root) else None\n",
    "\n",
    "class Solution(object):\n",
    "    def pruneTree(self, node):\n",
    "        if not node: return None\n",
    "        node.left = self.pruneTree(node.left)\n",
    "        node.right = self.pruneTree(node.right)\n",
    "        if not node.left and not node.right and node.val==0: return None\n",
    "        return node\n",
    "\n",
    "\"\"\"\n",
    "Time complexity is O(N). Because we traverse all the nodes.\n",
    "Space complexity is O(N). In the worst case, the recursion will go O(N) level deep.\n",
    "\"\"\""
   ]
  },
  {
   "cell_type": "markdown",
   "id": "ec752957",
   "metadata": {},
   "source": [
    "# 0814 Medium 814 Binary Tree Pruning"
   ]
  },
  {
   "cell_type": "code",
   "execution_count": null,
   "id": "316f5434",
   "metadata": {},
   "outputs": [],
   "source": [
    "# Definition for a binary tree node.\n",
    "# class TreeNode:\n",
    "#     def __init__(self, x):\n",
    "#         self.val = x\n",
    "#         self.left = None\n",
    "#         self.right = None\n",
    "\n",
    "class Solution:\n",
    "    def pruneTree(self, root, parent = None):\n",
    "        \"\"\"\n",
    "        :type root: TreeNode\n",
    "        :rtype: TreeNode\n",
    "        \"\"\"\n",
    "        if not root: return\n",
    "        left = self.pruneTree(root.left, root)\n",
    "        right = self.pruneTree(root.right, root)\n",
    "        if not left and not right and root.val == 0:\n",
    "            if parent and parent.left == root: parent.left = None\n",
    "            elif parent and parent.right == root: parent.right = None\n",
    "            return \n",
    "        else: return root"
   ]
  },
  {
   "cell_type": "markdown",
   "id": "8fd87872",
   "metadata": {},
   "source": [
    "# 0816 Medium 816 Ambiguous Coordinates"
   ]
  },
  {
   "cell_type": "code",
   "execution_count": null,
   "id": "9ab613e1",
   "metadata": {},
   "outputs": [],
   "source": [
    "# Time:  O(n^4)\n",
    "# Space: O(n)\n",
    "\n",
    "import itertools\n",
    "\n",
    "\n",
    "class Solution(object):\n",
    "    def ambiguousCoordinates(self, S):\n",
    "        \"\"\"\n",
    "        :type S: str\n",
    "        :rtype: List[str]\n",
    "        \"\"\"\n",
    "        def make(S, i, n):\n",
    "            for d in xrange(1, n+1):\n",
    "                left = S[i:i+d]\n",
    "                right = S[i+d:i+n]\n",
    "                if ((not left.startswith('0') or left == '0')\n",
    "                        and (not right.endswith('0'))):\n",
    "                    yield \"\".join([left, '.' if right else '', right])\n",
    "\n",
    "        return [\"({}, {})\".format(*cand)\n",
    "                for i in xrange(1, len(S)-2)\n",
    "                for cand in itertools.product(make(S, 1, i),\n",
    "                                              make(S, i+1, len(S)-2-i))]"
   ]
  },
  {
   "cell_type": "markdown",
   "id": "1a88caae",
   "metadata": {},
   "source": [
    "# 0816 Medium 816 Ambiguous Coordinates"
   ]
  },
  {
   "cell_type": "code",
   "execution_count": null,
   "id": "f051a36a",
   "metadata": {},
   "outputs": [],
   "source": [
    "class Solution:\n",
    "    def ambiguousCoordinates(self, S):\n",
    "        def properInt(s):\n",
    "            return len(s) > 1 and s[0] != \"0\" or len(s) == 1\n",
    "        \n",
    "        def properFloat(s, i):\n",
    "            return s[-1] not in \".0\" and properInt(s[:i])\n",
    "        \n",
    "        s, res = S[1:-1], set()\n",
    "        for i in range(len(s)):\n",
    "            n1, n2 = s[:i + 1], s[i + 1:]\n",
    "            p1, p2 = properInt(n1), properInt(n2)\n",
    "            if p1 and p2:\n",
    "                res.add(\"({}, {})\".format(n1, n2))\n",
    "            for j in range(len(n1)):\n",
    "                for k in range(len(n2)):\n",
    "                    n1f = n1[:j + 1] + \".\" + n1[j + 1:]\n",
    "                    n2f = n2[:k + 1] + \".\" + n2[k + 1:]\n",
    "                    p1f = properFloat(n1f, j + 1)\n",
    "                    p2f = properFloat(n2f, k + 1)\n",
    "                    if p1f and p2f:\n",
    "                        res.add(\"({}, {})\".format(n1f, n2f))\n",
    "                    if p1f and p2:\n",
    "                        res.add(\"({}, {})\".format(n1f, n2))\n",
    "                    if p1 and p2f:\n",
    "                        res.add(\"({}, {})\".format(n1, n2f))\n",
    "        return list(res)"
   ]
  },
  {
   "cell_type": "markdown",
   "id": "ccfa5d49",
   "metadata": {},
   "source": [
    "# 0817 Medium 817 Linked List Components"
   ]
  },
  {
   "cell_type": "code",
   "execution_count": null,
   "id": "e8a5f31e",
   "metadata": {},
   "outputs": [],
   "source": [
    "# Time:  O(m + n), m is the number of G, n is the number of nodes\n",
    "# Space: O(m)\n",
    "\n",
    "class ListNode(object):\n",
    "    def __init__(self, x):\n",
    "        self.val = x\n",
    "        self.next = None\n",
    "\n",
    "\n",
    "class Solution(object):\n",
    "    def numComponents(self, head, G):\n",
    "        \"\"\"\n",
    "        :type head: ListNode\n",
    "        :type G: List[int]\n",
    "        :rtype: int\n",
    "        \"\"\"\n",
    "        lookup = set(G)\n",
    "        dummy = ListNode(-1)\n",
    "        dummy.next = head\n",
    "        curr = dummy\n",
    "        result = 0\n",
    "        while curr and curr.next:\n",
    "            if curr.val not in lookup and curr.next.val in lookup:\n",
    "                result += 1\n",
    "            curr = curr.next\n",
    "        return result"
   ]
  },
  {
   "cell_type": "markdown",
   "id": "e8778013",
   "metadata": {},
   "source": [
    "# 0817 Medium 817 Linked List Components"
   ]
  },
  {
   "cell_type": "code",
   "execution_count": null,
   "id": "d3c6dc8c",
   "metadata": {},
   "outputs": [],
   "source": [
    "# Definition for singly-linked list.\n",
    "# class ListNode:\n",
    "#     def __init__(self, x):\n",
    "#         self.val = x\n",
    "#         self.next = None\n",
    "\n",
    "class Solution:\n",
    "    def numComponents(self, head, G):\n",
    "        \"\"\"\n",
    "        :type head: ListNode\n",
    "        :type G: List[int]\n",
    "        :rtype: int\n",
    "        \"\"\"\n",
    "        num_connected = 0\n",
    "        set_g = set(G)\n",
    "        while head:\n",
    "            if head.val not in set_g:\n",
    "                head = head.next\n",
    "                continue\n",
    "            while head and head.val in set_g:\n",
    "                head = head.next\n",
    "            num_connected += 1\n",
    "        return num_connected"
   ]
  },
  {
   "cell_type": "markdown",
   "id": "20bb08a6",
   "metadata": {},
   "source": [
    "# 0820 Medium 820 Short Encoding of Words"
   ]
  },
  {
   "cell_type": "code",
   "execution_count": null,
   "id": "e3537aeb",
   "metadata": {},
   "outputs": [],
   "source": [
    "# Time:  O(n), n is the total sum of the lengths of words\n",
    "# Space: O(t), t is the number of nodes in trie\n",
    "\n",
    "import collections\n",
    "import functools\n",
    "\n",
    "\n",
    "class Solution(object):\n",
    "    def minimumLengthEncoding(self, words):\n",
    "        \"\"\"\n",
    "        :type words: List[str]\n",
    "        :rtype: int\n",
    "        \"\"\"\n",
    "        words = list(set(words))\n",
    "        _trie = lambda: collections.defaultdict(_trie)\n",
    "        trie = _trie()\n",
    "\n",
    "        nodes = [functools.reduce(dict.__getitem__, word[::-1], trie)\n",
    "                 for word in words]\n",
    "\n",
    "        return sum(len(word) + 1\n",
    "                   for i, word in enumerate(words)\n",
    "                   if len(nodes[i]) == 0)"
   ]
  },
  {
   "cell_type": "markdown",
   "id": "c695dea0",
   "metadata": {},
   "source": [
    "# 0820 Medium 820 Short Encoding of Words"
   ]
  },
  {
   "cell_type": "code",
   "execution_count": null,
   "id": "1e40b3f8",
   "metadata": {},
   "outputs": [],
   "source": [
    "class Solution:\n",
    "    def minimumLengthEncoding(self, words):\n",
    "        \"\"\"\n",
    "        :type words: List[str]\n",
    "        :rtype: int\n",
    "        \"\"\"\n",
    "        s = set(words)\n",
    "        for word in words: \n",
    "            for i in range(1, len(word)): s.discard(word[i:])\n",
    "        return sum(len(w) + 1 for w in s)"
   ]
  },
  {
   "cell_type": "markdown",
   "id": "44cc2de3",
   "metadata": {},
   "source": [
    "# 0822 Medium 822 Card Flipping Game"
   ]
  },
  {
   "cell_type": "code",
   "execution_count": null,
   "id": "e2f4ed35",
   "metadata": {},
   "outputs": [],
   "source": [
    "# Time:  O(n)\n",
    "# Space: O(n)\n",
    "\n",
    "import itertools\n",
    "\n",
    "\n",
    "class Solution(object):\n",
    "    def flipgame(self, fronts, backs):\n",
    "        \"\"\"\n",
    "        :type fronts: List[int]\n",
    "        :type backs: List[int]\n",
    "        :rtype: int\n",
    "        \"\"\"\n",
    "        same = {n for i, n in enumerate(fronts) if n == backs[i]}\n",
    "        result = float(\"inf\")\n",
    "        for n in itertools.chain(fronts, backs):\n",
    "            if n not in same:\n",
    "                result = min(result, n)\n",
    "        return result if result < float(\"inf\") else 0"
   ]
  },
  {
   "cell_type": "markdown",
   "id": "29e82ad4",
   "metadata": {},
   "source": [
    "# 0822 Medium 822 Card Flipping Game"
   ]
  },
  {
   "cell_type": "code",
   "execution_count": null,
   "id": "59b8cca2",
   "metadata": {},
   "outputs": [],
   "source": [
    "class Solution:\n",
    "    def flipgame(self, fronts, backs):\n",
    "        \"\"\"\n",
    "        :type fronts: List[int]\n",
    "        :type backs: List[int]\n",
    "        :rtype: int\n",
    "        \"\"\"\n",
    "        return min((set(fronts) | set(backs)) - set(fronts[i] for i in range(len(fronts)) if fronts[i] == backs[i]), default = 0)"
   ]
  },
  {
   "cell_type": "markdown",
   "id": "b8d91cab",
   "metadata": {},
   "source": [
    "# 0823 Medium 823 Binary Trees With Factors"
   ]
  },
  {
   "cell_type": "code",
   "execution_count": null,
   "id": "e5e875db",
   "metadata": {},
   "outputs": [],
   "source": [
    "# Time:  O(n^2)\n",
    "# Space: O(n)\n",
    "\n",
    "\n",
    "class Solution(object):\n",
    "    def numFactoredBinaryTrees(self, A):\n",
    "        \"\"\"\n",
    "        :type A: List[int]\n",
    "        :rtype: int\n",
    "        \"\"\"\n",
    "        M = 10**9 + 7\n",
    "        A.sort()\n",
    "        dp = {}\n",
    "        for i in xrange(len(A)):\n",
    "            dp[A[i]] = 1\n",
    "            for j in xrange(i):\n",
    "                if A[i] % A[j] == 0 and A[i] // A[j] in dp:\n",
    "                    dp[A[i]] += dp[A[j]] * dp[A[i] // A[j]]\n",
    "                    dp[A[i]] %= M\n",
    "        return sum(dp.values()) % M"
   ]
  },
  {
   "cell_type": "markdown",
   "id": "0ddc6c52",
   "metadata": {},
   "source": [
    "# 0823 Medium 823 Binary Trees With Factors"
   ]
  },
  {
   "cell_type": "code",
   "execution_count": null,
   "id": "181b3501",
   "metadata": {},
   "outputs": [],
   "source": [
    "class Solution:\n",
    "    def numFactoredBinaryTrees(self, A):\n",
    "        \"\"\"\n",
    "        :type A: List[int]\n",
    "        :rtype: int\n",
    "        \"\"\"\n",
    "        A.sort()\n",
    "        nums, res, trees, factors = set(A), 0, {}, collections.defaultdict(set)\n",
    "        for i, num in enumerate(A):\n",
    "            for n in A[:i]:\n",
    "                if num % n == 0 and num // n in nums: factors[num].add(n)\n",
    "        for root in A:\n",
    "            trees[root] = 1\n",
    "            for fac in factors[root]: trees[root] += trees[fac] * trees[root // fac]\n",
    "        return sum(trees.values()) % ((10 ** 9) + 7)"
   ]
  },
  {
   "cell_type": "markdown",
   "id": "eedb3d13",
   "metadata": {},
   "source": [
    "# 0825 Medium 825 Friends Of Appropriate Ages"
   ]
  },
  {
   "cell_type": "code",
   "execution_count": null,
   "id": "894c4304",
   "metadata": {},
   "outputs": [],
   "source": [
    "# Time:  O(a^2 + n), a is the number of ages,\n",
    "#                    n is the number of people\n",
    "# Space: O(a)\n",
    "\n",
    "import collections\n",
    "\n",
    "\n",
    "class Solution(object):\n",
    "    def numFriendRequests(self, ages):\n",
    "        \"\"\"\n",
    "        :type ages: List[int]\n",
    "        :rtype: int\n",
    "        \"\"\"\n",
    "        def request(a, b):\n",
    "            return 0.5*a+7 < b <= a\n",
    "\n",
    "        c = collections.Counter(ages)\n",
    "        return sum(int(request(a, b)) * c[a]*(c[b]-int(a == b))\n",
    "                   for a in c\n",
    "                   for b in c)"
   ]
  },
  {
   "cell_type": "markdown",
   "id": "e1301eef",
   "metadata": {},
   "source": [
    "# 0825 Medium 825 Friends Of Appropriate Ages"
   ]
  },
  {
   "cell_type": "code",
   "execution_count": null,
   "id": "4a611549",
   "metadata": {},
   "outputs": [],
   "source": [
    "class Solution:\n",
    "    def numFriendRequests(self, ages):\n",
    "        \"\"\"\n",
    "        :type ages: List[int]\n",
    "        :rtype: int\n",
    "        \"\"\"\n",
    "        cntr, res = collections.Counter(ages), 0\n",
    "        for A in cntr:\n",
    "            for B in cntr:\n",
    "                if B <= 0.5 * A + 7 or B > A: continue\n",
    "                if A == B: res += cntr[A]  *(cntr[A] - 1)\n",
    "                else: res += cntr[A] * cntr[B]\n",
    "        return res"
   ]
  },
  {
   "cell_type": "markdown",
   "id": "bdb9c5ab",
   "metadata": {},
   "source": [
    "# 0826 Medium 826 Most Profit Assigning Work"
   ]
  },
  {
   "cell_type": "code",
   "execution_count": null,
   "id": "1062598d",
   "metadata": {},
   "outputs": [],
   "source": [
    "# Time:  O(mlogm + nlogn), m is the number of workers,\n",
    "#                        , n is the number of jobs\n",
    "# Space: O(n)\n",
    "\n",
    "class Solution(object):\n",
    "    def maxProfitAssignment(self, difficulty, profit, worker):\n",
    "        \"\"\"\n",
    "        :type difficulty: List[int]\n",
    "        :type profit: List[int]\n",
    "        :type worker: List[int]\n",
    "        :rtype: int\n",
    "        \"\"\"\n",
    "        jobs = zip(difficulty, profit)\n",
    "        jobs.sort()\n",
    "        worker.sort()\n",
    "        result, i, max_profit = 0, 0, 0\n",
    "        for ability in worker:\n",
    "            while i < len(jobs) and jobs[i][0] <= ability:\n",
    "                max_profit = max(max_profit, jobs[i][1])\n",
    "                i += 1\n",
    "            result += max_profit\n",
    "        return result"
   ]
  },
  {
   "cell_type": "markdown",
   "id": "af511cc3",
   "metadata": {},
   "source": [
    "# 0826 Medium 826 Most Profit Assigning Work"
   ]
  },
  {
   "cell_type": "code",
   "execution_count": null,
   "id": "0b42e297",
   "metadata": {},
   "outputs": [],
   "source": [
    "class Solution:\n",
    "    def maxProfitAssignment(self, difficulty, profit, worker):\n",
    "        \"\"\"\n",
    "        :type difficulty: List[int]\n",
    "        :type profit: List[int]\n",
    "        :type worker: List[int]\n",
    "        :rtype: int\n",
    "        \"\"\"\n",
    "        jobs = sorted([a, b] for a, b in zip(difficulty, profit))\n",
    "        res = i = maxp = 0\n",
    "        for ability in sorted(worker):\n",
    "            while i < len(jobs) and ability >= jobs[i][0]:\n",
    "                maxp = max(jobs[i][1], maxp)\n",
    "                i += 1\n",
    "            res += maxp\n",
    "        return res      "
   ]
  },
  {
   "cell_type": "markdown",
   "id": "1ce3eb06",
   "metadata": {},
   "source": [
    "# 0831 Medium 831 Masking Personal Information"
   ]
  },
  {
   "cell_type": "code",
   "execution_count": null,
   "id": "9c30bff2",
   "metadata": {},
   "outputs": [],
   "source": [
    "# Time:  O(1)\n",
    "# Space: O(1)\n",
    "\n",
    "class Solution(object):\n",
    "    def maskPII(self, S):\n",
    "        \"\"\"\n",
    "        :type S: str\n",
    "        :rtype: str\n",
    "        \"\"\"\n",
    "        if '@' in S:\n",
    "            first, after = S.split('@')\n",
    "            return \"{}*****{}@{}\".format(first[0], first[-1], after).lower()\n",
    "\n",
    "        digits = filter(lambda x: x.isdigit(), S)\n",
    "        local = \"***-***-{}\".format(digits[-4:])\n",
    "        if len(digits) == 10:\n",
    "            return local\n",
    "        return \"+{}-{}\".format('*' * (len(digits) - 10), local)"
   ]
  },
  {
   "cell_type": "markdown",
   "id": "33331cbc",
   "metadata": {},
   "source": [
    "# 0831 Medium 831 Masking Personal Information"
   ]
  },
  {
   "cell_type": "code",
   "execution_count": null,
   "id": "a19768e9",
   "metadata": {},
   "outputs": [],
   "source": [
    "class Solution:\n",
    "    def maskPII(self, S):\n",
    "        if \"@\" in S:\n",
    "            s = S.lower().split(\"@\")\n",
    "            return s[0][0] + \"*\" * 5 + s[0][-1] + \"@\" + s[1]\n",
    "        else:\n",
    "            nums, tmp = {\"0\",\"1\",\"2\",\"3\",\"4\",\"5\",\"6\",\"7\",\"8\",\"9\"}, \"\"\n",
    "            for c in S:\n",
    "                if c in nums: tmp += c\n",
    "            return \"+\" + \"*\" * (len(tmp) - 10) + \"-***-***-\" + tmp[-4:] if len(tmp) > 10 else \"***-***-\" + tmp[-4:]"
   ]
  },
  {
   "cell_type": "markdown",
   "id": "9379c78a",
   "metadata": {},
   "source": [
    "# 0833 Medium 833 Find And Replace in String"
   ]
  },
  {
   "cell_type": "code",
   "execution_count": null,
   "id": "4753f9af",
   "metadata": {},
   "outputs": [],
   "source": [
    "\"\"\"\n",
    "`p` is the index on s which already processed.\n",
    "\"\"\"\n",
    "class Solution(object):\n",
    "    def findReplaceString(self, s, indices, sources, targets):\n",
    "        p = -1\n",
    "        ans = ''\n",
    "        \n",
    "        memo = {}\n",
    "        for i, index in enumerate(indices):\n",
    "            memo[index] = (sources[i], targets[i])\n",
    "        \n",
    "        for i in xrange(len(s)):\n",
    "            if i<=p: continue\n",
    "            \n",
    "            if i in memo and (s[i:i+len(memo[i][0])] if i+len(memo[i][0])<len(s) else s[i:])==memo[i][0]:\n",
    "                ans += memo[i][1]\n",
    "                p = i+len(memo[i][0])-1\n",
    "            else:\n",
    "                ans += s[i]\n",
    "                p = i\n",
    "            \n",
    "        return ans\n",
    "\n",
    "\"\"\"\n",
    "Time: O(N). N is the length of `s`. The replacement won't be more than the length of the string, Let's assume it is N.\n",
    "Space: O(N).\n",
    "\"\"\"\n",
    "class Solution(object):\n",
    "    def findReplaceString(self, s, indices, sources, targets):\n",
    "        ans = ''\n",
    "        \n",
    "        replacement = {}\n",
    "        for i in xrange(len(indices)):\n",
    "            index = indices[i]\n",
    "            source = sources[i]\n",
    "            target = targets[i]\n",
    "            \n",
    "            if s[index:index+len(source)]!=source: continue\n",
    "            replacement[index] = (source, target)\n",
    "        \n",
    "        i = 0\n",
    "        while i<len(s):\n",
    "            if i not in replacement:\n",
    "                ans += s[i]\n",
    "                i += 1\n",
    "            else:\n",
    "                ans += replacement[i][1]\n",
    "                i += len(replacement[i][0])\n",
    "        \n",
    "        return ans"
   ]
  },
  {
   "cell_type": "markdown",
   "id": "209c999b",
   "metadata": {},
   "source": [
    "# 0833 Medium 833 Find And Replace in String"
   ]
  },
  {
   "cell_type": "code",
   "execution_count": null,
   "id": "27e587d1",
   "metadata": {},
   "outputs": [],
   "source": [
    "class Solution:\n",
    "    def findReplaceString(self, s, indexes, sources, targets):\n",
    "        res, dic, j = \"\", {}, 0\n",
    "        for i in range(len(sources)):\n",
    "            if s.find(sources[i], indexes[i]) == indexes[i]: dic[indexes[i]] = (sources[i], targets[i])\n",
    "        while j < len(s):\n",
    "            res += j in dic and dic[j][1] or s[j]\n",
    "            j += j in dic and len(dic[j][0]) or 1\n",
    "        return res"
   ]
  },
  {
   "cell_type": "markdown",
   "id": "1062c41a",
   "metadata": {},
   "source": [
    "# 0835 Medium 835 Image Overlap"
   ]
  },
  {
   "cell_type": "code",
   "execution_count": null,
   "id": "05877dbb",
   "metadata": {},
   "outputs": [],
   "source": [
    "# Time:  O(n^4)\n",
    "# Space: O(n^2)\n",
    "\n",
    "class Solution(object):\n",
    "    def largestOverlap(self, A, B):\n",
    "        \"\"\"\n",
    "        :type A: List[List[int]]\n",
    "        :type B: List[List[int]]\n",
    "        :rtype: int\n",
    "        \"\"\"\n",
    "        count = [0] * (2*len(A)-1)**2\n",
    "        for i, row in enumerate(A):\n",
    "            for j, v in enumerate(row):\n",
    "                if not v:\n",
    "                    continue\n",
    "                for i2, row2 in enumerate(B):\n",
    "                    for j2, v2 in enumerate(row2):\n",
    "                        if not v2:\n",
    "                            continue\n",
    "                        count[(len(A)-1+i-i2)*(2*len(A)-1) +\n",
    "                              len(A)-1+j-j2] += 1\n",
    "        return max(count)"
   ]
  },
  {
   "cell_type": "markdown",
   "id": "1582186c",
   "metadata": {},
   "source": [
    "# 0835 Medium 835 Image Overlap"
   ]
  },
  {
   "cell_type": "code",
   "execution_count": null,
   "id": "a2c5988d",
   "metadata": {},
   "outputs": [],
   "source": [
    "class Solution:\n",
    "    def largestOverlap(self, A, B):\n",
    "        n, shift, rn = len(A), range(-1 * len(A) + 1, len(A)), range(len(A))\n",
    "        return max(sum(A[i][j] and B[i + v][j + h] for i in rn for j in rn if 0 <= i + v < n > j + h >= 0) for h in shift for v in shift)   "
   ]
  },
  {
   "cell_type": "markdown",
   "id": "2524a0a7",
   "metadata": {},
   "source": [
    "# 0837 Medium 837 New 21 Game"
   ]
  },
  {
   "cell_type": "code",
   "execution_count": null,
   "id": "7218f7c3",
   "metadata": {},
   "outputs": [],
   "source": [
    "class Solution:\n",
    "    def new21Game(self, N, K, W):\n",
    "        if K == 0 or N >= K + W: return 1\n",
    "        dp = [1.0] + [0.0] * N\n",
    "        Wsum, res = 1.0, 0.0\n",
    "        for i in range(1, N + 1):\n",
    "            dp[i] += Wsum / W\n",
    "            if i < K: Wsum += dp[i]\n",
    "            else: res += dp[i]\n",
    "            if i - W >= 0: Wsum -= dp[i - W]\n",
    "        return res"
   ]
  },
  {
   "cell_type": "markdown",
   "id": "bd0dc5de",
   "metadata": {},
   "source": [
    "# 0838 Medium 838 Push Dominoes"
   ]
  },
  {
   "cell_type": "code",
   "execution_count": null,
   "id": "a3ef9d9b",
   "metadata": {},
   "outputs": [],
   "source": [
    "# Time:  O(n)\n",
    "# Space: O(n)\n",
    "\n",
    "\n",
    "class Solution(object):\n",
    "    def pushDominoes(self, dominoes):\n",
    "        \"\"\"\n",
    "        :type dominoes: str\n",
    "        :rtype: str\n",
    "        \"\"\"\n",
    "        force = [0]*len(dominoes)\n",
    "\n",
    "        f = 0\n",
    "        for i in xrange(len(dominoes)):\n",
    "            if dominoes[i] == 'R':\n",
    "                f = len(dominoes)\n",
    "            elif dominoes[i] == 'L':\n",
    "                f = 0\n",
    "            else:\n",
    "                f = max(f-1, 0)\n",
    "            force[i] += f\n",
    "\n",
    "        f = 0\n",
    "        for i in reversed(xrange(len(dominoes))):\n",
    "            if dominoes[i] == 'L':\n",
    "                f = len(dominoes)\n",
    "            elif dominoes[i] == 'R':\n",
    "                f = 0\n",
    "            else:\n",
    "                f = max(f-1, 0)\n",
    "            force[i] -= f\n",
    "\n",
    "        return \"\".join('.' if f == 0 else 'R' if f > 0 else 'L'\n",
    "                       for f in force)"
   ]
  },
  {
   "cell_type": "markdown",
   "id": "7e724eb8",
   "metadata": {},
   "source": [
    "# 0838 Medium 838 Push Dominoes"
   ]
  },
  {
   "cell_type": "code",
   "execution_count": null,
   "id": "abc9e187",
   "metadata": {},
   "outputs": [],
   "source": [
    "class Solution:\n",
    "    def pushDominoes(self, dominoes):\n",
    "        res, l, r , pre_l, pre_r = \"\", {}, {}, None, None,\n",
    "        for i, s in enumerate(dominoes):\n",
    "            if s == \".\" and pre_r != None: r[i] = i - pre_r\n",
    "            elif s == \"R\": pre_r = i\n",
    "            elif s == \"L\": pre_r = None\n",
    "        for i in range(len(dominoes) - 1, -1, -1):\n",
    "            if dominoes[i] == \".\" and pre_l != None: l[i] = pre_l - i\n",
    "            elif dominoes[i] == \"L\": pre_l = i\n",
    "            elif dominoes[i] == \"R\": pre_l = None\n",
    "        for i, s in enumerate(dominoes):\n",
    "            if s == \"L\" or s == \"R\": res += s\n",
    "            elif i in l and i in r:\n",
    "                if l[i] < r[i]: res += \"L\"\n",
    "                elif r[i] < l[i]: res += \"R\"\n",
    "                else: res += s\n",
    "            elif i in l: res += \"L\"\n",
    "            elif i in r: res += \"R\"\n",
    "            else: res += s\n",
    "        return res"
   ]
  },
  {
   "cell_type": "markdown",
   "id": "9bd2094c",
   "metadata": {},
   "source": [
    "# 0840 Medium 840 Magic Squares In Grid"
   ]
  },
  {
   "cell_type": "code",
   "execution_count": null,
   "id": "731e7a8d",
   "metadata": {},
   "outputs": [],
   "source": [
    "# Time:  O(m * n)\n",
    "# Space: O(1)\n",
    "\n",
    "\n",
    "class Solution(object):\n",
    "    def numMagicSquaresInside(self, grid):\n",
    "        \"\"\"\n",
    "        :type grid: List[List[int]]\n",
    "        :rtype: int\n",
    "        \"\"\"\n",
    "        def magic(grid, r, c):\n",
    "            expect = k * (k**2+1) // 2\n",
    "            nums = set()\n",
    "            min_num = float(\"inf\")\n",
    "            sum_diag, sum_anti = 0, 0\n",
    "            for i in xrange(k):\n",
    "                sum_diag += grid[r+i][c+i]\n",
    "                sum_anti += grid[r+i][c+k-1-i]\n",
    "                sum_r, sum_c = 0, 0\n",
    "                for j in xrange(k):\n",
    "                    min_num = min(min_num, grid[r+i][c+j])\n",
    "                    nums.add(grid[r+i][c+j])\n",
    "                    sum_r += grid[r+i][c+j]\n",
    "                    sum_c += grid[r+j][c+i]\n",
    "                if not (sum_r == sum_c == expect):\n",
    "                    return False\n",
    "            return sum_diag == sum_anti == expect and \\\n",
    "                len(nums) == k**2 and \\\n",
    "                min_num == 1\n",
    "\n",
    "        k = 3\n",
    "        result = 0\n",
    "        for r in xrange(len(grid)-k+1):\n",
    "            for c in xrange(len(grid[r])-k+1):\n",
    "                if magic(grid, r, c):\n",
    "                    result += 1\n",
    "        return result"
   ]
  },
  {
   "cell_type": "markdown",
   "id": "da8e4f12",
   "metadata": {},
   "source": [
    "# 0840 Medium 840 Magic Squares In Grid"
   ]
  },
  {
   "cell_type": "code",
   "execution_count": null,
   "id": "15bbcb39",
   "metadata": {},
   "outputs": [],
   "source": [
    "class Solution:\n",
    "    def numMagicSquaresInside(self, grid):\n",
    "        \"\"\"\n",
    "        :type grid: List[List[int]]\n",
    "        :rtype: int\n",
    "        \"\"\"\n",
    "        res = 0\n",
    "        for i in range(len(grid)-2):\n",
    "            for j in range(len(grid)-2):\n",
    "                if sum(grid[i][j: j + 3]) == sum(grid[i + 1][j : j +3]) == sum(grid[i + 2][j:j + 3]) == sum(grid[k][j] for k in range(i, i + 3)) == sum(grid[k][j + 1] for k in range(i, i + 3)) == sum(grid[k][j + 2] for k in range(i, i + 3)) == (grid[i][j] + grid[i + 1][j + 1] + grid[i + 2][j + 2]) == (grid[i+2][j]+ grid[i + 1][j + 1] + grid[i][j + 2]): \n",
    "                    if set(grid[i][j: j + 3] + grid[i + 1][j: j +3] + grid[i + 2][j:j + 3]) == {1,2,3,4,5,6,7,8,9}: res += 1\n",
    "        return res\n",
    "                "
   ]
  },
  {
   "cell_type": "markdown",
   "id": "0ca231b5",
   "metadata": {},
   "source": [
    "# 0841 Medium 841 Keys and Rooms"
   ]
  },
  {
   "cell_type": "code",
   "execution_count": null,
   "id": "76fd4f53",
   "metadata": {},
   "outputs": [],
   "source": [
    "class Solution(object):\n",
    "    def canVisitAllRooms(self, rooms):\n",
    "        if not rooms: return True\n",
    "        \n",
    "        visited = set()\n",
    "        stack = [0]\n",
    "\n",
    "        while stack:\n",
    "            key = stack.pop()\n",
    "            if key in visited: continue\n",
    "            visited.add(key)\n",
    "            stack.extend(rooms[key])\n",
    "\n",
    "        return len(rooms)==len(visited)\n",
    "\n",
    "\"\"\"\n",
    "Time: O(N).\n",
    "Space: O(N).\n",
    "N is the number of rooms.\n",
    "\"\"\""
   ]
  },
  {
   "cell_type": "markdown",
   "id": "83772c26",
   "metadata": {},
   "source": [
    "# 0841 Medium 841 Keys and Rooms"
   ]
  },
  {
   "cell_type": "code",
   "execution_count": null,
   "id": "5b5a0d4a",
   "metadata": {},
   "outputs": [],
   "source": [
    "class Solution:\n",
    "    def canVisitAllRooms(self, rooms):\n",
    "        pool, stack = set(range(len(rooms))), [0]\n",
    "        while stack: \n",
    "            pool.discard(stack[-1])\n",
    "            for nex in rooms[stack.pop()]:\n",
    "                if nex in pool: \n",
    "                    stack.append(nex)\n",
    "        return not pool"
   ]
  },
  {
   "cell_type": "markdown",
   "id": "c1822128",
   "metadata": {},
   "source": [
    "# 0842 Medium 842 Split Array into Fibonacci Sequence"
   ]
  },
  {
   "cell_type": "code",
   "execution_count": null,
   "id": "63dc7dcb",
   "metadata": {},
   "outputs": [],
   "source": [
    "class Solution(object):\n",
    "    def splitIntoFibonacci(self, S):\n",
    "        def is_bibonacci(opt, num):\n",
    "            return num == opt[-1]+opt[-2]\n",
    "\n",
    "        def helper(s, first):\n",
    "            if first==len(s) and len(opt)>=3:\n",
    "                return True\n",
    "\n",
    "            for i in xrange(first, len(s)):\n",
    "                if s[first]=='0' and i!=first: break #skip leading zero\n",
    "                num = int(s[first:i+1])\n",
    "\n",
    "                if num>2147483648: break\n",
    "\n",
    "                #early termination\n",
    "                if len(opt)>=2 and num>opt[-1]+opt[-2]:\n",
    "                    break\n",
    "\n",
    "                if len(opt)<=1 or is_bibonacci(opt, num):\n",
    "                    opt.append(int(num))\n",
    "                    if helper(s, i+1): return True\n",
    "                    opt.pop()\n",
    "            return False\n",
    "\n",
    "        opt = []\n",
    "        helper(S, 0)\n",
    "        return opt"
   ]
  },
  {
   "cell_type": "markdown",
   "id": "a042c2cb",
   "metadata": {},
   "source": [
    "# 0842 Medium 842 Split Array into Fibonacci Sequence"
   ]
  },
  {
   "cell_type": "code",
   "execution_count": null,
   "id": "ac7d0764",
   "metadata": {},
   "outputs": [],
   "source": [
    "class Solution:\n",
    "    def splitIntoFibonacci(self, S):\n",
    "        def getStarter():\n",
    "            arr = []\n",
    "            for i in range(1, len(S) - 1):\n",
    "                for j in range(i + 1, len(S)):\n",
    "                    s1, s2 = S[:i], S[i:j]\n",
    "                    if (s1[0] == \"0\" and len(s1) > 1) or (s2[0] == \"0\" and len(s2) > 1): \n",
    "                        continue\n",
    "                    arr.append((int(s1), int(s2), j))\n",
    "            return arr                 \n",
    "        def dfs(arr, i):\n",
    "            if i == len(S):\n",
    "                return arr\n",
    "            sm = arr[-2] + arr[-1]\n",
    "            l = len(str(sm))\n",
    "            new = int(S[i:i + l])\n",
    "            return new == sm and 0 <= sm <= mx and dfs(arr + [new], i + l)\n",
    "        q, mx = getStarter(), 2 ** 31 - 1\n",
    "        for p1, p2, i in q:\n",
    "            seq = dfs([p1, p2], i)\n",
    "            if seq:\n",
    "                return seq\n",
    "        return []"
   ]
  },
  {
   "cell_type": "markdown",
   "id": "6df34b44",
   "metadata": {},
   "source": [
    "# 0845 Medium 845 Longest Mountain in Array"
   ]
  },
  {
   "cell_type": "code",
   "execution_count": null,
   "id": "3d73477e",
   "metadata": {},
   "outputs": [],
   "source": [
    "# Time:  O(n)\n",
    "# Space: O(1)\n",
    "\n",
    "\n",
    "class Solution(object):\n",
    "    def longestMountain(self, A):\n",
    "        \"\"\"\n",
    "        :type A: List[int]\n",
    "        :rtype: int\n",
    "        \"\"\"\n",
    "        result, up_len, down_len = 0, 0, 0\n",
    "        for i in xrange(1, len(A)):\n",
    "            if (down_len and A[i-1] < A[i]) or A[i-1] == A[i]:\n",
    "                up_len, down_len = 0, 0\n",
    "            up_len += A[i-1] < A[i]\n",
    "            down_len += A[i-1] > A[i]\n",
    "            if up_len and down_len:\n",
    "                result = max(result, up_len+down_len+1)\n",
    "        return result"
   ]
  },
  {
   "cell_type": "markdown",
   "id": "8a1f9e6f",
   "metadata": {},
   "source": [
    "# 0845 Medium 845 Longest Mountain in Array"
   ]
  },
  {
   "cell_type": "code",
   "execution_count": null,
   "id": "fbbdf798",
   "metadata": {},
   "outputs": [],
   "source": [
    "class Solution:\n",
    "    def longestMountain(self, A, res = 0):\n",
    "        for i in range(1, len(A) - 1):\n",
    "            if A[i + 1] < A[i] > A[i - 1]:\n",
    "                l = r = i\n",
    "                while l and A[l] > A[l - 1]: l -= 1\n",
    "                while r + 1 < len(A) and A[r] > A[r + 1]: r += 1\n",
    "                if r - l + 1 > res: res = r - l + 1\n",
    "        return res"
   ]
  },
  {
   "cell_type": "markdown",
   "id": "fd400fca",
   "metadata": {},
   "source": [
    "# 0846 Medium 846 Hand of Straights"
   ]
  },
  {
   "cell_type": "code",
   "execution_count": null,
   "id": "8b839417",
   "metadata": {},
   "outputs": [],
   "source": [
    "class Solution:\n",
    "    def isNStraightHand(self, hand: List[int], groupSize: int) -> bool:\n",
    "        if len(hand)%groupSize!=0: return False\n",
    "        \n",
    "        counter = collections.Counter(hand)\n",
    "        h = list(counter.keys())\n",
    "        heapq.heapify(h)\n",
    "        \n",
    "        while h:\n",
    "            minNum = h[0]\n",
    "            for n in range(minNum, minNum+groupSize):\n",
    "                if counter[n]<=0: return False\n",
    "                counter[n] -= 1\n",
    "                if counter[n]==0:\n",
    "                    if h[0]!=n: return False\n",
    "                    heapq.heappop(h)\n",
    "        \n",
    "        return True"
   ]
  },
  {
   "cell_type": "markdown",
   "id": "57cee682",
   "metadata": {},
   "source": [
    "# 0846 Medium 846 Hand of Straights"
   ]
  },
  {
   "cell_type": "code",
   "execution_count": null,
   "id": "8f42193d",
   "metadata": {},
   "outputs": [],
   "source": [
    "class Solution:\n",
    "    def isNStraightHand(self, hand, W):\n",
    "        hand.sort()\n",
    "        while hand:\n",
    "            try:\n",
    "                base = hand[0]\n",
    "                for i in range(W):\n",
    "                    hand.remove(base+i)\n",
    "            except:\n",
    "                return False\n",
    "        return True"
   ]
  },
  {
   "cell_type": "markdown",
   "id": "1e21c47e",
   "metadata": {},
   "source": [
    "# 0848 Medium 848 Shifting Letters"
   ]
  },
  {
   "cell_type": "code",
   "execution_count": null,
   "id": "908675e6",
   "metadata": {},
   "outputs": [],
   "source": [
    "# Time:  O(n)\n",
    "# Space: O(1)\n",
    "\n",
    "class Solution(object):\n",
    "    def shiftingLetters(self, S, shifts):\n",
    "        \"\"\"\n",
    "        :type S: str\n",
    "        :type shifts: List[int]\n",
    "        :rtype: str\n",
    "        \"\"\"\n",
    "        result = []\n",
    "        times = sum(shifts) % 26\n",
    "        for i, c in enumerate(S):\n",
    "            index = ord(c) - ord('a')\n",
    "            result.append(chr(ord('a') + (index+times) % 26))\n",
    "            times = (times-shifts[i]) % 26\n",
    "        return \"\".join(result)"
   ]
  },
  {
   "cell_type": "markdown",
   "id": "b788a46a",
   "metadata": {},
   "source": [
    "# 0848 Medium 848 Shifting Letters"
   ]
  },
  {
   "cell_type": "code",
   "execution_count": null,
   "id": "cfb85346",
   "metadata": {},
   "outputs": [],
   "source": [
    "class Solution:\n",
    "    def shiftingLetters(self, S, shifts):\n",
    "        sm, res = sum(shift % 26 for shift in shifts) % 26, \"\"\n",
    "        for i, s in enumerate(shifts):\n",
    "            move, sm = ord(S[i]) + sm % 26, sm - s\n",
    "            res += chr(move > 122 and move - 26 or move)\n",
    "        return res"
   ]
  },
  {
   "cell_type": "markdown",
   "id": "5450f7cb",
   "metadata": {},
   "source": [
    "# 0849 Medium 849 Maximize Distance to Closest Person"
   ]
  },
  {
   "cell_type": "code",
   "execution_count": null,
   "id": "6cf46ef3",
   "metadata": {},
   "outputs": [],
   "source": [
    "# Time:  O(n)\n",
    "# Space: O(1)\n",
    "\n",
    "\n",
    "class Solution(object):\n",
    "    def maxDistToClosest(self, seats):\n",
    "        \"\"\"\n",
    "        :type seats: List[int]\n",
    "        :rtype: int\n",
    "        \"\"\"\n",
    "        prev, result = -1, 1\n",
    "        for i in xrange(len(seats)):\n",
    "            if seats[i]:\n",
    "                if prev < 0:\n",
    "                    result = i\n",
    "                else:\n",
    "                    result = max(result, (i-prev)//2)\n",
    "                prev = i\n",
    "        return max(result, len(seats)-1-prev)"
   ]
  },
  {
   "cell_type": "markdown",
   "id": "1fd723c6",
   "metadata": {},
   "source": [
    "# 0849 Medium 849 Maximize Distance to Closest Person"
   ]
  },
  {
   "cell_type": "code",
   "execution_count": null,
   "id": "eb77d5fd",
   "metadata": {},
   "outputs": [],
   "source": [
    "class Solution:\n",
    "    def maxDistToClosest(self, seats):\n",
    "        d = {}\n",
    "        res = l = left = r = right = 0\n",
    "        for i, s in enumerate(seats):\n",
    "            if not s and left: d[i] = l = l + 1\n",
    "            elif s: l, left = 0, 1\n",
    "        for i in range(len(seats) - 1, -1, -1):\n",
    "            if not seats[i] and right and (i not in d or d[i] > r): d[i] = r = r + 1 \n",
    "            elif seats[i]: r, right = 0, 1\n",
    "        return max(d.values())"
   ]
  },
  {
   "cell_type": "markdown",
   "id": "c2d02e26",
   "metadata": {},
   "source": [
    "# 0851 Medium 851 Loud and Rich"
   ]
  },
  {
   "cell_type": "code",
   "execution_count": null,
   "id": "a8459c13",
   "metadata": {},
   "outputs": [],
   "source": [
    "# Time:  O(q + r)\n",
    "# Space: O(q + r)\n",
    "\n",
    "\n",
    "class Solution(object):\n",
    "    def loudAndRich(self, richer, quiet):\n",
    "        \"\"\"\n",
    "        :type richer: List[List[int]]\n",
    "        :type quiet: List[int]\n",
    "        :rtype: List[int]\n",
    "        \"\"\"\n",
    "        def dfs(graph, quiet, node, result):\n",
    "            if result[node] is None:\n",
    "                result[node] = node\n",
    "                for nei in graph[node]:\n",
    "                    smallest_person = dfs(graph, quiet, nei, result)\n",
    "                    if quiet[smallest_person] < quiet[result[node]]:\n",
    "                        result[node] = smallest_person\n",
    "            return result[node]\n",
    "\n",
    "        graph = [[] for _ in xrange(len(quiet))]\n",
    "        for u, v in richer:\n",
    "            graph[v].append(u)\n",
    "        result = [None]*len(quiet)\n",
    "        return map(lambda x: dfs(graph, quiet, x, result), xrange(len(quiet)))"
   ]
  },
  {
   "cell_type": "markdown",
   "id": "437b1431",
   "metadata": {},
   "source": [
    "# 0851 Medium 851 Loud and Rich"
   ]
  },
  {
   "cell_type": "code",
   "execution_count": null,
   "id": "7b970ed8",
   "metadata": {},
   "outputs": [],
   "source": [
    "class Solution:\n",
    "    def loudAndRich(self, richer, quiet):\n",
    "        edges, memo, res = collections.defaultdict(list), {}, [i for i in range(len(quiet))]\n",
    "        for r, p in richer: edges[p].append(r)\n",
    "        def explore(i):\n",
    "            if i in memo: return memo[i]\n",
    "            cur_min = i\n",
    "            for v in edges[i]:\n",
    "                cur = explore(v)\n",
    "                if quiet[cur] < quiet[cur_min]: cur_min = cur\n",
    "            res[i] = memo[i] = cur_min\n",
    "            return cur_min\n",
    "        for i in range(len(quiet)): explore(i)\n",
    "        return res"
   ]
  },
  {
   "cell_type": "markdown",
   "id": "ca028117",
   "metadata": {},
   "source": [
    "# 0852 Medium 852 Peak Index in a Mountain Array"
   ]
  },
  {
   "cell_type": "code",
   "execution_count": null,
   "id": "697c7ec6",
   "metadata": {},
   "outputs": [],
   "source": [
    "\"\"\"\n",
    "Take a look at the code first.\n",
    "If `A[p]<A[p+1]`, it means the `p` and `p+1` is at the left side of the mountain,\n",
    "We move `l` to `p+1`, since the peak must be at `p+1` or the right of the `p+1`.\n",
    "Else, it means the `p` and `p+1` is at the right side of the mountain,\n",
    "We move the `r` to `p`, since the peak must be at `p` or the left of the `p`.\n",
    "The `l` and `r` will move closer and closer to the peak until they meet together.\n",
    "The time complexity is `O(LogN)`\n",
    "\"\"\"\n",
    "class Solution(object):\n",
    "    def peakIndexInMountainArray(self, A):\n",
    "        l = 0\n",
    "        r = len(A)-1\n",
    "        while l<r:\n",
    "            p = (l+r)/2\n",
    "            if A[p]<A[p+1]:\n",
    "                l = p+1\n",
    "            else:\n",
    "                r = p\n",
    "        return l"
   ]
  },
  {
   "cell_type": "markdown",
   "id": "a442a20b",
   "metadata": {},
   "source": [
    "# 0852 Medium 852 Peak Index in a Mountain Array"
   ]
  },
  {
   "cell_type": "code",
   "execution_count": null,
   "id": "d3eaf4a5",
   "metadata": {},
   "outputs": [],
   "source": [
    "class Solution(object):\n",
    "    # def peakIndexInMountainArray(self, A):\n",
    "    #     \"\"\"\n",
    "    #     :type A: List[int]\n",
    "    #     :rtype: int\n",
    "    #     \"\"\"\n",
    "    #     i = 0\n",
    "    #     while A[i + 1] >= A[i]:\n",
    "    #         i += 1\n",
    "    #     return i\n",
    "\n",
    "    def peakIndexInMountainArray(self, A):\n",
    "        lo, hi = 0, len(A) - 1\n",
    "        while lo < hi:\n",
    "            mid = (lo + hi) / 2\n",
    "            if A[mid] < A[mid + 1]:\n",
    "                lo = mid + 1\n",
    "            else:\n",
    "                hi = mid\n",
    "        return lo"
   ]
  },
  {
   "cell_type": "markdown",
   "id": "6f23cc3c",
   "metadata": {},
   "source": [
    "# 0852 Medium 852 Peak Index in a Mountain Array"
   ]
  },
  {
   "cell_type": "code",
   "execution_count": null,
   "id": "2a1aa6d1",
   "metadata": {},
   "outputs": [],
   "source": [
    "class Solution:\n",
    "    def peakIndexInMountainArray(self, A):\n",
    "        \"\"\"\n",
    "        :type A: List[int]\n",
    "        :rtype: int\n",
    "        \"\"\"\n",
    "        mx = max(A)\n",
    "        return A.index(mx)"
   ]
  },
  {
   "cell_type": "markdown",
   "id": "69affbe1",
   "metadata": {},
   "source": [
    "# 0853 Medium 853 Car Fleet"
   ]
  },
  {
   "cell_type": "code",
   "execution_count": null,
   "id": "cd20387b",
   "metadata": {},
   "outputs": [],
   "source": [
    "class Solution:\n",
    "    def carFleet(self, target: int, position: List[int], speed: List[int]) -> int:\n",
    "        N = len(position)\n",
    "        \n",
    "        timeInfo = []\n",
    "        for i in range(N):\n",
    "            timeInfo.append((position[i], (target-position[i])/speed[i]))\n",
    "        timeInfo.sort(reverse=True)\n",
    "        \n",
    "        stack = []\n",
    "        for _, time in timeInfo:\n",
    "            stack.append(time)\n",
    "            if len(stack)>=2 and stack[-2]>=stack[-1]:\n",
    "                stack.pop()\n",
    "        \n",
    "        return len(stack)"
   ]
  },
  {
   "cell_type": "markdown",
   "id": "6170c085",
   "metadata": {},
   "source": [
    "# 0853 Medium 853 Car Fleet"
   ]
  },
  {
   "cell_type": "code",
   "execution_count": null,
   "id": "64099e6d",
   "metadata": {},
   "outputs": [],
   "source": [
    "class Solution:\n",
    "    def carFleet(self, target, position, speed):\n",
    "        res, s = 0, {position[i]: speed[i] for i in range(len(position))}\n",
    "        position.sort()\n",
    "        while position:\n",
    "            cur = position.pop()\n",
    "            res += 1\n",
    "            while position and (s[position[-1]] - s[cur]) * (target - cur) / s[cur] >= cur - position[-1]:\n",
    "                position.pop()\n",
    "        return res"
   ]
  }
 ],
 "metadata": {},
 "nbformat": 4,
 "nbformat_minor": 5
}
