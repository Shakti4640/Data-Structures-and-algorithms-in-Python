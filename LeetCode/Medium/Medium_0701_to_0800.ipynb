{
 "cells": [
  {
   "cell_type": "markdown",
   "id": "2bd26ca7",
   "metadata": {},
   "source": [
    "# 0453 Medium 453 Minimum Moves to Equal Array Elements"
   ]
  },
  {
   "cell_type": "code",
   "execution_count": null,
   "id": "e78174d5",
   "metadata": {},
   "outputs": [],
   "source": [
    "class Solution:\n",
    "    def minMoves(self, nums):\n",
    "        \"\"\"\n",
    "        :type nums: List[int]\n",
    "        :rtype: int\n",
    "        \"\"\"\n",
    "        return sum(nums) - min(nums) * len(nums) "
   ]
  },
  {
   "cell_type": "markdown",
   "id": "837867f7",
   "metadata": {},
   "source": [
    "# 0454 Medium 454 4Sum II"
   ]
  },
  {
   "cell_type": "code",
   "execution_count": null,
   "id": "ef28d12e",
   "metadata": {},
   "outputs": [],
   "source": [
    "# Time:  O(n^2)\n",
    "# Space: O(n^2)\n",
    "\n",
    "import collections\n",
    "\n",
    "\n",
    "class Solution(object):\n",
    "    def fourSumCount(self, A, B, C, D):\n",
    "        \"\"\"\n",
    "        :type A: List[int]\n",
    "        :type B: List[int]\n",
    "        :type C: List[int]\n",
    "        :type D: List[int]\n",
    "        :rtype: int\n",
    "        \"\"\"\n",
    "        A_B_sum = collections.Counter(a+b for a in A for b in B)\n",
    "        return sum(A_B_sum[-c-d] for c in C for d in D)"
   ]
  },
  {
   "cell_type": "markdown",
   "id": "5d5387d5",
   "metadata": {},
   "source": [
    "# 0454 Medium 454 4Sum II"
   ]
  },
  {
   "cell_type": "code",
   "execution_count": null,
   "id": "35b0309f",
   "metadata": {},
   "outputs": [],
   "source": [
    "class Solution:\n",
    "    def fourSumCount(self, A: List[int], B: List[int], C: List[int], D: List[int]) -> int:\n",
    "        ab = collections.Counter([a + b for a in A for b in B])\n",
    "        return sum(-c - d in ab and ab[-c-d] for c in C for d in D)"
   ]
  },
  {
   "cell_type": "markdown",
   "id": "db823f30",
   "metadata": {},
   "source": [
    "# 0456 Medium 456 132 Pattern"
   ]
  },
  {
   "cell_type": "code",
   "execution_count": null,
   "id": "2938e6de",
   "metadata": {},
   "outputs": [],
   "source": [
    "class Solution:\n",
    "    def find132pattern(self, nums):\n",
    "        stack, s3 = [], -float(\"inf\")\n",
    "        for n in nums[::-1]:\n",
    "            if n < s3: return True\n",
    "            while stack and stack[-1] < n: s3 = stack.pop()\n",
    "            stack.append(n)\n",
    "        return False"
   ]
  },
  {
   "cell_type": "markdown",
   "id": "ec6a066c",
   "metadata": {},
   "source": [
    "# 0457 Medium 457 Circular Array Loop"
   ]
  },
  {
   "cell_type": "code",
   "execution_count": null,
   "id": "150a411f",
   "metadata": {},
   "outputs": [],
   "source": [
    "# Time:  O(n)\n",
    "# Space: O(1)\n",
    "\n",
    "class Solution(object):\n",
    "    def circularArrayLoop(self, nums):\n",
    "        \"\"\"\n",
    "        :type nums: List[int]\n",
    "        :rtype: bool\n",
    "        \"\"\"\n",
    "        def next_index(nums, i):\n",
    "            return (i + nums[i]) % len(nums)\n",
    "\n",
    "        for i in xrange(len(nums)):\n",
    "            if nums[i] == 0:\n",
    "                continue\n",
    "\n",
    "            slow, fast = i, i\n",
    "            while nums[next_index(nums, slow)] * nums[i] > 0 and \\\n",
    "                  nums[next_index(nums, fast)] * nums[i] > 0 and \\\n",
    "                  nums[next_index(nums, next_index(nums, fast))] * nums[i] > 0:\n",
    "                slow = next_index(nums, slow)\n",
    "                fast = next_index(nums, next_index(nums, fast))\n",
    "                if slow == fast:\n",
    "                    if slow == next_index(nums, slow):\n",
    "                        break\n",
    "                    return True\n",
    "\n",
    "            slow, val = i, nums[i]\n",
    "            while nums[slow] * val > 0:\n",
    "                tmp = next_index(nums, slow)\n",
    "                nums[slow] = 0\n",
    "                slow = tmp\n",
    "\n",
    "        return False"
   ]
  },
  {
   "cell_type": "markdown",
   "id": "2c413cad",
   "metadata": {},
   "source": [
    "# 0457 Medium 457 Circular Array Loop"
   ]
  },
  {
   "cell_type": "code",
   "execution_count": null,
   "id": "8b9a1a6b",
   "metadata": {},
   "outputs": [],
   "source": [
    "class Solution:\n",
    "    def circularArrayLoop(self, nums: List[int]) -> bool:\n",
    "        for i in range(len(nums)):\n",
    "            if nums[i] == 0:\n",
    "                continue\n",
    "            \n",
    "            # if slow and fast pointers collide, then there exists a loop\n",
    "            slow = i\n",
    "            fast = self.index(nums, slow)\n",
    "            while nums[slow] * nums[fast] > 0 and nums[slow] * nums[self.index(nums, fast)] > 0:\n",
    "                if slow == fast and fast != self.index(nums, fast):\n",
    "                    return True\n",
    "                elif slow == fast and fast == self.index(nums, fast):\n",
    "                    break\n",
    "                slow = self.index(nums, slow)\n",
    "                fast = self.index(nums, self.index(nums, fast))\n",
    "                \n",
    "            # set path to all 0s since it doesn't work\n",
    "            runner = i\n",
    "            value = nums[runner]\n",
    "            while nums[runner] * value > 0:\n",
    "                temp = self.index(nums, runner)\n",
    "                nums[runner] = 0\n",
    "                runner = temp\n",
    "        return False\n",
    "            \n",
    "    def index(self, nums, index):\n",
    "        length = len(nums)\n",
    "        return (index + nums[index] + length) % length"
   ]
  },
  {
   "cell_type": "markdown",
   "id": "b383ab98",
   "metadata": {},
   "source": [
    "# 0457 Medium 457 Circular Array Loop"
   ]
  },
  {
   "cell_type": "code",
   "execution_count": null,
   "id": "e7e4d11e",
   "metadata": {},
   "outputs": [],
   "source": [
    "class Solution(object):\n",
    "    def circularArrayLoop(self, nums):\n",
    "        loops, n = [[set(), set()] for _ in range(len(nums))], len(nums)\n",
    "        for loop in range(3):\n",
    "            for i, num in enumerate(nums):\n",
    "                mode = 0 if num > 0 else 1\n",
    "                if loop == 2 and i in loops[i][mode] and i != (i + num) % n: return True\n",
    "                loops[(i + num) % n][mode] |= loops[i][mode] or {i}\n",
    "        return False"
   ]
  },
  {
   "cell_type": "markdown",
   "id": "ab4c7027",
   "metadata": {},
   "source": [
    "# 0462 Medium 462 Minimum Moves to Equal Array Elements II"
   ]
  },
  {
   "cell_type": "code",
   "execution_count": null,
   "id": "e9db4e05",
   "metadata": {},
   "outputs": [],
   "source": [
    "# Time:  O(n) on average\n",
    "# Space: O(1)\n",
    "\n",
    "from random import randint\n",
    "\n",
    "# Quick select solution.\n",
    "class Solution(object):\n",
    "    def minMoves2(self, nums):\n",
    "        \"\"\"\n",
    "        :type nums: List[int]\n",
    "        :rtype: int\n",
    "        \"\"\"\n",
    "        def kthElement(nums, k):\n",
    "            def PartitionAroundPivot(left, right, pivot_idx, nums):\n",
    "                pivot_value = nums[pivot_idx]\n",
    "                new_pivot_idx = left\n",
    "                nums[pivot_idx], nums[right] = nums[right], nums[pivot_idx]\n",
    "                for i in xrange(left, right):\n",
    "                    if nums[i] > pivot_value:\n",
    "                        nums[i], nums[new_pivot_idx] = nums[new_pivot_idx], nums[i]\n",
    "                        new_pivot_idx += 1\n",
    "\n",
    "                nums[right], nums[new_pivot_idx] = nums[new_pivot_idx], nums[right]\n",
    "                return new_pivot_idx\n",
    "\n",
    "            left, right = 0, len(nums) - 1\n",
    "            while left <= right:\n",
    "                pivot_idx = randint(left, right)\n",
    "                new_pivot_idx = PartitionAroundPivot(left, right, pivot_idx, nums)\n",
    "                if new_pivot_idx == k:\n",
    "                    return nums[new_pivot_idx]\n",
    "                elif new_pivot_idx > k:\n",
    "                    right = new_pivot_idx - 1\n",
    "                else:  # new_pivot_idx < k.\n",
    "                    left = new_pivot_idx + 1\n",
    "\n",
    "        median = kthElement(nums, len(nums)//2)\n",
    "        return sum(abs(num - median) for num in nums)\n",
    "\n",
    "    def minMoves22(self, nums):\n",
    "        \"\"\"\n",
    "        :type nums: List[int]\n",
    "        :rtype: int\n",
    "        \"\"\"\n",
    "        median = sorted(nums)[len(nums) / 2]\n",
    "        return sum(abs(num - median) for num in nums)"
   ]
  },
  {
   "cell_type": "markdown",
   "id": "4328b166",
   "metadata": {},
   "source": [
    "# 0462 Medium 462 Minimum Moves to Equal Array Elements II"
   ]
  },
  {
   "cell_type": "code",
   "execution_count": null,
   "id": "d0d5ba17",
   "metadata": {},
   "outputs": [],
   "source": [
    "class Solution:\n",
    "    def minMoves2(self, nums):\n",
    "        nums.sort()\n",
    "        m = nums[(len(nums) - 1) // 2] \n",
    "        return sum(abs(num - m) for num in nums)"
   ]
  },
  {
   "cell_type": "markdown",
   "id": "71a15d6f",
   "metadata": {},
   "source": [
    "# 0464 Medium 464 Can I Win"
   ]
  },
  {
   "cell_type": "code",
   "execution_count": null,
   "id": "018dc738",
   "metadata": {},
   "outputs": [],
   "source": [
    "# Time:  O(n!)\n",
    "# Space: O(n)\n",
    "\n",
    "class Solution(object):\n",
    "    def canIWin(self, maxChoosableInteger, desiredTotal):\n",
    "        \"\"\"\n",
    "        :type maxChoosableInteger: int\n",
    "        :type desiredTotal: int\n",
    "        :rtype: bool\n",
    "        \"\"\"\n",
    "        def canIWinHelper(maxChoosableInteger, desiredTotal, visited, lookup):\n",
    "            if visited in lookup:\n",
    "                return lookup[visited]\n",
    "\n",
    "            mask = 1\n",
    "            for i in xrange(maxChoosableInteger):\n",
    "                if visited & mask == 0:\n",
    "                    if i + 1 >= desiredTotal or \\\n",
    "                       not canIWinHelper(maxChoosableInteger, desiredTotal - (i + 1), visited | mask, lookup):\n",
    "                        lookup[visited] = True\n",
    "                        return True\n",
    "                mask <<= 1\n",
    "            lookup[visited] = False\n",
    "            return False\n",
    "\n",
    "        if (1 + maxChoosableInteger) * (maxChoosableInteger / 2) < desiredTotal:\n",
    "            return False\n",
    "\n",
    "        return canIWinHelper(maxChoosableInteger, desiredTotal, 0, {})"
   ]
  },
  {
   "cell_type": "markdown",
   "id": "e0643afe",
   "metadata": {},
   "source": [
    "# 0464 Medium 464 Can I Win"
   ]
  },
  {
   "cell_type": "code",
   "execution_count": null,
   "id": "f80f6a12",
   "metadata": {},
   "outputs": [],
   "source": [
    "class Solution:\n",
    "    def canIWin(self, maxChoosableInteger, desiredTotal):\n",
    "        memo = {}\n",
    "        def dfs(arr, total):\n",
    "            s = str(arr)\n",
    "            if s in memo:\n",
    "                return memo[s]\n",
    "            elif arr[-1] >= total:\n",
    "                return True\n",
    "            for i in range(len(arr)):\n",
    "                if not dfs(arr[:i] + arr[i + 1:], total - arr[i]):\n",
    "                    memo[s] = True\n",
    "                    return True\n",
    "            memo[s] = False\n",
    "            return False\n",
    "        if (1 + maxChoosableInteger) * maxChoosableInteger/2 < desiredTotal:\n",
    "            return False\n",
    "        return dfs(list(range(1, maxChoosableInteger + 1)), desiredTotal)"
   ]
  },
  {
   "cell_type": "markdown",
   "id": "20eacc79",
   "metadata": {},
   "source": [
    "# 0467 Medium 467 Unique Substrings in Wraparound String"
   ]
  },
  {
   "cell_type": "code",
   "execution_count": null,
   "id": "ba272872",
   "metadata": {},
   "outputs": [],
   "source": [
    "# Time:  O(n)\n",
    "# Space: O(1)\n",
    "\n",
    "class Solution(object):\n",
    "    def findSubstringInWraproundString(self, p):\n",
    "        \"\"\"\n",
    "        :type p: str\n",
    "        :rtype: int\n",
    "        \"\"\"\n",
    "        letters = [0] * 26\n",
    "        result, length = 0, 0\n",
    "        for i in xrange(len(p)):\n",
    "            curr = ord(p[i]) - ord('a')\n",
    "            if i > 0 and ord(p[i-1]) != (curr-1)%26 + ord('a'):\n",
    "                length = 0\n",
    "            length += 1\n",
    "            if length > letters[curr]:\n",
    "                result += length - letters[curr]\n",
    "                letters[curr] = length\n",
    "        return result"
   ]
  },
  {
   "cell_type": "markdown",
   "id": "34eb8e6c",
   "metadata": {},
   "source": [
    "# 0467 Medium 467 Unique Substrings in Wraparound String"
   ]
  },
  {
   "cell_type": "code",
   "execution_count": null,
   "id": "90050047",
   "metadata": {},
   "outputs": [],
   "source": [
    "class Solution:\n",
    "    def findSubstringInWraproundString(self, p):\n",
    "        res, l = {i: 1 for i in p}, 1\n",
    "        for i, j in zip(p, p[1:]):\n",
    "            l = l + 1 if (ord(j) - ord(i)) % 26 == 1 else 1\n",
    "            res[j] = max(res[j], l)\n",
    "        return sum(res.values())"
   ]
  },
  {
   "cell_type": "markdown",
   "id": "5948454d",
   "metadata": {},
   "source": [
    "# 0468 Medium 468 Validate IP Address"
   ]
  },
  {
   "cell_type": "code",
   "execution_count": null,
   "id": "7cb3e885",
   "metadata": {},
   "outputs": [],
   "source": [
    "# Time:  O(1)\n",
    "# Space: O(1)\n",
    "\n",
    "import string\n",
    "\n",
    "\n",
    "class Solution(object):\n",
    "    def validIPAddress(self, IP):\n",
    "        \"\"\"\n",
    "        :type IP: str\n",
    "        :rtype: str\n",
    "        \"\"\"\n",
    "        blocks = IP.split('.')\n",
    "        if len(blocks) == 4:\n",
    "            for i in xrange(len(blocks)):\n",
    "                if not blocks[i].isdigit() or not 0 <= int(blocks[i]) < 256 or \\\n",
    "                   (blocks[i][0] == '0' and len(blocks[i]) > 1):\n",
    "                    return \"Neither\"\n",
    "            return \"IPv4\"\n",
    "\n",
    "        blocks = IP.split(':')\n",
    "        if len(blocks) == 8:\n",
    "            for i in xrange(len(blocks)):\n",
    "                if not (1 <= len(blocks[i]) <= 4) or \\\n",
    "                   not all(c in string.hexdigits for c in blocks[i]):\n",
    "                    return \"Neither\"\n",
    "            return \"IPv6\"\n",
    "        return \"Neither\""
   ]
  },
  {
   "cell_type": "markdown",
   "id": "163878fc",
   "metadata": {},
   "source": [
    "# 0468 Medium 468 Validate IP Address"
   ]
  },
  {
   "cell_type": "code",
   "execution_count": null,
   "id": "ac32f67a",
   "metadata": {},
   "outputs": [],
   "source": [
    "class Solution:\n",
    "    def validIPAddress(self, IP):\n",
    "        \"\"\"\n",
    "        :type IP: str\n",
    "        :rtype: str\n",
    "        \"\"\"\n",
    "        ip4, ip6 = IP.split(\".\"), IP.split(\":\")\n",
    "        if len(ip4) == 4:\n",
    "            for num in ip4:\n",
    "                try: \n",
    "                    if not (num[0] in string.digits and int(num) < 256 and (num[0] != \"0\" or num == \"0\")): return \"Neither\"\n",
    "                except: return \"Neither\"\n",
    "            return \"IPv4\"\n",
    "        elif len(ip6) == 8:\n",
    "            for num in ip6:\n",
    "                try: \n",
    "                    if not (num[0] in string.hexdigits and 0 <= int(num, 16) and len(num) <= 4): return \"Neither\"\n",
    "                except: return \"Neither\"\n",
    "            return \"IPv6\"\n",
    "        return \"Neither\""
   ]
  },
  {
   "cell_type": "markdown",
   "id": "2f4c5276",
   "metadata": {},
   "source": [
    "# 0469 Medium 469 Convex Polygon"
   ]
  },
  {
   "cell_type": "code",
   "execution_count": null,
   "id": "70f32d7f",
   "metadata": {},
   "outputs": [],
   "source": [
    "# Time:  O(n)\n",
    "# Space: O(1)\n",
    "\n",
    "class Solution(object):\n",
    "    def isConvex(self, points):\n",
    "        \"\"\"\n",
    "        :type points: List[List[int]]\n",
    "        :rtype: bool\n",
    "        \"\"\"\n",
    "        def det(A):\n",
    "            return A[0][0]*A[1][1] - A[0][1]*A[1][0]\n",
    "\n",
    "        n, prev, curr = len(points), 0, None\n",
    "        for i in xrange(len(points)):\n",
    "            A = [[points[(i+j) % n][0] - points[i][0], points[(i+j) % n][1] - points[i][1]] for j in (1, 2)]\n",
    "            curr = det(A)\n",
    "            if curr:\n",
    "                if curr * prev < 0:\n",
    "                    return False\n",
    "                prev = curr\n",
    "        return True"
   ]
  },
  {
   "cell_type": "markdown",
   "id": "49bde25b",
   "metadata": {},
   "source": [
    "# 0469 Medium 469 Convex Polygon"
   ]
  },
  {
   "cell_type": "code",
   "execution_count": null,
   "id": "1a3f0ebe",
   "metadata": {},
   "outputs": [],
   "source": [
    "class Solution:\n",
    "    def isConvex(self, points):\n",
    "        def direction(a, b, c): return (b[0] - a[0]) * (c[1] - a[1]) - (b[1] - a[1]) * (c[0] - a[0])\n",
    "        d, n = 0, len(points)\n",
    "        for i in range(n):\n",
    "            a = direction(points[i], points[(i + 1) % n], points[(i + 2) % n])\n",
    "            if not d: d = a\n",
    "            elif a * d < 0: return False\n",
    "        return True"
   ]
  },
  {
   "cell_type": "markdown",
   "id": "2f6d4b77",
   "metadata": {},
   "source": [
    "# 0470 Medium 470 Implement Rand10"
   ]
  },
  {
   "cell_type": "code",
   "execution_count": null,
   "id": "a7a0197e",
   "metadata": {},
   "outputs": [],
   "source": [
    "class Solution:\n",
    "    def rand10(self):\n",
    "        return sum(rand7() for _ in range(10)) % 10 + 1"
   ]
  },
  {
   "cell_type": "markdown",
   "id": "a910cb68",
   "metadata": {},
   "source": [
    "# 0473 Medium 473 Matchsticks to Square"
   ]
  },
  {
   "cell_type": "code",
   "execution_count": null,
   "id": "2a7d73d8",
   "metadata": {},
   "outputs": [],
   "source": [
    "# Time:  O(n * s * 2^n), s is the number of subset of which sum equals to side length.\n",
    "# Space: O(n * (2^n + s))\n",
    "\n",
    "class Solution(object):\n",
    "    def makesquare(self, nums):\n",
    "        \"\"\"\n",
    "        :type nums: List[int]\n",
    "        :rtype: bool\n",
    "        \"\"\"\n",
    "        total_len = sum(nums)\n",
    "        if total_len % 4:\n",
    "            return False\n",
    "\n",
    "        side_len = total_len / 4\n",
    "        fullset = (1 << len(nums)) - 1\n",
    "\n",
    "        used_subsets = []\n",
    "        valid_half_subsets = [0] * (1 << len(nums))\n",
    "\n",
    "        for subset in xrange(fullset+1):\n",
    "            subset_total_len = 0\n",
    "            for i in xrange(len(nums)):\n",
    "                if subset & (1 << i):\n",
    "                    subset_total_len += nums[i]\n",
    "\n",
    "            if subset_total_len == side_len:\n",
    "                for used_subset in used_subsets:\n",
    "                    if (used_subset & subset) == 0:\n",
    "                        valid_half_subset = used_subset | subset\n",
    "                        valid_half_subsets[valid_half_subset] = True\n",
    "                        if valid_half_subsets[fullset ^ valid_half_subset]:\n",
    "                            return True\n",
    "                used_subsets.append(subset)\n",
    "\n",
    "        return False"
   ]
  },
  {
   "cell_type": "markdown",
   "id": "69803af5",
   "metadata": {},
   "source": [
    "# 0473 Medium 473 Matchsticks to Square"
   ]
  },
  {
   "cell_type": "code",
   "execution_count": null,
   "id": "8294260b",
   "metadata": {},
   "outputs": [],
   "source": [
    "class Solution:\n",
    "    def makesquare(self, nums):\n",
    "        def dfs(index, edge, count, used):\n",
    "            for i in range(index, len(nums)):\n",
    "                if i in used or edge - nums[i] < 0: continue\n",
    "                elif edge - nums[i] > 0 and dfs(i + 1, edge - nums[i], count, used | {i}): return True\n",
    "                elif edge - nums[i] == 0 and (count and dfs(1, l, count - 1, used | {i})) or not count: return True\n",
    "            return False\n",
    "        sm = sum(nums)\n",
    "        if len(nums) < 4 or sm % 4 != 0: return False\n",
    "        l = sm // 4 \n",
    "        nums.sort(reverse = True)\n",
    "        if nums[0] > l: return False\n",
    "        return nums[0] == l and dfs(1, l, 1, {0}) or dfs(1, l - nums[0], 2, {0})"
   ]
  },
  {
   "cell_type": "markdown",
   "id": "ef2804ed",
   "metadata": {},
   "source": [
    "# 0474 Medium 474 Ones and Zeroes"
   ]
  },
  {
   "cell_type": "code",
   "execution_count": null,
   "id": "f2d3ad6b",
   "metadata": {},
   "outputs": [],
   "source": [
    "\"\"\"\n",
    "dp[i][n][m] := max size of the subset with total m 0's and n 1's.\n",
    "Find max size for each m<=M and n<=N.\n",
    "\"\"\"\n",
    "class Solution(object):\n",
    "    def findMaxForm(self, strs, M, N):\n",
    "        dp = [[[0 for _ in xrange(M+1)] for _ in xrange(N+1)] for _ in xrange(len(strs)+1)]\n",
    "        \n",
    "        for i in xrange(1, len(strs)+1):\n",
    "            count0 = strs[i-1].count('0')\n",
    "            count1 = len(strs[i-1])-count0\n",
    "\n",
    "            for n in xrange(N+1):\n",
    "                for m in xrange(M+1):\n",
    "                    dp[i][n][m] = max(dp[i-1][n][m], (dp[i-1][n-count1][m-count0]+1) if m>=count0 and n>=count1 else 0)\n",
    "        \n",
    "        ans = 0\n",
    "        for n in xrange(N+1):\n",
    "                for m in xrange(M+1):\n",
    "                    ans = max(ans, dp[-1][n][m])\n",
    "            \n",
    "        return ans"
   ]
  },
  {
   "cell_type": "markdown",
   "id": "b37d61d0",
   "metadata": {},
   "source": [
    "# 0474 Medium 474 Ones and Zeroes"
   ]
  },
  {
   "cell_type": "code",
   "execution_count": null,
   "id": "fddc890a",
   "metadata": {},
   "outputs": [],
   "source": [
    "class Solution:\n",
    "    def findMaxForm(self, strs, m, n):\n",
    "        res = [0]\n",
    "        memo = set()\n",
    "        def dfs(st, zeros, ones, cnt):\n",
    "            if (zeros, ones, cnt) not in memo:\n",
    "                if cnt > res[0]:\n",
    "                    res[0] = cnt\n",
    "                if zeros or ones:\n",
    "                    for s in st:\n",
    "                        if st[s] and cntr[s][\"0\"] <= zeros and cntr[s][\"1\"] <= ones:\n",
    "                            st[s] -= 1\n",
    "                            dfs(st, zeros - cntr[s][\"0\"], ones - cntr[s][\"1\"], cnt + 1)\n",
    "                            st[s] += 1\n",
    "                memo.add((zeros, ones, cnt))\n",
    "                \n",
    "        cntr = {s:collections.Counter(s) for s in strs}\n",
    "        dfs(collections.Counter(strs), m, n, 0)\n",
    "        return res[0]"
   ]
  },
  {
   "cell_type": "markdown",
   "id": "ab82ed7a",
   "metadata": {},
   "source": [
    "# 0475 Medium 475 Heaters"
   ]
  },
  {
   "cell_type": "code",
   "execution_count": null,
   "id": "39fa6d52",
   "metadata": {},
   "outputs": [],
   "source": [
    "# Time:  O((m + n) * logn), m is the number of the houses, n is the number of the heaters.\n",
    "# Space: O(1)\n",
    "\n",
    "import bisect\n",
    "\n",
    "\n",
    "class Solution(object):\n",
    "    def findRadius(self, houses, heaters):\n",
    "        \"\"\"\n",
    "        :type houses: List[int]\n",
    "        :type heaters: List[int]\n",
    "        :rtype: int\n",
    "        \"\"\"\n",
    "        heaters.sort()\n",
    "        min_radius = 0\n",
    "        for house in houses:\n",
    "        \tequal_or_larger = bisect.bisect_left(heaters, house)\n",
    "        \tcurr_radius = float(\"inf\")\n",
    "        \tif equal_or_larger != len(heaters):\n",
    "        \t    curr_radius = heaters[equal_or_larger] - house\n",
    "        \tif equal_or_larger != 0:\n",
    "        \t    smaller = equal_or_larger-1\n",
    "        \t    curr_radius = min(curr_radius, house - heaters[smaller])\n",
    "        \tmin_radius = max(min_radius, curr_radius)\n",
    "        return min_radius"
   ]
  },
  {
   "cell_type": "markdown",
   "id": "7be70ee1",
   "metadata": {},
   "source": [
    "# 0475 Medium 475 Heaters"
   ]
  },
  {
   "cell_type": "code",
   "execution_count": null,
   "id": "e6ede809",
   "metadata": {},
   "outputs": [],
   "source": [
    "class Solution(object):\n",
    "    def findRadius(self, houses, heaters):\n",
    "        \"\"\"\n",
    "        :type houses: List[int]\n",
    "        :type heaters: List[int]\n",
    "        :rtype: int\n",
    "        \"\"\"\n",
    "        heaters = sorted(heaters) + [float('inf')]\n",
    "        i = r = 0\n",
    "        for x in sorted(houses):\n",
    "            # move to next range\n",
    "            while x >= sum(heaters[i:i + 2]) / 2.:\n",
    "                i += 1\n",
    "            # ans = hearter - hourse\n",
    "            r = max(r, abs(heaters[i] - x))\n",
    "        return r"
   ]
  },
  {
   "cell_type": "markdown",
   "id": "32a35652",
   "metadata": {},
   "source": [
    "# 0475 Medium 475 Heaters"
   ]
  },
  {
   "cell_type": "code",
   "execution_count": null,
   "id": "3e96cd7b",
   "metadata": {},
   "outputs": [],
   "source": [
    "class Solution:\n",
    "    def findRadius(self, houses, heaters):\n",
    "        heaters.sort()\n",
    "        r = 0\n",
    "        for h in houses:\n",
    "            ind = bisect.bisect_left(heaters, h)\n",
    "            if ind == len(heaters):\n",
    "                r = max(r, h - heaters[-1])\n",
    "            elif ind == 0:\n",
    "                r = max(r, heaters[0] - h)\n",
    "            else:\n",
    "                r = max(r, min(heaters[ind] - h, h - heaters[ind - 1]))\n",
    "        return r"
   ]
  },
  {
   "cell_type": "markdown",
   "id": "61a2657a",
   "metadata": {},
   "source": [
    "# 0477 Medium 477 Total Hamming Distance"
   ]
  },
  {
   "cell_type": "code",
   "execution_count": null,
   "id": "e000d802",
   "metadata": {},
   "outputs": [],
   "source": [
    "# Time:  O(n)\n",
    "# Space: O(1)\n",
    "\n",
    "class Solution(object):\n",
    "    def totalHammingDistance(self, nums):\n",
    "        \"\"\"\n",
    "        :type nums: List[int]\n",
    "        :rtype: int\n",
    "        \"\"\"\n",
    "        result = 0\n",
    "        for i in xrange(32):\n",
    "            counts = [0] * 2\n",
    "            for num in nums:\n",
    "                counts[(num >> i) & 1] += 1\n",
    "            result += counts[0] * counts[1]\n",
    "        return result"
   ]
  },
  {
   "cell_type": "markdown",
   "id": "0f819cfc",
   "metadata": {},
   "source": [
    "# 0477 Medium 477 Total Hamming Distance"
   ]
  },
  {
   "cell_type": "code",
   "execution_count": null,
   "id": "12292284",
   "metadata": {},
   "outputs": [],
   "source": [
    "class Solution:\n",
    "    def totalHammingDistance(self, nums):\n",
    "        ones, n, res = [0] * 32, len(nums), 0\n",
    "        for num in nums:\n",
    "            for i, c in enumerate(bin(num)[2:][::-1]):\n",
    "                if c == \"1\": ones[i] += 1\n",
    "        for one in ones: res += one * (n - one)\n",
    "        return res"
   ]
  },
  {
   "cell_type": "markdown",
   "id": "054e2f62",
   "metadata": {},
   "source": [
    "# 0478 Medium 478 Generate Random Point in a Circle"
   ]
  },
  {
   "cell_type": "code",
   "execution_count": null,
   "id": "0972ce88",
   "metadata": {},
   "outputs": [],
   "source": [
    "# Time:  O(1)\n",
    "# Space: O(1)\n",
    "\n",
    "import random\n",
    "import math\n",
    "\n",
    "class Solution(object):\n",
    "\n",
    "    def __init__(self, radius, x_center, y_center):\n",
    "        \"\"\"\n",
    "        :type radius: float\n",
    "        :type x_center: float\n",
    "        :type y_center: float\n",
    "        \"\"\"\n",
    "        self.__radius = radius\n",
    "        self.__x_center = x_center\n",
    "        self.__y_center = y_center\n",
    "        \n",
    "\n",
    "    def randPoint(self):\n",
    "        \"\"\"\n",
    "        :rtype: List[float]\n",
    "        \"\"\"\n",
    "        r = (self.__radius) * math.sqrt(random.uniform(0, 1))\n",
    "        theta = (2*math.pi) * random.uniform(0, 1)\n",
    "        return (r*math.cos(theta) + self.__x_center,\n",
    "                r*math.sin(theta) + self.__y_center)"
   ]
  },
  {
   "cell_type": "markdown",
   "id": "b6875bcc",
   "metadata": {},
   "source": [
    "# 0478 Medium 478 Generate Random Point in a Circle"
   ]
  },
  {
   "cell_type": "code",
   "execution_count": null,
   "id": "9515dafb",
   "metadata": {},
   "outputs": [],
   "source": [
    "class Solution:\n",
    "\n",
    "    def __init__(self, radius, x_center, y_center):\n",
    "        self.x, self.y, self.r = x_center, y_center, radius\n",
    "\n",
    "    def randPoint(self):\n",
    "        r, angle, scale = random.uniform(0, self.r), random.uniform(0, 2 * math.pi), math.sqrt(random.uniform(0, 1))\n",
    "        return [self.x + self.r * scale * math.cos(angle), self.y + self.r * scale * math.sin(angle)]"
   ]
  },
  {
   "cell_type": "markdown",
   "id": "b3d86a6e",
   "metadata": {},
   "source": [
    "# 0481 Medium 481 Magical String"
   ]
  },
  {
   "cell_type": "code",
   "execution_count": null,
   "id": "3250a44a",
   "metadata": {},
   "outputs": [],
   "source": [
    "# Time:  O(n)\n",
    "# Space: O(logn)\n",
    "\n",
    "import itertools\n",
    "\n",
    "\n",
    "class Solution(object):\n",
    "    def magicalString(self, n):\n",
    "        \"\"\"\n",
    "        :type n: int\n",
    "        :rtype: int\n",
    "        \"\"\"\n",
    "        def gen():  # see figure 1 on page 3 of http://www.emis.ams.org/journals/JIS/VOL15/Nilsson/nilsson5.pdf\n",
    "            for c in 1, 2, 2:\n",
    "                yield c\n",
    "            for i, c in enumerate(gen()):\n",
    "                if i > 1:\n",
    "                    for _ in xrange(c):\n",
    "                        yield i % 2 + 1\n",
    "\n",
    "        return sum(c & 1 for c in itertools.islice(gen(), n))"
   ]
  },
  {
   "cell_type": "markdown",
   "id": "75a08d88",
   "metadata": {},
   "source": [
    "# 0481 Medium 481 Magical String"
   ]
  },
  {
   "cell_type": "code",
   "execution_count": null,
   "id": "48b5dc23",
   "metadata": {},
   "outputs": [],
   "source": [
    "class Solution(object):\n",
    "    def magicalString(self, n):\n",
    "        cnt, s, two = 0, \"1\", True\n",
    "        for i in range(n - 1):\n",
    "            if s[i] == \"1\":\n",
    "                cnt += 1\n",
    "                s += \"2\" if two else \"1\"\n",
    "            else: s += \"22\" if two else \"11\"\n",
    "            two = not two\n",
    "        return cnt if n != 1 else 1"
   ]
  },
  {
   "cell_type": "markdown",
   "id": "9ba13e83",
   "metadata": {},
   "source": [
    "# 0484 Medium 484 Find Permutation"
   ]
  },
  {
   "cell_type": "code",
   "execution_count": null,
   "id": "1ac02045",
   "metadata": {},
   "outputs": [],
   "source": [
    "# Time:  O(n)\n",
    "# Space: O(1)\n",
    "\n",
    "class Solution(object):\n",
    "    def findPermutation(self, s):\n",
    "        \"\"\"\n",
    "        :type s: str\n",
    "        :rtype: List[int]\n",
    "        \"\"\"\n",
    "        result = []\n",
    "        for i in xrange(len(s)+1):\n",
    "            if i == len(s) or s[i] == 'I':\n",
    "                result += range(i+1, len(result), -1)\n",
    "        return result"
   ]
  },
  {
   "cell_type": "markdown",
   "id": "532d896b",
   "metadata": {},
   "source": [
    "# 0484 Medium 484 Find Permutation"
   ]
  },
  {
   "cell_type": "code",
   "execution_count": null,
   "id": "b60d156a",
   "metadata": {},
   "outputs": [],
   "source": [
    "class Solution:\n",
    "    def findPermutation(self, s):\n",
    "        arr, cnt, n = list(range(1, len(s) + 2)), 0, len(s)\n",
    "        for i in range(n + 1):\n",
    "            if i < n and s[i] == \"D\":\n",
    "                cnt += 1\n",
    "            elif cnt:\n",
    "                arr[i - cnt:i + 1] =  arr[i - cnt:i + 1][::-1]\n",
    "                cnt = 0\n",
    "        return arr"
   ]
  },
  {
   "cell_type": "markdown",
   "id": "e747e5c0",
   "metadata": {},
   "source": [
    "# 0486 Medium 486 Predict the Winner"
   ]
  },
  {
   "cell_type": "code",
   "execution_count": null,
   "id": "2a89ac5d",
   "metadata": {},
   "outputs": [],
   "source": [
    "# Time:  O(n^2)\n",
    "# Space: O(n)\n",
    "\n",
    "class Solution(object):\n",
    "    def PredictTheWinner(self, nums):\n",
    "        \"\"\"\n",
    "        :type nums: List[int]\n",
    "        :rtype: bool\n",
    "        \"\"\"\n",
    "        if len(nums) % 2 == 0 or len(nums) == 1:\n",
    "            return True\n",
    "\n",
    "        dp = [0] * len(nums)\n",
    "        for i in reversed(xrange(len(nums))):\n",
    "            dp[i] = nums[i]\n",
    "            for j in xrange(i+1, len(nums)):\n",
    "                dp[j] = max(nums[i] - dp[j], nums[j] - dp[j - 1])\n",
    "\n",
    "        return dp[-1] >= 0"
   ]
  },
  {
   "cell_type": "markdown",
   "id": "2223c43d",
   "metadata": {},
   "source": [
    "# 0486 Medium 486 Predict the Winner"
   ]
  },
  {
   "cell_type": "code",
   "execution_count": null,
   "id": "a67f072f",
   "metadata": {},
   "outputs": [],
   "source": [
    "class Solution:\n",
    "    def PredictTheWinner(self, nums):\n",
    "        def dfs(l, r, p1, p2, turn):\n",
    "            if l > r:\n",
    "                return p1 >= p2\n",
    "            elif turn:\n",
    "                return dfs(l + 1, r, p1 + nums[l], p2, 0) or dfs(l, r - 1, p1 + nums[r], p2, 0)\n",
    "            else:\n",
    "                return dfs(l + 1, r, p1, p2 + nums[l], 1) and dfs(l, r - 1, p1, p2 + nums[r], 1)\n",
    "        return dfs(0, len(nums) - 1, 0, 0, 1)"
   ]
  },
  {
   "cell_type": "markdown",
   "id": "0fb8e63f",
   "metadata": {},
   "source": [
    "# 0487 Medium 487 Max Consecutive Ones II"
   ]
  },
  {
   "cell_type": "code",
   "execution_count": null,
   "id": "31c37f68",
   "metadata": {},
   "outputs": [],
   "source": [
    "# Time:  O(n)\n",
    "# Space: O(1)\n",
    "\n",
    "class Solution(object):\n",
    "    def findMaxConsecutiveOnes(self, nums):\n",
    "        \"\"\"\n",
    "        :type nums: List[int]\n",
    "        :rtype: int\n",
    "        \"\"\"\n",
    "        result, prev, curr = 0, 0, 0\n",
    "        for n in nums:\n",
    "            if n == 0:\n",
    "                result = max(result, prev+curr+1)\n",
    "                prev, curr = curr, 0\n",
    "            else:\n",
    "                curr += 1\n",
    "        return min(max(result, prev+curr+1), len(nums))"
   ]
  },
  {
   "cell_type": "markdown",
   "id": "2bf1f55f",
   "metadata": {},
   "source": [
    "# 0487 Medium 487 Max Consecutive Ones II"
   ]
  },
  {
   "cell_type": "code",
   "execution_count": null,
   "id": "3c98fbd3",
   "metadata": {},
   "outputs": [],
   "source": [
    "class Solution:\n",
    "    def findMaxConsecutiveOnes(self, nums):\n",
    "        l, zero, mx = 0, -1, 0\n",
    "        for r, num in enumerate(nums + [0]):\n",
    "            if not num:\n",
    "                l, zero, mx = zero + 1, r, max(mx, r - l)\n",
    "        return mx"
   ]
  },
  {
   "cell_type": "markdown",
   "id": "dfee7000",
   "metadata": {},
   "source": [
    "# 0490 Medium 490 The Maze"
   ]
  },
  {
   "cell_type": "code",
   "execution_count": null,
   "id": "97d8ff55",
   "metadata": {},
   "outputs": [],
   "source": [
    "# Time:  O(max(r, c) * w)\n",
    "# Space: O(w)\n",
    "\n",
    "import collections\n",
    "\n",
    "\n",
    "class Solution(object):\n",
    "    def hasPath(self, maze, start, destination):\n",
    "        \"\"\"\n",
    "        :type maze: List[List[int]]\n",
    "        :type start: List[int]\n",
    "        :type destination: List[int]\n",
    "        :rtype: bool\n",
    "        \"\"\"\n",
    "        def neighbors(maze, node):\n",
    "            for i, j in [(-1, 0), (0, 1), (0, -1), (1, 0)]:\n",
    "                x, y = node\n",
    "                while 0 <= x + i < len(maze) and \\\n",
    "                      0 <= y + j < len(maze[0]) and \\\n",
    "                      not maze[x+i][y+j]:\n",
    "                    x += i\n",
    "                    y += j\n",
    "                yield x, y\n",
    "\n",
    "        start, destination = tuple(start), tuple(destination)\n",
    "        queue = collections.deque([start])\n",
    "        visited = set()\n",
    "        while queue:\n",
    "            node = queue.popleft()\n",
    "            if node in visited: continue\n",
    "            if node == destination:\n",
    "                return True\n",
    "            visited.add(node)\n",
    "            for neighbor in neighbors(maze, node):\n",
    "                queue.append(neighbor)\n",
    "\n",
    "        return False"
   ]
  },
  {
   "cell_type": "markdown",
   "id": "09d36af1",
   "metadata": {},
   "source": [
    "# 0490 Medium 490 The Maze"
   ]
  },
  {
   "cell_type": "code",
   "execution_count": null,
   "id": "69087981",
   "metadata": {},
   "outputs": [],
   "source": [
    "class Solution:\n",
    "    def hasPath(self, maze, start, destination):\n",
    "        m, n, stopped = len(maze), len(maze[0]), set()\n",
    "        def dfs(x, y):\n",
    "            if (x, y) in stopped: \n",
    "                return False\n",
    "            stopped.add((x, y))\n",
    "            if [x, y] == destination:\n",
    "                return True\n",
    "            for i, j in (-1, 0) , (1, 0), (0, -1), (0, 1):\n",
    "                newX, newY = x, y\n",
    "                while 0 <= newX + i < m and 0 <= newY + j < n and maze[newX + i][newY + j] != 1:\n",
    "                    newX += i\n",
    "                    newY += j\n",
    "                if dfs(newX, newY):\n",
    "                    return True\n",
    "            return False\n",
    "        return dfs(*start)"
   ]
  },
  {
   "cell_type": "markdown",
   "id": "48b27437",
   "metadata": {},
   "source": [
    "# 0491 Medium 491 Non decreasing Subsequences"
   ]
  },
  {
   "cell_type": "code",
   "execution_count": null,
   "id": "7ae4012e",
   "metadata": {},
   "outputs": [],
   "source": [
    "class Solution:\n",
    "    def findSubsequences(self, nums):\n",
    "        subs = {()}\n",
    "        for num in nums:\n",
    "            subs |= {sub + (num,) for sub in subs if not sub or sub[-1] <= num}\n",
    "        return [sub for sub in subs if len(sub) >= 2]"
   ]
  },
  {
   "cell_type": "markdown",
   "id": "56352af7",
   "metadata": {},
   "source": [
    "# 0494 Medium 494 Target Sum"
   ]
  },
  {
   "cell_type": "code",
   "execution_count": null,
   "id": "25b88c34",
   "metadata": {},
   "outputs": [],
   "source": [
    "class Solution(object):\n",
    "    def findTargetSumWays(self, nums, S):\n",
    "        stack = [(0, 0)]\n",
    "        ans = 0\n",
    "        \n",
    "        while stack:\n",
    "            i, s = stack.pop()\n",
    "            if i==len(nums) and s==S: ans += 1\n",
    "            if i>=len(nums): continue\n",
    "            \n",
    "            stack.append((i+1, s+nums[i]))\n",
    "            stack.append((i+1, s-nums[i]))\n",
    "        \n",
    "        return ans\n",
    "\n",
    "\"\"\"\n",
    "dp[i][j] = number of ways to sum to j using nums[0~i-1]\n",
    "Time: O(SN)\n",
    "Space: O(SN)\n",
    "\"\"\"\n",
    "\n",
    "\n",
    "import collections\n",
    "class Solution(object):\n",
    "    def findTargetSumWays(self, nums, target):\n",
    "        S = sum(nums)\n",
    "        dp = [collections.Counter() for _ in xrange(len(nums)+1)]\n",
    "        dp[0][0] = 1\n",
    "        \n",
    "        for i in xrange(1, len(nums)+1):\n",
    "            for j in xrange(-S, S+1):\n",
    "                dp[i][j] = dp[i-1][j+nums[i-1]] + dp[i-1][j-nums[i-1]]\n",
    "        \n",
    "        return dp[len(nums)][target]\n",
    "\n",
    "\n",
    "#2021/6/7\n",
    "\"\"\"\n",
    "dp[i][t] := number of ways nums[:i] can sum up to t applying + or -.\n",
    "For all i, calculate all posible target (From minTarget~maxTarget)\n",
    "\"\"\"\n",
    "class Solution(object):\n",
    "    def findTargetSumWays(self, nums, target):\n",
    "        N = len(nums)\n",
    "        maxTarget = sum(nums)\n",
    "        minTarget = -maxTarget\n",
    "        \n",
    "        if target<minTarget or target>maxTarget: return 0\n",
    "        \n",
    "        dp = [[0 for _ in xrange(minTarget, maxTarget+1)] for _ in xrange(N+1)]\n",
    "        \n",
    "        dp[0][0] = 1\n",
    "        \n",
    "        for i in xrange(1, N+1):\n",
    "            for t in xrange(minTarget, maxTarget+1):\n",
    "                dp[i][t] = (dp[i-1][t-nums[i-1]] if t-nums[i-1]>=minTarget else 0) + (dp[i-1][t+nums[i-1]] if t+nums[i-1]<=maxTarget else 0)\n",
    "        \n",
    "        return dp[N][target]\n",
    "\n",
    "\n",
    "\"\"\"\n",
    "dp[i][s] := considerting nums[:i] how many expressions can sum up to s.\n",
    "dp[0][0] = 1\n",
    "\"\"\"\n",
    "class Solution(object):\n",
    "    def findTargetSumWays(self, nums, target):\n",
    "        S = sum(nums)\n",
    "        if not -S<=target<=S: return 0\n",
    "        \n",
    "        dp = [{s:0 for s in xrange(-S, S+1)} for _ in xrange(len(nums)+1)]\n",
    "        dp[0][0] = 1\n",
    "        \n",
    "        for i in xrange(1, len(nums)+1):\n",
    "            for s in xrange(-S, S+1):\n",
    "                dp[i][s] = (dp[i-1][s+nums[i-1]] if s+nums[i-1]<=S else 0) + (dp[i-1][s-nums[i-1]] if s-nums[i-1]>=-S else 0)\n",
    "        \n",
    "        return dp[-1][target]"
   ]
  },
  {
   "cell_type": "markdown",
   "id": "e3b556cc",
   "metadata": {},
   "source": [
    "# 0494 Medium 494 Target Sum"
   ]
  },
  {
   "cell_type": "code",
   "execution_count": null,
   "id": "a1252635",
   "metadata": {},
   "outputs": [],
   "source": [
    "class Solution:\n",
    "    def findTargetSumWays(self, nums, S):\n",
    "        d = {S:1}\n",
    "        for i in range(len(nums)):\n",
    "            new_d = collections.defaultdict(int)\n",
    "            for k, v in d.items():\n",
    "                new_d[k+nums[i]] += v\n",
    "                new_d[k-nums[i]] += v\n",
    "            d = new_d\n",
    "        return d[0]"
   ]
  },
  {
   "cell_type": "markdown",
   "id": "68d5469a",
   "metadata": {},
   "source": [
    "# 0497 Medium 497 Random Point in Non overlapping Rectangles"
   ]
  },
  {
   "cell_type": "code",
   "execution_count": null,
   "id": "c05f810a",
   "metadata": {},
   "outputs": [],
   "source": [
    "class Solution:\n",
    "\n",
    "    def __init__(self, rects):\n",
    "        self.rects, self.ranges, sm = rects, [], 0\n",
    "        for x1, y1, x2, y2 in rects:\n",
    "            sm += (x2 - x1 + 1) * (y2 - y1 + 1)\n",
    "            self.ranges.append(sm)\n",
    "\n",
    "    def pick(self):\n",
    "        x1, y1, x2, y2 = self.rects[bisect.bisect_left(self.ranges, random.randint(1, self.ranges[-1]))]\n",
    "        return [random.randint(x1, x2), random.randint(y1, y2)]"
   ]
  },
  {
   "cell_type": "markdown",
   "id": "246ef185",
   "metadata": {},
   "source": [
    "# 0498 Medium 498 Diagonal Traverse"
   ]
  },
  {
   "cell_type": "code",
   "execution_count": null,
   "id": "9e58bf92",
   "metadata": {},
   "outputs": [],
   "source": [
    "class Solution(object):\n",
    "    def findDiagonalOrder(self, mat):\n",
    "        def helper(i, j, reverse):\n",
    "            output = []\n",
    "            while 0<=i<len(mat) and 0<=j<len(mat[0]):\n",
    "                output.append(mat[i][j])\n",
    "                i += 1\n",
    "                j -= 1\n",
    "            return output if not reverse else reversed(output)\n",
    "        \n",
    "        \n",
    "        M = len(mat)\n",
    "        N = len(mat[0])\n",
    "        ans = []\n",
    "        reverse = True\n",
    "        \n",
    "        for j in xrange(N):\n",
    "            ans += helper(0, j, reverse)\n",
    "            reverse = not reverse\n",
    "        \n",
    "        for i in xrange(1, M):\n",
    "            ans += helper(i, N-1, reverse)\n",
    "            reverse = not reverse\n",
    "        \n",
    "        return ans"
   ]
  },
  {
   "cell_type": "markdown",
   "id": "0e6b340c",
   "metadata": {},
   "source": [
    "# 0498 Medium 498 Diagonal Traverse"
   ]
  },
  {
   "cell_type": "code",
   "execution_count": null,
   "id": "b952c6fb",
   "metadata": {},
   "outputs": [],
   "source": [
    "class Solution:\n",
    "    def findDiagonalOrder(self, matrix):\n",
    "        i, j, d, res, n, m = 0, 0, 1, [], len(matrix), len(matrix and matrix[0]) \n",
    "        while i < n and j < m:\n",
    "            res.append(matrix[i][j])\n",
    "            if j + 1 < m and (i == 0 and d == 1) or (i == n - 1 and d == -1): j, d = j + 1, -d\n",
    "            elif i + 1 < n and (j == 0 and d == -1) or (j == m - 1 and d == 1): i, d = i + 1, -d\n",
    "            elif d == 1: i, j = i - 1, j + 1\n",
    "            else: i, j = i + 1, j - 1\n",
    "        return res"
   ]
  },
  {
   "cell_type": "markdown",
   "id": "436ba870",
   "metadata": {},
   "source": [
    "# 0503 Medium 503 Next Greater Element II"
   ]
  },
  {
   "cell_type": "code",
   "execution_count": null,
   "id": "8c3839a5",
   "metadata": {},
   "outputs": [],
   "source": [
    "# Time:  O(n)\n",
    "# Space: O(n)\n",
    "\n",
    "class Solution(object):\n",
    "    def nextGreaterElements(self, nums):\n",
    "        \"\"\"\n",
    "        :type nums: List[int]\n",
    "        :rtype: List[int]\n",
    "        \"\"\"\n",
    "        result, stk = [0] * len(nums), []\n",
    "        for i in reversed(xrange(2*len(nums))):\n",
    "            while stk and stk[-1] <= nums[i % len(nums)]:\n",
    "                stk.pop()\n",
    "            result[i % len(nums)] = stk[-1] if stk else -1\n",
    "            stk.append(nums[i % len(nums)])\n",
    "        return result"
   ]
  },
  {
   "cell_type": "markdown",
   "id": "c96744db",
   "metadata": {},
   "source": [
    "# 0503 Medium 503 Next Greater Element II"
   ]
  },
  {
   "cell_type": "code",
   "execution_count": null,
   "id": "41ea73d7",
   "metadata": {},
   "outputs": [],
   "source": [
    "class Solution:\n",
    "    def nextGreaterElements(self, nums):\n",
    "        stack, res = [], [-1] * len(nums)\n",
    "        for j in range(2):\n",
    "            for i in range(len(nums)):\n",
    "                while stack and (nums[stack[-1]] < nums[i]): res[stack.pop()] = nums[i]\n",
    "                if j == 1 and not stack: break\n",
    "                stack += i, \n",
    "        return res"
   ]
  },
  {
   "cell_type": "markdown",
   "id": "00cd947e",
   "metadata": {},
   "source": [
    "# 0505 Medium 505 The Maze II"
   ]
  },
  {
   "cell_type": "code",
   "execution_count": null,
   "id": "6b16e40b",
   "metadata": {},
   "outputs": [],
   "source": [
    "class Solution(object):\n",
    "    def shortestDistance(self, maze, start, destination):\n",
    "        N, M = len(maze), len(maze[0])\n",
    "        i0, j0 = start\n",
    "        pq = [(0, i0, j0, 'stop')]\n",
    "        visited = set()\n",
    "        \n",
    "        \n",
    "        while pq:\n",
    "            dis, i, j, direction = heapq.heappop(pq)\n",
    "            if (i, j, direction) in visited: continue\n",
    "            visited.add((i, j, direction))\n",
    "            \n",
    "            if i<0 or i>=N or j<0 or j>=M: continue\n",
    "            if maze[i][j]==1: continue\n",
    "            \n",
    "            if i==destination[0] and j==destination[1] and direction=='stop': return dis\n",
    "                \n",
    "            if direction=='stop':\n",
    "                heapq.heappush(pq, (dis+1, i-1, j, 'left'))\n",
    "                heapq.heappush(pq, (dis+1, i+1, j, 'right'))\n",
    "                heapq.heappush(pq, (dis+1, i, j-1, 'down'))\n",
    "                heapq.heappush(pq, (dis+1, i, j+1, 'up'))\n",
    "            elif direction=='left':\n",
    "                if i-1<0 or i-1>=N or j<0 or j>=M or maze[i-1][j]==1:\n",
    "                    heapq.heappush(pq, (dis, i, j, 'stop'))\n",
    "                else:\n",
    "                    heapq.heappush(pq, (dis+1, i-1, j, direction))\n",
    "            elif direction=='right':\n",
    "                if i+1<0 or i+1>=N or j<0 or j>=M or maze[i+1][j]==1:\n",
    "                    heapq.heappush(pq, (dis, i, j, 'stop'))\n",
    "                else:\n",
    "                    heapq.heappush(pq, (dis+1, i+1, j, direction))\n",
    "            elif direction=='down':\n",
    "                if i<0 or i>=N or j-1<0 or j-1>=M or maze[i][j-1]==1:\n",
    "                    heapq.heappush(pq, (dis, i, j, 'stop'))\n",
    "                else:\n",
    "                    heapq.heappush(pq, (dis+1, i, j-1, direction))\n",
    "            elif direction=='up':\n",
    "                if i<0 or i>=N or j+1<0 or j+1>=M or maze[i][j+1]==1:\n",
    "                    heapq.heappush(pq, (dis, i, j, 'stop'))\n",
    "                else:\n",
    "                    heapq.heappush(pq, (dis+1, i, j+1, direction))\n",
    "                    \n",
    "        return -1"
   ]
  },
  {
   "cell_type": "markdown",
   "id": "66357a9e",
   "metadata": {},
   "source": [
    "# 0505 Medium 505 The Maze II"
   ]
  },
  {
   "cell_type": "code",
   "execution_count": null,
   "id": "d46b650c",
   "metadata": {},
   "outputs": [],
   "source": [
    "class Solution:\n",
    "    def shortestDistance(self, maze, start, destination):\n",
    "        m, n, q, stopped = len(maze), len(maze[0]), [(0, start[0], start[1])], {(start[0], start[1]):0}\n",
    "        while q:\n",
    "            dist, x, y = heapq.heappop(q)\n",
    "            if [x, y] == destination:\n",
    "                return dist\n",
    "            for i, j in ((-1, 0), (1, 0), (0, -1), (0, 1)):\n",
    "                newX, newY, d = x, y, 0\n",
    "                while 0 <= newX + i < m and 0 <= newY + j < n and maze[newX + i][newY + j] != 1:\n",
    "                    newX += i\n",
    "                    newY += j\n",
    "                    d += 1\n",
    "                if (newX, newY) not in stopped or dist + d < stopped[(newX, newY)]:\n",
    "                    stopped[(newX, newY)] = dist + d\n",
    "                    heapq.heappush(q, (dist + d, newX, newY))\n",
    "        return -1"
   ]
  },
  {
   "cell_type": "markdown",
   "id": "9ba4d054",
   "metadata": {},
   "source": [
    "# 0508 Medium 508 Most Frequent Subtree Sum"
   ]
  },
  {
   "cell_type": "code",
   "execution_count": null,
   "id": "60e4845c",
   "metadata": {},
   "outputs": [],
   "source": [
    "from collections import Counter\n",
    "class Solution(object):\n",
    "    def findFrequentTreeSum(self, root):\n",
    "        def dfs(node):\n",
    "            if not node: return 0\n",
    "            s = dfs(node.left)+node.val+dfs(node.right)\n",
    "            counter[s] += 1\n",
    "            return s\n",
    "        \n",
    "        if not root: return []\n",
    "        counter = Counter()\n",
    "        dfs(root) #start counting\n",
    "\n",
    "        max_freq = max(counter.values())\n",
    "        return [v for v, freq in counter.items() if freq==max_freq]\n",
    "\n",
    "\"\"\"\n",
    "Time: O(N)\n",
    "Space: O(N)\n",
    "\"\"\"\n",
    "\n",
    "\"\"\"\n",
    "Time: O(N)\n",
    "Space: O(N)\n",
    "\n",
    "Throught the getSubtreeSum(root), we will also count subtreeSum of each node.\n",
    "\"\"\"\n",
    "class Solution(object):\n",
    "    def findFrequentTreeSum(self, root):\n",
    "        def getSubtreeSum(node):\n",
    "            if not node: return 0\n",
    "            subtreeSum = node.val+getSubtreeSum(node.left)+getSubtreeSum(node.right)\n",
    "            memo[subtreeSum] += 1\n",
    "            return subtreeSum\n",
    "        \n",
    "        \n",
    "        memo = collections.Counter()\n",
    "        getSubtreeSum(root)\n",
    "        mostFrequenctCount = max([memo[subtreeSum] for subtreeSum in memo])\n",
    "        return [subtreeSum for subtreeSum in memo if memo[subtreeSum]==mostFrequenctCount]"
   ]
  },
  {
   "cell_type": "markdown",
   "id": "fe36fbfe",
   "metadata": {},
   "source": [
    "# 0508 Medium 508 Most Frequent Subtree Sum"
   ]
  },
  {
   "cell_type": "code",
   "execution_count": null,
   "id": "a0351c7c",
   "metadata": {},
   "outputs": [],
   "source": [
    "# Definition for a binary tree node.\n",
    "# class TreeNode:\n",
    "#     def __init__(self, x):\n",
    "#         self.val = x\n",
    "#         self.left = None\n",
    "#         self.right = None\n",
    "\n",
    "class Solution:\n",
    "    def findFrequentTreeSum(self, root):\n",
    "        \"\"\"\n",
    "        :type root: TreeNode\n",
    "        :rtype: List[int]\n",
    "        \"\"\"\n",
    "        if not root: return []\n",
    "        def traverse(node):\n",
    "            if not node: return 0\n",
    "            sm = traverse(node.left) + traverse(node.right) + node.val\n",
    "            if sm in dic: dic[sm] += 1\n",
    "            else: dic[sm] = 1\n",
    "            return sm\n",
    "        dic = {}\n",
    "        traverse(root)\n",
    "        mx = max(dic.values())\n",
    "        return [k for k in dic.keys() if dic[k] == mx]\n",
    "        \n",
    "        "
   ]
  },
  {
   "cell_type": "markdown",
   "id": "80461f95",
   "metadata": {},
   "source": [
    "# 0510 Medium 510 Inorder Successor in BST II"
   ]
  },
  {
   "cell_type": "code",
   "execution_count": null,
   "id": "0b9315af",
   "metadata": {},
   "outputs": [],
   "source": [
    "\"\"\"\n",
    "Time: O(H), since we are just moving vertically in the tree.\n",
    "Space: O(1)\n",
    "\n",
    "First, check if the node has right child, if so, continue the traversal.\n",
    "If the node doesn't have right child, this mean that the node and all its children are visited.\n",
    "We need to move up.\n",
    "While moving up a node, if a node itself is a right child, we need to keep moving up, since the node's parent is already vistied.\n",
    "Keep moving up until the node itself is a left child. Return its parent.\n",
    "\"\"\"\n",
    "class Solution(object):\n",
    "    def inorderSuccessor(self, node):\n",
    "        if node.right:\n",
    "            node = node.right\n",
    "            while node.left:\n",
    "                node = node.left\n",
    "            return node\n",
    "        \n",
    "        while node.parent and node.parent.right==node:\n",
    "            node = node.parent\n",
    "        return node.parent"
   ]
  },
  {
   "cell_type": "markdown",
   "id": "9863db2e",
   "metadata": {},
   "source": [
    "# 0510 Medium 510 Inorder Successor in BST II"
   ]
  },
  {
   "cell_type": "code",
   "execution_count": null,
   "id": "8b151b17",
   "metadata": {},
   "outputs": [],
   "source": [
    "class Solution:\n",
    "    def inorderSuccessor(self, node: 'Node') -> 'Node':\n",
    "        if node.right:\n",
    "            node = node.right\n",
    "            while node.left:\n",
    "                node = node.left\n",
    "            return node\n",
    "        while node.parent and node.parent.left != node:\n",
    "            node = node.parent\n",
    "        return node.parent"
   ]
  },
  {
   "cell_type": "markdown",
   "id": "df240261",
   "metadata": {},
   "source": [
    "# 0513 Medium 513 Find Bottom Left Tree Value"
   ]
  },
  {
   "cell_type": "code",
   "execution_count": null,
   "id": "78104b3e",
   "metadata": {},
   "outputs": [],
   "source": [
    "# Time:  O(n)\n",
    "# Space: O(h)\n",
    "\n",
    "class Solution(object):\n",
    "    def findBottomLeftValue(self, root):\n",
    "        \"\"\"\n",
    "        :type root: TreeNode\n",
    "        :rtype: int\n",
    "        \"\"\"\n",
    "        def findBottomLeftValueHelper(root, curr_depth, max_depth, bottom_left_value):\n",
    "            if not root:\n",
    "                return max_depth, bottom_left_value\n",
    "            if not root.left and not root.right and curr_depth+1 > max_depth:\n",
    "                return curr_depth+1, root.val\n",
    "            max_depth, bottom_left_value = findBottomLeftValueHelper(root.left, curr_depth+1, max_depth, bottom_left_value)\n",
    "            max_depth, bottom_left_value = findBottomLeftValueHelper(root.right, curr_depth+1, max_depth, bottom_left_value)\n",
    "            return max_depth, bottom_left_value\n",
    "\n",
    "        result, max_depth = 0, 0\n",
    "        return findBottomLeftValueHelper(root, 0, max_depth, result)[1]\n",
    "\n",
    "\n",
    "# Time:  O(n)\n",
    "# Space: O()\n",
    "import collections\n",
    "\n",
    "\n",
    "class Solution2(object):\n",
    "    def findBottomLeftValue(self, root):\n",
    "        \"\"\"\n",
    "        :type root: TreeNode\n",
    "        :rtype: int\n",
    "        \"\"\"\n",
    "        last_node, q = None, collections.deque([root])\n",
    "        while q:\n",
    "            last_node = q.popleft()\n",
    "            q.extend([n for n in [last_node.right, last_node.left] if n])\n",
    "        return last_node.val"
   ]
  },
  {
   "cell_type": "markdown",
   "id": "99b918a9",
   "metadata": {},
   "source": [
    "# 0513 Medium 513 Find Bottom Left Tree Value"
   ]
  },
  {
   "cell_type": "code",
   "execution_count": null,
   "id": "4607b949",
   "metadata": {},
   "outputs": [],
   "source": [
    "# Definition for a binary tree node.\n",
    "# class TreeNode:\n",
    "#     def __init__(self, x):\n",
    "#         self.val = x\n",
    "#         self.left = None\n",
    "#         self.right = None\n",
    "\n",
    "class Solution:\n",
    "    def findBottomLeftValue(self, root: TreeNode) -> int:\n",
    "        bfs = [root]\n",
    "        while bfs:\n",
    "            left = bfs[0].val\n",
    "            bfs = [child for node in bfs for child in (node.left, node.right) if child]\n",
    "        return left"
   ]
  },
  {
   "cell_type": "markdown",
   "id": "eb4a1363",
   "metadata": {},
   "source": [
    "# 0515 Medium 515 Find Largest Value in Each Tree Row"
   ]
  },
  {
   "cell_type": "code",
   "execution_count": null,
   "id": "668ea1f8",
   "metadata": {},
   "outputs": [],
   "source": [
    "# Time:  O(n)\n",
    "# Space: O(h)\n",
    "\n",
    "class Solution(object):\n",
    "    def largestValues(self, root):\n",
    "        \"\"\"\n",
    "        :type root: TreeNode\n",
    "        :rtype: List[int]\n",
    "        \"\"\"\n",
    "        def largestValuesHelper(root, depth, result):\n",
    "            if not root:\n",
    "                return\n",
    "            if depth == len(result):\n",
    "                result.append(root.val)\n",
    "            else:\n",
    "                result[depth] = max(result[depth], root.val)\n",
    "            largestValuesHelper(root.left, depth+1, result)\n",
    "            largestValuesHelper(root.right, depth+1, result)\n",
    "\n",
    "        result = []\n",
    "        largestValuesHelper(root, 0, result)\n",
    "        return result\n",
    "\n",
    "\n",
    "# Time:  O(n)\n",
    "# Space: O(n)\n",
    "class Solution2(object):\n",
    "    def largestValues(self, root):\n",
    "        \"\"\"\n",
    "        :type root: TreeNode\n",
    "        :rtype: List[int]\n",
    "        \"\"\"\n",
    "        result = []\n",
    "        curr = [root]\n",
    "        while any(curr):\n",
    "            result.append(max(node.val for node in curr))\n",
    "            curr = [child for node in curr for child in (node.left, node.right) if child]\n",
    "        return result"
   ]
  },
  {
   "cell_type": "markdown",
   "id": "1f72411b",
   "metadata": {},
   "source": [
    "# 0515 Medium 515 Find Largest Value in Each Tree Row"
   ]
  },
  {
   "cell_type": "code",
   "execution_count": null,
   "id": "f702557a",
   "metadata": {},
   "outputs": [],
   "source": [
    "# Definition for a binary tree node.\n",
    "# class TreeNode:\n",
    "#     def __init__(self, x):\n",
    "#         self.val = x\n",
    "#         self.left = None\n",
    "#         self.right = None\n",
    "\n",
    "class Solution:\n",
    "    def largestValues(self, root):\n",
    "        \"\"\"\n",
    "        :type root: TreeNode\n",
    "        :rtype: List[int]\n",
    "        \"\"\"\n",
    "        from collections import deque\n",
    "        q, res, target = deque([root]) if root else None, [root.val] if root else [], root\n",
    "        while q:\n",
    "            node = q.popleft()\n",
    "            if node.left: q.append(node.left)\n",
    "            if node.right: q.append(node.right)\n",
    "            if node == target and q: \n",
    "                res.append(max([i.val for i in q]))\n",
    "                target = q[-1]\n",
    "        return res"
   ]
  },
  {
   "cell_type": "markdown",
   "id": "580a2ab1",
   "metadata": {},
   "source": [
    "# 0516 Medium 516 Longest Palindromic Subsequence"
   ]
  },
  {
   "cell_type": "code",
   "execution_count": null,
   "id": "6136be4b",
   "metadata": {},
   "outputs": [],
   "source": [
    "\"\"\"\n",
    "dp[i][j] := longest palindromic subsequence of s[i:j+1]\n",
    "\"\"\"\n",
    "class Solution(object):\n",
    "    def longestPalindromeSubseq(self, s):\n",
    "        N = len(s)\n",
    "\n",
    "        dp = [[0 for _ in xrange(N)] for _ in xrange(N)]\n",
    "        for i in xrange(N): dp[i][i] = 1\n",
    "\n",
    "        for l in xrange(2, N+1):\n",
    "            for i in xrange(N):\n",
    "                j = i+l-1\n",
    "                if j>=N: continue\n",
    "                dp[i][j] = dp[i+1][j-1]+2 if s[i]==s[j] else max(dp[i+1][j], dp[i][j-1])\n",
    "        \n",
    "        return dp[0][N-1]"
   ]
  },
  {
   "cell_type": "markdown",
   "id": "ad58fde2",
   "metadata": {},
   "source": [
    "# 0516 Medium 516 Longest Palindromic Subsequence"
   ]
  },
  {
   "cell_type": "code",
   "execution_count": null,
   "id": "abb39f54",
   "metadata": {},
   "outputs": [],
   "source": [
    "class Solution:\n",
    "    def longestPalindromeSubseq(self, s):\n",
    "        dp = [[0 for j in range(len(s))] for i in range(len(s))]\n",
    "        for i in range(len(s) - 1, -1, -1):\n",
    "            dp[i][i] = 1\n",
    "            for j in range(i + 1, len(s)):\n",
    "                dp[i][j] = dp[i + 1][j - 1] + 2 if s[i] == s[j] else max(dp[i + 1][j], dp[i][j - 1])\n",
    "        return dp[0][len(s) - 1]"
   ]
  },
  {
   "cell_type": "markdown",
   "id": "94788348",
   "metadata": {},
   "source": [
    "# 0518 Medium 518 Coin Change II"
   ]
  },
  {
   "cell_type": "code",
   "execution_count": null,
   "id": "85e0d12e",
   "metadata": {},
   "outputs": [],
   "source": [
    "class Solution:\n",
    "    def change(self, amount: int, coins: List[int]) -> int:\n",
    "        dp = [0]*(amount+1)\n",
    "        dp[0] = 1\n",
    "        \n",
    "        coins.sort()\n",
    "        \n",
    "        for coin in coins:\n",
    "            for a in range(1, amount+1):\n",
    "                if a-coin<0: continue\n",
    "                dp[a] += dp[a-coin]\n",
    "        return dp[-1]"
   ]
  },
  {
   "cell_type": "markdown",
   "id": "5bab09d1",
   "metadata": {},
   "source": [
    "# 0518 Medium 518 Coin Change II"
   ]
  },
  {
   "cell_type": "code",
   "execution_count": null,
   "id": "da39eed8",
   "metadata": {},
   "outputs": [],
   "source": [
    "class Solution(object):\n",
    "    def change(self, amount, coins):\n",
    "        dp = [1] + [0] * amount\n",
    "        for coin in coins:\n",
    "            for i in range(coin, amount + 1):\n",
    "                dp[i] += dp[i - coin]\n",
    "        return dp[-1]"
   ]
  },
  {
   "cell_type": "markdown",
   "id": "56554982",
   "metadata": {},
   "source": [
    "# 0519 Medium 519 Random Flip Matrix"
   ]
  },
  {
   "cell_type": "code",
   "execution_count": null,
   "id": "2a95cf9c",
   "metadata": {},
   "outputs": [],
   "source": [
    "# Time:  ctor:  O(1)\n",
    "#        flip:  O(1)\n",
    "#        reset: O(min(f, r * c))\n",
    "# Space: O(min(f, r * c))\n",
    "\n",
    "import random\n",
    "\n",
    "\n",
    "class Solution(object):\n",
    "\n",
    "    def __init__(self, n_rows, n_cols):\n",
    "        \"\"\"\n",
    "        :type n_rows: int\n",
    "        :type n_cols: int\n",
    "        \"\"\"\n",
    "        self.__n_rows = n_rows\n",
    "        self.__n_cols = n_cols\n",
    "        self.__n = n_rows*n_cols\n",
    "        self.__lookup = {}\n",
    "        \n",
    "\n",
    "    def flip(self):\n",
    "        \"\"\"\n",
    "        :rtype: List[int]\n",
    "        \"\"\"\n",
    "        self.__n -= 1\n",
    "        target = random.randint(0, self.__n)\n",
    "        x = self.__lookup.get(target, target)\n",
    "        self.__lookup[target] = self.__lookup.get(self.__n, self.__n)\n",
    "        return divmod(x, self.__n_cols)\n",
    "        \n",
    "\n",
    "    def reset(self):\n",
    "        \"\"\"\n",
    "        :rtype: void\n",
    "        \"\"\"\n",
    "        self.__n = self.__n_rows*self.__n_cols\n",
    "        self.__lookup = {}\n",
    "        "
   ]
  },
  {
   "cell_type": "markdown",
   "id": "01b5f054",
   "metadata": {},
   "source": [
    "# 0519 Medium 519 Random Flip Matrix"
   ]
  },
  {
   "cell_type": "code",
   "execution_count": null,
   "id": "f360798e",
   "metadata": {},
   "outputs": [],
   "source": [
    "class Solution:\n",
    "\n",
    "    def __init__(self, n_rows, n_cols):\n",
    "        self.rows, self.cols, self.used = n_rows, n_cols, set()\n",
    "        \n",
    "    def flip(self):\n",
    "        while True:\n",
    "            r, c = random.randint(1, self.rows), random.randint(1, self.cols)\n",
    "            if (r, c) not in self.used:\n",
    "                self.used.add((r, c))\n",
    "                return [r - 1, c - 1]\n",
    "            \n",
    "    def reset(self):\n",
    "        self.used = set()"
   ]
  },
  {
   "cell_type": "markdown",
   "id": "575ab3bf",
   "metadata": {},
   "source": [
    "# 0522 Medium 522 Longest Uncommon Subsequence II"
   ]
  },
  {
   "cell_type": "code",
   "execution_count": null,
   "id": "dc068a54",
   "metadata": {},
   "outputs": [],
   "source": [
    "# Time:  O(l * n^2)\n",
    "# Space: O(1)\n",
    "\n",
    "class Solution(object):\n",
    "    def findLUSlength(self, strs):\n",
    "        \"\"\"\n",
    "        :type strs: List[str]\n",
    "        :rtype: int\n",
    "        \"\"\"\n",
    "        def isSubsequence(a, b):\n",
    "            i = 0\n",
    "            for j in xrange(len(b)):\n",
    "                if i >= len(a):\n",
    "                    break\n",
    "                if a[i] == b[j]:\n",
    "                    i += 1\n",
    "            return i == len(a)\n",
    "\n",
    "        strs.sort(key=len, reverse=True)\n",
    "        for i in xrange(len(strs)):\n",
    "            all_of = True\n",
    "            for j in xrange(len(strs)):\n",
    "                if len(strs[j]) < len(strs[i]):\n",
    "                    break\n",
    "                if i != j and isSubsequence(strs[i], strs[j]):\n",
    "                    all_of = False\n",
    "                    break\n",
    "            if all_of:\n",
    "                return len(strs[i])\n",
    "        return -1"
   ]
  },
  {
   "cell_type": "markdown",
   "id": "e587e1f3",
   "metadata": {},
   "source": [
    "# 0522 Medium 522 Longest Uncommon Subsequence II"
   ]
  },
  {
   "cell_type": "code",
   "execution_count": null,
   "id": "d8b93d4c",
   "metadata": {},
   "outputs": [],
   "source": [
    "class Solution:\n",
    "    def findLUSlength(self, strs):\n",
    "        def find(s, t):\n",
    "            i = 0\n",
    "            for c in t:\n",
    "                if c == s[i]: i += 1\n",
    "                if i == len(s): return True\n",
    "            return False\n",
    "        for s in sorted(strs, key=len, reverse=True):\n",
    "            if sum(find(s, t) for t in strs) == 1: return len(s)\n",
    "        return -1"
   ]
  },
  {
   "cell_type": "markdown",
   "id": "b50937ba",
   "metadata": {},
   "source": [
    "# 0523 Medium 523 Continuous Subarray Sum"
   ]
  },
  {
   "cell_type": "code",
   "execution_count": null,
   "id": "eaa9cfb5",
   "metadata": {},
   "outputs": [],
   "source": [
    "class Solution(object):\n",
    "    def checkSubarraySum(self, nums, k):\n",
    "        prefixSumEndings = collections.defaultdict(list)\n",
    "        prefixSumEndings[0].append(-1)\n",
    "        \n",
    "        prefixSum = 0\n",
    "        for i, n in enumerate(nums):\n",
    "            prefixSum += n\n",
    "            \n",
    "            x = prefixSum/k\n",
    "            while x>=0:\n",
    "                p2 = prefixSum-k*x\n",
    "                if len(prefixSumEndings[p2])>0 and prefixSumEndings[p2][0]<i-1:\n",
    "                    return True\n",
    "                x -= 1\n",
    "            prefixSumEndings[prefixSum].append(i)\n",
    "        \n",
    "        return False\n",
    "\n",
    "class Solution(object):\n",
    "    def checkSubarraySum(self, nums, k):\n",
    "        if len(nums)==0 or len(nums)==1: return False\n",
    "        prefixSumKRemain = collections.defaultdict(list)\n",
    "        \n",
    "        prefixSum = 0\n",
    "        for i, n in enumerate(nums):\n",
    "            prefixSum += n\n",
    "            remain = prefixSum%k\n",
    "            \n",
    "            if prefixSum%k==0 and i>=1: return True\n",
    "            if len(prefixSumKRemain[remain])>0 and prefixSumKRemain[remain][0]<i-1:\n",
    "                return True\n",
    "            prefixSumKRemain[remain].append(i)\n",
    "            \n",
    "        return False"
   ]
  },
  {
   "cell_type": "markdown",
   "id": "b909d2d6",
   "metadata": {},
   "source": [
    "# 0523 Medium 523 Continuous Subarray Sum"
   ]
  },
  {
   "cell_type": "code",
   "execution_count": null,
   "id": "8aab0e99",
   "metadata": {},
   "outputs": [],
   "source": [
    "class Solution:\n",
    "    def checkSubarraySum(self, nums: List[int], k: int) -> bool:\n",
    "        # remeainders[0] = 0 is for when x == 0\n",
    "        remainders = dict()\n",
    "        remainders[0] = 0\n",
    "        pre_sum = 0\n",
    "\n",
    "        for idx, item in enumerate(nums):\n",
    "            pre_sum += item\n",
    "            remaind = pre_sum % k\n",
    "\n",
    "            # remainder doesnt exist then it has to be init\n",
    "            # if it exists, then check the prev one has the same remainder\n",
    "            if remaind not in remainders:\n",
    "                remainders[remaind] = idx + 1\n",
    "            elif remainders[remaind] < idx:\n",
    "                return True\n",
    "\n",
    "        return False\n",
    "    "
   ]
  },
  {
   "cell_type": "markdown",
   "id": "5dd56ba7",
   "metadata": {},
   "source": [
    "# 0523 Medium 523 Continuous Subarray Sum"
   ]
  },
  {
   "cell_type": "code",
   "execution_count": null,
   "id": "0bab8614",
   "metadata": {},
   "outputs": [],
   "source": [
    "class Solution:\n",
    "    def checkSubarraySum(self, nums, k):\n",
    "        if not k: return any(nums[i] == nums[i - 1] == 0 for i in range(1, len(nums)))\n",
    "        mods, sm = set(), 0\n",
    "        for i, num in enumerate(nums):\n",
    "            sm = (sm + num) % k\n",
    "            if (sm in mods and num or (i and not nums[i - 1])) or (not sm and i): return True\n",
    "            mods |= {sm}\n",
    "        return False"
   ]
  },
  {
   "cell_type": "markdown",
   "id": "ec9526ee",
   "metadata": {},
   "source": [
    "# 0524 Medium 524 Longest Word in Dictionary through Deleting"
   ]
  },
  {
   "cell_type": "code",
   "execution_count": null,
   "id": "e3b42944",
   "metadata": {},
   "outputs": [],
   "source": [
    "# Time:  O((d * l) * logd), l is the average length of words\n",
    "# Space: O(1)\n",
    "\n",
    "class Solution(object):\n",
    "    def findLongestWord(self, s, d):\n",
    "        \"\"\"\n",
    "        :type s: str\n",
    "        :type d: List[str]\n",
    "        :rtype: str\n",
    "        \"\"\"\n",
    "        d.sort(key = lambda x: (-len(x), x))\n",
    "        for word in d:\n",
    "            i = 0\n",
    "            for c in s:\n",
    "                if i < len(word) and word[i] == c:\n",
    "                    i += 1\n",
    "            if i == len(word):\n",
    "                return word\n",
    "        return \"\""
   ]
  },
  {
   "cell_type": "markdown",
   "id": "e6e2fb6f",
   "metadata": {},
   "source": [
    "# 0524 Medium 524 Longest Word in Dictionary through Deleting"
   ]
  },
  {
   "cell_type": "code",
   "execution_count": null,
   "id": "439193d8",
   "metadata": {},
   "outputs": [],
   "source": [
    "class Solution:\n",
    "    def findLongestWord(self, s, d):\n",
    "        d.sort(key = lambda x: (-len(x), x))\n",
    "        for w in d:\n",
    "            i = 0\n",
    "            for c in s:\n",
    "                if c == w[i]: i += 1\n",
    "                if i == len(w): return w\n",
    "        return \"\""
   ]
  },
  {
   "cell_type": "markdown",
   "id": "55779ae8",
   "metadata": {},
   "source": [
    "# 0525 Medium 525 Contiguous Array"
   ]
  },
  {
   "cell_type": "code",
   "execution_count": null,
   "id": "01b03f3d",
   "metadata": {},
   "outputs": [],
   "source": [
    "# Time:  O(n)\n",
    "# Space: O(n)\n",
    "\n",
    "class Solution(object):\n",
    "    def findMaxLength(self, nums):\n",
    "        \"\"\"\n",
    "        :type nums: List[int]\n",
    "        :rtype: int\n",
    "        \"\"\"\n",
    "        result, count = 0, 0\n",
    "        lookup = {0: -1}\n",
    "        for i, num in enumerate(nums):\n",
    "            count += 1 if num == 1 else -1\n",
    "            if count in lookup:\n",
    "                result = max(result, i - lookup[count])\n",
    "            else:\n",
    "                lookup[count] = i\n",
    "\n",
    "        return result"
   ]
  },
  {
   "cell_type": "markdown",
   "id": "dd0dd674",
   "metadata": {},
   "source": [
    "# 0525 Medium 525 Contiguous Array"
   ]
  },
  {
   "cell_type": "code",
   "execution_count": null,
   "id": "bb64ab1b",
   "metadata": {},
   "outputs": [],
   "source": [
    "class Solution:\n",
    "    def findMaxLength(self, nums: List[int]) -> int:\n",
    "        ind, res, sm = {0:-1}, 0, 0\n",
    "        for i, num in enumerate(nums):\n",
    "            sm += num and 1 or -1\n",
    "            if sm in ind:\n",
    "                res = max(res, i - ind[sm])\n",
    "            else:\n",
    "                ind[sm] = i\n",
    "        return res"
   ]
  },
  {
   "cell_type": "markdown",
   "id": "9c4b52fc",
   "metadata": {},
   "source": [
    "# 0526 Medium 526 Beautiful Arrangement"
   ]
  },
  {
   "cell_type": "code",
   "execution_count": null,
   "id": "bf04814c",
   "metadata": {},
   "outputs": [],
   "source": [
    "# Time:  O(n!)\n",
    "# Space: O(n)\n",
    "\n",
    "\n",
    "class Solution(object):\n",
    "    def countArrangement(self, N):\n",
    "        \"\"\"\n",
    "        :type N: int\n",
    "        :rtype: int\n",
    "        \"\"\"\n",
    "        def countArrangementHelper(n, arr):\n",
    "            if n <= 0:\n",
    "                return 1\n",
    "            count = 0\n",
    "            for i in xrange(n):\n",
    "                if arr[i] % n == 0 or n % arr[i] == 0:\n",
    "                    arr[i], arr[n-1] = arr[n-1], arr[i]\n",
    "                    count += countArrangementHelper(n - 1, arr)\n",
    "                    arr[i], arr[n-1] = arr[n-1], arr[i]\n",
    "            return count\n",
    "\n",
    "        return countArrangementHelper(N, range(1, N+1))"
   ]
  },
  {
   "cell_type": "markdown",
   "id": "b4bd5b58",
   "metadata": {},
   "source": [
    "# 0526 Medium 526 Beautiful Arrangement"
   ]
  },
  {
   "cell_type": "code",
   "execution_count": null,
   "id": "d023bb2f",
   "metadata": {},
   "outputs": [],
   "source": [
    "memo = {}\n",
    "class Solution:\n",
    "    def countArrangement(self, N, arr = None):\n",
    "        if not arr: arr = tuple(range(1, N + 1))\n",
    "        if (N, arr) in memo or N == 1: return N == 1 and 1 or memo[(N, arr)]\n",
    "        memo[(N, arr)] = sum([self.countArrangement(N-1, arr[:j]+arr[j + 1:]) for j in range(len(arr)) if arr[j]%N==0 or N%arr[j]==0])\n",
    "        return memo[(N, arr)]"
   ]
  },
  {
   "cell_type": "markdown",
   "id": "0b6bb1b9",
   "metadata": {},
   "source": [
    "# 0528 Medium 528 Random Pick with Weight"
   ]
  },
  {
   "cell_type": "code",
   "execution_count": null,
   "id": "01273ce9",
   "metadata": {},
   "outputs": [],
   "source": [
    "\"\"\"\n",
    "For W = [1,3,2,4] (total 10, 1+2+3+4)\n",
    "Think of a line _,___,__,____ ([1,4,6,10])\n",
    "Now we randomly throw a ball on the line the probability to land on the first section will be 1/10.\n",
    "the second section, 3/10.\n",
    "the third section, 2/10.\n",
    "the forth section, 4/10.\n",
    "\n",
    "Above is equivilant to we randomly pick a number [0~10) and see which section it is in.\n",
    "And since the cumulative probability in the \"line\" is strictly increasing, we can use binary search.\n",
    "\n",
    "Time: O(LogN), N is the number of W.\n",
    "Space: O(N).\n",
    "\"\"\"\n",
    "from random import randrange\n",
    "\n",
    "class Solution(object):\n",
    "\n",
    "    def __init__(self, W):\n",
    "        self.line = [] #cumulative probability distribution\n",
    "        self.total = 0\n",
    "        \n",
    "        for w in W:\n",
    "            self.total += w\n",
    "            self.line.append(self.total)\n",
    "\n",
    "    def pickIndex(self):\n",
    "        rand = random.randrange(self.total)\n",
    "        return bisect.bisect(self.line, rand)"
   ]
  },
  {
   "cell_type": "markdown",
   "id": "83183c9a",
   "metadata": {},
   "source": [
    "# 0528 Medium 528 Random Pick with Weight"
   ]
  },
  {
   "cell_type": "code",
   "execution_count": null,
   "id": "7a3b7ac1",
   "metadata": {},
   "outputs": [],
   "source": [
    "class Solution:\n",
    "\n",
    "    def __init__(self, w):\n",
    "        self.ranges, sm = [], 0\n",
    "        for weight in w:\n",
    "            self.ranges.append([sm, sm + weight])\n",
    "            sm += weight\n",
    "        self.mn, self.mx = 1, sm\n",
    "    def pickIndex(self):\n",
    "        num, l, r = random.randint(self.mn, self.mx), 0, len(self.ranges) - 1\n",
    "        while l <= r:\n",
    "            mid = (l + r) // 2\n",
    "            if self.ranges[mid][1] < num:\n",
    "                l = mid + 1\n",
    "            elif num <= self.ranges[mid][0]:\n",
    "                r = mid - 1\n",
    "            else:\n",
    "                return mid"
   ]
  },
  {
   "cell_type": "markdown",
   "id": "58c8c8f2",
   "metadata": {},
   "source": [
    "# 0529 Medium 529 Minesweeper"
   ]
  },
  {
   "cell_type": "code",
   "execution_count": null,
   "id": "f9248039",
   "metadata": {},
   "outputs": [],
   "source": [
    "# Time:  O(m * n)\n",
    "# Space: O(m + n)\n",
    "\n",
    "import collections\n",
    "\n",
    "\n",
    "class Solution(object):\n",
    "    def updateBoard(self, board, click):\n",
    "        \"\"\"\n",
    "        :type board: List[List[str]]\n",
    "        :type click: List[int]\n",
    "        :rtype: List[List[str]]\n",
    "        \"\"\"\n",
    "        q = collections.deque([click])\n",
    "        while q:\n",
    "            row, col = q.popleft()\n",
    "            if board[row][col] == 'M':\n",
    "                board[row][col] = 'X'\n",
    "            else:\n",
    "                count = 0\n",
    "                for i in xrange(-1, 2):\n",
    "                    for j in xrange(-1, 2):\n",
    "                        if i == 0 and j == 0:\n",
    "                            continue\n",
    "                        r, c = row + i, col + j\n",
    "                        if not (0 <= r < len(board)) or not (0 <= c < len(board[r])):\n",
    "                            continue\n",
    "                        if board[r][c] == 'M' or board[r][c] == 'X':\n",
    "                            count += 1\n",
    "\n",
    "                if count:\n",
    "                    board[row][col] = chr(count + ord('0'))\n",
    "                else:\n",
    "                    board[row][col] = 'B'\n",
    "                    for i in xrange(-1, 2):\n",
    "                        for j in xrange(-1, 2):\n",
    "                            if i == 0 and j == 0:\n",
    "                                continue\n",
    "                            r, c = row + i, col + j\n",
    "                            if not (0 <= r < len(board)) or not (0 <= c < len(board[r])):\n",
    "                                continue\n",
    "                            if board[r][c] == 'E':\n",
    "                                q.append((r, c))\n",
    "                                board[r][c] = ' '\n",
    "\n",
    "        return board\n",
    "\n",
    "\n",
    "# Time:  O(m * n)\n",
    "# Space: O(m * n)\n",
    "class Solution2(object):\n",
    "    def updateBoard(self, board, click):\n",
    "        \"\"\"\n",
    "        :type board: List[List[str]]\n",
    "        :type click: List[int]\n",
    "        :rtype: List[List[str]]\n",
    "        \"\"\"\n",
    "        row, col = click[0], click[1]\n",
    "        if board[row][col] == 'M':\n",
    "            board[row][col] = 'X'\n",
    "        else:\n",
    "            count = 0\n",
    "            for i in xrange(-1, 2):\n",
    "                for j in xrange(-1, 2):\n",
    "                    if i == 0 and j == 0:\n",
    "                        continue\n",
    "                    r, c = row + i, col + j\n",
    "                    if not (0 <= r < len(board)) or not (0 <= c < len(board[r])):\n",
    "                        continue\n",
    "                    if board[r][c] == 'M' or board[r][c] == 'X':\n",
    "                        count += 1\n",
    "\n",
    "            if count:\n",
    "                board[row][col] = chr(count + ord('0'))\n",
    "            else:\n",
    "                board[row][col] = 'B'\n",
    "                for i in xrange(-1, 2):\n",
    "                    for j in xrange(-1, 2):\n",
    "                        if i == 0 and j == 0:\n",
    "                            continue\n",
    "                        r, c = row + i, col + j\n",
    "                        if not (0 <= r < len(board)) or not (0 <= c < len(board[r])):\n",
    "                            continue\n",
    "                        if board[r][c] == 'E':\n",
    "                            self.updateBoard(board, (r, c))\n",
    "\n",
    "        return board"
   ]
  },
  {
   "cell_type": "markdown",
   "id": "11a6198f",
   "metadata": {},
   "source": [
    "# 0529 Medium 529 Minesweeper"
   ]
  },
  {
   "cell_type": "code",
   "execution_count": null,
   "id": "6265d3cd",
   "metadata": {},
   "outputs": [],
   "source": [
    "class Solution(object):\n",
    "    def updateBoard(self, board, click):\n",
    "        def explore(i, j):\n",
    "            visited.add((i, j))\n",
    "            if board[i][j] == \"M\": board[i][j] = \"X\"\n",
    "            else:\n",
    "                points = ((i - 1, j), (i + 1, j), (i, j - 1), (i, j + 1), (i - 1, j - 1), (i - 1, j + 1), (i + 1, j + 1), (i + 1, j - 1))\n",
    "                cnt, adj = 0, []\n",
    "                for p in points:\n",
    "                    if 0 <= p[0] < m and 0 <= p[1] < n:\n",
    "                        if board[p[0]][p[1]] == \"M\": cnt += 1\n",
    "                        elif p not in visited: adj += p,\n",
    "                if cnt == 0:\n",
    "                    board[i][j] = \"B\"\n",
    "                    for p in adj: explore(p[0], p[1])\n",
    "                else: board[i][j] = str(cnt)\n",
    "        m, n, visited = len(board), len(board and board[0]), set()\n",
    "        explore(click[0], click[1])\n",
    "        return board"
   ]
  },
  {
   "cell_type": "markdown",
   "id": "a9c74697",
   "metadata": {},
   "source": [
    "# 0531 Medium 531 Lonely Pixel I"
   ]
  },
  {
   "cell_type": "code",
   "execution_count": null,
   "id": "02e2fdef",
   "metadata": {},
   "outputs": [],
   "source": [
    "# Time:  O(m * n)\n",
    "# Space: O(m + n)\n",
    "\n",
    "class Solution(object):\n",
    "    def findLonelyPixel(self, picture):\n",
    "        \"\"\"\n",
    "        :type picture: List[List[str]]\n",
    "        :rtype: int\n",
    "        \"\"\"\n",
    "        rows, cols = [0] * len(picture),  [0] * len(picture[0])\n",
    "        for i in xrange(len(picture)):\n",
    "            for j in xrange(len(picture[0])):\n",
    "                if picture[i][j] == 'B':\n",
    "                    rows[i] += 1\n",
    "                    cols[j] += 1\n",
    "\n",
    "        result = 0\n",
    "        for i in xrange(len(picture)):\n",
    "            if rows[i] == 1:\n",
    "                for j in xrange(len(picture[0])):\n",
    "                     result += picture[i][j] == 'B' and cols[j] == 1\n",
    "        return result\n",
    "\n",
    "\n",
    "class Solution2(object):\n",
    "    def findLonelyPixel(self, picture):\n",
    "        \"\"\"\n",
    "        :type picture: List[List[str]]\n",
    "        :type N: int\n",
    "        :rtype: int\n",
    "        \"\"\"\n",
    "        return sum(col.count('B') == 1 == picture[col.index('B')].count('B') \\\n",
    "               for col in zip(*picture))"
   ]
  },
  {
   "cell_type": "markdown",
   "id": "a004b662",
   "metadata": {},
   "source": [
    "# 0531 Medium 531 Lonely Pixel I"
   ]
  },
  {
   "cell_type": "code",
   "execution_count": null,
   "id": "4d594615",
   "metadata": {},
   "outputs": [],
   "source": [
    "class Solution:\n",
    "    def findLonelyPixel(self, grid: List[List[str]]) -> int:\n",
    "        rows = collections.defaultdict(list)\n",
    "        cols = collections.defaultdict(list)\n",
    "        m, n = len(grid), len(grid[0])\n",
    "        for i in range(m):\n",
    "            for j in range(n):\n",
    "                if grid[i][j] == 'B':\n",
    "                    rows[i].append(j)\n",
    "                    cols[j].append(i)\n",
    "        res = 0\n",
    "        for i in range(m):\n",
    "            for j in range(n):\n",
    "                if grid[i][j] == 'B' and rows[i] == [j] and cols[j] == [i]:\n",
    "                    res += 1\n",
    "        return res"
   ]
  },
  {
   "cell_type": "markdown",
   "id": "e65bbbac",
   "metadata": {},
   "source": [
    "# 0532 Medium 532 K diff Pairs in an Array"
   ]
  },
  {
   "cell_type": "code",
   "execution_count": null,
   "id": "b70da3bb",
   "metadata": {},
   "outputs": [],
   "source": [
    "class Solution:\n",
    "    def findPairs(self, nums, k):\n",
    "        \"\"\"\n",
    "        :type nums: List[int]\n",
    "        :type k: int\n",
    "        :rtype: int\n",
    "        \"\"\"\n",
    "        dic, pair = {}, 0\n",
    "        for num in nums:\n",
    "            if (num-k in dic or num+k in dic) and (not num in dic or (k==0 and dic[num]==1)) and k>=0: \n",
    "                if num-k in dic and k!=0: pair+=1\n",
    "                if num+k in dic: pair+=1 \n",
    "                if num in dic: dic[num]+=1; continue\n",
    "            if num in dic: continue\n",
    "            dic[num]=1\n",
    "        return pair"
   ]
  },
  {
   "cell_type": "markdown",
   "id": "2c4e3e05",
   "metadata": {},
   "source": [
    "# 0533 Medium 533 Lonely Pixel II"
   ]
  },
  {
   "cell_type": "code",
   "execution_count": null,
   "id": "c268a5e9",
   "metadata": {},
   "outputs": [],
   "source": [
    "# Time:  O(m * n)\n",
    "# Space: O(m * n)\n",
    "\n",
    "import collections\n",
    "\n",
    "\n",
    "class Solution(object):\n",
    "    def findBlackPixel(self, picture, N):\n",
    "        \"\"\"\n",
    "        :type picture: List[List[str]]\n",
    "        :type N: int\n",
    "        :rtype: int\n",
    "        \"\"\"\n",
    "        rows, cols = [0] * len(picture),  [0] * len(picture[0])\n",
    "        lookup = collections.defaultdict(int)\n",
    "        for i in xrange(len(picture)):\n",
    "            for j in xrange(len(picture[0])):\n",
    "                if picture[i][j] == 'B':\n",
    "                    rows[i] += 1\n",
    "                    cols[j] += 1\n",
    "            lookup[tuple(picture[i])] += 1\n",
    "\n",
    "        result = 0\n",
    "        for i in xrange(len(picture)):\n",
    "            if rows[i] == N and lookup[tuple(picture[i])] == N:\n",
    "                for j in xrange(len(picture[0])):\n",
    "                     result += picture[i][j] == 'B' and cols[j] == N\n",
    "        return result\n",
    "\n",
    "\n",
    "class Solution2(object):\n",
    "    def findBlackPixel(self, picture, N):\n",
    "        \"\"\"\n",
    "        :type picture: List[List[str]]\n",
    "        :type N: int\n",
    "        :rtype: int\n",
    "        \"\"\"\n",
    "        lookup = collections.Counter(map(tuple, picture))\n",
    "        cols = [col.count('B') for col in zip(*picture)]\n",
    "        return sum(N * zip(row, cols).count(('B', N)) \\\n",
    "                   for row, cnt in lookup.iteritems() \\\n",
    "                   if cnt == N == row.count('B'))"
   ]
  },
  {
   "cell_type": "markdown",
   "id": "034b657e",
   "metadata": {},
   "source": [
    "# 0533 Medium 533 Lonely Pixel II"
   ]
  },
  {
   "cell_type": "code",
   "execution_count": null,
   "id": "0d76e96b",
   "metadata": {},
   "outputs": [],
   "source": [
    "class Solution:\n",
    "    def findBlackPixel(self, picture, N):\n",
    "        m, n, res = len(picture), len(picture[0]), 0\n",
    "        for row in picture:\n",
    "            r_cnt = row.count(\"B\")\n",
    "            if r_cnt != N:\n",
    "                continue\n",
    "            for j in range(n):\n",
    "                if row[j] == \"B\":\n",
    "                    col_cnt = same = 0\n",
    "                    for i in range(m):\n",
    "                        if picture[i][j] == \"B\":\n",
    "                            col_cnt += 1\n",
    "                            if picture[i] == row:\n",
    "                                same += 1 \n",
    "                            else:\n",
    "                                break\n",
    "                    if r_cnt == col_cnt == same:\n",
    "                        res += 1\n",
    "        return res"
   ]
  },
  {
   "cell_type": "markdown",
   "id": "38b9c010",
   "metadata": {},
   "source": [
    "# 0535 Medium 535 Encode and Decode TinyURL"
   ]
  },
  {
   "cell_type": "code",
   "execution_count": null,
   "id": "1c24031b",
   "metadata": {},
   "outputs": [],
   "source": [
    "# Time:  O(1)\n",
    "# Space: O(n)\n",
    "\n",
    "import random\n",
    "\n",
    "\n",
    "class Codec(object):\n",
    "    def __init__(self):\n",
    "        self.__random_length = 6\n",
    "        self.__tiny_url = \"http://tinyurl.com/\"\n",
    "        self.__alphabet = \"0123456789abcdefghijklmnopqrstuvwxyzABCDEFGHIJKLMNOPQRSTUVWXYZ\"\n",
    "        self.__lookup = {}\n",
    "\n",
    "    def encode(self, longUrl):\n",
    "        \"\"\"Encodes a URL to a shortened URL.\n",
    "\n",
    "        :type longUrl: str\n",
    "        :rtype: str\n",
    "        \"\"\"\n",
    "        def getRand():\n",
    "            rand = []\n",
    "            for _ in xrange(self.__random_length):\n",
    "                rand += self.__alphabet[random.randint(0, len(self.__alphabet)-1)]\n",
    "            return \"\".join(rand)\n",
    "\n",
    "        key = getRand()\n",
    "        while key in self.__lookup:\n",
    "            key = getRand()\n",
    "        self.__lookup[key] = longUrl\n",
    "        return self.__tiny_url + key\n",
    "\n",
    "    def decode(self, shortUrl):\n",
    "        \"\"\"Decodes a shortened URL to its original URL.\n",
    "\n",
    "        :type shortUrl: str\n",
    "        :rtype: str\n",
    "        \"\"\"\n",
    "        return self.__lookup[shortUrl[len(self.__tiny_url):]]\n",
    "\n",
    "\n",
    "from hashlib import sha256\n",
    "\n",
    "\n",
    "class Codec2(object):\n",
    "\n",
    "    def __init__(self):\n",
    "        self._cache = {}\n",
    "        self.url = 'http://tinyurl.com/'\n",
    "\n",
    "    def encode(self, long_url):\n",
    "        \"\"\"Encodes a URL to a shortened URL.\n",
    "\n",
    "        :type long_url: str\n",
    "        :rtype: str\n",
    "        \"\"\"\n",
    "        key = sha256(long_url.encode()).hexdigest()[:6]\n",
    "        self._cache[key] = long_url\n",
    "        return self.url + key\n",
    "\n",
    "    def decode(self, short_url):\n",
    "        \"\"\"Decodes a shortened URL to its original URL.\n",
    "\n",
    "        :type short_url: str\n",
    "        :rtype: str\n",
    "        \"\"\"\n",
    "        key = short_url.replace(self.url, '')\n",
    "        return self._cache[key]"
   ]
  },
  {
   "cell_type": "markdown",
   "id": "dc4fb032",
   "metadata": {},
   "source": [
    "# 0535 Medium 535 Encode and Decode TinyURL"
   ]
  },
  {
   "cell_type": "code",
   "execution_count": null,
   "id": "aed377f0",
   "metadata": {},
   "outputs": [],
   "source": [
    "class Codec:\n",
    "\n",
    "    def encode(self, longUrl): return longUrl\n",
    "    def decode(self, shortUrl): return shortUrl\n",
    "# Your Codec object will be instantiated and called as such:\n",
    "# codec = Codec()\n",
    "# codec.decode(codec.encode(url))"
   ]
  },
  {
   "cell_type": "markdown",
   "id": "da56469e",
   "metadata": {},
   "source": [
    "# 0536 Medium 536 Construct Binary Tree from String"
   ]
  },
  {
   "cell_type": "code",
   "execution_count": null,
   "id": "07272b57",
   "metadata": {},
   "outputs": [],
   "source": [
    "# Time:  O(n)\n",
    "# Space: O(h)\n",
    "\n",
    "class TreeNode(object):\n",
    "    def __init__(self, x):\n",
    "        self.val = x\n",
    "        self.left = None\n",
    "        self.right = None\n",
    "\n",
    "class Solution(object):\n",
    "    def str2tree(self, s):\n",
    "        \"\"\"\n",
    "        :type s: str\n",
    "        :rtype: TreeNode\n",
    "        \"\"\"\n",
    "        def str2treeHelper(s, i):\n",
    "            start = i\n",
    "            if s[i] == '-': i += 1\n",
    "            while i < len(s) and s[i].isdigit(): i += 1\n",
    "            node = TreeNode(int(s[start:i]))\n",
    "            if i < len(s) and s[i] == '(':\n",
    "                i += 1\n",
    "                node.left, i = str2treeHelper(s, i)\n",
    "                i += 1\n",
    "            if i < len(s) and s[i] == '(':\n",
    "                i += 1\n",
    "                node.right, i = str2treeHelper(s, i)\n",
    "                i += 1\n",
    "            return node, i\n",
    "\n",
    "        return str2treeHelper(s, 0)[0] if s else None"
   ]
  },
  {
   "cell_type": "markdown",
   "id": "b7e9ff23",
   "metadata": {},
   "source": [
    "# 0536 Medium 536 Construct Binary Tree from String"
   ]
  },
  {
   "cell_type": "code",
   "execution_count": null,
   "id": "2ee361d4",
   "metadata": {},
   "outputs": [],
   "source": [
    "# Definition for a binary tree node.\n",
    "# class TreeNode:\n",
    "#     def __init__(self, x):\n",
    "#         self.val = x\n",
    "#         self.left = None\n",
    "#         self.right = None\n",
    "\n",
    "class Solution:\n",
    "    def str2tree(self, s):\n",
    "        stack, cur = [], \"\"\n",
    "        for i, c in enumerate(s):\n",
    "            if c.isnumeric() or c == \"-\":\n",
    "                cur += c\n",
    "            elif not cur:\n",
    "                if c == \")\":\n",
    "                    stack.pop()\n",
    "            else:\n",
    "                node = TreeNode(int(cur))\n",
    "                if stack:\n",
    "                    if not stack[-1].left:\n",
    "                        stack[-1].left = node\n",
    "                    else:\n",
    "                        stack[-1].right = node\n",
    "                cur = \"\"\n",
    "                if c == \"(\":\n",
    "                    stack.append(node)\n",
    "        return stack and stack[0] or (cur and TreeNode(int(cur))) or []"
   ]
  },
  {
   "cell_type": "markdown",
   "id": "10c9c776",
   "metadata": {},
   "source": [
    "# 0537 Medium 537 Complex Number Multiplication"
   ]
  },
  {
   "cell_type": "code",
   "execution_count": null,
   "id": "ac1169a3",
   "metadata": {},
   "outputs": [],
   "source": [
    "# Time:  O(1)\n",
    "# Space: O(1)\n",
    "\n",
    "class Solution(object):\n",
    "    def complexNumberMultiply(self, a, b):\n",
    "        \"\"\"\n",
    "        :type a: str\n",
    "        :type b: str\n",
    "        :rtype: str\n",
    "        \"\"\"\n",
    "        ra, ia = map(int, a[:-1].split('+'))\n",
    "        rb, ib = map(int, b[:-1].split('+'))\n",
    "        return '%d+%di' % (ra * rb - ia * ib, ra * ib + ia * rb)"
   ]
  },
  {
   "cell_type": "markdown",
   "id": "227cfbd0",
   "metadata": {},
   "source": [
    "# 0537 Medium 537 Complex Number Multiplication"
   ]
  },
  {
   "cell_type": "code",
   "execution_count": null,
   "id": "bbdbcfa5",
   "metadata": {},
   "outputs": [],
   "source": [
    "class Solution:\n",
    "    def complexNumberMultiply(self, a, b):\n",
    "        \"\"\"\n",
    "        :type a: str\n",
    "        :type b: str\n",
    "        :rtype: str\n",
    "        \"\"\"\n",
    "        re, im = 0, 0\n",
    "        re_a, im_a = list(map(int,a[:-1].split(\"+\")))\n",
    "        re_b, im_b = list(map(int,b[:-1].split(\"+\")))\n",
    "        re += re_a * re_b - im_a * im_b\n",
    "        im += re_a * im_b + re_b *im_a\n",
    "        return str(re)+\"+\"+str(im)+\"i\""
   ]
  },
  {
   "cell_type": "markdown",
   "id": "c8751b4e",
   "metadata": {},
   "source": [
    "# 0538 Medium 538 Convert BST to Greater Tree"
   ]
  },
  {
   "cell_type": "code",
   "execution_count": null,
   "id": "1b45f44d",
   "metadata": {},
   "outputs": [],
   "source": [
    "# Time:  O(n)\n",
    "# Space: O(h)\n",
    "\n",
    "class Solution(object):\n",
    "    def convertBST(self, root):\n",
    "        \"\"\"\n",
    "        :type root: TreeNode\n",
    "        :rtype: TreeNode\n",
    "        \"\"\"\n",
    "        def convertBSTHelper(root, cur_sum):\n",
    "            if not root:\n",
    "                return cur_sum\n",
    "\n",
    "            if root.right:\n",
    "                cur_sum = convertBSTHelper(root.right, cur_sum)\n",
    "            cur_sum += root.val\n",
    "            root.val = cur_sum\n",
    "            if root.left:\n",
    "                cur_sum = convertBSTHelper(root.left, cur_sum)\n",
    "            return cur_sum\n",
    "\n",
    "        convertBSTHelper(root, 0)\n",
    "        return root"
   ]
  },
  {
   "cell_type": "markdown",
   "id": "3ae7fb68",
   "metadata": {},
   "source": [
    "# 0538 Medium 538 Convert BST to Greater Tree"
   ]
  },
  {
   "cell_type": "code",
   "execution_count": null,
   "id": "648f1746",
   "metadata": {},
   "outputs": [],
   "source": [
    "class Solution(object):\n",
    "    # https://leetcode.com/problems/convert-bst-to-greater-tree/solution/\n",
    "    # def __init__(self):\n",
    "    #     self.total = 0\n",
    "\n",
    "    # def convertBST(self, root):\n",
    "    #     if root is not None:\n",
    "    #         self.convertBST(root.right)\n",
    "    #         self.total += root.val\n",
    "    #         root.val = self.total\n",
    "    #         self.convertBST(root.left)\n",
    "    #     return root\n",
    "\n",
    "    def convertBST(self, root):\n",
    "        total = 0\n",
    "        \n",
    "        node = root\n",
    "        stack = []\n",
    "        while stack or node is not None:\n",
    "            # push all nodes up to (and including) this subtree's maximum on\n",
    "            # the stack.\n",
    "            while node is not None:\n",
    "                stack.append(node)\n",
    "                node = node.right\n",
    "\n",
    "            node = stack.pop()\n",
    "            total += node.val\n",
    "            node.val = total\n",
    "\n",
    "            # all nodes with values between the current and its parent lie in\n",
    "            # the left subtree.\n",
    "            node = node.left\n",
    "\n",
    "        return root"
   ]
  },
  {
   "cell_type": "markdown",
   "id": "9f1e321c",
   "metadata": {},
   "source": [
    "# 0538 Medium 538 Convert BST to Greater Tree"
   ]
  },
  {
   "cell_type": "code",
   "execution_count": null,
   "id": "b3971f91",
   "metadata": {},
   "outputs": [],
   "source": [
    "# Definition for a binary tree node.\n",
    "# class TreeNode:\n",
    "#     def __init__(self, x):\n",
    "#         self.val = x\n",
    "#         self.left = None\n",
    "#         self.right = None\n",
    "\n",
    "class Solution:\n",
    "    def convertBST(self, root):\n",
    "        \"\"\"\n",
    "        :type root: TreeNode\n",
    "        :rtype: TreeNode\n",
    "        \"\"\"\n",
    "        def traverse(node):\n",
    "            if not node: return\n",
    "            traverse(node.right)\n",
    "            node.val = residue[0] = node.val + residue[0]\n",
    "            traverse(node.left)\n",
    "            return node\n",
    "        residue = [0]\n",
    "        return traverse(root)"
   ]
  },
  {
   "cell_type": "markdown",
   "id": "07419921",
   "metadata": {},
   "source": [
    "# 0539 Medium 539 Minimum Time Difference"
   ]
  },
  {
   "cell_type": "code",
   "execution_count": null,
   "id": "618fe6ae",
   "metadata": {},
   "outputs": [],
   "source": [
    "\"\"\"\n",
    "Time: O(1440)\n",
    "Space: O(1440)\n",
    "\"\"\"\n",
    "class Solution(object):\n",
    "    def findMinDifference(self, timeStrings):\n",
    "        def timeStringToMinutes(timeString):\n",
    "            time = timeString.split(':')\n",
    "            h = int(time[0])\n",
    "            m = int(time[1])\n",
    "            return h*60+m\n",
    "        \n",
    "        ans = float('inf')\n",
    "        minTime = float('inf')\n",
    "        maxTime = float('-inf')\n",
    "        timeSet = set()\n",
    "        for timeString in timeStrings:\n",
    "            t = timeStringToMinutes(timeString)\n",
    "            if t in timeSet: return 0\n",
    "            minTime = min(minTime, t)\n",
    "            maxTime = max(maxTime, t)\n",
    "            timeSet.add(t)\n",
    "        \n",
    "        \n",
    "        prev = None\n",
    "        for t in xrange(minTime, maxTime+1):\n",
    "            if t not in timeSet: continue\n",
    "            if prev!=None: ans = min(ans, t-prev)\n",
    "            prev = t\n",
    "        \n",
    "        ans = min(ans, 1440+minTime-maxTime) #compare minTime and maxTime\n",
    "        return ans"
   ]
  },
  {
   "cell_type": "markdown",
   "id": "3efa302a",
   "metadata": {},
   "source": [
    "# 0539 Medium 539 Minimum Time Difference"
   ]
  },
  {
   "cell_type": "code",
   "execution_count": null,
   "id": "7d84793d",
   "metadata": {},
   "outputs": [],
   "source": [
    "class Solution:\n",
    "    def findMinDifference(self, tp):\n",
    "        def getMinute(t): \n",
    "            h , m = t.split(\":\")\n",
    "            return int(h) * 60 + int(m)\n",
    "        tp = sorted(map(getMinute, tp))\n",
    "        mn = sys.maxsize\n",
    "        for i in range(len(tp) - 1): \n",
    "            mn = min(mn, tp[i + 1] - tp[i])\n",
    "            if mn == 0: return 0\n",
    "        return min(mn, 1440 + tp[0] - tp[-1])"
   ]
  },
  {
   "cell_type": "markdown",
   "id": "930c004f",
   "metadata": {},
   "source": [
    "# 0540 Medium 540 Single Element in a Sorted Array"
   ]
  },
  {
   "cell_type": "code",
   "execution_count": null,
   "id": "10ba5afd",
   "metadata": {},
   "outputs": [],
   "source": [
    "# Time:  O(logn)\n",
    "# Space: O(1)\n",
    "\n",
    "class Solution(object):\n",
    "    def singleNonDuplicate(self, nums):\n",
    "        \"\"\"\n",
    "        :type nums: List[int]\n",
    "        :rtype: int\n",
    "        \"\"\"\n",
    "        left, right = 0, len(nums)-1\n",
    "        while left <= right:\n",
    "            mid = left + (right - left) / 2\n",
    "            if not (mid%2 == 0 and mid+1 < len(nums) and \\\n",
    "                    nums[mid] == nums[mid+1]) and \\\n",
    "               not (mid%2 == 1 and nums[mid] == nums[mid-1]):\n",
    "                right = mid-1\n",
    "            else:\n",
    "                left = mid+1\n",
    "        return nums[left]"
   ]
  },
  {
   "cell_type": "markdown",
   "id": "405fa276",
   "metadata": {},
   "source": [
    "# 0540 Medium 540 Single Element in a Sorted Array"
   ]
  },
  {
   "cell_type": "code",
   "execution_count": null,
   "id": "c215b53f",
   "metadata": {},
   "outputs": [],
   "source": [
    "class Solution:\n",
    "    def singleNonDuplicate(self, nums):\n",
    "        \"\"\"\n",
    "        :type nums: List[int]\n",
    "        :rtype: int\n",
    "        \"\"\"\n",
    "        left, right = 0, len(nums)-1\n",
    "        while left<=right:\n",
    "            mid = (left+right)//2\n",
    "            if mid+1<len(nums) and nums[mid] == nums[mid+1]:\n",
    "                if mid % 2 == 0: left = mid+2\n",
    "                else: right = mid-1\n",
    "            elif mid-1>=0 and nums[mid] == nums[mid-1]:\n",
    "                if mid % 2 == 0: right = mid-2\n",
    "                else: left = mid+1\n",
    "            else: return nums[mid]\n",
    "                "
   ]
  },
  {
   "cell_type": "markdown",
   "id": "0b809b8e",
   "metadata": {},
   "source": [
    "# 0542 Medium 542 01 Matrix"
   ]
  },
  {
   "cell_type": "code",
   "execution_count": null,
   "id": "decba747",
   "metadata": {},
   "outputs": [],
   "source": [
    "\"\"\"\n",
    "First, set the distance to 0 when `i` and `j` in the `matrix` is 0. [0]\n",
    "\n",
    "Second, when an `(i, j)` in the `opt` is 0, its neighbor's distance is 0+1, so\n",
    "we set all the `i` and `j` in the `opt` where its distance is 1.\n",
    "then set all the `i` and `j` in the `opt` where its distance is 2.\n",
    "then set all the `i` and `j` in the `opt` where its distance is 3.\n",
    "then set all the `i` and `j` in the `opt` where its distance is 4.\n",
    "...\n",
    "\n",
    "the `count` is the number of distance that we found.\n",
    "While we haven't find all the answer, we keep on doing above operation. [1]\n",
    "\n",
    "The time comlexity is `O(N^2)`, **N is the number of element in the 2D matrix**.\n",
    "The space complexity is `O(N)`, where we store the `opt`.\n",
    "\"\"\"\n",
    "class Solution(object):\n",
    "    def updateMatrix(self, matrix):\n",
    "        def setDistance(i, j, dis):\n",
    "            if i<0 or i>=M: return False\n",
    "            if j<0 or j>=N: return False\n",
    "            if opt[i][j]!=-1: return False #opt[i][j]==-1 means the value is set already, skip.\n",
    "            opt[i][j] = dis\n",
    "            return True\n",
    "\n",
    "        M, N = len(matrix), len(matrix[0])\n",
    "        opt = [[-1]*N for _ in xrange(M)]\n",
    "        dis = 0\n",
    "        count = 0\n",
    "\n",
    "        #[0]\n",
    "        for i in xrange(M):\n",
    "            for j in xrange(N):\n",
    "                if matrix[i][j]==0:\n",
    "                    count+=1\n",
    "                    opt[i][j] = 0\n",
    "\n",
    "        while count<M*N:\n",
    "            for i in xrange(M):\n",
    "                for j in xrange(N):\n",
    "                    if opt[i][j]==dis:\n",
    "                        if setDistance(i+1, j, dis+1): count+=1\n",
    "                        if setDistance(i-1, j, dis+1): count+=1\n",
    "                        if setDistance(i, j+1, dis+1): count+=1\n",
    "                        if setDistance(i, j-1, dis+1): count+=1\n",
    "            dis+=1\n",
    "        return opt\n",
    "\n",
    "\"\"\"\n",
    "Standard BFS\n",
    "The same idea, but use BFS to implement.\n",
    "The time complexity is `O(N)`, **N is the number of element in the 2D matrix**.\n",
    "The space complexity is `O(N)`, where we store the `opt`.\n",
    "\"\"\"\n",
    "class Solution(object):\n",
    "    def updateMatrix(self, matrix):\n",
    "        M, N = len(matrix), len(matrix[0])\n",
    "        opt = [[-1]*N for _ in xrange(M)]\n",
    "        q = collections.deque([])\n",
    "\n",
    "        for i in xrange(M):\n",
    "            for j in xrange(N):\n",
    "                if matrix[i][j]==0:\n",
    "                    q.append((i, j, 0))\n",
    "\n",
    "        while q:\n",
    "            i, j, dis = q.popleft()\n",
    "            if i<0 or i>=M: continue\n",
    "            if j<0 or j>=N: continue\n",
    "            if opt[i][j]!=-1: continue\n",
    "            opt[i][j] = dis\n",
    "\n",
    "            for ni, nj in [(i+1, j), (i-1, j), (i, j+1), (i, j-1)]:\n",
    "                q.append((ni, nj, dis+1))\n",
    "\n",
    "        return opt"
   ]
  },
  {
   "cell_type": "markdown",
   "id": "e433f3e4",
   "metadata": {},
   "source": [
    "# 0542 Medium 542 01 Matrix"
   ]
  },
  {
   "cell_type": "code",
   "execution_count": null,
   "id": "057e47d1",
   "metadata": {},
   "outputs": [],
   "source": [
    "class Solution:\n",
    "    def updateMatrix(self, matrix):\n",
    "        m, n = len(matrix), len(matrix and matrix[0])\n",
    "        for i in range(m):\n",
    "            for j in range(n):\n",
    "                if matrix[i][j] != 0:\n",
    "                    matrix[i][j] = float(\"inf\")\n",
    "                    if i > 0 and matrix[i - 1][j] + 1 < matrix[i][j]:\n",
    "                        matrix[i][j] = matrix[i - 1][j] + 1\n",
    "                    if j > 0 and matrix[i][j - 1] + 1 < matrix[i][j]:\n",
    "                        matrix[i][j] = matrix[i][j - 1] + 1\n",
    "        for i in range(m - 1, -1, -1):\n",
    "            for j in range(n - 1, -1, -1):\n",
    "                if matrix[i][j] != 0:\n",
    "                    if i + 1 < m and matrix[i + 1][j] + 1 < matrix[i][j]:\n",
    "                        matrix[i][j] = matrix[i + 1][j] + 1\n",
    "                    if j + 1 < n and matrix[i][j + 1] + 1 < matrix[i][j]:\n",
    "                        matrix[i][j] = matrix[i][j + 1] + 1\n",
    "        return matrix"
   ]
  },
  {
   "cell_type": "markdown",
   "id": "6720f689",
   "metadata": {},
   "source": [
    "# 0544 Medium 544 Output Contest Matches"
   ]
  },
  {
   "cell_type": "code",
   "execution_count": null,
   "id": "c33b56b6",
   "metadata": {},
   "outputs": [],
   "source": [
    "# Time:  O(n)\n",
    "# Space: O(n)\n",
    "\n",
    "class Solution(object):\n",
    "    def findContestMatch(self, n):\n",
    "        \"\"\"\n",
    "        :type n: int\n",
    "        :rtype: str\n",
    "        \"\"\"\n",
    "        matches = map(str, range(1, n+1))\n",
    "        while len(matches)/2:\n",
    "            matches = [\"({},{})\".format(matches[i], matches[-i-1]) for i in xrange(len(matches)/2)]\n",
    "        return matches[0]"
   ]
  },
  {
   "cell_type": "markdown",
   "id": "3b1add80",
   "metadata": {},
   "source": [
    "# 0544 Medium 544 Output Contest Matches"
   ]
  },
  {
   "cell_type": "code",
   "execution_count": null,
   "id": "2417309e",
   "metadata": {},
   "outputs": [],
   "source": [
    "class Solution:\n",
    "    def findContestMatch(self, n):\n",
    "        arr = [str(i) for i in range(1, n + 1)]\n",
    "        while len(arr) > 1: arr = [\"(\" + arr[i] + \",\" + arr[len(arr) - 1 - i] + \")\" for i in range(len(arr) // 2)]\n",
    "        return \",\".join(arr)    "
   ]
  }
 ],
 "metadata": {},
 "nbformat": 4,
 "nbformat_minor": 5
}
